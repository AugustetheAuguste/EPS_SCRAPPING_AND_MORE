{
 "cells": [
  {
   "cell_type": "code",
   "execution_count": 1,
   "metadata": {},
   "outputs": [
    {
     "name": "stdout",
     "output_type": "stream",
     "text": [
      "Requirement already satisfied: torch in c:\\users\\adoye\\appdata\\local\\programs\\python\\python310\\lib\\site-packages (2.2.2)\n",
      "Requirement already satisfied: torchvision in c:\\users\\adoye\\appdata\\local\\programs\\python\\python310\\lib\\site-packages (0.17.2)\n",
      "Requirement already satisfied: filelock in c:\\users\\adoye\\appdata\\local\\programs\\python\\python310\\lib\\site-packages (from torch) (3.13.1)\n",
      "Requirement already satisfied: typing-extensions>=4.8.0 in c:\\users\\adoye\\appdata\\local\\programs\\python\\python310\\lib\\site-packages (from torch) (4.9.0)\n",
      "Requirement already satisfied: sympy in c:\\users\\adoye\\appdata\\local\\programs\\python\\python310\\lib\\site-packages (from torch) (1.12)\n",
      "Requirement already satisfied: networkx in c:\\users\\adoye\\appdata\\local\\programs\\python\\python310\\lib\\site-packages (from torch) (3.2.1)\n",
      "Requirement already satisfied: jinja2 in c:\\users\\adoye\\appdata\\local\\programs\\python\\python310\\lib\\site-packages (from torch) (3.1.3)\n",
      "Requirement already satisfied: fsspec in c:\\users\\adoye\\appdata\\local\\programs\\python\\python310\\lib\\site-packages (from torch) (2023.12.2)\n",
      "Requirement already satisfied: numpy in c:\\users\\adoye\\appdata\\local\\programs\\python\\python310\\lib\\site-packages (from torchvision) (1.26.3)\n",
      "Requirement already satisfied: pillow!=8.3.*,>=5.3.0 in c:\\users\\adoye\\appdata\\local\\programs\\python\\python310\\lib\\site-packages (from torchvision) (10.2.0)\n",
      "Requirement already satisfied: MarkupSafe>=2.0 in c:\\users\\adoye\\appdata\\local\\programs\\python\\python310\\lib\\site-packages (from jinja2->torch) (2.1.3)\n",
      "Requirement already satisfied: mpmath>=0.19 in c:\\users\\adoye\\appdata\\local\\programs\\python\\python310\\lib\\site-packages (from sympy->torch) (1.3.0)\n",
      "Note: you may need to restart the kernel to use updated packages.\n"
     ]
    }
   ],
   "source": [
    "%pip install torch torchvision"
   ]
  },
  {
   "cell_type": "code",
   "execution_count": 2,
   "metadata": {},
   "outputs": [
    {
     "name": "stderr",
     "output_type": "stream",
     "text": [
      "c:\\Users\\adoye\\AppData\\Local\\Programs\\Python\\Python310\\lib\\site-packages\\tqdm\\auto.py:21: TqdmWarning: IProgress not found. Please update jupyter and ipywidgets. See https://ipywidgets.readthedocs.io/en/stable/user_install.html\n",
      "  from .autonotebook import tqdm as notebook_tqdm\n",
      "c:\\Users\\adoye\\AppData\\Local\\Programs\\Python\\Python310\\lib\\site-packages\\transformers\\utils\\generic.py:441: UserWarning: torch.utils._pytree._register_pytree_node is deprecated. Please use torch.utils._pytree.register_pytree_node instead.\n",
      "  _torch_pytree._register_pytree_node(\n",
      "c:\\Users\\adoye\\AppData\\Local\\Programs\\Python\\Python310\\lib\\site-packages\\torchvision\\models\\_utils.py:208: UserWarning: The parameter 'pretrained' is deprecated since 0.13 and may be removed in the future, please use 'weights' instead.\n",
      "  warnings.warn(\n",
      "c:\\Users\\adoye\\AppData\\Local\\Programs\\Python\\Python310\\lib\\site-packages\\torchvision\\models\\_utils.py:223: UserWarning: Arguments other than a weight enum or `None` for 'weights' are deprecated since 0.13 and may be removed in the future. The current behavior is equivalent to passing `weights=ResNet18_Weights.IMAGENET1K_V1`. You can also use `weights=ResNet18_Weights.DEFAULT` to get the most up-to-date weights.\n",
      "  warnings.warn(msg)\n"
     ]
    }
   ],
   "source": [
    "import os\n",
    "import shutil\n",
    "from torchvision import transforms, models\n",
    "from PIL import Image\n",
    "import torch\n",
    "# Function to load the model\n",
    "def load_model(model_path):\n",
    "    # Initialize the model architecture\n",
    "    model = models.resnet18(pretrained=True)\n",
    "    \n",
    "    # Adjust the final layer for 2 output classes\n",
    "    num_features = model.fc.in_features\n",
    "    model.fc = torch.nn.Linear(num_features, 2)\n",
    "\n",
    "    # Load the state dictionary\n",
    "    state_dict = torch.load(model_path, map_location=torch.device('cpu'))\n",
    "    model.load_state_dict(state_dict)\n",
    "    \n",
    "    model.eval()  # Set the model to evaluation mode\n",
    "    return model\n",
    "\n",
    "# Function to predict the class of the image\n",
    "def predict_image(image_path, model):\n",
    "    # Define the image transformations\n",
    "    transform = transforms.Compose([\n",
    "        transforms.Resize((224, 224)),  # Resize the image to 224x224 pixels\n",
    "        transforms.ToTensor(),  # Convert the image to a PyTorch tensor\n",
    "        transforms.Normalize(mean=[0.485, 0.456, 0.406], std=[0.229, 0.224, 0.225]),  # Normalize the image\n",
    "    ])\n",
    "\n",
    "    image = Image.open(image_path)  # Load the image\n",
    "    image = transform(image)  # Apply the transformations\n",
    "    image = image.unsqueeze(0)  # Add a batch dimension\n",
    "\n",
    "    with torch.no_grad():  # No need to calculate gradients\n",
    "        output = model(image)  # Make prediction\n",
    "        _, predicted = torch.max(output, 1)  # Get the predicted class\n",
    "\n",
    "    return predicted.item()\n",
    "\n",
    "# Load your model\n",
    "model_path = 'Auguste_Classifier.pth'\n",
    "model = load_model(model_path)"
   ]
  },
  {
   "cell_type": "code",
   "execution_count": 3,
   "metadata": {},
   "outputs": [],
   "source": [
    "\n",
    "# Directory containing images\n",
    "source_dir = 'TO_BE_SORTED'  # Replace with your source directory path\n",
    "\n",
    "# Output directories for classified images\n",
    "class_0_dir = 'NOT_AUGUSTE'  # Replace with the path where you want class 0 images\n",
    "class_1_dir = 'AUGUSTE'  # Replace with the path where you want class 1 images\n",
    "\n",
    "# Create directories if they don't exist\n",
    "os.makedirs(class_0_dir, exist_ok=True)\n",
    "os.makedirs(class_1_dir, exist_ok=True)"
   ]
  },
  {
   "cell_type": "code",
   "execution_count": 5,
   "metadata": {},
   "outputs": [
    {
     "name": "stdout",
     "output_type": "stream",
     "text": [
      "Moved Voyage BDS Jour1 (004).jpg to NOT_AUGUSTE\n",
      "Moved Voyage BDS Jour1 (005).jpg to NOT_AUGUSTE\n",
      "Moved Voyage BDS Jour1 (008).jpg to NOT_AUGUSTE\n",
      "Moved Voyage BDS Jour1 (009).jpg to NOT_AUGUSTE\n",
      "Moved Voyage BDS Jour1 (010).jpg to NOT_AUGUSTE\n",
      "Moved Voyage BDS Jour1 (011).jpg to NOT_AUGUSTE\n",
      "Moved Voyage BDS Jour1 (012).jpg to NOT_AUGUSTE\n",
      "Moved Voyage BDS Jour1 (013).jpg to NOT_AUGUSTE\n",
      "Moved Voyage BDS Jour1 (014).jpg to NOT_AUGUSTE\n",
      "Moved Voyage BDS Jour1 (015).jpg to NOT_AUGUSTE\n",
      "Moved Voyage BDS Jour1 (020).jpg to NOT_AUGUSTE\n",
      "Moved Voyage BDS Jour1 (023).jpg to NOT_AUGUSTE\n",
      "Moved Voyage BDS Jour1 (035).jpg to NOT_AUGUSTE\n",
      "Moved Voyage BDS Jour1 (036).jpg to NOT_AUGUSTE\n",
      "Moved Voyage BDS Jour1 (038).jpg to NOT_AUGUSTE\n",
      "Moved Voyage BDS Jour1 (039).jpg to AUGUSTE\n",
      "Moved Voyage BDS Jour1 (054).jpg to NOT_AUGUSTE\n",
      "Moved Voyage BDS Jour1 (055).jpg to NOT_AUGUSTE\n",
      "Moved Voyage BDS Jour1 (077).jpg to NOT_AUGUSTE\n",
      "Moved Voyage BDS Jour1 (111).jpg to AUGUSTE\n",
      "Moved Voyage BDS Jour1 (120).jpg to NOT_AUGUSTE\n",
      "Moved Voyage BDS Jour1 (163).jpg to NOT_AUGUSTE\n",
      "Moved Voyage BDS Jour1 (166).jpg to NOT_AUGUSTE\n",
      "Moved Voyage BDS Jour1 (167) (1).jpg to NOT_AUGUSTE\n",
      "Moved Voyage BDS Jour1 (169).jpg to AUGUSTE\n",
      "Moved Voyage BDS Jour1 (170).jpg to NOT_AUGUSTE\n",
      "Moved Voyage BDS Jour1 (176).jpg to NOT_AUGUSTE\n",
      "Moved Voyage BDS Jour1 (178).jpg to NOT_AUGUSTE\n",
      "Moved Voyage BDS Jour1 (199).jpg to AUGUSTE\n",
      "Moved Voyage BDS Jour2 (009).jpg to NOT_AUGUSTE\n",
      "Moved Voyage BDS Jour2 (020).jpg to NOT_AUGUSTE\n",
      "Moved Voyage BDS Jour2 (060).jpg to NOT_AUGUSTE\n",
      "Moved Voyage BDS Jour2 (061).jpg to AUGUSTE\n",
      "Moved Voyage BDS Jour2 (063).jpg to NOT_AUGUSTE\n",
      "Moved Voyage BDS Jour2 (064).jpg to AUGUSTE\n",
      "Moved Voyage BDS Jour2 (067).jpg to NOT_AUGUSTE\n",
      "Moved Voyage BDS Jour2 (088).jpg to NOT_AUGUSTE\n",
      "Moved Voyage BDS Jour2 (091).jpg to NOT_AUGUSTE\n",
      "Moved Voyage BDS Jour2 (093).jpg to NOT_AUGUSTE\n",
      "Moved Voyage BDS Jour2 (117).jpg to AUGUSTE\n",
      "Moved Voyage BDS Jour2 (153).jpg to NOT_AUGUSTE\n",
      "Moved Voyage BDS Jour2 (161).jpg to NOT_AUGUSTE\n",
      "Moved Voyage BDS Jour2 (172).jpg to AUGUSTE\n",
      "Moved Voyage BDS Jour2 (286).jpg to NOT_AUGUSTE\n",
      "Moved Voyage BDS Jour2 (287).jpg to NOT_AUGUSTE\n",
      "Moved Voyage BDS Jour2 (294).jpg to AUGUSTE\n",
      "Moved Voyage BDS Jour2 (305).jpg to NOT_AUGUSTE\n",
      "Moved Voyage BDS Jour3 (043).jpg to NOT_AUGUSTE\n",
      "Moved Voyage BDS Jour3 (075).jpg to AUGUSTE\n",
      "Moved Voyage BDS Jour3 (087).jpg to NOT_AUGUSTE\n",
      "Moved Voyage BDS Jour3 (100).jpg to NOT_AUGUSTE\n",
      "Moved Voyage BDS Jour3 (129).jpg to NOT_AUGUSTE\n"
     ]
    }
   ],
   "source": [
    "\n",
    "# Process each image in the directory\n",
    "for filename in os.listdir(source_dir):\n",
    "    if filename.lower().endswith(('.png', '.jpg', '.jpeg')):  # Check for image files\n",
    "        image_path = os.path.join(source_dir, filename)\n",
    "        predicted_class = predict_image(image_path, model)\n",
    "        target_dir = class_0_dir if predicted_class == 0 else class_1_dir\n",
    "        shutil.move(image_path, os.path.join(target_dir, filename))\n",
    "        print(f'Moved {filename} to {target_dir}')"
   ]
  },
  {
   "cell_type": "code",
   "execution_count": null,
   "metadata": {},
   "outputs": [],
   "source": []
  }
 ],
 "metadata": {
  "kernelspec": {
   "display_name": "Python 3",
   "language": "python",
   "name": "python3"
  },
  "language_info": {
   "codemirror_mode": {
    "name": "ipython",
    "version": 3
   },
   "file_extension": ".py",
   "mimetype": "text/x-python",
   "name": "python",
   "nbconvert_exporter": "python",
   "pygments_lexer": "ipython3",
   "version": "3.10.9"
  }
 },
 "nbformat": 4,
 "nbformat_minor": 2
}
