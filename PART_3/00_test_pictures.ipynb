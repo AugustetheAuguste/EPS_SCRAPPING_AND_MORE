{
 "cells": [
  {
   "cell_type": "code",
   "execution_count": 8,
   "metadata": {},
   "outputs": [
    {
     "name": "stdout",
     "output_type": "stream",
     "text": [
      "tensor([0])\n"
     ]
    }
   ],
   "source": [
    "# utils.py\n",
    "import matplotlib.pyplot as plt\n",
    "import mediapipe as mp\n",
    "from PIL import Image\n",
    "import numpy as np\n",
    "import torch\n",
    "from transformers import ResNetForImageClassification\n",
    "from torchvision import transforms\n",
    "\n",
    "class ImageWithFaces:\n",
    "    def __init__(self, image_path):\n",
    "        self.image_path = image_path\n",
    "        self.faces = []\n",
    "\n",
    "def init_resnet():\n",
    "    model_path = 'final_model_resnet_50.pt'\n",
    "    state_dict = torch.load(model_path, map_location=torch.device('cpu'))\n",
    "    model = ResNetForImageClassification.from_pretrained(\"microsoft/resnet-50\")\n",
    "    model.classifier[1] = torch.nn.Linear(in_features=2048, out_features=2, bias=True)\n",
    "    model.load_state_dict(state_dict)\n",
    "    model.eval()\n",
    "    preprocess = transforms.Compose([\n",
    "        transforms.ToTensor(),\n",
    "        transforms.Normalize(mean=[0.485, 0.456, 0.406], std=[0.229, 0.224, 0.225])\n",
    "    ])\n",
    "    return model, preprocess\n",
    "\n",
    "\n",
    "def classify_faces(face, model, preprocess):\n",
    "    face_image = Image.fromarray(face)\n",
    "    input_tensor = preprocess(face_image)\n",
    "    input_batch = input_tensor.unsqueeze(0)\n",
    "    with torch.no_grad():\n",
    "        output = model(input_batch)\n",
    "    _, predicted_class = torch.max(output.logits, 1)\n",
    "    return predicted_class\n",
    "\n",
    "\n",
    "def predict_faces_from_image(image_path):\n",
    "    model, preprocess = init_resnet()\n",
    "    images = plt.imread(image_path)\n",
    "    return classify_faces(images, model, preprocess)\n",
    "    \n",
    "\n",
    "# Example usage:\n",
    "predictions = predict_faces_from_image('face_4.jpg')\n",
    "print(predictions)\n"
   ]
  },
  {
   "cell_type": "code",
   "execution_count": null,
   "metadata": {},
   "outputs": [],
   "source": []
  }
 ],
 "metadata": {
  "kernelspec": {
   "display_name": "Python 3",
   "language": "python",
   "name": "python3"
  },
  "language_info": {
   "codemirror_mode": {
    "name": "ipython",
    "version": 3
   },
   "file_extension": ".py",
   "mimetype": "text/x-python",
   "name": "python",
   "nbconvert_exporter": "python",
   "pygments_lexer": "ipython3",
   "version": "3.10.9"
  }
 },
 "nbformat": 4,
 "nbformat_minor": 2
}
