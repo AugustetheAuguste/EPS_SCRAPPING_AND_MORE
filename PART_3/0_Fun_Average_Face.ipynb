{
 "cells": [
  {
   "cell_type": "code",
   "execution_count": 1,
   "metadata": {},
   "outputs": [],
   "source": [
    "import os\n",
    "from PIL import Image\n",
    "from numpy import asarray\n",
    "from mtcnn.mtcnn import MTCNN\n",
    "import matplotlib.pyplot as plt\n",
    "from tqdm import tqdm"
   ]
  },
  {
   "cell_type": "code",
   "execution_count": 3,
   "metadata": {},
   "outputs": [],
   "source": [
    "import os\n",
    "from PIL import Image\n",
    "import numpy as np\n",
    "\n",
    "def calculate_average_image(folder_path):\n",
    "    # Get all image file names in the folder\n",
    "    images = [os.path.join(folder_path, file) for file in os.listdir(folder_path) if file.endswith(('png', 'jpg', 'jpeg'))]\n",
    "    if not images:\n",
    "        print(\"No images found in the folder.\")\n",
    "        return\n",
    "\n",
    "    # Initialize an array to accumulate pixel values\n",
    "    sum_image = None\n",
    "    count = 0\n",
    "\n",
    "    for image_path in images:\n",
    "        try:\n",
    "            # Open image and convert it to RGB\n",
    "            with Image.open(image_path) as img:\n",
    "                img = img.convert('RGB')\n",
    "                \n",
    "                # Convert image to a numpy array\n",
    "                img_array = np.array(img, dtype=np.float32)\n",
    "                \n",
    "                # Accumulate pixel values\n",
    "                if sum_image is None:\n",
    "                    sum_image = img_array\n",
    "                else:\n",
    "                    sum_image += img_array\n",
    "                \n",
    "                count += 1\n",
    "                \n",
    "        except Exception as e:\n",
    "            print(f\"Error processing {image_path}: {e}\")\n",
    "            continue\n",
    "\n",
    "    # Calculate average\n",
    "    average_image = (sum_image / count).astype(np.uint8)\n",
    "    \n",
    "    # Convert numpy array back to image\n",
    "    result_image = Image.fromarray(average_image, 'RGB')\n",
    "    result_image.show()\n",
    "\n",
    "# Replace 'your_folder_path' with the path to your image folder\n",
    "folder_path = r\"Transformed_Datasets\\NOT_Auguste_Cropped_224\"\n",
    "calculate_average_image(folder_path)\n"
   ]
  }
 ],
 "metadata": {
  "kernelspec": {
   "display_name": "Python 3",
   "language": "python",
   "name": "python3"
  },
  "language_info": {
   "codemirror_mode": {
    "name": "ipython",
    "version": 3
   },
   "file_extension": ".py",
   "mimetype": "text/x-python",
   "name": "python",
   "nbconvert_exporter": "python",
   "pygments_lexer": "ipython3",
   "version": "3.10.9"
  }
 },
 "nbformat": 4,
 "nbformat_minor": 2
}
