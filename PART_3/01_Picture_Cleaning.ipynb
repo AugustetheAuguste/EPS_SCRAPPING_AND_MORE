{
 "cells": [
  {
   "cell_type": "code",
   "execution_count": 1,
   "metadata": {},
   "outputs": [
    {
     "name": "stdout",
     "output_type": "stream",
     "text": [
      "Requirement already satisfied: Pillow in c:\\users\\adoye\\appdata\\local\\programs\\python\\python310\\lib\\site-packages (10.2.0)\n",
      "Note: you may need to restart the kernel to use updated packages.\n"
     ]
    }
   ],
   "source": [
    "%pip install Pillow"
   ]
  },
  {
   "cell_type": "code",
   "execution_count": 2,
   "metadata": {},
   "outputs": [
    {
     "name": "stdout",
     "output_type": "stream",
     "text": [
      "Removed duplicate: Transformed_Datasets\\NOT_Auguste_Cropped_224\\extracted_face_0 (1137).jpg_0.png\n",
      "Removed duplicate: Transformed_Datasets\\NOT_Auguste_Cropped_224\\extracted_face_0 (1143).jpg_0.png\n",
      "Removed duplicate: Transformed_Datasets\\NOT_Auguste_Cropped_224\\extracted_face_0 (116).jpg_0.png\n",
      "Removed duplicate: Transformed_Datasets\\NOT_Auguste_Cropped_224\\extracted_face_0 (1167).jpg_0.png\n",
      "Removed duplicate: Transformed_Datasets\\NOT_Auguste_Cropped_224\\extracted_face_0 (1171).jpg_0.png\n",
      "Removed duplicate: Transformed_Datasets\\NOT_Auguste_Cropped_224\\extracted_face_0 (118).jpg_0.png\n",
      "Removed duplicate: Transformed_Datasets\\NOT_Auguste_Cropped_224\\extracted_face_0 (119).jpg_0.png\n",
      "Removed duplicate: Transformed_Datasets\\NOT_Auguste_Cropped_224\\extracted_face_0 (120).jpg_0.png\n",
      "Removed duplicate: Transformed_Datasets\\NOT_Auguste_Cropped_224\\extracted_face_0 (1247).jpg_0.png\n",
      "Removed duplicate: Transformed_Datasets\\NOT_Auguste_Cropped_224\\extracted_face_0 (1259).jpg_0.png\n",
      "Removed duplicate: Transformed_Datasets\\NOT_Auguste_Cropped_224\\extracted_face_0 (1264).jpg_0.png\n",
      "Removed duplicate: Transformed_Datasets\\NOT_Auguste_Cropped_224\\extracted_face_0 (127).jpg_0.png\n",
      "Removed duplicate: Transformed_Datasets\\NOT_Auguste_Cropped_224\\extracted_face_0 (1279).jpg_0.png\n",
      "Removed duplicate: Transformed_Datasets\\NOT_Auguste_Cropped_224\\extracted_face_0 (1282).jpg_0.png\n",
      "Removed duplicate: Transformed_Datasets\\NOT_Auguste_Cropped_224\\extracted_face_0 (1283).jpg_0.png\n",
      "Removed duplicate: Transformed_Datasets\\NOT_Auguste_Cropped_224\\extracted_face_0 (129).jpg_0.png\n",
      "Removed duplicate: Transformed_Datasets\\NOT_Auguste_Cropped_224\\extracted_face_0 (1294).jpg_0.png\n",
      "Removed duplicate: Transformed_Datasets\\NOT_Auguste_Cropped_224\\extracted_face_0 (13).jpg_0.png\n",
      "Removed duplicate: Transformed_Datasets\\NOT_Auguste_Cropped_224\\extracted_face_0 (1314).jpg_0.png\n",
      "Removed duplicate: Transformed_Datasets\\NOT_Auguste_Cropped_224\\extracted_face_0 (1318).jpg_0.png\n",
      "Removed duplicate: Transformed_Datasets\\NOT_Auguste_Cropped_224\\extracted_face_0 (132).jpg_0.png\n",
      "Removed duplicate: Transformed_Datasets\\NOT_Auguste_Cropped_224\\extracted_face_0 (1322).jpg_0.png\n",
      "Removed duplicate: Transformed_Datasets\\NOT_Auguste_Cropped_224\\extracted_face_0 (1327).jpg_0.png\n",
      "Removed duplicate: Transformed_Datasets\\NOT_Auguste_Cropped_224\\extracted_face_0 (1330).jpg_0.png\n",
      "Removed duplicate: Transformed_Datasets\\NOT_Auguste_Cropped_224\\extracted_face_0 (1340).jpg_0.png\n",
      "Removed duplicate: Transformed_Datasets\\NOT_Auguste_Cropped_224\\extracted_face_0 (1345).jpg_0.png\n",
      "Removed duplicate: Transformed_Datasets\\NOT_Auguste_Cropped_224\\extracted_face_0 (1348).jpg_0.png\n",
      "Removed duplicate: Transformed_Datasets\\NOT_Auguste_Cropped_224\\extracted_face_0 (135).jpg_0.png\n",
      "Removed duplicate: Transformed_Datasets\\NOT_Auguste_Cropped_224\\extracted_face_0 (1354).jpg_0.png\n",
      "Removed duplicate: Transformed_Datasets\\NOT_Auguste_Cropped_224\\extracted_face_0 (137).jpg_0.png\n",
      "Removed duplicate: Transformed_Datasets\\NOT_Auguste_Cropped_224\\extracted_face_0 (139).jpg_0.png\n",
      "Removed duplicate: Transformed_Datasets\\NOT_Auguste_Cropped_224\\extracted_face_0 (1395).jpg_0.png\n",
      "Removed duplicate: Transformed_Datasets\\NOT_Auguste_Cropped_224\\extracted_face_0 (14).jpg_0.png\n",
      "Removed duplicate: Transformed_Datasets\\NOT_Auguste_Cropped_224\\extracted_face_0 (140).jpg_0.png\n",
      "Removed duplicate: Transformed_Datasets\\NOT_Auguste_Cropped_224\\extracted_face_0 (1408).jpg_0.png\n",
      "Removed duplicate: Transformed_Datasets\\NOT_Auguste_Cropped_224\\extracted_face_0 (141).jpg_0.png\n",
      "Removed duplicate: Transformed_Datasets\\NOT_Auguste_Cropped_224\\extracted_face_0 (142).jpg_0.png\n",
      "Removed duplicate: Transformed_Datasets\\NOT_Auguste_Cropped_224\\extracted_face_0 (1449).jpg_0.png\n",
      "Removed duplicate: Transformed_Datasets\\NOT_Auguste_Cropped_224\\extracted_face_0 (145).jpg_0.png\n",
      "Removed duplicate: Transformed_Datasets\\NOT_Auguste_Cropped_224\\extracted_face_0 (1460).jpg_0.png\n",
      "Removed duplicate: Transformed_Datasets\\NOT_Auguste_Cropped_224\\extracted_face_0 (1466).jpg_0.png\n",
      "Removed duplicate: Transformed_Datasets\\NOT_Auguste_Cropped_224\\extracted_face_0 (1467).jpg_0.png\n",
      "Removed duplicate: Transformed_Datasets\\NOT_Auguste_Cropped_224\\extracted_face_0 (1469).jpg_0.png\n",
      "Removed duplicate: Transformed_Datasets\\NOT_Auguste_Cropped_224\\extracted_face_0 (147).jpg_0.png\n",
      "Removed duplicate: Transformed_Datasets\\NOT_Auguste_Cropped_224\\extracted_face_0 (1470).jpg_0.png\n",
      "Removed duplicate: Transformed_Datasets\\NOT_Auguste_Cropped_224\\extracted_face_0 (1473).jpg_0.png\n",
      "Removed duplicate: Transformed_Datasets\\NOT_Auguste_Cropped_224\\extracted_face_0 (1474).jpg_0.png\n",
      "Removed duplicate: Transformed_Datasets\\NOT_Auguste_Cropped_224\\extracted_face_0 (1478).jpg_0.png\n",
      "Removed duplicate: Transformed_Datasets\\NOT_Auguste_Cropped_224\\extracted_face_0 (148).jpg_0.png\n",
      "Removed duplicate: Transformed_Datasets\\NOT_Auguste_Cropped_224\\extracted_face_0 (1480).jpg_0.png\n",
      "Removed duplicate: Transformed_Datasets\\NOT_Auguste_Cropped_224\\extracted_face_0 (1483).jpg_0.png\n",
      "Removed duplicate: Transformed_Datasets\\NOT_Auguste_Cropped_224\\extracted_face_0 (1487).jpg_0.png\n",
      "Removed duplicate: Transformed_Datasets\\NOT_Auguste_Cropped_224\\extracted_face_0 (1488).jpg_0.png\n",
      "Removed duplicate: Transformed_Datasets\\NOT_Auguste_Cropped_224\\extracted_face_0 (1489).jpg_0.png\n",
      "Removed duplicate: Transformed_Datasets\\NOT_Auguste_Cropped_224\\extracted_face_0 (149).jpg_0.png\n",
      "Removed duplicate: Transformed_Datasets\\NOT_Auguste_Cropped_224\\extracted_face_0 (1492).jpg_0.png\n",
      "Removed duplicate: Transformed_Datasets\\NOT_Auguste_Cropped_224\\extracted_face_0 (1493).jpg_0.png\n",
      "Removed duplicate: Transformed_Datasets\\NOT_Auguste_Cropped_224\\extracted_face_0 (1495).jpg_0.png\n",
      "Removed duplicate: Transformed_Datasets\\NOT_Auguste_Cropped_224\\extracted_face_0 (1496).jpg_0.png\n",
      "Removed duplicate: Transformed_Datasets\\NOT_Auguste_Cropped_224\\extracted_face_0 (1503).jpg_0.png\n",
      "Removed duplicate: Transformed_Datasets\\NOT_Auguste_Cropped_224\\extracted_face_0 (1507).jpg_0.png\n",
      "Removed duplicate: Transformed_Datasets\\NOT_Auguste_Cropped_224\\extracted_face_0 (1509).jpg_0.png\n",
      "Removed duplicate: Transformed_Datasets\\NOT_Auguste_Cropped_224\\extracted_face_0 (1509).jpg_1.png\n",
      "Removed duplicate: Transformed_Datasets\\NOT_Auguste_Cropped_224\\extracted_face_0 (1509).jpg_2.png\n",
      "Removed duplicate: Transformed_Datasets\\NOT_Auguste_Cropped_224\\extracted_face_0 (1510).JPG_0.png\n",
      "Removed duplicate: Transformed_Datasets\\NOT_Auguste_Cropped_224\\extracted_face_0 (1512).jpg_0.png\n",
      "Removed duplicate: Transformed_Datasets\\NOT_Auguste_Cropped_224\\extracted_face_0 (1513).jpg_0.png\n",
      "Removed duplicate: Transformed_Datasets\\NOT_Auguste_Cropped_224\\extracted_face_0 (1514).jpg_0.png\n",
      "Removed duplicate: Transformed_Datasets\\NOT_Auguste_Cropped_224\\extracted_face_0 (152).jpg_0.png\n",
      "Removed duplicate: Transformed_Datasets\\NOT_Auguste_Cropped_224\\extracted_face_0 (1521).jpg_0.png\n",
      "Removed duplicate: Transformed_Datasets\\NOT_Auguste_Cropped_224\\extracted_face_0 (1522).jpg_0.png\n",
      "Removed duplicate: Transformed_Datasets\\NOT_Auguste_Cropped_224\\extracted_face_0 (1523).jpg_0.png\n",
      "Removed duplicate: Transformed_Datasets\\NOT_Auguste_Cropped_224\\extracted_face_0 (1524).jpg_0.png\n",
      "Removed duplicate: Transformed_Datasets\\NOT_Auguste_Cropped_224\\extracted_face_0 (1525).jpg_0.png\n",
      "Removed duplicate: Transformed_Datasets\\NOT_Auguste_Cropped_224\\extracted_face_0 (1526).jpg_0.png\n",
      "Removed duplicate: Transformed_Datasets\\NOT_Auguste_Cropped_224\\extracted_face_0 (1526).jpg_1.png\n",
      "Removed duplicate: Transformed_Datasets\\NOT_Auguste_Cropped_224\\extracted_face_0 (1528).jpg_0.png\n",
      "Removed duplicate: Transformed_Datasets\\NOT_Auguste_Cropped_224\\extracted_face_0 (1529).jpg_0.png\n",
      "Removed duplicate: Transformed_Datasets\\NOT_Auguste_Cropped_224\\extracted_face_0 (153).jpg_0.png\n",
      "Removed duplicate: Transformed_Datasets\\NOT_Auguste_Cropped_224\\extracted_face_0 (1530).jpg_0.png\n",
      "Removed duplicate: Transformed_Datasets\\NOT_Auguste_Cropped_224\\extracted_face_0 (1531).jpg_0.png\n",
      "Removed duplicate: Transformed_Datasets\\NOT_Auguste_Cropped_224\\extracted_face_0 (1532).jpg_0.png\n",
      "Removed duplicate: Transformed_Datasets\\NOT_Auguste_Cropped_224\\extracted_face_0 (1533).jpg_0.png\n",
      "Removed duplicate: Transformed_Datasets\\NOT_Auguste_Cropped_224\\extracted_face_0 (1534).jpg_0.png\n",
      "Removed duplicate: Transformed_Datasets\\NOT_Auguste_Cropped_224\\extracted_face_0 (1536).jpg_0.png\n",
      "Removed duplicate: Transformed_Datasets\\NOT_Auguste_Cropped_224\\extracted_face_0 (1537).jpg_0.png\n",
      "Removed duplicate: Transformed_Datasets\\NOT_Auguste_Cropped_224\\extracted_face_0 (1538).jpg_0.png\n",
      "Removed duplicate: Transformed_Datasets\\NOT_Auguste_Cropped_224\\extracted_face_0 (154).jpg_0.png\n",
      "Removed duplicate: Transformed_Datasets\\NOT_Auguste_Cropped_224\\extracted_face_0 (1542).jpg_0.png\n",
      "Removed duplicate: Transformed_Datasets\\NOT_Auguste_Cropped_224\\extracted_face_0 (1546).JPG_0.png\n",
      "Removed duplicate: Transformed_Datasets\\NOT_Auguste_Cropped_224\\extracted_face_0 (1548).jpg_0.png\n",
      "Removed duplicate: Transformed_Datasets\\NOT_Auguste_Cropped_224\\extracted_face_0 (155).jpg_0.png\n",
      "Removed duplicate: Transformed_Datasets\\NOT_Auguste_Cropped_224\\extracted_face_0 (1550).jpg_0.png\n",
      "Removed duplicate: Transformed_Datasets\\NOT_Auguste_Cropped_224\\extracted_face_0 (1552).jpg_0.png\n",
      "Removed duplicate: Transformed_Datasets\\NOT_Auguste_Cropped_224\\extracted_face_0 (1553).jpg_0.png\n",
      "Removed duplicate: Transformed_Datasets\\NOT_Auguste_Cropped_224\\extracted_face_0 (1554).jpg_0.png\n",
      "Removed duplicate: Transformed_Datasets\\NOT_Auguste_Cropped_224\\extracted_face_0 (1556).jpg_0.png\n",
      "Removed duplicate: Transformed_Datasets\\NOT_Auguste_Cropped_224\\extracted_face_0 (1557).jpg_0.png\n",
      "Removed duplicate: Transformed_Datasets\\NOT_Auguste_Cropped_224\\extracted_face_0 (1558).jpg_0.png\n",
      "Removed duplicate: Transformed_Datasets\\NOT_Auguste_Cropped_224\\extracted_face_0 (156).jpg_0.png\n",
      "Removed duplicate: Transformed_Datasets\\NOT_Auguste_Cropped_224\\extracted_face_0 (1560).jpg_0.png\n",
      "Removed duplicate: Transformed_Datasets\\NOT_Auguste_Cropped_224\\extracted_face_0 (1561).jpg_0.png\n",
      "Removed duplicate: Transformed_Datasets\\NOT_Auguste_Cropped_224\\extracted_face_0 (1562).jpg_0.png\n",
      "Removed duplicate: Transformed_Datasets\\NOT_Auguste_Cropped_224\\extracted_face_0 (1565).jpg_0.png\n",
      "Removed duplicate: Transformed_Datasets\\NOT_Auguste_Cropped_224\\extracted_face_0 (1566).jpg_0.png\n",
      "Removed duplicate: Transformed_Datasets\\NOT_Auguste_Cropped_224\\extracted_face_0 (1568).jpg_0.png\n",
      "Removed duplicate: Transformed_Datasets\\NOT_Auguste_Cropped_224\\extracted_face_0 (1569).jpg_0.png\n",
      "Removed duplicate: Transformed_Datasets\\NOT_Auguste_Cropped_224\\extracted_face_0 (157).jpg_0.png\n",
      "Removed duplicate: Transformed_Datasets\\NOT_Auguste_Cropped_224\\extracted_face_0 (1570).jpg_0.png\n",
      "Removed duplicate: Transformed_Datasets\\NOT_Auguste_Cropped_224\\extracted_face_0 (1572).jpg_0.png\n",
      "Removed duplicate: Transformed_Datasets\\NOT_Auguste_Cropped_224\\extracted_face_0 (1573).jpg_0.png\n",
      "Removed duplicate: Transformed_Datasets\\NOT_Auguste_Cropped_224\\extracted_face_0 (1574).jpg_0.png\n",
      "Removed duplicate: Transformed_Datasets\\NOT_Auguste_Cropped_224\\extracted_face_0 (1575).jpg_0.png\n",
      "Removed duplicate: Transformed_Datasets\\NOT_Auguste_Cropped_224\\extracted_face_0 (1576).jpg_0.png\n",
      "Removed duplicate: Transformed_Datasets\\NOT_Auguste_Cropped_224\\extracted_face_0 (1577).jpg_0.png\n",
      "Removed duplicate: Transformed_Datasets\\NOT_Auguste_Cropped_224\\extracted_face_0 (1578).jpg_0.png\n",
      "Removed duplicate: Transformed_Datasets\\NOT_Auguste_Cropped_224\\extracted_face_0 (158).jpg_0.png\n",
      "Removed duplicate: Transformed_Datasets\\NOT_Auguste_Cropped_224\\extracted_face_0 (1580).jpg_0.png\n",
      "Removed duplicate: Transformed_Datasets\\NOT_Auguste_Cropped_224\\extracted_face_0 (1581).jpg_0.png\n",
      "Removed duplicate: Transformed_Datasets\\NOT_Auguste_Cropped_224\\extracted_face_0 (1582).jpg_0.png\n",
      "Removed duplicate: Transformed_Datasets\\NOT_Auguste_Cropped_224\\extracted_face_0 (1584).jpg_0.png\n",
      "Removed duplicate: Transformed_Datasets\\NOT_Auguste_Cropped_224\\extracted_face_0 (1585).jpg_0.png\n",
      "Removed duplicate: Transformed_Datasets\\NOT_Auguste_Cropped_224\\extracted_face_0 (1587).jpg_0.png\n",
      "Removed duplicate: Transformed_Datasets\\NOT_Auguste_Cropped_224\\extracted_face_0 (1588).jpg_0.png\n",
      "Removed duplicate: Transformed_Datasets\\NOT_Auguste_Cropped_224\\extracted_face_0 (1589).jpg_0.png\n",
      "Removed duplicate: Transformed_Datasets\\NOT_Auguste_Cropped_224\\extracted_face_0 (159).jpg_0.png\n",
      "Removed duplicate: Transformed_Datasets\\NOT_Auguste_Cropped_224\\extracted_face_0 (1590).jpg_0.png\n",
      "Removed duplicate: Transformed_Datasets\\NOT_Auguste_Cropped_224\\extracted_face_0 (1592).jpg_0.png\n",
      "Removed duplicate: Transformed_Datasets\\NOT_Auguste_Cropped_224\\extracted_face_0 (1593).jpg_0.png\n",
      "Removed duplicate: Transformed_Datasets\\NOT_Auguste_Cropped_224\\extracted_face_0 (1594).jpg_0.png\n",
      "Removed duplicate: Transformed_Datasets\\NOT_Auguste_Cropped_224\\extracted_face_0 (1595).jpg_0.png\n",
      "Removed duplicate: Transformed_Datasets\\NOT_Auguste_Cropped_224\\extracted_face_0 (1596).jpg_0.png\n",
      "Removed duplicate: Transformed_Datasets\\NOT_Auguste_Cropped_224\\extracted_face_0 (1597).jpg_0.png\n",
      "Removed duplicate: Transformed_Datasets\\NOT_Auguste_Cropped_224\\extracted_face_0 (1598).jpg_0.png\n",
      "Removed duplicate: Transformed_Datasets\\NOT_Auguste_Cropped_224\\extracted_face_0 (1599).jpg_0.png\n",
      "Removed duplicate: Transformed_Datasets\\NOT_Auguste_Cropped_224\\extracted_face_0 (16).jpeg_0.png\n",
      "Removed duplicate: Transformed_Datasets\\NOT_Auguste_Cropped_224\\extracted_face_0 (16).jpeg_1.png\n",
      "Removed duplicate: Transformed_Datasets\\NOT_Auguste_Cropped_224\\extracted_face_0 (16).jpeg_2.png\n",
      "Removed duplicate: Transformed_Datasets\\NOT_Auguste_Cropped_224\\extracted_face_0 (16).jpeg_3.png\n",
      "Removed duplicate: Transformed_Datasets\\NOT_Auguste_Cropped_224\\extracted_face_0 (16).jpeg_4.png\n",
      "Removed duplicate: Transformed_Datasets\\NOT_Auguste_Cropped_224\\extracted_face_0 (16).jpeg_5.png\n",
      "Removed duplicate: Transformed_Datasets\\NOT_Auguste_Cropped_224\\extracted_face_0 (160).jpg_0.png\n",
      "Removed duplicate: Transformed_Datasets\\NOT_Auguste_Cropped_224\\extracted_face_0 (1601).jpg_0.png\n",
      "Removed duplicate: Transformed_Datasets\\NOT_Auguste_Cropped_224\\extracted_face_0 (1602).jpg_0.png\n",
      "Removed duplicate: Transformed_Datasets\\NOT_Auguste_Cropped_224\\extracted_face_0 (1603).jpg_0.png\n",
      "Removed duplicate: Transformed_Datasets\\NOT_Auguste_Cropped_224\\extracted_face_0 (1604).jpg_0.png\n",
      "Removed duplicate: Transformed_Datasets\\NOT_Auguste_Cropped_224\\extracted_face_0 (1605).jpg_0.png\n",
      "Removed duplicate: Transformed_Datasets\\NOT_Auguste_Cropped_224\\extracted_face_0 (1606).jpg_0.png\n",
      "Removed duplicate: Transformed_Datasets\\NOT_Auguste_Cropped_224\\extracted_face_0 (1609).jpg_0.png\n",
      "Removed duplicate: Transformed_Datasets\\NOT_Auguste_Cropped_224\\extracted_face_0 (161).jpg_0.png\n",
      "Removed duplicate: Transformed_Datasets\\NOT_Auguste_Cropped_224\\extracted_face_0 (1613).jpg_0.png\n",
      "Removed duplicate: Transformed_Datasets\\NOT_Auguste_Cropped_224\\extracted_face_0 (1614).jpg_0.png\n",
      "Removed duplicate: Transformed_Datasets\\NOT_Auguste_Cropped_224\\extracted_face_0 (1615).jpg_0.png\n",
      "Removed duplicate: Transformed_Datasets\\NOT_Auguste_Cropped_224\\extracted_face_0 (1616).jpg_0.png\n",
      "Removed duplicate: Transformed_Datasets\\NOT_Auguste_Cropped_224\\extracted_face_0 (1617).jpg_0.png\n",
      "Removed duplicate: Transformed_Datasets\\NOT_Auguste_Cropped_224\\extracted_face_0 (1618).jpg_0.png\n",
      "Removed duplicate: Transformed_Datasets\\NOT_Auguste_Cropped_224\\extracted_face_0 (1619).jpg_0.png\n",
      "Removed duplicate: Transformed_Datasets\\NOT_Auguste_Cropped_224\\extracted_face_0 (1620).jpg_0.png\n",
      "Removed duplicate: Transformed_Datasets\\NOT_Auguste_Cropped_224\\extracted_face_0 (1621).jpg_0.png\n",
      "Removed duplicate: Transformed_Datasets\\NOT_Auguste_Cropped_224\\extracted_face_0 (1622).jpg_0.png\n",
      "Removed duplicate: Transformed_Datasets\\NOT_Auguste_Cropped_224\\extracted_face_0 (1623).jpg_0.png\n",
      "Removed duplicate: Transformed_Datasets\\NOT_Auguste_Cropped_224\\extracted_face_0 (1624).jpg_0.png\n",
      "Removed duplicate: Transformed_Datasets\\NOT_Auguste_Cropped_224\\extracted_face_0 (1626).jpg_0.png\n",
      "Removed duplicate: Transformed_Datasets\\NOT_Auguste_Cropped_224\\extracted_face_0 (1627).jpg_0.png\n",
      "Removed duplicate: Transformed_Datasets\\NOT_Auguste_Cropped_224\\extracted_face_0 (1628).jpg_0.png\n",
      "Removed duplicate: Transformed_Datasets\\NOT_Auguste_Cropped_224\\extracted_face_0 (1629).jpg_0.png\n",
      "Removed duplicate: Transformed_Datasets\\NOT_Auguste_Cropped_224\\extracted_face_0 (163).jpg_0.png\n",
      "Removed duplicate: Transformed_Datasets\\NOT_Auguste_Cropped_224\\extracted_face_0 (1630).jpg_0.png\n",
      "Removed duplicate: Transformed_Datasets\\NOT_Auguste_Cropped_224\\extracted_face_0 (1631).jpg_0.png\n",
      "Removed duplicate: Transformed_Datasets\\NOT_Auguste_Cropped_224\\extracted_face_0 (1633).jpg_0.png\n",
      "Removed duplicate: Transformed_Datasets\\NOT_Auguste_Cropped_224\\extracted_face_0 (1634).jpg_0.png\n",
      "Removed duplicate: Transformed_Datasets\\NOT_Auguste_Cropped_224\\extracted_face_0 (1635).jpg_0.png\n",
      "Removed duplicate: Transformed_Datasets\\NOT_Auguste_Cropped_224\\extracted_face_0 (1636).jpg_0.png\n",
      "Removed duplicate: Transformed_Datasets\\NOT_Auguste_Cropped_224\\extracted_face_0 (1637).jpg_0.png\n",
      "Removed duplicate: Transformed_Datasets\\NOT_Auguste_Cropped_224\\extracted_face_0 (1638).jpg_0.png\n",
      "Removed duplicate: Transformed_Datasets\\NOT_Auguste_Cropped_224\\extracted_face_0 (1639).jpg_0.png\n",
      "Removed duplicate: Transformed_Datasets\\NOT_Auguste_Cropped_224\\extracted_face_0 (164).jpg_0.png\n",
      "Removed duplicate: Transformed_Datasets\\NOT_Auguste_Cropped_224\\extracted_face_0 (1640).jpg_0.png\n",
      "Removed duplicate: Transformed_Datasets\\NOT_Auguste_Cropped_224\\extracted_face_0 (1641).jpg_0.png\n",
      "Removed duplicate: Transformed_Datasets\\NOT_Auguste_Cropped_224\\extracted_face_0 (1642).jpg_0.png\n",
      "Removed duplicate: Transformed_Datasets\\NOT_Auguste_Cropped_224\\extracted_face_0 (1643).jpg_0.png\n",
      "Removed duplicate: Transformed_Datasets\\NOT_Auguste_Cropped_224\\extracted_face_0 (1644).jpg_0.png\n",
      "Removed duplicate: Transformed_Datasets\\NOT_Auguste_Cropped_224\\extracted_face_0 (1645).jpg_0.png\n",
      "Removed duplicate: Transformed_Datasets\\NOT_Auguste_Cropped_224\\extracted_face_0 (1646).jpg_0.png\n",
      "Removed duplicate: Transformed_Datasets\\NOT_Auguste_Cropped_224\\extracted_face_0 (1647).jpg_0.png\n",
      "Removed duplicate: Transformed_Datasets\\NOT_Auguste_Cropped_224\\extracted_face_0 (1648).jpg_0.png\n",
      "Removed duplicate: Transformed_Datasets\\NOT_Auguste_Cropped_224\\extracted_face_0 (1650).jpg_0.png\n",
      "Removed duplicate: Transformed_Datasets\\NOT_Auguste_Cropped_224\\extracted_face_0 (1652).jpg_0.png\n",
      "Removed duplicate: Transformed_Datasets\\NOT_Auguste_Cropped_224\\extracted_face_0 (1653).jpg_0.png\n",
      "Removed duplicate: Transformed_Datasets\\NOT_Auguste_Cropped_224\\extracted_face_0 (1654).jpg_0.png\n",
      "Removed duplicate: Transformed_Datasets\\NOT_Auguste_Cropped_224\\extracted_face_0 (1655).jpg_0.png\n",
      "Removed duplicate: Transformed_Datasets\\NOT_Auguste_Cropped_224\\extracted_face_0 (1656).jpg_0.png\n",
      "Removed duplicate: Transformed_Datasets\\NOT_Auguste_Cropped_224\\extracted_face_0 (1658).jpg_0.png\n",
      "Removed duplicate: Transformed_Datasets\\NOT_Auguste_Cropped_224\\extracted_face_0 (1659).jpg_0.png\n",
      "Removed duplicate: Transformed_Datasets\\NOT_Auguste_Cropped_224\\extracted_face_0 (166).jpg_0.png\n",
      "Removed duplicate: Transformed_Datasets\\NOT_Auguste_Cropped_224\\extracted_face_0 (1660).jpg_0.png\n",
      "Removed duplicate: Transformed_Datasets\\NOT_Auguste_Cropped_224\\extracted_face_0 (1661).jpg_0.png\n",
      "Removed duplicate: Transformed_Datasets\\NOT_Auguste_Cropped_224\\extracted_face_0 (1662).jpg_0.png\n",
      "Removed duplicate: Transformed_Datasets\\NOT_Auguste_Cropped_224\\extracted_face_0 (1663).jpg_0.png\n",
      "Removed duplicate: Transformed_Datasets\\NOT_Auguste_Cropped_224\\extracted_face_0 (1664).jpg_0.png\n",
      "Removed duplicate: Transformed_Datasets\\NOT_Auguste_Cropped_224\\extracted_face_0 (1665).jpg_0.png\n",
      "Removed duplicate: Transformed_Datasets\\NOT_Auguste_Cropped_224\\extracted_face_0 (1666).jpg_0.png\n",
      "Removed duplicate: Transformed_Datasets\\NOT_Auguste_Cropped_224\\extracted_face_0 (1667).jpg_0.png\n",
      "Removed duplicate: Transformed_Datasets\\NOT_Auguste_Cropped_224\\extracted_face_0 (1668).jpg_0.png\n",
      "Removed duplicate: Transformed_Datasets\\NOT_Auguste_Cropped_224\\extracted_face_0 (1669).jpg_0.png\n",
      "Removed duplicate: Transformed_Datasets\\NOT_Auguste_Cropped_224\\extracted_face_0 (167).jpg_0.png\n",
      "Removed duplicate: Transformed_Datasets\\NOT_Auguste_Cropped_224\\extracted_face_0 (1670).jpg_0.png\n",
      "Removed duplicate: Transformed_Datasets\\NOT_Auguste_Cropped_224\\extracted_face_0 (1671).jpg_0.png\n",
      "Removed duplicate: Transformed_Datasets\\NOT_Auguste_Cropped_224\\extracted_face_0 (1672).jpg_0.png\n",
      "Removed duplicate: Transformed_Datasets\\NOT_Auguste_Cropped_224\\extracted_face_0 (1673).jpg_0.png\n",
      "Removed duplicate: Transformed_Datasets\\NOT_Auguste_Cropped_224\\extracted_face_0 (1674).jpg_0.png\n",
      "Removed duplicate: Transformed_Datasets\\NOT_Auguste_Cropped_224\\extracted_face_0 (1675).jpg_0.png\n",
      "Removed duplicate: Transformed_Datasets\\NOT_Auguste_Cropped_224\\extracted_face_0 (1676).jpg_0.png\n",
      "Removed duplicate: Transformed_Datasets\\NOT_Auguste_Cropped_224\\extracted_face_0 (1677).jpg_0.png\n",
      "Removed duplicate: Transformed_Datasets\\NOT_Auguste_Cropped_224\\extracted_face_0 (1678).jpg_0.png\n",
      "Removed duplicate: Transformed_Datasets\\NOT_Auguste_Cropped_224\\extracted_face_0 (1679).jpg_0.png\n",
      "Removed duplicate: Transformed_Datasets\\NOT_Auguste_Cropped_224\\extracted_face_0 (168).jpg_0.png\n",
      "Removed duplicate: Transformed_Datasets\\NOT_Auguste_Cropped_224\\extracted_face_0 (1682).jpg_0.png\n",
      "Removed duplicate: Transformed_Datasets\\NOT_Auguste_Cropped_224\\extracted_face_0 (1683).jpg_0.png\n",
      "Removed duplicate: Transformed_Datasets\\NOT_Auguste_Cropped_224\\extracted_face_0 (1686).jpg_0.png\n",
      "Removed duplicate: Transformed_Datasets\\NOT_Auguste_Cropped_224\\extracted_face_0 (1689).jpg_0.png\n",
      "Removed duplicate: Transformed_Datasets\\NOT_Auguste_Cropped_224\\extracted_face_0 (1691).jpg_0.png\n",
      "Removed duplicate: Transformed_Datasets\\NOT_Auguste_Cropped_224\\extracted_face_0 (1694).jpg_0.png\n",
      "Removed duplicate: Transformed_Datasets\\NOT_Auguste_Cropped_224\\extracted_face_0 (1695).jpg_0.png\n",
      "Removed duplicate: Transformed_Datasets\\NOT_Auguste_Cropped_224\\extracted_face_0 (1696).jpg_0.png\n",
      "Removed duplicate: Transformed_Datasets\\NOT_Auguste_Cropped_224\\extracted_face_0 (1699).JPG_0.png\n",
      "Removed duplicate: Transformed_Datasets\\NOT_Auguste_Cropped_224\\extracted_face_0 (17).jpg_0.png\n",
      "Removed duplicate: Transformed_Datasets\\NOT_Auguste_Cropped_224\\extracted_face_0 (170).jpg_0.png\n",
      "Removed duplicate: Transformed_Datasets\\NOT_Auguste_Cropped_224\\extracted_face_0 (1700).jpg_0.png\n",
      "Removed duplicate: Transformed_Datasets\\NOT_Auguste_Cropped_224\\extracted_face_0 (1702).jpg_0.png\n",
      "Removed duplicate: Transformed_Datasets\\NOT_Auguste_Cropped_224\\extracted_face_0 (1703).jpg_0.png\n",
      "Removed duplicate: Transformed_Datasets\\NOT_Auguste_Cropped_224\\extracted_face_0 (1704).jpg_0.png\n",
      "Removed duplicate: Transformed_Datasets\\NOT_Auguste_Cropped_224\\extracted_face_0 (1705).jpg_0.png\n",
      "Removed duplicate: Transformed_Datasets\\NOT_Auguste_Cropped_224\\extracted_face_0 (1706).jpg_0.png\n",
      "Removed duplicate: Transformed_Datasets\\NOT_Auguste_Cropped_224\\extracted_face_0 (1707).jpg_0.png\n",
      "Removed duplicate: Transformed_Datasets\\NOT_Auguste_Cropped_224\\extracted_face_0 (1709).jpg_0.png\n",
      "Removed duplicate: Transformed_Datasets\\NOT_Auguste_Cropped_224\\extracted_face_0 (1709).jpg_1.png\n",
      "Removed duplicate: Transformed_Datasets\\NOT_Auguste_Cropped_224\\extracted_face_0 (171).jpg_0.png\n",
      "Removed duplicate: Transformed_Datasets\\NOT_Auguste_Cropped_224\\extracted_face_0 (1710).jpg_0.png\n",
      "Removed duplicate: Transformed_Datasets\\NOT_Auguste_Cropped_224\\extracted_face_0 (1711).jpg_0.png\n",
      "Removed duplicate: Transformed_Datasets\\NOT_Auguste_Cropped_224\\extracted_face_0 (1713).jpg_0.png\n",
      "Removed duplicate: Transformed_Datasets\\NOT_Auguste_Cropped_224\\extracted_face_0 (1714).jpg_0.png\n",
      "Removed duplicate: Transformed_Datasets\\NOT_Auguste_Cropped_224\\extracted_face_0 (1716).jpg_0.png\n",
      "Removed duplicate: Transformed_Datasets\\NOT_Auguste_Cropped_224\\extracted_face_0 (1717).jpg_0.png\n",
      "Removed duplicate: Transformed_Datasets\\NOT_Auguste_Cropped_224\\extracted_face_0 (1718).jpg_0.png\n",
      "Removed duplicate: Transformed_Datasets\\NOT_Auguste_Cropped_224\\extracted_face_0 (1719).jpg_0.png\n",
      "Removed duplicate: Transformed_Datasets\\NOT_Auguste_Cropped_224\\extracted_face_0 (172).jpg_0.png\n",
      "Removed duplicate: Transformed_Datasets\\NOT_Auguste_Cropped_224\\extracted_face_0 (1720).jpg_0.png\n",
      "Removed duplicate: Transformed_Datasets\\NOT_Auguste_Cropped_224\\extracted_face_0 (1721).jpg_0.png\n",
      "Removed duplicate: Transformed_Datasets\\NOT_Auguste_Cropped_224\\extracted_face_0 (1723).jpg_0.png\n",
      "Removed duplicate: Transformed_Datasets\\NOT_Auguste_Cropped_224\\extracted_face_0 (1724).jpg_0.png\n",
      "Removed duplicate: Transformed_Datasets\\NOT_Auguste_Cropped_224\\extracted_face_0 (1725).jpg_0.png\n",
      "Removed duplicate: Transformed_Datasets\\NOT_Auguste_Cropped_224\\extracted_face_0 (1727).jpg_0.png\n",
      "Removed duplicate: Transformed_Datasets\\NOT_Auguste_Cropped_224\\extracted_face_0 (1728).jpg_0.png\n",
      "Removed duplicate: Transformed_Datasets\\NOT_Auguste_Cropped_224\\extracted_face_0 (1729).jpg_0.png\n",
      "Removed duplicate: Transformed_Datasets\\NOT_Auguste_Cropped_224\\extracted_face_0 (1730).jpg_0.png\n",
      "Removed duplicate: Transformed_Datasets\\NOT_Auguste_Cropped_224\\extracted_face_0 (1731).jpg_0.png\n",
      "Removed duplicate: Transformed_Datasets\\NOT_Auguste_Cropped_224\\extracted_face_0 (1732).jpg_0.png\n",
      "Removed duplicate: Transformed_Datasets\\NOT_Auguste_Cropped_224\\extracted_face_0 (1735).jpg_0.png\n",
      "Removed duplicate: Transformed_Datasets\\NOT_Auguste_Cropped_224\\extracted_face_0 (1736).jpg_0.png\n",
      "Removed duplicate: Transformed_Datasets\\NOT_Auguste_Cropped_224\\extracted_face_0 (1737).jpg_0.png\n",
      "Removed duplicate: Transformed_Datasets\\NOT_Auguste_Cropped_224\\extracted_face_0 (1738).jpg_0.png\n",
      "Removed duplicate: Transformed_Datasets\\NOT_Auguste_Cropped_224\\extracted_face_0 (1739).jpg_0.png\n",
      "Removed duplicate: Transformed_Datasets\\NOT_Auguste_Cropped_224\\extracted_face_0 (1741).jpg_0.png\n",
      "Removed duplicate: Transformed_Datasets\\NOT_Auguste_Cropped_224\\extracted_face_0 (1743).jpg_0.png\n",
      "Removed duplicate: Transformed_Datasets\\NOT_Auguste_Cropped_224\\extracted_face_0 (1744).jpg_0.png\n",
      "Removed duplicate: Transformed_Datasets\\NOT_Auguste_Cropped_224\\extracted_face_0 (1745).jpg_0.png\n",
      "Removed duplicate: Transformed_Datasets\\NOT_Auguste_Cropped_224\\extracted_face_0 (1746).jpg_0.png\n",
      "Removed duplicate: Transformed_Datasets\\NOT_Auguste_Cropped_224\\extracted_face_0 (1747).jpg_0.png\n",
      "Removed duplicate: Transformed_Datasets\\NOT_Auguste_Cropped_224\\extracted_face_0 (1748).jpg_0.png\n",
      "Removed duplicate: Transformed_Datasets\\NOT_Auguste_Cropped_224\\extracted_face_0 (1749).jpg_0.png\n",
      "Removed duplicate: Transformed_Datasets\\NOT_Auguste_Cropped_224\\extracted_face_0 (175).jpg_0.png\n",
      "Removed duplicate: Transformed_Datasets\\NOT_Auguste_Cropped_224\\extracted_face_0 (1750).jpg_0.png\n",
      "Removed duplicate: Transformed_Datasets\\NOT_Auguste_Cropped_224\\extracted_face_0 (1751).jpg_0.png\n",
      "Removed duplicate: Transformed_Datasets\\NOT_Auguste_Cropped_224\\extracted_face_0 (1752).jpg_0.png\n",
      "Removed duplicate: Transformed_Datasets\\NOT_Auguste_Cropped_224\\extracted_face_0 (1753).jpg_0.png\n",
      "Removed duplicate: Transformed_Datasets\\NOT_Auguste_Cropped_224\\extracted_face_0 (1754).jpg_0.png\n",
      "Removed duplicate: Transformed_Datasets\\NOT_Auguste_Cropped_224\\extracted_face_0 (1755).jpg_0.png\n",
      "Removed duplicate: Transformed_Datasets\\NOT_Auguste_Cropped_224\\extracted_face_0 (1756).jpg_0.png\n",
      "Removed duplicate: Transformed_Datasets\\NOT_Auguste_Cropped_224\\extracted_face_0 (1757).jpg_0.png\n",
      "Removed duplicate: Transformed_Datasets\\NOT_Auguste_Cropped_224\\extracted_face_0 (1758).jpg_0.png\n",
      "Removed duplicate: Transformed_Datasets\\NOT_Auguste_Cropped_224\\extracted_face_0 (1759).jpg_0.png\n",
      "Removed duplicate: Transformed_Datasets\\NOT_Auguste_Cropped_224\\extracted_face_0 (176).jpg_0.png\n",
      "Removed duplicate: Transformed_Datasets\\NOT_Auguste_Cropped_224\\extracted_face_0 (1760).jpg_0.png\n",
      "Removed duplicate: Transformed_Datasets\\NOT_Auguste_Cropped_224\\extracted_face_0 (1761).jpg_0.png\n",
      "Removed duplicate: Transformed_Datasets\\NOT_Auguste_Cropped_224\\extracted_face_0 (1762).jpg_0.png\n",
      "Removed duplicate: Transformed_Datasets\\NOT_Auguste_Cropped_224\\extracted_face_0 (1763).jpg_0.png\n",
      "Removed duplicate: Transformed_Datasets\\NOT_Auguste_Cropped_224\\extracted_face_0 (1764).jpg_0.png\n",
      "Removed duplicate: Transformed_Datasets\\NOT_Auguste_Cropped_224\\extracted_face_0 (1766).jpg_0.png\n",
      "Removed duplicate: Transformed_Datasets\\NOT_Auguste_Cropped_224\\extracted_face_0 (1767).jpg_0.png\n",
      "Removed duplicate: Transformed_Datasets\\NOT_Auguste_Cropped_224\\extracted_face_0 (1769).jpg_0.png\n",
      "Removed duplicate: Transformed_Datasets\\NOT_Auguste_Cropped_224\\extracted_face_0 (177).jpg_0.png\n",
      "Removed duplicate: Transformed_Datasets\\NOT_Auguste_Cropped_224\\extracted_face_0 (1770).jpg_0.png\n",
      "Removed duplicate: Transformed_Datasets\\NOT_Auguste_Cropped_224\\extracted_face_0 (1771).jpg_0.png\n",
      "Removed duplicate: Transformed_Datasets\\NOT_Auguste_Cropped_224\\extracted_face_0 (1772).jpg_0.png\n",
      "Removed duplicate: Transformed_Datasets\\NOT_Auguste_Cropped_224\\extracted_face_0 (1774).jpg_0.png\n",
      "Removed duplicate: Transformed_Datasets\\NOT_Auguste_Cropped_224\\extracted_face_0 (1777).jpg_0.png\n",
      "Removed duplicate: Transformed_Datasets\\NOT_Auguste_Cropped_224\\extracted_face_0 (1779).jpg_0.png\n",
      "Removed duplicate: Transformed_Datasets\\NOT_Auguste_Cropped_224\\extracted_face_0 (178).jpg_0.png\n",
      "Removed duplicate: Transformed_Datasets\\NOT_Auguste_Cropped_224\\extracted_face_0 (1780).jpg_0.png\n",
      "Removed duplicate: Transformed_Datasets\\NOT_Auguste_Cropped_224\\extracted_face_0 (1782).jpg_0.png\n",
      "Removed duplicate: Transformed_Datasets\\NOT_Auguste_Cropped_224\\extracted_face_0 (1783).jpg_0.png\n",
      "Removed duplicate: Transformed_Datasets\\NOT_Auguste_Cropped_224\\extracted_face_0 (1785).jpg_0.png\n",
      "Removed duplicate: Transformed_Datasets\\NOT_Auguste_Cropped_224\\extracted_face_0 (1786).jpg_0.png\n",
      "Removed duplicate: Transformed_Datasets\\NOT_Auguste_Cropped_224\\extracted_face_0 (1788).jpg_0.png\n",
      "Removed duplicate: Transformed_Datasets\\NOT_Auguste_Cropped_224\\extracted_face_0 (1790).jpg_0.png\n",
      "Removed duplicate: Transformed_Datasets\\NOT_Auguste_Cropped_224\\extracted_face_0 (1794).jpg_0.png\n",
      "Removed duplicate: Transformed_Datasets\\NOT_Auguste_Cropped_224\\extracted_face_0 (1796).jpg_0.png\n",
      "Removed duplicate: Transformed_Datasets\\NOT_Auguste_Cropped_224\\extracted_face_0 (1797).jpg_0.png\n",
      "Removed duplicate: Transformed_Datasets\\NOT_Auguste_Cropped_224\\extracted_face_0 (1798).jpg_0.png\n",
      "Removed duplicate: Transformed_Datasets\\NOT_Auguste_Cropped_224\\extracted_face_0 (18).jpeg_0.png\n",
      "Removed duplicate: Transformed_Datasets\\NOT_Auguste_Cropped_224\\extracted_face_0 (18).jpeg_1.png\n",
      "Removed duplicate: Transformed_Datasets\\NOT_Auguste_Cropped_224\\extracted_face_0 (18).jpeg_2.png\n",
      "Removed duplicate: Transformed_Datasets\\NOT_Auguste_Cropped_224\\extracted_face_0 (18).jpeg_3.png\n",
      "Removed duplicate: Transformed_Datasets\\NOT_Auguste_Cropped_224\\extracted_face_0 (18).jpeg_4.png\n",
      "Removed duplicate: Transformed_Datasets\\NOT_Auguste_Cropped_224\\extracted_face_0 (18).jpeg_5.png\n",
      "Removed duplicate: Transformed_Datasets\\NOT_Auguste_Cropped_224\\extracted_face_0 (18).jpg_0.png\n",
      "Removed duplicate: Transformed_Datasets\\NOT_Auguste_Cropped_224\\extracted_face_0 (180).jpg_0.png\n",
      "Removed duplicate: Transformed_Datasets\\NOT_Auguste_Cropped_224\\extracted_face_0 (1800).jpg_0.png\n",
      "Removed duplicate: Transformed_Datasets\\NOT_Auguste_Cropped_224\\extracted_face_0 (1801).jpg_0.png\n",
      "Removed duplicate: Transformed_Datasets\\NOT_Auguste_Cropped_224\\extracted_face_0 (1803).jpg_0.png\n",
      "Removed duplicate: Transformed_Datasets\\NOT_Auguste_Cropped_224\\extracted_face_0 (1804).jpg_0.png\n",
      "Removed duplicate: Transformed_Datasets\\NOT_Auguste_Cropped_224\\extracted_face_0 (1805).jpg_0.png\n",
      "Removed duplicate: Transformed_Datasets\\NOT_Auguste_Cropped_224\\extracted_face_0 (1806).jpg_0.png\n",
      "Removed duplicate: Transformed_Datasets\\NOT_Auguste_Cropped_224\\extracted_face_0 (1807).jpg_0.png\n",
      "Removed duplicate: Transformed_Datasets\\NOT_Auguste_Cropped_224\\extracted_face_0 (1808).jpg_0.png\n",
      "Removed duplicate: Transformed_Datasets\\NOT_Auguste_Cropped_224\\extracted_face_0 (181).jpg_0.png\n",
      "Removed duplicate: Transformed_Datasets\\NOT_Auguste_Cropped_224\\extracted_face_0 (1810).jpg_0.png\n",
      "Removed duplicate: Transformed_Datasets\\NOT_Auguste_Cropped_224\\extracted_face_0 (1811).jpg_0.png\n",
      "Removed duplicate: Transformed_Datasets\\NOT_Auguste_Cropped_224\\extracted_face_0 (1812).jpg_0.png\n",
      "Removed duplicate: Transformed_Datasets\\NOT_Auguste_Cropped_224\\extracted_face_0 (1813).jpg_0.png\n",
      "Removed duplicate: Transformed_Datasets\\NOT_Auguste_Cropped_224\\extracted_face_0 (1814).jpg_0.png\n",
      "Removed duplicate: Transformed_Datasets\\NOT_Auguste_Cropped_224\\extracted_face_0 (1816).jpg_0.png\n",
      "Removed duplicate: Transformed_Datasets\\NOT_Auguste_Cropped_224\\extracted_face_0 (1817).jpg_0.png\n",
      "Removed duplicate: Transformed_Datasets\\NOT_Auguste_Cropped_224\\extracted_face_0 (1818).jpg_0.png\n",
      "Removed duplicate: Transformed_Datasets\\NOT_Auguste_Cropped_224\\extracted_face_0 (1819).jpg_0.png\n",
      "Removed duplicate: Transformed_Datasets\\NOT_Auguste_Cropped_224\\extracted_face_0 (182).jpg_0.png\n",
      "Removed duplicate: Transformed_Datasets\\NOT_Auguste_Cropped_224\\extracted_face_0 (1820).jpg_0.png\n",
      "Removed duplicate: Transformed_Datasets\\NOT_Auguste_Cropped_224\\extracted_face_0 (1822).jpg_0.png\n",
      "Removed duplicate: Transformed_Datasets\\NOT_Auguste_Cropped_224\\extracted_face_0 (1823).jpg_0.png\n",
      "Removed duplicate: Transformed_Datasets\\NOT_Auguste_Cropped_224\\extracted_face_0 (1824).jpg_0.png\n",
      "Removed duplicate: Transformed_Datasets\\NOT_Auguste_Cropped_224\\extracted_face_0 (1825).jpg_0.png\n",
      "Removed duplicate: Transformed_Datasets\\NOT_Auguste_Cropped_224\\extracted_face_0 (1826).jpg_0.png\n",
      "Removed duplicate: Transformed_Datasets\\NOT_Auguste_Cropped_224\\extracted_face_0 (1827).jpg_0.png\n",
      "Removed duplicate: Transformed_Datasets\\NOT_Auguste_Cropped_224\\extracted_face_0 (1828).jpg_0.png\n",
      "Removed duplicate: Transformed_Datasets\\NOT_Auguste_Cropped_224\\extracted_face_0 (1829).jpg_0.png\n",
      "Removed duplicate: Transformed_Datasets\\NOT_Auguste_Cropped_224\\extracted_face_0 (183).jpg_0.png\n",
      "Removed duplicate: Transformed_Datasets\\NOT_Auguste_Cropped_224\\extracted_face_0 (1830).jpg_0.png\n",
      "Removed duplicate: Transformed_Datasets\\NOT_Auguste_Cropped_224\\extracted_face_0 (1831).jpg_0.png\n",
      "Removed duplicate: Transformed_Datasets\\NOT_Auguste_Cropped_224\\extracted_face_0 (1832).jpg_0.png\n",
      "Removed duplicate: Transformed_Datasets\\NOT_Auguste_Cropped_224\\extracted_face_0 (1833).jpg_0.png\n",
      "Removed duplicate: Transformed_Datasets\\NOT_Auguste_Cropped_224\\extracted_face_0 (1836).jpg_0.png\n",
      "Removed duplicate: Transformed_Datasets\\NOT_Auguste_Cropped_224\\extracted_face_0 (1837).jpg_0.png\n",
      "Removed duplicate: Transformed_Datasets\\NOT_Auguste_Cropped_224\\extracted_face_0 (1839).jpg_0.png\n",
      "Removed duplicate: Transformed_Datasets\\NOT_Auguste_Cropped_224\\extracted_face_0 (1840).jpg_0.png\n",
      "Removed duplicate: Transformed_Datasets\\NOT_Auguste_Cropped_224\\extracted_face_0 (1843).jpg_0.png\n",
      "Removed duplicate: Transformed_Datasets\\NOT_Auguste_Cropped_224\\extracted_face_0 (1844).jpg_0.png\n",
      "Removed duplicate: Transformed_Datasets\\NOT_Auguste_Cropped_224\\extracted_face_0 (1845).jpg_0.png\n",
      "Removed duplicate: Transformed_Datasets\\NOT_Auguste_Cropped_224\\extracted_face_0 (1846).jpg_0.png\n",
      "Removed duplicate: Transformed_Datasets\\NOT_Auguste_Cropped_224\\extracted_face_0 (1847).jpg_0.png\n",
      "Removed duplicate: Transformed_Datasets\\NOT_Auguste_Cropped_224\\extracted_face_0 (185).jpg_0.png\n",
      "Removed duplicate: Transformed_Datasets\\NOT_Auguste_Cropped_224\\extracted_face_0 (1850).jpg_0.png\n",
      "Removed duplicate: Transformed_Datasets\\NOT_Auguste_Cropped_224\\extracted_face_0 (1851).jpg_0.png\n",
      "Removed duplicate: Transformed_Datasets\\NOT_Auguste_Cropped_224\\extracted_face_0 (1853).jpg_0.png\n",
      "Removed duplicate: Transformed_Datasets\\NOT_Auguste_Cropped_224\\extracted_face_0 (1854).jpg_0.png\n",
      "Removed duplicate: Transformed_Datasets\\NOT_Auguste_Cropped_224\\extracted_face_0 (1855).jpg_0.png\n",
      "Removed duplicate: Transformed_Datasets\\NOT_Auguste_Cropped_224\\extracted_face_0 (1856).jpg_0.png\n",
      "Removed duplicate: Transformed_Datasets\\NOT_Auguste_Cropped_224\\extracted_face_0 (1857).jpg_0.png\n",
      "Removed duplicate: Transformed_Datasets\\NOT_Auguste_Cropped_224\\extracted_face_0 (1858).jpg_0.png\n",
      "Removed duplicate: Transformed_Datasets\\NOT_Auguste_Cropped_224\\extracted_face_0 (1859).jpg_0.png\n",
      "Removed duplicate: Transformed_Datasets\\NOT_Auguste_Cropped_224\\extracted_face_0 (1860).jpg_0.png\n",
      "Removed duplicate: Transformed_Datasets\\NOT_Auguste_Cropped_224\\extracted_face_0 (1861).jpg_0.png\n",
      "Removed duplicate: Transformed_Datasets\\NOT_Auguste_Cropped_224\\extracted_face_0 (1862).jpg_0.png\n",
      "Removed duplicate: Transformed_Datasets\\NOT_Auguste_Cropped_224\\extracted_face_0 (1863).jpg_0.png\n",
      "Removed duplicate: Transformed_Datasets\\NOT_Auguste_Cropped_224\\extracted_face_0 (1864).jpg_0.png\n",
      "Removed duplicate: Transformed_Datasets\\NOT_Auguste_Cropped_224\\extracted_face_0 (1866).jpg_0.png\n",
      "Removed duplicate: Transformed_Datasets\\NOT_Auguste_Cropped_224\\extracted_face_0 (1867).jpg_0.png\n",
      "Removed duplicate: Transformed_Datasets\\NOT_Auguste_Cropped_224\\extracted_face_0 (1868).jpg_0.png\n",
      "Removed duplicate: Transformed_Datasets\\NOT_Auguste_Cropped_224\\extracted_face_0 (1869).jpg_0.png\n",
      "Removed duplicate: Transformed_Datasets\\NOT_Auguste_Cropped_224\\extracted_face_0 (187).jpg_0.png\n",
      "Removed duplicate: Transformed_Datasets\\NOT_Auguste_Cropped_224\\extracted_face_0 (1870).jpg_0.png\n",
      "Removed duplicate: Transformed_Datasets\\NOT_Auguste_Cropped_224\\extracted_face_0 (1871).jpg_0.png\n",
      "Removed duplicate: Transformed_Datasets\\NOT_Auguste_Cropped_224\\extracted_face_0 (1872).jpg_0.png\n",
      "Removed duplicate: Transformed_Datasets\\NOT_Auguste_Cropped_224\\extracted_face_0 (1873).jpg_0.png\n",
      "Removed duplicate: Transformed_Datasets\\NOT_Auguste_Cropped_224\\extracted_face_0 (1875).jpg_0.png\n",
      "Removed duplicate: Transformed_Datasets\\NOT_Auguste_Cropped_224\\extracted_face_0 (1876).jpg_0.png\n",
      "Removed duplicate: Transformed_Datasets\\NOT_Auguste_Cropped_224\\extracted_face_0 (1878).jpg_0.png\n",
      "Removed duplicate: Transformed_Datasets\\NOT_Auguste_Cropped_224\\extracted_face_0 (188).jpg_0.png\n",
      "Removed duplicate: Transformed_Datasets\\NOT_Auguste_Cropped_224\\extracted_face_0 (1880).jpg_0.png\n",
      "Removed duplicate: Transformed_Datasets\\NOT_Auguste_Cropped_224\\extracted_face_0 (1881).jpg_0.png\n",
      "Removed duplicate: Transformed_Datasets\\NOT_Auguste_Cropped_224\\extracted_face_0 (1883).jpg_0.png\n",
      "Removed duplicate: Transformed_Datasets\\NOT_Auguste_Cropped_224\\extracted_face_0 (1884).jpg_0.png\n",
      "Removed duplicate: Transformed_Datasets\\NOT_Auguste_Cropped_224\\extracted_face_0 (1886).jpg_0.png\n",
      "Removed duplicate: Transformed_Datasets\\NOT_Auguste_Cropped_224\\extracted_face_0 (1888).jpg_0.png\n",
      "Removed duplicate: Transformed_Datasets\\NOT_Auguste_Cropped_224\\extracted_face_0 (1889).jpg_0.png\n",
      "Removed duplicate: Transformed_Datasets\\NOT_Auguste_Cropped_224\\extracted_face_0 (1891).jpg_0.png\n",
      "Removed duplicate: Transformed_Datasets\\NOT_Auguste_Cropped_224\\extracted_face_0 (1892).jpg_0.png\n",
      "Removed duplicate: Transformed_Datasets\\NOT_Auguste_Cropped_224\\extracted_face_0 (1894).jpg_0.png\n",
      "Removed duplicate: Transformed_Datasets\\NOT_Auguste_Cropped_224\\extracted_face_0 (1897).jpg_0.png\n",
      "Removed duplicate: Transformed_Datasets\\NOT_Auguste_Cropped_224\\extracted_face_0 (1899).jpg_0.png\n",
      "Removed duplicate: Transformed_Datasets\\NOT_Auguste_Cropped_224\\extracted_face_0 (19).jpg_0.png\n",
      "Removed duplicate: Transformed_Datasets\\NOT_Auguste_Cropped_224\\extracted_face_0 (190).jpg_0.png\n",
      "Removed duplicate: Transformed_Datasets\\NOT_Auguste_Cropped_224\\extracted_face_0 (1900).jpg_0.png\n",
      "Removed duplicate: Transformed_Datasets\\NOT_Auguste_Cropped_224\\extracted_face_0 (1902).jpg_0.png\n",
      "Removed duplicate: Transformed_Datasets\\NOT_Auguste_Cropped_224\\extracted_face_0 (1903).jpg_0.png\n",
      "Removed duplicate: Transformed_Datasets\\NOT_Auguste_Cropped_224\\extracted_face_0 (1904).jpg_0.png\n",
      "Removed duplicate: Transformed_Datasets\\NOT_Auguste_Cropped_224\\extracted_face_0 (1905).jpg_0.png\n",
      "Removed duplicate: Transformed_Datasets\\NOT_Auguste_Cropped_224\\extracted_face_0 (1907).jpg_0.png\n",
      "Removed duplicate: Transformed_Datasets\\NOT_Auguste_Cropped_224\\extracted_face_0 (1908).jpg_0.png\n",
      "Removed duplicate: Transformed_Datasets\\NOT_Auguste_Cropped_224\\extracted_face_0 (1909).jpg_0.png\n",
      "Removed duplicate: Transformed_Datasets\\NOT_Auguste_Cropped_224\\extracted_face_0 (191).jpg_0.png\n",
      "Removed duplicate: Transformed_Datasets\\NOT_Auguste_Cropped_224\\extracted_face_0 (1910).jpg_0.png\n",
      "Removed duplicate: Transformed_Datasets\\NOT_Auguste_Cropped_224\\extracted_face_0 (1911).jpg_0.png\n",
      "Removed duplicate: Transformed_Datasets\\NOT_Auguste_Cropped_224\\extracted_face_0 (1912).jpg_0.png\n",
      "Removed duplicate: Transformed_Datasets\\NOT_Auguste_Cropped_224\\extracted_face_0 (1913).jpg_0.png\n",
      "Removed duplicate: Transformed_Datasets\\NOT_Auguste_Cropped_224\\extracted_face_0 (1914).jpg_0.png\n",
      "Removed duplicate: Transformed_Datasets\\NOT_Auguste_Cropped_224\\extracted_face_0 (1915).jpg_0.png\n",
      "Removed duplicate: Transformed_Datasets\\NOT_Auguste_Cropped_224\\extracted_face_0 (1916).jpg_0.png\n",
      "Removed duplicate: Transformed_Datasets\\NOT_Auguste_Cropped_224\\extracted_face_0 (1917).jpg_0.png\n",
      "Removed duplicate: Transformed_Datasets\\NOT_Auguste_Cropped_224\\extracted_face_0 (1918).jpg_0.png\n",
      "Removed duplicate: Transformed_Datasets\\NOT_Auguste_Cropped_224\\extracted_face_0 (1919).jpg_0.png\n",
      "Removed duplicate: Transformed_Datasets\\NOT_Auguste_Cropped_224\\extracted_face_0 (192).jpg_0.png\n",
      "Removed duplicate: Transformed_Datasets\\NOT_Auguste_Cropped_224\\extracted_face_0 (1920).jpg_0.png\n",
      "Removed duplicate: Transformed_Datasets\\NOT_Auguste_Cropped_224\\extracted_face_0 (1921).jpg_0.png\n",
      "Removed duplicate: Transformed_Datasets\\NOT_Auguste_Cropped_224\\extracted_face_0 (1922).jpg_0.png\n",
      "Removed duplicate: Transformed_Datasets\\NOT_Auguste_Cropped_224\\extracted_face_0 (1923).jpg_0.png\n",
      "Removed duplicate: Transformed_Datasets\\NOT_Auguste_Cropped_224\\extracted_face_0 (1924).jpg_0.png\n",
      "Removed duplicate: Transformed_Datasets\\NOT_Auguste_Cropped_224\\extracted_face_0 (1925).jpg_0.png\n",
      "Removed duplicate: Transformed_Datasets\\NOT_Auguste_Cropped_224\\extracted_face_0 (1926).jpg_0.png\n",
      "Removed duplicate: Transformed_Datasets\\NOT_Auguste_Cropped_224\\extracted_face_0 (1927).jpg_0.png\n",
      "Removed duplicate: Transformed_Datasets\\NOT_Auguste_Cropped_224\\extracted_face_0 (1928).jpg_0.png\n",
      "Removed duplicate: Transformed_Datasets\\NOT_Auguste_Cropped_224\\extracted_face_0 (1929).jpg_0.png\n",
      "Removed duplicate: Transformed_Datasets\\NOT_Auguste_Cropped_224\\extracted_face_0 (1930).jpg_0.png\n",
      "Removed duplicate: Transformed_Datasets\\NOT_Auguste_Cropped_224\\extracted_face_0 (1931).jpg_0.png\n",
      "Removed duplicate: Transformed_Datasets\\NOT_Auguste_Cropped_224\\extracted_face_0 (1932).jpg_0.png\n",
      "Removed duplicate: Transformed_Datasets\\NOT_Auguste_Cropped_224\\extracted_face_0 (1933).jpg_0.png\n",
      "Removed duplicate: Transformed_Datasets\\NOT_Auguste_Cropped_224\\extracted_face_0 (1934).jpg_0.png\n",
      "Removed duplicate: Transformed_Datasets\\NOT_Auguste_Cropped_224\\extracted_face_0 (1935).jpg_0.png\n",
      "Removed duplicate: Transformed_Datasets\\NOT_Auguste_Cropped_224\\extracted_face_0 (1936).jpg_0.png\n",
      "Removed duplicate: Transformed_Datasets\\NOT_Auguste_Cropped_224\\extracted_face_0 (1937).jpg_0.png\n",
      "Removed duplicate: Transformed_Datasets\\NOT_Auguste_Cropped_224\\extracted_face_0 (1938).jpg_0.png\n",
      "Removed duplicate: Transformed_Datasets\\NOT_Auguste_Cropped_224\\extracted_face_0 (1939).jpg_0.png\n",
      "Removed duplicate: Transformed_Datasets\\NOT_Auguste_Cropped_224\\extracted_face_0 (1940).jpg_0.png\n",
      "Removed duplicate: Transformed_Datasets\\NOT_Auguste_Cropped_224\\extracted_face_0 (1941).jpg_0.png\n",
      "Removed duplicate: Transformed_Datasets\\NOT_Auguste_Cropped_224\\extracted_face_0 (1941).jpg_1.png\n",
      "Removed duplicate: Transformed_Datasets\\NOT_Auguste_Cropped_224\\extracted_face_0 (1943).jpg_0.png\n",
      "Removed duplicate: Transformed_Datasets\\NOT_Auguste_Cropped_224\\extracted_face_0 (1944).jpg_0.png\n",
      "Removed duplicate: Transformed_Datasets\\NOT_Auguste_Cropped_224\\extracted_face_0 (1945).jpg_0.png\n",
      "Removed duplicate: Transformed_Datasets\\NOT_Auguste_Cropped_224\\extracted_face_0 (1946).jpg_0.png\n",
      "Removed duplicate: Transformed_Datasets\\NOT_Auguste_Cropped_224\\extracted_face_0 (1947).jpg_0.png\n",
      "Removed duplicate: Transformed_Datasets\\NOT_Auguste_Cropped_224\\extracted_face_0 (1948).jpg_0.png\n",
      "Removed duplicate: Transformed_Datasets\\NOT_Auguste_Cropped_224\\extracted_face_0 (1949).jpg_0.png\n",
      "Removed duplicate: Transformed_Datasets\\NOT_Auguste_Cropped_224\\extracted_face_0 (195).jpg_0.png\n",
      "Removed duplicate: Transformed_Datasets\\NOT_Auguste_Cropped_224\\extracted_face_0 (1950).jpg_0.png\n",
      "Removed duplicate: Transformed_Datasets\\NOT_Auguste_Cropped_224\\extracted_face_0 (1951).jpg_0.png\n",
      "Removed duplicate: Transformed_Datasets\\NOT_Auguste_Cropped_224\\extracted_face_0 (1952).jpg_0.png\n",
      "Removed duplicate: Transformed_Datasets\\NOT_Auguste_Cropped_224\\extracted_face_0 (1953).jpg_0.png\n",
      "Removed duplicate: Transformed_Datasets\\NOT_Auguste_Cropped_224\\extracted_face_0 (1954).jpg_0.png\n",
      "Removed duplicate: Transformed_Datasets\\NOT_Auguste_Cropped_224\\extracted_face_0 (1955).jpg_0.png\n",
      "Removed duplicate: Transformed_Datasets\\NOT_Auguste_Cropped_224\\extracted_face_0 (1956).jpg_0.png\n",
      "Removed duplicate: Transformed_Datasets\\NOT_Auguste_Cropped_224\\extracted_face_0 (1957).jpg_0.png\n",
      "Removed duplicate: Transformed_Datasets\\NOT_Auguste_Cropped_224\\extracted_face_0 (1958).jpg_0.png\n",
      "Removed duplicate: Transformed_Datasets\\NOT_Auguste_Cropped_224\\extracted_face_0 (1959).jpg_0.png\n",
      "Removed duplicate: Transformed_Datasets\\NOT_Auguste_Cropped_224\\extracted_face_0 (196).jpg_0.png\n",
      "Removed duplicate: Transformed_Datasets\\NOT_Auguste_Cropped_224\\extracted_face_0 (1960).jpg_0.png\n",
      "Removed duplicate: Transformed_Datasets\\NOT_Auguste_Cropped_224\\extracted_face_0 (1961).jpg_0.png\n",
      "Removed duplicate: Transformed_Datasets\\NOT_Auguste_Cropped_224\\extracted_face_0 (1962).jpg_0.png\n",
      "Removed duplicate: Transformed_Datasets\\NOT_Auguste_Cropped_224\\extracted_face_0 (1963).jpg_0.png\n",
      "Removed duplicate: Transformed_Datasets\\NOT_Auguste_Cropped_224\\extracted_face_0 (1964).jpg_0.png\n",
      "Removed duplicate: Transformed_Datasets\\NOT_Auguste_Cropped_224\\extracted_face_0 (1965).jpg_0.png\n",
      "Removed duplicate: Transformed_Datasets\\NOT_Auguste_Cropped_224\\extracted_face_0 (1966).jpg_0.png\n",
      "Removed duplicate: Transformed_Datasets\\NOT_Auguste_Cropped_224\\extracted_face_0 (1967).jpg_0.png\n",
      "Removed duplicate: Transformed_Datasets\\NOT_Auguste_Cropped_224\\extracted_face_0 (1968).jpg_0.png\n",
      "Removed duplicate: Transformed_Datasets\\NOT_Auguste_Cropped_224\\extracted_face_0 (1969).jpg_0.png\n",
      "Removed duplicate: Transformed_Datasets\\NOT_Auguste_Cropped_224\\extracted_face_0 (197).jpg_0.png\n",
      "Removed duplicate: Transformed_Datasets\\NOT_Auguste_Cropped_224\\extracted_face_0 (1970).jpg_0.png\n",
      "Removed duplicate: Transformed_Datasets\\NOT_Auguste_Cropped_224\\extracted_face_0 (1971).jpg_0.png\n",
      "Removed duplicate: Transformed_Datasets\\NOT_Auguste_Cropped_224\\extracted_face_0 (1973).jpg_0.png\n",
      "Removed duplicate: Transformed_Datasets\\NOT_Auguste_Cropped_224\\extracted_face_0 (1974).jpg_0.png\n",
      "Removed duplicate: Transformed_Datasets\\NOT_Auguste_Cropped_224\\extracted_face_0 (1975).jpg_0.png\n",
      "Removed duplicate: Transformed_Datasets\\NOT_Auguste_Cropped_224\\extracted_face_0 (1976).jpg_0.png\n",
      "Removed duplicate: Transformed_Datasets\\NOT_Auguste_Cropped_224\\extracted_face_0 (1977).jpg_0.png\n",
      "Removed duplicate: Transformed_Datasets\\NOT_Auguste_Cropped_224\\extracted_face_0 (1979).jpg_0.png\n",
      "Removed duplicate: Transformed_Datasets\\NOT_Auguste_Cropped_224\\extracted_face_0 (198).jpg_0.png\n",
      "Removed duplicate: Transformed_Datasets\\NOT_Auguste_Cropped_224\\extracted_face_0 (1980).jpg_0.png\n",
      "Removed duplicate: Transformed_Datasets\\NOT_Auguste_Cropped_224\\extracted_face_0 (1981).jpg_0.png\n",
      "Removed duplicate: Transformed_Datasets\\NOT_Auguste_Cropped_224\\extracted_face_0 (1982).jpg_0.png\n",
      "Removed duplicate: Transformed_Datasets\\NOT_Auguste_Cropped_224\\extracted_face_0 (1983).jpg_0.png\n",
      "Removed duplicate: Transformed_Datasets\\NOT_Auguste_Cropped_224\\extracted_face_0 (1984).jpg_0.png\n",
      "Removed duplicate: Transformed_Datasets\\NOT_Auguste_Cropped_224\\extracted_face_0 (1985).jpg_0.png\n",
      "Removed duplicate: Transformed_Datasets\\NOT_Auguste_Cropped_224\\extracted_face_0 (1986).jpg_0.png\n",
      "Removed duplicate: Transformed_Datasets\\NOT_Auguste_Cropped_224\\extracted_face_0 (1987).jpg_0.png\n",
      "Removed duplicate: Transformed_Datasets\\NOT_Auguste_Cropped_224\\extracted_face_0 (1988).jpg_0.png\n",
      "Removed duplicate: Transformed_Datasets\\NOT_Auguste_Cropped_224\\extracted_face_0 (1989).jpg_0.png\n",
      "Removed duplicate: Transformed_Datasets\\NOT_Auguste_Cropped_224\\extracted_face_0 (1990).jpg_0.png\n",
      "Removed duplicate: Transformed_Datasets\\NOT_Auguste_Cropped_224\\extracted_face_0 (1991).jpg_0.png\n",
      "Removed duplicate: Transformed_Datasets\\NOT_Auguste_Cropped_224\\extracted_face_0 (1992).jpg_0.png\n",
      "Removed duplicate: Transformed_Datasets\\NOT_Auguste_Cropped_224\\extracted_face_0 (1993).jpg_0.png\n",
      "Removed duplicate: Transformed_Datasets\\NOT_Auguste_Cropped_224\\extracted_face_0 (1994).jpg_0.png\n",
      "Removed duplicate: Transformed_Datasets\\NOT_Auguste_Cropped_224\\extracted_face_0 (1995).jpg_0.png\n",
      "Removed duplicate: Transformed_Datasets\\NOT_Auguste_Cropped_224\\extracted_face_0 (1996).jpg_0.png\n",
      "Removed duplicate: Transformed_Datasets\\NOT_Auguste_Cropped_224\\extracted_face_0 (1997).jpg_0.png\n",
      "Removed duplicate: Transformed_Datasets\\NOT_Auguste_Cropped_224\\extracted_face_0 (1999).jpg_0.png\n",
      "Removed duplicate: Transformed_Datasets\\NOT_Auguste_Cropped_224\\extracted_face_0 (2).jpeg_0.png\n",
      "Removed duplicate: Transformed_Datasets\\NOT_Auguste_Cropped_224\\extracted_face_0 (2).jpeg_1.png\n",
      "Removed duplicate: Transformed_Datasets\\NOT_Auguste_Cropped_224\\extracted_face_0 (2).jpeg_2.png\n",
      "Removed duplicate: Transformed_Datasets\\NOT_Auguste_Cropped_224\\extracted_face_0 (2).png_0.png\n",
      "Removed duplicate: Transformed_Datasets\\NOT_Auguste_Cropped_224\\extracted_face_0 (20).jpg_0.png\n",
      "Removed duplicate: Transformed_Datasets\\NOT_Auguste_Cropped_224\\extracted_face_0 (2000).jpg_0.png\n",
      "Removed duplicate: Transformed_Datasets\\NOT_Auguste_Cropped_224\\extracted_face_0 (2001).jpg_0.png\n",
      "Removed duplicate: Transformed_Datasets\\NOT_Auguste_Cropped_224\\extracted_face_0 (2002).jpg_0.png\n",
      "Removed duplicate: Transformed_Datasets\\NOT_Auguste_Cropped_224\\extracted_face_0 (2003).jpg_0.png\n",
      "Removed duplicate: Transformed_Datasets\\NOT_Auguste_Cropped_224\\extracted_face_0 (2004).jpg_0.png\n",
      "Removed duplicate: Transformed_Datasets\\NOT_Auguste_Cropped_224\\extracted_face_0 (2005).jpg_0.png\n",
      "Removed duplicate: Transformed_Datasets\\NOT_Auguste_Cropped_224\\extracted_face_0 (2006).jpg_0.png\n",
      "Removed duplicate: Transformed_Datasets\\NOT_Auguste_Cropped_224\\extracted_face_0 (2007).jpg_0.png\n",
      "Removed duplicate: Transformed_Datasets\\NOT_Auguste_Cropped_224\\extracted_face_0 (2008).jpg_0.png\n",
      "Removed duplicate: Transformed_Datasets\\NOT_Auguste_Cropped_224\\extracted_face_0 (2008).jpg_1.png\n",
      "Removed duplicate: Transformed_Datasets\\NOT_Auguste_Cropped_224\\extracted_face_0 (2009).jpg_0.png\n",
      "Removed duplicate: Transformed_Datasets\\NOT_Auguste_Cropped_224\\extracted_face_0 (2010).jpg_0.png\n",
      "Removed duplicate: Transformed_Datasets\\NOT_Auguste_Cropped_224\\extracted_face_0 (2011).jpg_0.png\n",
      "Removed duplicate: Transformed_Datasets\\NOT_Auguste_Cropped_224\\extracted_face_0 (2012).jpg_0.png\n",
      "Removed duplicate: Transformed_Datasets\\NOT_Auguste_Cropped_224\\extracted_face_0 (2014).jpg_0.png\n",
      "Removed duplicate: Transformed_Datasets\\NOT_Auguste_Cropped_224\\extracted_face_0 (2015).jpg_0.png\n",
      "Removed duplicate: Transformed_Datasets\\NOT_Auguste_Cropped_224\\extracted_face_0 (2016).jpg_0.png\n",
      "Removed duplicate: Transformed_Datasets\\NOT_Auguste_Cropped_224\\extracted_face_0 (2017).jpg_0.png\n",
      "Removed duplicate: Transformed_Datasets\\NOT_Auguste_Cropped_224\\extracted_face_0 (2018).jpg_0.png\n",
      "Removed duplicate: Transformed_Datasets\\NOT_Auguste_Cropped_224\\extracted_face_0 (2019).jpg_0.png\n",
      "Removed duplicate: Transformed_Datasets\\NOT_Auguste_Cropped_224\\extracted_face_0 (202).jpg_0.png\n",
      "Removed duplicate: Transformed_Datasets\\NOT_Auguste_Cropped_224\\extracted_face_0 (2020).jpg_0.png\n",
      "Removed duplicate: Transformed_Datasets\\NOT_Auguste_Cropped_224\\extracted_face_0 (2021).jpg_0.png\n",
      "Removed duplicate: Transformed_Datasets\\NOT_Auguste_Cropped_224\\extracted_face_0 (2022).jpg_0.png\n",
      "Removed duplicate: Transformed_Datasets\\NOT_Auguste_Cropped_224\\extracted_face_0 (2023).jpg_0.png\n",
      "Removed duplicate: Transformed_Datasets\\NOT_Auguste_Cropped_224\\extracted_face_0 (2024).jpg_0.png\n",
      "Removed duplicate: Transformed_Datasets\\NOT_Auguste_Cropped_224\\extracted_face_0 (2025).jpg_0.png\n",
      "Removed duplicate: Transformed_Datasets\\NOT_Auguste_Cropped_224\\extracted_face_0 (2026).jpg_0.png\n",
      "Removed duplicate: Transformed_Datasets\\NOT_Auguste_Cropped_224\\extracted_face_0 (2027).jpg_0.png\n",
      "Removed duplicate: Transformed_Datasets\\NOT_Auguste_Cropped_224\\extracted_face_0 (2028).jpg_0.png\n",
      "Removed duplicate: Transformed_Datasets\\NOT_Auguste_Cropped_224\\extracted_face_0 (2029).jpg_0.png\n",
      "Removed duplicate: Transformed_Datasets\\NOT_Auguste_Cropped_224\\extracted_face_0 (2031).jpg_0.png\n",
      "Removed duplicate: Transformed_Datasets\\NOT_Auguste_Cropped_224\\extracted_face_0 (2032).jpg_0.png\n",
      "Removed duplicate: Transformed_Datasets\\NOT_Auguste_Cropped_224\\extracted_face_0 (2033).jpg_0.png\n",
      "Removed duplicate: Transformed_Datasets\\NOT_Auguste_Cropped_224\\extracted_face_0 (2034).jpg_0.png\n",
      "Removed duplicate: Transformed_Datasets\\NOT_Auguste_Cropped_224\\extracted_face_0 (2035).jpg_0.png\n",
      "Removed duplicate: Transformed_Datasets\\NOT_Auguste_Cropped_224\\extracted_face_0 (2036).jpg_0.png\n",
      "Removed duplicate: Transformed_Datasets\\NOT_Auguste_Cropped_224\\extracted_face_0 (2037).jpg_0.png\n",
      "Removed duplicate: Transformed_Datasets\\NOT_Auguste_Cropped_224\\extracted_face_0 (2038).jpg_0.png\n",
      "Removed duplicate: Transformed_Datasets\\NOT_Auguste_Cropped_224\\extracted_face_0 (2039).jpg_0.png\n",
      "Removed duplicate: Transformed_Datasets\\NOT_Auguste_Cropped_224\\extracted_face_0 (2040).jpg_0.png\n",
      "Removed duplicate: Transformed_Datasets\\NOT_Auguste_Cropped_224\\extracted_face_0 (2041).jpg_0.png\n",
      "Removed duplicate: Transformed_Datasets\\NOT_Auguste_Cropped_224\\extracted_face_0 (2042).jpg_0.png\n",
      "Removed duplicate: Transformed_Datasets\\NOT_Auguste_Cropped_224\\extracted_face_0 (2043).jpg_0.png\n",
      "Removed duplicate: Transformed_Datasets\\NOT_Auguste_Cropped_224\\extracted_face_0 (2044).jpg_0.png\n",
      "Removed duplicate: Transformed_Datasets\\NOT_Auguste_Cropped_224\\extracted_face_0 (2045).jpg_0.png\n",
      "Removed duplicate: Transformed_Datasets\\NOT_Auguste_Cropped_224\\extracted_face_0 (2046).jpg_0.png\n",
      "Removed duplicate: Transformed_Datasets\\NOT_Auguste_Cropped_224\\extracted_face_0 (2047).jpg_0.png\n",
      "Removed duplicate: Transformed_Datasets\\NOT_Auguste_Cropped_224\\extracted_face_0 (2048).jpg_0.png\n",
      "Removed duplicate: Transformed_Datasets\\NOT_Auguste_Cropped_224\\extracted_face_0 (2049).jpg_0.png\n",
      "Removed duplicate: Transformed_Datasets\\NOT_Auguste_Cropped_224\\extracted_face_0 (205).jpg_0.png\n",
      "Removed duplicate: Transformed_Datasets\\NOT_Auguste_Cropped_224\\extracted_face_0 (2050).jpg_0.png\n",
      "Removed duplicate: Transformed_Datasets\\NOT_Auguste_Cropped_224\\extracted_face_0 (2051).jpg_0.png\n",
      "Removed duplicate: Transformed_Datasets\\NOT_Auguste_Cropped_224\\extracted_face_0 (2052).jpg_0.png\n",
      "Removed duplicate: Transformed_Datasets\\NOT_Auguste_Cropped_224\\extracted_face_0 (2053).jpg_0.png\n",
      "Removed duplicate: Transformed_Datasets\\NOT_Auguste_Cropped_224\\extracted_face_0 (2054).jpg_0.png\n",
      "Removed duplicate: Transformed_Datasets\\NOT_Auguste_Cropped_224\\extracted_face_0 (2055).jpg_0.png\n",
      "Removed duplicate: Transformed_Datasets\\NOT_Auguste_Cropped_224\\extracted_face_0 (2056).jpg_0.png\n",
      "Removed duplicate: Transformed_Datasets\\NOT_Auguste_Cropped_224\\extracted_face_0 (2057).jpg_0.png\n",
      "Removed duplicate: Transformed_Datasets\\NOT_Auguste_Cropped_224\\extracted_face_0 (2058).jpg_0.png\n",
      "Removed duplicate: Transformed_Datasets\\NOT_Auguste_Cropped_224\\extracted_face_0 (2059).jpg_0.png\n",
      "Removed duplicate: Transformed_Datasets\\NOT_Auguste_Cropped_224\\extracted_face_0 (206).jpg_0.png\n",
      "Removed duplicate: Transformed_Datasets\\NOT_Auguste_Cropped_224\\extracted_face_0 (2060).jpg_0.png\n",
      "Removed duplicate: Transformed_Datasets\\NOT_Auguste_Cropped_224\\extracted_face_0 (2061).jpg_0.png\n",
      "Removed duplicate: Transformed_Datasets\\NOT_Auguste_Cropped_224\\extracted_face_0 (2062).jpg_0.png\n",
      "Removed duplicate: Transformed_Datasets\\NOT_Auguste_Cropped_224\\extracted_face_0 (2063).jpg_0.png\n",
      "Removed duplicate: Transformed_Datasets\\NOT_Auguste_Cropped_224\\extracted_face_0 (2064).jpg_0.png\n",
      "Removed duplicate: Transformed_Datasets\\NOT_Auguste_Cropped_224\\extracted_face_0 (2065).jpg_0.png\n",
      "Removed duplicate: Transformed_Datasets\\NOT_Auguste_Cropped_224\\extracted_face_0 (2066).jpg_0.png\n",
      "Removed duplicate: Transformed_Datasets\\NOT_Auguste_Cropped_224\\extracted_face_0 (2067).jpg_0.png\n",
      "Removed duplicate: Transformed_Datasets\\NOT_Auguste_Cropped_224\\extracted_face_0 (2068).jpg_0.png\n",
      "Removed duplicate: Transformed_Datasets\\NOT_Auguste_Cropped_224\\extracted_face_0 (207).jpg_0.png\n",
      "Removed duplicate: Transformed_Datasets\\NOT_Auguste_Cropped_224\\extracted_face_0 (2070).jpg_0.png\n",
      "Removed duplicate: Transformed_Datasets\\NOT_Auguste_Cropped_224\\extracted_face_0 (2071).jpg_0.png\n",
      "Removed duplicate: Transformed_Datasets\\NOT_Auguste_Cropped_224\\extracted_face_0 (2072).jpg_0.png\n",
      "Removed duplicate: Transformed_Datasets\\NOT_Auguste_Cropped_224\\extracted_face_0 (2073).jpg_0.png\n",
      "Removed duplicate: Transformed_Datasets\\NOT_Auguste_Cropped_224\\extracted_face_0 (2074).jpg_0.png\n",
      "Removed duplicate: Transformed_Datasets\\NOT_Auguste_Cropped_224\\extracted_face_0 (2075).jpg_0.png\n",
      "Removed duplicate: Transformed_Datasets\\NOT_Auguste_Cropped_224\\extracted_face_0 (2076).jpg_0.png\n",
      "Removed duplicate: Transformed_Datasets\\NOT_Auguste_Cropped_224\\extracted_face_0 (2077).jpg_0.png\n",
      "Removed duplicate: Transformed_Datasets\\NOT_Auguste_Cropped_224\\extracted_face_0 (2078).jpg_0.png\n",
      "Removed duplicate: Transformed_Datasets\\NOT_Auguste_Cropped_224\\extracted_face_0 (2079).jpg_0.png\n",
      "Removed duplicate: Transformed_Datasets\\NOT_Auguste_Cropped_224\\extracted_face_0 (2080).jpg_0.png\n",
      "Removed duplicate: Transformed_Datasets\\NOT_Auguste_Cropped_224\\extracted_face_0 (2081).jpg_0.png\n",
      "Removed duplicate: Transformed_Datasets\\NOT_Auguste_Cropped_224\\extracted_face_0 (2082).jpg_0.png\n",
      "Removed duplicate: Transformed_Datasets\\NOT_Auguste_Cropped_224\\extracted_face_0 (2083).jpg_0.png\n",
      "Removed duplicate: Transformed_Datasets\\NOT_Auguste_Cropped_224\\extracted_face_0 (2084).jpg_0.png\n",
      "Removed duplicate: Transformed_Datasets\\NOT_Auguste_Cropped_224\\extracted_face_0 (2085).jpg_0.png\n",
      "Removed duplicate: Transformed_Datasets\\NOT_Auguste_Cropped_224\\extracted_face_0 (2086).jpg_0.png\n",
      "Removed duplicate: Transformed_Datasets\\NOT_Auguste_Cropped_224\\extracted_face_0 (2087).jpg_0.png\n",
      "Removed duplicate: Transformed_Datasets\\NOT_Auguste_Cropped_224\\extracted_face_0 (2088).jpg_0.png\n",
      "Removed duplicate: Transformed_Datasets\\NOT_Auguste_Cropped_224\\extracted_face_0 (2089).jpg_0.png\n",
      "Removed duplicate: Transformed_Datasets\\NOT_Auguste_Cropped_224\\extracted_face_0 (2090).jpg_0.png\n",
      "Removed duplicate: Transformed_Datasets\\NOT_Auguste_Cropped_224\\extracted_face_0 (2091).jpg_0.png\n",
      "Removed duplicate: Transformed_Datasets\\NOT_Auguste_Cropped_224\\extracted_face_0 (2092).jpg_0.png\n",
      "Removed duplicate: Transformed_Datasets\\NOT_Auguste_Cropped_224\\extracted_face_0 (2093).jpg_0.png\n",
      "Removed duplicate: Transformed_Datasets\\NOT_Auguste_Cropped_224\\extracted_face_0 (2094).jpg_0.png\n",
      "Removed duplicate: Transformed_Datasets\\NOT_Auguste_Cropped_224\\extracted_face_0 (2095).jpg_0.png\n",
      "Removed duplicate: Transformed_Datasets\\NOT_Auguste_Cropped_224\\extracted_face_0 (2096).jpg_0.png\n",
      "Removed duplicate: Transformed_Datasets\\NOT_Auguste_Cropped_224\\extracted_face_0 (2097).jpg_0.png\n",
      "Removed duplicate: Transformed_Datasets\\NOT_Auguste_Cropped_224\\extracted_face_0 (2098).jpg_0.png\n",
      "Removed duplicate: Transformed_Datasets\\NOT_Auguste_Cropped_224\\extracted_face_0 (2099).jpg_0.png\n",
      "Removed duplicate: Transformed_Datasets\\NOT_Auguste_Cropped_224\\extracted_face_0 (21).jpeg_0.png\n",
      "Removed duplicate: Transformed_Datasets\\NOT_Auguste_Cropped_224\\extracted_face_0 (210).jpg_0.png\n",
      "Removed duplicate: Transformed_Datasets\\NOT_Auguste_Cropped_224\\extracted_face_0 (2100).jpg_0.png\n",
      "Removed duplicate: Transformed_Datasets\\NOT_Auguste_Cropped_224\\extracted_face_0 (2101).jpg_0.png\n",
      "Removed duplicate: Transformed_Datasets\\NOT_Auguste_Cropped_224\\extracted_face_0 (2102).jpg_0.png\n",
      "Removed duplicate: Transformed_Datasets\\NOT_Auguste_Cropped_224\\extracted_face_0 (2103).JPG_0.png\n",
      "Removed duplicate: Transformed_Datasets\\NOT_Auguste_Cropped_224\\extracted_face_0 (2104).jpg_0.png\n",
      "Removed duplicate: Transformed_Datasets\\NOT_Auguste_Cropped_224\\extracted_face_0 (2105).jpg_0.png\n",
      "Removed duplicate: Transformed_Datasets\\NOT_Auguste_Cropped_224\\extracted_face_0 (2106).jpg_0.png\n",
      "Removed duplicate: Transformed_Datasets\\NOT_Auguste_Cropped_224\\extracted_face_0 (2107).jpg_0.png\n",
      "Removed duplicate: Transformed_Datasets\\NOT_Auguste_Cropped_224\\extracted_face_0 (2108).jpg_0.png\n",
      "Removed duplicate: Transformed_Datasets\\NOT_Auguste_Cropped_224\\extracted_face_0 (2109).jpg_0.png\n",
      "Removed duplicate: Transformed_Datasets\\NOT_Auguste_Cropped_224\\extracted_face_0 (2110).jpg_0.png\n",
      "Removed duplicate: Transformed_Datasets\\NOT_Auguste_Cropped_224\\extracted_face_0 (2111).jpg_0.png\n",
      "Removed duplicate: Transformed_Datasets\\NOT_Auguste_Cropped_224\\extracted_face_0 (2112).jpg_0.png\n",
      "Removed duplicate: Transformed_Datasets\\NOT_Auguste_Cropped_224\\extracted_face_0 (2113).jpg_0.png\n",
      "Removed duplicate: Transformed_Datasets\\NOT_Auguste_Cropped_224\\extracted_face_0 (2114).jpg_0.png\n",
      "Removed duplicate: Transformed_Datasets\\NOT_Auguste_Cropped_224\\extracted_face_0 (2115).jpg_0.png\n",
      "Removed duplicate: Transformed_Datasets\\NOT_Auguste_Cropped_224\\extracted_face_0 (2116).jpg_0.png\n",
      "Removed duplicate: Transformed_Datasets\\NOT_Auguste_Cropped_224\\extracted_face_0 (2117).jpg_0.png\n",
      "Removed duplicate: Transformed_Datasets\\NOT_Auguste_Cropped_224\\extracted_face_0 (2118).jpg_0.png\n",
      "Removed duplicate: Transformed_Datasets\\NOT_Auguste_Cropped_224\\extracted_face_0 (2119).jpg_0.png\n",
      "Removed duplicate: Transformed_Datasets\\NOT_Auguste_Cropped_224\\extracted_face_0 (2120).jpg_0.png\n",
      "Removed duplicate: Transformed_Datasets\\NOT_Auguste_Cropped_224\\extracted_face_0 (2121).jpg_0.png\n",
      "Removed duplicate: Transformed_Datasets\\NOT_Auguste_Cropped_224\\extracted_face_0 (2122).jpg_0.png\n",
      "Removed duplicate: Transformed_Datasets\\NOT_Auguste_Cropped_224\\extracted_face_0 (2123).jpg_0.png\n",
      "Removed duplicate: Transformed_Datasets\\NOT_Auguste_Cropped_224\\extracted_face_0 (2124).jpg_0.png\n",
      "Removed duplicate: Transformed_Datasets\\NOT_Auguste_Cropped_224\\extracted_face_0 (2125).jpg_0.png\n",
      "Removed duplicate: Transformed_Datasets\\NOT_Auguste_Cropped_224\\extracted_face_0 (2126).jpg_0.png\n",
      "Removed duplicate: Transformed_Datasets\\NOT_Auguste_Cropped_224\\extracted_face_0 (2127).jpg_0.png\n",
      "Removed duplicate: Transformed_Datasets\\NOT_Auguste_Cropped_224\\extracted_face_0 (2128).jpg_0.png\n",
      "Removed duplicate: Transformed_Datasets\\NOT_Auguste_Cropped_224\\extracted_face_0 (2129).jpg_0.png\n",
      "Removed duplicate: Transformed_Datasets\\NOT_Auguste_Cropped_224\\extracted_face_0 (213).jpg_0.png\n",
      "Removed duplicate: Transformed_Datasets\\NOT_Auguste_Cropped_224\\extracted_face_0 (2130).jpg_0.png\n",
      "Removed duplicate: Transformed_Datasets\\NOT_Auguste_Cropped_224\\extracted_face_0 (2131).jpg_0.png\n",
      "Removed duplicate: Transformed_Datasets\\NOT_Auguste_Cropped_224\\extracted_face_0 (2132).jpg_0.png\n",
      "Removed duplicate: Transformed_Datasets\\NOT_Auguste_Cropped_224\\extracted_face_0 (2133).jpg_0.png\n",
      "Removed duplicate: Transformed_Datasets\\NOT_Auguste_Cropped_224\\extracted_face_0 (2134).jpg_0.png\n",
      "Removed duplicate: Transformed_Datasets\\NOT_Auguste_Cropped_224\\extracted_face_0 (2135).jpg_0.png\n",
      "Removed duplicate: Transformed_Datasets\\NOT_Auguste_Cropped_224\\extracted_face_0 (2136).jpg_0.png\n",
      "Removed duplicate: Transformed_Datasets\\NOT_Auguste_Cropped_224\\extracted_face_0 (2137).jpg_0.png\n",
      "Removed duplicate: Transformed_Datasets\\NOT_Auguste_Cropped_224\\extracted_face_0 (2138).jpg_0.png\n",
      "Removed duplicate: Transformed_Datasets\\NOT_Auguste_Cropped_224\\extracted_face_0 (2139).jpg_0.png\n",
      "Removed duplicate: Transformed_Datasets\\NOT_Auguste_Cropped_224\\extracted_face_0 (214).jpg_0.png\n",
      "Removed duplicate: Transformed_Datasets\\NOT_Auguste_Cropped_224\\extracted_face_0 (2140).jpg_0.png\n",
      "Removed duplicate: Transformed_Datasets\\NOT_Auguste_Cropped_224\\extracted_face_0 (2141).jpg_0.png\n",
      "Removed duplicate: Transformed_Datasets\\NOT_Auguste_Cropped_224\\extracted_face_0 (2142).jpg_0.png\n",
      "Removed duplicate: Transformed_Datasets\\NOT_Auguste_Cropped_224\\extracted_face_0 (2143).jpg_0.png\n",
      "Removed duplicate: Transformed_Datasets\\NOT_Auguste_Cropped_224\\extracted_face_0 (2144).jpg_0.png\n",
      "Removed duplicate: Transformed_Datasets\\NOT_Auguste_Cropped_224\\extracted_face_0 (2145).jpg_0.png\n",
      "Removed duplicate: Transformed_Datasets\\NOT_Auguste_Cropped_224\\extracted_face_0 (2146).jpg_0.png\n",
      "Removed duplicate: Transformed_Datasets\\NOT_Auguste_Cropped_224\\extracted_face_0 (2147).jpg_0.png\n",
      "Removed duplicate: Transformed_Datasets\\NOT_Auguste_Cropped_224\\extracted_face_0 (2148).jpg_0.png\n",
      "Removed duplicate: Transformed_Datasets\\NOT_Auguste_Cropped_224\\extracted_face_0 (2149).jpg_0.png\n",
      "Removed duplicate: Transformed_Datasets\\NOT_Auguste_Cropped_224\\extracted_face_0 (215).jpg_0.png\n",
      "Removed duplicate: Transformed_Datasets\\NOT_Auguste_Cropped_224\\extracted_face_0 (2150).jpg_0.png\n",
      "Removed duplicate: Transformed_Datasets\\NOT_Auguste_Cropped_224\\extracted_face_0 (2151).jpg_0.png\n",
      "Removed duplicate: Transformed_Datasets\\NOT_Auguste_Cropped_224\\extracted_face_0 (2152).jpg_0.png\n",
      "Removed duplicate: Transformed_Datasets\\NOT_Auguste_Cropped_224\\extracted_face_0 (2153).jpg_0.png\n",
      "Removed duplicate: Transformed_Datasets\\NOT_Auguste_Cropped_224\\extracted_face_0 (2155).jpg_0.png\n",
      "Removed duplicate: Transformed_Datasets\\NOT_Auguste_Cropped_224\\extracted_face_0 (2156).jpg_0.png\n",
      "Removed duplicate: Transformed_Datasets\\NOT_Auguste_Cropped_224\\extracted_face_0 (2157).jpg_0.png\n",
      "Removed duplicate: Transformed_Datasets\\NOT_Auguste_Cropped_224\\extracted_face_0 (2158).jpg_0.png\n",
      "Removed duplicate: Transformed_Datasets\\NOT_Auguste_Cropped_224\\extracted_face_0 (2159).jpg_0.png\n",
      "Removed duplicate: Transformed_Datasets\\NOT_Auguste_Cropped_224\\extracted_face_0 (2160).jpg_0.png\n",
      "Removed duplicate: Transformed_Datasets\\NOT_Auguste_Cropped_224\\extracted_face_0 (2161).jpg_0.png\n",
      "Removed duplicate: Transformed_Datasets\\NOT_Auguste_Cropped_224\\extracted_face_0 (2162).jpg_0.png\n",
      "Removed duplicate: Transformed_Datasets\\NOT_Auguste_Cropped_224\\extracted_face_0 (2163).jpg_0.png\n",
      "Removed duplicate: Transformed_Datasets\\NOT_Auguste_Cropped_224\\extracted_face_0 (2164).jpg_0.png\n",
      "Removed duplicate: Transformed_Datasets\\NOT_Auguste_Cropped_224\\extracted_face_0 (2165).jpg_0.png\n",
      "Removed duplicate: Transformed_Datasets\\NOT_Auguste_Cropped_224\\extracted_face_0 (2166).jpg_0.png\n",
      "Removed duplicate: Transformed_Datasets\\NOT_Auguste_Cropped_224\\extracted_face_0 (2167).jpg_0.png\n",
      "Removed duplicate: Transformed_Datasets\\NOT_Auguste_Cropped_224\\extracted_face_0 (2168).jpg_0.png\n",
      "Removed duplicate: Transformed_Datasets\\NOT_Auguste_Cropped_224\\extracted_face_0 (2169).jpg_0.png\n",
      "Removed duplicate: Transformed_Datasets\\NOT_Auguste_Cropped_224\\extracted_face_0 (2170).jpg_0.png\n",
      "Removed duplicate: Transformed_Datasets\\NOT_Auguste_Cropped_224\\extracted_face_0 (2171).jpg_0.png\n",
      "Removed duplicate: Transformed_Datasets\\NOT_Auguste_Cropped_224\\extracted_face_0 (2172).jpg_0.png\n",
      "Removed duplicate: Transformed_Datasets\\NOT_Auguste_Cropped_224\\extracted_face_0 (2173).jpg_0.png\n",
      "Removed duplicate: Transformed_Datasets\\NOT_Auguste_Cropped_224\\extracted_face_0 (2174).jpg_0.png\n",
      "Removed duplicate: Transformed_Datasets\\NOT_Auguste_Cropped_224\\extracted_face_0 (2175).jpg_0.png\n",
      "Removed duplicate: Transformed_Datasets\\NOT_Auguste_Cropped_224\\extracted_face_0 (2176).jpg_0.png\n",
      "Removed duplicate: Transformed_Datasets\\NOT_Auguste_Cropped_224\\extracted_face_0 (2177).jpg_0.png\n",
      "Removed duplicate: Transformed_Datasets\\NOT_Auguste_Cropped_224\\extracted_face_0 (2178).jpg_0.png\n",
      "Removed duplicate: Transformed_Datasets\\NOT_Auguste_Cropped_224\\extracted_face_0 (2179).jpg_0.png\n",
      "Removed duplicate: Transformed_Datasets\\NOT_Auguste_Cropped_224\\extracted_face_0 (218).jpg_0.png\n",
      "Removed duplicate: Transformed_Datasets\\NOT_Auguste_Cropped_224\\extracted_face_0 (2180).jpg_0.png\n",
      "Removed duplicate: Transformed_Datasets\\NOT_Auguste_Cropped_224\\extracted_face_0 (2181).jpg_0.png\n",
      "Removed duplicate: Transformed_Datasets\\NOT_Auguste_Cropped_224\\extracted_face_0 (2182).jpg_0.png\n",
      "Removed duplicate: Transformed_Datasets\\NOT_Auguste_Cropped_224\\extracted_face_0 (2183).jpg_0.png\n",
      "Removed duplicate: Transformed_Datasets\\NOT_Auguste_Cropped_224\\extracted_face_0 (2184).jpg_0.png\n",
      "Removed duplicate: Transformed_Datasets\\NOT_Auguste_Cropped_224\\extracted_face_0 (2185).jpg_0.png\n",
      "Removed duplicate: Transformed_Datasets\\NOT_Auguste_Cropped_224\\extracted_face_0 (2186).jpg_0.png\n",
      "Removed duplicate: Transformed_Datasets\\NOT_Auguste_Cropped_224\\extracted_face_0 (2187).jpg_0.png\n",
      "Removed duplicate: Transformed_Datasets\\NOT_Auguste_Cropped_224\\extracted_face_0 (2189).jpg_0.png\n",
      "Removed duplicate: Transformed_Datasets\\NOT_Auguste_Cropped_224\\extracted_face_0 (219).jpg_0.png\n",
      "Removed duplicate: Transformed_Datasets\\NOT_Auguste_Cropped_224\\extracted_face_0 (2190).jpg_0.png\n",
      "Removed duplicate: Transformed_Datasets\\NOT_Auguste_Cropped_224\\extracted_face_0 (2191).jpg_0.png\n",
      "Removed duplicate: Transformed_Datasets\\NOT_Auguste_Cropped_224\\extracted_face_0 (2192).jpg_0.png\n",
      "Removed duplicate: Transformed_Datasets\\NOT_Auguste_Cropped_224\\extracted_face_0 (2192).jpg_1.png\n",
      "Removed duplicate: Transformed_Datasets\\NOT_Auguste_Cropped_224\\extracted_face_0 (2193).jpg_0.png\n",
      "Removed duplicate: Transformed_Datasets\\NOT_Auguste_Cropped_224\\extracted_face_0 (2194).jpg_0.png\n",
      "Removed duplicate: Transformed_Datasets\\NOT_Auguste_Cropped_224\\extracted_face_0 (2195).jpg_0.png\n",
      "Removed duplicate: Transformed_Datasets\\NOT_Auguste_Cropped_224\\extracted_face_0 (2196).jpg_0.png\n",
      "Removed duplicate: Transformed_Datasets\\NOT_Auguste_Cropped_224\\extracted_face_0 (2197).jpg_0.png\n",
      "Removed duplicate: Transformed_Datasets\\NOT_Auguste_Cropped_224\\extracted_face_0 (2198).jpg_0.png\n",
      "Removed duplicate: Transformed_Datasets\\NOT_Auguste_Cropped_224\\extracted_face_0 (2199).jpg_0.png\n",
      "Removed duplicate: Transformed_Datasets\\NOT_Auguste_Cropped_224\\extracted_face_0 (22).jpeg_0.png\n",
      "Removed duplicate: Transformed_Datasets\\NOT_Auguste_Cropped_224\\extracted_face_0 (22).jpg_0.png\n",
      "Removed duplicate: Transformed_Datasets\\NOT_Auguste_Cropped_224\\extracted_face_0 (220).jpg_0.png\n",
      "Removed duplicate: Transformed_Datasets\\NOT_Auguste_Cropped_224\\extracted_face_0 (2200).jpg_0.png\n",
      "Removed duplicate: Transformed_Datasets\\NOT_Auguste_Cropped_224\\extracted_face_0 (2201).jpg_0.png\n",
      "Removed duplicate: Transformed_Datasets\\NOT_Auguste_Cropped_224\\extracted_face_0 (2202).jpg_0.png\n",
      "Removed duplicate: Transformed_Datasets\\NOT_Auguste_Cropped_224\\extracted_face_0 (2203).jpg_0.png\n",
      "Removed duplicate: Transformed_Datasets\\NOT_Auguste_Cropped_224\\extracted_face_0 (2204).jpg_0.png\n",
      "Removed duplicate: Transformed_Datasets\\NOT_Auguste_Cropped_224\\extracted_face_0 (2205).JPG_0.png\n",
      "Removed duplicate: Transformed_Datasets\\NOT_Auguste_Cropped_224\\extracted_face_0 (2206).jpg_0.png\n",
      "Removed duplicate: Transformed_Datasets\\NOT_Auguste_Cropped_224\\extracted_face_0 (2207).jpg_0.png\n",
      "Removed duplicate: Transformed_Datasets\\NOT_Auguste_Cropped_224\\extracted_face_0 (2208).jpg_0.png\n",
      "Removed duplicate: Transformed_Datasets\\NOT_Auguste_Cropped_224\\extracted_face_0 (2209).jpg_0.png\n",
      "Removed duplicate: Transformed_Datasets\\NOT_Auguste_Cropped_224\\extracted_face_0 (2210).jpg_0.png\n",
      "Removed duplicate: Transformed_Datasets\\NOT_Auguste_Cropped_224\\extracted_face_0 (2211).jpg_0.png\n",
      "Removed duplicate: Transformed_Datasets\\NOT_Auguste_Cropped_224\\extracted_face_0 (2212).jpg_0.png\n",
      "Removed duplicate: Transformed_Datasets\\NOT_Auguste_Cropped_224\\extracted_face_0 (2213).jpg_0.png\n",
      "Removed duplicate: Transformed_Datasets\\NOT_Auguste_Cropped_224\\extracted_face_0 (2214).jpg_0.png\n",
      "Removed duplicate: Transformed_Datasets\\NOT_Auguste_Cropped_224\\extracted_face_0 (2215).jpg_0.png\n",
      "Removed duplicate: Transformed_Datasets\\NOT_Auguste_Cropped_224\\extracted_face_0 (2216).jpg_0.png\n",
      "Removed duplicate: Transformed_Datasets\\NOT_Auguste_Cropped_224\\extracted_face_0 (2217).jpg_0.png\n",
      "Removed duplicate: Transformed_Datasets\\NOT_Auguste_Cropped_224\\extracted_face_0 (2218).jpg_0.png\n",
      "Removed duplicate: Transformed_Datasets\\NOT_Auguste_Cropped_224\\extracted_face_0 (2219).jpg_0.png\n",
      "Removed duplicate: Transformed_Datasets\\NOT_Auguste_Cropped_224\\extracted_face_0 (222).jpg_0.png\n",
      "Removed duplicate: Transformed_Datasets\\NOT_Auguste_Cropped_224\\extracted_face_0 (2220).jpg_0.png\n",
      "Removed duplicate: Transformed_Datasets\\NOT_Auguste_Cropped_224\\extracted_face_0 (2221).jpg_0.png\n",
      "Removed duplicate: Transformed_Datasets\\NOT_Auguste_Cropped_224\\extracted_face_0 (2222).jpg_0.png\n",
      "Removed duplicate: Transformed_Datasets\\NOT_Auguste_Cropped_224\\extracted_face_0 (2223).jpg_0.png\n",
      "Removed duplicate: Transformed_Datasets\\NOT_Auguste_Cropped_224\\extracted_face_0 (2224).jpg_0.png\n",
      "Removed duplicate: Transformed_Datasets\\NOT_Auguste_Cropped_224\\extracted_face_0 (2225).jpg_0.png\n",
      "Removed duplicate: Transformed_Datasets\\NOT_Auguste_Cropped_224\\extracted_face_0 (2226).jpg_0.png\n",
      "Removed duplicate: Transformed_Datasets\\NOT_Auguste_Cropped_224\\extracted_face_0 (2227).jpg_0.png\n",
      "Removed duplicate: Transformed_Datasets\\NOT_Auguste_Cropped_224\\extracted_face_0 (2228).jpg_0.png\n",
      "Removed duplicate: Transformed_Datasets\\NOT_Auguste_Cropped_224\\extracted_face_0 (2229).jpg_0.png\n",
      "Removed duplicate: Transformed_Datasets\\NOT_Auguste_Cropped_224\\extracted_face_0 (223).jpg_0.png\n",
      "Removed duplicate: Transformed_Datasets\\NOT_Auguste_Cropped_224\\extracted_face_0 (2230).jpg_0.png\n",
      "Removed duplicate: Transformed_Datasets\\NOT_Auguste_Cropped_224\\extracted_face_0 (2231).jpg_0.png\n",
      "Removed duplicate: Transformed_Datasets\\NOT_Auguste_Cropped_224\\extracted_face_0 (2233).jpg_0.png\n",
      "Removed duplicate: Transformed_Datasets\\NOT_Auguste_Cropped_224\\extracted_face_0 (2234).jpg_0.png\n",
      "Removed duplicate: Transformed_Datasets\\NOT_Auguste_Cropped_224\\extracted_face_0 (2235).jpg_0.png\n",
      "Removed duplicate: Transformed_Datasets\\NOT_Auguste_Cropped_224\\extracted_face_0 (2236).jpg_0.png\n",
      "Removed duplicate: Transformed_Datasets\\NOT_Auguste_Cropped_224\\extracted_face_0 (2237).jpg_0.png\n",
      "Removed duplicate: Transformed_Datasets\\NOT_Auguste_Cropped_224\\extracted_face_0 (2238).jpg_0.png\n",
      "Removed duplicate: Transformed_Datasets\\NOT_Auguste_Cropped_224\\extracted_face_0 (2239).jpg_0.png\n",
      "Removed duplicate: Transformed_Datasets\\NOT_Auguste_Cropped_224\\extracted_face_0 (224).jpg_0.png\n",
      "Removed duplicate: Transformed_Datasets\\NOT_Auguste_Cropped_224\\extracted_face_0 (2240).jpg_0.png\n",
      "Removed duplicate: Transformed_Datasets\\NOT_Auguste_Cropped_224\\extracted_face_0 (2241).jpg_0.png\n",
      "Removed duplicate: Transformed_Datasets\\NOT_Auguste_Cropped_224\\extracted_face_0 (2242).jpg_0.png\n",
      "Removed duplicate: Transformed_Datasets\\NOT_Auguste_Cropped_224\\extracted_face_0 (2243).jpg_0.png\n",
      "Removed duplicate: Transformed_Datasets\\NOT_Auguste_Cropped_224\\extracted_face_0 (2244).jpg_0.png\n",
      "Removed duplicate: Transformed_Datasets\\NOT_Auguste_Cropped_224\\extracted_face_0 (2245).jpg_0.png\n",
      "Removed duplicate: Transformed_Datasets\\NOT_Auguste_Cropped_224\\extracted_face_0 (2246).jpg_0.png\n",
      "Removed duplicate: Transformed_Datasets\\NOT_Auguste_Cropped_224\\extracted_face_0 (2247).jpg_0.png\n",
      "Removed duplicate: Transformed_Datasets\\NOT_Auguste_Cropped_224\\extracted_face_0 (2248).jpg_0.png\n",
      "Removed duplicate: Transformed_Datasets\\NOT_Auguste_Cropped_224\\extracted_face_0 (2249).jpg_0.png\n",
      "Removed duplicate: Transformed_Datasets\\NOT_Auguste_Cropped_224\\extracted_face_0 (225).jpg_0.png\n",
      "Removed duplicate: Transformed_Datasets\\NOT_Auguste_Cropped_224\\extracted_face_0 (2250).jpg_0.png\n",
      "Removed duplicate: Transformed_Datasets\\NOT_Auguste_Cropped_224\\extracted_face_0 (2251).jpg_0.png\n",
      "Removed duplicate: Transformed_Datasets\\NOT_Auguste_Cropped_224\\extracted_face_0 (2252).jpg_0.png\n",
      "Removed duplicate: Transformed_Datasets\\NOT_Auguste_Cropped_224\\extracted_face_0 (2253).jpg_0.png\n",
      "Removed duplicate: Transformed_Datasets\\NOT_Auguste_Cropped_224\\extracted_face_0 (2254).jpg_0.png\n",
      "Removed duplicate: Transformed_Datasets\\NOT_Auguste_Cropped_224\\extracted_face_0 (2256).jpg_0.png\n",
      "Removed duplicate: Transformed_Datasets\\NOT_Auguste_Cropped_224\\extracted_face_0 (2257).jpg_0.png\n",
      "Removed duplicate: Transformed_Datasets\\NOT_Auguste_Cropped_224\\extracted_face_0 (2258).jpg_0.png\n",
      "Removed duplicate: Transformed_Datasets\\NOT_Auguste_Cropped_224\\extracted_face_0 (2259).jpg_0.png\n",
      "Removed duplicate: Transformed_Datasets\\NOT_Auguste_Cropped_224\\extracted_face_0 (2260).jpg_0.png\n",
      "Removed duplicate: Transformed_Datasets\\NOT_Auguste_Cropped_224\\extracted_face_0 (2261).jpg_0.png\n",
      "Removed duplicate: Transformed_Datasets\\NOT_Auguste_Cropped_224\\extracted_face_0 (2262).jpg_0.png\n",
      "Removed duplicate: Transformed_Datasets\\NOT_Auguste_Cropped_224\\extracted_face_0 (2264).jpg_0.png\n",
      "Removed duplicate: Transformed_Datasets\\NOT_Auguste_Cropped_224\\extracted_face_0 (2265).jpg_0.png\n",
      "Removed duplicate: Transformed_Datasets\\NOT_Auguste_Cropped_224\\extracted_face_0 (2266).jpg_0.png\n",
      "Removed duplicate: Transformed_Datasets\\NOT_Auguste_Cropped_224\\extracted_face_0 (2267).jpg_0.png\n",
      "Removed duplicate: Transformed_Datasets\\NOT_Auguste_Cropped_224\\extracted_face_0 (2268).jpg_0.png\n",
      "Removed duplicate: Transformed_Datasets\\NOT_Auguste_Cropped_224\\extracted_face_0 (2269).jpg_0.png\n",
      "Removed duplicate: Transformed_Datasets\\NOT_Auguste_Cropped_224\\extracted_face_0 (227).jpg_0.png\n",
      "Removed duplicate: Transformed_Datasets\\NOT_Auguste_Cropped_224\\extracted_face_0 (227).jpg_1.png\n",
      "Removed duplicate: Transformed_Datasets\\NOT_Auguste_Cropped_224\\extracted_face_0 (2270).jpg_0.png\n",
      "Removed duplicate: Transformed_Datasets\\NOT_Auguste_Cropped_224\\extracted_face_0 (2271).jpg_0.png\n",
      "Removed duplicate: Transformed_Datasets\\NOT_Auguste_Cropped_224\\extracted_face_0 (2272).jpg_0.png\n",
      "Removed duplicate: Transformed_Datasets\\NOT_Auguste_Cropped_224\\extracted_face_0 (2273).jpg_0.png\n",
      "Removed duplicate: Transformed_Datasets\\NOT_Auguste_Cropped_224\\extracted_face_0 (2274).jpg_0.png\n",
      "Removed duplicate: Transformed_Datasets\\NOT_Auguste_Cropped_224\\extracted_face_0 (2275).jpg_0.png\n",
      "Removed duplicate: Transformed_Datasets\\NOT_Auguste_Cropped_224\\extracted_face_0 (2276).jpg_0.png\n",
      "Removed duplicate: Transformed_Datasets\\NOT_Auguste_Cropped_224\\extracted_face_0 (2277).jpg_0.png\n",
      "Removed duplicate: Transformed_Datasets\\NOT_Auguste_Cropped_224\\extracted_face_0 (2278).jpg_0.png\n",
      "Removed duplicate: Transformed_Datasets\\NOT_Auguste_Cropped_224\\extracted_face_0 (2278).jpg_1.png\n",
      "Removed duplicate: Transformed_Datasets\\NOT_Auguste_Cropped_224\\extracted_face_0 (2278).jpg_2.png\n",
      "Removed duplicate: Transformed_Datasets\\NOT_Auguste_Cropped_224\\extracted_face_0 (2279).jpg_0.png\n",
      "Removed duplicate: Transformed_Datasets\\NOT_Auguste_Cropped_224\\extracted_face_0 (228).jpg_0.png\n",
      "Removed duplicate: Transformed_Datasets\\NOT_Auguste_Cropped_224\\extracted_face_0 (2280).jpg_0.png\n",
      "Removed duplicate: Transformed_Datasets\\NOT_Auguste_Cropped_224\\extracted_face_0 (2281).jpg_0.png\n",
      "Removed duplicate: Transformed_Datasets\\NOT_Auguste_Cropped_224\\extracted_face_0 (2282).jpg_0.png\n",
      "Removed duplicate: Transformed_Datasets\\NOT_Auguste_Cropped_224\\extracted_face_0 (2283).jpg_0.png\n",
      "Removed duplicate: Transformed_Datasets\\NOT_Auguste_Cropped_224\\extracted_face_0 (2284).jpg_0.png\n",
      "Removed duplicate: Transformed_Datasets\\NOT_Auguste_Cropped_224\\extracted_face_0 (2285).jpg_0.png\n",
      "Removed duplicate: Transformed_Datasets\\NOT_Auguste_Cropped_224\\extracted_face_0 (2286).jpg_0.png\n",
      "Removed duplicate: Transformed_Datasets\\NOT_Auguste_Cropped_224\\extracted_face_0 (2287).jpg_0.png\n",
      "Removed duplicate: Transformed_Datasets\\NOT_Auguste_Cropped_224\\extracted_face_0 (2288).jpg_0.png\n",
      "Removed duplicate: Transformed_Datasets\\NOT_Auguste_Cropped_224\\extracted_face_0 (2289).jpg_0.png\n",
      "Removed duplicate: Transformed_Datasets\\NOT_Auguste_Cropped_224\\extracted_face_0 (229).jpg_0.png\n",
      "Removed duplicate: Transformed_Datasets\\NOT_Auguste_Cropped_224\\extracted_face_0 (2290).jpg_0.png\n",
      "Removed duplicate: Transformed_Datasets\\NOT_Auguste_Cropped_224\\extracted_face_0 (2293).jpg_0.png\n",
      "Removed duplicate: Transformed_Datasets\\NOT_Auguste_Cropped_224\\extracted_face_0 (2294).jpg_0.png\n",
      "Removed duplicate: Transformed_Datasets\\NOT_Auguste_Cropped_224\\extracted_face_0 (2295).jpg_0.png\n",
      "Removed duplicate: Transformed_Datasets\\NOT_Auguste_Cropped_224\\extracted_face_0 (2296).jpg_0.png\n",
      "Removed duplicate: Transformed_Datasets\\NOT_Auguste_Cropped_224\\extracted_face_0 (2297).jpg_0.png\n",
      "Removed duplicate: Transformed_Datasets\\NOT_Auguste_Cropped_224\\extracted_face_0 (2298).jpg_0.png\n",
      "Removed duplicate: Transformed_Datasets\\NOT_Auguste_Cropped_224\\extracted_face_0 (2299).jpg_0.png\n",
      "Removed duplicate: Transformed_Datasets\\NOT_Auguste_Cropped_224\\extracted_face_0 (23).jpg_0.png\n",
      "Removed duplicate: Transformed_Datasets\\NOT_Auguste_Cropped_224\\extracted_face_0 (230).jpg_0.png\n",
      "Removed duplicate: Transformed_Datasets\\NOT_Auguste_Cropped_224\\extracted_face_0 (2300).jpg_0.png\n",
      "Removed duplicate: Transformed_Datasets\\NOT_Auguste_Cropped_224\\extracted_face_0 (2301).jpg_0.png\n",
      "Removed duplicate: Transformed_Datasets\\NOT_Auguste_Cropped_224\\extracted_face_0 (2302).jpg_0.png\n",
      "Removed duplicate: Transformed_Datasets\\NOT_Auguste_Cropped_224\\extracted_face_0 (2303).jpg_0.png\n",
      "Removed duplicate: Transformed_Datasets\\NOT_Auguste_Cropped_224\\extracted_face_0 (2304).jpg_0.png\n",
      "Removed duplicate: Transformed_Datasets\\NOT_Auguste_Cropped_224\\extracted_face_0 (2305).jpg_0.png\n",
      "Removed duplicate: Transformed_Datasets\\NOT_Auguste_Cropped_224\\extracted_face_0 (2306).jpg_0.png\n",
      "Removed duplicate: Transformed_Datasets\\NOT_Auguste_Cropped_224\\extracted_face_0 (2307).jpg_0.png\n",
      "Removed duplicate: Transformed_Datasets\\NOT_Auguste_Cropped_224\\extracted_face_0 (2308).jpg_0.png\n",
      "Removed duplicate: Transformed_Datasets\\NOT_Auguste_Cropped_224\\extracted_face_0 (2309).jpg_0.png\n",
      "Removed duplicate: Transformed_Datasets\\NOT_Auguste_Cropped_224\\extracted_face_0 (231).jpg_0.png\n",
      "Removed duplicate: Transformed_Datasets\\NOT_Auguste_Cropped_224\\extracted_face_0 (2310).jpg_0.png\n",
      "Removed duplicate: Transformed_Datasets\\NOT_Auguste_Cropped_224\\extracted_face_0 (2311).jpg_0.png\n",
      "Removed duplicate: Transformed_Datasets\\NOT_Auguste_Cropped_224\\extracted_face_0 (2312).jpg_0.png\n",
      "Removed duplicate: Transformed_Datasets\\NOT_Auguste_Cropped_224\\extracted_face_0 (2313).jpg_0.png\n",
      "Removed duplicate: Transformed_Datasets\\NOT_Auguste_Cropped_224\\extracted_face_0 (2314).jpg_0.png\n",
      "Removed duplicate: Transformed_Datasets\\NOT_Auguste_Cropped_224\\extracted_face_0 (2315).jpg_0.png\n",
      "Removed duplicate: Transformed_Datasets\\NOT_Auguste_Cropped_224\\extracted_face_0 (2316).jpg_0.png\n",
      "Removed duplicate: Transformed_Datasets\\NOT_Auguste_Cropped_224\\extracted_face_0 (2317).jpg_0.png\n",
      "Removed duplicate: Transformed_Datasets\\NOT_Auguste_Cropped_224\\extracted_face_0 (2318).jpg_0.png\n",
      "Removed duplicate: Transformed_Datasets\\NOT_Auguste_Cropped_224\\extracted_face_0 (2319).jpg_0.png\n",
      "Removed duplicate: Transformed_Datasets\\NOT_Auguste_Cropped_224\\extracted_face_0 (232).jpg_0.png\n",
      "Removed duplicate: Transformed_Datasets\\NOT_Auguste_Cropped_224\\extracted_face_0 (2320).jpg_0.png\n",
      "Removed duplicate: Transformed_Datasets\\NOT_Auguste_Cropped_224\\extracted_face_0 (2321).jpg_0.png\n",
      "Removed duplicate: Transformed_Datasets\\NOT_Auguste_Cropped_224\\extracted_face_0 (2321).jpg_1.png\n",
      "Removed duplicate: Transformed_Datasets\\NOT_Auguste_Cropped_224\\extracted_face_0 (2322).jpg_0.png\n",
      "Removed duplicate: Transformed_Datasets\\NOT_Auguste_Cropped_224\\extracted_face_0 (2323).jpg_0.png\n",
      "Removed duplicate: Transformed_Datasets\\NOT_Auguste_Cropped_224\\extracted_face_0 (2324).jpg_0.png\n",
      "Removed duplicate: Transformed_Datasets\\NOT_Auguste_Cropped_224\\extracted_face_0 (2325).jpg_0.png\n",
      "Removed duplicate: Transformed_Datasets\\NOT_Auguste_Cropped_224\\extracted_face_0 (2326).jpg_0.png\n",
      "Removed duplicate: Transformed_Datasets\\NOT_Auguste_Cropped_224\\extracted_face_0 (2327).jpg_0.png\n",
      "Removed duplicate: Transformed_Datasets\\NOT_Auguste_Cropped_224\\extracted_face_0 (2328).jpg_0.png\n",
      "Removed duplicate: Transformed_Datasets\\NOT_Auguste_Cropped_224\\extracted_face_0 (2329).jpg_0.png\n",
      "Removed duplicate: Transformed_Datasets\\NOT_Auguste_Cropped_224\\extracted_face_0 (233).jpg_0.png\n",
      "Removed duplicate: Transformed_Datasets\\NOT_Auguste_Cropped_224\\extracted_face_0 (2330).jpg_0.png\n",
      "Removed duplicate: Transformed_Datasets\\NOT_Auguste_Cropped_224\\extracted_face_0 (2331).jpg_0.png\n",
      "Removed duplicate: Transformed_Datasets\\NOT_Auguste_Cropped_224\\extracted_face_0 (2332).jpg_0.png\n",
      "Removed duplicate: Transformed_Datasets\\NOT_Auguste_Cropped_224\\extracted_face_0 (2333).jpg_0.png\n",
      "Removed duplicate: Transformed_Datasets\\NOT_Auguste_Cropped_224\\extracted_face_0 (2334).jpg_0.png\n",
      "Removed duplicate: Transformed_Datasets\\NOT_Auguste_Cropped_224\\extracted_face_0 (2335).jpg_0.png\n",
      "Removed duplicate: Transformed_Datasets\\NOT_Auguste_Cropped_224\\extracted_face_0 (2336).jpg_0.png\n",
      "Removed duplicate: Transformed_Datasets\\NOT_Auguste_Cropped_224\\extracted_face_0 (2337).jpg_0.png\n",
      "Removed duplicate: Transformed_Datasets\\NOT_Auguste_Cropped_224\\extracted_face_0 (2338).jpg_0.png\n",
      "Removed duplicate: Transformed_Datasets\\NOT_Auguste_Cropped_224\\extracted_face_0 (2339).jpg_0.png\n",
      "Removed duplicate: Transformed_Datasets\\NOT_Auguste_Cropped_224\\extracted_face_0 (234).jpg_0.png\n",
      "Removed duplicate: Transformed_Datasets\\NOT_Auguste_Cropped_224\\extracted_face_0 (2341).jpg_0.png\n",
      "Removed duplicate: Transformed_Datasets\\NOT_Auguste_Cropped_224\\extracted_face_0 (2342).jpg_0.png\n",
      "Removed duplicate: Transformed_Datasets\\NOT_Auguste_Cropped_224\\extracted_face_0 (2343).jpg_0.png\n",
      "Removed duplicate: Transformed_Datasets\\NOT_Auguste_Cropped_224\\extracted_face_0 (2344).jpg_0.png\n",
      "Removed duplicate: Transformed_Datasets\\NOT_Auguste_Cropped_224\\extracted_face_0 (2345).jpg_0.png\n",
      "Removed duplicate: Transformed_Datasets\\NOT_Auguste_Cropped_224\\extracted_face_0 (2345).jpg_1.png\n",
      "Removed duplicate: Transformed_Datasets\\NOT_Auguste_Cropped_224\\extracted_face_0 (2346).jpg_0.png\n",
      "Removed duplicate: Transformed_Datasets\\NOT_Auguste_Cropped_224\\extracted_face_0 (2347).jpg_0.png\n",
      "Removed duplicate: Transformed_Datasets\\NOT_Auguste_Cropped_224\\extracted_face_0 (2348).jpg_0.png\n",
      "Removed duplicate: Transformed_Datasets\\NOT_Auguste_Cropped_224\\extracted_face_0 (2349).jpg_0.png\n",
      "Removed duplicate: Transformed_Datasets\\NOT_Auguste_Cropped_224\\extracted_face_0 (235).jpg_0.png\n",
      "Removed duplicate: Transformed_Datasets\\NOT_Auguste_Cropped_224\\extracted_face_0 (2350).jpg_0.png\n",
      "Removed duplicate: Transformed_Datasets\\NOT_Auguste_Cropped_224\\extracted_face_0 (2351).jpg_0.png\n",
      "Removed duplicate: Transformed_Datasets\\NOT_Auguste_Cropped_224\\extracted_face_0 (2352).jpg_0.png\n",
      "Removed duplicate: Transformed_Datasets\\NOT_Auguste_Cropped_224\\extracted_face_0 (2353).jpg_0.png\n",
      "Removed duplicate: Transformed_Datasets\\NOT_Auguste_Cropped_224\\extracted_face_0 (2354).jpg_0.png\n",
      "Removed duplicate: Transformed_Datasets\\NOT_Auguste_Cropped_224\\extracted_face_0 (2355).jpg_0.png\n",
      "Removed duplicate: Transformed_Datasets\\NOT_Auguste_Cropped_224\\extracted_face_0 (2356).jpg_0.png\n",
      "Removed duplicate: Transformed_Datasets\\NOT_Auguste_Cropped_224\\extracted_face_0 (2357).jpg_0.png\n",
      "Removed duplicate: Transformed_Datasets\\NOT_Auguste_Cropped_224\\extracted_face_0 (2358).JPG_0.png\n",
      "Removed duplicate: Transformed_Datasets\\NOT_Auguste_Cropped_224\\extracted_face_0 (2359).jpg_0.png\n",
      "Removed duplicate: Transformed_Datasets\\NOT_Auguste_Cropped_224\\extracted_face_0 (236).jpg_0.png\n",
      "Removed duplicate: Transformed_Datasets\\NOT_Auguste_Cropped_224\\extracted_face_0 (2360).jpg_0.png\n",
      "Removed duplicate: Transformed_Datasets\\NOT_Auguste_Cropped_224\\extracted_face_0 (2361).jpg_0.png\n",
      "Removed duplicate: Transformed_Datasets\\NOT_Auguste_Cropped_224\\extracted_face_0 (2362).jpg_0.png\n",
      "Removed duplicate: Transformed_Datasets\\NOT_Auguste_Cropped_224\\extracted_face_0 (2363).jpg_0.png\n",
      "Removed duplicate: Transformed_Datasets\\NOT_Auguste_Cropped_224\\extracted_face_0 (2364).jpg_0.png\n",
      "Removed duplicate: Transformed_Datasets\\NOT_Auguste_Cropped_224\\extracted_face_0 (2365).jpg_0.png\n",
      "Removed duplicate: Transformed_Datasets\\NOT_Auguste_Cropped_224\\extracted_face_0 (2367).jpg_0.png\n",
      "Removed duplicate: Transformed_Datasets\\NOT_Auguste_Cropped_224\\extracted_face_0 (2368).jpg_0.png\n",
      "Removed duplicate: Transformed_Datasets\\NOT_Auguste_Cropped_224\\extracted_face_0 (2369).jpg_0.png\n",
      "Removed duplicate: Transformed_Datasets\\NOT_Auguste_Cropped_224\\extracted_face_0 (237).jpg_0.png\n",
      "Removed duplicate: Transformed_Datasets\\NOT_Auguste_Cropped_224\\extracted_face_0 (2370).jpg_0.png\n",
      "Removed duplicate: Transformed_Datasets\\NOT_Auguste_Cropped_224\\extracted_face_0 (2371).jpg_0.png\n",
      "Removed duplicate: Transformed_Datasets\\NOT_Auguste_Cropped_224\\extracted_face_0 (2372).jpg_0.png\n",
      "Removed duplicate: Transformed_Datasets\\NOT_Auguste_Cropped_224\\extracted_face_0 (2373).jpg_0.png\n",
      "Removed duplicate: Transformed_Datasets\\NOT_Auguste_Cropped_224\\extracted_face_0 (2374).jpg_0.png\n",
      "Removed duplicate: Transformed_Datasets\\NOT_Auguste_Cropped_224\\extracted_face_0 (2375).jpg_0.png\n",
      "Removed duplicate: Transformed_Datasets\\NOT_Auguste_Cropped_224\\extracted_face_0 (2376).jpg_0.png\n",
      "Removed duplicate: Transformed_Datasets\\NOT_Auguste_Cropped_224\\extracted_face_0 (2377).jpg_0.png\n",
      "Removed duplicate: Transformed_Datasets\\NOT_Auguste_Cropped_224\\extracted_face_0 (2378).jpg_0.png\n",
      "Removed duplicate: Transformed_Datasets\\NOT_Auguste_Cropped_224\\extracted_face_0 (2379).jpg_0.png\n",
      "Removed duplicate: Transformed_Datasets\\NOT_Auguste_Cropped_224\\extracted_face_0 (238).jpg_0.png\n",
      "Removed duplicate: Transformed_Datasets\\NOT_Auguste_Cropped_224\\extracted_face_0 (2380).jpg_0.png\n",
      "Removed duplicate: Transformed_Datasets\\NOT_Auguste_Cropped_224\\extracted_face_0 (2381).jpg_0.png\n",
      "Removed duplicate: Transformed_Datasets\\NOT_Auguste_Cropped_224\\extracted_face_0 (2382).jpg_0.png\n",
      "Removed duplicate: Transformed_Datasets\\NOT_Auguste_Cropped_224\\extracted_face_0 (2383).jpg_0.png\n",
      "Removed duplicate: Transformed_Datasets\\NOT_Auguste_Cropped_224\\extracted_face_0 (2384).jpg_0.png\n",
      "Removed duplicate: Transformed_Datasets\\NOT_Auguste_Cropped_224\\extracted_face_0 (2385).jpg_0.png\n",
      "Removed duplicate: Transformed_Datasets\\NOT_Auguste_Cropped_224\\extracted_face_0 (2386).jpg_0.png\n",
      "Removed duplicate: Transformed_Datasets\\NOT_Auguste_Cropped_224\\extracted_face_0 (2387).jpg_0.png\n",
      "Removed duplicate: Transformed_Datasets\\NOT_Auguste_Cropped_224\\extracted_face_0 (2388).jpg_0.png\n",
      "Removed duplicate: Transformed_Datasets\\NOT_Auguste_Cropped_224\\extracted_face_0 (2389).jpg_0.png\n",
      "Removed duplicate: Transformed_Datasets\\NOT_Auguste_Cropped_224\\extracted_face_0 (239).jpg_0.png\n",
      "Removed duplicate: Transformed_Datasets\\NOT_Auguste_Cropped_224\\extracted_face_0 (2390).jpg_0.png\n",
      "Removed duplicate: Transformed_Datasets\\NOT_Auguste_Cropped_224\\extracted_face_0 (2391).jpg_0.png\n",
      "Removed duplicate: Transformed_Datasets\\NOT_Auguste_Cropped_224\\extracted_face_0 (2392).jpg_0.png\n",
      "Removed duplicate: Transformed_Datasets\\NOT_Auguste_Cropped_224\\extracted_face_0 (2393).jpg_0.png\n",
      "Removed duplicate: Transformed_Datasets\\NOT_Auguste_Cropped_224\\extracted_face_0 (2394).jpg_0.png\n",
      "Removed duplicate: Transformed_Datasets\\NOT_Auguste_Cropped_224\\extracted_face_0 (2395).jpg_0.png\n",
      "Removed duplicate: Transformed_Datasets\\NOT_Auguste_Cropped_224\\extracted_face_0 (2396).jpg_0.png\n",
      "Removed duplicate: Transformed_Datasets\\NOT_Auguste_Cropped_224\\extracted_face_0 (2397).jpg_0.png\n",
      "Removed duplicate: Transformed_Datasets\\NOT_Auguste_Cropped_224\\extracted_face_0 (2398).jpg_0.png\n",
      "Removed duplicate: Transformed_Datasets\\NOT_Auguste_Cropped_224\\extracted_face_0 (2399).jpg_0.png\n",
      "Removed duplicate: Transformed_Datasets\\NOT_Auguste_Cropped_224\\extracted_face_0 (24).jpeg_0.png\n",
      "Removed duplicate: Transformed_Datasets\\NOT_Auguste_Cropped_224\\extracted_face_0 (24).jpg_0.png\n",
      "Removed duplicate: Transformed_Datasets\\NOT_Auguste_Cropped_224\\extracted_face_0 (24).png_0.png\n",
      "Removed duplicate: Transformed_Datasets\\NOT_Auguste_Cropped_224\\extracted_face_0 (240).jpg_0.png\n",
      "Removed duplicate: Transformed_Datasets\\NOT_Auguste_Cropped_224\\extracted_face_0 (2400).jpg_0.png\n",
      "Removed duplicate: Transformed_Datasets\\NOT_Auguste_Cropped_224\\extracted_face_0 (2401).jpg_0.png\n",
      "Removed duplicate: Transformed_Datasets\\NOT_Auguste_Cropped_224\\extracted_face_0 (2402).jpg_0.png\n",
      "Removed duplicate: Transformed_Datasets\\NOT_Auguste_Cropped_224\\extracted_face_0 (2403).jpg_0.png\n",
      "Removed duplicate: Transformed_Datasets\\NOT_Auguste_Cropped_224\\extracted_face_0 (2404).jpg_0.png\n",
      "Removed duplicate: Transformed_Datasets\\NOT_Auguste_Cropped_224\\extracted_face_0 (2405).jpg_0.png\n",
      "Removed duplicate: Transformed_Datasets\\NOT_Auguste_Cropped_224\\extracted_face_0 (2406).jpg_0.png\n",
      "Removed duplicate: Transformed_Datasets\\NOT_Auguste_Cropped_224\\extracted_face_0 (2406).jpg_1.png\n",
      "Removed duplicate: Transformed_Datasets\\NOT_Auguste_Cropped_224\\extracted_face_0 (2407).jpg_0.png\n",
      "Removed duplicate: Transformed_Datasets\\NOT_Auguste_Cropped_224\\extracted_face_0 (2408).jpg_0.png\n",
      "Removed duplicate: Transformed_Datasets\\NOT_Auguste_Cropped_224\\extracted_face_0 (2409).jpg_0.png\n",
      "Removed duplicate: Transformed_Datasets\\NOT_Auguste_Cropped_224\\extracted_face_0 (241).jpg_0.png\n",
      "Removed duplicate: Transformed_Datasets\\NOT_Auguste_Cropped_224\\extracted_face_0 (2410).jpg_0.png\n",
      "Removed duplicate: Transformed_Datasets\\NOT_Auguste_Cropped_224\\extracted_face_0 (2411).jpg_0.png\n",
      "Removed duplicate: Transformed_Datasets\\NOT_Auguste_Cropped_224\\extracted_face_0 (2412).jpg_0.png\n",
      "Removed duplicate: Transformed_Datasets\\NOT_Auguste_Cropped_224\\extracted_face_0 (2413).jpg_0.png\n",
      "Removed duplicate: Transformed_Datasets\\NOT_Auguste_Cropped_224\\extracted_face_0 (2414).jpg_0.png\n",
      "Removed duplicate: Transformed_Datasets\\NOT_Auguste_Cropped_224\\extracted_face_0 (2415).jpg_0.png\n",
      "Removed duplicate: Transformed_Datasets\\NOT_Auguste_Cropped_224\\extracted_face_0 (2416).jpg_0.png\n",
      "Removed duplicate: Transformed_Datasets\\NOT_Auguste_Cropped_224\\extracted_face_0 (2417).jpg_0.png\n",
      "Removed duplicate: Transformed_Datasets\\NOT_Auguste_Cropped_224\\extracted_face_0 (2418).jpg_0.png\n",
      "Removed duplicate: Transformed_Datasets\\NOT_Auguste_Cropped_224\\extracted_face_0 (2419).jpg_0.png\n",
      "Removed duplicate: Transformed_Datasets\\NOT_Auguste_Cropped_224\\extracted_face_0 (242).jpg_0.png\n",
      "Removed duplicate: Transformed_Datasets\\NOT_Auguste_Cropped_224\\extracted_face_0 (2420).jpg_0.png\n",
      "Removed duplicate: Transformed_Datasets\\NOT_Auguste_Cropped_224\\extracted_face_0 (2421).jpg_0.png\n",
      "Removed duplicate: Transformed_Datasets\\NOT_Auguste_Cropped_224\\extracted_face_0 (2422).jpg_0.png\n",
      "Removed duplicate: Transformed_Datasets\\NOT_Auguste_Cropped_224\\extracted_face_0 (2423).jpg_0.png\n",
      "Removed duplicate: Transformed_Datasets\\NOT_Auguste_Cropped_224\\extracted_face_0 (2424).jpg_0.png\n",
      "Removed duplicate: Transformed_Datasets\\NOT_Auguste_Cropped_224\\extracted_face_0 (2425).jpg_0.png\n",
      "Removed duplicate: Transformed_Datasets\\NOT_Auguste_Cropped_224\\extracted_face_0 (2426).jpg_0.png\n",
      "Removed duplicate: Transformed_Datasets\\NOT_Auguste_Cropped_224\\extracted_face_0 (2427).jpg_0.png\n",
      "Removed duplicate: Transformed_Datasets\\NOT_Auguste_Cropped_224\\extracted_face_0 (2428).jpg_0.png\n",
      "Removed duplicate: Transformed_Datasets\\NOT_Auguste_Cropped_224\\extracted_face_0 (2429).jpg_0.png\n",
      "Removed duplicate: Transformed_Datasets\\NOT_Auguste_Cropped_224\\extracted_face_0 (243).jpg_0.png\n",
      "Removed duplicate: Transformed_Datasets\\NOT_Auguste_Cropped_224\\extracted_face_0 (2430).jpg_0.png\n",
      "Removed duplicate: Transformed_Datasets\\NOT_Auguste_Cropped_224\\extracted_face_0 (2431).jpg_0.png\n",
      "Removed duplicate: Transformed_Datasets\\NOT_Auguste_Cropped_224\\extracted_face_0 (2432).jpg_0.png\n",
      "Removed duplicate: Transformed_Datasets\\NOT_Auguste_Cropped_224\\extracted_face_0 (2433).jpg_0.png\n",
      "Removed duplicate: Transformed_Datasets\\NOT_Auguste_Cropped_224\\extracted_face_0 (2434).jpg_0.png\n",
      "Removed duplicate: Transformed_Datasets\\NOT_Auguste_Cropped_224\\extracted_face_0 (2435).jpg_0.png\n",
      "Removed duplicate: Transformed_Datasets\\NOT_Auguste_Cropped_224\\extracted_face_0 (2436).jpg_0.png\n",
      "Removed duplicate: Transformed_Datasets\\NOT_Auguste_Cropped_224\\extracted_face_0 (2437).jpg_0.png\n",
      "Removed duplicate: Transformed_Datasets\\NOT_Auguste_Cropped_224\\extracted_face_0 (2438).jpg_0.png\n",
      "Removed duplicate: Transformed_Datasets\\NOT_Auguste_Cropped_224\\extracted_face_0 (2439).jpg_0.png\n",
      "Removed duplicate: Transformed_Datasets\\NOT_Auguste_Cropped_224\\extracted_face_0 (244).jpg_0.png\n",
      "Removed duplicate: Transformed_Datasets\\NOT_Auguste_Cropped_224\\extracted_face_0 (2440).jpg_0.png\n",
      "Removed duplicate: Transformed_Datasets\\NOT_Auguste_Cropped_224\\extracted_face_0 (2441).jpg_0.png\n",
      "Removed duplicate: Transformed_Datasets\\NOT_Auguste_Cropped_224\\extracted_face_0 (2442).jpg_0.png\n",
      "Removed duplicate: Transformed_Datasets\\NOT_Auguste_Cropped_224\\extracted_face_0 (2443).jpg_0.png\n",
      "Removed duplicate: Transformed_Datasets\\NOT_Auguste_Cropped_224\\extracted_face_0 (2444).jpg_0.png\n",
      "Removed duplicate: Transformed_Datasets\\NOT_Auguste_Cropped_224\\extracted_face_0 (2444).jpg_1.png\n",
      "Removed duplicate: Transformed_Datasets\\NOT_Auguste_Cropped_224\\extracted_face_0 (2444).jpg_2.png\n",
      "Removed duplicate: Transformed_Datasets\\NOT_Auguste_Cropped_224\\extracted_face_0 (2445).jpg_0.png\n",
      "Removed duplicate: Transformed_Datasets\\NOT_Auguste_Cropped_224\\extracted_face_0 (2446).jpg_0.png\n",
      "Removed duplicate: Transformed_Datasets\\NOT_Auguste_Cropped_224\\extracted_face_0 (2447).jpg_0.png\n",
      "Removed duplicate: Transformed_Datasets\\NOT_Auguste_Cropped_224\\extracted_face_0 (2448).jpg_0.png\n",
      "Removed duplicate: Transformed_Datasets\\NOT_Auguste_Cropped_224\\extracted_face_0 (2449).jpg_0.png\n",
      "Removed duplicate: Transformed_Datasets\\NOT_Auguste_Cropped_224\\extracted_face_0 (245).jpg_0.png\n",
      "Removed duplicate: Transformed_Datasets\\NOT_Auguste_Cropped_224\\extracted_face_0 (2450).jpg_0.png\n",
      "Removed duplicate: Transformed_Datasets\\NOT_Auguste_Cropped_224\\extracted_face_0 (2451).jpg_0.png\n",
      "Removed duplicate: Transformed_Datasets\\NOT_Auguste_Cropped_224\\extracted_face_0 (2452).jpg_0.png\n",
      "Removed duplicate: Transformed_Datasets\\NOT_Auguste_Cropped_224\\extracted_face_0 (2453).jpg_0.png\n",
      "Removed duplicate: Transformed_Datasets\\NOT_Auguste_Cropped_224\\extracted_face_0 (2454).jpg_0.png\n",
      "Removed duplicate: Transformed_Datasets\\NOT_Auguste_Cropped_224\\extracted_face_0 (2455).jpg_0.png\n",
      "Removed duplicate: Transformed_Datasets\\NOT_Auguste_Cropped_224\\extracted_face_0 (2456).jpg_0.png\n",
      "Removed duplicate: Transformed_Datasets\\NOT_Auguste_Cropped_224\\extracted_face_0 (2457).jpg_0.png\n",
      "Removed duplicate: Transformed_Datasets\\NOT_Auguste_Cropped_224\\extracted_face_0 (2458).jpg_0.png\n",
      "Removed duplicate: Transformed_Datasets\\NOT_Auguste_Cropped_224\\extracted_face_0 (2459).jpg_0.png\n",
      "Removed duplicate: Transformed_Datasets\\NOT_Auguste_Cropped_224\\extracted_face_0 (246).jpg_0.png\n",
      "Removed duplicate: Transformed_Datasets\\NOT_Auguste_Cropped_224\\extracted_face_0 (2460).jpg_0.png\n",
      "Removed duplicate: Transformed_Datasets\\NOT_Auguste_Cropped_224\\extracted_face_0 (2462).jpg_0.png\n",
      "Removed duplicate: Transformed_Datasets\\NOT_Auguste_Cropped_224\\extracted_face_0 (2463).jpg_0.png\n",
      "Removed duplicate: Transformed_Datasets\\NOT_Auguste_Cropped_224\\extracted_face_0 (2464).jpg_0.png\n",
      "Removed duplicate: Transformed_Datasets\\NOT_Auguste_Cropped_224\\extracted_face_0 (2465).jpg_0.png\n",
      "Removed duplicate: Transformed_Datasets\\NOT_Auguste_Cropped_224\\extracted_face_0 (2466).jpg_0.png\n",
      "Removed duplicate: Transformed_Datasets\\NOT_Auguste_Cropped_224\\extracted_face_0 (2467).jpg_0.png\n",
      "Removed duplicate: Transformed_Datasets\\NOT_Auguste_Cropped_224\\extracted_face_0 (2468).jpg_0.png\n",
      "Removed duplicate: Transformed_Datasets\\NOT_Auguste_Cropped_224\\extracted_face_0 (2469).jpg_0.png\n",
      "Removed duplicate: Transformed_Datasets\\NOT_Auguste_Cropped_224\\extracted_face_0 (247).jpg_0.png\n",
      "Removed duplicate: Transformed_Datasets\\NOT_Auguste_Cropped_224\\extracted_face_0 (2470).jpg_0.png\n",
      "Removed duplicate: Transformed_Datasets\\NOT_Auguste_Cropped_224\\extracted_face_0 (2471).jpg_0.png\n",
      "Removed duplicate: Transformed_Datasets\\NOT_Auguste_Cropped_224\\extracted_face_0 (2472).jpg_0.png\n",
      "Removed duplicate: Transformed_Datasets\\NOT_Auguste_Cropped_224\\extracted_face_0 (2473).jpg_0.png\n",
      "Removed duplicate: Transformed_Datasets\\NOT_Auguste_Cropped_224\\extracted_face_0 (2474).jpg_0.png\n",
      "Removed duplicate: Transformed_Datasets\\NOT_Auguste_Cropped_224\\extracted_face_0 (2476).jpg_0.png\n",
      "Removed duplicate: Transformed_Datasets\\NOT_Auguste_Cropped_224\\extracted_face_0 (2477).jpg_0.png\n",
      "Removed duplicate: Transformed_Datasets\\NOT_Auguste_Cropped_224\\extracted_face_0 (2478).jpg_0.png\n",
      "Removed duplicate: Transformed_Datasets\\NOT_Auguste_Cropped_224\\extracted_face_0 (2479).jpg_0.png\n",
      "Removed duplicate: Transformed_Datasets\\NOT_Auguste_Cropped_224\\extracted_face_0 (248).jpg_0.png\n",
      "Removed duplicate: Transformed_Datasets\\NOT_Auguste_Cropped_224\\extracted_face_0 (2480).jpg_0.png\n",
      "Removed duplicate: Transformed_Datasets\\NOT_Auguste_Cropped_224\\extracted_face_0 (2481).jpg_0.png\n",
      "Removed duplicate: Transformed_Datasets\\NOT_Auguste_Cropped_224\\extracted_face_0 (2482).jpg_0.png\n",
      "Removed duplicate: Transformed_Datasets\\NOT_Auguste_Cropped_224\\extracted_face_0 (2483).jpg_0.png\n",
      "Removed duplicate: Transformed_Datasets\\NOT_Auguste_Cropped_224\\extracted_face_0 (2484).jpg_0.png\n",
      "Removed duplicate: Transformed_Datasets\\NOT_Auguste_Cropped_224\\extracted_face_0 (2485).jpg_0.png\n",
      "Removed duplicate: Transformed_Datasets\\NOT_Auguste_Cropped_224\\extracted_face_0 (2486).jpg_0.png\n",
      "Removed duplicate: Transformed_Datasets\\NOT_Auguste_Cropped_224\\extracted_face_0 (2487).jpg_0.png\n",
      "Removed duplicate: Transformed_Datasets\\NOT_Auguste_Cropped_224\\extracted_face_0 (2488).jpg_0.png\n",
      "Removed duplicate: Transformed_Datasets\\NOT_Auguste_Cropped_224\\extracted_face_0 (2489).jpg_0.png\n",
      "Removed duplicate: Transformed_Datasets\\NOT_Auguste_Cropped_224\\extracted_face_0 (249).jpg_0.png\n",
      "Removed duplicate: Transformed_Datasets\\NOT_Auguste_Cropped_224\\extracted_face_0 (2490).jpg_0.png\n",
      "Removed duplicate: Transformed_Datasets\\NOT_Auguste_Cropped_224\\extracted_face_0 (2491).jpg_0.png\n",
      "Removed duplicate: Transformed_Datasets\\NOT_Auguste_Cropped_224\\extracted_face_0 (2492).jpg_0.png\n",
      "Removed duplicate: Transformed_Datasets\\NOT_Auguste_Cropped_224\\extracted_face_0 (2493).jpg_0.png\n",
      "Removed duplicate: Transformed_Datasets\\NOT_Auguste_Cropped_224\\extracted_face_0 (2494).jpg_0.png\n",
      "Removed duplicate: Transformed_Datasets\\NOT_Auguste_Cropped_224\\extracted_face_0 (2495).jpg_0.png\n",
      "Removed duplicate: Transformed_Datasets\\NOT_Auguste_Cropped_224\\extracted_face_0 (2496).jpg_0.png\n",
      "Removed duplicate: Transformed_Datasets\\NOT_Auguste_Cropped_224\\extracted_face_0 (2497).jpg_0.png\n",
      "Removed duplicate: Transformed_Datasets\\NOT_Auguste_Cropped_224\\extracted_face_0 (2498).jpg_0.png\n",
      "Removed duplicate: Transformed_Datasets\\NOT_Auguste_Cropped_224\\extracted_face_0 (2499).jpg_0.png\n",
      "Removed duplicate: Transformed_Datasets\\NOT_Auguste_Cropped_224\\extracted_face_0 (25).jpg_0.png\n",
      "Removed duplicate: Transformed_Datasets\\NOT_Auguste_Cropped_224\\extracted_face_0 (250).jpg_0.png\n",
      "Removed duplicate: Transformed_Datasets\\NOT_Auguste_Cropped_224\\extracted_face_0 (2500).jpg_0.png\n",
      "Removed duplicate: Transformed_Datasets\\NOT_Auguste_Cropped_224\\extracted_face_0 (2501).jpg_0.png\n",
      "Removed duplicate: Transformed_Datasets\\NOT_Auguste_Cropped_224\\extracted_face_0 (2502).jpg_0.png\n",
      "Removed duplicate: Transformed_Datasets\\NOT_Auguste_Cropped_224\\extracted_face_0 (2503).jpg_0.png\n",
      "Removed duplicate: Transformed_Datasets\\NOT_Auguste_Cropped_224\\extracted_face_0 (2504).jpg_0.png\n",
      "Removed duplicate: Transformed_Datasets\\NOT_Auguste_Cropped_224\\extracted_face_0 (2505).jpg_0.png\n",
      "Removed duplicate: Transformed_Datasets\\NOT_Auguste_Cropped_224\\extracted_face_0 (2506).jpg_0.png\n",
      "Removed duplicate: Transformed_Datasets\\NOT_Auguste_Cropped_224\\extracted_face_0 (2507).jpg_0.png\n",
      "Removed duplicate: Transformed_Datasets\\NOT_Auguste_Cropped_224\\extracted_face_0 (2508).jpg_0.png\n",
      "Removed duplicate: Transformed_Datasets\\NOT_Auguste_Cropped_224\\extracted_face_0 (2509).jpg_0.png\n",
      "Removed duplicate: Transformed_Datasets\\NOT_Auguste_Cropped_224\\extracted_face_0 (251).jpg_0.png\n",
      "Removed duplicate: Transformed_Datasets\\NOT_Auguste_Cropped_224\\extracted_face_0 (2510).jpg_0.png\n",
      "Removed duplicate: Transformed_Datasets\\NOT_Auguste_Cropped_224\\extracted_face_0 (2511).jpg_0.png\n",
      "Removed duplicate: Transformed_Datasets\\NOT_Auguste_Cropped_224\\extracted_face_0 (2512).jpg_0.png\n",
      "Removed duplicate: Transformed_Datasets\\NOT_Auguste_Cropped_224\\extracted_face_0 (2513).jpg_0.png\n",
      "Removed duplicate: Transformed_Datasets\\NOT_Auguste_Cropped_224\\extracted_face_0 (2514).jpg_0.png\n",
      "Removed duplicate: Transformed_Datasets\\NOT_Auguste_Cropped_224\\extracted_face_0 (2515).jpg_0.png\n",
      "Removed duplicate: Transformed_Datasets\\NOT_Auguste_Cropped_224\\extracted_face_0 (2516).jpg_0.png\n",
      "Removed duplicate: Transformed_Datasets\\NOT_Auguste_Cropped_224\\extracted_face_0 (2517).jpg_0.png\n",
      "Removed duplicate: Transformed_Datasets\\NOT_Auguste_Cropped_224\\extracted_face_0 (2518).jpg_0.png\n",
      "Removed duplicate: Transformed_Datasets\\NOT_Auguste_Cropped_224\\extracted_face_0 (2519).jpg_0.png\n",
      "Removed duplicate: Transformed_Datasets\\NOT_Auguste_Cropped_224\\extracted_face_0 (252).jpg_0.png\n",
      "Removed duplicate: Transformed_Datasets\\NOT_Auguste_Cropped_224\\extracted_face_0 (2520).jpg_0.png\n",
      "Removed duplicate: Transformed_Datasets\\NOT_Auguste_Cropped_224\\extracted_face_0 (2521).jpg_0.png\n",
      "Removed duplicate: Transformed_Datasets\\NOT_Auguste_Cropped_224\\extracted_face_0 (2522).jpg_0.png\n",
      "Removed duplicate: Transformed_Datasets\\NOT_Auguste_Cropped_224\\extracted_face_0 (2523).jpg_0.png\n",
      "Removed duplicate: Transformed_Datasets\\NOT_Auguste_Cropped_224\\extracted_face_0 (2524).jpg_0.png\n",
      "Removed duplicate: Transformed_Datasets\\NOT_Auguste_Cropped_224\\extracted_face_0 (2525).jpg_0.png\n",
      "Removed duplicate: Transformed_Datasets\\NOT_Auguste_Cropped_224\\extracted_face_0 (2526).jpg_0.png\n",
      "Removed duplicate: Transformed_Datasets\\NOT_Auguste_Cropped_224\\extracted_face_0 (2527).jpg_0.png\n",
      "Removed duplicate: Transformed_Datasets\\NOT_Auguste_Cropped_224\\extracted_face_0 (2528).jpg_0.png\n",
      "Removed duplicate: Transformed_Datasets\\NOT_Auguste_Cropped_224\\extracted_face_0 (2529).jpg_0.png\n",
      "Removed duplicate: Transformed_Datasets\\NOT_Auguste_Cropped_224\\extracted_face_0 (253).jpg_0.png\n",
      "Removed duplicate: Transformed_Datasets\\NOT_Auguste_Cropped_224\\extracted_face_0 (2530).jpg_0.png\n",
      "Removed duplicate: Transformed_Datasets\\NOT_Auguste_Cropped_224\\extracted_face_0 (2531).jpg_0.png\n",
      "Removed duplicate: Transformed_Datasets\\NOT_Auguste_Cropped_224\\extracted_face_0 (2532).jpg_0.png\n",
      "Removed duplicate: Transformed_Datasets\\NOT_Auguste_Cropped_224\\extracted_face_0 (2533).jpg_0.png\n",
      "Removed duplicate: Transformed_Datasets\\NOT_Auguste_Cropped_224\\extracted_face_0 (2534).jpg_0.png\n",
      "Removed duplicate: Transformed_Datasets\\NOT_Auguste_Cropped_224\\extracted_face_0 (2535).jpg_0.png\n",
      "Removed duplicate: Transformed_Datasets\\NOT_Auguste_Cropped_224\\extracted_face_0 (2536).jpg_0.png\n",
      "Removed duplicate: Transformed_Datasets\\NOT_Auguste_Cropped_224\\extracted_face_0 (2537).jpg_0.png\n",
      "Removed duplicate: Transformed_Datasets\\NOT_Auguste_Cropped_224\\extracted_face_0 (2538).jpg_0.png\n",
      "Removed duplicate: Transformed_Datasets\\NOT_Auguste_Cropped_224\\extracted_face_0 (2539).jpg_0.png\n",
      "Removed duplicate: Transformed_Datasets\\NOT_Auguste_Cropped_224\\extracted_face_0 (254).jpg_0.png\n",
      "Removed duplicate: Transformed_Datasets\\NOT_Auguste_Cropped_224\\extracted_face_0 (2540).jpg_0.png\n",
      "Removed duplicate: Transformed_Datasets\\NOT_Auguste_Cropped_224\\extracted_face_0 (2541).jpg_0.png\n",
      "Removed duplicate: Transformed_Datasets\\NOT_Auguste_Cropped_224\\extracted_face_0 (2542).jpg_0.png\n",
      "Removed duplicate: Transformed_Datasets\\NOT_Auguste_Cropped_224\\extracted_face_0 (2543).jpg_0.png\n",
      "Removed duplicate: Transformed_Datasets\\NOT_Auguste_Cropped_224\\extracted_face_0 (2544).jpg_0.png\n",
      "Removed duplicate: Transformed_Datasets\\NOT_Auguste_Cropped_224\\extracted_face_0 (2545).jpg_0.png\n",
      "Removed duplicate: Transformed_Datasets\\NOT_Auguste_Cropped_224\\extracted_face_0 (2546).jpg_0.png\n",
      "Removed duplicate: Transformed_Datasets\\NOT_Auguste_Cropped_224\\extracted_face_0 (2547).jpg_0.png\n",
      "Removed duplicate: Transformed_Datasets\\NOT_Auguste_Cropped_224\\extracted_face_0 (2548).jpg_0.png\n",
      "Removed duplicate: Transformed_Datasets\\NOT_Auguste_Cropped_224\\extracted_face_0 (2549).jpg_0.png\n",
      "Removed duplicate: Transformed_Datasets\\NOT_Auguste_Cropped_224\\extracted_face_0 (255).jpg_0.png\n",
      "Removed duplicate: Transformed_Datasets\\NOT_Auguste_Cropped_224\\extracted_face_0 (2550).jpg_0.png\n",
      "Removed duplicate: Transformed_Datasets\\NOT_Auguste_Cropped_224\\extracted_face_0 (2551).jpg_0.png\n",
      "Removed duplicate: Transformed_Datasets\\NOT_Auguste_Cropped_224\\extracted_face_0 (256).jpg_0.png\n",
      "Removed duplicate: Transformed_Datasets\\NOT_Auguste_Cropped_224\\extracted_face_0 (257).jpg_0.png\n",
      "Removed duplicate: Transformed_Datasets\\NOT_Auguste_Cropped_224\\extracted_face_0 (258).jpg_0.png\n",
      "Removed duplicate: Transformed_Datasets\\NOT_Auguste_Cropped_224\\extracted_face_0 (259).jpg_0.png\n",
      "Removed duplicate: Transformed_Datasets\\NOT_Auguste_Cropped_224\\extracted_face_0 (26).jpeg_0.png\n",
      "Removed duplicate: Transformed_Datasets\\NOT_Auguste_Cropped_224\\extracted_face_0 (26).jpeg_1.png\n",
      "Removed duplicate: Transformed_Datasets\\NOT_Auguste_Cropped_224\\extracted_face_0 (26).jpeg_2.png\n",
      "Removed duplicate: Transformed_Datasets\\NOT_Auguste_Cropped_224\\extracted_face_0 (26).jpg_0.png\n",
      "Removed duplicate: Transformed_Datasets\\NOT_Auguste_Cropped_224\\extracted_face_0 (261).jpg_0.png\n",
      "Removed duplicate: Transformed_Datasets\\NOT_Auguste_Cropped_224\\extracted_face_0 (262).jpg_0.png\n",
      "Removed duplicate: Transformed_Datasets\\NOT_Auguste_Cropped_224\\extracted_face_0 (263).jpg_0.png\n",
      "Removed duplicate: Transformed_Datasets\\NOT_Auguste_Cropped_224\\extracted_face_0 (264).jpg_0.png\n",
      "Removed duplicate: Transformed_Datasets\\NOT_Auguste_Cropped_224\\extracted_face_0 (265).jpg_0.png\n",
      "Removed duplicate: Transformed_Datasets\\NOT_Auguste_Cropped_224\\extracted_face_0 (266).jpg_0.png\n",
      "Removed duplicate: Transformed_Datasets\\NOT_Auguste_Cropped_224\\extracted_face_0 (267).jpg_0.png\n",
      "Removed duplicate: Transformed_Datasets\\NOT_Auguste_Cropped_224\\extracted_face_0 (269).jpg_0.png\n",
      "Removed duplicate: Transformed_Datasets\\NOT_Auguste_Cropped_224\\extracted_face_0 (270).jpg_0.png\n",
      "Removed duplicate: Transformed_Datasets\\NOT_Auguste_Cropped_224\\extracted_face_0 (271).jpg_0.png\n",
      "Removed duplicate: Transformed_Datasets\\NOT_Auguste_Cropped_224\\extracted_face_0 (272).jpg_0.png\n",
      "Removed duplicate: Transformed_Datasets\\NOT_Auguste_Cropped_224\\extracted_face_0 (275).jpg_0.png\n",
      "Removed duplicate: Transformed_Datasets\\NOT_Auguste_Cropped_224\\extracted_face_0 (276).jpg_0.png\n",
      "Removed duplicate: Transformed_Datasets\\NOT_Auguste_Cropped_224\\extracted_face_0 (277).jpg_0.png\n",
      "Removed duplicate: Transformed_Datasets\\NOT_Auguste_Cropped_224\\extracted_face_0 (278).jpg_0.png\n",
      "Removed duplicate: Transformed_Datasets\\NOT_Auguste_Cropped_224\\extracted_face_0 (279).jpg_0.png\n",
      "Removed duplicate: Transformed_Datasets\\NOT_Auguste_Cropped_224\\extracted_face_0 (28).jpeg_0.png\n",
      "Removed duplicate: Transformed_Datasets\\NOT_Auguste_Cropped_224\\extracted_face_0 (28).jpg_0.png\n",
      "Removed duplicate: Transformed_Datasets\\NOT_Auguste_Cropped_224\\extracted_face_0 (280).jpg_0.png\n",
      "Removed duplicate: Transformed_Datasets\\NOT_Auguste_Cropped_224\\extracted_face_0 (281).jpg_0.png\n",
      "Removed duplicate: Transformed_Datasets\\NOT_Auguste_Cropped_224\\extracted_face_0 (282).jpg_0.png\n",
      "Removed duplicate: Transformed_Datasets\\NOT_Auguste_Cropped_224\\extracted_face_0 (283).jpg_0.png\n",
      "Removed duplicate: Transformed_Datasets\\NOT_Auguste_Cropped_224\\extracted_face_0 (284).jpg_0.png\n",
      "Removed duplicate: Transformed_Datasets\\NOT_Auguste_Cropped_224\\extracted_face_0 (285).jpg_0.png\n",
      "Removed duplicate: Transformed_Datasets\\NOT_Auguste_Cropped_224\\extracted_face_0 (287).jpg_0.png\n",
      "Removed duplicate: Transformed_Datasets\\NOT_Auguste_Cropped_224\\extracted_face_0 (288).jpg_0.png\n",
      "Removed duplicate: Transformed_Datasets\\NOT_Auguste_Cropped_224\\extracted_face_0 (289).jpg_0.png\n",
      "Removed duplicate: Transformed_Datasets\\NOT_Auguste_Cropped_224\\extracted_face_0 (29).jpg_0.png\n",
      "Removed duplicate: Transformed_Datasets\\NOT_Auguste_Cropped_224\\extracted_face_0 (290).jpg_0.png\n",
      "Removed duplicate: Transformed_Datasets\\NOT_Auguste_Cropped_224\\extracted_face_0 (291).jpg_0.png\n",
      "Removed duplicate: Transformed_Datasets\\NOT_Auguste_Cropped_224\\extracted_face_0 (292).jpg_0.png\n",
      "Removed duplicate: Transformed_Datasets\\NOT_Auguste_Cropped_224\\extracted_face_0 (293).jpg_0.png\n",
      "Removed duplicate: Transformed_Datasets\\NOT_Auguste_Cropped_224\\extracted_face_0 (294).jpg_0.png\n",
      "Removed duplicate: Transformed_Datasets\\NOT_Auguste_Cropped_224\\extracted_face_0 (295).jpg_0.png\n",
      "Removed duplicate: Transformed_Datasets\\NOT_Auguste_Cropped_224\\extracted_face_0 (296).jpg_0.png\n",
      "Removed duplicate: Transformed_Datasets\\NOT_Auguste_Cropped_224\\extracted_face_0 (297).jpg_0.png\n",
      "Removed duplicate: Transformed_Datasets\\NOT_Auguste_Cropped_224\\extracted_face_0 (298).jpg_0.png\n",
      "Removed duplicate: Transformed_Datasets\\NOT_Auguste_Cropped_224\\extracted_face_0 (299).jpg_0.png\n",
      "Removed duplicate: Transformed_Datasets\\NOT_Auguste_Cropped_224\\extracted_face_0 (3).jpeg_0.png\n",
      "Removed duplicate: Transformed_Datasets\\NOT_Auguste_Cropped_224\\extracted_face_0 (3).png_0.png\n",
      "Removed duplicate: Transformed_Datasets\\NOT_Auguste_Cropped_224\\extracted_face_0 (30).jpeg_0.png\n",
      "Removed duplicate: Transformed_Datasets\\NOT_Auguste_Cropped_224\\extracted_face_0 (30).jpg_0.png\n",
      "Removed duplicate: Transformed_Datasets\\NOT_Auguste_Cropped_224\\extracted_face_0 (300).jpg_0.png\n",
      "Removed duplicate: Transformed_Datasets\\NOT_Auguste_Cropped_224\\extracted_face_0 (301).jpg_0.png\n",
      "Removed duplicate: Transformed_Datasets\\NOT_Auguste_Cropped_224\\extracted_face_0 (303).jpg_0.png\n",
      "Removed duplicate: Transformed_Datasets\\NOT_Auguste_Cropped_224\\extracted_face_0 (304).jpg_0.png\n",
      "Removed duplicate: Transformed_Datasets\\NOT_Auguste_Cropped_224\\extracted_face_0 (305).jpg_0.png\n",
      "Removed duplicate: Transformed_Datasets\\NOT_Auguste_Cropped_224\\extracted_face_0 (306).jpg_0.png\n",
      "Removed duplicate: Transformed_Datasets\\NOT_Auguste_Cropped_224\\extracted_face_0 (307).jpg_0.png\n",
      "Removed duplicate: Transformed_Datasets\\NOT_Auguste_Cropped_224\\extracted_face_0 (308).jpg_0.png\n",
      "Removed duplicate: Transformed_Datasets\\NOT_Auguste_Cropped_224\\extracted_face_0 (309).jpg_0.png\n",
      "Removed duplicate: Transformed_Datasets\\NOT_Auguste_Cropped_224\\extracted_face_0 (31).jpeg_0.png\n",
      "Removed duplicate: Transformed_Datasets\\NOT_Auguste_Cropped_224\\extracted_face_0 (31).jpeg_1.png\n",
      "Removed duplicate: Transformed_Datasets\\NOT_Auguste_Cropped_224\\extracted_face_0 (31).jpeg_2.png\n",
      "Removed duplicate: Transformed_Datasets\\NOT_Auguste_Cropped_224\\extracted_face_0 (31).jpg_0.png\n",
      "Removed duplicate: Transformed_Datasets\\NOT_Auguste_Cropped_224\\extracted_face_0 (31).png_0.png\n",
      "Removed duplicate: Transformed_Datasets\\NOT_Auguste_Cropped_224\\extracted_face_0 (310).jpg_0.png\n",
      "Removed duplicate: Transformed_Datasets\\NOT_Auguste_Cropped_224\\extracted_face_0 (312).jpg_0.png\n",
      "Removed duplicate: Transformed_Datasets\\NOT_Auguste_Cropped_224\\extracted_face_0 (314).jpg_0.png\n",
      "Removed duplicate: Transformed_Datasets\\NOT_Auguste_Cropped_224\\extracted_face_0 (315).jpg_0.png\n",
      "Removed duplicate: Transformed_Datasets\\NOT_Auguste_Cropped_224\\extracted_face_0 (316).jpg_0.png\n",
      "Removed duplicate: Transformed_Datasets\\NOT_Auguste_Cropped_224\\extracted_face_0 (318).jpg_0.png\n",
      "Removed duplicate: Transformed_Datasets\\NOT_Auguste_Cropped_224\\extracted_face_0 (319).jpg_0.png\n",
      "Removed duplicate: Transformed_Datasets\\NOT_Auguste_Cropped_224\\extracted_face_0 (32).jpeg_0.png\n",
      "Removed duplicate: Transformed_Datasets\\NOT_Auguste_Cropped_224\\extracted_face_0 (32).jpg_0.png\n",
      "Removed duplicate: Transformed_Datasets\\NOT_Auguste_Cropped_224\\extracted_face_0 (32).png_0.png\n",
      "Removed duplicate: Transformed_Datasets\\NOT_Auguste_Cropped_224\\extracted_face_0 (320).jpg_0.png\n",
      "Removed duplicate: Transformed_Datasets\\NOT_Auguste_Cropped_224\\extracted_face_0 (321).jpg_0.png\n",
      "Removed duplicate: Transformed_Datasets\\NOT_Auguste_Cropped_224\\extracted_face_0 (323).jpg_0.png\n",
      "Removed duplicate: Transformed_Datasets\\NOT_Auguste_Cropped_224\\extracted_face_0 (324).jpg_0.png\n",
      "Removed duplicate: Transformed_Datasets\\NOT_Auguste_Cropped_224\\extracted_face_0 (325).jpg_0.png\n",
      "Removed duplicate: Transformed_Datasets\\NOT_Auguste_Cropped_224\\extracted_face_0 (326).jpg_0.png\n",
      "Removed duplicate: Transformed_Datasets\\NOT_Auguste_Cropped_224\\extracted_face_0 (328).jpg_0.png\n",
      "Removed duplicate: Transformed_Datasets\\NOT_Auguste_Cropped_224\\extracted_face_0 (329).jpg_0.png\n",
      "Removed duplicate: Transformed_Datasets\\NOT_Auguste_Cropped_224\\extracted_face_0 (33).jpg_0.png\n",
      "Removed duplicate: Transformed_Datasets\\NOT_Auguste_Cropped_224\\extracted_face_0 (33).png_0.png\n",
      "Removed duplicate: Transformed_Datasets\\NOT_Auguste_Cropped_224\\extracted_face_0 (330).jpg_0.png\n",
      "Removed duplicate: Transformed_Datasets\\NOT_Auguste_Cropped_224\\extracted_face_0 (331).jpg_0.png\n",
      "Removed duplicate: Transformed_Datasets\\NOT_Auguste_Cropped_224\\extracted_face_0 (333).jpg_0.png\n",
      "Removed duplicate: Transformed_Datasets\\NOT_Auguste_Cropped_224\\extracted_face_0 (334).jpg_0.png\n",
      "Removed duplicate: Transformed_Datasets\\NOT_Auguste_Cropped_224\\extracted_face_0 (335).jpg_0.png\n",
      "Removed duplicate: Transformed_Datasets\\NOT_Auguste_Cropped_224\\extracted_face_0 (337).jpg_0.png\n",
      "Removed duplicate: Transformed_Datasets\\NOT_Auguste_Cropped_224\\extracted_face_0 (338).jpg_0.png\n",
      "Removed duplicate: Transformed_Datasets\\NOT_Auguste_Cropped_224\\extracted_face_0 (339).jpg_0.png\n",
      "Removed duplicate: Transformed_Datasets\\NOT_Auguste_Cropped_224\\extracted_face_0 (34).jpeg_0.png\n",
      "Removed duplicate: Transformed_Datasets\\NOT_Auguste_Cropped_224\\extracted_face_0 (34).jpg_0.png\n",
      "Removed duplicate: Transformed_Datasets\\NOT_Auguste_Cropped_224\\extracted_face_0 (34).png_0.png\n",
      "Removed duplicate: Transformed_Datasets\\NOT_Auguste_Cropped_224\\extracted_face_0 (340).jpg_0.png\n",
      "Removed duplicate: Transformed_Datasets\\NOT_Auguste_Cropped_224\\extracted_face_0 (341).jpg_0.png\n",
      "Removed duplicate: Transformed_Datasets\\NOT_Auguste_Cropped_224\\extracted_face_0 (342).jpg_0.png\n",
      "Removed duplicate: Transformed_Datasets\\NOT_Auguste_Cropped_224\\extracted_face_0 (343).jpg_0.png\n",
      "Removed duplicate: Transformed_Datasets\\NOT_Auguste_Cropped_224\\extracted_face_0 (344).jpg_0.png\n",
      "Removed duplicate: Transformed_Datasets\\NOT_Auguste_Cropped_224\\extracted_face_0 (345).jpg_0.png\n",
      "Removed duplicate: Transformed_Datasets\\NOT_Auguste_Cropped_224\\extracted_face_0 (346).jpg_0.png\n",
      "Removed duplicate: Transformed_Datasets\\NOT_Auguste_Cropped_224\\extracted_face_0 (347).JPG_0.png\n",
      "Removed duplicate: Transformed_Datasets\\NOT_Auguste_Cropped_224\\extracted_face_0 (348).jpg_0.png\n",
      "Removed duplicate: Transformed_Datasets\\NOT_Auguste_Cropped_224\\extracted_face_0 (349).jpg_0.png\n",
      "Removed duplicate: Transformed_Datasets\\NOT_Auguste_Cropped_224\\extracted_face_0 (35).jpeg_0.png\n",
      "Removed duplicate: Transformed_Datasets\\NOT_Auguste_Cropped_224\\extracted_face_0 (35).jpg_0.png\n",
      "Removed duplicate: Transformed_Datasets\\NOT_Auguste_Cropped_224\\extracted_face_0 (35).png_0.png\n",
      "Removed duplicate: Transformed_Datasets\\NOT_Auguste_Cropped_224\\extracted_face_0 (350).jpg_0.png\n",
      "Removed duplicate: Transformed_Datasets\\NOT_Auguste_Cropped_224\\extracted_face_0 (351).jpg_0.png\n",
      "Removed duplicate: Transformed_Datasets\\NOT_Auguste_Cropped_224\\extracted_face_0 (353).jpg_0.png\n",
      "Removed duplicate: Transformed_Datasets\\NOT_Auguste_Cropped_224\\extracted_face_0 (354).jpg_0.png\n",
      "Removed duplicate: Transformed_Datasets\\NOT_Auguste_Cropped_224\\extracted_face_0 (355).jpg_0.png\n",
      "Removed duplicate: Transformed_Datasets\\NOT_Auguste_Cropped_224\\extracted_face_0 (357).jpg_0.png\n",
      "Removed duplicate: Transformed_Datasets\\NOT_Auguste_Cropped_224\\extracted_face_0 (358).jpg_0.png\n",
      "Removed duplicate: Transformed_Datasets\\NOT_Auguste_Cropped_224\\extracted_face_0 (359).jpg_0.png\n",
      "Removed duplicate: Transformed_Datasets\\NOT_Auguste_Cropped_224\\extracted_face_0 (36).jpeg_0.png\n",
      "Removed duplicate: Transformed_Datasets\\NOT_Auguste_Cropped_224\\extracted_face_0 (36).jpg_0.png\n",
      "Removed duplicate: Transformed_Datasets\\NOT_Auguste_Cropped_224\\extracted_face_0 (36).png_0.png\n",
      "Removed duplicate: Transformed_Datasets\\NOT_Auguste_Cropped_224\\extracted_face_0 (360).jpg_0.png\n",
      "Removed duplicate: Transformed_Datasets\\NOT_Auguste_Cropped_224\\extracted_face_0 (361).jpg_0.png\n",
      "Removed duplicate: Transformed_Datasets\\NOT_Auguste_Cropped_224\\extracted_face_0 (362).jpg_0.png\n",
      "Removed duplicate: Transformed_Datasets\\NOT_Auguste_Cropped_224\\extracted_face_0 (363).jpg_0.png\n",
      "Removed duplicate: Transformed_Datasets\\NOT_Auguste_Cropped_224\\extracted_face_0 (364).jpg_0.png\n",
      "Removed duplicate: Transformed_Datasets\\NOT_Auguste_Cropped_224\\extracted_face_0 (365).jpg_0.png\n",
      "Removed duplicate: Transformed_Datasets\\NOT_Auguste_Cropped_224\\extracted_face_0 (366).jpg_0.png\n",
      "Removed duplicate: Transformed_Datasets\\NOT_Auguste_Cropped_224\\extracted_face_0 (367).jpg_0.png\n",
      "Removed duplicate: Transformed_Datasets\\NOT_Auguste_Cropped_224\\extracted_face_0 (368).jpg_0.png\n",
      "Removed duplicate: Transformed_Datasets\\NOT_Auguste_Cropped_224\\extracted_face_0 (369).jpg_0.png\n",
      "Removed duplicate: Transformed_Datasets\\NOT_Auguste_Cropped_224\\extracted_face_0 (37).jpeg_0.png\n",
      "Removed duplicate: Transformed_Datasets\\NOT_Auguste_Cropped_224\\extracted_face_0 (37).png_0.png\n",
      "Removed duplicate: Transformed_Datasets\\NOT_Auguste_Cropped_224\\extracted_face_0 (370).jpg_0.png\n",
      "Removed duplicate: Transformed_Datasets\\NOT_Auguste_Cropped_224\\extracted_face_0 (371).jpg_0.png\n",
      "Removed duplicate: Transformed_Datasets\\NOT_Auguste_Cropped_224\\extracted_face_0 (372).jpg_0.png\n",
      "Removed duplicate: Transformed_Datasets\\NOT_Auguste_Cropped_224\\extracted_face_0 (372).jpg_1.png\n",
      "Removed duplicate: Transformed_Datasets\\NOT_Auguste_Cropped_224\\extracted_face_0 (373).jpg_0.png\n",
      "Removed duplicate: Transformed_Datasets\\NOT_Auguste_Cropped_224\\extracted_face_0 (374).jpg_0.png\n",
      "Removed duplicate: Transformed_Datasets\\NOT_Auguste_Cropped_224\\extracted_face_0 (375).jpg_0.png\n",
      "Removed duplicate: Transformed_Datasets\\NOT_Auguste_Cropped_224\\extracted_face_0 (376).jpg_0.png\n",
      "Removed duplicate: Transformed_Datasets\\NOT_Auguste_Cropped_224\\extracted_face_0 (377).jpg_0.png\n",
      "Removed duplicate: Transformed_Datasets\\NOT_Auguste_Cropped_224\\extracted_face_0 (378).jpg_0.png\n",
      "Removed duplicate: Transformed_Datasets\\NOT_Auguste_Cropped_224\\extracted_face_0 (379).jpg_0.png\n",
      "Removed duplicate: Transformed_Datasets\\NOT_Auguste_Cropped_224\\extracted_face_0 (38).jpeg_0.png\n",
      "Removed duplicate: Transformed_Datasets\\NOT_Auguste_Cropped_224\\extracted_face_0 (38).jpg_0.png\n",
      "Removed duplicate: Transformed_Datasets\\NOT_Auguste_Cropped_224\\extracted_face_0 (38).png_0.png\n",
      "Removed duplicate: Transformed_Datasets\\NOT_Auguste_Cropped_224\\extracted_face_0 (380).jpg_0.png\n",
      "Removed duplicate: Transformed_Datasets\\NOT_Auguste_Cropped_224\\extracted_face_0 (381).jpg_0.png\n",
      "Removed duplicate: Transformed_Datasets\\NOT_Auguste_Cropped_224\\extracted_face_0 (382).jpg_0.png\n",
      "Removed duplicate: Transformed_Datasets\\NOT_Auguste_Cropped_224\\extracted_face_0 (383).jpg_0.png\n",
      "Removed duplicate: Transformed_Datasets\\NOT_Auguste_Cropped_224\\extracted_face_0 (385).jpg_0.png\n",
      "Removed duplicate: Transformed_Datasets\\NOT_Auguste_Cropped_224\\extracted_face_0 (386).jpg_0.png\n",
      "Removed duplicate: Transformed_Datasets\\NOT_Auguste_Cropped_224\\extracted_face_0 (387).jpg_0.png\n",
      "Removed duplicate: Transformed_Datasets\\NOT_Auguste_Cropped_224\\extracted_face_0 (388).jpg_0.png\n",
      "Removed duplicate: Transformed_Datasets\\NOT_Auguste_Cropped_224\\extracted_face_0 (389).jpg_0.png\n",
      "Removed duplicate: Transformed_Datasets\\NOT_Auguste_Cropped_224\\extracted_face_0 (39).jpeg_0.png\n",
      "Removed duplicate: Transformed_Datasets\\NOT_Auguste_Cropped_224\\extracted_face_0 (39).jpg_0.png\n",
      "Removed duplicate: Transformed_Datasets\\NOT_Auguste_Cropped_224\\extracted_face_0 (390).jpg_0.png\n",
      "Removed duplicate: Transformed_Datasets\\NOT_Auguste_Cropped_224\\extracted_face_0 (392).jpg_0.png\n",
      "Removed duplicate: Transformed_Datasets\\NOT_Auguste_Cropped_224\\extracted_face_0 (393).jpg_0.png\n",
      "Removed duplicate: Transformed_Datasets\\NOT_Auguste_Cropped_224\\extracted_face_0 (394).jpg_0.png\n",
      "Removed duplicate: Transformed_Datasets\\NOT_Auguste_Cropped_224\\extracted_face_0 (395).jpg_0.png\n",
      "Removed duplicate: Transformed_Datasets\\NOT_Auguste_Cropped_224\\extracted_face_0 (396).jpg_0.png\n",
      "Removed duplicate: Transformed_Datasets\\NOT_Auguste_Cropped_224\\extracted_face_0 (397).jpg_0.png\n",
      "Removed duplicate: Transformed_Datasets\\NOT_Auguste_Cropped_224\\extracted_face_0 (398).jpg_0.png\n",
      "Removed duplicate: Transformed_Datasets\\NOT_Auguste_Cropped_224\\extracted_face_0 (399).jpg_0.png\n",
      "Removed duplicate: Transformed_Datasets\\NOT_Auguste_Cropped_224\\extracted_face_0 (4).jpeg_0.png\n",
      "Removed duplicate: Transformed_Datasets\\NOT_Auguste_Cropped_224\\extracted_face_0 (4).jpg_0.png\n",
      "Removed duplicate: Transformed_Datasets\\NOT_Auguste_Cropped_224\\extracted_face_0 (4).png_0.png\n",
      "Removed duplicate: Transformed_Datasets\\NOT_Auguste_Cropped_224\\extracted_face_0 (40).jpeg_0.png\n",
      "Removed duplicate: Transformed_Datasets\\NOT_Auguste_Cropped_224\\extracted_face_0 (40).jpg_0.png\n",
      "Removed duplicate: Transformed_Datasets\\NOT_Auguste_Cropped_224\\extracted_face_0 (40).png_0.png\n",
      "Removed duplicate: Transformed_Datasets\\NOT_Auguste_Cropped_224\\extracted_face_0 (400).jpg_0.png\n",
      "Removed duplicate: Transformed_Datasets\\NOT_Auguste_Cropped_224\\extracted_face_0 (402).jpg_0.png\n",
      "Removed duplicate: Transformed_Datasets\\NOT_Auguste_Cropped_224\\extracted_face_0 (403).jpg_0.png\n",
      "Removed duplicate: Transformed_Datasets\\NOT_Auguste_Cropped_224\\extracted_face_0 (404).jpg_0.png\n",
      "Removed duplicate: Transformed_Datasets\\NOT_Auguste_Cropped_224\\extracted_face_0 (405).jpg_0.png\n",
      "Removed duplicate: Transformed_Datasets\\NOT_Auguste_Cropped_224\\extracted_face_0 (406).jpg_0.png\n",
      "Removed duplicate: Transformed_Datasets\\NOT_Auguste_Cropped_224\\extracted_face_0 (407).jpg_0.png\n",
      "Removed duplicate: Transformed_Datasets\\NOT_Auguste_Cropped_224\\extracted_face_0 (408).jpg_0.png\n",
      "Removed duplicate: Transformed_Datasets\\NOT_Auguste_Cropped_224\\extracted_face_0 (409).jpg_0.png\n",
      "Removed duplicate: Transformed_Datasets\\NOT_Auguste_Cropped_224\\extracted_face_0 (41).jpg_0.png\n",
      "Removed duplicate: Transformed_Datasets\\NOT_Auguste_Cropped_224\\extracted_face_0 (41).png_0.png\n",
      "Removed duplicate: Transformed_Datasets\\NOT_Auguste_Cropped_224\\extracted_face_0 (410).jpg_0.png\n",
      "Removed duplicate: Transformed_Datasets\\NOT_Auguste_Cropped_224\\extracted_face_0 (411).jpg_0.png\n",
      "Removed duplicate: Transformed_Datasets\\NOT_Auguste_Cropped_224\\extracted_face_0 (412).jpg_0.png\n",
      "Removed duplicate: Transformed_Datasets\\NOT_Auguste_Cropped_224\\extracted_face_0 (413).jpg_0.png\n",
      "Removed duplicate: Transformed_Datasets\\NOT_Auguste_Cropped_224\\extracted_face_0 (415).jpg_0.png\n",
      "Removed duplicate: Transformed_Datasets\\NOT_Auguste_Cropped_224\\extracted_face_0 (416).jpg_0.png\n",
      "Removed duplicate: Transformed_Datasets\\NOT_Auguste_Cropped_224\\extracted_face_0 (417).jpg_0.png\n",
      "Removed duplicate: Transformed_Datasets\\NOT_Auguste_Cropped_224\\extracted_face_0 (418).jpg_0.png\n",
      "Removed duplicate: Transformed_Datasets\\NOT_Auguste_Cropped_224\\extracted_face_0 (419).jpg_0.png\n",
      "Removed duplicate: Transformed_Datasets\\NOT_Auguste_Cropped_224\\extracted_face_0 (42).jpeg_0.png\n",
      "Removed duplicate: Transformed_Datasets\\NOT_Auguste_Cropped_224\\extracted_face_0 (420).jpg_0.png\n",
      "Removed duplicate: Transformed_Datasets\\NOT_Auguste_Cropped_224\\extracted_face_0 (421).jpg_0.png\n",
      "Removed duplicate: Transformed_Datasets\\NOT_Auguste_Cropped_224\\extracted_face_0 (422).jpg_0.png\n",
      "Removed duplicate: Transformed_Datasets\\NOT_Auguste_Cropped_224\\extracted_face_0 (423).jpg_0.png\n",
      "Removed duplicate: Transformed_Datasets\\NOT_Auguste_Cropped_224\\extracted_face_0 (424).jpg_0.png\n",
      "Removed duplicate: Transformed_Datasets\\NOT_Auguste_Cropped_224\\extracted_face_0 (425).jpg_0.png\n",
      "Removed duplicate: Transformed_Datasets\\NOT_Auguste_Cropped_224\\extracted_face_0 (426).jpg_0.png\n",
      "Removed duplicate: Transformed_Datasets\\NOT_Auguste_Cropped_224\\extracted_face_0 (427).jpg_0.png\n",
      "Removed duplicate: Transformed_Datasets\\NOT_Auguste_Cropped_224\\extracted_face_0 (428).jpg_0.png\n",
      "Removed duplicate: Transformed_Datasets\\NOT_Auguste_Cropped_224\\extracted_face_0 (429).jpg_0.png\n",
      "Removed duplicate: Transformed_Datasets\\NOT_Auguste_Cropped_224\\extracted_face_0 (43).jpeg_0.png\n",
      "Removed duplicate: Transformed_Datasets\\NOT_Auguste_Cropped_224\\extracted_face_0 (43).jpg_0.png\n",
      "Removed duplicate: Transformed_Datasets\\NOT_Auguste_Cropped_224\\extracted_face_0 (43).png_0.png\n",
      "Removed duplicate: Transformed_Datasets\\NOT_Auguste_Cropped_224\\extracted_face_0 (430).jpg_0.png\n",
      "Removed duplicate: Transformed_Datasets\\NOT_Auguste_Cropped_224\\extracted_face_0 (431).jpg_0.png\n",
      "Removed duplicate: Transformed_Datasets\\NOT_Auguste_Cropped_224\\extracted_face_0 (433).jpg_0.png\n",
      "Removed duplicate: Transformed_Datasets\\NOT_Auguste_Cropped_224\\extracted_face_0 (434).jpg_0.png\n",
      "Removed duplicate: Transformed_Datasets\\NOT_Auguste_Cropped_224\\extracted_face_0 (435).jpg_0.png\n",
      "Removed duplicate: Transformed_Datasets\\NOT_Auguste_Cropped_224\\extracted_face_0 (437).jpg_0.png\n",
      "Removed duplicate: Transformed_Datasets\\NOT_Auguste_Cropped_224\\extracted_face_0 (438).jpg_0.png\n",
      "Removed duplicate: Transformed_Datasets\\NOT_Auguste_Cropped_224\\extracted_face_0 (439).jpg_0.png\n",
      "Removed duplicate: Transformed_Datasets\\NOT_Auguste_Cropped_224\\extracted_face_0 (44).jpeg_0.png\n",
      "Removed duplicate: Transformed_Datasets\\NOT_Auguste_Cropped_224\\extracted_face_0 (44).jpg_0.png\n",
      "Removed duplicate: Transformed_Datasets\\NOT_Auguste_Cropped_224\\extracted_face_0 (44).png_0.png\n",
      "Removed duplicate: Transformed_Datasets\\NOT_Auguste_Cropped_224\\extracted_face_0 (440).jpg_0.png\n",
      "Removed duplicate: Transformed_Datasets\\NOT_Auguste_Cropped_224\\extracted_face_0 (442).jpg_0.png\n",
      "Removed duplicate: Transformed_Datasets\\NOT_Auguste_Cropped_224\\extracted_face_0 (443).jpg_0.png\n",
      "Removed duplicate: Transformed_Datasets\\NOT_Auguste_Cropped_224\\extracted_face_0 (444).jpg_0.png\n",
      "Removed duplicate: Transformed_Datasets\\NOT_Auguste_Cropped_224\\extracted_face_0 (446).jpg_0.png\n",
      "Removed duplicate: Transformed_Datasets\\NOT_Auguste_Cropped_224\\extracted_face_0 (447).jpg_0.png\n",
      "Removed duplicate: Transformed_Datasets\\NOT_Auguste_Cropped_224\\extracted_face_0 (448).jpg_0.png\n",
      "Removed duplicate: Transformed_Datasets\\NOT_Auguste_Cropped_224\\extracted_face_0 (449).jpg_0.png\n",
      "Removed duplicate: Transformed_Datasets\\NOT_Auguste_Cropped_224\\extracted_face_0 (45).jpeg_0.png\n",
      "Removed duplicate: Transformed_Datasets\\NOT_Auguste_Cropped_224\\extracted_face_0 (45).jpg_0.png\n",
      "Removed duplicate: Transformed_Datasets\\NOT_Auguste_Cropped_224\\extracted_face_0 (45).png_0.png\n",
      "Removed duplicate: Transformed_Datasets\\NOT_Auguste_Cropped_224\\extracted_face_0 (451).jpg_0.png\n",
      "Removed duplicate: Transformed_Datasets\\NOT_Auguste_Cropped_224\\extracted_face_0 (452).jpg_0.png\n",
      "Removed duplicate: Transformed_Datasets\\NOT_Auguste_Cropped_224\\extracted_face_0 (453).jpg_0.png\n",
      "Removed duplicate: Transformed_Datasets\\NOT_Auguste_Cropped_224\\extracted_face_0 (454).jpg_0.png\n",
      "Removed duplicate: Transformed_Datasets\\NOT_Auguste_Cropped_224\\extracted_face_0 (456).jpg_0.png\n",
      "Removed duplicate: Transformed_Datasets\\NOT_Auguste_Cropped_224\\extracted_face_0 (457).jpg_0.png\n",
      "Removed duplicate: Transformed_Datasets\\NOT_Auguste_Cropped_224\\extracted_face_0 (458).jpg_0.png\n",
      "Removed duplicate: Transformed_Datasets\\NOT_Auguste_Cropped_224\\extracted_face_0 (46).jpeg_0.png\n",
      "Removed duplicate: Transformed_Datasets\\NOT_Auguste_Cropped_224\\extracted_face_0 (46).jpeg_1.png\n",
      "Removed duplicate: Transformed_Datasets\\NOT_Auguste_Cropped_224\\extracted_face_0 (46).jpeg_2.png\n",
      "Removed duplicate: Transformed_Datasets\\NOT_Auguste_Cropped_224\\extracted_face_0 (46).jpg_0.png\n",
      "Removed duplicate: Transformed_Datasets\\NOT_Auguste_Cropped_224\\extracted_face_0 (460).jpg_0.png\n",
      "Removed duplicate: Transformed_Datasets\\NOT_Auguste_Cropped_224\\extracted_face_0 (461).jpg_0.png\n",
      "Removed duplicate: Transformed_Datasets\\NOT_Auguste_Cropped_224\\extracted_face_0 (462).jpg_0.png\n",
      "Removed duplicate: Transformed_Datasets\\NOT_Auguste_Cropped_224\\extracted_face_0 (463).jpg_0.png\n",
      "Removed duplicate: Transformed_Datasets\\NOT_Auguste_Cropped_224\\extracted_face_0 (465).jpg_0.png\n",
      "Removed duplicate: Transformed_Datasets\\NOT_Auguste_Cropped_224\\extracted_face_0 (466).jpg_0.png\n",
      "Removed duplicate: Transformed_Datasets\\NOT_Auguste_Cropped_224\\extracted_face_0 (467).jpg_0.png\n",
      "Removed duplicate: Transformed_Datasets\\NOT_Auguste_Cropped_224\\extracted_face_0 (468).jpg_0.png\n",
      "Removed duplicate: Transformed_Datasets\\NOT_Auguste_Cropped_224\\extracted_face_0 (469).jpg_0.png\n",
      "Removed duplicate: Transformed_Datasets\\NOT_Auguste_Cropped_224\\extracted_face_0 (47).jpeg_0.png\n",
      "Removed duplicate: Transformed_Datasets\\NOT_Auguste_Cropped_224\\extracted_face_0 (47).jpg_0.png\n",
      "Removed duplicate: Transformed_Datasets\\NOT_Auguste_Cropped_224\\extracted_face_0 (47).png_0.png\n",
      "Removed duplicate: Transformed_Datasets\\NOT_Auguste_Cropped_224\\extracted_face_0 (470).jpg_0.png\n",
      "Removed duplicate: Transformed_Datasets\\NOT_Auguste_Cropped_224\\extracted_face_0 (471).jpg_0.png\n",
      "Removed duplicate: Transformed_Datasets\\NOT_Auguste_Cropped_224\\extracted_face_0 (472).jpg_0.png\n",
      "Removed duplicate: Transformed_Datasets\\NOT_Auguste_Cropped_224\\extracted_face_0 (473).jpg_0.png\n",
      "Removed duplicate: Transformed_Datasets\\NOT_Auguste_Cropped_224\\extracted_face_0 (474).jpg_0.png\n",
      "Removed duplicate: Transformed_Datasets\\NOT_Auguste_Cropped_224\\extracted_face_0 (475).jpg_0.png\n",
      "Removed duplicate: Transformed_Datasets\\NOT_Auguste_Cropped_224\\extracted_face_0 (476).jpg_0.png\n",
      "Removed duplicate: Transformed_Datasets\\NOT_Auguste_Cropped_224\\extracted_face_0 (477).jpg_0.png\n",
      "Removed duplicate: Transformed_Datasets\\NOT_Auguste_Cropped_224\\extracted_face_0 (477).jpg_1.png\n",
      "Removed duplicate: Transformed_Datasets\\NOT_Auguste_Cropped_224\\extracted_face_0 (478).jpg_0.png\n",
      "Removed duplicate: Transformed_Datasets\\NOT_Auguste_Cropped_224\\extracted_face_0 (479).jpg_0.png\n",
      "Removed duplicate: Transformed_Datasets\\NOT_Auguste_Cropped_224\\extracted_face_0 (48).jpeg_0.png\n",
      "Removed duplicate: Transformed_Datasets\\NOT_Auguste_Cropped_224\\extracted_face_0 (48).png_0.png\n",
      "Removed duplicate: Transformed_Datasets\\NOT_Auguste_Cropped_224\\extracted_face_0 (480).jpg_0.png\n",
      "Removed duplicate: Transformed_Datasets\\NOT_Auguste_Cropped_224\\extracted_face_0 (481).jpg_0.png\n",
      "Removed duplicate: Transformed_Datasets\\NOT_Auguste_Cropped_224\\extracted_face_0 (482).jpg_0.png\n",
      "Removed duplicate: Transformed_Datasets\\NOT_Auguste_Cropped_224\\extracted_face_0 (483).jpg_0.png\n",
      "Removed duplicate: Transformed_Datasets\\NOT_Auguste_Cropped_224\\extracted_face_0 (484).jpg_0.png\n",
      "Removed duplicate: Transformed_Datasets\\NOT_Auguste_Cropped_224\\extracted_face_0 (485).jpg_0.png\n",
      "Removed duplicate: Transformed_Datasets\\NOT_Auguste_Cropped_224\\extracted_face_0 (486).jpg_0.png\n",
      "Removed duplicate: Transformed_Datasets\\NOT_Auguste_Cropped_224\\extracted_face_0 (487).jpg_0.png\n",
      "Removed duplicate: Transformed_Datasets\\NOT_Auguste_Cropped_224\\extracted_face_0 (488).jpg_0.png\n",
      "Removed duplicate: Transformed_Datasets\\NOT_Auguste_Cropped_224\\extracted_face_0 (489).jpg_0.png\n",
      "Removed duplicate: Transformed_Datasets\\NOT_Auguste_Cropped_224\\extracted_face_0 (49).jpeg_0.png\n",
      "Removed duplicate: Transformed_Datasets\\NOT_Auguste_Cropped_224\\extracted_face_0 (49).jpg_0.png\n",
      "Removed duplicate: Transformed_Datasets\\NOT_Auguste_Cropped_224\\extracted_face_0 (49).png_0.png\n",
      "Removed duplicate: Transformed_Datasets\\NOT_Auguste_Cropped_224\\extracted_face_0 (490).jpg_0.png\n",
      "Removed duplicate: Transformed_Datasets\\NOT_Auguste_Cropped_224\\extracted_face_0 (491).jpg_0.png\n",
      "Removed duplicate: Transformed_Datasets\\NOT_Auguste_Cropped_224\\extracted_face_0 (492).jpg_0.png\n",
      "Removed duplicate: Transformed_Datasets\\NOT_Auguste_Cropped_224\\extracted_face_0 (493).jpg_0.png\n",
      "Removed duplicate: Transformed_Datasets\\NOT_Auguste_Cropped_224\\extracted_face_0 (494).jpg_0.png\n",
      "Removed duplicate: Transformed_Datasets\\NOT_Auguste_Cropped_224\\extracted_face_0 (495).jpg_0.png\n",
      "Removed duplicate: Transformed_Datasets\\NOT_Auguste_Cropped_224\\extracted_face_0 (496).jpg_0.png\n",
      "Removed duplicate: Transformed_Datasets\\NOT_Auguste_Cropped_224\\extracted_face_0 (497).jpg_0.png\n",
      "Removed duplicate: Transformed_Datasets\\NOT_Auguste_Cropped_224\\extracted_face_0 (5).jpg_0.png\n",
      "Removed duplicate: Transformed_Datasets\\NOT_Auguste_Cropped_224\\extracted_face_0 (5).png_0.png\n",
      "Removed duplicate: Transformed_Datasets\\NOT_Auguste_Cropped_224\\extracted_face_0 (50).jpeg_0.png\n",
      "Removed duplicate: Transformed_Datasets\\NOT_Auguste_Cropped_224\\extracted_face_0 (50).jpg_0.png\n",
      "Removed duplicate: Transformed_Datasets\\NOT_Auguste_Cropped_224\\extracted_face_0 (50).png_0.png\n",
      "Removed duplicate: Transformed_Datasets\\NOT_Auguste_Cropped_224\\extracted_face_0 (500).jpg_0.png\n",
      "Removed duplicate: Transformed_Datasets\\NOT_Auguste_Cropped_224\\extracted_face_0 (501).jpg_0.png\n",
      "Removed duplicate: Transformed_Datasets\\NOT_Auguste_Cropped_224\\extracted_face_0 (502).jpg_0.png\n",
      "Removed duplicate: Transformed_Datasets\\NOT_Auguste_Cropped_224\\extracted_face_0 (503).jpg_0.png\n",
      "Removed duplicate: Transformed_Datasets\\NOT_Auguste_Cropped_224\\extracted_face_0 (504).jpg_0.png\n",
      "Removed duplicate: Transformed_Datasets\\NOT_Auguste_Cropped_224\\extracted_face_0 (505).jpg_0.png\n",
      "Removed duplicate: Transformed_Datasets\\NOT_Auguste_Cropped_224\\extracted_face_0 (506).jpg_0.png\n",
      "Removed duplicate: Transformed_Datasets\\NOT_Auguste_Cropped_224\\extracted_face_0 (507).jpg_0.png\n",
      "Removed duplicate: Transformed_Datasets\\NOT_Auguste_Cropped_224\\extracted_face_0 (508).jpg_0.png\n",
      "Removed duplicate: Transformed_Datasets\\NOT_Auguste_Cropped_224\\extracted_face_0 (509).jpg_0.png\n",
      "Removed duplicate: Transformed_Datasets\\NOT_Auguste_Cropped_224\\extracted_face_0 (51).jpeg_0.png\n",
      "Removed duplicate: Transformed_Datasets\\NOT_Auguste_Cropped_224\\extracted_face_0 (51).jpg_0.png\n",
      "Removed duplicate: Transformed_Datasets\\NOT_Auguste_Cropped_224\\extracted_face_0 (51).png_0.png\n",
      "Removed duplicate: Transformed_Datasets\\NOT_Auguste_Cropped_224\\extracted_face_0 (510).jpg_0.png\n",
      "Removed duplicate: Transformed_Datasets\\NOT_Auguste_Cropped_224\\extracted_face_0 (511).jpg_0.png\n",
      "Removed duplicate: Transformed_Datasets\\NOT_Auguste_Cropped_224\\extracted_face_0 (512).jpg_0.png\n",
      "Removed duplicate: Transformed_Datasets\\NOT_Auguste_Cropped_224\\extracted_face_0 (514).jpg_0.png\n",
      "Removed duplicate: Transformed_Datasets\\NOT_Auguste_Cropped_224\\extracted_face_0 (515).jpg_0.png\n",
      "Removed duplicate: Transformed_Datasets\\NOT_Auguste_Cropped_224\\extracted_face_0 (516).jpg_0.png\n",
      "Removed duplicate: Transformed_Datasets\\NOT_Auguste_Cropped_224\\extracted_face_0 (517).jpg_0.png\n",
      "Removed duplicate: Transformed_Datasets\\NOT_Auguste_Cropped_224\\extracted_face_0 (519).jpg_0.png\n",
      "Removed duplicate: Transformed_Datasets\\NOT_Auguste_Cropped_224\\extracted_face_0 (52).jpeg_0.png\n",
      "Removed duplicate: Transformed_Datasets\\NOT_Auguste_Cropped_224\\extracted_face_0 (52).png_0.png\n",
      "Removed duplicate: Transformed_Datasets\\NOT_Auguste_Cropped_224\\extracted_face_0 (520).jpg_0.png\n",
      "Removed duplicate: Transformed_Datasets\\NOT_Auguste_Cropped_224\\extracted_face_0 (521).jpg_0.png\n",
      "Removed duplicate: Transformed_Datasets\\NOT_Auguste_Cropped_224\\extracted_face_0 (522).jpg_0.png\n",
      "Removed duplicate: Transformed_Datasets\\NOT_Auguste_Cropped_224\\extracted_face_0 (523).jpg_0.png\n",
      "Removed duplicate: Transformed_Datasets\\NOT_Auguste_Cropped_224\\extracted_face_0 (524).jpg_0.png\n",
      "Removed duplicate: Transformed_Datasets\\NOT_Auguste_Cropped_224\\extracted_face_0 (525).jpg_0.png\n",
      "Removed duplicate: Transformed_Datasets\\NOT_Auguste_Cropped_224\\extracted_face_0 (526).jpg_0.png\n",
      "Removed duplicate: Transformed_Datasets\\NOT_Auguste_Cropped_224\\extracted_face_0 (527).jpg_0.png\n",
      "Removed duplicate: Transformed_Datasets\\NOT_Auguste_Cropped_224\\extracted_face_0 (528).jpg_0.png\n",
      "Removed duplicate: Transformed_Datasets\\NOT_Auguste_Cropped_224\\extracted_face_0 (53).jpeg_0.png\n",
      "Removed duplicate: Transformed_Datasets\\NOT_Auguste_Cropped_224\\extracted_face_0 (53).jpg_0.png\n",
      "Removed duplicate: Transformed_Datasets\\NOT_Auguste_Cropped_224\\extracted_face_0 (53).png_0.png\n",
      "Removed duplicate: Transformed_Datasets\\NOT_Auguste_Cropped_224\\extracted_face_0 (530).jpg_0.png\n",
      "Removed duplicate: Transformed_Datasets\\NOT_Auguste_Cropped_224\\extracted_face_0 (531).jpg_0.png\n",
      "Removed duplicate: Transformed_Datasets\\NOT_Auguste_Cropped_224\\extracted_face_0 (532).jpg_0.png\n",
      "Removed duplicate: Transformed_Datasets\\NOT_Auguste_Cropped_224\\extracted_face_0 (533).jpg_0.png\n",
      "Removed duplicate: Transformed_Datasets\\NOT_Auguste_Cropped_224\\extracted_face_0 (534).jpg_0.png\n",
      "Removed duplicate: Transformed_Datasets\\NOT_Auguste_Cropped_224\\extracted_face_0 (535).jpg_0.png\n",
      "Removed duplicate: Transformed_Datasets\\NOT_Auguste_Cropped_224\\extracted_face_0 (537).jpg_0.png\n",
      "Removed duplicate: Transformed_Datasets\\NOT_Auguste_Cropped_224\\extracted_face_0 (538).jpg_0.png\n",
      "Removed duplicate: Transformed_Datasets\\NOT_Auguste_Cropped_224\\extracted_face_0 (539).jpg_0.png\n",
      "Removed duplicate: Transformed_Datasets\\NOT_Auguste_Cropped_224\\extracted_face_0 (54).jpeg_0.png\n",
      "Removed duplicate: Transformed_Datasets\\NOT_Auguste_Cropped_224\\extracted_face_0 (54).jpg_0.png\n",
      "Removed duplicate: Transformed_Datasets\\NOT_Auguste_Cropped_224\\extracted_face_0 (54).png_0.png\n",
      "Removed duplicate: Transformed_Datasets\\NOT_Auguste_Cropped_224\\extracted_face_0 (540).jpg_0.png\n",
      "Removed duplicate: Transformed_Datasets\\NOT_Auguste_Cropped_224\\extracted_face_0 (541).jpg_0.png\n",
      "Removed duplicate: Transformed_Datasets\\NOT_Auguste_Cropped_224\\extracted_face_0 (542).jpg_0.png\n",
      "Removed duplicate: Transformed_Datasets\\NOT_Auguste_Cropped_224\\extracted_face_0 (542).jpg_1.png\n",
      "Removed duplicate: Transformed_Datasets\\NOT_Auguste_Cropped_224\\extracted_face_0 (542).jpg_2.png\n",
      "Removed duplicate: Transformed_Datasets\\NOT_Auguste_Cropped_224\\extracted_face_0 (544).jpg_0.png\n",
      "Removed duplicate: Transformed_Datasets\\NOT_Auguste_Cropped_224\\extracted_face_0 (545).jpg_0.png\n",
      "Removed duplicate: Transformed_Datasets\\NOT_Auguste_Cropped_224\\extracted_face_0 (546).jpg_0.png\n",
      "Removed duplicate: Transformed_Datasets\\NOT_Auguste_Cropped_224\\extracted_face_0 (547).jpg_0.png\n",
      "Removed duplicate: Transformed_Datasets\\NOT_Auguste_Cropped_224\\extracted_face_0 (548).jpg_0.png\n",
      "Removed duplicate: Transformed_Datasets\\NOT_Auguste_Cropped_224\\extracted_face_0 (548).jpg_1.png\n",
      "Removed duplicate: Transformed_Datasets\\NOT_Auguste_Cropped_224\\extracted_face_0 (549).jpg_0.png\n",
      "Removed duplicate: Transformed_Datasets\\NOT_Auguste_Cropped_224\\extracted_face_0 (55).jpg_0.png\n",
      "Removed duplicate: Transformed_Datasets\\NOT_Auguste_Cropped_224\\extracted_face_0 (55).png_0.png\n",
      "Removed duplicate: Transformed_Datasets\\NOT_Auguste_Cropped_224\\extracted_face_0 (550).jpg_0.png\n",
      "Removed duplicate: Transformed_Datasets\\NOT_Auguste_Cropped_224\\extracted_face_0 (551).jpg_0.png\n",
      "Removed duplicate: Transformed_Datasets\\NOT_Auguste_Cropped_224\\extracted_face_0 (552).jpg_0.png\n",
      "Removed duplicate: Transformed_Datasets\\NOT_Auguste_Cropped_224\\extracted_face_0 (553).jpg_0.png\n",
      "Removed duplicate: Transformed_Datasets\\NOT_Auguste_Cropped_224\\extracted_face_0 (554).jpg_0.png\n",
      "Removed duplicate: Transformed_Datasets\\NOT_Auguste_Cropped_224\\extracted_face_0 (555).jpg_0.png\n",
      "Removed duplicate: Transformed_Datasets\\NOT_Auguste_Cropped_224\\extracted_face_0 (556).jpg_0.png\n",
      "Removed duplicate: Transformed_Datasets\\NOT_Auguste_Cropped_224\\extracted_face_0 (557).jpg_0.png\n",
      "Removed duplicate: Transformed_Datasets\\NOT_Auguste_Cropped_224\\extracted_face_0 (558).jpg_0.png\n",
      "Removed duplicate: Transformed_Datasets\\NOT_Auguste_Cropped_224\\extracted_face_0 (558).jpg_1.png\n",
      "Removed duplicate: Transformed_Datasets\\NOT_Auguste_Cropped_224\\extracted_face_0 (559).JPG_0.png\n",
      "Removed duplicate: Transformed_Datasets\\NOT_Auguste_Cropped_224\\extracted_face_0 (56).jpeg_0.png\n",
      "Removed duplicate: Transformed_Datasets\\NOT_Auguste_Cropped_224\\extracted_face_0 (56).png_0.png\n",
      "Removed duplicate: Transformed_Datasets\\NOT_Auguste_Cropped_224\\extracted_face_0 (560).jpg_0.png\n",
      "Removed duplicate: Transformed_Datasets\\NOT_Auguste_Cropped_224\\extracted_face_0 (561).jpg_0.png\n",
      "Removed duplicate: Transformed_Datasets\\NOT_Auguste_Cropped_224\\extracted_face_0 (562).jpg_0.png\n",
      "Removed duplicate: Transformed_Datasets\\NOT_Auguste_Cropped_224\\extracted_face_0 (563).jpg_0.png\n",
      "Removed duplicate: Transformed_Datasets\\NOT_Auguste_Cropped_224\\extracted_face_0 (564).jpg_0.png\n",
      "Removed duplicate: Transformed_Datasets\\NOT_Auguste_Cropped_224\\extracted_face_0 (565).jpg_0.png\n",
      "Removed duplicate: Transformed_Datasets\\NOT_Auguste_Cropped_224\\extracted_face_0 (566).jpg_0.png\n",
      "Removed duplicate: Transformed_Datasets\\NOT_Auguste_Cropped_224\\extracted_face_0 (567).jpg_0.png\n",
      "Removed duplicate: Transformed_Datasets\\NOT_Auguste_Cropped_224\\extracted_face_0 (568).jpg_0.png\n",
      "Removed duplicate: Transformed_Datasets\\NOT_Auguste_Cropped_224\\extracted_face_0 (569).jpg_0.png\n",
      "Removed duplicate: Transformed_Datasets\\NOT_Auguste_Cropped_224\\extracted_face_0 (57).jpeg_0.png\n",
      "Removed duplicate: Transformed_Datasets\\NOT_Auguste_Cropped_224\\extracted_face_0 (57).jpeg_1.png\n",
      "Removed duplicate: Transformed_Datasets\\NOT_Auguste_Cropped_224\\extracted_face_0 (57).jpeg_2.png\n",
      "Removed duplicate: Transformed_Datasets\\NOT_Auguste_Cropped_224\\extracted_face_0 (57).jpg_0.png\n",
      "Removed duplicate: Transformed_Datasets\\NOT_Auguste_Cropped_224\\extracted_face_0 (57).png_0.png\n",
      "Removed duplicate: Transformed_Datasets\\NOT_Auguste_Cropped_224\\extracted_face_0 (570).jpg_0.png\n",
      "Removed duplicate: Transformed_Datasets\\NOT_Auguste_Cropped_224\\extracted_face_0 (570).jpg_1.png\n",
      "Removed duplicate: Transformed_Datasets\\NOT_Auguste_Cropped_224\\extracted_face_0 (571).jpg_0.png\n",
      "Removed duplicate: Transformed_Datasets\\NOT_Auguste_Cropped_224\\extracted_face_0 (572).jpg_0.png\n",
      "Removed duplicate: Transformed_Datasets\\NOT_Auguste_Cropped_224\\extracted_face_0 (573).jpg_0.png\n",
      "Removed duplicate: Transformed_Datasets\\NOT_Auguste_Cropped_224\\extracted_face_0 (574).jpg_0.png\n",
      "Removed duplicate: Transformed_Datasets\\NOT_Auguste_Cropped_224\\extracted_face_0 (575).jpg_0.png\n",
      "Removed duplicate: Transformed_Datasets\\NOT_Auguste_Cropped_224\\extracted_face_0 (576).jpg_0.png\n",
      "Removed duplicate: Transformed_Datasets\\NOT_Auguste_Cropped_224\\extracted_face_0 (577).jpg_0.png\n",
      "Removed duplicate: Transformed_Datasets\\NOT_Auguste_Cropped_224\\extracted_face_0 (578).jpg_0.png\n",
      "Removed duplicate: Transformed_Datasets\\NOT_Auguste_Cropped_224\\extracted_face_0 (579).jpg_0.png\n",
      "Removed duplicate: Transformed_Datasets\\NOT_Auguste_Cropped_224\\extracted_face_0 (58).jpg_0.png\n",
      "Removed duplicate: Transformed_Datasets\\NOT_Auguste_Cropped_224\\extracted_face_0 (58).png_0.png\n",
      "Removed duplicate: Transformed_Datasets\\NOT_Auguste_Cropped_224\\extracted_face_0 (580).jpg_0.png\n",
      "Removed duplicate: Transformed_Datasets\\NOT_Auguste_Cropped_224\\extracted_face_0 (581).jpg_0.png\n",
      "Removed duplicate: Transformed_Datasets\\NOT_Auguste_Cropped_224\\extracted_face_0 (582).jpg_0.png\n",
      "Removed duplicate: Transformed_Datasets\\NOT_Auguste_Cropped_224\\extracted_face_0 (583).jpg_0.png\n",
      "Removed duplicate: Transformed_Datasets\\NOT_Auguste_Cropped_224\\extracted_face_0 (584).jpg_0.png\n",
      "Removed duplicate: Transformed_Datasets\\NOT_Auguste_Cropped_224\\extracted_face_0 (585).jpg_0.png\n",
      "Removed duplicate: Transformed_Datasets\\NOT_Auguste_Cropped_224\\extracted_face_0 (586).jpg_0.png\n",
      "Removed duplicate: Transformed_Datasets\\NOT_Auguste_Cropped_224\\extracted_face_0 (587).jpg_0.png\n",
      "Removed duplicate: Transformed_Datasets\\NOT_Auguste_Cropped_224\\extracted_face_0 (588).jpg_0.png\n",
      "Removed duplicate: Transformed_Datasets\\NOT_Auguste_Cropped_224\\extracted_face_0 (589).jpg_0.png\n",
      "Removed duplicate: Transformed_Datasets\\NOT_Auguste_Cropped_224\\extracted_face_0 (59).jpg_0.png\n",
      "Removed duplicate: Transformed_Datasets\\NOT_Auguste_Cropped_224\\extracted_face_0 (59).png_0.png\n",
      "Removed duplicate: Transformed_Datasets\\NOT_Auguste_Cropped_224\\extracted_face_0 (590).jpg_0.png\n",
      "Removed duplicate: Transformed_Datasets\\NOT_Auguste_Cropped_224\\extracted_face_0 (591).jpg_0.png\n",
      "Removed duplicate: Transformed_Datasets\\NOT_Auguste_Cropped_224\\extracted_face_0 (592).jpg_0.png\n",
      "Removed duplicate: Transformed_Datasets\\NOT_Auguste_Cropped_224\\extracted_face_0 (593).jpg_0.png\n",
      "Removed duplicate: Transformed_Datasets\\NOT_Auguste_Cropped_224\\extracted_face_0 (594).jpg_0.png\n",
      "Removed duplicate: Transformed_Datasets\\NOT_Auguste_Cropped_224\\extracted_face_0 (595).jpg_0.png\n",
      "Removed duplicate: Transformed_Datasets\\NOT_Auguste_Cropped_224\\extracted_face_0 (597).jpg_0.png\n",
      "Removed duplicate: Transformed_Datasets\\NOT_Auguste_Cropped_224\\extracted_face_0 (598).jpg_0.png\n",
      "Removed duplicate: Transformed_Datasets\\NOT_Auguste_Cropped_224\\extracted_face_0 (599).jpg_0.png\n",
      "Removed duplicate: Transformed_Datasets\\NOT_Auguste_Cropped_224\\extracted_face_0 (6).jpeg_0.png\n",
      "Removed duplicate: Transformed_Datasets\\NOT_Auguste_Cropped_224\\extracted_face_0 (6).jpg_0.png\n",
      "Removed duplicate: Transformed_Datasets\\NOT_Auguste_Cropped_224\\extracted_face_0 (60).jpg_0.png\n",
      "Removed duplicate: Transformed_Datasets\\NOT_Auguste_Cropped_224\\extracted_face_0 (60).png_0.png\n",
      "Removed duplicate: Transformed_Datasets\\NOT_Auguste_Cropped_224\\extracted_face_0 (600).jpg_0.png\n",
      "Removed duplicate: Transformed_Datasets\\NOT_Auguste_Cropped_224\\extracted_face_0 (601).jpg_0.png\n",
      "Removed duplicate: Transformed_Datasets\\NOT_Auguste_Cropped_224\\extracted_face_0 (602).jpg_0.png\n",
      "Removed duplicate: Transformed_Datasets\\NOT_Auguste_Cropped_224\\extracted_face_0 (603).jpg_0.png\n",
      "Removed duplicate: Transformed_Datasets\\NOT_Auguste_Cropped_224\\extracted_face_0 (604).jpg_0.png\n",
      "Removed duplicate: Transformed_Datasets\\NOT_Auguste_Cropped_224\\extracted_face_0 (605).jpg_0.png\n",
      "Removed duplicate: Transformed_Datasets\\NOT_Auguste_Cropped_224\\extracted_face_0 (606).jpg_0.png\n",
      "Removed duplicate: Transformed_Datasets\\NOT_Auguste_Cropped_224\\extracted_face_0 (607).jpg_0.png\n",
      "Removed duplicate: Transformed_Datasets\\NOT_Auguste_Cropped_224\\extracted_face_0 (608).jpg_0.png\n",
      "Removed duplicate: Transformed_Datasets\\NOT_Auguste_Cropped_224\\extracted_face_0 (609).jpg_0.png\n",
      "Removed duplicate: Transformed_Datasets\\NOT_Auguste_Cropped_224\\extracted_face_0 (61).png_0.png\n",
      "Removed duplicate: Transformed_Datasets\\NOT_Auguste_Cropped_224\\extracted_face_0 (610).jpg_0.png\n",
      "Removed duplicate: Transformed_Datasets\\NOT_Auguste_Cropped_224\\extracted_face_0 (610).jpg_1.png\n",
      "Removed duplicate: Transformed_Datasets\\NOT_Auguste_Cropped_224\\extracted_face_0 (611).jpg_0.png\n",
      "Removed duplicate: Transformed_Datasets\\NOT_Auguste_Cropped_224\\extracted_face_0 (612).jpg_0.png\n",
      "Removed duplicate: Transformed_Datasets\\NOT_Auguste_Cropped_224\\extracted_face_0 (613).jpg_0.png\n",
      "Removed duplicate: Transformed_Datasets\\NOT_Auguste_Cropped_224\\extracted_face_0 (614).jpg_0.png\n",
      "Removed duplicate: Transformed_Datasets\\NOT_Auguste_Cropped_224\\extracted_face_0 (615).jpg_0.png\n",
      "Removed duplicate: Transformed_Datasets\\NOT_Auguste_Cropped_224\\extracted_face_0 (616).jpg_0.png\n",
      "Removed duplicate: Transformed_Datasets\\NOT_Auguste_Cropped_224\\extracted_face_0 (617).jpg_0.png\n",
      "Removed duplicate: Transformed_Datasets\\NOT_Auguste_Cropped_224\\extracted_face_0 (618).jpg_0.png\n",
      "Removed duplicate: Transformed_Datasets\\NOT_Auguste_Cropped_224\\extracted_face_0 (619).jpg_0.png\n",
      "Removed duplicate: Transformed_Datasets\\NOT_Auguste_Cropped_224\\extracted_face_0 (62).jpg_0.png\n",
      "Removed duplicate: Transformed_Datasets\\NOT_Auguste_Cropped_224\\extracted_face_0 (62).png_0.png\n",
      "Removed duplicate: Transformed_Datasets\\NOT_Auguste_Cropped_224\\extracted_face_0 (620).jpg_0.png\n",
      "Removed duplicate: Transformed_Datasets\\NOT_Auguste_Cropped_224\\extracted_face_0 (621).jpg_0.png\n",
      "Removed duplicate: Transformed_Datasets\\NOT_Auguste_Cropped_224\\extracted_face_0 (622).jpg_0.png\n",
      "Removed duplicate: Transformed_Datasets\\NOT_Auguste_Cropped_224\\extracted_face_0 (623).jpg_0.png\n",
      "Removed duplicate: Transformed_Datasets\\NOT_Auguste_Cropped_224\\extracted_face_0 (624).jpg_0.png\n",
      "Removed duplicate: Transformed_Datasets\\NOT_Auguste_Cropped_224\\extracted_face_0 (625).jpg_0.png\n",
      "Removed duplicate: Transformed_Datasets\\NOT_Auguste_Cropped_224\\extracted_face_0 (626).jpg_0.png\n",
      "Removed duplicate: Transformed_Datasets\\NOT_Auguste_Cropped_224\\extracted_face_0 (627).jpg_0.png\n",
      "Removed duplicate: Transformed_Datasets\\NOT_Auguste_Cropped_224\\extracted_face_0 (629).jpg_0.png\n",
      "Removed duplicate: Transformed_Datasets\\NOT_Auguste_Cropped_224\\extracted_face_0 (63).jpg_0.png\n",
      "Removed duplicate: Transformed_Datasets\\NOT_Auguste_Cropped_224\\extracted_face_0 (63).png_0.png\n",
      "Removed duplicate: Transformed_Datasets\\NOT_Auguste_Cropped_224\\extracted_face_0 (630).jpg_0.png\n",
      "Removed duplicate: Transformed_Datasets\\NOT_Auguste_Cropped_224\\extracted_face_0 (631).jpg_0.png\n",
      "Removed duplicate: Transformed_Datasets\\NOT_Auguste_Cropped_224\\extracted_face_0 (632).jpg_0.png\n",
      "Removed duplicate: Transformed_Datasets\\NOT_Auguste_Cropped_224\\extracted_face_0 (634).jpg_0.png\n",
      "Removed duplicate: Transformed_Datasets\\NOT_Auguste_Cropped_224\\extracted_face_0 (635).JPG_0.png\n",
      "Removed duplicate: Transformed_Datasets\\NOT_Auguste_Cropped_224\\extracted_face_0 (636).jpg_0.png\n",
      "Removed duplicate: Transformed_Datasets\\NOT_Auguste_Cropped_224\\extracted_face_0 (637).jpg_0.png\n",
      "Removed duplicate: Transformed_Datasets\\NOT_Auguste_Cropped_224\\extracted_face_0 (639).jpg_0.png\n",
      "Removed duplicate: Transformed_Datasets\\NOT_Auguste_Cropped_224\\extracted_face_0 (64).jpg_0.png\n",
      "Removed duplicate: Transformed_Datasets\\NOT_Auguste_Cropped_224\\extracted_face_0 (64).png_0.png\n",
      "Removed duplicate: Transformed_Datasets\\NOT_Auguste_Cropped_224\\extracted_face_0 (640).jpg_0.png\n",
      "Removed duplicate: Transformed_Datasets\\NOT_Auguste_Cropped_224\\extracted_face_0 (641).jpg_0.png\n",
      "Removed duplicate: Transformed_Datasets\\NOT_Auguste_Cropped_224\\extracted_face_0 (642).jpg_0.png\n",
      "Removed duplicate: Transformed_Datasets\\NOT_Auguste_Cropped_224\\extracted_face_0 (643).jpg_0.png\n",
      "Removed duplicate: Transformed_Datasets\\NOT_Auguste_Cropped_224\\extracted_face_0 (644).jpg_0.png\n",
      "Removed duplicate: Transformed_Datasets\\NOT_Auguste_Cropped_224\\extracted_face_0 (645).jpg_0.png\n",
      "Removed duplicate: Transformed_Datasets\\NOT_Auguste_Cropped_224\\extracted_face_0 (646).jpg_0.png\n",
      "Removed duplicate: Transformed_Datasets\\NOT_Auguste_Cropped_224\\extracted_face_0 (647).jpg_0.png\n",
      "Removed duplicate: Transformed_Datasets\\NOT_Auguste_Cropped_224\\extracted_face_0 (649).jpg_0.png\n",
      "Removed duplicate: Transformed_Datasets\\NOT_Auguste_Cropped_224\\extracted_face_0 (65).jpg_0.png\n",
      "Removed duplicate: Transformed_Datasets\\NOT_Auguste_Cropped_224\\extracted_face_0 (65).png_0.png\n",
      "Removed duplicate: Transformed_Datasets\\NOT_Auguste_Cropped_224\\extracted_face_0 (650).jpg_0.png\n",
      "Removed duplicate: Transformed_Datasets\\NOT_Auguste_Cropped_224\\extracted_face_0 (651).jpg_0.png\n",
      "Removed duplicate: Transformed_Datasets\\NOT_Auguste_Cropped_224\\extracted_face_0 (652).jpg_0.png\n",
      "Removed duplicate: Transformed_Datasets\\NOT_Auguste_Cropped_224\\extracted_face_0 (653).jpg_0.png\n",
      "Removed duplicate: Transformed_Datasets\\NOT_Auguste_Cropped_224\\extracted_face_0 (654).jpg_0.png\n",
      "Removed duplicate: Transformed_Datasets\\NOT_Auguste_Cropped_224\\extracted_face_0 (655).jpg_0.png\n",
      "Removed duplicate: Transformed_Datasets\\NOT_Auguste_Cropped_224\\extracted_face_0 (657).jpg_0.png\n",
      "Removed duplicate: Transformed_Datasets\\NOT_Auguste_Cropped_224\\extracted_face_0 (658).jpg_0.png\n",
      "Removed duplicate: Transformed_Datasets\\NOT_Auguste_Cropped_224\\extracted_face_0 (659).jpg_0.png\n",
      "Removed duplicate: Transformed_Datasets\\NOT_Auguste_Cropped_224\\extracted_face_0 (66).png_0.png\n",
      "Removed duplicate: Transformed_Datasets\\NOT_Auguste_Cropped_224\\extracted_face_0 (660).jpg_0.png\n",
      "Removed duplicate: Transformed_Datasets\\NOT_Auguste_Cropped_224\\extracted_face_0 (661).jpg_0.png\n",
      "Removed duplicate: Transformed_Datasets\\NOT_Auguste_Cropped_224\\extracted_face_0 (662).jpg_0.png\n",
      "Removed duplicate: Transformed_Datasets\\NOT_Auguste_Cropped_224\\extracted_face_0 (663).jpg_0.png\n",
      "Removed duplicate: Transformed_Datasets\\NOT_Auguste_Cropped_224\\extracted_face_0 (664).jpg_0.png\n",
      "Removed duplicate: Transformed_Datasets\\NOT_Auguste_Cropped_224\\extracted_face_0 (665).jpg_0.png\n",
      "Removed duplicate: Transformed_Datasets\\NOT_Auguste_Cropped_224\\extracted_face_0 (666).jpg_0.png\n",
      "Removed duplicate: Transformed_Datasets\\NOT_Auguste_Cropped_224\\extracted_face_0 (667).jpg_0.png\n",
      "Removed duplicate: Transformed_Datasets\\NOT_Auguste_Cropped_224\\extracted_face_0 (668).jpg_0.png\n",
      "Removed duplicate: Transformed_Datasets\\NOT_Auguste_Cropped_224\\extracted_face_0 (669).jpg_0.png\n",
      "Removed duplicate: Transformed_Datasets\\NOT_Auguste_Cropped_224\\extracted_face_0 (67).jpg_0.png\n",
      "Removed duplicate: Transformed_Datasets\\NOT_Auguste_Cropped_224\\extracted_face_0 (67).png_0.png\n",
      "Removed duplicate: Transformed_Datasets\\NOT_Auguste_Cropped_224\\extracted_face_0 (670).jpg_0.png\n",
      "Removed duplicate: Transformed_Datasets\\NOT_Auguste_Cropped_224\\extracted_face_0 (671).jpg_0.png\n",
      "Removed duplicate: Transformed_Datasets\\NOT_Auguste_Cropped_224\\extracted_face_0 (672).jpg_0.png\n",
      "Removed duplicate: Transformed_Datasets\\NOT_Auguste_Cropped_224\\extracted_face_0 (673).jpg_0.png\n",
      "Removed duplicate: Transformed_Datasets\\NOT_Auguste_Cropped_224\\extracted_face_0 (674).jpg_0.png\n",
      "Removed duplicate: Transformed_Datasets\\NOT_Auguste_Cropped_224\\extracted_face_0 (675).jpg_0.png\n",
      "Removed duplicate: Transformed_Datasets\\NOT_Auguste_Cropped_224\\extracted_face_0 (676).jpg_0.png\n",
      "Removed duplicate: Transformed_Datasets\\NOT_Auguste_Cropped_224\\extracted_face_0 (677).jpg_0.png\n",
      "Removed duplicate: Transformed_Datasets\\NOT_Auguste_Cropped_224\\extracted_face_0 (678).jpg_0.png\n",
      "Removed duplicate: Transformed_Datasets\\NOT_Auguste_Cropped_224\\extracted_face_0 (678).jpg_1.png\n",
      "Removed duplicate: Transformed_Datasets\\NOT_Auguste_Cropped_224\\extracted_face_0 (678).jpg_2.png\n",
      "Removed duplicate: Transformed_Datasets\\NOT_Auguste_Cropped_224\\extracted_face_0 (679).jpg_0.png\n",
      "Removed duplicate: Transformed_Datasets\\NOT_Auguste_Cropped_224\\extracted_face_0 (68).jpg_0.png\n",
      "Removed duplicate: Transformed_Datasets\\NOT_Auguste_Cropped_224\\extracted_face_0 (68).png_0.png\n",
      "Removed duplicate: Transformed_Datasets\\NOT_Auguste_Cropped_224\\extracted_face_0 (680).jpg_0.png\n",
      "Removed duplicate: Transformed_Datasets\\NOT_Auguste_Cropped_224\\extracted_face_0 (681).jpg_0.png\n",
      "Removed duplicate: Transformed_Datasets\\NOT_Auguste_Cropped_224\\extracted_face_0 (682).jpg_0.png\n",
      "Removed duplicate: Transformed_Datasets\\NOT_Auguste_Cropped_224\\extracted_face_0 (683).jpg_0.png\n",
      "Removed duplicate: Transformed_Datasets\\NOT_Auguste_Cropped_224\\extracted_face_0 (684).jpg_0.png\n",
      "Removed duplicate: Transformed_Datasets\\NOT_Auguste_Cropped_224\\extracted_face_0 (685).jpg_0.png\n",
      "Removed duplicate: Transformed_Datasets\\NOT_Auguste_Cropped_224\\extracted_face_0 (686).jpg_0.png\n",
      "Removed duplicate: Transformed_Datasets\\NOT_Auguste_Cropped_224\\extracted_face_0 (687).jpg_0.png\n",
      "Removed duplicate: Transformed_Datasets\\NOT_Auguste_Cropped_224\\extracted_face_0 (688).jpg_0.png\n",
      "Removed duplicate: Transformed_Datasets\\NOT_Auguste_Cropped_224\\extracted_face_0 (689).jpg_0.png\n",
      "Removed duplicate: Transformed_Datasets\\NOT_Auguste_Cropped_224\\extracted_face_0 (69).jpg_0.png\n",
      "Removed duplicate: Transformed_Datasets\\NOT_Auguste_Cropped_224\\extracted_face_0 (69).png_0.png\n",
      "Removed duplicate: Transformed_Datasets\\NOT_Auguste_Cropped_224\\extracted_face_0 (690).jpg_0.png\n",
      "Removed duplicate: Transformed_Datasets\\NOT_Auguste_Cropped_224\\extracted_face_0 (691).jpg_0.png\n",
      "Removed duplicate: Transformed_Datasets\\NOT_Auguste_Cropped_224\\extracted_face_0 (692).jpg_0.png\n",
      "Removed duplicate: Transformed_Datasets\\NOT_Auguste_Cropped_224\\extracted_face_0 (693).jpg_0.png\n",
      "Removed duplicate: Transformed_Datasets\\NOT_Auguste_Cropped_224\\extracted_face_0 (694).jpg_0.png\n",
      "Removed duplicate: Transformed_Datasets\\NOT_Auguste_Cropped_224\\extracted_face_0 (695).jpg_0.png\n",
      "Removed duplicate: Transformed_Datasets\\NOT_Auguste_Cropped_224\\extracted_face_0 (696).jpg_0.png\n",
      "Removed duplicate: Transformed_Datasets\\NOT_Auguste_Cropped_224\\extracted_face_0 (697).jpg_0.png\n",
      "Removed duplicate: Transformed_Datasets\\NOT_Auguste_Cropped_224\\extracted_face_0 (698).jpg_0.png\n",
      "Removed duplicate: Transformed_Datasets\\NOT_Auguste_Cropped_224\\extracted_face_0 (699).jpg_0.png\n",
      "Removed duplicate: Transformed_Datasets\\NOT_Auguste_Cropped_224\\extracted_face_0 (7).jpeg_0.png\n",
      "Removed duplicate: Transformed_Datasets\\NOT_Auguste_Cropped_224\\extracted_face_0 (7).jpg_0.png\n",
      "Removed duplicate: Transformed_Datasets\\NOT_Auguste_Cropped_224\\extracted_face_0 (7).png_0.png\n",
      "Removed duplicate: Transformed_Datasets\\NOT_Auguste_Cropped_224\\extracted_face_0 (70).jpg_0.png\n",
      "Removed duplicate: Transformed_Datasets\\NOT_Auguste_Cropped_224\\extracted_face_0 (70).png_0.png\n",
      "Removed duplicate: Transformed_Datasets\\NOT_Auguste_Cropped_224\\extracted_face_0 (700).jpg_0.png\n",
      "Removed duplicate: Transformed_Datasets\\NOT_Auguste_Cropped_224\\extracted_face_0 (701).jpg_0.png\n",
      "Removed duplicate: Transformed_Datasets\\NOT_Auguste_Cropped_224\\extracted_face_0 (702).jpg_0.png\n",
      "Removed duplicate: Transformed_Datasets\\NOT_Auguste_Cropped_224\\extracted_face_0 (703).jpg_0.png\n",
      "Removed duplicate: Transformed_Datasets\\NOT_Auguste_Cropped_224\\extracted_face_0 (704).jpg_0.png\n",
      "Removed duplicate: Transformed_Datasets\\NOT_Auguste_Cropped_224\\extracted_face_0 (705).jpg_0.png\n",
      "Removed duplicate: Transformed_Datasets\\NOT_Auguste_Cropped_224\\extracted_face_0 (706).jpg_0.png\n",
      "Removed duplicate: Transformed_Datasets\\NOT_Auguste_Cropped_224\\extracted_face_0 (707).jpg_0.png\n",
      "Removed duplicate: Transformed_Datasets\\NOT_Auguste_Cropped_224\\extracted_face_0 (708).jpg_0.png\n",
      "Removed duplicate: Transformed_Datasets\\NOT_Auguste_Cropped_224\\extracted_face_0 (709).jpg_0.png\n",
      "Removed duplicate: Transformed_Datasets\\NOT_Auguste_Cropped_224\\extracted_face_0 (71).jpg_0.png\n",
      "Removed duplicate: Transformed_Datasets\\NOT_Auguste_Cropped_224\\extracted_face_0 (71).png_0.png\n",
      "Removed duplicate: Transformed_Datasets\\NOT_Auguste_Cropped_224\\extracted_face_0 (710).jpg_0.png\n",
      "Removed duplicate: Transformed_Datasets\\NOT_Auguste_Cropped_224\\extracted_face_0 (711).jpg_0.png\n",
      "Removed duplicate: Transformed_Datasets\\NOT_Auguste_Cropped_224\\extracted_face_0 (712).jpg_0.png\n",
      "Removed duplicate: Transformed_Datasets\\NOT_Auguste_Cropped_224\\extracted_face_0 (713).jpg_0.png\n",
      "Removed duplicate: Transformed_Datasets\\NOT_Auguste_Cropped_224\\extracted_face_0 (714).jpg_0.png\n",
      "Removed duplicate: Transformed_Datasets\\NOT_Auguste_Cropped_224\\extracted_face_0 (715).jpg_0.png\n",
      "Removed duplicate: Transformed_Datasets\\NOT_Auguste_Cropped_224\\extracted_face_0 (716).jpg_0.png\n",
      "Removed duplicate: Transformed_Datasets\\NOT_Auguste_Cropped_224\\extracted_face_0 (717).jpg_0.png\n",
      "Removed duplicate: Transformed_Datasets\\NOT_Auguste_Cropped_224\\extracted_face_0 (718).jpg_0.png\n",
      "Removed duplicate: Transformed_Datasets\\NOT_Auguste_Cropped_224\\extracted_face_0 (719).jpg_0.png\n",
      "Removed duplicate: Transformed_Datasets\\NOT_Auguste_Cropped_224\\extracted_face_0 (72).jpg_0.png\n",
      "Removed duplicate: Transformed_Datasets\\NOT_Auguste_Cropped_224\\extracted_face_0 (72).png_0.png\n",
      "Removed duplicate: Transformed_Datasets\\NOT_Auguste_Cropped_224\\extracted_face_0 (720).jpg_0.png\n",
      "Removed duplicate: Transformed_Datasets\\NOT_Auguste_Cropped_224\\extracted_face_0 (721).jpg_0.png\n",
      "Removed duplicate: Transformed_Datasets\\NOT_Auguste_Cropped_224\\extracted_face_0 (722).jpg_0.png\n",
      "Removed duplicate: Transformed_Datasets\\NOT_Auguste_Cropped_224\\extracted_face_0 (723).jpg_0.png\n",
      "Removed duplicate: Transformed_Datasets\\NOT_Auguste_Cropped_224\\extracted_face_0 (724).jpg_0.png\n",
      "Removed duplicate: Transformed_Datasets\\NOT_Auguste_Cropped_224\\extracted_face_0 (725).jpg_0.png\n",
      "Removed duplicate: Transformed_Datasets\\NOT_Auguste_Cropped_224\\extracted_face_0 (726).jpg_0.png\n",
      "Removed duplicate: Transformed_Datasets\\NOT_Auguste_Cropped_224\\extracted_face_0 (727).jpg_0.png\n",
      "Removed duplicate: Transformed_Datasets\\NOT_Auguste_Cropped_224\\extracted_face_0 (727).jpg_1.png\n",
      "Removed duplicate: Transformed_Datasets\\NOT_Auguste_Cropped_224\\extracted_face_0 (728).jpg_0.png\n",
      "Removed duplicate: Transformed_Datasets\\NOT_Auguste_Cropped_224\\extracted_face_0 (729).jpg_0.png\n",
      "Removed duplicate: Transformed_Datasets\\NOT_Auguste_Cropped_224\\extracted_face_0 (73).jpg_0.png\n",
      "Removed duplicate: Transformed_Datasets\\NOT_Auguste_Cropped_224\\extracted_face_0 (73).png_0.png\n",
      "Removed duplicate: Transformed_Datasets\\NOT_Auguste_Cropped_224\\extracted_face_0 (730).jpg_0.png\n",
      "Removed duplicate: Transformed_Datasets\\NOT_Auguste_Cropped_224\\extracted_face_0 (731).jpg_0.png\n",
      "Removed duplicate: Transformed_Datasets\\NOT_Auguste_Cropped_224\\extracted_face_0 (732).jpg_0.png\n",
      "Removed duplicate: Transformed_Datasets\\NOT_Auguste_Cropped_224\\extracted_face_0 (733).jpg_0.png\n",
      "Removed duplicate: Transformed_Datasets\\NOT_Auguste_Cropped_224\\extracted_face_0 (734).jpg_0.png\n",
      "Removed duplicate: Transformed_Datasets\\NOT_Auguste_Cropped_224\\extracted_face_0 (735).jpg_0.png\n",
      "Removed duplicate: Transformed_Datasets\\NOT_Auguste_Cropped_224\\extracted_face_0 (736).jpg_0.png\n",
      "Removed duplicate: Transformed_Datasets\\NOT_Auguste_Cropped_224\\extracted_face_0 (737).jpg_0.png\n",
      "Removed duplicate: Transformed_Datasets\\NOT_Auguste_Cropped_224\\extracted_face_0 (738).jpg_0.png\n",
      "Removed duplicate: Transformed_Datasets\\NOT_Auguste_Cropped_224\\extracted_face_0 (739).jpg_0.png\n",
      "Removed duplicate: Transformed_Datasets\\NOT_Auguste_Cropped_224\\extracted_face_0 (74).jpg_0.png\n",
      "Removed duplicate: Transformed_Datasets\\NOT_Auguste_Cropped_224\\extracted_face_0 (74).png_0.png\n",
      "Removed duplicate: Transformed_Datasets\\NOT_Auguste_Cropped_224\\extracted_face_0 (740).jpg_0.png\n",
      "Removed duplicate: Transformed_Datasets\\NOT_Auguste_Cropped_224\\extracted_face_0 (742).jpg_0.png\n",
      "Removed duplicate: Transformed_Datasets\\NOT_Auguste_Cropped_224\\extracted_face_0 (743).jpg_0.png\n",
      "Removed duplicate: Transformed_Datasets\\NOT_Auguste_Cropped_224\\extracted_face_0 (744).jpg_0.png\n",
      "Removed duplicate: Transformed_Datasets\\NOT_Auguste_Cropped_224\\extracted_face_0 (745).jpg_0.png\n",
      "Removed duplicate: Transformed_Datasets\\NOT_Auguste_Cropped_224\\extracted_face_0 (746).jpg_0.png\n",
      "Removed duplicate: Transformed_Datasets\\NOT_Auguste_Cropped_224\\extracted_face_0 (747).jpg_0.png\n",
      "Removed duplicate: Transformed_Datasets\\NOT_Auguste_Cropped_224\\extracted_face_0 (748).jpg_0.png\n",
      "Removed duplicate: Transformed_Datasets\\NOT_Auguste_Cropped_224\\extracted_face_0 (749).jpg_0.png\n",
      "Removed duplicate: Transformed_Datasets\\NOT_Auguste_Cropped_224\\extracted_face_0 (75).jpg_0.png\n",
      "Removed duplicate: Transformed_Datasets\\NOT_Auguste_Cropped_224\\extracted_face_0 (75).png_0.png\n",
      "Removed duplicate: Transformed_Datasets\\NOT_Auguste_Cropped_224\\extracted_face_0 (750).jpg_0.png\n",
      "Removed duplicate: Transformed_Datasets\\NOT_Auguste_Cropped_224\\extracted_face_0 (751).jpg_0.png\n",
      "Removed duplicate: Transformed_Datasets\\NOT_Auguste_Cropped_224\\extracted_face_0 (752).jpg_0.png\n",
      "Removed duplicate: Transformed_Datasets\\NOT_Auguste_Cropped_224\\extracted_face_0 (753).jpg_0.png\n",
      "Removed duplicate: Transformed_Datasets\\NOT_Auguste_Cropped_224\\extracted_face_0 (754).jpg_0.png\n",
      "Removed duplicate: Transformed_Datasets\\NOT_Auguste_Cropped_224\\extracted_face_0 (755).jpg_0.png\n",
      "Removed duplicate: Transformed_Datasets\\NOT_Auguste_Cropped_224\\extracted_face_0 (756).jpg_0.png\n",
      "Removed duplicate: Transformed_Datasets\\NOT_Auguste_Cropped_224\\extracted_face_0 (757).jpg_0.png\n",
      "Removed duplicate: Transformed_Datasets\\NOT_Auguste_Cropped_224\\extracted_face_0 (758).jpg_0.png\n",
      "Removed duplicate: Transformed_Datasets\\NOT_Auguste_Cropped_224\\extracted_face_0 (759).jpg_0.png\n",
      "Removed duplicate: Transformed_Datasets\\NOT_Auguste_Cropped_224\\extracted_face_0 (76).jpg_0.png\n",
      "Removed duplicate: Transformed_Datasets\\NOT_Auguste_Cropped_224\\extracted_face_0 (76).png_0.png\n",
      "Removed duplicate: Transformed_Datasets\\NOT_Auguste_Cropped_224\\extracted_face_0 (760).jpg_0.png\n",
      "Removed duplicate: Transformed_Datasets\\NOT_Auguste_Cropped_224\\extracted_face_0 (761).jpg_0.png\n",
      "Removed duplicate: Transformed_Datasets\\NOT_Auguste_Cropped_224\\extracted_face_0 (762).jpg_0.png\n",
      "Removed duplicate: Transformed_Datasets\\NOT_Auguste_Cropped_224\\extracted_face_0 (763).jpg_0.png\n",
      "Removed duplicate: Transformed_Datasets\\NOT_Auguste_Cropped_224\\extracted_face_0 (764).jpg_0.png\n",
      "Removed duplicate: Transformed_Datasets\\NOT_Auguste_Cropped_224\\extracted_face_0 (765).jpg_0.png\n",
      "Removed duplicate: Transformed_Datasets\\NOT_Auguste_Cropped_224\\extracted_face_0 (766).jpg_0.png\n",
      "Removed duplicate: Transformed_Datasets\\NOT_Auguste_Cropped_224\\extracted_face_0 (767).jpg_0.png\n",
      "Removed duplicate: Transformed_Datasets\\NOT_Auguste_Cropped_224\\extracted_face_0 (768).jpg_0.png\n",
      "Removed duplicate: Transformed_Datasets\\NOT_Auguste_Cropped_224\\extracted_face_0 (769).jpg_0.png\n",
      "Removed duplicate: Transformed_Datasets\\NOT_Auguste_Cropped_224\\extracted_face_0 (77).jpg_0.png\n",
      "Removed duplicate: Transformed_Datasets\\NOT_Auguste_Cropped_224\\extracted_face_0 (77).png_0.png\n",
      "Removed duplicate: Transformed_Datasets\\NOT_Auguste_Cropped_224\\extracted_face_0 (770).jpg_0.png\n",
      "Removed duplicate: Transformed_Datasets\\NOT_Auguste_Cropped_224\\extracted_face_0 (771).jpg_0.png\n",
      "Removed duplicate: Transformed_Datasets\\NOT_Auguste_Cropped_224\\extracted_face_0 (772).jpg_0.png\n",
      "Removed duplicate: Transformed_Datasets\\NOT_Auguste_Cropped_224\\extracted_face_0 (773).jpg_0.png\n",
      "Removed duplicate: Transformed_Datasets\\NOT_Auguste_Cropped_224\\extracted_face_0 (774).jpg_0.png\n",
      "Removed duplicate: Transformed_Datasets\\NOT_Auguste_Cropped_224\\extracted_face_0 (775).jpg_0.png\n",
      "Removed duplicate: Transformed_Datasets\\NOT_Auguste_Cropped_224\\extracted_face_0 (776).jpg_0.png\n",
      "Removed duplicate: Transformed_Datasets\\NOT_Auguste_Cropped_224\\extracted_face_0 (777).jpg_0.png\n",
      "Removed duplicate: Transformed_Datasets\\NOT_Auguste_Cropped_224\\extracted_face_0 (778).jpg_0.png\n",
      "Removed duplicate: Transformed_Datasets\\NOT_Auguste_Cropped_224\\extracted_face_0 (779).jpg_0.png\n",
      "Removed duplicate: Transformed_Datasets\\NOT_Auguste_Cropped_224\\extracted_face_0 (78).jpg_0.png\n",
      "Removed duplicate: Transformed_Datasets\\NOT_Auguste_Cropped_224\\extracted_face_0 (78).png_0.png\n",
      "Removed duplicate: Transformed_Datasets\\NOT_Auguste_Cropped_224\\extracted_face_0 (780).jpg_0.png\n",
      "Removed duplicate: Transformed_Datasets\\NOT_Auguste_Cropped_224\\extracted_face_0 (781).jpg_0.png\n",
      "Removed duplicate: Transformed_Datasets\\NOT_Auguste_Cropped_224\\extracted_face_0 (782).jpg_0.png\n",
      "Removed duplicate: Transformed_Datasets\\NOT_Auguste_Cropped_224\\extracted_face_0 (783).jpg_0.png\n",
      "Removed duplicate: Transformed_Datasets\\NOT_Auguste_Cropped_224\\extracted_face_0 (784).jpg_0.png\n",
      "Removed duplicate: Transformed_Datasets\\NOT_Auguste_Cropped_224\\extracted_face_0 (785).jpg_0.png\n",
      "Removed duplicate: Transformed_Datasets\\NOT_Auguste_Cropped_224\\extracted_face_0 (786).jpg_0.png\n",
      "Removed duplicate: Transformed_Datasets\\NOT_Auguste_Cropped_224\\extracted_face_0 (787).jpg_0.png\n",
      "Removed duplicate: Transformed_Datasets\\NOT_Auguste_Cropped_224\\extracted_face_0 (788).jpg_0.png\n",
      "Removed duplicate: Transformed_Datasets\\NOT_Auguste_Cropped_224\\extracted_face_0 (789).jpg_0.png\n",
      "Removed duplicate: Transformed_Datasets\\NOT_Auguste_Cropped_224\\extracted_face_0 (79).jpg_0.png\n",
      "Removed duplicate: Transformed_Datasets\\NOT_Auguste_Cropped_224\\extracted_face_0 (79).png_0.png\n",
      "Removed duplicate: Transformed_Datasets\\NOT_Auguste_Cropped_224\\extracted_face_0 (790).jpg_0.png\n",
      "Removed duplicate: Transformed_Datasets\\NOT_Auguste_Cropped_224\\extracted_face_0 (791).jpg_0.png\n",
      "Removed duplicate: Transformed_Datasets\\NOT_Auguste_Cropped_224\\extracted_face_0 (792).jpg_0.png\n",
      "Removed duplicate: Transformed_Datasets\\NOT_Auguste_Cropped_224\\extracted_face_0 (793).jpg_0.png\n",
      "Removed duplicate: Transformed_Datasets\\NOT_Auguste_Cropped_224\\extracted_face_0 (794).jpg_0.png\n",
      "Removed duplicate: Transformed_Datasets\\NOT_Auguste_Cropped_224\\extracted_face_0 (795).jpg_0.png\n",
      "Removed duplicate: Transformed_Datasets\\NOT_Auguste_Cropped_224\\extracted_face_0 (796).jpg_0.png\n",
      "Removed duplicate: Transformed_Datasets\\NOT_Auguste_Cropped_224\\extracted_face_0 (797).jpg_0.png\n",
      "Removed duplicate: Transformed_Datasets\\NOT_Auguste_Cropped_224\\extracted_face_0 (798).jpg_0.png\n",
      "Removed duplicate: Transformed_Datasets\\NOT_Auguste_Cropped_224\\extracted_face_0 (799).jpg_0.png\n",
      "Removed duplicate: Transformed_Datasets\\NOT_Auguste_Cropped_224\\extracted_face_0 (8).jpeg_0.png\n",
      "Removed duplicate: Transformed_Datasets\\NOT_Auguste_Cropped_224\\extracted_face_0 (8).jpg_0.png\n",
      "Removed duplicate: Transformed_Datasets\\NOT_Auguste_Cropped_224\\extracted_face_0 (8).png_0.png\n",
      "Removed duplicate: Transformed_Datasets\\NOT_Auguste_Cropped_224\\extracted_face_0 (80).jpg_0.png\n",
      "Removed duplicate: Transformed_Datasets\\NOT_Auguste_Cropped_224\\extracted_face_0 (80).png_0.png\n",
      "Removed duplicate: Transformed_Datasets\\NOT_Auguste_Cropped_224\\extracted_face_0 (800).jpg_0.png\n",
      "Removed duplicate: Transformed_Datasets\\NOT_Auguste_Cropped_224\\extracted_face_0 (801).jpg_0.png\n",
      "Removed duplicate: Transformed_Datasets\\NOT_Auguste_Cropped_224\\extracted_face_0 (802).jpg_0.png\n",
      "Removed duplicate: Transformed_Datasets\\NOT_Auguste_Cropped_224\\extracted_face_0 (803).jpg_0.png\n",
      "Removed duplicate: Transformed_Datasets\\NOT_Auguste_Cropped_224\\extracted_face_0 (804).jpg_0.png\n",
      "Removed duplicate: Transformed_Datasets\\NOT_Auguste_Cropped_224\\extracted_face_0 (805).jpg_0.png\n",
      "Removed duplicate: Transformed_Datasets\\NOT_Auguste_Cropped_224\\extracted_face_0 (806).jpg_0.png\n",
      "Removed duplicate: Transformed_Datasets\\NOT_Auguste_Cropped_224\\extracted_face_0 (807).jpg_0.png\n",
      "Removed duplicate: Transformed_Datasets\\NOT_Auguste_Cropped_224\\extracted_face_0 (808).jpg_0.png\n",
      "Removed duplicate: Transformed_Datasets\\NOT_Auguste_Cropped_224\\extracted_face_0 (809).jpg_0.png\n",
      "Removed duplicate: Transformed_Datasets\\NOT_Auguste_Cropped_224\\extracted_face_0 (81).jpg_0.png\n",
      "Removed duplicate: Transformed_Datasets\\NOT_Auguste_Cropped_224\\extracted_face_0 (81).png_0.png\n",
      "Removed duplicate: Transformed_Datasets\\NOT_Auguste_Cropped_224\\extracted_face_0 (810).jpg_0.png\n",
      "Removed duplicate: Transformed_Datasets\\NOT_Auguste_Cropped_224\\extracted_face_0 (811).jpg_0.png\n",
      "Removed duplicate: Transformed_Datasets\\NOT_Auguste_Cropped_224\\extracted_face_0 (812).jpg_0.png\n",
      "Removed duplicate: Transformed_Datasets\\NOT_Auguste_Cropped_224\\extracted_face_0 (813).jpg_0.png\n",
      "Removed duplicate: Transformed_Datasets\\NOT_Auguste_Cropped_224\\extracted_face_0 (814).jpg_0.png\n",
      "Removed duplicate: Transformed_Datasets\\NOT_Auguste_Cropped_224\\extracted_face_0 (815).jpg_0.png\n",
      "Removed duplicate: Transformed_Datasets\\NOT_Auguste_Cropped_224\\extracted_face_0 (816).jpg_0.png\n",
      "Removed duplicate: Transformed_Datasets\\NOT_Auguste_Cropped_224\\extracted_face_0 (817).jpg_0.png\n",
      "Removed duplicate: Transformed_Datasets\\NOT_Auguste_Cropped_224\\extracted_face_0 (817).jpg_1.png\n",
      "Removed duplicate: Transformed_Datasets\\NOT_Auguste_Cropped_224\\extracted_face_0 (817).jpg_2.png\n",
      "Removed duplicate: Transformed_Datasets\\NOT_Auguste_Cropped_224\\extracted_face_0 (818).jpg_0.png\n",
      "Removed duplicate: Transformed_Datasets\\NOT_Auguste_Cropped_224\\extracted_face_0 (818).jpg_1.png\n",
      "Removed duplicate: Transformed_Datasets\\NOT_Auguste_Cropped_224\\extracted_face_0 (819).jpg_0.png\n",
      "Removed duplicate: Transformed_Datasets\\NOT_Auguste_Cropped_224\\extracted_face_0 (82).jpg_0.png\n",
      "Removed duplicate: Transformed_Datasets\\NOT_Auguste_Cropped_224\\extracted_face_0 (82).png_0.png\n",
      "Removed duplicate: Transformed_Datasets\\NOT_Auguste_Cropped_224\\extracted_face_0 (820).jpg_0.png\n",
      "Removed duplicate: Transformed_Datasets\\NOT_Auguste_Cropped_224\\extracted_face_0 (821).jpg_0.png\n",
      "Removed duplicate: Transformed_Datasets\\NOT_Auguste_Cropped_224\\extracted_face_0 (822).jpg_0.png\n",
      "Removed duplicate: Transformed_Datasets\\NOT_Auguste_Cropped_224\\extracted_face_0 (823).jpg_0.png\n",
      "Removed duplicate: Transformed_Datasets\\NOT_Auguste_Cropped_224\\extracted_face_0 (824).jpg_0.png\n",
      "Removed duplicate: Transformed_Datasets\\NOT_Auguste_Cropped_224\\extracted_face_0 (825).jpg_0.png\n",
      "Removed duplicate: Transformed_Datasets\\NOT_Auguste_Cropped_224\\extracted_face_0 (826).jpg_0.png\n",
      "Removed duplicate: Transformed_Datasets\\NOT_Auguste_Cropped_224\\extracted_face_0 (827).jpg_0.png\n",
      "Removed duplicate: Transformed_Datasets\\NOT_Auguste_Cropped_224\\extracted_face_0 (828).jpg_0.png\n",
      "Removed duplicate: Transformed_Datasets\\NOT_Auguste_Cropped_224\\extracted_face_0 (829).JPG_0.png\n",
      "Removed duplicate: Transformed_Datasets\\NOT_Auguste_Cropped_224\\extracted_face_0 (83).jpg_0.png\n",
      "Removed duplicate: Transformed_Datasets\\NOT_Auguste_Cropped_224\\extracted_face_0 (83).jpg_1.png\n",
      "Removed duplicate: Transformed_Datasets\\NOT_Auguste_Cropped_224\\extracted_face_0 (83).jpg_2.png\n",
      "Removed duplicate: Transformed_Datasets\\NOT_Auguste_Cropped_224\\extracted_face_0 (83).png_0.png\n",
      "Removed duplicate: Transformed_Datasets\\NOT_Auguste_Cropped_224\\extracted_face_0 (830).jpg_0.png\n",
      "Removed duplicate: Transformed_Datasets\\NOT_Auguste_Cropped_224\\extracted_face_0 (831).jpg_0.png\n",
      "Removed duplicate: Transformed_Datasets\\NOT_Auguste_Cropped_224\\extracted_face_0 (832).jpg_0.png\n",
      "Removed duplicate: Transformed_Datasets\\NOT_Auguste_Cropped_224\\extracted_face_0 (833).jpg_0.png\n",
      "Removed duplicate: Transformed_Datasets\\NOT_Auguste_Cropped_224\\extracted_face_0 (834).jpg_0.png\n",
      "Removed duplicate: Transformed_Datasets\\NOT_Auguste_Cropped_224\\extracted_face_0 (835).jpg_0.png\n",
      "Removed duplicate: Transformed_Datasets\\NOT_Auguste_Cropped_224\\extracted_face_0 (836).jpg_0.png\n",
      "Removed duplicate: Transformed_Datasets\\NOT_Auguste_Cropped_224\\extracted_face_0 (837).jpg_0.png\n",
      "Removed duplicate: Transformed_Datasets\\NOT_Auguste_Cropped_224\\extracted_face_0 (838).jpg_0.png\n",
      "Removed duplicate: Transformed_Datasets\\NOT_Auguste_Cropped_224\\extracted_face_0 (839).jpg_0.png\n",
      "Removed duplicate: Transformed_Datasets\\NOT_Auguste_Cropped_224\\extracted_face_0 (84).jpg_0.png\n",
      "Removed duplicate: Transformed_Datasets\\NOT_Auguste_Cropped_224\\extracted_face_0 (84).png_0.png\n",
      "Removed duplicate: Transformed_Datasets\\NOT_Auguste_Cropped_224\\extracted_face_0 (840).jpg_0.png\n",
      "Removed duplicate: Transformed_Datasets\\NOT_Auguste_Cropped_224\\extracted_face_0 (841).jpg_0.png\n",
      "Removed duplicate: Transformed_Datasets\\NOT_Auguste_Cropped_224\\extracted_face_0 (842).jpg_0.png\n",
      "Removed duplicate: Transformed_Datasets\\NOT_Auguste_Cropped_224\\extracted_face_0 (843).jpg_0.png\n",
      "Removed duplicate: Transformed_Datasets\\NOT_Auguste_Cropped_224\\extracted_face_0 (844).jpg_0.png\n",
      "Removed duplicate: Transformed_Datasets\\NOT_Auguste_Cropped_224\\extracted_face_0 (845).jpg_0.png\n",
      "Removed duplicate: Transformed_Datasets\\NOT_Auguste_Cropped_224\\extracted_face_0 (846).jpg_0.png\n",
      "Removed duplicate: Transformed_Datasets\\NOT_Auguste_Cropped_224\\extracted_face_0 (847).jpg_0.png\n",
      "Removed duplicate: Transformed_Datasets\\NOT_Auguste_Cropped_224\\extracted_face_0 (848).jpg_0.png\n",
      "Removed duplicate: Transformed_Datasets\\NOT_Auguste_Cropped_224\\extracted_face_0 (849).jpg_0.png\n",
      "Removed duplicate: Transformed_Datasets\\NOT_Auguste_Cropped_224\\extracted_face_0 (85).jpg_0.png\n",
      "Removed duplicate: Transformed_Datasets\\NOT_Auguste_Cropped_224\\extracted_face_0 (85).png_0.png\n",
      "Removed duplicate: Transformed_Datasets\\NOT_Auguste_Cropped_224\\extracted_face_0 (850).jpg_0.png\n",
      "Removed duplicate: Transformed_Datasets\\NOT_Auguste_Cropped_224\\extracted_face_0 (851).jpg_0.png\n",
      "Removed duplicate: Transformed_Datasets\\NOT_Auguste_Cropped_224\\extracted_face_0 (852).jpg_0.png\n",
      "Removed duplicate: Transformed_Datasets\\NOT_Auguste_Cropped_224\\extracted_face_0 (853).jpg_0.png\n",
      "Removed duplicate: Transformed_Datasets\\NOT_Auguste_Cropped_224\\extracted_face_0 (854).jpg_0.png\n",
      "Removed duplicate: Transformed_Datasets\\NOT_Auguste_Cropped_224\\extracted_face_0 (855).jpg_0.png\n",
      "Removed duplicate: Transformed_Datasets\\NOT_Auguste_Cropped_224\\extracted_face_0 (856).jpg_0.png\n",
      "Removed duplicate: Transformed_Datasets\\NOT_Auguste_Cropped_224\\extracted_face_0 (857).jpg_0.png\n",
      "Removed duplicate: Transformed_Datasets\\NOT_Auguste_Cropped_224\\extracted_face_0 (858).jpg_0.png\n",
      "Removed duplicate: Transformed_Datasets\\NOT_Auguste_Cropped_224\\extracted_face_0 (859).jpg_0.png\n",
      "Removed duplicate: Transformed_Datasets\\NOT_Auguste_Cropped_224\\extracted_face_0 (86).jpg_0.png\n",
      "Removed duplicate: Transformed_Datasets\\NOT_Auguste_Cropped_224\\extracted_face_0 (86).png_0.png\n",
      "Removed duplicate: Transformed_Datasets\\NOT_Auguste_Cropped_224\\extracted_face_0 (860).jpg_0.png\n",
      "Removed duplicate: Transformed_Datasets\\NOT_Auguste_Cropped_224\\extracted_face_0 (861).jpg_0.png\n",
      "Removed duplicate: Transformed_Datasets\\NOT_Auguste_Cropped_224\\extracted_face_0 (862).jpg_0.png\n",
      "Removed duplicate: Transformed_Datasets\\NOT_Auguste_Cropped_224\\extracted_face_0 (863).jpg_0.png\n",
      "Removed duplicate: Transformed_Datasets\\NOT_Auguste_Cropped_224\\extracted_face_0 (864).jpg_0.png\n",
      "Removed duplicate: Transformed_Datasets\\NOT_Auguste_Cropped_224\\extracted_face_0 (865).jpg_0.png\n",
      "Removed duplicate: Transformed_Datasets\\NOT_Auguste_Cropped_224\\extracted_face_0 (866).jpg_0.png\n",
      "Removed duplicate: Transformed_Datasets\\NOT_Auguste_Cropped_224\\extracted_face_0 (867).jpg_0.png\n",
      "Removed duplicate: Transformed_Datasets\\NOT_Auguste_Cropped_224\\extracted_face_0 (868).jpg_0.png\n",
      "Removed duplicate: Transformed_Datasets\\NOT_Auguste_Cropped_224\\extracted_face_0 (869).jpg_0.png\n",
      "Removed duplicate: Transformed_Datasets\\NOT_Auguste_Cropped_224\\extracted_face_0 (87).jpg_0.png\n",
      "Removed duplicate: Transformed_Datasets\\NOT_Auguste_Cropped_224\\extracted_face_0 (87).png_0.png\n",
      "Removed duplicate: Transformed_Datasets\\NOT_Auguste_Cropped_224\\extracted_face_0 (870).jpg_0.png\n",
      "Removed duplicate: Transformed_Datasets\\NOT_Auguste_Cropped_224\\extracted_face_0 (871).jpg_0.png\n",
      "Removed duplicate: Transformed_Datasets\\NOT_Auguste_Cropped_224\\extracted_face_0 (872).jpg_0.png\n",
      "Removed duplicate: Transformed_Datasets\\NOT_Auguste_Cropped_224\\extracted_face_0 (873).jpg_0.png\n",
      "Removed duplicate: Transformed_Datasets\\NOT_Auguste_Cropped_224\\extracted_face_0 (874).jpg_0.png\n",
      "Removed duplicate: Transformed_Datasets\\NOT_Auguste_Cropped_224\\extracted_face_0 (875).jpg_0.png\n",
      "Removed duplicate: Transformed_Datasets\\NOT_Auguste_Cropped_224\\extracted_face_0 (876).jpg_0.png\n",
      "Removed duplicate: Transformed_Datasets\\NOT_Auguste_Cropped_224\\extracted_face_0 (877).jpg_0.png\n",
      "Removed duplicate: Transformed_Datasets\\NOT_Auguste_Cropped_224\\extracted_face_0 (878).jpg_0.png\n",
      "Removed duplicate: Transformed_Datasets\\NOT_Auguste_Cropped_224\\extracted_face_0 (879).jpg_0.png\n",
      "Removed duplicate: Transformed_Datasets\\NOT_Auguste_Cropped_224\\extracted_face_0 (88).jpg_0.png\n",
      "Removed duplicate: Transformed_Datasets\\NOT_Auguste_Cropped_224\\extracted_face_0 (88).png_0.png\n",
      "Removed duplicate: Transformed_Datasets\\NOT_Auguste_Cropped_224\\extracted_face_0 (880).jpg_0.png\n",
      "Removed duplicate: Transformed_Datasets\\NOT_Auguste_Cropped_224\\extracted_face_0 (881).jpg_0.png\n",
      "Removed duplicate: Transformed_Datasets\\NOT_Auguste_Cropped_224\\extracted_face_0 (882).jpg_0.png\n",
      "Removed duplicate: Transformed_Datasets\\NOT_Auguste_Cropped_224\\extracted_face_0 (883).jpg_0.png\n",
      "Removed duplicate: Transformed_Datasets\\NOT_Auguste_Cropped_224\\extracted_face_0 (884).jpg_0.png\n",
      "Removed duplicate: Transformed_Datasets\\NOT_Auguste_Cropped_224\\extracted_face_0 (886).jpg_0.png\n",
      "Removed duplicate: Transformed_Datasets\\NOT_Auguste_Cropped_224\\extracted_face_0 (887).jpg_0.png\n",
      "Removed duplicate: Transformed_Datasets\\NOT_Auguste_Cropped_224\\extracted_face_0 (888).jpg_0.png\n",
      "Removed duplicate: Transformed_Datasets\\NOT_Auguste_Cropped_224\\extracted_face_0 (889).jpg_0.png\n",
      "Removed duplicate: Transformed_Datasets\\NOT_Auguste_Cropped_224\\extracted_face_0 (89).jpg_0.png\n",
      "Removed duplicate: Transformed_Datasets\\NOT_Auguste_Cropped_224\\extracted_face_0 (89).png_0.png\n",
      "Removed duplicate: Transformed_Datasets\\NOT_Auguste_Cropped_224\\extracted_face_0 (890).jpg_0.png\n",
      "Removed duplicate: Transformed_Datasets\\NOT_Auguste_Cropped_224\\extracted_face_0 (891).jpg_0.png\n",
      "Removed duplicate: Transformed_Datasets\\NOT_Auguste_Cropped_224\\extracted_face_0 (892).jpg_0.png\n",
      "Removed duplicate: Transformed_Datasets\\NOT_Auguste_Cropped_224\\extracted_face_0 (893).jpg_0.png\n",
      "Removed duplicate: Transformed_Datasets\\NOT_Auguste_Cropped_224\\extracted_face_0 (894).jpg_0.png\n",
      "Removed duplicate: Transformed_Datasets\\NOT_Auguste_Cropped_224\\extracted_face_0 (895).jpg_0.png\n",
      "Removed duplicate: Transformed_Datasets\\NOT_Auguste_Cropped_224\\extracted_face_0 (895).jpg_1.png\n",
      "Removed duplicate: Transformed_Datasets\\NOT_Auguste_Cropped_224\\extracted_face_0 (896).jpg_0.png\n",
      "Removed duplicate: Transformed_Datasets\\NOT_Auguste_Cropped_224\\extracted_face_0 (897).jpg_0.png\n",
      "Removed duplicate: Transformed_Datasets\\NOT_Auguste_Cropped_224\\extracted_face_0 (898).jpg_0.png\n",
      "Removed duplicate: Transformed_Datasets\\NOT_Auguste_Cropped_224\\extracted_face_0 (9).jpeg_0.png\n",
      "Removed duplicate: Transformed_Datasets\\NOT_Auguste_Cropped_224\\extracted_face_0 (9).jpg_0.png\n",
      "Removed duplicate: Transformed_Datasets\\NOT_Auguste_Cropped_224\\extracted_face_0 (9).png_0.png\n",
      "Removed duplicate: Transformed_Datasets\\NOT_Auguste_Cropped_224\\extracted_face_0 (90).jpg_0.png\n",
      "Removed duplicate: Transformed_Datasets\\NOT_Auguste_Cropped_224\\extracted_face_0 (90).png_0.png\n",
      "Removed duplicate: Transformed_Datasets\\NOT_Auguste_Cropped_224\\extracted_face_0 (900).jpg_0.png\n",
      "Removed duplicate: Transformed_Datasets\\NOT_Auguste_Cropped_224\\extracted_face_0 (901).jpg_0.png\n",
      "Removed duplicate: Transformed_Datasets\\NOT_Auguste_Cropped_224\\extracted_face_0 (902).jpg_0.png\n",
      "Removed duplicate: Transformed_Datasets\\NOT_Auguste_Cropped_224\\extracted_face_0 (903).jpg_0.png\n",
      "Removed duplicate: Transformed_Datasets\\NOT_Auguste_Cropped_224\\extracted_face_0 (904).jpg_0.png\n",
      "Removed duplicate: Transformed_Datasets\\NOT_Auguste_Cropped_224\\extracted_face_0 (905).jpg_0.png\n",
      "Removed duplicate: Transformed_Datasets\\NOT_Auguste_Cropped_224\\extracted_face_0 (906).jpg_0.png\n",
      "Removed duplicate: Transformed_Datasets\\NOT_Auguste_Cropped_224\\extracted_face_0 (907).jpg_0.png\n",
      "Removed duplicate: Transformed_Datasets\\NOT_Auguste_Cropped_224\\extracted_face_0 (908).jpg_0.png\n",
      "Removed duplicate: Transformed_Datasets\\NOT_Auguste_Cropped_224\\extracted_face_0 (909).jpg_0.png\n",
      "Removed duplicate: Transformed_Datasets\\NOT_Auguste_Cropped_224\\extracted_face_0 (91).jpg_0.png\n",
      "Removed duplicate: Transformed_Datasets\\NOT_Auguste_Cropped_224\\extracted_face_0 (91).png_0.png\n",
      "Removed duplicate: Transformed_Datasets\\NOT_Auguste_Cropped_224\\extracted_face_0 (910).jpg_0.png\n",
      "Removed duplicate: Transformed_Datasets\\NOT_Auguste_Cropped_224\\extracted_face_0 (911).jpg_0.png\n",
      "Removed duplicate: Transformed_Datasets\\NOT_Auguste_Cropped_224\\extracted_face_0 (912).jpg_0.png\n",
      "Removed duplicate: Transformed_Datasets\\NOT_Auguste_Cropped_224\\extracted_face_0 (913).jpg_0.png\n",
      "Removed duplicate: Transformed_Datasets\\NOT_Auguste_Cropped_224\\extracted_face_0 (914).jpg_0.png\n",
      "Removed duplicate: Transformed_Datasets\\NOT_Auguste_Cropped_224\\extracted_face_0 (915).jpg_0.png\n",
      "Removed duplicate: Transformed_Datasets\\NOT_Auguste_Cropped_224\\extracted_face_0 (916).jpg_0.png\n",
      "Removed duplicate: Transformed_Datasets\\NOT_Auguste_Cropped_224\\extracted_face_0 (917).jpg_0.png\n",
      "Removed duplicate: Transformed_Datasets\\NOT_Auguste_Cropped_224\\extracted_face_0 (918).jpg_0.png\n",
      "Removed duplicate: Transformed_Datasets\\NOT_Auguste_Cropped_224\\extracted_face_0 (919).jpg_0.png\n",
      "Removed duplicate: Transformed_Datasets\\NOT_Auguste_Cropped_224\\extracted_face_0 (92).jpg_0.png\n",
      "Removed duplicate: Transformed_Datasets\\NOT_Auguste_Cropped_224\\extracted_face_0 (92).png_0.png\n",
      "Removed duplicate: Transformed_Datasets\\NOT_Auguste_Cropped_224\\extracted_face_0 (920).jpg_0.png\n",
      "Removed duplicate: Transformed_Datasets\\NOT_Auguste_Cropped_224\\extracted_face_0 (921).jpg_0.png\n",
      "Removed duplicate: Transformed_Datasets\\NOT_Auguste_Cropped_224\\extracted_face_0 (922).jpg_0.png\n",
      "Removed duplicate: Transformed_Datasets\\NOT_Auguste_Cropped_224\\extracted_face_0 (923).jpg_0.png\n",
      "Removed duplicate: Transformed_Datasets\\NOT_Auguste_Cropped_224\\extracted_face_0 (924).jpg_0.png\n",
      "Removed duplicate: Transformed_Datasets\\NOT_Auguste_Cropped_224\\extracted_face_0 (925).jpg_0.png\n",
      "Removed duplicate: Transformed_Datasets\\NOT_Auguste_Cropped_224\\extracted_face_0 (926).jpg_0.png\n",
      "Removed duplicate: Transformed_Datasets\\NOT_Auguste_Cropped_224\\extracted_face_0 (927).jpg_0.png\n",
      "Removed duplicate: Transformed_Datasets\\NOT_Auguste_Cropped_224\\extracted_face_0 (928).jpg_0.png\n",
      "Removed duplicate: Transformed_Datasets\\NOT_Auguste_Cropped_224\\extracted_face_0 (929).jpg_0.png\n",
      "Removed duplicate: Transformed_Datasets\\NOT_Auguste_Cropped_224\\extracted_face_0 (93).jpg_0.png\n",
      "Removed duplicate: Transformed_Datasets\\NOT_Auguste_Cropped_224\\extracted_face_0 (93).png_0.png\n",
      "Removed duplicate: Transformed_Datasets\\NOT_Auguste_Cropped_224\\extracted_face_0 (930).jpg_0.png\n",
      "Removed duplicate: Transformed_Datasets\\NOT_Auguste_Cropped_224\\extracted_face_0 (931).jpg_0.png\n",
      "Removed duplicate: Transformed_Datasets\\NOT_Auguste_Cropped_224\\extracted_face_0 (932).jpg_0.png\n",
      "Removed duplicate: Transformed_Datasets\\NOT_Auguste_Cropped_224\\extracted_face_0 (933).jpg_0.png\n",
      "Removed duplicate: Transformed_Datasets\\NOT_Auguste_Cropped_224\\extracted_face_0 (934).jpg_0.png\n",
      "Removed duplicate: Transformed_Datasets\\NOT_Auguste_Cropped_224\\extracted_face_0 (935).jpg_0.png\n",
      "Removed duplicate: Transformed_Datasets\\NOT_Auguste_Cropped_224\\extracted_face_0 (935).jpg_1.png\n",
      "Removed duplicate: Transformed_Datasets\\NOT_Auguste_Cropped_224\\extracted_face_0 (936).jpg_0.png\n",
      "Removed duplicate: Transformed_Datasets\\NOT_Auguste_Cropped_224\\extracted_face_0 (937).jpg_0.png\n",
      "Removed duplicate: Transformed_Datasets\\NOT_Auguste_Cropped_224\\extracted_face_0 (939).jpg_0.png\n",
      "Removed duplicate: Transformed_Datasets\\NOT_Auguste_Cropped_224\\extracted_face_0 (94).jpg_0.png\n",
      "Removed duplicate: Transformed_Datasets\\NOT_Auguste_Cropped_224\\extracted_face_0 (94).png_0.png\n",
      "Removed duplicate: Transformed_Datasets\\NOT_Auguste_Cropped_224\\extracted_face_0 (940).jpg_0.png\n",
      "Removed duplicate: Transformed_Datasets\\NOT_Auguste_Cropped_224\\extracted_face_0 (941).jpg_0.png\n",
      "Removed duplicate: Transformed_Datasets\\NOT_Auguste_Cropped_224\\extracted_face_0 (942).jpg_0.png\n",
      "Removed duplicate: Transformed_Datasets\\NOT_Auguste_Cropped_224\\extracted_face_0 (943).jpg_0.png\n",
      "Removed duplicate: Transformed_Datasets\\NOT_Auguste_Cropped_224\\extracted_face_0 (944).jpg_0.png\n",
      "Removed duplicate: Transformed_Datasets\\NOT_Auguste_Cropped_224\\extracted_face_0 (945).jpg_0.png\n",
      "Removed duplicate: Transformed_Datasets\\NOT_Auguste_Cropped_224\\extracted_face_0 (946).jpg_0.png\n",
      "Removed duplicate: Transformed_Datasets\\NOT_Auguste_Cropped_224\\extracted_face_0 (947).jpg_0.png\n",
      "Removed duplicate: Transformed_Datasets\\NOT_Auguste_Cropped_224\\extracted_face_0 (947).jpg_1.png\n",
      "Removed duplicate: Transformed_Datasets\\NOT_Auguste_Cropped_224\\extracted_face_0 (948).jpg_0.png\n",
      "Removed duplicate: Transformed_Datasets\\NOT_Auguste_Cropped_224\\extracted_face_0 (949).jpg_0.png\n",
      "Removed duplicate: Transformed_Datasets\\NOT_Auguste_Cropped_224\\extracted_face_0 (95).jpg_0.png\n",
      "Removed duplicate: Transformed_Datasets\\NOT_Auguste_Cropped_224\\extracted_face_0 (95).png_0.png\n",
      "Removed duplicate: Transformed_Datasets\\NOT_Auguste_Cropped_224\\extracted_face_0 (950).jpg_0.png\n",
      "Removed duplicate: Transformed_Datasets\\NOT_Auguste_Cropped_224\\extracted_face_0 (951).jpg_0.png\n",
      "Removed duplicate: Transformed_Datasets\\NOT_Auguste_Cropped_224\\extracted_face_0 (952).jpg_0.png\n",
      "Removed duplicate: Transformed_Datasets\\NOT_Auguste_Cropped_224\\extracted_face_0 (953).jpg_0.png\n",
      "Removed duplicate: Transformed_Datasets\\NOT_Auguste_Cropped_224\\extracted_face_0 (954).jpg_0.png\n",
      "Removed duplicate: Transformed_Datasets\\NOT_Auguste_Cropped_224\\extracted_face_0 (955).jpg_0.png\n",
      "Removed duplicate: Transformed_Datasets\\NOT_Auguste_Cropped_224\\extracted_face_0 (956).jpg_0.png\n",
      "Removed duplicate: Transformed_Datasets\\NOT_Auguste_Cropped_224\\extracted_face_0 (957).jpg_0.png\n",
      "Removed duplicate: Transformed_Datasets\\NOT_Auguste_Cropped_224\\extracted_face_0 (958).jpg_0.png\n",
      "Removed duplicate: Transformed_Datasets\\NOT_Auguste_Cropped_224\\extracted_face_0 (959).jpg_0.png\n",
      "Removed duplicate: Transformed_Datasets\\NOT_Auguste_Cropped_224\\extracted_face_0 (96).jpg_0.png\n",
      "Removed duplicate: Transformed_Datasets\\NOT_Auguste_Cropped_224\\extracted_face_0 (960).jpg_0.png\n",
      "Removed duplicate: Transformed_Datasets\\NOT_Auguste_Cropped_224\\extracted_face_0 (961).jpg_0.png\n",
      "Removed duplicate: Transformed_Datasets\\NOT_Auguste_Cropped_224\\extracted_face_0 (962).jpg_0.png\n",
      "Removed duplicate: Transformed_Datasets\\NOT_Auguste_Cropped_224\\extracted_face_0 (963).jpg_0.png\n",
      "Removed duplicate: Transformed_Datasets\\NOT_Auguste_Cropped_224\\extracted_face_0 (964).JPG_0.png\n",
      "Removed duplicate: Transformed_Datasets\\NOT_Auguste_Cropped_224\\extracted_face_0 (965).jpg_0.png\n",
      "Removed duplicate: Transformed_Datasets\\NOT_Auguste_Cropped_224\\extracted_face_0 (966).jpg_0.png\n",
      "Removed duplicate: Transformed_Datasets\\NOT_Auguste_Cropped_224\\extracted_face_0 (967).jpg_0.png\n",
      "Removed duplicate: Transformed_Datasets\\NOT_Auguste_Cropped_224\\extracted_face_0 (968).jpg_0.png\n",
      "Removed duplicate: Transformed_Datasets\\NOT_Auguste_Cropped_224\\extracted_face_0 (969).jpg_0.png\n",
      "Removed duplicate: Transformed_Datasets\\NOT_Auguste_Cropped_224\\extracted_face_0 (97).jpg_0.png\n",
      "Removed duplicate: Transformed_Datasets\\NOT_Auguste_Cropped_224\\extracted_face_0 (970).jpg_0.png\n",
      "Removed duplicate: Transformed_Datasets\\NOT_Auguste_Cropped_224\\extracted_face_0 (971).jpg_0.png\n",
      "Removed duplicate: Transformed_Datasets\\NOT_Auguste_Cropped_224\\extracted_face_0 (972).jpg_0.png\n",
      "Removed duplicate: Transformed_Datasets\\NOT_Auguste_Cropped_224\\extracted_face_0 (973).jpg_0.png\n",
      "Removed duplicate: Transformed_Datasets\\NOT_Auguste_Cropped_224\\extracted_face_0 (974).jpg_0.png\n",
      "Removed duplicate: Transformed_Datasets\\NOT_Auguste_Cropped_224\\extracted_face_0 (975).jpg_0.png\n",
      "Removed duplicate: Transformed_Datasets\\NOT_Auguste_Cropped_224\\extracted_face_0 (976).jpg_0.png\n",
      "Removed duplicate: Transformed_Datasets\\NOT_Auguste_Cropped_224\\extracted_face_0 (976).jpg_1.png\n",
      "Removed duplicate: Transformed_Datasets\\NOT_Auguste_Cropped_224\\extracted_face_0 (976).jpg_2.png\n",
      "Removed duplicate: Transformed_Datasets\\NOT_Auguste_Cropped_224\\extracted_face_0 (977).jpg_0.png\n",
      "Removed duplicate: Transformed_Datasets\\NOT_Auguste_Cropped_224\\extracted_face_0 (978).jpg_0.png\n",
      "Removed duplicate: Transformed_Datasets\\NOT_Auguste_Cropped_224\\extracted_face_0 (979).jpg_0.png\n",
      "Removed duplicate: Transformed_Datasets\\NOT_Auguste_Cropped_224\\extracted_face_0 (98).jpg_0.png\n",
      "Removed duplicate: Transformed_Datasets\\NOT_Auguste_Cropped_224\\extracted_face_0 (980).jpg_0.png\n",
      "Removed duplicate: Transformed_Datasets\\NOT_Auguste_Cropped_224\\extracted_face_0 (981).jpg_0.png\n",
      "Removed duplicate: Transformed_Datasets\\NOT_Auguste_Cropped_224\\extracted_face_0 (982).jpg_0.png\n",
      "Removed duplicate: Transformed_Datasets\\NOT_Auguste_Cropped_224\\extracted_face_0 (983).jpg_0.png\n",
      "Removed duplicate: Transformed_Datasets\\NOT_Auguste_Cropped_224\\extracted_face_0 (984).jpg_0.png\n",
      "Removed duplicate: Transformed_Datasets\\NOT_Auguste_Cropped_224\\extracted_face_0 (985).jpg_0.png\n",
      "Removed duplicate: Transformed_Datasets\\NOT_Auguste_Cropped_224\\extracted_face_0 (986).jpg_0.png\n",
      "Removed duplicate: Transformed_Datasets\\NOT_Auguste_Cropped_224\\extracted_face_0 (987).jpg_0.png\n",
      "Removed duplicate: Transformed_Datasets\\NOT_Auguste_Cropped_224\\extracted_face_0 (988).jpg_0.png\n",
      "Removed duplicate: Transformed_Datasets\\NOT_Auguste_Cropped_224\\extracted_face_0 (989).jpg_0.png\n",
      "Removed duplicate: Transformed_Datasets\\NOT_Auguste_Cropped_224\\extracted_face_0 (99).jpg_0.png\n",
      "Removed duplicate: Transformed_Datasets\\NOT_Auguste_Cropped_224\\extracted_face_0 (990).jpg_0.png\n",
      "Removed duplicate: Transformed_Datasets\\NOT_Auguste_Cropped_224\\extracted_face_0 (991).jpg_0.png\n",
      "Removed duplicate: Transformed_Datasets\\NOT_Auguste_Cropped_224\\extracted_face_0 (992).jpg_0.png\n",
      "Removed duplicate: Transformed_Datasets\\NOT_Auguste_Cropped_224\\extracted_face_0 (993).jpg_0.png\n",
      "Removed duplicate: Transformed_Datasets\\NOT_Auguste_Cropped_224\\extracted_face_0 (994).jpg_0.png\n",
      "Removed duplicate: Transformed_Datasets\\NOT_Auguste_Cropped_224\\extracted_face_0 (995).jpg_0.png\n",
      "Removed duplicate: Transformed_Datasets\\NOT_Auguste_Cropped_224\\extracted_face_0 (996).jpg_0.png\n",
      "Removed duplicate: Transformed_Datasets\\NOT_Auguste_Cropped_224\\extracted_face_0 (997).jpg_0.png\n",
      "Removed duplicate: Transformed_Datasets\\NOT_Auguste_Cropped_224\\extracted_face_0 (998).jpg_0.png\n",
      "Removed duplicate: Transformed_Datasets\\NOT_Auguste_Cropped_224\\extracted_face_0 (999).jpg_0.png\n",
      "Removed duplicate: Transformed_Datasets\\NOT_Auguste_Cropped_224\\extracted_face_1 (1027).jpg_0.png\n",
      "Removed duplicate: Transformed_Datasets\\NOT_Auguste_Cropped_224\\extracted_face_1 (1051).jpg_0.png\n",
      "Removed duplicate: Transformed_Datasets\\NOT_Auguste_Cropped_224\\extracted_face_1 (1066).jpg_0.png\n",
      "Removed duplicate: Transformed_Datasets\\NOT_Auguste_Cropped_224\\extracted_face_1 (11).jpeg_0.png\n",
      "Removed duplicate: Transformed_Datasets\\NOT_Auguste_Cropped_224\\extracted_face_1 (11).jpg_0.png\n",
      "Removed duplicate: Transformed_Datasets\\NOT_Auguste_Cropped_224\\extracted_face_1 (1122).jpg_0.png\n",
      "Removed duplicate: Transformed_Datasets\\NOT_Auguste_Cropped_224\\extracted_face_1 (1127).jpg_0.png\n",
      "Removed duplicate: Transformed_Datasets\\NOT_Auguste_Cropped_224\\extracted_face_1 (1136).jpg_0.png\n",
      "Removed duplicate: Transformed_Datasets\\NOT_Auguste_Cropped_224\\extracted_face_1 (1138).jpg_0.png\n",
      "Removed duplicate: Transformed_Datasets\\NOT_Auguste_Cropped_224\\extracted_face_1 (1157).jpg_0.png\n",
      "Removed duplicate: Transformed_Datasets\\NOT_Auguste_Cropped_224\\extracted_face_1 (1157).jpg_1.png\n",
      "Removed duplicate: Transformed_Datasets\\NOT_Auguste_Cropped_224\\extracted_face_1 (1160).jpg_0.png\n",
      "Removed duplicate: Transformed_Datasets\\NOT_Auguste_Cropped_224\\extracted_face_1 (1161).jpg_0.png\n",
      "Removed duplicate: Transformed_Datasets\\NOT_Auguste_Cropped_224\\extracted_face_1 (1166).jpg_0.png\n",
      "Removed duplicate: Transformed_Datasets\\NOT_Auguste_Cropped_224\\extracted_face_1 (1167).jpg_0.png\n",
      "Removed duplicate: Transformed_Datasets\\NOT_Auguste_Cropped_224\\extracted_face_1 (117).jpg_0.png\n",
      "Removed duplicate: Transformed_Datasets\\NOT_Auguste_Cropped_224\\extracted_face_1 (1170).jpg_0.png\n",
      "Removed duplicate: Transformed_Datasets\\NOT_Auguste_Cropped_224\\extracted_face_1 (1174).jpg_0.png\n",
      "Removed duplicate: Transformed_Datasets\\NOT_Auguste_Cropped_224\\extracted_face_1 (1175).jpg_0.png\n",
      "Removed duplicate: Transformed_Datasets\\NOT_Auguste_Cropped_224\\extracted_face_1 (1180).jpg_0.png\n",
      "Removed duplicate: Transformed_Datasets\\NOT_Auguste_Cropped_224\\extracted_face_1 (1182).jpg_0.png\n",
      "Removed duplicate: Transformed_Datasets\\NOT_Auguste_Cropped_224\\extracted_face_1 (1188).jpg_0.png\n",
      "Removed duplicate: Transformed_Datasets\\NOT_Auguste_Cropped_224\\extracted_face_1 (1189).jpg_0.png\n",
      "Removed duplicate: Transformed_Datasets\\NOT_Auguste_Cropped_224\\extracted_face_1 (1194).jpg_0.png\n",
      "Removed duplicate: Transformed_Datasets\\NOT_Auguste_Cropped_224\\extracted_face_1 (1196).jpg_0.png\n",
      "Removed duplicate: Transformed_Datasets\\NOT_Auguste_Cropped_224\\extracted_face_1 (1201).jpg_0.png\n",
      "Removed duplicate: Transformed_Datasets\\NOT_Auguste_Cropped_224\\extracted_face_1 (1203).jpg_0.png\n",
      "Removed duplicate: Transformed_Datasets\\NOT_Auguste_Cropped_224\\extracted_face_1 (1204).jpg_0.png\n",
      "Removed duplicate: Transformed_Datasets\\NOT_Auguste_Cropped_224\\extracted_face_1 (1208).jpg_0.png\n",
      "Removed duplicate: Transformed_Datasets\\NOT_Auguste_Cropped_224\\extracted_face_1 (1209).jpg_0.png\n",
      "Removed duplicate: Transformed_Datasets\\NOT_Auguste_Cropped_224\\extracted_face_1 (1213).jpg_0.png\n",
      "Removed duplicate: Transformed_Datasets\\NOT_Auguste_Cropped_224\\extracted_face_1 (1214).jpg_0.png\n",
      "Removed duplicate: Transformed_Datasets\\NOT_Auguste_Cropped_224\\extracted_face_1 (1215).jpg_0.png\n",
      "Removed duplicate: Transformed_Datasets\\NOT_Auguste_Cropped_224\\extracted_face_1 (1216).jpg_0.png\n",
      "Removed duplicate: Transformed_Datasets\\NOT_Auguste_Cropped_224\\extracted_face_1 (1218).jpg_0.png\n",
      "Removed duplicate: Transformed_Datasets\\NOT_Auguste_Cropped_224\\extracted_face_1 (1219).jpg_0.png\n",
      "Removed duplicate: Transformed_Datasets\\NOT_Auguste_Cropped_224\\extracted_face_1 (1221).jpg_0.png\n",
      "Removed duplicate: Transformed_Datasets\\NOT_Auguste_Cropped_224\\extracted_face_1 (1223).jpg_0.png\n",
      "Removed duplicate: Transformed_Datasets\\NOT_Auguste_Cropped_224\\extracted_face_1 (1225).jpg_0.png\n",
      "Removed duplicate: Transformed_Datasets\\NOT_Auguste_Cropped_224\\extracted_face_1 (1226).jpg_0.png\n",
      "Removed duplicate: Transformed_Datasets\\NOT_Auguste_Cropped_224\\extracted_face_1 (1228).jpg_0.png\n",
      "Removed duplicate: Transformed_Datasets\\NOT_Auguste_Cropped_224\\extracted_face_1 (1233).jpg_0.png\n",
      "Removed duplicate: Transformed_Datasets\\NOT_Auguste_Cropped_224\\extracted_face_1 (1235).jpg_0.png\n",
      "Removed duplicate: Transformed_Datasets\\NOT_Auguste_Cropped_224\\extracted_face_1 (1236).jpg_0.png\n",
      "Removed duplicate: Transformed_Datasets\\NOT_Auguste_Cropped_224\\extracted_face_1 (1240).jpg_0.png\n",
      "Removed duplicate: Transformed_Datasets\\NOT_Auguste_Cropped_224\\extracted_face_1 (1242).jpg_0.png\n",
      "Removed duplicate: Transformed_Datasets\\NOT_Auguste_Cropped_224\\extracted_face_1 (1243).jpg_0.png\n",
      "Removed duplicate: Transformed_Datasets\\NOT_Auguste_Cropped_224\\extracted_face_1 (1245).jpg_0.png\n",
      "Removed duplicate: Transformed_Datasets\\NOT_Auguste_Cropped_224\\extracted_face_1 (1247).jpg_0.png\n",
      "Removed duplicate: Transformed_Datasets\\NOT_Auguste_Cropped_224\\extracted_face_1 (1249).jpg_0.png\n",
      "Removed duplicate: Transformed_Datasets\\NOT_Auguste_Cropped_224\\extracted_face_1 (1251).jpg_0.png\n",
      "Removed duplicate: Transformed_Datasets\\NOT_Auguste_Cropped_224\\extracted_face_1 (1252).jpg_0.png\n",
      "Removed duplicate: Transformed_Datasets\\NOT_Auguste_Cropped_224\\extracted_face_1 (1256).jpg_0.png\n",
      "Removed duplicate: Transformed_Datasets\\NOT_Auguste_Cropped_224\\extracted_face_1 (1259).jpg_0.png\n",
      "Removed duplicate: Transformed_Datasets\\NOT_Auguste_Cropped_224\\extracted_face_1 (1263).jpg_0.png\n",
      "Removed duplicate: Transformed_Datasets\\NOT_Auguste_Cropped_224\\extracted_face_1 (1266).jpg_0.png\n",
      "Removed duplicate: Transformed_Datasets\\NOT_Auguste_Cropped_224\\extracted_face_1 (1270).jpg_0.png\n",
      "Removed duplicate: Transformed_Datasets\\NOT_Auguste_Cropped_224\\extracted_face_1 (1273).jpg_0.png\n",
      "Removed duplicate: Transformed_Datasets\\NOT_Auguste_Cropped_224\\extracted_face_1 (1278).jpg_0.png\n",
      "Removed duplicate: Transformed_Datasets\\NOT_Auguste_Cropped_224\\extracted_face_1 (1291).jpg_0.png\n",
      "Removed duplicate: Transformed_Datasets\\NOT_Auguste_Cropped_224\\extracted_face_1 (13).jpg_0.png\n",
      "Removed duplicate: Transformed_Datasets\\NOT_Auguste_Cropped_224\\extracted_face_1 (13).png_0.png\n",
      "Removed duplicate: Transformed_Datasets\\NOT_Auguste_Cropped_224\\extracted_face_1 (1303).jpg_0.png\n",
      "Removed duplicate: Transformed_Datasets\\NOT_Auguste_Cropped_224\\extracted_face_1 (1307).jpg_0.png\n",
      "Removed duplicate: Transformed_Datasets\\NOT_Auguste_Cropped_224\\extracted_face_1 (1310).jpg_0.png\n",
      "Removed duplicate: Transformed_Datasets\\NOT_Auguste_Cropped_224\\extracted_face_1 (1311).jpg_0.png\n",
      "Removed duplicate: Transformed_Datasets\\NOT_Auguste_Cropped_224\\extracted_face_1 (1312).jpg_0.png\n",
      "Removed duplicate: Transformed_Datasets\\NOT_Auguste_Cropped_224\\extracted_face_1 (1314).jpg_0.png\n",
      "Removed duplicate: Transformed_Datasets\\NOT_Auguste_Cropped_224\\extracted_face_1 (1317).jpg_0.png\n",
      "Removed duplicate: Transformed_Datasets\\NOT_Auguste_Cropped_224\\extracted_face_1 (1319).jpg_0.png\n",
      "Removed duplicate: Transformed_Datasets\\NOT_Auguste_Cropped_224\\extracted_face_1 (1324).jpg_0.png\n",
      "Removed duplicate: Transformed_Datasets\\NOT_Auguste_Cropped_224\\extracted_face_1 (1325).jpg_0.png\n",
      "Removed duplicate: Transformed_Datasets\\NOT_Auguste_Cropped_224\\extracted_face_1 (1331).jpg_0.png\n",
      "Removed duplicate: Transformed_Datasets\\NOT_Auguste_Cropped_224\\extracted_face_1 (1335).jpg_0.png\n",
      "Removed duplicate: Transformed_Datasets\\NOT_Auguste_Cropped_224\\extracted_face_1 (1338).jpg_0.png\n",
      "Removed duplicate: Transformed_Datasets\\NOT_Auguste_Cropped_224\\extracted_face_1 (1340).jpg_0.png\n",
      "Removed duplicate: Transformed_Datasets\\NOT_Auguste_Cropped_224\\extracted_face_1 (1343).jpg_0.png\n",
      "Removed duplicate: Transformed_Datasets\\NOT_Auguste_Cropped_224\\extracted_face_1 (1347).jpg_0.png\n",
      "Removed duplicate: Transformed_Datasets\\NOT_Auguste_Cropped_224\\extracted_face_1 (1349).jpg_0.png\n",
      "Removed duplicate: Transformed_Datasets\\NOT_Auguste_Cropped_224\\extracted_face_1 (135).jpg_0.png\n",
      "Removed duplicate: Transformed_Datasets\\NOT_Auguste_Cropped_224\\extracted_face_1 (1352).jpg_0.png\n",
      "Removed duplicate: Transformed_Datasets\\NOT_Auguste_Cropped_224\\extracted_face_1 (1353).jpg_0.png\n",
      "Removed duplicate: Transformed_Datasets\\NOT_Auguste_Cropped_224\\extracted_face_1 (1354).jpg_0.png\n",
      "Removed duplicate: Transformed_Datasets\\NOT_Auguste_Cropped_224\\extracted_face_1 (1362).jpg_0.png\n",
      "Removed duplicate: Transformed_Datasets\\NOT_Auguste_Cropped_224\\extracted_face_1 (1363).jpg_0.png\n",
      "Removed duplicate: Transformed_Datasets\\NOT_Auguste_Cropped_224\\extracted_face_1 (1363).jpg_1.png\n",
      "Removed duplicate: Transformed_Datasets\\NOT_Auguste_Cropped_224\\extracted_face_1 (1369).jpg_0.png\n",
      "Removed duplicate: Transformed_Datasets\\NOT_Auguste_Cropped_224\\extracted_face_1 (1371).jpg_0.png\n",
      "Removed duplicate: Transformed_Datasets\\NOT_Auguste_Cropped_224\\extracted_face_1 (1378).jpg_0.png\n",
      "Removed duplicate: Transformed_Datasets\\NOT_Auguste_Cropped_224\\extracted_face_1 (1380).jpg_0.png\n",
      "Removed duplicate: Transformed_Datasets\\NOT_Auguste_Cropped_224\\extracted_face_1 (1384).jpg_0.png\n",
      "Removed duplicate: Transformed_Datasets\\NOT_Auguste_Cropped_224\\extracted_face_1 (1391).jpg_0.png\n",
      "Removed duplicate: Transformed_Datasets\\NOT_Auguste_Cropped_224\\extracted_face_1 (1395).jpg_0.png\n",
      "Removed duplicate: Transformed_Datasets\\NOT_Auguste_Cropped_224\\extracted_face_1 (1396).jpg_0.png\n",
      "Removed duplicate: Transformed_Datasets\\NOT_Auguste_Cropped_224\\extracted_face_1 (1397).jpg_0.png\n",
      "Removed duplicate: Transformed_Datasets\\NOT_Auguste_Cropped_224\\extracted_face_1 (14).jpg_0.png\n",
      "Removed duplicate: Transformed_Datasets\\NOT_Auguste_Cropped_224\\extracted_face_1 (1400).jpg_0.png\n",
      "Removed duplicate: Transformed_Datasets\\NOT_Auguste_Cropped_224\\extracted_face_1 (1402).jpg_0.png\n",
      "Removed duplicate: Transformed_Datasets\\NOT_Auguste_Cropped_224\\extracted_face_1 (1404).jpg_0.png\n",
      "Removed duplicate: Transformed_Datasets\\NOT_Auguste_Cropped_224\\extracted_face_1 (1408).jpg_0.png\n",
      "Removed duplicate: Transformed_Datasets\\NOT_Auguste_Cropped_224\\extracted_face_1 (1409).jpg_0.png\n",
      "Removed duplicate: Transformed_Datasets\\NOT_Auguste_Cropped_224\\extracted_face_1 (1411).jpg_0.png\n",
      "Removed duplicate: Transformed_Datasets\\NOT_Auguste_Cropped_224\\extracted_face_1 (1412).jpg_0.png\n",
      "Removed duplicate: Transformed_Datasets\\NOT_Auguste_Cropped_224\\extracted_face_1 (1415).jpg_0.png\n",
      "Removed duplicate: Transformed_Datasets\\NOT_Auguste_Cropped_224\\extracted_face_1 (1416).jpg_0.png\n",
      "Removed duplicate: Transformed_Datasets\\NOT_Auguste_Cropped_224\\extracted_face_1 (1418).jpg_0.png\n",
      "Removed duplicate: Transformed_Datasets\\NOT_Auguste_Cropped_224\\extracted_face_1 (1419).jpg_0.png\n",
      "Removed duplicate: Transformed_Datasets\\NOT_Auguste_Cropped_224\\extracted_face_1 (1422).jpg_0.png\n",
      "Removed duplicate: Transformed_Datasets\\NOT_Auguste_Cropped_224\\extracted_face_1 (1423).jpg_0.png\n",
      "Removed duplicate: Transformed_Datasets\\NOT_Auguste_Cropped_224\\extracted_face_1 (1429).jpg_0.png\n",
      "Removed duplicate: Transformed_Datasets\\NOT_Auguste_Cropped_224\\extracted_face_1 (1432).jpg_0.png\n",
      "Removed duplicate: Transformed_Datasets\\NOT_Auguste_Cropped_224\\extracted_face_1 (1434).jpg_0.png\n",
      "Removed duplicate: Transformed_Datasets\\NOT_Auguste_Cropped_224\\extracted_face_1 (1435).jpg_0.png\n",
      "Removed duplicate: Transformed_Datasets\\NOT_Auguste_Cropped_224\\extracted_face_1 (1439).jpg_0.png\n",
      "Removed duplicate: Transformed_Datasets\\NOT_Auguste_Cropped_224\\extracted_face_1 (1441).jpg_0.png\n",
      "Removed duplicate: Transformed_Datasets\\NOT_Auguste_Cropped_224\\extracted_face_1 (1442).jpg_0.png\n",
      "Removed duplicate: Transformed_Datasets\\NOT_Auguste_Cropped_224\\extracted_face_1 (1446).jpg_0.png\n",
      "Removed duplicate: Transformed_Datasets\\NOT_Auguste_Cropped_224\\extracted_face_1 (1448).jpg_0.png\n",
      "Removed duplicate: Transformed_Datasets\\NOT_Auguste_Cropped_224\\extracted_face_1 (1449).jpg_0.png\n",
      "Removed duplicate: Transformed_Datasets\\NOT_Auguste_Cropped_224\\extracted_face_1 (1449).jpg_1.png\n",
      "Removed duplicate: Transformed_Datasets\\NOT_Auguste_Cropped_224\\extracted_face_1 (1451).jpg_0.png\n",
      "Removed duplicate: Transformed_Datasets\\NOT_Auguste_Cropped_224\\extracted_face_1 (1454).jpg_0.png\n",
      "Removed duplicate: Transformed_Datasets\\NOT_Auguste_Cropped_224\\extracted_face_1 (1455).jpg_0.png\n",
      "Removed duplicate: Transformed_Datasets\\NOT_Auguste_Cropped_224\\extracted_face_1 (1456).jpg_0.png\n",
      "Removed duplicate: Transformed_Datasets\\NOT_Auguste_Cropped_224\\extracted_face_1 (1458).jpg_0.png\n",
      "Removed duplicate: Transformed_Datasets\\NOT_Auguste_Cropped_224\\extracted_face_1 (1464).jpg_0.png\n",
      "Removed duplicate: Transformed_Datasets\\NOT_Auguste_Cropped_224\\extracted_face_1 (1468).jpg_0.png\n",
      "Removed duplicate: Transformed_Datasets\\NOT_Auguste_Cropped_224\\extracted_face_1 (1470).jpg_0.png\n",
      "Removed duplicate: Transformed_Datasets\\NOT_Auguste_Cropped_224\\extracted_face_1 (1471).jpg_0.png\n",
      "Removed duplicate: Transformed_Datasets\\NOT_Auguste_Cropped_224\\extracted_face_1 (1475).jpg_0.png\n",
      "Removed duplicate: Transformed_Datasets\\NOT_Auguste_Cropped_224\\extracted_face_1 (1478).jpg_0.png\n",
      "Removed duplicate: Transformed_Datasets\\NOT_Auguste_Cropped_224\\extracted_face_1 (1484).jpg_0.png\n",
      "Removed duplicate: Transformed_Datasets\\NOT_Auguste_Cropped_224\\extracted_face_1 (1485).jpg_0.png\n",
      "Removed duplicate: Transformed_Datasets\\NOT_Auguste_Cropped_224\\extracted_face_1 (1488).jpg_0.png\n",
      "Removed duplicate: Transformed_Datasets\\NOT_Auguste_Cropped_224\\extracted_face_1 (1490).jpg_0.png\n",
      "Removed duplicate: Transformed_Datasets\\NOT_Auguste_Cropped_224\\extracted_face_1 (1492).jpg_0.png\n",
      "Removed duplicate: Transformed_Datasets\\NOT_Auguste_Cropped_224\\extracted_face_1 (1495).jpg_0.png\n",
      "Removed duplicate: Transformed_Datasets\\NOT_Auguste_Cropped_224\\extracted_face_1 (1501).jpg_0.png\n",
      "Removed duplicate: Transformed_Datasets\\NOT_Auguste_Cropped_224\\extracted_face_1 (1502).jpg_0.png\n",
      "Removed duplicate: Transformed_Datasets\\NOT_Auguste_Cropped_224\\extracted_face_1 (1503).jpg_0.png\n",
      "Removed duplicate: Transformed_Datasets\\NOT_Auguste_Cropped_224\\extracted_face_1 (1504).jpg_0.png\n",
      "Removed duplicate: Transformed_Datasets\\NOT_Auguste_Cropped_224\\extracted_face_1 (1505).jpg_0.png\n",
      "Removed duplicate: Transformed_Datasets\\NOT_Auguste_Cropped_224\\extracted_face_1 (1506).jpg_0.png\n",
      "Removed duplicate: Transformed_Datasets\\NOT_Auguste_Cropped_224\\extracted_face_1 (1509).jpg_0.png\n",
      "Removed duplicate: Transformed_Datasets\\NOT_Auguste_Cropped_224\\extracted_face_1 (1511).jpg_0.png\n",
      "Removed duplicate: Transformed_Datasets\\NOT_Auguste_Cropped_224\\extracted_face_1 (1514).jpg_0.png\n",
      "Removed duplicate: Transformed_Datasets\\NOT_Auguste_Cropped_224\\extracted_face_1 (1515).jpg_0.png\n",
      "Removed duplicate: Transformed_Datasets\\NOT_Auguste_Cropped_224\\extracted_face_1 (1517).jpg_0.png\n",
      "Removed duplicate: Transformed_Datasets\\NOT_Auguste_Cropped_224\\extracted_face_1 (1522).jpg_0.png\n",
      "Removed duplicate: Transformed_Datasets\\NOT_Auguste_Cropped_224\\extracted_face_1 (1526).jpg_0.png\n",
      "Removed duplicate: Transformed_Datasets\\NOT_Auguste_Cropped_224\\extracted_face_1 (1527).jpg_0.png\n",
      "Removed duplicate: Transformed_Datasets\\NOT_Auguste_Cropped_224\\extracted_face_1 (1533).jpg_0.png\n",
      "Removed duplicate: Transformed_Datasets\\NOT_Auguste_Cropped_224\\extracted_face_1 (1535).jpg_0.png\n",
      "Removed duplicate: Transformed_Datasets\\NOT_Auguste_Cropped_224\\extracted_face_1 (1540).jpg_0.png\n",
      "Removed duplicate: Transformed_Datasets\\NOT_Auguste_Cropped_224\\extracted_face_1 (1542).jpg_0.png\n",
      "Removed duplicate: Transformed_Datasets\\NOT_Auguste_Cropped_224\\extracted_face_1 (1545).jpg_0.png\n",
      "Removed duplicate: Transformed_Datasets\\NOT_Auguste_Cropped_224\\extracted_face_1 (1564).jpg_0.png\n",
      "Removed duplicate: Transformed_Datasets\\NOT_Auguste_Cropped_224\\extracted_face_1 (1570).jpg_0.png\n",
      "Removed duplicate: Transformed_Datasets\\NOT_Auguste_Cropped_224\\extracted_face_1 (1579).jpg_0.png\n",
      "Removed duplicate: Transformed_Datasets\\NOT_Auguste_Cropped_224\\extracted_face_1 (1583).jpg_0.png\n",
      "Removed duplicate: Transformed_Datasets\\NOT_Auguste_Cropped_224\\extracted_face_1 (1590).jpg_0.png\n",
      "Removed duplicate: Transformed_Datasets\\NOT_Auguste_Cropped_224\\extracted_face_1 (1591).jpg_0.png\n",
      "Removed duplicate: Transformed_Datasets\\NOT_Auguste_Cropped_224\\extracted_face_1 (1592).jpg_0.png\n",
      "Removed duplicate: Transformed_Datasets\\NOT_Auguste_Cropped_224\\extracted_face_1 (1593).jpg_0.png\n",
      "Removed duplicate: Transformed_Datasets\\NOT_Auguste_Cropped_224\\extracted_face_1 (1596).jpg_0.png\n",
      "Removed duplicate: Transformed_Datasets\\NOT_Auguste_Cropped_224\\extracted_face_1 (1597).jpg_0.png\n",
      "Removed duplicate: Transformed_Datasets\\NOT_Auguste_Cropped_224\\extracted_face_1 (1598).jpg_0.png\n",
      "Removed duplicate: Transformed_Datasets\\NOT_Auguste_Cropped_224\\extracted_face_1 (1599).jpg_0.png\n",
      "Removed duplicate: Transformed_Datasets\\NOT_Auguste_Cropped_224\\extracted_face_1 (1599).jpg_1.png\n",
      "Removed duplicate: Transformed_Datasets\\NOT_Auguste_Cropped_224\\extracted_face_1 (16).jpeg_0.png\n",
      "Removed duplicate: Transformed_Datasets\\NOT_Auguste_Cropped_224\\extracted_face_1 (16).jpg_0.png\n",
      "Removed duplicate: Transformed_Datasets\\NOT_Auguste_Cropped_224\\extracted_face_1 (160).jpg_0.png\n",
      "Removed duplicate: Transformed_Datasets\\NOT_Auguste_Cropped_224\\extracted_face_1 (1600).jpg_0.png\n",
      "Removed duplicate: Transformed_Datasets\\NOT_Auguste_Cropped_224\\extracted_face_1 (1603).jpg_0.png\n",
      "Removed duplicate: Transformed_Datasets\\NOT_Auguste_Cropped_224\\extracted_face_1 (1603).jpg_1.png\n",
      "Removed duplicate: Transformed_Datasets\\NOT_Auguste_Cropped_224\\extracted_face_1 (1603).jpg_10.png\n",
      "Removed duplicate: Transformed_Datasets\\NOT_Auguste_Cropped_224\\extracted_face_1 (1603).jpg_11.png\n",
      "Removed duplicate: Transformed_Datasets\\NOT_Auguste_Cropped_224\\extracted_face_1 (1603).jpg_2.png\n",
      "Removed duplicate: Transformed_Datasets\\NOT_Auguste_Cropped_224\\extracted_face_1 (1603).jpg_3.png\n",
      "Removed duplicate: Transformed_Datasets\\NOT_Auguste_Cropped_224\\extracted_face_1 (1603).jpg_4.png\n",
      "Removed duplicate: Transformed_Datasets\\NOT_Auguste_Cropped_224\\extracted_face_1 (1603).jpg_5.png\n",
      "Removed duplicate: Transformed_Datasets\\NOT_Auguste_Cropped_224\\extracted_face_1 (1603).jpg_6.png\n",
      "Removed duplicate: Transformed_Datasets\\NOT_Auguste_Cropped_224\\extracted_face_1 (1603).jpg_7.png\n",
      "Removed duplicate: Transformed_Datasets\\NOT_Auguste_Cropped_224\\extracted_face_1 (1603).jpg_8.png\n",
      "Removed duplicate: Transformed_Datasets\\NOT_Auguste_Cropped_224\\extracted_face_1 (1603).jpg_9.png\n",
      "Removed duplicate: Transformed_Datasets\\NOT_Auguste_Cropped_224\\extracted_face_1 (1604).jpg_0.png\n",
      "Removed duplicate: Transformed_Datasets\\NOT_Auguste_Cropped_224\\extracted_face_1 (1605).jpg_0.png\n",
      "Removed duplicate: Transformed_Datasets\\NOT_Auguste_Cropped_224\\extracted_face_1 (1606).jpg_0.png\n",
      "Removed duplicate: Transformed_Datasets\\NOT_Auguste_Cropped_224\\extracted_face_1 (1606).jpg_1.png\n",
      "Removed duplicate: Transformed_Datasets\\NOT_Auguste_Cropped_224\\extracted_face_1 (1607).jpg_0.png\n",
      "Removed duplicate: Transformed_Datasets\\NOT_Auguste_Cropped_224\\extracted_face_1 (1609).jpg_0.png\n",
      "Removed duplicate: Transformed_Datasets\\NOT_Auguste_Cropped_224\\extracted_face_1 (1610).jpg_0.png\n",
      "Removed duplicate: Transformed_Datasets\\NOT_Auguste_Cropped_224\\extracted_face_1 (1611).jpg_0.png\n",
      "Removed duplicate: Transformed_Datasets\\NOT_Auguste_Cropped_224\\extracted_face_1 (1612).jpg_0.png\n",
      "Removed duplicate: Transformed_Datasets\\NOT_Auguste_Cropped_224\\extracted_face_1 (1612).jpg_1.png\n",
      "Removed duplicate: Transformed_Datasets\\NOT_Auguste_Cropped_224\\extracted_face_1 (1612).jpg_2.png\n",
      "Removed duplicate: Transformed_Datasets\\NOT_Auguste_Cropped_224\\extracted_face_1 (1613).jpg_0.png\n",
      "Removed duplicate: Transformed_Datasets\\NOT_Auguste_Cropped_224\\extracted_face_1 (1614).jpg_0.png\n",
      "Removed duplicate: Transformed_Datasets\\NOT_Auguste_Cropped_224\\extracted_face_1 (1617).jpg_0.png\n",
      "Removed duplicate: Transformed_Datasets\\NOT_Auguste_Cropped_224\\extracted_face_1 (1618).jpg_0.png\n",
      "Removed duplicate: Transformed_Datasets\\NOT_Auguste_Cropped_224\\extracted_face_1 (1620).jpg_0.png\n",
      "Removed duplicate: Transformed_Datasets\\NOT_Auguste_Cropped_224\\extracted_face_1 (1621).jpg_0.png\n",
      "Removed duplicate: Transformed_Datasets\\NOT_Auguste_Cropped_224\\extracted_face_1 (1624).jpg_0.png\n",
      "Removed duplicate: Transformed_Datasets\\NOT_Auguste_Cropped_224\\extracted_face_1 (1625).jpg_0.png\n",
      "Removed duplicate: Transformed_Datasets\\NOT_Auguste_Cropped_224\\extracted_face_1 (1627).jpg_0.png\n",
      "Removed duplicate: Transformed_Datasets\\NOT_Auguste_Cropped_224\\extracted_face_1 (1628).jpg_0.png\n",
      "Removed duplicate: Transformed_Datasets\\NOT_Auguste_Cropped_224\\extracted_face_1 (1629).jpg_0.png\n",
      "Removed duplicate: Transformed_Datasets\\NOT_Auguste_Cropped_224\\extracted_face_1 (1631).jpg_0.png\n",
      "Removed duplicate: Transformed_Datasets\\NOT_Auguste_Cropped_224\\extracted_face_1 (1632).jpg_0.png\n",
      "Removed duplicate: Transformed_Datasets\\NOT_Auguste_Cropped_224\\extracted_face_1 (1635).jpg_0.png\n",
      "Removed duplicate: Transformed_Datasets\\NOT_Auguste_Cropped_224\\extracted_face_1 (1637).jpg_0.png\n",
      "Removed duplicate: Transformed_Datasets\\NOT_Auguste_Cropped_224\\extracted_face_1 (1639).jpg_0.png\n",
      "Removed duplicate: Transformed_Datasets\\NOT_Auguste_Cropped_224\\extracted_face_1 (164).jpg_0.png\n",
      "Removed duplicate: Transformed_Datasets\\NOT_Auguste_Cropped_224\\extracted_face_1 (1642).jpg_0.png\n",
      "Removed duplicate: Transformed_Datasets\\NOT_Auguste_Cropped_224\\extracted_face_1 (1644).jpg_0.png\n",
      "Removed duplicate: Transformed_Datasets\\NOT_Auguste_Cropped_224\\extracted_face_1 (1647).jpg_0.png\n",
      "Removed duplicate: Transformed_Datasets\\NOT_Auguste_Cropped_224\\extracted_face_1 (1648).jpg_0.png\n",
      "Removed duplicate: Transformed_Datasets\\NOT_Auguste_Cropped_224\\extracted_face_1 (1649).jpg_0.png\n",
      "Removed duplicate: Transformed_Datasets\\NOT_Auguste_Cropped_224\\extracted_face_1 (1650).jpg_0.png\n",
      "Removed duplicate: Transformed_Datasets\\NOT_Auguste_Cropped_224\\extracted_face_1 (1651).jpg_0.png\n",
      "Removed duplicate: Transformed_Datasets\\NOT_Auguste_Cropped_224\\extracted_face_1 (1653).jpg_0.png\n",
      "Removed duplicate: Transformed_Datasets\\NOT_Auguste_Cropped_224\\extracted_face_1 (1654).jpg_0.png\n",
      "Removed duplicate: Transformed_Datasets\\NOT_Auguste_Cropped_224\\extracted_face_1 (1656).jpg_0.png\n",
      "Removed duplicate: Transformed_Datasets\\NOT_Auguste_Cropped_224\\extracted_face_1 (1658).jpg_0.png\n",
      "Removed duplicate: Transformed_Datasets\\NOT_Auguste_Cropped_224\\extracted_face_1 (1661).jpg_0.png\n",
      "Removed duplicate: Transformed_Datasets\\NOT_Auguste_Cropped_224\\extracted_face_1 (1664).jpg_0.png\n",
      "Removed duplicate: Transformed_Datasets\\NOT_Auguste_Cropped_224\\extracted_face_1 (1665).jpg_0.png\n",
      "Removed duplicate: Transformed_Datasets\\NOT_Auguste_Cropped_224\\extracted_face_1 (1667).jpg_0.png\n",
      "Removed duplicate: Transformed_Datasets\\NOT_Auguste_Cropped_224\\extracted_face_1 (1668).jpg_0.png\n",
      "Removed duplicate: Transformed_Datasets\\NOT_Auguste_Cropped_224\\extracted_face_1 (1672).jpg_0.png\n",
      "Removed duplicate: Transformed_Datasets\\NOT_Auguste_Cropped_224\\extracted_face_1 (1673).jpg_0.png\n",
      "Removed duplicate: Transformed_Datasets\\NOT_Auguste_Cropped_224\\extracted_face_1 (1674).jpg_0.png\n",
      "Removed duplicate: Transformed_Datasets\\NOT_Auguste_Cropped_224\\extracted_face_1 (1675).jpg_0.png\n",
      "Removed duplicate: Transformed_Datasets\\NOT_Auguste_Cropped_224\\extracted_face_1 (1679).jpg_0.png\n",
      "Removed duplicate: Transformed_Datasets\\NOT_Auguste_Cropped_224\\extracted_face_1 (1682).jpg_0.png\n",
      "Removed duplicate: Transformed_Datasets\\NOT_Auguste_Cropped_224\\extracted_face_1 (1685).jpg_0.png\n",
      "Removed duplicate: Transformed_Datasets\\NOT_Auguste_Cropped_224\\extracted_face_1 (1686).jpg_0.png\n",
      "Removed duplicate: Transformed_Datasets\\NOT_Auguste_Cropped_224\\extracted_face_1 (1688).jpg_0.png\n",
      "Removed duplicate: Transformed_Datasets\\NOT_Auguste_Cropped_224\\extracted_face_1 (1693).jpg_0.png\n",
      "Removed duplicate: Transformed_Datasets\\NOT_Auguste_Cropped_224\\extracted_face_1 (1698).jpg_0.png\n",
      "Removed duplicate: Transformed_Datasets\\NOT_Auguste_Cropped_224\\extracted_face_1 (1699).jpg_0.png\n",
      "Removed duplicate: Transformed_Datasets\\NOT_Auguste_Cropped_224\\extracted_face_1 (17).jpeg_0.png\n",
      "Removed duplicate: Transformed_Datasets\\NOT_Auguste_Cropped_224\\extracted_face_1 (17).jpg_0.png\n",
      "Removed duplicate: Transformed_Datasets\\NOT_Auguste_Cropped_224\\extracted_face_1 (170).jpg_0.png\n",
      "Removed duplicate: Transformed_Datasets\\NOT_Auguste_Cropped_224\\extracted_face_1 (1702).jpg_0.png\n",
      "Removed duplicate: Transformed_Datasets\\NOT_Auguste_Cropped_224\\extracted_face_1 (1702).jpg_1.png\n",
      "Removed duplicate: Transformed_Datasets\\NOT_Auguste_Cropped_224\\extracted_face_1 (1704).jpg_0.png\n",
      "Removed duplicate: Transformed_Datasets\\NOT_Auguste_Cropped_224\\extracted_face_1 (171).jpg_0.png\n",
      "Removed duplicate: Transformed_Datasets\\NOT_Auguste_Cropped_224\\extracted_face_1 (1710).jpg_0.png\n",
      "Removed duplicate: Transformed_Datasets\\NOT_Auguste_Cropped_224\\extracted_face_1 (1711).jpg_0.png\n",
      "Removed duplicate: Transformed_Datasets\\NOT_Auguste_Cropped_224\\extracted_face_1 (1712).jpg_0.png\n",
      "Removed duplicate: Transformed_Datasets\\NOT_Auguste_Cropped_224\\extracted_face_1 (1715).jpg_0.png\n",
      "Removed duplicate: Transformed_Datasets\\NOT_Auguste_Cropped_224\\extracted_face_1 (1716).jpg_0.png\n",
      "Removed duplicate: Transformed_Datasets\\NOT_Auguste_Cropped_224\\extracted_face_1 (1721).jpg_0.png\n",
      "Removed duplicate: Transformed_Datasets\\NOT_Auguste_Cropped_224\\extracted_face_1 (1727).jpg_0.png\n",
      "Removed duplicate: Transformed_Datasets\\NOT_Auguste_Cropped_224\\extracted_face_1 (1728).jpg_0.png\n",
      "Removed duplicate: Transformed_Datasets\\NOT_Auguste_Cropped_224\\extracted_face_1 (1733).jpg_0.png\n",
      "Removed duplicate: Transformed_Datasets\\NOT_Auguste_Cropped_224\\extracted_face_1 (1737).jpg_0.png\n",
      "Removed duplicate: Transformed_Datasets\\NOT_Auguste_Cropped_224\\extracted_face_1 (1738).jpg_0.png\n",
      "Removed duplicate: Transformed_Datasets\\NOT_Auguste_Cropped_224\\extracted_face_1 (1739).jpg_0.png\n",
      "Removed duplicate: Transformed_Datasets\\NOT_Auguste_Cropped_224\\extracted_face_1 (1742).jpg_0.png\n",
      "Removed duplicate: Transformed_Datasets\\NOT_Auguste_Cropped_224\\extracted_face_1 (1751).jpg_0.png\n",
      "Removed duplicate: Transformed_Datasets\\NOT_Auguste_Cropped_224\\extracted_face_1 (1757).jpg_0.png\n",
      "Removed duplicate: Transformed_Datasets\\NOT_Auguste_Cropped_224\\extracted_face_1 (1757).jpg_1.png\n",
      "Removed duplicate: Transformed_Datasets\\NOT_Auguste_Cropped_224\\extracted_face_1 (1757).jpg_2.png\n",
      "Removed duplicate: Transformed_Datasets\\NOT_Auguste_Cropped_224\\extracted_face_1 (1757).jpg_3.png\n",
      "Removed duplicate: Transformed_Datasets\\NOT_Auguste_Cropped_224\\extracted_face_1 (1757).jpg_4.png\n",
      "Removed duplicate: Transformed_Datasets\\NOT_Auguste_Cropped_224\\extracted_face_1 (1763).jpg_0.png\n",
      "Removed duplicate: Transformed_Datasets\\NOT_Auguste_Cropped_224\\extracted_face_1 (1768).jpg_0.png\n",
      "Removed duplicate: Transformed_Datasets\\NOT_Auguste_Cropped_224\\extracted_face_1 (1769).jpg_0.png\n",
      "Removed duplicate: Transformed_Datasets\\NOT_Auguste_Cropped_224\\extracted_face_1 (177).jpg_0.png\n",
      "Removed duplicate: Transformed_Datasets\\NOT_Auguste_Cropped_224\\extracted_face_1 (1770).jpg_0.png\n",
      "Removed duplicate: Transformed_Datasets\\NOT_Auguste_Cropped_224\\extracted_face_1 (1773).jpg_0.png\n",
      "Removed duplicate: Transformed_Datasets\\NOT_Auguste_Cropped_224\\extracted_face_1 (1774).jpg_0.png\n",
      "Removed duplicate: Transformed_Datasets\\NOT_Auguste_Cropped_224\\extracted_face_1 (1777).jpg_0.png\n",
      "Removed duplicate: Transformed_Datasets\\NOT_Auguste_Cropped_224\\extracted_face_1 (1781).jpg_0.png\n",
      "Removed duplicate: Transformed_Datasets\\NOT_Auguste_Cropped_224\\extracted_face_1 (1783).jpg_0.png\n",
      "Removed duplicate: Transformed_Datasets\\NOT_Auguste_Cropped_224\\extracted_face_1 (1787).jpg_0.png\n",
      "Removed duplicate: Transformed_Datasets\\NOT_Auguste_Cropped_224\\extracted_face_1 (1789).jpg_0.png\n",
      "Removed duplicate: Transformed_Datasets\\NOT_Auguste_Cropped_224\\extracted_face_1 (1790).jpg_0.png\n",
      "Removed duplicate: Transformed_Datasets\\NOT_Auguste_Cropped_224\\extracted_face_1 (1794).jpg_0.png\n",
      "Removed duplicate: Transformed_Datasets\\NOT_Auguste_Cropped_224\\extracted_face_1 (1794).jpg_1.png\n",
      "Removed duplicate: Transformed_Datasets\\NOT_Auguste_Cropped_224\\extracted_face_1 (1795).jpg_0.png\n",
      "Removed duplicate: Transformed_Datasets\\NOT_Auguste_Cropped_224\\extracted_face_1 (1798).jpg_0.png\n",
      "Removed duplicate: Transformed_Datasets\\NOT_Auguste_Cropped_224\\extracted_face_1 (18).jpeg_0.png\n",
      "Removed duplicate: Transformed_Datasets\\NOT_Auguste_Cropped_224\\extracted_face_1 (180).jpg_0.png\n",
      "Removed duplicate: Transformed_Datasets\\NOT_Auguste_Cropped_224\\extracted_face_1 (1800).jpg_0.png\n",
      "Removed duplicate: Transformed_Datasets\\NOT_Auguste_Cropped_224\\extracted_face_1 (1801).jpg_0.png\n",
      "Removed duplicate: Transformed_Datasets\\NOT_Auguste_Cropped_224\\extracted_face_1 (1802).jpg_0.png\n",
      "Removed duplicate: Transformed_Datasets\\NOT_Auguste_Cropped_224\\extracted_face_1 (1804).jpg_0.png\n",
      "Removed duplicate: Transformed_Datasets\\NOT_Auguste_Cropped_224\\extracted_face_1 (1806).jpg_0.png\n",
      "Removed duplicate: Transformed_Datasets\\NOT_Auguste_Cropped_224\\extracted_face_1 (1807).jpg_0.png\n",
      "Removed duplicate: Transformed_Datasets\\NOT_Auguste_Cropped_224\\extracted_face_1 (1809).jpg_0.png\n",
      "Removed duplicate: Transformed_Datasets\\NOT_Auguste_Cropped_224\\extracted_face_1 (1810).jpg_0.png\n",
      "Removed duplicate: Transformed_Datasets\\NOT_Auguste_Cropped_224\\extracted_face_1 (1812).jpg_0.png\n",
      "Removed duplicate: Transformed_Datasets\\NOT_Auguste_Cropped_224\\extracted_face_1 (1813).jpg_0.png\n",
      "Removed duplicate: Transformed_Datasets\\NOT_Auguste_Cropped_224\\extracted_face_1 (1815).jpg_0.png\n",
      "Removed duplicate: Transformed_Datasets\\NOT_Auguste_Cropped_224\\extracted_face_1 (1816).jpg_0.png\n",
      "Removed duplicate: Transformed_Datasets\\NOT_Auguste_Cropped_224\\extracted_face_1 (1816).jpg_1.png\n",
      "Removed duplicate: Transformed_Datasets\\NOT_Auguste_Cropped_224\\extracted_face_1 (1817).jpg_0.png\n",
      "Removed duplicate: Transformed_Datasets\\NOT_Auguste_Cropped_224\\extracted_face_1 (1818).jpg_0.png\n",
      "Removed duplicate: Transformed_Datasets\\NOT_Auguste_Cropped_224\\extracted_face_1 (1819).jpg_0.png\n",
      "Removed duplicate: Transformed_Datasets\\NOT_Auguste_Cropped_224\\extracted_face_1 (182).jpg_0.png\n",
      "Removed duplicate: Transformed_Datasets\\NOT_Auguste_Cropped_224\\extracted_face_1 (1820).jpg_0.png\n",
      "Removed duplicate: Transformed_Datasets\\NOT_Auguste_Cropped_224\\extracted_face_1 (1822).jpg_0.png\n",
      "Removed duplicate: Transformed_Datasets\\NOT_Auguste_Cropped_224\\extracted_face_1 (1824).jpg_0.png\n",
      "Removed duplicate: Transformed_Datasets\\NOT_Auguste_Cropped_224\\extracted_face_1 (1826).jpg_0.png\n",
      "Removed duplicate: Transformed_Datasets\\NOT_Auguste_Cropped_224\\extracted_face_1 (1828).jpg_0.png\n",
      "Removed duplicate: Transformed_Datasets\\NOT_Auguste_Cropped_224\\extracted_face_1 (183).jpg_0.png\n",
      "Removed duplicate: Transformed_Datasets\\NOT_Auguste_Cropped_224\\extracted_face_1 (1832).jpg_0.png\n",
      "Removed duplicate: Transformed_Datasets\\NOT_Auguste_Cropped_224\\extracted_face_1 (1834).jpg_0.png\n",
      "Removed duplicate: Transformed_Datasets\\NOT_Auguste_Cropped_224\\extracted_face_1 (1835).jpg_0.png\n",
      "Removed duplicate: Transformed_Datasets\\NOT_Auguste_Cropped_224\\extracted_face_1 (1837).jpg_0.png\n",
      "Removed duplicate: Transformed_Datasets\\NOT_Auguste_Cropped_224\\extracted_face_1 (1838).jpg_0.png\n",
      "Removed duplicate: Transformed_Datasets\\NOT_Auguste_Cropped_224\\extracted_face_1 (1839).jpg_0.png\n",
      "Removed duplicate: Transformed_Datasets\\NOT_Auguste_Cropped_224\\extracted_face_1 (184).jpg_0.png\n",
      "Removed duplicate: Transformed_Datasets\\NOT_Auguste_Cropped_224\\extracted_face_1 (1840).jpg_0.png\n",
      "Removed duplicate: Transformed_Datasets\\NOT_Auguste_Cropped_224\\extracted_face_1 (1844).jpg_0.png\n",
      "Removed duplicate: Transformed_Datasets\\NOT_Auguste_Cropped_224\\extracted_face_1 (1845).jpg_0.png\n",
      "Removed duplicate: Transformed_Datasets\\NOT_Auguste_Cropped_224\\extracted_face_1 (185).jpg_0.png\n",
      "Removed duplicate: Transformed_Datasets\\NOT_Auguste_Cropped_224\\extracted_face_1 (1850).jpg_0.png\n",
      "Removed duplicate: Transformed_Datasets\\NOT_Auguste_Cropped_224\\extracted_face_1 (1857).jpg_0.png\n",
      "Removed duplicate: Transformed_Datasets\\NOT_Auguste_Cropped_224\\extracted_face_1 (187).JPG_0.png\n",
      "Removed duplicate: Transformed_Datasets\\NOT_Auguste_Cropped_224\\extracted_face_1 (1877).jpg_0.png\n",
      "Removed duplicate: Transformed_Datasets\\NOT_Auguste_Cropped_224\\extracted_face_1 (1879).jpg_0.png\n",
      "Removed duplicate: Transformed_Datasets\\NOT_Auguste_Cropped_224\\extracted_face_1 (1883).jpg_0.png\n",
      "Removed duplicate: Transformed_Datasets\\NOT_Auguste_Cropped_224\\extracted_face_1 (1884).jpg_0.png\n",
      "Removed duplicate: Transformed_Datasets\\NOT_Auguste_Cropped_224\\extracted_face_1 (1885).jpg_0.png\n",
      "Removed duplicate: Transformed_Datasets\\NOT_Auguste_Cropped_224\\extracted_face_1 (1888).jpg_0.png\n",
      "Removed duplicate: Transformed_Datasets\\NOT_Auguste_Cropped_224\\extracted_face_1 (1889).jpg_0.png\n",
      "Removed duplicate: Transformed_Datasets\\NOT_Auguste_Cropped_224\\extracted_face_1 (189).jpg_0.png\n",
      "Removed duplicate: Transformed_Datasets\\NOT_Auguste_Cropped_224\\extracted_face_1 (1890).jpg_0.png\n",
      "Removed duplicate: Transformed_Datasets\\NOT_Auguste_Cropped_224\\extracted_face_1 (1892).jpg_0.png\n",
      "Removed duplicate: Transformed_Datasets\\NOT_Auguste_Cropped_224\\extracted_face_1 (1894).jpg_0.png\n",
      "Removed duplicate: Transformed_Datasets\\NOT_Auguste_Cropped_224\\extracted_face_1 (1895).jpg_0.png\n",
      "Removed duplicate: Transformed_Datasets\\NOT_Auguste_Cropped_224\\extracted_face_1 (1896).jpg_0.png\n",
      "Removed duplicate: Transformed_Datasets\\NOT_Auguste_Cropped_224\\extracted_face_1 (1898).jpg_0.png\n",
      "Removed duplicate: Transformed_Datasets\\NOT_Auguste_Cropped_224\\extracted_face_1 (19).jpeg_0.png\n",
      "Removed duplicate: Transformed_Datasets\\NOT_Auguste_Cropped_224\\extracted_face_1 (19).jpg_0.png\n",
      "Removed duplicate: Transformed_Datasets\\NOT_Auguste_Cropped_224\\extracted_face_1 (190).jpg_0.png\n",
      "Removed duplicate: Transformed_Datasets\\NOT_Auguste_Cropped_224\\extracted_face_1 (1900).jpg_0.png\n",
      "Removed duplicate: Transformed_Datasets\\NOT_Auguste_Cropped_224\\extracted_face_1 (1904).jpg_0.png\n",
      "Removed duplicate: Transformed_Datasets\\NOT_Auguste_Cropped_224\\extracted_face_1 (1906).jpg_0.png\n",
      "Removed duplicate: Transformed_Datasets\\NOT_Auguste_Cropped_224\\extracted_face_1 (1910).jpg_0.png\n",
      "Removed duplicate: Transformed_Datasets\\NOT_Auguste_Cropped_224\\extracted_face_1 (1914).jpg_0.png\n",
      "Removed duplicate: Transformed_Datasets\\NOT_Auguste_Cropped_224\\extracted_face_1 (1916).jpg_0.png\n",
      "Removed duplicate: Transformed_Datasets\\NOT_Auguste_Cropped_224\\extracted_face_1 (1917).jpg_0.png\n",
      "Removed duplicate: Transformed_Datasets\\NOT_Auguste_Cropped_224\\extracted_face_1 (1917).jpg_1.png\n",
      "Removed duplicate: Transformed_Datasets\\NOT_Auguste_Cropped_224\\extracted_face_1 (1919).jpg_0.png\n",
      "Removed duplicate: Transformed_Datasets\\NOT_Auguste_Cropped_224\\extracted_face_1 (192).jpg_0.png\n",
      "Removed duplicate: Transformed_Datasets\\NOT_Auguste_Cropped_224\\extracted_face_1 (1922).jpg_0.png\n",
      "Removed duplicate: Transformed_Datasets\\NOT_Auguste_Cropped_224\\extracted_face_1 (1923).jpg_0.png\n",
      "Removed duplicate: Transformed_Datasets\\NOT_Auguste_Cropped_224\\extracted_face_1 (1925).jpg_0.png\n",
      "Removed duplicate: Transformed_Datasets\\NOT_Auguste_Cropped_224\\extracted_face_1 (1926).jpg_0.png\n",
      "Removed duplicate: Transformed_Datasets\\NOT_Auguste_Cropped_224\\extracted_face_1 (1927).jpg_0.png\n",
      "Removed duplicate: Transformed_Datasets\\NOT_Auguste_Cropped_224\\extracted_face_1 (1928).jpg_0.png\n",
      "Removed duplicate: Transformed_Datasets\\NOT_Auguste_Cropped_224\\extracted_face_1 (1929).jpg_0.png\n",
      "Removed duplicate: Transformed_Datasets\\NOT_Auguste_Cropped_224\\extracted_face_1 (1931).jpg_0.png\n",
      "Removed duplicate: Transformed_Datasets\\NOT_Auguste_Cropped_224\\extracted_face_1 (1933).jpg_0.png\n",
      "Removed duplicate: Transformed_Datasets\\NOT_Auguste_Cropped_224\\extracted_face_1 (1934).jpg_0.png\n",
      "Removed duplicate: Transformed_Datasets\\NOT_Auguste_Cropped_224\\extracted_face_1 (1937).jpg_0.png\n",
      "Removed duplicate: Transformed_Datasets\\NOT_Auguste_Cropped_224\\extracted_face_1 (1938).jpg_0.png\n",
      "Removed duplicate: Transformed_Datasets\\NOT_Auguste_Cropped_224\\extracted_face_1 (1939).jpg_0.png\n",
      "Removed duplicate: Transformed_Datasets\\NOT_Auguste_Cropped_224\\extracted_face_1 (194).jpg_0.png\n",
      "Removed duplicate: Transformed_Datasets\\NOT_Auguste_Cropped_224\\extracted_face_1 (1940).jpg_0.png\n",
      "Removed duplicate: Transformed_Datasets\\NOT_Auguste_Cropped_224\\extracted_face_1 (1943).jpg_0.png\n",
      "Removed duplicate: Transformed_Datasets\\NOT_Auguste_Cropped_224\\extracted_face_1 (1944).jpg_0.png\n",
      "Removed duplicate: Transformed_Datasets\\NOT_Auguste_Cropped_224\\extracted_face_1 (1946).jpg_0.png\n",
      "Removed duplicate: Transformed_Datasets\\NOT_Auguste_Cropped_224\\extracted_face_1 (1948).jpg_0.png\n",
      "Removed duplicate: Transformed_Datasets\\NOT_Auguste_Cropped_224\\extracted_face_1 (1949).jpg_0.png\n",
      "Removed duplicate: Transformed_Datasets\\NOT_Auguste_Cropped_224\\extracted_face_1 (195).jpg_0.png\n",
      "Removed duplicate: Transformed_Datasets\\NOT_Auguste_Cropped_224\\extracted_face_1 (1951).jpg_0.png\n",
      "Removed duplicate: Transformed_Datasets\\NOT_Auguste_Cropped_224\\extracted_face_1 (1953).jpg_0.png\n",
      "Removed duplicate: Transformed_Datasets\\NOT_Auguste_Cropped_224\\extracted_face_1 (1954).jpg_0.png\n",
      "Removed duplicate: Transformed_Datasets\\NOT_Auguste_Cropped_224\\extracted_face_1 (1956).jpg_0.png\n",
      "Removed duplicate: Transformed_Datasets\\NOT_Auguste_Cropped_224\\extracted_face_1 (1959).jpg_0.png\n",
      "Removed duplicate: Transformed_Datasets\\NOT_Auguste_Cropped_224\\extracted_face_1 (196).jpg_0.png\n",
      "Removed duplicate: Transformed_Datasets\\NOT_Auguste_Cropped_224\\extracted_face_1 (1960).jpg_0.png\n",
      "Removed duplicate: Transformed_Datasets\\NOT_Auguste_Cropped_224\\extracted_face_1 (1961).jpg_0.png\n",
      "Removed duplicate: Transformed_Datasets\\NOT_Auguste_Cropped_224\\extracted_face_1 (1962).jpg_0.png\n",
      "Removed duplicate: Transformed_Datasets\\NOT_Auguste_Cropped_224\\extracted_face_1 (1966).jpg_0.png\n",
      "Removed duplicate: Transformed_Datasets\\NOT_Auguste_Cropped_224\\extracted_face_1 (1967).jpg_0.png\n",
      "Removed duplicate: Transformed_Datasets\\NOT_Auguste_Cropped_224\\extracted_face_1 (1968).jpg_0.png\n",
      "Removed duplicate: Transformed_Datasets\\NOT_Auguste_Cropped_224\\extracted_face_1 (1970).jpg_0.png\n",
      "Removed duplicate: Transformed_Datasets\\NOT_Auguste_Cropped_224\\extracted_face_1 (1972).jpg_0.png\n",
      "Removed duplicate: Transformed_Datasets\\NOT_Auguste_Cropped_224\\extracted_face_1 (1973).jpg_0.png\n",
      "Removed duplicate: Transformed_Datasets\\NOT_Auguste_Cropped_224\\extracted_face_1 (1975).jpg_0.png\n",
      "Removed duplicate: Transformed_Datasets\\NOT_Auguste_Cropped_224\\extracted_face_1 (1976).jpg_0.png\n",
      "Removed duplicate: Transformed_Datasets\\NOT_Auguste_Cropped_224\\extracted_face_1 (1978).jpg_0.png\n",
      "Removed duplicate: Transformed_Datasets\\NOT_Auguste_Cropped_224\\extracted_face_1 (1979).jpg_0.png\n",
      "Removed duplicate: Transformed_Datasets\\NOT_Auguste_Cropped_224\\extracted_face_1 (198).jpg_0.png\n",
      "Removed duplicate: Transformed_Datasets\\NOT_Auguste_Cropped_224\\extracted_face_1 (1981).jpg_0.png\n",
      "Removed duplicate: Transformed_Datasets\\NOT_Auguste_Cropped_224\\extracted_face_1 (1982).jpg_0.png\n",
      "Removed duplicate: Transformed_Datasets\\NOT_Auguste_Cropped_224\\extracted_face_1 (1985).jpg_0.png\n",
      "Removed duplicate: Transformed_Datasets\\NOT_Auguste_Cropped_224\\extracted_face_1 (1987).jpg_0.png\n",
      "Removed duplicate: Transformed_Datasets\\NOT_Auguste_Cropped_224\\extracted_face_1 (1988).jpg_0.png\n",
      "Removed duplicate: Transformed_Datasets\\NOT_Auguste_Cropped_224\\extracted_face_1 (1989).jpg_0.png\n",
      "Removed duplicate: Transformed_Datasets\\NOT_Auguste_Cropped_224\\extracted_face_1 (199).jpg_0.png\n",
      "Removed duplicate: Transformed_Datasets\\NOT_Auguste_Cropped_224\\extracted_face_1 (1991).jpg_0.png\n",
      "Removed duplicate: Transformed_Datasets\\NOT_Auguste_Cropped_224\\extracted_face_1 (1995).jpg_0.png\n",
      "Removed duplicate: Transformed_Datasets\\NOT_Auguste_Cropped_224\\extracted_face_1 (1997).jpg_0.png\n",
      "Removed duplicate: Transformed_Datasets\\NOT_Auguste_Cropped_224\\extracted_face_1 (1997).jpg_1.png\n",
      "Removed duplicate: Transformed_Datasets\\NOT_Auguste_Cropped_224\\extracted_face_1 (1999).jpg_0.png\n",
      "Removed duplicate: Transformed_Datasets\\NOT_Auguste_Cropped_224\\extracted_face_1 (2).jpeg_0.png\n",
      "Removed duplicate: Transformed_Datasets\\NOT_Auguste_Cropped_224\\extracted_face_1 (2).jpg_0.png\n",
      "Removed duplicate: Transformed_Datasets\\NOT_Auguste_Cropped_224\\extracted_face_1 (20).jpeg_0.png\n",
      "Removed duplicate: Transformed_Datasets\\NOT_Auguste_Cropped_224\\extracted_face_1 (20).jpg_0.png\n",
      "Removed duplicate: Transformed_Datasets\\NOT_Auguste_Cropped_224\\extracted_face_1 (20).png_0.png\n",
      "Removed duplicate: Transformed_Datasets\\NOT_Auguste_Cropped_224\\extracted_face_1 (200).jpg_0.png\n",
      "Removed duplicate: Transformed_Datasets\\NOT_Auguste_Cropped_224\\extracted_face_1 (2001).jpg_0.png\n",
      "Removed duplicate: Transformed_Datasets\\NOT_Auguste_Cropped_224\\extracted_face_1 (2006).jpg_0.png\n",
      "Removed duplicate: Transformed_Datasets\\NOT_Auguste_Cropped_224\\extracted_face_1 (201).jpg_0.png\n",
      "Removed duplicate: Transformed_Datasets\\NOT_Auguste_Cropped_224\\extracted_face_1 (2010).jpg_0.png\n",
      "Removed duplicate: Transformed_Datasets\\NOT_Auguste_Cropped_224\\extracted_face_1 (2012).jpg_0.png\n",
      "Removed duplicate: Transformed_Datasets\\NOT_Auguste_Cropped_224\\extracted_face_1 (2014).jpg_0.png\n",
      "Removed duplicate: Transformed_Datasets\\NOT_Auguste_Cropped_224\\extracted_face_1 (2014).jpg_1.png\n",
      "Removed duplicate: Transformed_Datasets\\NOT_Auguste_Cropped_224\\extracted_face_1 (2016).jpg_0.png\n",
      "Removed duplicate: Transformed_Datasets\\NOT_Auguste_Cropped_224\\extracted_face_1 (2017).jpg_0.png\n",
      "Removed duplicate: Transformed_Datasets\\NOT_Auguste_Cropped_224\\extracted_face_1 (2022).jpg_0.png\n",
      "Removed duplicate: Transformed_Datasets\\NOT_Auguste_Cropped_224\\extracted_face_1 (2023).jpg_0.png\n",
      "Removed duplicate: Transformed_Datasets\\NOT_Auguste_Cropped_224\\extracted_face_1 (2023).jpg_1.png\n",
      "Removed duplicate: Transformed_Datasets\\NOT_Auguste_Cropped_224\\extracted_face_1 (2027).jpg_0.png\n",
      "Removed duplicate: Transformed_Datasets\\NOT_Auguste_Cropped_224\\extracted_face_1 (2029).jpg_0.png\n",
      "Removed duplicate: Transformed_Datasets\\NOT_Auguste_Cropped_224\\extracted_face_1 (203).jpg_0.png\n",
      "Removed duplicate: Transformed_Datasets\\NOT_Auguste_Cropped_224\\extracted_face_1 (2033).jpg_0.png\n",
      "Removed duplicate: Transformed_Datasets\\NOT_Auguste_Cropped_224\\extracted_face_1 (2034).jpg_0.png\n",
      "Removed duplicate: Transformed_Datasets\\NOT_Auguste_Cropped_224\\extracted_face_1 (2035).jpg_0.png\n",
      "Removed duplicate: Transformed_Datasets\\NOT_Auguste_Cropped_224\\extracted_face_1 (2036).jpg_0.png\n",
      "Removed duplicate: Transformed_Datasets\\NOT_Auguste_Cropped_224\\extracted_face_1 (2041).jpg_0.png\n",
      "Removed duplicate: Transformed_Datasets\\NOT_Auguste_Cropped_224\\extracted_face_1 (205).jpg_0.png\n",
      "Removed duplicate: Transformed_Datasets\\NOT_Auguste_Cropped_224\\extracted_face_1 (2050).jpg_0.png\n",
      "Removed duplicate: Transformed_Datasets\\NOT_Auguste_Cropped_224\\extracted_face_1 (2054).jpg_0.png\n",
      "Removed duplicate: Transformed_Datasets\\NOT_Auguste_Cropped_224\\extracted_face_1 (2055).jpg_0.png\n",
      "Removed duplicate: Transformed_Datasets\\NOT_Auguste_Cropped_224\\extracted_face_1 (2058).jpg_0.png\n",
      "Removed duplicate: Transformed_Datasets\\NOT_Auguste_Cropped_224\\extracted_face_1 (206).jpg_0.png\n",
      "Removed duplicate: Transformed_Datasets\\NOT_Auguste_Cropped_224\\extracted_face_1 (2060).jpg_0.png\n",
      "Removed duplicate: Transformed_Datasets\\NOT_Auguste_Cropped_224\\extracted_face_1 (2064).jpg_0.png\n",
      "Removed duplicate: Transformed_Datasets\\NOT_Auguste_Cropped_224\\extracted_face_1 (2066).jpg_0.png\n",
      "Removed duplicate: Transformed_Datasets\\NOT_Auguste_Cropped_224\\extracted_face_1 (2068).jpg_0.png\n",
      "Removed duplicate: Transformed_Datasets\\NOT_Auguste_Cropped_224\\extracted_face_1 (207).jpg_0.png\n",
      "Removed duplicate: Transformed_Datasets\\NOT_Auguste_Cropped_224\\extracted_face_1 (2071).jpg_0.png\n",
      "Removed duplicate: Transformed_Datasets\\NOT_Auguste_Cropped_224\\extracted_face_1 (2072).jpg_0.png\n",
      "Removed duplicate: Transformed_Datasets\\NOT_Auguste_Cropped_224\\extracted_face_1 (2073).jpg_0.png\n",
      "Removed duplicate: Transformed_Datasets\\NOT_Auguste_Cropped_224\\extracted_face_1 (2078).jpg_0.png\n",
      "Removed duplicate: Transformed_Datasets\\NOT_Auguste_Cropped_224\\extracted_face_1 (2079).jpg_0.png\n",
      "Removed duplicate: Transformed_Datasets\\NOT_Auguste_Cropped_224\\extracted_face_1 (208).jpg_0.png\n",
      "Removed duplicate: Transformed_Datasets\\NOT_Auguste_Cropped_224\\extracted_face_1 (2082).jpg_0.png\n",
      "Removed duplicate: Transformed_Datasets\\NOT_Auguste_Cropped_224\\extracted_face_1 (2083).jpg_0.png\n",
      "Removed duplicate: Transformed_Datasets\\NOT_Auguste_Cropped_224\\extracted_face_1 (2085).jpg_0.png\n",
      "Removed duplicate: Transformed_Datasets\\NOT_Auguste_Cropped_224\\extracted_face_1 (2089).jpg_0.png\n",
      "Removed duplicate: Transformed_Datasets\\NOT_Auguste_Cropped_224\\extracted_face_1 (209).jpg_0.png\n",
      "Removed duplicate: Transformed_Datasets\\NOT_Auguste_Cropped_224\\extracted_face_1 (2090).jpg_0.png\n",
      "Removed duplicate: Transformed_Datasets\\NOT_Auguste_Cropped_224\\extracted_face_1 (2091).jpg_0.png\n",
      "Removed duplicate: Transformed_Datasets\\NOT_Auguste_Cropped_224\\extracted_face_1 (2095).jpg_0.png\n",
      "Removed duplicate: Transformed_Datasets\\NOT_Auguste_Cropped_224\\extracted_face_1 (2096).jpg_0.png\n",
      "Removed duplicate: Transformed_Datasets\\NOT_Auguste_Cropped_224\\extracted_face_1 (2097).jpg_0.png\n",
      "Removed duplicate: Transformed_Datasets\\NOT_Auguste_Cropped_224\\extracted_face_1 (2098).jpg_0.png\n",
      "Removed duplicate: Transformed_Datasets\\NOT_Auguste_Cropped_224\\extracted_face_1 (21).jpeg_0.png\n",
      "Removed duplicate: Transformed_Datasets\\NOT_Auguste_Cropped_224\\extracted_face_1 (21).jpg_0.png\n",
      "Removed duplicate: Transformed_Datasets\\NOT_Auguste_Cropped_224\\extracted_face_1 (21).png_0.png\n",
      "Removed duplicate: Transformed_Datasets\\NOT_Auguste_Cropped_224\\extracted_face_1 (210).jpg_0.png\n",
      "Removed duplicate: Transformed_Datasets\\NOT_Auguste_Cropped_224\\extracted_face_1 (2101).jpg_0.png\n",
      "Removed duplicate: Transformed_Datasets\\NOT_Auguste_Cropped_224\\extracted_face_1 (2103).jpg_0.png\n",
      "Removed duplicate: Transformed_Datasets\\NOT_Auguste_Cropped_224\\extracted_face_1 (2106).jpg_0.png\n",
      "Removed duplicate: Transformed_Datasets\\NOT_Auguste_Cropped_224\\extracted_face_1 (2107).jpg_0.png\n",
      "Removed duplicate: Transformed_Datasets\\NOT_Auguste_Cropped_224\\extracted_face_1 (2108).jpg_0.png\n",
      "Removed duplicate: Transformed_Datasets\\NOT_Auguste_Cropped_224\\extracted_face_1 (211).jpg_0.png\n",
      "Removed duplicate: Transformed_Datasets\\NOT_Auguste_Cropped_224\\extracted_face_1 (2110).jpg_0.png\n",
      "Removed duplicate: Transformed_Datasets\\NOT_Auguste_Cropped_224\\extracted_face_1 (2112).jpg_0.png\n",
      "Removed duplicate: Transformed_Datasets\\NOT_Auguste_Cropped_224\\extracted_face_1 (2114).jpg_0.png\n",
      "Removed duplicate: Transformed_Datasets\\NOT_Auguste_Cropped_224\\extracted_face_1 (2116).jpg_0.png\n",
      "Removed duplicate: Transformed_Datasets\\NOT_Auguste_Cropped_224\\extracted_face_1 (2118).jpg_0.png\n",
      "Removed duplicate: Transformed_Datasets\\NOT_Auguste_Cropped_224\\extracted_face_1 (2119).jpg_0.png\n",
      "Removed duplicate: Transformed_Datasets\\NOT_Auguste_Cropped_224\\extracted_face_1 (212).jpg_0.png\n",
      "Removed duplicate: Transformed_Datasets\\NOT_Auguste_Cropped_224\\extracted_face_1 (2120).jpg_0.png\n",
      "Removed duplicate: Transformed_Datasets\\NOT_Auguste_Cropped_224\\extracted_face_1 (2122).jpg_0.png\n",
      "Removed duplicate: Transformed_Datasets\\NOT_Auguste_Cropped_224\\extracted_face_1 (2124).jpg_0.png\n",
      "Removed duplicate: Transformed_Datasets\\NOT_Auguste_Cropped_224\\extracted_face_1 (2126).jpg_0.png\n",
      "Removed duplicate: Transformed_Datasets\\NOT_Auguste_Cropped_224\\extracted_face_1 (213).jpg_0.png\n",
      "Removed duplicate: Transformed_Datasets\\NOT_Auguste_Cropped_224\\extracted_face_1 (2130).jpg_0.png\n",
      "Removed duplicate: Transformed_Datasets\\NOT_Auguste_Cropped_224\\extracted_face_1 (2131).jpg_0.png\n",
      "Removed duplicate: Transformed_Datasets\\NOT_Auguste_Cropped_224\\extracted_face_1 (2133).jpg_0.png\n",
      "Removed duplicate: Transformed_Datasets\\NOT_Auguste_Cropped_224\\extracted_face_1 (2134).jpg_0.png\n",
      "Removed duplicate: Transformed_Datasets\\NOT_Auguste_Cropped_224\\extracted_face_1 (2135).jpg_0.png\n",
      "Removed duplicate: Transformed_Datasets\\NOT_Auguste_Cropped_224\\extracted_face_1 (2136).jpg_0.png\n",
      "Removed duplicate: Transformed_Datasets\\NOT_Auguste_Cropped_224\\extracted_face_1 (2137).jpg_0.png\n",
      "Removed duplicate: Transformed_Datasets\\NOT_Auguste_Cropped_224\\extracted_face_1 (2139).jpg_0.png\n",
      "Removed duplicate: Transformed_Datasets\\NOT_Auguste_Cropped_224\\extracted_face_1 (214).jpg_0.png\n",
      "Removed duplicate: Transformed_Datasets\\NOT_Auguste_Cropped_224\\extracted_face_1 (2140).jpg_0.png\n",
      "Removed duplicate: Transformed_Datasets\\NOT_Auguste_Cropped_224\\extracted_face_1 (2141).jpg_0.png\n",
      "Removed duplicate: Transformed_Datasets\\NOT_Auguste_Cropped_224\\extracted_face_1 (2142).jpg_0.png\n",
      "Removed duplicate: Transformed_Datasets\\NOT_Auguste_Cropped_224\\extracted_face_1 (2143).jpg_0.png\n",
      "Removed duplicate: Transformed_Datasets\\NOT_Auguste_Cropped_224\\extracted_face_1 (2146).jpg_0.png\n",
      "Removed duplicate: Transformed_Datasets\\NOT_Auguste_Cropped_224\\extracted_face_1 (2147).jpg_0.png\n",
      "Removed duplicate: Transformed_Datasets\\NOT_Auguste_Cropped_224\\extracted_face_1 (2148).jpg_0.png\n",
      "Removed duplicate: Transformed_Datasets\\NOT_Auguste_Cropped_224\\extracted_face_1 (2149).jpg_0.png\n",
      "Removed duplicate: Transformed_Datasets\\NOT_Auguste_Cropped_224\\extracted_face_1 (215).jpg_0.png\n",
      "Removed duplicate: Transformed_Datasets\\NOT_Auguste_Cropped_224\\extracted_face_1 (2150).jpg_0.png\n",
      "Removed duplicate: Transformed_Datasets\\NOT_Auguste_Cropped_224\\extracted_face_1 (2151).jpg_0.png\n",
      "Removed duplicate: Transformed_Datasets\\NOT_Auguste_Cropped_224\\extracted_face_1 (2152).jpg_0.png\n",
      "Removed duplicate: Transformed_Datasets\\NOT_Auguste_Cropped_224\\extracted_face_1 (2153).jpg_0.png\n",
      "Removed duplicate: Transformed_Datasets\\NOT_Auguste_Cropped_224\\extracted_face_1 (2154).jpg_0.png\n",
      "Removed duplicate: Transformed_Datasets\\NOT_Auguste_Cropped_224\\extracted_face_1 (2155).jpg_0.png\n",
      "Removed duplicate: Transformed_Datasets\\NOT_Auguste_Cropped_224\\extracted_face_1 (2156).jpg_0.png\n",
      "Removed duplicate: Transformed_Datasets\\NOT_Auguste_Cropped_224\\extracted_face_1 (2157).jpg_0.png\n",
      "Removed duplicate: Transformed_Datasets\\NOT_Auguste_Cropped_224\\extracted_face_1 (2158).JPG_0.png\n",
      "Removed duplicate: Transformed_Datasets\\NOT_Auguste_Cropped_224\\extracted_face_1 (2159).jpg_0.png\n",
      "Removed duplicate: Transformed_Datasets\\NOT_Auguste_Cropped_224\\extracted_face_1 (2160).jpg_0.png\n",
      "Removed duplicate: Transformed_Datasets\\NOT_Auguste_Cropped_224\\extracted_face_1 (2161).jpg_0.png\n",
      "Removed duplicate: Transformed_Datasets\\NOT_Auguste_Cropped_224\\extracted_face_1 (2163).jpg_0.png\n",
      "Removed duplicate: Transformed_Datasets\\NOT_Auguste_Cropped_224\\extracted_face_1 (2164).jpg_0.png\n",
      "Removed duplicate: Transformed_Datasets\\NOT_Auguste_Cropped_224\\extracted_face_1 (2165).jpg_0.png\n",
      "Removed duplicate: Transformed_Datasets\\NOT_Auguste_Cropped_224\\extracted_face_1 (2167).jpg_0.png\n",
      "Removed duplicate: Transformed_Datasets\\NOT_Auguste_Cropped_224\\extracted_face_1 (2169).jpg_0.png\n",
      "Removed duplicate: Transformed_Datasets\\NOT_Auguste_Cropped_224\\extracted_face_1 (217).jpg_0.png\n",
      "Removed duplicate: Transformed_Datasets\\NOT_Auguste_Cropped_224\\extracted_face_1 (2170).jpg_0.png\n",
      "Removed duplicate: Transformed_Datasets\\NOT_Auguste_Cropped_224\\extracted_face_1 (2171).jpg_0.png\n",
      "Removed duplicate: Transformed_Datasets\\NOT_Auguste_Cropped_224\\extracted_face_1 (2172).jpg_0.png\n",
      "Removed duplicate: Transformed_Datasets\\NOT_Auguste_Cropped_224\\extracted_face_1 (2173).jpg_0.png\n",
      "Removed duplicate: Transformed_Datasets\\NOT_Auguste_Cropped_224\\extracted_face_1 (2174).jpg_0.png\n",
      "Removed duplicate: Transformed_Datasets\\NOT_Auguste_Cropped_224\\extracted_face_1 (2175).jpg_0.png\n",
      "Removed duplicate: Transformed_Datasets\\NOT_Auguste_Cropped_224\\extracted_face_1 (2176).jpg_0.png\n",
      "Removed duplicate: Transformed_Datasets\\NOT_Auguste_Cropped_224\\extracted_face_1 (2177).jpg_0.png\n",
      "Removed duplicate: Transformed_Datasets\\NOT_Auguste_Cropped_224\\extracted_face_1 (2178).jpg_0.png\n",
      "Removed duplicate: Transformed_Datasets\\NOT_Auguste_Cropped_224\\extracted_face_1 (2179).jpg_0.png\n",
      "Removed duplicate: Transformed_Datasets\\NOT_Auguste_Cropped_224\\extracted_face_1 (2180).jpg_0.png\n",
      "Removed duplicate: Transformed_Datasets\\NOT_Auguste_Cropped_224\\extracted_face_1 (2181).jpg_0.png\n",
      "Removed duplicate: Transformed_Datasets\\NOT_Auguste_Cropped_224\\extracted_face_1 (2183).jpg_0.png\n",
      "Removed duplicate: Transformed_Datasets\\NOT_Auguste_Cropped_224\\extracted_face_1 (2184).jpg_0.png\n",
      "Removed duplicate: Transformed_Datasets\\NOT_Auguste_Cropped_224\\extracted_face_1 (2185).jpg_0.png\n",
      "Removed duplicate: Transformed_Datasets\\NOT_Auguste_Cropped_224\\extracted_face_1 (2186).jpg_0.png\n",
      "Removed duplicate: Transformed_Datasets\\NOT_Auguste_Cropped_224\\extracted_face_1 (2187).jpg_0.png\n",
      "Removed duplicate: Transformed_Datasets\\NOT_Auguste_Cropped_224\\extracted_face_1 (2188).jpg_0.png\n",
      "Removed duplicate: Transformed_Datasets\\NOT_Auguste_Cropped_224\\extracted_face_1 (2189).jpg_0.png\n",
      "Removed duplicate: Transformed_Datasets\\NOT_Auguste_Cropped_224\\extracted_face_1 (219).jpg_0.png\n",
      "Removed duplicate: Transformed_Datasets\\NOT_Auguste_Cropped_224\\extracted_face_1 (2190).jpg_0.png\n",
      "Removed duplicate: Transformed_Datasets\\NOT_Auguste_Cropped_224\\extracted_face_1 (2190).jpg_1.png\n",
      "Removed duplicate: Transformed_Datasets\\NOT_Auguste_Cropped_224\\extracted_face_1 (2191).jpg_0.png\n",
      "Removed duplicate: Transformed_Datasets\\NOT_Auguste_Cropped_224\\extracted_face_1 (2193).jpg_0.png\n",
      "Removed duplicate: Transformed_Datasets\\NOT_Auguste_Cropped_224\\extracted_face_1 (2194).jpg_0.png\n",
      "Removed duplicate: Transformed_Datasets\\NOT_Auguste_Cropped_224\\extracted_face_1 (2195).jpg_0.png\n",
      "Removed duplicate: Transformed_Datasets\\NOT_Auguste_Cropped_224\\extracted_face_1 (2196).jpg_0.png\n",
      "Removed duplicate: Transformed_Datasets\\NOT_Auguste_Cropped_224\\extracted_face_1 (2197).jpg_0.png\n",
      "Removed duplicate: Transformed_Datasets\\NOT_Auguste_Cropped_224\\extracted_face_1 (2199).jpg_0.png\n",
      "Removed duplicate: Transformed_Datasets\\NOT_Auguste_Cropped_224\\extracted_face_1 (22).jpg_0.png\n",
      "Removed duplicate: Transformed_Datasets\\NOT_Auguste_Cropped_224\\extracted_face_1 (220).jpg_0.png\n",
      "Removed duplicate: Transformed_Datasets\\NOT_Auguste_Cropped_224\\extracted_face_1 (2200).jpg_0.png\n",
      "Removed duplicate: Transformed_Datasets\\NOT_Auguste_Cropped_224\\extracted_face_1 (2201).jpg_0.png\n",
      "Removed duplicate: Transformed_Datasets\\NOT_Auguste_Cropped_224\\extracted_face_1 (2202).jpg_0.png\n",
      "Removed duplicate: Transformed_Datasets\\NOT_Auguste_Cropped_224\\extracted_face_1 (2203).jpg_0.png\n",
      "Removed duplicate: Transformed_Datasets\\NOT_Auguste_Cropped_224\\extracted_face_1 (2203).jpg_1.png\n",
      "Removed duplicate: Transformed_Datasets\\NOT_Auguste_Cropped_224\\extracted_face_1 (2204).jpg_0.png\n",
      "Removed duplicate: Transformed_Datasets\\NOT_Auguste_Cropped_224\\extracted_face_1 (2206).jpg_0.png\n",
      "Removed duplicate: Transformed_Datasets\\NOT_Auguste_Cropped_224\\extracted_face_1 (2207).jpg_0.png\n",
      "Removed duplicate: Transformed_Datasets\\NOT_Auguste_Cropped_224\\extracted_face_1 (2208).jpg_0.png\n",
      "Removed duplicate: Transformed_Datasets\\NOT_Auguste_Cropped_224\\extracted_face_1 (2209).jpg_0.png\n",
      "Removed duplicate: Transformed_Datasets\\NOT_Auguste_Cropped_224\\extracted_face_1 (221).jpg_0.png\n",
      "Removed duplicate: Transformed_Datasets\\NOT_Auguste_Cropped_224\\extracted_face_1 (2210).jpg_0.png\n",
      "Removed duplicate: Transformed_Datasets\\NOT_Auguste_Cropped_224\\extracted_face_1 (2211).jpg_0.png\n",
      "Removed duplicate: Transformed_Datasets\\NOT_Auguste_Cropped_224\\extracted_face_1 (2212).jpg_0.png\n",
      "Removed duplicate: Transformed_Datasets\\NOT_Auguste_Cropped_224\\extracted_face_1 (2213).jpg_0.png\n",
      "Removed duplicate: Transformed_Datasets\\NOT_Auguste_Cropped_224\\extracted_face_1 (2214).jpg_0.png\n",
      "Removed duplicate: Transformed_Datasets\\NOT_Auguste_Cropped_224\\extracted_face_1 (2216).jpg_0.png\n",
      "Removed duplicate: Transformed_Datasets\\NOT_Auguste_Cropped_224\\extracted_face_1 (2217).jpg_0.png\n",
      "Removed duplicate: Transformed_Datasets\\NOT_Auguste_Cropped_224\\extracted_face_1 (2219).jpg_0.png\n",
      "Removed duplicate: Transformed_Datasets\\NOT_Auguste_Cropped_224\\extracted_face_1 (222).jpg_0.png\n",
      "Removed duplicate: Transformed_Datasets\\NOT_Auguste_Cropped_224\\extracted_face_1 (2220).jpg_0.png\n",
      "Removed duplicate: Transformed_Datasets\\NOT_Auguste_Cropped_224\\extracted_face_1 (2221).jpg_0.png\n",
      "Removed duplicate: Transformed_Datasets\\NOT_Auguste_Cropped_224\\extracted_face_1 (2222).jpg_0.png\n",
      "Removed duplicate: Transformed_Datasets\\NOT_Auguste_Cropped_224\\extracted_face_1 (2223).jpg_0.png\n",
      "Removed duplicate: Transformed_Datasets\\NOT_Auguste_Cropped_224\\extracted_face_1 (2224).jpg_0.png\n",
      "Removed duplicate: Transformed_Datasets\\NOT_Auguste_Cropped_224\\extracted_face_1 (2225).jpg_0.png\n",
      "Removed duplicate: Transformed_Datasets\\NOT_Auguste_Cropped_224\\extracted_face_1 (2226).jpg_0.png\n",
      "Removed duplicate: Transformed_Datasets\\NOT_Auguste_Cropped_224\\extracted_face_1 (2227).jpg_0.png\n",
      "Removed duplicate: Transformed_Datasets\\NOT_Auguste_Cropped_224\\extracted_face_1 (2228).jpg_0.png\n",
      "Removed duplicate: Transformed_Datasets\\NOT_Auguste_Cropped_224\\extracted_face_1 (2229).jpg_0.png\n",
      "Removed duplicate: Transformed_Datasets\\NOT_Auguste_Cropped_224\\extracted_face_1 (2231).jpg_0.png\n",
      "Removed duplicate: Transformed_Datasets\\NOT_Auguste_Cropped_224\\extracted_face_1 (2232).jpg_0.png\n",
      "Removed duplicate: Transformed_Datasets\\NOT_Auguste_Cropped_224\\extracted_face_1 (2234).jpg_0.png\n",
      "Removed duplicate: Transformed_Datasets\\NOT_Auguste_Cropped_224\\extracted_face_1 (2235).jpg_0.png\n",
      "Removed duplicate: Transformed_Datasets\\NOT_Auguste_Cropped_224\\extracted_face_1 (2237).jpg_0.png\n",
      "Removed duplicate: Transformed_Datasets\\NOT_Auguste_Cropped_224\\extracted_face_1 (2238).jpg_0.png\n",
      "Removed duplicate: Transformed_Datasets\\NOT_Auguste_Cropped_224\\extracted_face_1 (224).jpg_0.png\n",
      "Removed duplicate: Transformed_Datasets\\NOT_Auguste_Cropped_224\\extracted_face_1 (2240).jpg_0.png\n",
      "Removed duplicate: Transformed_Datasets\\NOT_Auguste_Cropped_224\\extracted_face_1 (2241).jpg_0.png\n",
      "Removed duplicate: Transformed_Datasets\\NOT_Auguste_Cropped_224\\extracted_face_1 (2242).jpg_0.png\n",
      "Removed duplicate: Transformed_Datasets\\NOT_Auguste_Cropped_224\\extracted_face_1 (2243).jpg_0.png\n",
      "Removed duplicate: Transformed_Datasets\\NOT_Auguste_Cropped_224\\extracted_face_1 (2244).jpg_0.png\n",
      "Removed duplicate: Transformed_Datasets\\NOT_Auguste_Cropped_224\\extracted_face_1 (2246).jpg_0.png\n",
      "Removed duplicate: Transformed_Datasets\\NOT_Auguste_Cropped_224\\extracted_face_1 (2247).jpg_0.png\n",
      "Removed duplicate: Transformed_Datasets\\NOT_Auguste_Cropped_224\\extracted_face_1 (2249).jpg_0.png\n",
      "Removed duplicate: Transformed_Datasets\\NOT_Auguste_Cropped_224\\extracted_face_1 (225).jpg_0.png\n",
      "Removed duplicate: Transformed_Datasets\\NOT_Auguste_Cropped_224\\extracted_face_1 (2250).jpg_0.png\n",
      "Removed duplicate: Transformed_Datasets\\NOT_Auguste_Cropped_224\\extracted_face_1 (2250).jpg_1.png\n",
      "Removed duplicate: Transformed_Datasets\\NOT_Auguste_Cropped_224\\extracted_face_1 (2252).jpg_0.png\n",
      "Removed duplicate: Transformed_Datasets\\NOT_Auguste_Cropped_224\\extracted_face_1 (2253).jpg_0.png\n",
      "Removed duplicate: Transformed_Datasets\\NOT_Auguste_Cropped_224\\extracted_face_1 (2254).jpg_0.png\n",
      "Removed duplicate: Transformed_Datasets\\NOT_Auguste_Cropped_224\\extracted_face_1 (2255).jpg_0.png\n",
      "Removed duplicate: Transformed_Datasets\\NOT_Auguste_Cropped_224\\extracted_face_1 (2258).jpg_0.png\n",
      "Removed duplicate: Transformed_Datasets\\NOT_Auguste_Cropped_224\\extracted_face_1 (2259).jpg_0.png\n",
      "Removed duplicate: Transformed_Datasets\\NOT_Auguste_Cropped_224\\extracted_face_1 (226).jpg_0.png\n",
      "Removed duplicate: Transformed_Datasets\\NOT_Auguste_Cropped_224\\extracted_face_1 (2260).jpg_0.png\n",
      "Removed duplicate: Transformed_Datasets\\NOT_Auguste_Cropped_224\\extracted_face_1 (2261).jpg_0.png\n",
      "Removed duplicate: Transformed_Datasets\\NOT_Auguste_Cropped_224\\extracted_face_1 (2263).jpg_0.png\n",
      "Removed duplicate: Transformed_Datasets\\NOT_Auguste_Cropped_224\\extracted_face_1 (2264).jpg_0.png\n",
      "Removed duplicate: Transformed_Datasets\\NOT_Auguste_Cropped_224\\extracted_face_1 (2268).jpg_0.png\n",
      "Removed duplicate: Transformed_Datasets\\NOT_Auguste_Cropped_224\\extracted_face_1 (2269).jpg_0.png\n",
      "Removed duplicate: Transformed_Datasets\\NOT_Auguste_Cropped_224\\extracted_face_1 (227).jpg_0.png\n",
      "Removed duplicate: Transformed_Datasets\\NOT_Auguste_Cropped_224\\extracted_face_1 (2271).jpg_0.png\n",
      "Removed duplicate: Transformed_Datasets\\NOT_Auguste_Cropped_224\\extracted_face_1 (2272).jpg_0.png\n",
      "Removed duplicate: Transformed_Datasets\\NOT_Auguste_Cropped_224\\extracted_face_1 (2274).jpg_0.png\n",
      "Removed duplicate: Transformed_Datasets\\NOT_Auguste_Cropped_224\\extracted_face_1 (2275).jpg_0.png\n",
      "Removed duplicate: Transformed_Datasets\\NOT_Auguste_Cropped_224\\extracted_face_1 (2277).jpg_0.png\n",
      "Removed duplicate: Transformed_Datasets\\NOT_Auguste_Cropped_224\\extracted_face_1 (2278).jpg_0.png\n",
      "Removed duplicate: Transformed_Datasets\\NOT_Auguste_Cropped_224\\extracted_face_1 (228).jpg_0.png\n",
      "Removed duplicate: Transformed_Datasets\\NOT_Auguste_Cropped_224\\extracted_face_1 (2280).jpg_0.png\n",
      "Removed duplicate: Transformed_Datasets\\NOT_Auguste_Cropped_224\\extracted_face_1 (2281).jpg_0.png\n",
      "Removed duplicate: Transformed_Datasets\\NOT_Auguste_Cropped_224\\extracted_face_1 (2282).jpg_0.png\n",
      "Removed duplicate: Transformed_Datasets\\NOT_Auguste_Cropped_224\\extracted_face_1 (2283).jpg_0.png\n",
      "Removed duplicate: Transformed_Datasets\\NOT_Auguste_Cropped_224\\extracted_face_1 (2284).jpg_0.png\n",
      "Removed duplicate: Transformed_Datasets\\NOT_Auguste_Cropped_224\\extracted_face_1 (2285).jpg_0.png\n",
      "Removed duplicate: Transformed_Datasets\\NOT_Auguste_Cropped_224\\extracted_face_1 (2286).jpg_0.png\n",
      "Removed duplicate: Transformed_Datasets\\NOT_Auguste_Cropped_224\\extracted_face_1 (2287).jpg_0.png\n",
      "Removed duplicate: Transformed_Datasets\\NOT_Auguste_Cropped_224\\extracted_face_1 (2289).jpg_0.png\n",
      "Removed duplicate: Transformed_Datasets\\NOT_Auguste_Cropped_224\\extracted_face_1 (229).jpg_0.png\n",
      "Removed duplicate: Transformed_Datasets\\NOT_Auguste_Cropped_224\\extracted_face_1 (2290).jpg_0.png\n",
      "Removed duplicate: Transformed_Datasets\\NOT_Auguste_Cropped_224\\extracted_face_1 (2291).jpg_0.png\n",
      "Removed duplicate: Transformed_Datasets\\NOT_Auguste_Cropped_224\\extracted_face_1 (2292).jpg_0.png\n",
      "Removed duplicate: Transformed_Datasets\\NOT_Auguste_Cropped_224\\extracted_face_1 (2293).jpg_0.png\n",
      "Removed duplicate: Transformed_Datasets\\NOT_Auguste_Cropped_224\\extracted_face_1 (2294).jpg_0.png\n",
      "Removed duplicate: Transformed_Datasets\\NOT_Auguste_Cropped_224\\extracted_face_1 (2295).jpg_0.png\n",
      "Removed duplicate: Transformed_Datasets\\NOT_Auguste_Cropped_224\\extracted_face_1 (2296).jpg_0.png\n",
      "Removed duplicate: Transformed_Datasets\\NOT_Auguste_Cropped_224\\extracted_face_1 (2296).jpg_1.png\n",
      "Removed duplicate: Transformed_Datasets\\NOT_Auguste_Cropped_224\\extracted_face_1 (2297).jpg_0.png\n",
      "Removed duplicate: Transformed_Datasets\\NOT_Auguste_Cropped_224\\extracted_face_1 (2298).jpg_0.png\n",
      "Removed duplicate: Transformed_Datasets\\NOT_Auguste_Cropped_224\\extracted_face_1 (23).jpg_0.png\n",
      "Removed duplicate: Transformed_Datasets\\NOT_Auguste_Cropped_224\\extracted_face_1 (23).png_0.png\n",
      "Removed duplicate: Transformed_Datasets\\NOT_Auguste_Cropped_224\\extracted_face_1 (230).jpg_0.png\n",
      "Removed duplicate: Transformed_Datasets\\NOT_Auguste_Cropped_224\\extracted_face_1 (2300).jpg_0.png\n",
      "Removed duplicate: Transformed_Datasets\\NOT_Auguste_Cropped_224\\extracted_face_1 (2301).jpg_0.png\n",
      "Removed duplicate: Transformed_Datasets\\NOT_Auguste_Cropped_224\\extracted_face_1 (2302).jpg_0.png\n",
      "Removed duplicate: Transformed_Datasets\\NOT_Auguste_Cropped_224\\extracted_face_1 (2303).jpg_0.png\n",
      "Removed duplicate: Transformed_Datasets\\NOT_Auguste_Cropped_224\\extracted_face_1 (2304).jpg_0.png\n",
      "Removed duplicate: Transformed_Datasets\\NOT_Auguste_Cropped_224\\extracted_face_1 (2305).jpg_0.png\n",
      "Removed duplicate: Transformed_Datasets\\NOT_Auguste_Cropped_224\\extracted_face_1 (2307).jpg_0.png\n",
      "Removed duplicate: Transformed_Datasets\\NOT_Auguste_Cropped_224\\extracted_face_1 (2308).jpg_0.png\n",
      "Removed duplicate: Transformed_Datasets\\NOT_Auguste_Cropped_224\\extracted_face_1 (2309).jpg_0.png\n",
      "Removed duplicate: Transformed_Datasets\\NOT_Auguste_Cropped_224\\extracted_face_1 (231).jpg_0.png\n",
      "Removed duplicate: Transformed_Datasets\\NOT_Auguste_Cropped_224\\extracted_face_1 (2310).jpg_0.png\n",
      "Removed duplicate: Transformed_Datasets\\NOT_Auguste_Cropped_224\\extracted_face_1 (2311).jpg_0.png\n",
      "Removed duplicate: Transformed_Datasets\\NOT_Auguste_Cropped_224\\extracted_face_1 (2312).jpg_0.png\n",
      "Removed duplicate: Transformed_Datasets\\NOT_Auguste_Cropped_224\\extracted_face_1 (2312).jpg_1.png\n",
      "Removed duplicate: Transformed_Datasets\\NOT_Auguste_Cropped_224\\extracted_face_1 (2313).jpg_0.png\n",
      "Removed duplicate: Transformed_Datasets\\NOT_Auguste_Cropped_224\\extracted_face_1 (2314).jpg_0.png\n",
      "Removed duplicate: Transformed_Datasets\\NOT_Auguste_Cropped_224\\extracted_face_1 (2315).jpg_0.png\n",
      "Removed duplicate: Transformed_Datasets\\NOT_Auguste_Cropped_224\\extracted_face_1 (2316).jpg_0.png\n",
      "Removed duplicate: Transformed_Datasets\\NOT_Auguste_Cropped_224\\extracted_face_1 (2317).jpg_0.png\n",
      "Removed duplicate: Transformed_Datasets\\NOT_Auguste_Cropped_224\\extracted_face_1 (2318).jpg_0.png\n",
      "Removed duplicate: Transformed_Datasets\\NOT_Auguste_Cropped_224\\extracted_face_1 (2319).jpg_0.png\n",
      "Removed duplicate: Transformed_Datasets\\NOT_Auguste_Cropped_224\\extracted_face_1 (232).jpg_0.png\n",
      "Removed duplicate: Transformed_Datasets\\NOT_Auguste_Cropped_224\\extracted_face_1 (2320).jpg_0.png\n",
      "Removed duplicate: Transformed_Datasets\\NOT_Auguste_Cropped_224\\extracted_face_1 (2322).jpg_0.png\n",
      "Removed duplicate: Transformed_Datasets\\NOT_Auguste_Cropped_224\\extracted_face_1 (2323).jpg_0.png\n",
      "Removed duplicate: Transformed_Datasets\\NOT_Auguste_Cropped_224\\extracted_face_1 (2325).jpg_0.png\n",
      "Removed duplicate: Transformed_Datasets\\NOT_Auguste_Cropped_224\\extracted_face_1 (2326).jpg_0.png\n",
      "Removed duplicate: Transformed_Datasets\\NOT_Auguste_Cropped_224\\extracted_face_1 (2327).jpg_0.png\n",
      "Removed duplicate: Transformed_Datasets\\NOT_Auguste_Cropped_224\\extracted_face_1 (2328).jpg_0.png\n",
      "Removed duplicate: Transformed_Datasets\\NOT_Auguste_Cropped_224\\extracted_face_1 (2329).jpg_0.png\n",
      "Removed duplicate: Transformed_Datasets\\NOT_Auguste_Cropped_224\\extracted_face_1 (233).jpg_0.png\n",
      "Removed duplicate: Transformed_Datasets\\NOT_Auguste_Cropped_224\\extracted_face_1 (2330).jpg_0.png\n",
      "Removed duplicate: Transformed_Datasets\\NOT_Auguste_Cropped_224\\extracted_face_1 (2331).jpg_0.png\n",
      "Removed duplicate: Transformed_Datasets\\NOT_Auguste_Cropped_224\\extracted_face_1 (2332).jpg_0.png\n",
      "Removed duplicate: Transformed_Datasets\\NOT_Auguste_Cropped_224\\extracted_face_1 (2333).jpg_0.png\n",
      "Removed duplicate: Transformed_Datasets\\NOT_Auguste_Cropped_224\\extracted_face_1 (2334).jpg_0.png\n",
      "Removed duplicate: Transformed_Datasets\\NOT_Auguste_Cropped_224\\extracted_face_1 (2335).jpg_0.png\n",
      "Removed duplicate: Transformed_Datasets\\NOT_Auguste_Cropped_224\\extracted_face_1 (2336).jpg_0.png\n",
      "Removed duplicate: Transformed_Datasets\\NOT_Auguste_Cropped_224\\extracted_face_1 (2337).jpg_0.png\n",
      "Removed duplicate: Transformed_Datasets\\NOT_Auguste_Cropped_224\\extracted_face_1 (2338).jpg_0.png\n",
      "Removed duplicate: Transformed_Datasets\\NOT_Auguste_Cropped_224\\extracted_face_1 (2339).jpg_0.png\n",
      "Removed duplicate: Transformed_Datasets\\NOT_Auguste_Cropped_224\\extracted_face_1 (234).jpg_0.png\n",
      "Removed duplicate: Transformed_Datasets\\NOT_Auguste_Cropped_224\\extracted_face_1 (2340).jpg_0.png\n",
      "Removed duplicate: Transformed_Datasets\\NOT_Auguste_Cropped_224\\extracted_face_1 (2341).jpg_0.png\n",
      "Removed duplicate: Transformed_Datasets\\NOT_Auguste_Cropped_224\\extracted_face_1 (2342).jpg_0.png\n",
      "Removed duplicate: Transformed_Datasets\\NOT_Auguste_Cropped_224\\extracted_face_1 (2343).jpg_0.png\n",
      "Removed duplicate: Transformed_Datasets\\NOT_Auguste_Cropped_224\\extracted_face_1 (2345).jpg_0.png\n",
      "Removed duplicate: Transformed_Datasets\\NOT_Auguste_Cropped_224\\extracted_face_1 (2346).jpg_0.png\n",
      "Removed duplicate: Transformed_Datasets\\NOT_Auguste_Cropped_224\\extracted_face_1 (2347).jpg_0.png\n",
      "Removed duplicate: Transformed_Datasets\\NOT_Auguste_Cropped_224\\extracted_face_1 (2348).jpg_0.png\n",
      "Removed duplicate: Transformed_Datasets\\NOT_Auguste_Cropped_224\\extracted_face_1 (2349).jpg_0.png\n",
      "Removed duplicate: Transformed_Datasets\\NOT_Auguste_Cropped_224\\extracted_face_1 (235).jpg_0.png\n",
      "Removed duplicate: Transformed_Datasets\\NOT_Auguste_Cropped_224\\extracted_face_1 (2350).jpg_0.png\n",
      "Removed duplicate: Transformed_Datasets\\NOT_Auguste_Cropped_224\\extracted_face_1 (2351).jpg_0.png\n",
      "Removed duplicate: Transformed_Datasets\\NOT_Auguste_Cropped_224\\extracted_face_1 (2352).jpg_0.png\n",
      "Removed duplicate: Transformed_Datasets\\NOT_Auguste_Cropped_224\\extracted_face_1 (2354).jpg_0.png\n",
      "Removed duplicate: Transformed_Datasets\\NOT_Auguste_Cropped_224\\extracted_face_1 (2355).jpg_0.png\n",
      "Removed duplicate: Transformed_Datasets\\NOT_Auguste_Cropped_224\\extracted_face_1 (2356).jpg_0.png\n",
      "Removed duplicate: Transformed_Datasets\\NOT_Auguste_Cropped_224\\extracted_face_1 (2357).jpg_0.png\n",
      "Removed duplicate: Transformed_Datasets\\NOT_Auguste_Cropped_224\\extracted_face_1 (2358).jpg_0.png\n",
      "Removed duplicate: Transformed_Datasets\\NOT_Auguste_Cropped_224\\extracted_face_1 (2359).jpg_0.png\n",
      "Removed duplicate: Transformed_Datasets\\NOT_Auguste_Cropped_224\\extracted_face_1 (236).jpg_0.png\n",
      "Removed duplicate: Transformed_Datasets\\NOT_Auguste_Cropped_224\\extracted_face_1 (2360).jpg_0.png\n",
      "Removed duplicate: Transformed_Datasets\\NOT_Auguste_Cropped_224\\extracted_face_1 (2361).jpg_0.png\n",
      "Removed duplicate: Transformed_Datasets\\NOT_Auguste_Cropped_224\\extracted_face_1 (2362).jpg_0.png\n",
      "Removed duplicate: Transformed_Datasets\\NOT_Auguste_Cropped_224\\extracted_face_1 (2363).jpg_0.png\n",
      "Removed duplicate: Transformed_Datasets\\NOT_Auguste_Cropped_224\\extracted_face_1 (2364).jpg_0.png\n",
      "Removed duplicate: Transformed_Datasets\\NOT_Auguste_Cropped_224\\extracted_face_1 (2365).jpg_0.png\n",
      "Removed duplicate: Transformed_Datasets\\NOT_Auguste_Cropped_224\\extracted_face_1 (2367).jpg_0.png\n",
      "Removed duplicate: Transformed_Datasets\\NOT_Auguste_Cropped_224\\extracted_face_1 (2368).jpg_0.png\n",
      "Removed duplicate: Transformed_Datasets\\NOT_Auguste_Cropped_224\\extracted_face_1 (2371).jpg_0.png\n",
      "Removed duplicate: Transformed_Datasets\\NOT_Auguste_Cropped_224\\extracted_face_1 (2372).jpg_0.png\n",
      "Removed duplicate: Transformed_Datasets\\NOT_Auguste_Cropped_224\\extracted_face_1 (2373).jpg_0.png\n",
      "Removed duplicate: Transformed_Datasets\\NOT_Auguste_Cropped_224\\extracted_face_1 (2374).jpg_0.png\n",
      "Removed duplicate: Transformed_Datasets\\NOT_Auguste_Cropped_224\\extracted_face_1 (2376).jpg_0.png\n",
      "Removed duplicate: Transformed_Datasets\\NOT_Auguste_Cropped_224\\extracted_face_1 (2377).jpg_0.png\n",
      "Removed duplicate: Transformed_Datasets\\NOT_Auguste_Cropped_224\\extracted_face_1 (2378).jpg_0.png\n",
      "Removed duplicate: Transformed_Datasets\\NOT_Auguste_Cropped_224\\extracted_face_1 (2379).jpg_0.png\n",
      "Removed duplicate: Transformed_Datasets\\NOT_Auguste_Cropped_224\\extracted_face_1 (238).jpg_0.png\n",
      "Removed duplicate: Transformed_Datasets\\NOT_Auguste_Cropped_224\\extracted_face_1 (2380).jpg_0.png\n",
      "Removed duplicate: Transformed_Datasets\\NOT_Auguste_Cropped_224\\extracted_face_1 (2382).jpg_0.png\n",
      "Removed duplicate: Transformed_Datasets\\NOT_Auguste_Cropped_224\\extracted_face_1 (2383).jpg_0.png\n",
      "Removed duplicate: Transformed_Datasets\\NOT_Auguste_Cropped_224\\extracted_face_1 (2385).jpg_0.png\n",
      "Removed duplicate: Transformed_Datasets\\NOT_Auguste_Cropped_224\\extracted_face_1 (2386).jpg_0.png\n",
      "Removed duplicate: Transformed_Datasets\\NOT_Auguste_Cropped_224\\extracted_face_1 (2387).jpg_0.png\n",
      "Removed duplicate: Transformed_Datasets\\NOT_Auguste_Cropped_224\\extracted_face_1 (2389).jpg_0.png\n",
      "Removed duplicate: Transformed_Datasets\\NOT_Auguste_Cropped_224\\extracted_face_1 (239).jpg_0.png\n",
      "Removed duplicate: Transformed_Datasets\\NOT_Auguste_Cropped_224\\extracted_face_1 (2390).jpg_0.png\n",
      "Removed duplicate: Transformed_Datasets\\NOT_Auguste_Cropped_224\\extracted_face_1 (2391).jpg_0.png\n",
      "Removed duplicate: Transformed_Datasets\\NOT_Auguste_Cropped_224\\extracted_face_1 (2394).jpg_0.png\n",
      "Removed duplicate: Transformed_Datasets\\NOT_Auguste_Cropped_224\\extracted_face_1 (2395).jpg_0.png\n",
      "Removed duplicate: Transformed_Datasets\\NOT_Auguste_Cropped_224\\extracted_face_1 (2396).jpg_0.png\n",
      "Removed duplicate: Transformed_Datasets\\NOT_Auguste_Cropped_224\\extracted_face_1 (2397).jpg_0.png\n",
      "Removed duplicate: Transformed_Datasets\\NOT_Auguste_Cropped_224\\extracted_face_1 (2398).jpg_0.png\n",
      "Removed duplicate: Transformed_Datasets\\NOT_Auguste_Cropped_224\\extracted_face_1 (24).jpg_0.png\n",
      "Removed duplicate: Transformed_Datasets\\NOT_Auguste_Cropped_224\\extracted_face_1 (24).png_0.png\n",
      "Removed duplicate: Transformed_Datasets\\NOT_Auguste_Cropped_224\\extracted_face_1 (240).jpg_0.png\n",
      "Removed duplicate: Transformed_Datasets\\NOT_Auguste_Cropped_224\\extracted_face_1 (2400).jpg_0.png\n",
      "Removed duplicate: Transformed_Datasets\\NOT_Auguste_Cropped_224\\extracted_face_1 (2401).jpg_0.png\n",
      "Removed duplicate: Transformed_Datasets\\NOT_Auguste_Cropped_224\\extracted_face_1 (2403).jpg_0.png\n",
      "Removed duplicate: Transformed_Datasets\\NOT_Auguste_Cropped_224\\extracted_face_1 (2404).jpg_0.png\n",
      "Removed duplicate: Transformed_Datasets\\NOT_Auguste_Cropped_224\\extracted_face_1 (2405).jpg_0.png\n",
      "Removed duplicate: Transformed_Datasets\\NOT_Auguste_Cropped_224\\extracted_face_1 (2406).jpg_0.png\n",
      "Removed duplicate: Transformed_Datasets\\NOT_Auguste_Cropped_224\\extracted_face_1 (2409).jpg_0.png\n",
      "Removed duplicate: Transformed_Datasets\\NOT_Auguste_Cropped_224\\extracted_face_1 (241).jpg_0.png\n",
      "Removed duplicate: Transformed_Datasets\\NOT_Auguste_Cropped_224\\extracted_face_1 (2410).jpg_0.png\n",
      "Removed duplicate: Transformed_Datasets\\NOT_Auguste_Cropped_224\\extracted_face_1 (2411).jpg_0.png\n",
      "Removed duplicate: Transformed_Datasets\\NOT_Auguste_Cropped_224\\extracted_face_1 (2412).jpg_0.png\n",
      "Removed duplicate: Transformed_Datasets\\NOT_Auguste_Cropped_224\\extracted_face_1 (2413).jpg_0.png\n",
      "Removed duplicate: Transformed_Datasets\\NOT_Auguste_Cropped_224\\extracted_face_1 (2414).jpg_0.png\n",
      "Removed duplicate: Transformed_Datasets\\NOT_Auguste_Cropped_224\\extracted_face_1 (2415).jpg_0.png\n",
      "Removed duplicate: Transformed_Datasets\\NOT_Auguste_Cropped_224\\extracted_face_1 (2416).jpg_0.png\n",
      "Removed duplicate: Transformed_Datasets\\NOT_Auguste_Cropped_224\\extracted_face_1 (2418).jpg_0.png\n",
      "Removed duplicate: Transformed_Datasets\\NOT_Auguste_Cropped_224\\extracted_face_1 (2419).jpg_0.png\n",
      "Removed duplicate: Transformed_Datasets\\NOT_Auguste_Cropped_224\\extracted_face_1 (242).jpg_0.png\n",
      "Removed duplicate: Transformed_Datasets\\NOT_Auguste_Cropped_224\\extracted_face_1 (2420).jpg_0.png\n",
      "Removed duplicate: Transformed_Datasets\\NOT_Auguste_Cropped_224\\extracted_face_1 (2421).jpg_0.png\n",
      "Removed duplicate: Transformed_Datasets\\NOT_Auguste_Cropped_224\\extracted_face_1 (2423).jpg_0.png\n",
      "Removed duplicate: Transformed_Datasets\\NOT_Auguste_Cropped_224\\extracted_face_1 (2424).jpg_0.png\n",
      "Removed duplicate: Transformed_Datasets\\NOT_Auguste_Cropped_224\\extracted_face_1 (2425).jpg_0.png\n",
      "Removed duplicate: Transformed_Datasets\\NOT_Auguste_Cropped_224\\extracted_face_1 (2426).jpg_0.png\n",
      "Removed duplicate: Transformed_Datasets\\NOT_Auguste_Cropped_224\\extracted_face_1 (2427).jpg_0.png\n",
      "Removed duplicate: Transformed_Datasets\\NOT_Auguste_Cropped_224\\extracted_face_1 (2429).jpg_0.png\n",
      "Removed duplicate: Transformed_Datasets\\NOT_Auguste_Cropped_224\\extracted_face_1 (243).jpg_0.png\n",
      "Removed duplicate: Transformed_Datasets\\NOT_Auguste_Cropped_224\\extracted_face_1 (2430).jpg_0.png\n",
      "Removed duplicate: Transformed_Datasets\\NOT_Auguste_Cropped_224\\extracted_face_1 (2432).jpg_0.png\n",
      "Removed duplicate: Transformed_Datasets\\NOT_Auguste_Cropped_224\\extracted_face_1 (2433).jpg_0.png\n",
      "Removed duplicate: Transformed_Datasets\\NOT_Auguste_Cropped_224\\extracted_face_1 (2433).jpg_1.png\n",
      "Removed duplicate: Transformed_Datasets\\NOT_Auguste_Cropped_224\\extracted_face_1 (2434).jpg_0.png\n",
      "Removed duplicate: Transformed_Datasets\\NOT_Auguste_Cropped_224\\extracted_face_1 (2435).jpg_0.png\n",
      "Removed duplicate: Transformed_Datasets\\NOT_Auguste_Cropped_224\\extracted_face_1 (2436).jpg_0.png\n",
      "Removed duplicate: Transformed_Datasets\\NOT_Auguste_Cropped_224\\extracted_face_1 (2437).jpg_0.png\n",
      "Removed duplicate: Transformed_Datasets\\NOT_Auguste_Cropped_224\\extracted_face_1 (2438).jpg_0.png\n",
      "Removed duplicate: Transformed_Datasets\\NOT_Auguste_Cropped_224\\extracted_face_1 (2439).jpg_0.png\n",
      "Removed duplicate: Transformed_Datasets\\NOT_Auguste_Cropped_224\\extracted_face_1 (244).jpg_0.png\n",
      "Removed duplicate: Transformed_Datasets\\NOT_Auguste_Cropped_224\\extracted_face_1 (2440).jpg_0.png\n",
      "Removed duplicate: Transformed_Datasets\\NOT_Auguste_Cropped_224\\extracted_face_1 (2441).jpg_0.png\n",
      "Removed duplicate: Transformed_Datasets\\NOT_Auguste_Cropped_224\\extracted_face_1 (2442).jpg_0.png\n",
      "Removed duplicate: Transformed_Datasets\\NOT_Auguste_Cropped_224\\extracted_face_1 (2443).jpg_0.png\n",
      "Removed duplicate: Transformed_Datasets\\NOT_Auguste_Cropped_224\\extracted_face_1 (2444).jpg_0.png\n",
      "Removed duplicate: Transformed_Datasets\\NOT_Auguste_Cropped_224\\extracted_face_1 (2445).jpg_0.png\n",
      "Removed duplicate: Transformed_Datasets\\NOT_Auguste_Cropped_224\\extracted_face_1 (2446).jpg_0.png\n",
      "Removed duplicate: Transformed_Datasets\\NOT_Auguste_Cropped_224\\extracted_face_1 (2447).jpg_0.png\n",
      "Removed duplicate: Transformed_Datasets\\NOT_Auguste_Cropped_224\\extracted_face_1 (2448).jpg_0.png\n",
      "Removed duplicate: Transformed_Datasets\\NOT_Auguste_Cropped_224\\extracted_face_1 (245).jpg_0.png\n",
      "Removed duplicate: Transformed_Datasets\\NOT_Auguste_Cropped_224\\extracted_face_1 (2450).jpg_0.png\n",
      "Removed duplicate: Transformed_Datasets\\NOT_Auguste_Cropped_224\\extracted_face_1 (2451).jpg_0.png\n",
      "Removed duplicate: Transformed_Datasets\\NOT_Auguste_Cropped_224\\extracted_face_1 (2452).jpg_0.png\n",
      "Removed duplicate: Transformed_Datasets\\NOT_Auguste_Cropped_224\\extracted_face_1 (2453).jpg_0.png\n",
      "Removed duplicate: Transformed_Datasets\\NOT_Auguste_Cropped_224\\extracted_face_1 (2454).jpg_0.png\n",
      "Removed duplicate: Transformed_Datasets\\NOT_Auguste_Cropped_224\\extracted_face_1 (2456).jpg_0.png\n",
      "Removed duplicate: Transformed_Datasets\\NOT_Auguste_Cropped_224\\extracted_face_1 (2457).jpg_0.png\n",
      "Removed duplicate: Transformed_Datasets\\NOT_Auguste_Cropped_224\\extracted_face_1 (2458).jpg_0.png\n",
      "Removed duplicate: Transformed_Datasets\\NOT_Auguste_Cropped_224\\extracted_face_1 (2459).jpg_0.png\n",
      "Removed duplicate: Transformed_Datasets\\NOT_Auguste_Cropped_224\\extracted_face_1 (246).jpg_0.png\n",
      "Removed duplicate: Transformed_Datasets\\NOT_Auguste_Cropped_224\\extracted_face_1 (2460).jpg_0.png\n",
      "Removed duplicate: Transformed_Datasets\\NOT_Auguste_Cropped_224\\extracted_face_1 (2462).jpg_0.png\n",
      "Removed duplicate: Transformed_Datasets\\NOT_Auguste_Cropped_224\\extracted_face_1 (2463).jpg_0.png\n",
      "Removed duplicate: Transformed_Datasets\\NOT_Auguste_Cropped_224\\extracted_face_1 (2464).jpg_0.png\n",
      "Removed duplicate: Transformed_Datasets\\NOT_Auguste_Cropped_224\\extracted_face_1 (2465).jpg_0.png\n",
      "Removed duplicate: Transformed_Datasets\\NOT_Auguste_Cropped_224\\extracted_face_1 (2466).jpg_0.png\n",
      "Removed duplicate: Transformed_Datasets\\NOT_Auguste_Cropped_224\\extracted_face_1 (2468).jpg_0.png\n",
      "Removed duplicate: Transformed_Datasets\\NOT_Auguste_Cropped_224\\extracted_face_1 (2469).jpg_0.png\n",
      "Removed duplicate: Transformed_Datasets\\NOT_Auguste_Cropped_224\\extracted_face_1 (247).jpg_0.png\n",
      "Removed duplicate: Transformed_Datasets\\NOT_Auguste_Cropped_224\\extracted_face_1 (2470).jpg_0.png\n",
      "Removed duplicate: Transformed_Datasets\\NOT_Auguste_Cropped_224\\extracted_face_1 (2471).JPG_0.png\n",
      "Removed duplicate: Transformed_Datasets\\NOT_Auguste_Cropped_224\\extracted_face_1 (2472).jpg_0.png\n",
      "Removed duplicate: Transformed_Datasets\\NOT_Auguste_Cropped_224\\extracted_face_1 (2473).jpg_0.png\n",
      "Removed duplicate: Transformed_Datasets\\NOT_Auguste_Cropped_224\\extracted_face_1 (2474).jpg_0.png\n",
      "Removed duplicate: Transformed_Datasets\\NOT_Auguste_Cropped_224\\extracted_face_1 (2477).jpg_0.png\n",
      "Removed duplicate: Transformed_Datasets\\NOT_Auguste_Cropped_224\\extracted_face_1 (2478).jpg_0.png\n",
      "Removed duplicate: Transformed_Datasets\\NOT_Auguste_Cropped_224\\extracted_face_1 (2479).jpg_0.png\n",
      "Removed duplicate: Transformed_Datasets\\NOT_Auguste_Cropped_224\\extracted_face_1 (248).jpg_0.png\n",
      "Removed duplicate: Transformed_Datasets\\NOT_Auguste_Cropped_224\\extracted_face_1 (2480).jpg_0.png\n",
      "Removed duplicate: Transformed_Datasets\\NOT_Auguste_Cropped_224\\extracted_face_1 (2481).jpg_0.png\n",
      "Removed duplicate: Transformed_Datasets\\NOT_Auguste_Cropped_224\\extracted_face_1 (2482).jpg_0.png\n",
      "Removed duplicate: Transformed_Datasets\\NOT_Auguste_Cropped_224\\extracted_face_1 (2483).jpg_0.png\n",
      "Removed duplicate: Transformed_Datasets\\NOT_Auguste_Cropped_224\\extracted_face_1 (2484).jpg_0.png\n",
      "Removed duplicate: Transformed_Datasets\\NOT_Auguste_Cropped_224\\extracted_face_1 (2485).jpg_0.png\n",
      "Removed duplicate: Transformed_Datasets\\NOT_Auguste_Cropped_224\\extracted_face_1 (2486).jpg_0.png\n",
      "Removed duplicate: Transformed_Datasets\\NOT_Auguste_Cropped_224\\extracted_face_1 (2487).jpg_0.png\n",
      "Removed duplicate: Transformed_Datasets\\NOT_Auguste_Cropped_224\\extracted_face_1 (2489).jpg_0.png\n",
      "Removed duplicate: Transformed_Datasets\\NOT_Auguste_Cropped_224\\extracted_face_1 (249).jpg_0.png\n",
      "Removed duplicate: Transformed_Datasets\\NOT_Auguste_Cropped_224\\extracted_face_1 (2490).jpg_0.png\n",
      "Removed duplicate: Transformed_Datasets\\NOT_Auguste_Cropped_224\\extracted_face_1 (2491).jpg_0.png\n",
      "Removed duplicate: Transformed_Datasets\\NOT_Auguste_Cropped_224\\extracted_face_1 (2492).jpg_0.png\n",
      "Removed duplicate: Transformed_Datasets\\NOT_Auguste_Cropped_224\\extracted_face_1 (2493).jpg_0.png\n",
      "Removed duplicate: Transformed_Datasets\\NOT_Auguste_Cropped_224\\extracted_face_1 (2494).jpg_0.png\n",
      "Removed duplicate: Transformed_Datasets\\NOT_Auguste_Cropped_224\\extracted_face_1 (2495).jpg_0.png\n",
      "Removed duplicate: Transformed_Datasets\\NOT_Auguste_Cropped_224\\extracted_face_1 (2496).jpg_0.png\n",
      "Removed duplicate: Transformed_Datasets\\NOT_Auguste_Cropped_224\\extracted_face_1 (2497).jpg_0.png\n",
      "Removed duplicate: Transformed_Datasets\\NOT_Auguste_Cropped_224\\extracted_face_1 (2498).jpg_0.png\n",
      "Removed duplicate: Transformed_Datasets\\NOT_Auguste_Cropped_224\\extracted_face_1 (2499).jpg_0.png\n",
      "Removed duplicate: Transformed_Datasets\\NOT_Auguste_Cropped_224\\extracted_face_1 (25).jpg_0.png\n",
      "Removed duplicate: Transformed_Datasets\\NOT_Auguste_Cropped_224\\extracted_face_1 (25).png_0.png\n",
      "Removed duplicate: Transformed_Datasets\\NOT_Auguste_Cropped_224\\extracted_face_1 (250).jpg_0.png\n",
      "Removed duplicate: Transformed_Datasets\\NOT_Auguste_Cropped_224\\extracted_face_1 (2501).jpg_0.png\n",
      "Removed duplicate: Transformed_Datasets\\NOT_Auguste_Cropped_224\\extracted_face_1 (2502).jpg_0.png\n",
      "Removed duplicate: Transformed_Datasets\\NOT_Auguste_Cropped_224\\extracted_face_1 (2503).jpg_0.png\n",
      "Removed duplicate: Transformed_Datasets\\NOT_Auguste_Cropped_224\\extracted_face_1 (2504).jpg_0.png\n",
      "Removed duplicate: Transformed_Datasets\\NOT_Auguste_Cropped_224\\extracted_face_1 (2506).jpg_0.png\n",
      "Removed duplicate: Transformed_Datasets\\NOT_Auguste_Cropped_224\\extracted_face_1 (2507).jpg_0.png\n",
      "Removed duplicate: Transformed_Datasets\\NOT_Auguste_Cropped_224\\extracted_face_1 (2508).jpg_0.png\n",
      "Removed duplicate: Transformed_Datasets\\NOT_Auguste_Cropped_224\\extracted_face_1 (2508).jpg_1.png\n",
      "Removed duplicate: Transformed_Datasets\\NOT_Auguste_Cropped_224\\extracted_face_1 (2509).jpg_0.png\n",
      "Removed duplicate: Transformed_Datasets\\NOT_Auguste_Cropped_224\\extracted_face_1 (251).jpg_0.png\n",
      "Removed duplicate: Transformed_Datasets\\NOT_Auguste_Cropped_224\\extracted_face_1 (2510).jpg_0.png\n",
      "Removed duplicate: Transformed_Datasets\\NOT_Auguste_Cropped_224\\extracted_face_1 (2512).jpg_0.png\n",
      "Removed duplicate: Transformed_Datasets\\NOT_Auguste_Cropped_224\\extracted_face_1 (2513).jpg_0.png\n",
      "Removed duplicate: Transformed_Datasets\\NOT_Auguste_Cropped_224\\extracted_face_1 (2514).jpg_0.png\n",
      "Removed duplicate: Transformed_Datasets\\NOT_Auguste_Cropped_224\\extracted_face_1 (2515).jpg_0.png\n",
      "Removed duplicate: Transformed_Datasets\\NOT_Auguste_Cropped_224\\extracted_face_1 (2516).jpg_0.png\n",
      "Removed duplicate: Transformed_Datasets\\NOT_Auguste_Cropped_224\\extracted_face_1 (2517).jpg_0.png\n",
      "Removed duplicate: Transformed_Datasets\\NOT_Auguste_Cropped_224\\extracted_face_1 (2519).jpg_0.png\n",
      "Removed duplicate: Transformed_Datasets\\NOT_Auguste_Cropped_224\\extracted_face_1 (252).jpg_0.png\n",
      "Removed duplicate: Transformed_Datasets\\NOT_Auguste_Cropped_224\\extracted_face_1 (2520).jpg_0.png\n",
      "Removed duplicate: Transformed_Datasets\\NOT_Auguste_Cropped_224\\extracted_face_1 (2521).jpg_0.png\n",
      "Removed duplicate: Transformed_Datasets\\NOT_Auguste_Cropped_224\\extracted_face_1 (2522).jpg_0.png\n",
      "Removed duplicate: Transformed_Datasets\\NOT_Auguste_Cropped_224\\extracted_face_1 (2523).jpg_0.png\n",
      "Removed duplicate: Transformed_Datasets\\NOT_Auguste_Cropped_224\\extracted_face_1 (2524).jpg_0.png\n",
      "Removed duplicate: Transformed_Datasets\\NOT_Auguste_Cropped_224\\extracted_face_1 (2525).jpg_0.png\n",
      "Removed duplicate: Transformed_Datasets\\NOT_Auguste_Cropped_224\\extracted_face_1 (2526).jpg_0.png\n",
      "Removed duplicate: Transformed_Datasets\\NOT_Auguste_Cropped_224\\extracted_face_1 (2527).jpg_0.png\n",
      "Removed duplicate: Transformed_Datasets\\NOT_Auguste_Cropped_224\\extracted_face_1 (2528).jpg_0.png\n",
      "Removed duplicate: Transformed_Datasets\\NOT_Auguste_Cropped_224\\extracted_face_1 (2529).jpg_0.png\n",
      "Removed duplicate: Transformed_Datasets\\NOT_Auguste_Cropped_224\\extracted_face_1 (253).jpg_0.png\n",
      "Removed duplicate: Transformed_Datasets\\NOT_Auguste_Cropped_224\\extracted_face_1 (2530).jpg_0.png\n",
      "Removed duplicate: Transformed_Datasets\\NOT_Auguste_Cropped_224\\extracted_face_1 (2531).jpg_0.png\n",
      "Removed duplicate: Transformed_Datasets\\NOT_Auguste_Cropped_224\\extracted_face_1 (2532).jpg_0.png\n",
      "Removed duplicate: Transformed_Datasets\\NOT_Auguste_Cropped_224\\extracted_face_1 (2534).jpg_0.png\n",
      "Removed duplicate: Transformed_Datasets\\NOT_Auguste_Cropped_224\\extracted_face_1 (2535).jpg_0.png\n",
      "Removed duplicate: Transformed_Datasets\\NOT_Auguste_Cropped_224\\extracted_face_1 (2536).jpg_0.png\n",
      "Removed duplicate: Transformed_Datasets\\NOT_Auguste_Cropped_224\\extracted_face_1 (2537).jpg_0.png\n",
      "Removed duplicate: Transformed_Datasets\\NOT_Auguste_Cropped_224\\extracted_face_1 (2538).jpg_0.png\n",
      "Removed duplicate: Transformed_Datasets\\NOT_Auguste_Cropped_224\\extracted_face_1 (2539).jpg_0.png\n",
      "Removed duplicate: Transformed_Datasets\\NOT_Auguste_Cropped_224\\extracted_face_1 (254).jpg_0.png\n",
      "Removed duplicate: Transformed_Datasets\\NOT_Auguste_Cropped_224\\extracted_face_1 (2540).jpg_0.png\n",
      "Removed duplicate: Transformed_Datasets\\NOT_Auguste_Cropped_224\\extracted_face_1 (2542).jpg_0.png\n",
      "Removed duplicate: Transformed_Datasets\\NOT_Auguste_Cropped_224\\extracted_face_1 (2543).jpg_0.png\n",
      "Removed duplicate: Transformed_Datasets\\NOT_Auguste_Cropped_224\\extracted_face_1 (2544).jpg_0.png\n",
      "Removed duplicate: Transformed_Datasets\\NOT_Auguste_Cropped_224\\extracted_face_1 (2545).jpg_0.png\n",
      "Removed duplicate: Transformed_Datasets\\NOT_Auguste_Cropped_224\\extracted_face_1 (2546).jpg_0.png\n",
      "Removed duplicate: Transformed_Datasets\\NOT_Auguste_Cropped_224\\extracted_face_1 (2548).jpg_0.png\n",
      "Removed duplicate: Transformed_Datasets\\NOT_Auguste_Cropped_224\\extracted_face_1 (2549).jpg_0.png\n",
      "Removed duplicate: Transformed_Datasets\\NOT_Auguste_Cropped_224\\extracted_face_1 (2550).jpg_0.png\n",
      "Removed duplicate: Transformed_Datasets\\NOT_Auguste_Cropped_224\\extracted_face_1 (2551).jpg_0.png\n",
      "Removed duplicate: Transformed_Datasets\\NOT_Auguste_Cropped_224\\extracted_face_1 (2552).jpg_0.png\n",
      "Removed duplicate: Transformed_Datasets\\NOT_Auguste_Cropped_224\\extracted_face_1 (2553).jpg_0.png\n",
      "Removed duplicate: Transformed_Datasets\\NOT_Auguste_Cropped_224\\extracted_face_1 (2554).jpg_0.png\n",
      "Removed duplicate: Transformed_Datasets\\NOT_Auguste_Cropped_224\\extracted_face_1 (2555).jpg_0.png\n",
      "Removed duplicate: Transformed_Datasets\\NOT_Auguste_Cropped_224\\extracted_face_1 (2556).jpg_0.png\n",
      "Removed duplicate: Transformed_Datasets\\NOT_Auguste_Cropped_224\\extracted_face_1 (2557).jpg_0.png\n",
      "Removed duplicate: Transformed_Datasets\\NOT_Auguste_Cropped_224\\extracted_face_1 (2558).jpg_0.png\n",
      "Removed duplicate: Transformed_Datasets\\NOT_Auguste_Cropped_224\\extracted_face_1 (2559).jpg_0.png\n",
      "Removed duplicate: Transformed_Datasets\\NOT_Auguste_Cropped_224\\extracted_face_1 (256).jpg_0.png\n",
      "Removed duplicate: Transformed_Datasets\\NOT_Auguste_Cropped_224\\extracted_face_1 (2560).jpg_0.png\n",
      "Removed duplicate: Transformed_Datasets\\NOT_Auguste_Cropped_224\\extracted_face_1 (2561).jpg_0.png\n",
      "Removed duplicate: Transformed_Datasets\\NOT_Auguste_Cropped_224\\extracted_face_1 (2562).jpg_0.png\n",
      "Removed duplicate: Transformed_Datasets\\NOT_Auguste_Cropped_224\\extracted_face_1 (2563).jpg_0.png\n",
      "Removed duplicate: Transformed_Datasets\\NOT_Auguste_Cropped_224\\extracted_face_1 (2564).jpg_0.png\n",
      "Removed duplicate: Transformed_Datasets\\NOT_Auguste_Cropped_224\\extracted_face_1 (2565).jpg_0.png\n",
      "Removed duplicate: Transformed_Datasets\\NOT_Auguste_Cropped_224\\extracted_face_1 (2566).jpg_0.png\n",
      "Removed duplicate: Transformed_Datasets\\NOT_Auguste_Cropped_224\\extracted_face_1 (2567).jpg_0.png\n",
      "Removed duplicate: Transformed_Datasets\\NOT_Auguste_Cropped_224\\extracted_face_1 (2568).jpg_0.png\n",
      "Removed duplicate: Transformed_Datasets\\NOT_Auguste_Cropped_224\\extracted_face_1 (2569).jpg_0.png\n",
      "Removed duplicate: Transformed_Datasets\\NOT_Auguste_Cropped_224\\extracted_face_1 (257).jpg_0.png\n",
      "Removed duplicate: Transformed_Datasets\\NOT_Auguste_Cropped_224\\extracted_face_1 (2570).jpg_0.png\n",
      "Removed duplicate: Transformed_Datasets\\NOT_Auguste_Cropped_224\\extracted_face_1 (2571).jpg_0.png\n",
      "Removed duplicate: Transformed_Datasets\\NOT_Auguste_Cropped_224\\extracted_face_1 (2572).jpg_0.png\n",
      "Removed duplicate: Transformed_Datasets\\NOT_Auguste_Cropped_224\\extracted_face_1 (2573).jpg_0.png\n",
      "Removed duplicate: Transformed_Datasets\\NOT_Auguste_Cropped_224\\extracted_face_1 (2574).jpg_0.png\n",
      "Removed duplicate: Transformed_Datasets\\NOT_Auguste_Cropped_224\\extracted_face_1 (2575).jpg_0.png\n",
      "Removed duplicate: Transformed_Datasets\\NOT_Auguste_Cropped_224\\extracted_face_1 (2576).jpg_0.png\n",
      "Removed duplicate: Transformed_Datasets\\NOT_Auguste_Cropped_224\\extracted_face_1 (2577).jpg_0.png\n",
      "Removed duplicate: Transformed_Datasets\\NOT_Auguste_Cropped_224\\extracted_face_1 (2578).jpg_0.png\n",
      "Removed duplicate: Transformed_Datasets\\NOT_Auguste_Cropped_224\\extracted_face_1 (2579).jpg_0.png\n",
      "Removed duplicate: Transformed_Datasets\\NOT_Auguste_Cropped_224\\extracted_face_1 (258).jpg_0.png\n",
      "Removed duplicate: Transformed_Datasets\\NOT_Auguste_Cropped_224\\extracted_face_1 (2580).jpg_0.png\n",
      "Removed duplicate: Transformed_Datasets\\NOT_Auguste_Cropped_224\\extracted_face_1 (2581).jpg_0.png\n",
      "Removed duplicate: Transformed_Datasets\\NOT_Auguste_Cropped_224\\extracted_face_1 (2582).jpg_0.png\n",
      "Removed duplicate: Transformed_Datasets\\NOT_Auguste_Cropped_224\\extracted_face_1 (2583).jpg_0.png\n",
      "Removed duplicate: Transformed_Datasets\\NOT_Auguste_Cropped_224\\extracted_face_1 (2583).jpg_1.png\n",
      "Removed duplicate: Transformed_Datasets\\NOT_Auguste_Cropped_224\\extracted_face_1 (2584).jpg_0.png\n",
      "Removed duplicate: Transformed_Datasets\\NOT_Auguste_Cropped_224\\extracted_face_1 (2585).jpg_0.png\n",
      "Removed duplicate: Transformed_Datasets\\NOT_Auguste_Cropped_224\\extracted_face_1 (2586).jpg_0.png\n",
      "Removed duplicate: Transformed_Datasets\\NOT_Auguste_Cropped_224\\extracted_face_1 (2587).jpg_0.png\n",
      "Removed duplicate: Transformed_Datasets\\NOT_Auguste_Cropped_224\\extracted_face_1 (2588).jpg_0.png\n",
      "Removed duplicate: Transformed_Datasets\\NOT_Auguste_Cropped_224\\extracted_face_1 (2589).jpg_0.png\n",
      "Removed duplicate: Transformed_Datasets\\NOT_Auguste_Cropped_224\\extracted_face_1 (259).jpg_0.png\n",
      "Removed duplicate: Transformed_Datasets\\NOT_Auguste_Cropped_224\\extracted_face_1 (2590).jpg_0.png\n",
      "Removed duplicate: Transformed_Datasets\\NOT_Auguste_Cropped_224\\extracted_face_1 (2591).jpg_0.png\n",
      "Removed duplicate: Transformed_Datasets\\NOT_Auguste_Cropped_224\\extracted_face_1 (2592).jpg_0.png\n",
      "Removed duplicate: Transformed_Datasets\\NOT_Auguste_Cropped_224\\extracted_face_1 (2593).jpg_0.png\n",
      "Removed duplicate: Transformed_Datasets\\NOT_Auguste_Cropped_224\\extracted_face_1 (2594).jpg_0.png\n",
      "Removed duplicate: Transformed_Datasets\\NOT_Auguste_Cropped_224\\extracted_face_1 (2595).jpg_0.png\n",
      "Removed duplicate: Transformed_Datasets\\NOT_Auguste_Cropped_224\\extracted_face_1 (2596).jpg_0.png\n",
      "Removed duplicate: Transformed_Datasets\\NOT_Auguste_Cropped_224\\extracted_face_1 (2597).jpg_0.png\n",
      "Removed duplicate: Transformed_Datasets\\NOT_Auguste_Cropped_224\\extracted_face_1 (2598).jpg_0.png\n",
      "Removed duplicate: Transformed_Datasets\\NOT_Auguste_Cropped_224\\extracted_face_1 (2599).jpg_0.png\n",
      "Removed duplicate: Transformed_Datasets\\NOT_Auguste_Cropped_224\\extracted_face_1 (26).jpg_0.png\n",
      "Removed duplicate: Transformed_Datasets\\NOT_Auguste_Cropped_224\\extracted_face_1 (26).png_0.png\n",
      "Removed duplicate: Transformed_Datasets\\NOT_Auguste_Cropped_224\\extracted_face_1 (260).jpg_0.png\n",
      "Removed duplicate: Transformed_Datasets\\NOT_Auguste_Cropped_224\\extracted_face_1 (2600).jpg_0.png\n",
      "Removed duplicate: Transformed_Datasets\\NOT_Auguste_Cropped_224\\extracted_face_1 (2601).jpg_0.png\n",
      "Removed duplicate: Transformed_Datasets\\NOT_Auguste_Cropped_224\\extracted_face_1 (2601).jpg_1.png\n",
      "Removed duplicate: Transformed_Datasets\\NOT_Auguste_Cropped_224\\extracted_face_1 (2601).jpg_2.png\n",
      "Removed duplicate: Transformed_Datasets\\NOT_Auguste_Cropped_224\\extracted_face_1 (2601).jpg_3.png\n",
      "Removed duplicate: Transformed_Datasets\\NOT_Auguste_Cropped_224\\extracted_face_1 (2603).jpg_0.png\n",
      "Removed duplicate: Transformed_Datasets\\NOT_Auguste_Cropped_224\\extracted_face_1 (2604).jpg_0.png\n",
      "Removed duplicate: Transformed_Datasets\\NOT_Auguste_Cropped_224\\extracted_face_1 (2605).jpg_0.png\n",
      "Removed duplicate: Transformed_Datasets\\NOT_Auguste_Cropped_224\\extracted_face_1 (2606).jpg_0.png\n",
      "Removed duplicate: Transformed_Datasets\\NOT_Auguste_Cropped_224\\extracted_face_1 (2607).jpg_0.png\n",
      "Removed duplicate: Transformed_Datasets\\NOT_Auguste_Cropped_224\\extracted_face_1 (261).jpg_0.png\n",
      "Removed duplicate: Transformed_Datasets\\NOT_Auguste_Cropped_224\\extracted_face_1 (2610).jpg_0.png\n",
      "Removed duplicate: Transformed_Datasets\\NOT_Auguste_Cropped_224\\extracted_face_1 (2611).jpg_0.png\n",
      "Removed duplicate: Transformed_Datasets\\NOT_Auguste_Cropped_224\\extracted_face_1 (2612).jpg_0.png\n",
      "Removed duplicate: Transformed_Datasets\\NOT_Auguste_Cropped_224\\extracted_face_1 (2613).jpg_0.png\n",
      "Removed duplicate: Transformed_Datasets\\NOT_Auguste_Cropped_224\\extracted_face_1 (2614).jpg_0.png\n",
      "Removed duplicate: Transformed_Datasets\\NOT_Auguste_Cropped_224\\extracted_face_1 (2615).jpg_0.png\n",
      "Removed duplicate: Transformed_Datasets\\NOT_Auguste_Cropped_224\\extracted_face_1 (2616).jpg_0.png\n",
      "Removed duplicate: Transformed_Datasets\\NOT_Auguste_Cropped_224\\extracted_face_1 (2617).jpg_0.png\n",
      "Removed duplicate: Transformed_Datasets\\NOT_Auguste_Cropped_224\\extracted_face_1 (2618).jpg_0.png\n",
      "Removed duplicate: Transformed_Datasets\\NOT_Auguste_Cropped_224\\extracted_face_1 (2619).jpg_0.png\n",
      "Removed duplicate: Transformed_Datasets\\NOT_Auguste_Cropped_224\\extracted_face_1 (262).jpg_0.png\n",
      "Removed duplicate: Transformed_Datasets\\NOT_Auguste_Cropped_224\\extracted_face_1 (2620).jpg_0.png\n",
      "Removed duplicate: Transformed_Datasets\\NOT_Auguste_Cropped_224\\extracted_face_1 (2621).jpg_0.png\n",
      "Removed duplicate: Transformed_Datasets\\NOT_Auguste_Cropped_224\\extracted_face_1 (2622).jpg_0.png\n",
      "Removed duplicate: Transformed_Datasets\\NOT_Auguste_Cropped_224\\extracted_face_1 (2623).jpg_0.png\n",
      "Removed duplicate: Transformed_Datasets\\NOT_Auguste_Cropped_224\\extracted_face_1 (2624).jpg_0.png\n",
      "Removed duplicate: Transformed_Datasets\\NOT_Auguste_Cropped_224\\extracted_face_1 (2626).jpg_0.png\n",
      "Removed duplicate: Transformed_Datasets\\NOT_Auguste_Cropped_224\\extracted_face_1 (2626).jpg_1.png\n",
      "Removed duplicate: Transformed_Datasets\\NOT_Auguste_Cropped_224\\extracted_face_1 (2627).jpg_0.png\n",
      "Removed duplicate: Transformed_Datasets\\NOT_Auguste_Cropped_224\\extracted_face_1 (2628).jpg_0.png\n",
      "Removed duplicate: Transformed_Datasets\\NOT_Auguste_Cropped_224\\extracted_face_1 (2629).jpg_0.png\n",
      "Removed duplicate: Transformed_Datasets\\NOT_Auguste_Cropped_224\\extracted_face_1 (263).jpg_0.png\n",
      "Removed duplicate: Transformed_Datasets\\NOT_Auguste_Cropped_224\\extracted_face_1 (2630).jpg_0.png\n",
      "Removed duplicate: Transformed_Datasets\\NOT_Auguste_Cropped_224\\extracted_face_1 (2631).jpg_0.png\n",
      "Removed duplicate: Transformed_Datasets\\NOT_Auguste_Cropped_224\\extracted_face_1 (2631).jpg_1.png\n",
      "Removed duplicate: Transformed_Datasets\\NOT_Auguste_Cropped_224\\extracted_face_1 (2632).jpg_0.png\n",
      "Removed duplicate: Transformed_Datasets\\NOT_Auguste_Cropped_224\\extracted_face_1 (2633).jpg_0.png\n",
      "Removed duplicate: Transformed_Datasets\\NOT_Auguste_Cropped_224\\extracted_face_1 (2634).jpg_0.png\n",
      "Removed duplicate: Transformed_Datasets\\NOT_Auguste_Cropped_224\\extracted_face_1 (2635).jpg_0.png\n",
      "Removed duplicate: Transformed_Datasets\\NOT_Auguste_Cropped_224\\extracted_face_1 (2636).jpg_0.png\n",
      "Removed duplicate: Transformed_Datasets\\NOT_Auguste_Cropped_224\\extracted_face_1 (2637).jpg_0.png\n",
      "Removed duplicate: Transformed_Datasets\\NOT_Auguste_Cropped_224\\extracted_face_1 (2637).jpg_1.png\n",
      "Removed duplicate: Transformed_Datasets\\NOT_Auguste_Cropped_224\\extracted_face_1 (2637).jpg_2.png\n",
      "Removed duplicate: Transformed_Datasets\\NOT_Auguste_Cropped_224\\extracted_face_1 (2638).jpg_0.png\n",
      "Removed duplicate: Transformed_Datasets\\NOT_Auguste_Cropped_224\\extracted_face_1 (2638).jpg_1.png\n",
      "Removed duplicate: Transformed_Datasets\\NOT_Auguste_Cropped_224\\extracted_face_1 (2639).jpg_0.png\n",
      "Removed duplicate: Transformed_Datasets\\NOT_Auguste_Cropped_224\\extracted_face_1 (264).jpg_0.png\n",
      "Removed duplicate: Transformed_Datasets\\NOT_Auguste_Cropped_224\\extracted_face_1 (2640).jpg_0.png\n",
      "Removed duplicate: Transformed_Datasets\\NOT_Auguste_Cropped_224\\extracted_face_1 (2641).jpg_0.png\n",
      "Removed duplicate: Transformed_Datasets\\NOT_Auguste_Cropped_224\\extracted_face_1 (2642).jpg_0.png\n",
      "Removed duplicate: Transformed_Datasets\\NOT_Auguste_Cropped_224\\extracted_face_1 (2643).jpg_0.png\n",
      "Removed duplicate: Transformed_Datasets\\NOT_Auguste_Cropped_224\\extracted_face_1 (2644).jpg_0.png\n",
      "Removed duplicate: Transformed_Datasets\\NOT_Auguste_Cropped_224\\extracted_face_1 (2645).jpg_0.png\n",
      "Removed duplicate: Transformed_Datasets\\NOT_Auguste_Cropped_224\\extracted_face_1 (2646).jpg_0.png\n",
      "Removed duplicate: Transformed_Datasets\\NOT_Auguste_Cropped_224\\extracted_face_1 (2647).jpg_0.png\n",
      "Removed duplicate: Transformed_Datasets\\NOT_Auguste_Cropped_224\\extracted_face_1 (2648).jpg_0.png\n",
      "Removed duplicate: Transformed_Datasets\\NOT_Auguste_Cropped_224\\extracted_face_1 (2649).jpg_0.png\n",
      "Removed duplicate: Transformed_Datasets\\NOT_Auguste_Cropped_224\\extracted_face_1 (265).jpg_0.png\n",
      "Removed duplicate: Transformed_Datasets\\NOT_Auguste_Cropped_224\\extracted_face_1 (2650).jpg_0.png\n",
      "Removed duplicate: Transformed_Datasets\\NOT_Auguste_Cropped_224\\extracted_face_1 (2651).jpg_0.png\n",
      "Removed duplicate: Transformed_Datasets\\NOT_Auguste_Cropped_224\\extracted_face_1 (2652).jpg_0.png\n",
      "Removed duplicate: Transformed_Datasets\\NOT_Auguste_Cropped_224\\extracted_face_1 (2653).jpg_0.png\n",
      "Removed duplicate: Transformed_Datasets\\NOT_Auguste_Cropped_224\\extracted_face_1 (2655).jpg_0.png\n",
      "Removed duplicate: Transformed_Datasets\\NOT_Auguste_Cropped_224\\extracted_face_1 (2656).jpg_0.png\n",
      "Removed duplicate: Transformed_Datasets\\NOT_Auguste_Cropped_224\\extracted_face_1 (2657).jpg_0.png\n",
      "Removed duplicate: Transformed_Datasets\\NOT_Auguste_Cropped_224\\extracted_face_1 (2658).jpg_0.png\n",
      "Removed duplicate: Transformed_Datasets\\NOT_Auguste_Cropped_224\\extracted_face_1 (2659).jpg_0.png\n",
      "Removed duplicate: Transformed_Datasets\\NOT_Auguste_Cropped_224\\extracted_face_1 (266).jpg_0.png\n",
      "Removed duplicate: Transformed_Datasets\\NOT_Auguste_Cropped_224\\extracted_face_14ff0edc-efbe-4fbb-b605-f79675bd3ac5-2.jpg_0.png\n",
      "Removed duplicate: Transformed_Datasets\\NOT_Auguste_Cropped_224\\extracted_face_14ff0edc-efbe-4fbb-b605-f79675bd3ac5.jpg_0.png\n",
      "Removed duplicate: Transformed_Datasets\\NOT_Auguste_Cropped_224\\extracted_face_34b3cb41-8b6f-4a57-bc47-7915e6502d30-2.jpg_1.png\n",
      "Removed duplicate: Transformed_Datasets\\NOT_Auguste_Cropped_224\\extracted_face_34b3cb41-8b6f-4a57-bc47-7915e6502d30.jpg_1.png\n",
      "Removed duplicate: Transformed_Datasets\\NOT_Auguste_Cropped_224\\extracted_face_83A981A4-BAB7-4BDE-8089-D704A77D53EF.JPG_0.png\n",
      "Removed duplicate: Transformed_Datasets\\NOT_Auguste_Cropped_224\\extracted_face_83A981A4-BAB7-4BDE-8089-D704A77D53EF.JPG_2.png\n",
      "Removed duplicate: Transformed_Datasets\\NOT_Auguste_Cropped_224\\extracted_face_83A981A4-BAB7-4BDE-8089-D704A77D53EF.JPG_3.png\n",
      "Removed duplicate: Transformed_Datasets\\NOT_Auguste_Cropped_224\\extracted_face_83A981A4-BAB7-4BDE-8089-D704A77D53EF.JPG_4.png\n",
      "Removed duplicate: Transformed_Datasets\\NOT_Auguste_Cropped_224\\extracted_face_83A981A4-BAB7-4BDE-8089-D704A77D53EF.JPG_5.png\n",
      "Removed duplicate: Transformed_Datasets\\NOT_Auguste_Cropped_224\\extracted_face_83A981A4-BAB7-4BDE-8089-D704A77D53EF.JPG_6.png\n",
      "Removed duplicate: Transformed_Datasets\\NOT_Auguste_Cropped_224\\extracted_face_b119a5c2-595b-49d2-afa9-f0a225760a2c.jpg_1.png\n",
      "Removed duplicate: Transformed_Datasets\\NOT_Auguste_Cropped_224\\extracted_face_b119a5c2-595b-49d2-afa9-f0a225760a2c.jpg_2.png\n",
      "Removed duplicate: Transformed_Datasets\\NOT_Auguste_Cropped_224\\extracted_face_b119a5c2-595b-49d2-afa9-f0a225760a2c.jpg_3.png\n",
      "Removed duplicate: Transformed_Datasets\\NOT_Auguste_Cropped_224\\extracted_face_b119a5c2-595b-49d2-afa9-f0a225760a2c.jpg_4.png\n",
      "Removed duplicate: Transformed_Datasets\\NOT_Auguste_Cropped_224\\extracted_face_eab83420-df68-4dee-b464-4ea535d218ca.jpg_0.png\n",
      "Removed duplicate: Transformed_Datasets\\NOT_Auguste_Cropped_224\\extracted_face_eab83420-df68-4dee-b464-4ea535d218ca.jpg_1.png\n",
      "Removed duplicate: Transformed_Datasets\\NOT_Auguste_Cropped_224\\extracted_face_eab83420-df68-4dee-b464-4ea535d218ca.jpg_3.png\n",
      "Removed duplicate: Transformed_Datasets\\NOT_Auguste_Cropped_224\\extracted_face_eab83420-df68-4dee-b464-4ea535d218ca.jpg_4.png\n",
      "Removed duplicate: Transformed_Datasets\\NOT_Auguste_Cropped_224\\extracted_face_FullSizeRender-7.JPEG_0.png\n",
      "Removed duplicate: Transformed_Datasets\\NOT_Auguste_Cropped_224\\extracted_face_FullSizeRender-7.JPEG_1.png\n",
      "Removed duplicate: Transformed_Datasets\\NOT_Auguste_Cropped_224\\extracted_face_FullSizeRender-7.JPEG_3.png\n",
      "Removed duplicate: Transformed_Datasets\\NOT_Auguste_Cropped_224\\extracted_face_FullSizeRender-8.JPEG_1.png\n",
      "Removed duplicate: Transformed_Datasets\\NOT_Auguste_Cropped_224\\extracted_face_FullSizeRender-8.JPEG_2.png\n",
      "Removed duplicate: Transformed_Datasets\\NOT_Auguste_Cropped_224\\extracted_face_FullSizeRender-8.JPEG_3.png\n",
      "Removed duplicate: Transformed_Datasets\\NOT_Auguste_Cropped_224\\extracted_face_FullSizeRender-8.JPEG_4.png\n",
      "Removed duplicate: Transformed_Datasets\\NOT_Auguste_Cropped_224\\extracted_face_FullSizeRender-8.JPEG_5.png\n",
      "Removed duplicate: Transformed_Datasets\\NOT_Auguste_Cropped_224\\extracted_face_FullSizeRender-8.JPEG_6.png\n",
      "Removed duplicate: Transformed_Datasets\\NOT_Auguste_Cropped_224\\extracted_face_IMG_3993.JPEG_0.png\n",
      "Removed duplicate: Transformed_Datasets\\NOT_Auguste_Cropped_224\\extracted_face_IMG_3993.JPEG_1.png\n",
      "Removed duplicate: Transformed_Datasets\\NOT_Auguste_Cropped_224\\extracted_face_IMG_4177.JPEG_0.png\n",
      "Removed duplicate: Transformed_Datasets\\NOT_Auguste_Cropped_224\\extracted_face_IMG_4177.JPEG_2.png\n",
      "Removed duplicate: Transformed_Datasets\\NOT_Auguste_Cropped_224\\extracted_face_IMG_4177.JPEG_3.png\n",
      "Removed duplicate: Transformed_Datasets\\NOT_Auguste_Cropped_224\\extracted_face_IMG_4340.JPEG_0.png\n",
      "Removed duplicate: Transformed_Datasets\\NOT_Auguste_Cropped_224\\extracted_face_IMG_4340.JPEG_1.png\n",
      "Removed duplicate: Transformed_Datasets\\NOT_Auguste_Cropped_224\\extracted_face_IMG_4340.JPEG_3.png\n",
      "Removed duplicate: Transformed_Datasets\\NOT_Auguste_Cropped_224\\extracted_face_IMG_4340.JPEG_4.png\n",
      "Removed duplicate: Transformed_Datasets\\NOT_Auguste_Cropped_224\\extracted_face_IMG_4341.JPEG_0.png\n",
      "Removed duplicate: Transformed_Datasets\\NOT_Auguste_Cropped_224\\extracted_face_IMG_4341.JPEG_2.png\n",
      "Removed duplicate: Transformed_Datasets\\NOT_Auguste_Cropped_224\\extracted_face_IMG_4341.JPEG_3.png\n",
      "Removed duplicate: Transformed_Datasets\\NOT_Auguste_Cropped_224\\extracted_face_IMG_4341.JPEG_4.png\n",
      "Removed duplicate: Transformed_Datasets\\NOT_Auguste_Cropped_224\\extracted_face_IMG_4341.JPEG_5.png\n",
      "Removed duplicate: Transformed_Datasets\\NOT_Auguste_Cropped_224\\extracted_face_IMG_4342.JPEG_0.png\n",
      "Removed duplicate: Transformed_Datasets\\NOT_Auguste_Cropped_224\\extracted_face_IMG_4342.JPEG_1.png\n",
      "Removed duplicate: Transformed_Datasets\\NOT_Auguste_Cropped_224\\extracted_face_IMG_4342.JPEG_2.png\n",
      "Removed duplicate: Transformed_Datasets\\NOT_Auguste_Cropped_224\\extracted_face_IMG_4342.JPEG_4.png\n",
      "Removed duplicate: Transformed_Datasets\\NOT_Auguste_Cropped_224\\extracted_face_IMG_4342.JPEG_5.png\n",
      "Removed duplicate: Transformed_Datasets\\NOT_Auguste_Cropped_224\\extracted_face_IMG_4350.JPEG_0.png\n",
      "Removed duplicate: Transformed_Datasets\\NOT_Auguste_Cropped_224\\extracted_face_IMG_4350.JPEG_1.png\n",
      "Removed duplicate: Transformed_Datasets\\NOT_Auguste_Cropped_224\\extracted_face_IMG_4350.JPEG_3.png\n",
      "Removed duplicate: Transformed_Datasets\\NOT_Auguste_Cropped_224\\extracted_face_IMG_4350.JPEG_4.png\n",
      "Removed duplicate: Transformed_Datasets\\NOT_Auguste_Cropped_224\\extracted_face_IMG_4350.JPEG_5.png\n",
      "Removed duplicate: Transformed_Datasets\\NOT_Auguste_Cropped_224\\extracted_face_IMG_5565.JPEG_0.png\n",
      "Removed duplicate: Transformed_Datasets\\NOT_Auguste_Cropped_224\\extracted_face_IMG_5565.JPEG_1.png\n",
      "Removed duplicate: Transformed_Datasets\\NOT_Auguste_Cropped_224\\extracted_face_IMG_6907-1.JPEG_1.png\n",
      "Removed duplicate: Transformed_Datasets\\NOT_Auguste_Cropped_224\\extracted_face_IMG_6912.JPEG_1.png\n",
      "Removed duplicate: Transformed_Datasets\\NOT_Auguste_Cropped_224\\extracted_face_IMG_6912.JPEG_2.png\n",
      "Removed duplicate: Transformed_Datasets\\NOT_Auguste_Cropped_224\\extracted_face_IMG_6914.JPEG_1.png\n",
      "Removed duplicate: Transformed_Datasets\\NOT_Auguste_Cropped_224\\extracted_face_IMG_6914.JPEG_2.png\n",
      "Removed duplicate: Transformed_Datasets\\NOT_Auguste_Cropped_224\\extracted_face_IMG_8022.JPG_0.png\n",
      "Removed duplicate: Transformed_Datasets\\NOT_Auguste_Cropped_224\\extracted_face_IMG_8022.JPG_1.png\n",
      "Removed duplicate: Transformed_Datasets\\NOT_Auguste_Cropped_224\\extracted_face_IMG_8022.JPG_2.png\n",
      "Removed duplicate: Transformed_Datasets\\NOT_Auguste_Cropped_224\\extracted_face_IMG_8022.JPG_3.png\n",
      "Removed duplicate: Transformed_Datasets\\NOT_Auguste_Cropped_224\\extracted_face_IMG_8022.JPG_4.png\n",
      "Removed duplicate: Transformed_Datasets\\NOT_Auguste_Cropped_224\\extracted_face_IMG_8022.JPG_5.png\n",
      "Removed 3083 duplicates.\n"
     ]
    }
   ],
   "source": [
    "import hashlib\n",
    "import os\n",
    "from PIL import Image\n",
    "\n",
    "def file_hash(filepath):\n",
    "    with open(filepath, 'rb') as f:\n",
    "        return hashlib.md5(f.read()).hexdigest()\n",
    "\n",
    "def remove_duplicates(dir_path):\n",
    "    if not os.path.exists(dir_path):\n",
    "        print(\"Directory does not exist.\")\n",
    "        return\n",
    "\n",
    "    hashes = {}\n",
    "    duplicates = []\n",
    "\n",
    "    file_list = [os.path.join(dir_path, file) for file in os.listdir(dir_path) if file.lower().endswith(('.png', '.jpg', '.jpeg'))]\n",
    "    for img_path in file_list:\n",
    "        # Open the image and convert it to RGB\n",
    "        try:\n",
    "            img = Image.open(img_path).convert('RGB')\n",
    "            hash = file_hash(img_path)\n",
    "\n",
    "            if hash in hashes:\n",
    "                duplicates.append(img_path)\n",
    "            else:\n",
    "                hashes[hash] = img_path\n",
    "        except IOError:\n",
    "            print(f'Error handling the file {img_path}, it may not be an image or is corrupted.')\n",
    "\n",
    "    # Remove duplicates\n",
    "    for dup in duplicates:\n",
    "        os.remove(dup)\n",
    "        print(f'Removed duplicate: {dup}')\n",
    "\n",
    "    print(f\"Removed {len(duplicates)} duplicates.\")\n",
    "\n",
    "directory_path = r'Transformed_Datasets\\NOT_Auguste_Cropped_224'\n",
    "remove_duplicates(directory_path)"
   ]
  },
  {
   "cell_type": "code",
   "execution_count": 3,
   "metadata": {},
   "outputs": [
    {
     "name": "stdout",
     "output_type": "stream",
     "text": [
      "Requirement already satisfied: tqdm in c:\\users\\adoye\\appdata\\local\\programs\\python\\python310\\lib\\site-packages (4.66.1)Note: you may need to restart the kernel to use updated packages.\n",
      "\n",
      "Requirement already satisfied: colorama in c:\\users\\adoye\\appdata\\roaming\\python\\python310\\site-packages (from tqdm) (0.4.6)\n"
     ]
    }
   ],
   "source": [
    "%pip install tqdm"
   ]
  },
  {
   "cell_type": "code",
   "execution_count": 4,
   "metadata": {},
   "outputs": [
    {
     "name": "stderr",
     "output_type": "stream",
     "text": [
      "Analyzing Similarity:   0%|          | 11/11826 [00:00<04:08, 47.63it/s]"
     ]
    },
    {
     "name": "stdout",
     "output_type": "stream",
     "text": [
      "Moved extracted_face_0 (1).jpg_0.png to TOO_SIMILAR - Similarity: 81.24%\n",
      "Moved extracted_face_0 (10).jpeg_0.png to TOO_SIMILAR - Similarity: 81.26%\n",
      "Moved extracted_face_0 (100).jpg_0.png to TOO_SIMILAR - Similarity: 80.13%\n",
      "Moved extracted_face_0 (1001).jpg_0.png to TOO_SIMILAR - Similarity: 80.08%\n"
     ]
    },
    {
     "name": "stderr",
     "output_type": "stream",
     "text": [
      "Analyzing Similarity:   0%|          | 21/11826 [00:00<04:49, 40.71it/s]"
     ]
    },
    {
     "name": "stdout",
     "output_type": "stream",
     "text": [
      "Moved extracted_face_0 (1005).jpg_0.png to TOO_SIMILAR - Similarity: 88.35%\n",
      "Moved extracted_face_0 (1012).jpg_0.png to TOO_SIMILAR - Similarity: 83.80%\n"
     ]
    },
    {
     "name": "stderr",
     "output_type": "stream",
     "text": [
      "Analyzing Similarity:   0%|          | 31/11826 [00:00<04:49, 40.80it/s]"
     ]
    },
    {
     "name": "stdout",
     "output_type": "stream",
     "text": [
      "Moved extracted_face_0 (1013).jpg_0.png to TOO_SIMILAR - Similarity: 81.77%\n",
      "Moved extracted_face_0 (1019).jpg_0.png to TOO_SIMILAR - Similarity: 86.98%\n",
      "Moved extracted_face_0 (102).jpg_0.png to TOO_SIMILAR - Similarity: 80.66%\n"
     ]
    },
    {
     "name": "stderr",
     "output_type": "stream",
     "text": [
      "Analyzing Similarity:   0%|          | 41/11826 [00:01<05:19, 36.93it/s]"
     ]
    },
    {
     "name": "stdout",
     "output_type": "stream",
     "text": [
      "Moved extracted_face_0 (1020).jpg_0.png to TOO_SIMILAR - Similarity: 81.18%\n",
      "Moved extracted_face_0 (1021).jpg_0.png to TOO_SIMILAR - Similarity: 81.41%\n",
      "Moved extracted_face_0 (1023).jpg_0.png to TOO_SIMILAR - Similarity: 84.52%\n",
      "Moved extracted_face_0 (1024).jpg_0.png to TOO_SIMILAR - Similarity: 85.43%\n",
      "Moved extracted_face_0 (1025).jpg_0.png to TOO_SIMILAR - Similarity: 81.39%\n"
     ]
    },
    {
     "name": "stderr",
     "output_type": "stream",
     "text": [
      "Analyzing Similarity:   0%|          | 45/11826 [00:01<05:42, 34.41it/s]"
     ]
    },
    {
     "name": "stdout",
     "output_type": "stream",
     "text": [
      "Moved extracted_face_0 (1028).jpg_0.png to TOO_SIMILAR - Similarity: 88.71%\n",
      "Moved extracted_face_0 (103).jpg_0.png to TOO_SIMILAR - Similarity: 84.93%\n",
      "Moved extracted_face_0 (1030).jpg_0.png to TOO_SIMILAR - Similarity: 85.51%\n"
     ]
    },
    {
     "name": "stderr",
     "output_type": "stream",
     "text": [
      "Analyzing Similarity:   0%|          | 49/11826 [00:01<06:58, 28.14it/s]"
     ]
    },
    {
     "name": "stdout",
     "output_type": "stream",
     "text": [
      "Moved extracted_face_0 (1034).jpg_0.png to TOO_SIMILAR - Similarity: 83.69%\n",
      "Moved extracted_face_0 (1035).jpg_0.png to TOO_SIMILAR - Similarity: 81.88%\n"
     ]
    },
    {
     "name": "stderr",
     "output_type": "stream",
     "text": [
      "Analyzing Similarity:   0%|          | 53/11826 [00:01<08:47, 22.33it/s]"
     ]
    },
    {
     "name": "stdout",
     "output_type": "stream",
     "text": [
      "Moved extracted_face_0 (1038).jpg_0.png to TOO_SIMILAR - Similarity: 83.68%\n",
      "Moved extracted_face_0 (1039).jpg_0.png to TOO_SIMILAR - Similarity: 83.88%\n",
      "Moved extracted_face_0 (104).jpg_0.png to TOO_SIMILAR - Similarity: 81.59%\n"
     ]
    },
    {
     "name": "stderr",
     "output_type": "stream",
     "text": [
      "Analyzing Similarity:   0%|          | 59/11826 [00:02<12:13, 16.05it/s]"
     ]
    },
    {
     "name": "stdout",
     "output_type": "stream",
     "text": [
      "Moved extracted_face_0 (1041).jpg_0.png to TOO_SIMILAR - Similarity: 82.48%\n"
     ]
    },
    {
     "name": "stderr",
     "output_type": "stream",
     "text": [
      "Analyzing Similarity:   1%|          | 66/11826 [00:02<09:35, 20.43it/s]"
     ]
    },
    {
     "name": "stdout",
     "output_type": "stream",
     "text": [
      "Moved extracted_face_0 (1044).jpg_0.png to TOO_SIMILAR - Similarity: 85.43%\n",
      "Moved extracted_face_0 (1047).jpg_0.png to TOO_SIMILAR - Similarity: 86.88%\n",
      "Moved extracted_face_0 (105).jpg_0.png to TOO_SIMILAR - Similarity: 85.10%\n"
     ]
    },
    {
     "name": "stderr",
     "output_type": "stream",
     "text": [
      "Analyzing Similarity:   1%|          | 74/11826 [00:02<07:15, 27.02it/s]"
     ]
    },
    {
     "name": "stdout",
     "output_type": "stream",
     "text": [
      "Moved extracted_face_0 (1055).jpg_0.png to TOO_SIMILAR - Similarity: 81.10%\n",
      "Moved extracted_face_0 (1056).jpg_0.png to TOO_SIMILAR - Similarity: 87.38%\n",
      "Moved extracted_face_0 (1058).jpg_0.png to TOO_SIMILAR - Similarity: 84.23%\n",
      "Moved extracted_face_0 (106).jpg_0.png to TOO_SIMILAR - Similarity: 83.40%\n",
      "Moved extracted_face_0 (1060).jpg_0.png to TOO_SIMILAR - Similarity: 87.64%\n"
     ]
    },
    {
     "name": "stderr",
     "output_type": "stream",
     "text": [
      "Analyzing Similarity:   1%|          | 87/11826 [00:03<06:38, 29.45it/s]"
     ]
    },
    {
     "name": "stdout",
     "output_type": "stream",
     "text": [
      "Moved extracted_face_0 (1066).jpg_0.png to TOO_SIMILAR - Similarity: 82.19%\n",
      "Moved extracted_face_0 (1068).jpg_0.png to TOO_SIMILAR - Similarity: 80.73%\n"
     ]
    },
    {
     "name": "stderr",
     "output_type": "stream",
     "text": [
      "Analyzing Similarity:   1%|          | 100/11826 [00:03<05:47, 33.75it/s]"
     ]
    },
    {
     "name": "stdout",
     "output_type": "stream",
     "text": [
      "Moved extracted_face_0 (1076).jpg_0.png to TOO_SIMILAR - Similarity: 80.80%\n",
      "Moved extracted_face_0 (1078).jpg_0.png to TOO_SIMILAR - Similarity: 80.77%\n",
      "Moved extracted_face_0 (1079).jpg_0.png to TOO_SIMILAR - Similarity: 82.23%\n",
      "Moved extracted_face_0 (108).jpg_0.png to TOO_SIMILAR - Similarity: 82.83%\n"
     ]
    },
    {
     "name": "stderr",
     "output_type": "stream",
     "text": [
      "Analyzing Similarity:   1%|          | 110/11826 [00:03<05:09, 37.87it/s]"
     ]
    },
    {
     "name": "stdout",
     "output_type": "stream",
     "text": [
      "Moved extracted_face_0 (1084).jpg_0.png to TOO_SIMILAR - Similarity: 81.84%\n",
      "Moved extracted_face_0 (1087).jpg_0.png to TOO_SIMILAR - Similarity: 82.67%\n",
      "Moved extracted_face_0 (1090).jpg_0.png to TOO_SIMILAR - Similarity: 80.32%\n"
     ]
    },
    {
     "name": "stderr",
     "output_type": "stream",
     "text": [
      "Analyzing Similarity:   1%|          | 118/11826 [00:03<05:45, 33.90it/s]"
     ]
    },
    {
     "name": "stdout",
     "output_type": "stream",
     "text": [
      "Moved extracted_face_0 (1093).jpg_0.png to TOO_SIMILAR - Similarity: 83.78%\n",
      "Moved extracted_face_0 (1094).jpg_0.png to TOO_SIMILAR - Similarity: 84.60%\n",
      "Moved extracted_face_0 (1098).jpg_0.png to TOO_SIMILAR - Similarity: 80.76%\n",
      "Moved extracted_face_0 (1099).jpg_0.png to TOO_SIMILAR - Similarity: 82.82%\n"
     ]
    },
    {
     "name": "stderr",
     "output_type": "stream",
     "text": [
      "Analyzing Similarity:   1%|          | 127/11826 [00:04<05:23, 36.14it/s]"
     ]
    },
    {
     "name": "stdout",
     "output_type": "stream",
     "text": [
      "Moved extracted_face_0 (11).jpeg_0.png to TOO_SIMILAR - Similarity: 83.95%\n",
      "Moved extracted_face_0 (110).jpg_0.png to TOO_SIMILAR - Similarity: 82.12%\n",
      "Moved extracted_face_0 (1102).jpg_0.png to TOO_SIMILAR - Similarity: 85.39%\n",
      "Moved extracted_face_0 (1104).jpg_0.png to TOO_SIMILAR - Similarity: 80.22%\n"
     ]
    },
    {
     "name": "stderr",
     "output_type": "stream",
     "text": [
      "Analyzing Similarity:   1%|          | 138/11826 [00:04<04:29, 43.43it/s]"
     ]
    },
    {
     "name": "stdout",
     "output_type": "stream",
     "text": [
      "Moved extracted_face_0 (1105).jpg_0.png to TOO_SIMILAR - Similarity: 85.77%\n",
      "Moved extracted_face_0 (1106).jpg_0.png to TOO_SIMILAR - Similarity: 83.47%\n",
      "Moved extracted_face_0 (1110).jpg_0.png to TOO_SIMILAR - Similarity: 81.02%\n",
      "Moved extracted_face_0 (1112).jpg_0.png to TOO_SIMILAR - Similarity: 82.14%\n"
     ]
    },
    {
     "name": "stderr",
     "output_type": "stream",
     "text": [
      "Analyzing Similarity:   1%|▏         | 149/11826 [00:04<04:07, 47.24it/s]"
     ]
    },
    {
     "name": "stdout",
     "output_type": "stream",
     "text": [
      "Moved extracted_face_0 (1119).jpg_0.png to TOO_SIMILAR - Similarity: 82.32%\n",
      "Moved extracted_face_0 (1122).jpg_0.png to TOO_SIMILAR - Similarity: 80.77%\n",
      "Moved extracted_face_0 (1124).jpg_0.png to TOO_SIMILAR - Similarity: 83.27%\n"
     ]
    },
    {
     "name": "stderr",
     "output_type": "stream",
     "text": [
      "Analyzing Similarity:   1%|▏         | 154/11826 [00:04<05:16, 36.85it/s]"
     ]
    },
    {
     "name": "stdout",
     "output_type": "stream",
     "text": [
      "Moved extracted_face_0 (1126).jpg_0.png to TOO_SIMILAR - Similarity: 84.11%\n",
      "Moved extracted_face_0 (1129).jpg_0.png to TOO_SIMILAR - Similarity: 81.21%\n",
      "Moved extracted_face_0 (113).jpg_0.png to TOO_SIMILAR - Similarity: 80.16%\n"
     ]
    },
    {
     "name": "stderr",
     "output_type": "stream",
     "text": [
      "Analyzing Similarity:   1%|▏         | 159/11826 [00:04<05:51, 33.23it/s]"
     ]
    },
    {
     "name": "stdout",
     "output_type": "stream",
     "text": [
      "Moved extracted_face_0 (1130).jpg_0.png to TOO_SIMILAR - Similarity: 83.83%\n",
      "Moved extracted_face_0 (1131).jpg_0.png to TOO_SIMILAR - Similarity: 84.13%\n",
      "Moved extracted_face_0 (1132).jpg_0.png to TOO_SIMILAR - Similarity: 87.40%\n",
      "Moved extracted_face_0 (1134).jpg_0.png to TOO_SIMILAR - Similarity: 87.97%\n",
      "Moved extracted_face_0 (1135).jpg_0.png to TOO_SIMILAR - Similarity: 80.75%\n"
     ]
    },
    {
     "name": "stderr",
     "output_type": "stream",
     "text": [
      "Analyzing Similarity:   1%|▏         | 171/11826 [00:05<05:54, 32.90it/s]"
     ]
    },
    {
     "name": "stdout",
     "output_type": "stream",
     "text": [
      "Moved extracted_face_0 (1138).jpg_0.png to TOO_SIMILAR - Similarity: 86.01%\n",
      "Moved extracted_face_0 (1139).jpg_0.png to TOO_SIMILAR - Similarity: 81.01%\n",
      "Moved extracted_face_0 (1140).jpg_0.png to TOO_SIMILAR - Similarity: 83.17%\n",
      "Moved extracted_face_0 (1144).jpg_0.png to TOO_SIMILAR - Similarity: 88.07%\n"
     ]
    },
    {
     "name": "stderr",
     "output_type": "stream",
     "text": [
      "Analyzing Similarity:   2%|▏         | 180/11826 [00:05<05:33, 34.88it/s]"
     ]
    },
    {
     "name": "stdout",
     "output_type": "stream",
     "text": [
      "Moved extracted_face_0 (1147).jpg_0.png to TOO_SIMILAR - Similarity: 86.27%\n",
      "Moved extracted_face_0 (1148).jpg_0.png to TOO_SIMILAR - Similarity: 84.90%\n",
      "Moved extracted_face_0 (1152).jpg_0.png to TOO_SIMILAR - Similarity: 83.71%\n"
     ]
    },
    {
     "name": "stderr",
     "output_type": "stream",
     "text": [
      "Analyzing Similarity:   2%|▏         | 189/11826 [00:05<05:07, 37.84it/s]"
     ]
    },
    {
     "name": "stdout",
     "output_type": "stream",
     "text": [
      "Moved extracted_face_0 (1154).jpg_0.png to TOO_SIMILAR - Similarity: 81.31%\n",
      "Moved extracted_face_0 (1158).jpg_0.png to TOO_SIMILAR - Similarity: 85.64%\n",
      "Moved extracted_face_0 (1161).jpg_0.png to TOO_SIMILAR - Similarity: 86.02%\n",
      "Moved extracted_face_0 (1162).jpg_0.png to TOO_SIMILAR - Similarity: 82.46%\n"
     ]
    },
    {
     "name": "stderr",
     "output_type": "stream",
     "text": [
      "Analyzing Similarity:   2%|▏         | 194/11826 [00:05<04:59, 38.85it/s]"
     ]
    },
    {
     "name": "stdout",
     "output_type": "stream",
     "text": [
      "Moved extracted_face_0 (1163).jpg_0.png to TOO_SIMILAR - Similarity: 81.88%\n",
      "Moved extracted_face_0 (1166).jpg_0.png to TOO_SIMILAR - Similarity: 88.64%\n",
      "Moved extracted_face_0 (117).jpg_0.png to TOO_SIMILAR - Similarity: 85.52%\n"
     ]
    },
    {
     "name": "stderr",
     "output_type": "stream",
     "text": [
      "Analyzing Similarity:   2%|▏         | 203/11826 [00:06<04:56, 39.19it/s]"
     ]
    },
    {
     "name": "stdout",
     "output_type": "stream",
     "text": [
      "Moved extracted_face_0 (1172).jpg_0.png to TOO_SIMILAR - Similarity: 83.86%\n",
      "Moved extracted_face_0 (1174).jpg_0.png to TOO_SIMILAR - Similarity: 85.68%\n",
      "Moved extracted_face_0 (1176).jpg_0.png to TOO_SIMILAR - Similarity: 88.92%\n",
      "Moved extracted_face_0 (1177).jpg_0.png to TOO_SIMILAR - Similarity: 82.71%\n",
      "Moved extracted_face_0 (1178).jpg_0.png to TOO_SIMILAR - Similarity: 81.01%\n",
      "Moved extracted_face_0 (1179).jpg_0.png to TOO_SIMILAR - Similarity: 80.70%\n"
     ]
    },
    {
     "name": "stderr",
     "output_type": "stream",
     "text": [
      "Analyzing Similarity:   2%|▏         | 219/11826 [00:06<04:16, 45.24it/s]"
     ]
    },
    {
     "name": "stdout",
     "output_type": "stream",
     "text": [
      "Moved extracted_face_0 (1182).jpg_0.png to TOO_SIMILAR - Similarity: 82.39%\n",
      "Moved extracted_face_0 (1185).jpg_0.png to TOO_SIMILAR - Similarity: 81.68%\n",
      "Moved extracted_face_0 (1186).jpg_0.png to TOO_SIMILAR - Similarity: 87.53%\n",
      "Moved extracted_face_0 (1187).jpg_0.png to TOO_SIMILAR - Similarity: 82.50%\n"
     ]
    },
    {
     "name": "stderr",
     "output_type": "stream",
     "text": [
      "Analyzing Similarity:   2%|▏         | 224/11826 [00:06<05:26, 35.52it/s]"
     ]
    },
    {
     "name": "stdout",
     "output_type": "stream",
     "text": [
      "Moved extracted_face_0 (1193).jpg_0.png to TOO_SIMILAR - Similarity: 81.88%\n",
      "Moved extracted_face_0 (1194).jpg_0.png to TOO_SIMILAR - Similarity: 82.73%\n",
      "Moved extracted_face_0 (1195).jpg_0.png to TOO_SIMILAR - Similarity: 85.62%\n",
      "Moved extracted_face_0 (1196).jpg_0.png to TOO_SIMILAR - Similarity: 84.05%\n"
     ]
    },
    {
     "name": "stderr",
     "output_type": "stream",
     "text": [
      "Analyzing Similarity:   2%|▏         | 233/11826 [00:06<05:10, 37.39it/s]"
     ]
    },
    {
     "name": "stdout",
     "output_type": "stream",
     "text": [
      "Moved extracted_face_0 (12).jpeg_0.png to TOO_SIMILAR - Similarity: 84.56%\n",
      "Moved extracted_face_0 (12).jpg_0.png to TOO_SIMILAR - Similarity: 81.41%\n",
      "Moved extracted_face_0 (12).png_0.png to TOO_SIMILAR - Similarity: 81.52%\n",
      "Moved extracted_face_0 (1200).jpg_0.png to TOO_SIMILAR - Similarity: 84.14%\n",
      "Moved extracted_face_0 (1202).jpg_0.png to TOO_SIMILAR - Similarity: 82.19%\n",
      "Moved extracted_face_0 (1203).jpg_0.png to TOO_SIMILAR - Similarity: 83.87%\n",
      "Moved extracted_face_0 (1205).jpg_0.png to TOO_SIMILAR - Similarity: 83.06%\n"
     ]
    },
    {
     "name": "stderr",
     "output_type": "stream",
     "text": [
      "Analyzing Similarity:   2%|▏         | 241/11826 [00:07<05:48, 33.27it/s]"
     ]
    },
    {
     "name": "stdout",
     "output_type": "stream",
     "text": [
      "Moved extracted_face_0 (1207).jpg_0.png to TOO_SIMILAR - Similarity: 84.86%\n",
      "Moved extracted_face_0 (121).jpg_0.png to TOO_SIMILAR - Similarity: 84.16%\n",
      "Moved extracted_face_0 (1211).jpg_0.png to TOO_SIMILAR - Similarity: 81.84%\n"
     ]
    },
    {
     "name": "stderr",
     "output_type": "stream",
     "text": [
      "Analyzing Similarity:   2%|▏         | 245/11826 [00:07<05:58, 32.33it/s]"
     ]
    },
    {
     "name": "stdout",
     "output_type": "stream",
     "text": [
      "Moved extracted_face_0 (1213).jpg_0.png to TOO_SIMILAR - Similarity: 81.20%\n"
     ]
    },
    {
     "name": "stderr",
     "output_type": "stream",
     "text": [
      "Analyzing Similarity:   2%|▏         | 255/11826 [00:07<07:21, 26.18it/s]"
     ]
    },
    {
     "name": "stdout",
     "output_type": "stream",
     "text": [
      "Moved extracted_face_0 (1219).jpg_0.png to TOO_SIMILAR - Similarity: 81.66%\n",
      "Moved extracted_face_0 (1219).jpg_1.png to TOO_SIMILAR - Similarity: 85.70%\n",
      "Moved extracted_face_0 (122).jpg_0.png to TOO_SIMILAR - Similarity: 82.63%\n"
     ]
    },
    {
     "name": "stderr",
     "output_type": "stream",
     "text": [
      "Analyzing Similarity:   2%|▏         | 267/11826 [00:08<06:20, 30.37it/s]"
     ]
    },
    {
     "name": "stdout",
     "output_type": "stream",
     "text": [
      "Moved extracted_face_0 (1227).jpg_0.png to TOO_SIMILAR - Similarity: 84.11%\n",
      "Moved extracted_face_0 (1227).jpg_1.png to TOO_SIMILAR - Similarity: 84.08%\n",
      "Moved extracted_face_0 (123).jpg_0.png to TOO_SIMILAR - Similarity: 82.85%\n",
      "Moved extracted_face_0 (1232).jpg_0.png to TOO_SIMILAR - Similarity: 85.17%\n"
     ]
    },
    {
     "name": "stderr",
     "output_type": "stream",
     "text": [
      "Analyzing Similarity:   2%|▏         | 276/11826 [00:08<05:31, 34.82it/s]"
     ]
    },
    {
     "name": "stdout",
     "output_type": "stream",
     "text": [
      "Moved extracted_face_0 (1234).jpg_0.png to TOO_SIMILAR - Similarity: 86.28%\n",
      "Moved extracted_face_0 (1236).jpg_0.png to TOO_SIMILAR - Similarity: 82.62%\n",
      "Moved extracted_face_0 (1237).jpg_0.png to TOO_SIMILAR - Similarity: 84.92%\n"
     ]
    },
    {
     "name": "stderr",
     "output_type": "stream",
     "text": [
      "Analyzing Similarity:   2%|▏         | 285/11826 [00:08<04:51, 39.58it/s]"
     ]
    },
    {
     "name": "stdout",
     "output_type": "stream",
     "text": [
      "Moved extracted_face_0 (1242).jpg_0.png to TOO_SIMILAR - Similarity: 81.76%\n",
      "Moved extracted_face_0 (1243).jpg_0.png to TOO_SIMILAR - Similarity: 86.66%\n"
     ]
    },
    {
     "name": "stderr",
     "output_type": "stream",
     "text": [
      "Analyzing Similarity:   3%|▎         | 301/11826 [00:08<04:21, 44.03it/s]"
     ]
    },
    {
     "name": "stdout",
     "output_type": "stream",
     "text": [
      "Moved extracted_face_0 (1258).jpg_0.png to TOO_SIMILAR - Similarity: 82.80%\n",
      "Moved extracted_face_0 (126).jpg_0.png to TOO_SIMILAR - Similarity: 82.61%\n",
      "Moved extracted_face_0 (1262).jpg_0.png to TOO_SIMILAR - Similarity: 80.17%\n",
      "Moved extracted_face_0 (1265).jpg_0.png to TOO_SIMILAR - Similarity: 80.44%\n"
     ]
    },
    {
     "name": "stderr",
     "output_type": "stream",
     "text": [
      "Analyzing Similarity:   3%|▎         | 318/11826 [00:09<03:50, 49.90it/s]"
     ]
    },
    {
     "name": "stdout",
     "output_type": "stream",
     "text": [
      "Moved extracted_face_0 (1271).jpg_0.png to TOO_SIMILAR - Similarity: 80.65%\n",
      "Moved extracted_face_0 (1275).jpg_0.png to TOO_SIMILAR - Similarity: 80.01%\n",
      "Moved extracted_face_0 (1276).jpg_1.png to TOO_SIMILAR - Similarity: 81.57%\n",
      "Moved extracted_face_0 (1277).jpg_0.png to TOO_SIMILAR - Similarity: 87.73%\n",
      "Moved extracted_face_0 (128).jpg_0.png to TOO_SIMILAR - Similarity: 87.95%\n"
     ]
    },
    {
     "name": "stderr",
     "output_type": "stream",
     "text": [
      "Analyzing Similarity:   3%|▎         | 324/11826 [00:09<03:45, 50.92it/s]"
     ]
    },
    {
     "name": "stdout",
     "output_type": "stream",
     "text": [
      "Moved extracted_face_0 (1284).jpg_0.png to TOO_SIMILAR - Similarity: 80.55%\n",
      "Moved extracted_face_0 (1286).jpg_0.png to TOO_SIMILAR - Similarity: 83.07%\n",
      "Moved extracted_face_0 (1288).jpg_0.png to TOO_SIMILAR - Similarity: 82.60%\n",
      "Moved extracted_face_0 (1289).jpg_0.png to TOO_SIMILAR - Similarity: 81.80%\n"
     ]
    },
    {
     "name": "stderr",
     "output_type": "stream",
     "text": [
      "Analyzing Similarity:   3%|▎         | 335/11826 [00:09<04:22, 43.73it/s]"
     ]
    },
    {
     "name": "stdout",
     "output_type": "stream",
     "text": [
      "Moved extracted_face_0 (1295).jpg_0.png to TOO_SIMILAR - Similarity: 85.36%\n",
      "Moved extracted_face_0 (1297).jpg_0.png to TOO_SIMILAR - Similarity: 81.21%\n",
      "Moved extracted_face_0 (13).jpeg_0.png to TOO_SIMILAR - Similarity: 80.31%\n",
      "Moved extracted_face_0 (13).png_0.png to TOO_SIMILAR - Similarity: 80.99%\n",
      "Moved extracted_face_0 (130).jpg_0.png to TOO_SIMILAR - Similarity: 85.70%\n",
      "Moved extracted_face_0 (1300).jpg_0.png to TOO_SIMILAR - Similarity: 84.77%\n"
     ]
    },
    {
     "name": "stderr",
     "output_type": "stream",
     "text": [
      "Analyzing Similarity:   3%|▎         | 346/11826 [00:09<04:04, 46.88it/s]"
     ]
    },
    {
     "name": "stdout",
     "output_type": "stream",
     "text": [
      "Moved extracted_face_0 (1301).jpg_0.png to TOO_SIMILAR - Similarity: 86.32%\n",
      "Moved extracted_face_0 (1302).jpg_0.png to TOO_SIMILAR - Similarity: 85.88%\n",
      "Moved extracted_face_0 (1303).jpg_0.png to TOO_SIMILAR - Similarity: 80.13%\n",
      "Moved extracted_face_0 (1306).jpg_0.png to TOO_SIMILAR - Similarity: 81.37%\n",
      "Moved extracted_face_0 (1307).jpg_0.png to TOO_SIMILAR - Similarity: 82.15%\n",
      "Moved extracted_face_0 (131).jpg_0.png to TOO_SIMILAR - Similarity: 81.36%\n"
     ]
    },
    {
     "name": "stderr",
     "output_type": "stream",
     "text": [
      "Analyzing Similarity:   3%|▎         | 351/11826 [00:09<04:11, 45.57it/s]"
     ]
    },
    {
     "name": "stdout",
     "output_type": "stream",
     "text": [
      "Moved extracted_face_0 (1311).jpg_0.png to TOO_SIMILAR - Similarity: 82.94%\n",
      "Moved extracted_face_0 (1312).jpg_0.png to TOO_SIMILAR - Similarity: 85.35%\n",
      "Moved extracted_face_0 (1317).jpg_0.png to TOO_SIMILAR - Similarity: 84.94%\n",
      "Moved extracted_face_0 (1319).jpg_0.png to TOO_SIMILAR - Similarity: 86.54%\n"
     ]
    },
    {
     "name": "stderr",
     "output_type": "stream",
     "text": [
      "Analyzing Similarity:   3%|▎         | 361/11826 [00:10<05:35, 34.14it/s]"
     ]
    },
    {
     "name": "stdout",
     "output_type": "stream",
     "text": [
      "Moved extracted_face_0 (1321).jpg_0.png to TOO_SIMILAR - Similarity: 84.93%\n",
      "Moved extracted_face_0 (1326).jpg_0.png to TOO_SIMILAR - Similarity: 80.80%\n"
     ]
    },
    {
     "name": "stderr",
     "output_type": "stream",
     "text": [
      "Analyzing Similarity:   3%|▎         | 365/11826 [00:10<05:50, 32.72it/s]"
     ]
    },
    {
     "name": "stdout",
     "output_type": "stream",
     "text": [
      "Moved extracted_face_0 (1329).jpg_0.png to TOO_SIMILAR - Similarity: 81.59%\n",
      "Moved extracted_face_0 (133).jpg_0.png to TOO_SIMILAR - Similarity: 82.32%\n",
      "Moved extracted_face_0 (1332).jpg_0.png to TOO_SIMILAR - Similarity: 80.32%\n",
      "Moved extracted_face_0 (1333).jpg_0.png to TOO_SIMILAR - Similarity: 84.17%\n"
     ]
    },
    {
     "name": "stderr",
     "output_type": "stream",
     "text": [
      "Analyzing Similarity:   3%|▎         | 377/11826 [00:10<06:32, 29.20it/s]"
     ]
    },
    {
     "name": "stdout",
     "output_type": "stream",
     "text": [
      "Moved extracted_face_0 (1337).jpg_0.png to TOO_SIMILAR - Similarity: 84.33%\n",
      "Moved extracted_face_0 (1341).jpg_0.png to TOO_SIMILAR - Similarity: 82.84%\n"
     ]
    },
    {
     "name": "stderr",
     "output_type": "stream",
     "text": [
      "Analyzing Similarity:   3%|▎         | 386/11826 [00:11<05:59, 31.81it/s]"
     ]
    },
    {
     "name": "stdout",
     "output_type": "stream",
     "text": [
      "Moved extracted_face_0 (1349).JPG_0.png to TOO_SIMILAR - Similarity: 87.98%\n",
      "Moved extracted_face_0 (1357).jpg_0.png to TOO_SIMILAR - Similarity: 83.39%\n",
      "Moved extracted_face_0 (1358).jpg_0.png to TOO_SIMILAR - Similarity: 84.78%\n",
      "Moved extracted_face_0 (1359).jpg_0.png to TOO_SIMILAR - Similarity: 85.48%\n"
     ]
    },
    {
     "name": "stderr",
     "output_type": "stream",
     "text": [
      "Analyzing Similarity:   3%|▎         | 401/11826 [00:11<04:41, 40.56it/s]"
     ]
    },
    {
     "name": "stdout",
     "output_type": "stream",
     "text": [
      "Moved extracted_face_0 (1362).jpg_0.png to TOO_SIMILAR - Similarity: 80.20%\n",
      "Moved extracted_face_0 (1363).jpg_0.png to TOO_SIMILAR - Similarity: 83.62%\n",
      "Moved extracted_face_0 (1365).jpg_0.png to TOO_SIMILAR - Similarity: 84.11%\n",
      "Moved extracted_face_0 (1368).jpg_0.png to TOO_SIMILAR - Similarity: 85.12%\n",
      "Moved extracted_face_0 (1369).jpg_0.png to TOO_SIMILAR - Similarity: 84.72%\n",
      "Moved extracted_face_0 (1371).jpg_0.png to TOO_SIMILAR - Similarity: 81.48%\n"
     ]
    },
    {
     "name": "stderr",
     "output_type": "stream",
     "text": [
      "Analyzing Similarity:   3%|▎         | 410/11826 [00:11<05:07, 37.16it/s]"
     ]
    },
    {
     "name": "stdout",
     "output_type": "stream",
     "text": [
      "Moved extracted_face_0 (1371).jpg_1.png to TOO_SIMILAR - Similarity: 81.22%\n",
      "Moved extracted_face_0 (1371).jpg_2.png to TOO_SIMILAR - Similarity: 83.03%\n",
      "Moved extracted_face_0 (1371).jpg_3.png to TOO_SIMILAR - Similarity: 80.39%\n",
      "Moved extracted_face_0 (1373).jpg_0.png to TOO_SIMILAR - Similarity: 85.63%\n",
      "Moved extracted_face_0 (1374).jpg_0.png to TOO_SIMILAR - Similarity: 80.40%\n"
     ]
    },
    {
     "name": "stderr",
     "output_type": "stream",
     "text": [
      "Analyzing Similarity:   4%|▎         | 418/11826 [00:12<05:25, 35.07it/s]"
     ]
    },
    {
     "name": "stdout",
     "output_type": "stream",
     "text": [
      "Moved extracted_face_0 (1376).jpg_0.png to TOO_SIMILAR - Similarity: 83.88%\n",
      "Moved extracted_face_0 (1377).jpg_0.png to TOO_SIMILAR - Similarity: 82.20%\n",
      "Moved extracted_face_0 (1378).jpg_0.png to TOO_SIMILAR - Similarity: 81.35%\n",
      "Moved extracted_face_0 (1379).jpg_0.png to TOO_SIMILAR - Similarity: 84.48%\n",
      "Moved extracted_face_0 (1382).jpg_0.png to TOO_SIMILAR - Similarity: 86.04%\n"
     ]
    },
    {
     "name": "stderr",
     "output_type": "stream",
     "text": [
      "Analyzing Similarity:   4%|▎         | 428/11826 [00:12<04:49, 39.44it/s]"
     ]
    },
    {
     "name": "stdout",
     "output_type": "stream",
     "text": [
      "Moved extracted_face_0 (1383).jpg_0.png to TOO_SIMILAR - Similarity: 84.24%\n",
      "Moved extracted_face_0 (1384).jpg_0.png to TOO_SIMILAR - Similarity: 82.04%\n",
      "Moved extracted_face_0 (1387).jpg_0.png to TOO_SIMILAR - Similarity: 82.36%\n",
      "Moved extracted_face_0 (1389).jpg_0.png to TOO_SIMILAR - Similarity: 83.59%\n",
      "Moved extracted_face_0 (1392).jpg_0.png to TOO_SIMILAR - Similarity: 83.23%\n"
     ]
    },
    {
     "name": "stderr",
     "output_type": "stream",
     "text": [
      "Analyzing Similarity:   4%|▎         | 433/11826 [00:12<04:38, 40.86it/s]"
     ]
    },
    {
     "name": "stdout",
     "output_type": "stream",
     "text": [
      "Moved extracted_face_0 (1394).jpg_0.png to TOO_SIMILAR - Similarity: 85.83%\n",
      "Moved extracted_face_0 (1396).jpg_0.png to TOO_SIMILAR - Similarity: 86.11%\n",
      "Moved extracted_face_0 (1398).jpg_0.png to TOO_SIMILAR - Similarity: 83.23%\n",
      "Moved extracted_face_0 (1399).jpg_0.png to TOO_SIMILAR - Similarity: 80.66%\n",
      "Moved extracted_face_0 (14).png_0.png to TOO_SIMILAR - Similarity: 82.80%\n"
     ]
    },
    {
     "name": "stderr",
     "output_type": "stream",
     "text": [
      "Analyzing Similarity:   4%|▎         | 442/11826 [00:12<04:57, 38.25it/s]"
     ]
    },
    {
     "name": "stdout",
     "output_type": "stream",
     "text": [
      "Moved extracted_face_0 (1402).jpg_0.png to TOO_SIMILAR - Similarity: 80.24%\n",
      "Moved extracted_face_0 (1403).jpg_0.png to TOO_SIMILAR - Similarity: 86.73%\n",
      "Moved extracted_face_0 (1405).jpg_0.png to TOO_SIMILAR - Similarity: 89.00%\n",
      "Moved extracted_face_0 (1406).jpg_0.png to TOO_SIMILAR - Similarity: 81.22%\n",
      "Moved extracted_face_0 (1409).jpg_0.png to TOO_SIMILAR - Similarity: 81.94%\n"
     ]
    },
    {
     "name": "stderr",
     "output_type": "stream",
     "text": [
      "Analyzing Similarity:   4%|▍         | 447/11826 [00:12<04:37, 40.94it/s]"
     ]
    },
    {
     "name": "stdout",
     "output_type": "stream",
     "text": [
      "Moved extracted_face_0 (1411).jpg_0.png to TOO_SIMILAR - Similarity: 85.56%\n",
      "Moved extracted_face_0 (1412).jpg_0.png to TOO_SIMILAR - Similarity: 85.25%\n"
     ]
    },
    {
     "name": "stderr",
     "output_type": "stream",
     "text": [
      "Analyzing Similarity:   4%|▍         | 456/11826 [00:13<06:23, 29.63it/s]"
     ]
    },
    {
     "name": "stdout",
     "output_type": "stream",
     "text": [
      "Moved extracted_face_0 (1415).jpg_0.png to TOO_SIMILAR - Similarity: 88.05%\n",
      "Moved extracted_face_0 (1415).jpg_1.png to TOO_SIMILAR - Similarity: 81.27%\n",
      "Moved extracted_face_0 (1416).jpg_0.png to TOO_SIMILAR - Similarity: 82.82%\n",
      "Moved extracted_face_0 (1417).jpg_0.png to TOO_SIMILAR - Similarity: 83.78%\n",
      "Moved extracted_face_0 (1419).jpg_0.png to TOO_SIMILAR - Similarity: 82.53%\n"
     ]
    },
    {
     "name": "stderr",
     "output_type": "stream",
     "text": [
      "Analyzing Similarity:   4%|▍         | 464/11826 [00:13<05:58, 31.69it/s]"
     ]
    },
    {
     "name": "stdout",
     "output_type": "stream",
     "text": [
      "Moved extracted_face_0 (1423).jpg_0.png to TOO_SIMILAR - Similarity: 84.63%\n",
      "Moved extracted_face_0 (1426).jpg_0.png to TOO_SIMILAR - Similarity: 84.25%\n"
     ]
    },
    {
     "name": "stderr",
     "output_type": "stream",
     "text": [
      "Analyzing Similarity:   4%|▍         | 472/11826 [00:13<05:33, 34.05it/s]"
     ]
    },
    {
     "name": "stdout",
     "output_type": "stream",
     "text": [
      "Moved extracted_face_0 (1430).jpg_0.png to TOO_SIMILAR - Similarity: 81.44%\n",
      "Moved extracted_face_0 (1431).jpg_0.png to TOO_SIMILAR - Similarity: 81.52%\n",
      "Moved extracted_face_0 (1432).jpg_0.png to TOO_SIMILAR - Similarity: 84.61%\n",
      "Moved extracted_face_0 (1433).JPG_0.png to TOO_SIMILAR - Similarity: 83.71%\n"
     ]
    },
    {
     "name": "stderr",
     "output_type": "stream",
     "text": [
      "Analyzing Similarity:   4%|▍         | 481/11826 [00:13<05:12, 36.33it/s]"
     ]
    },
    {
     "name": "stdout",
     "output_type": "stream",
     "text": [
      "Moved extracted_face_0 (1439).jpg_0.png to TOO_SIMILAR - Similarity: 81.83%\n",
      "Moved extracted_face_0 (144).jpg_0.png to TOO_SIMILAR - Similarity: 84.91%\n",
      "Moved extracted_face_0 (1440).jpg_0.png to TOO_SIMILAR - Similarity: 82.68%\n",
      "Moved extracted_face_0 (1442).jpg_0.png to TOO_SIMILAR - Similarity: 81.77%\n",
      "Moved extracted_face_0 (1446).jpg_0.png to TOO_SIMILAR - Similarity: 80.32%\n"
     ]
    },
    {
     "name": "stderr",
     "output_type": "stream",
     "text": [
      "Analyzing Similarity:   4%|▍         | 496/11826 [00:14<04:20, 43.46it/s]"
     ]
    },
    {
     "name": "stdout",
     "output_type": "stream",
     "text": [
      "Moved extracted_face_0 (1452).jpg_0.png to TOO_SIMILAR - Similarity: 81.80%\n",
      "Moved extracted_face_0 (1453).jpg_0.png to TOO_SIMILAR - Similarity: 80.84%\n",
      "Moved extracted_face_0 (1454).jpg_0.png to TOO_SIMILAR - Similarity: 81.65%\n",
      "Moved extracted_face_0 (1455).jpg_0.png to TOO_SIMILAR - Similarity: 85.77%\n",
      "Moved extracted_face_0 (1458).jpg_0.png to TOO_SIMILAR - Similarity: 80.17%\n",
      "Moved extracted_face_0 (1462).jpg_0.png to TOO_SIMILAR - Similarity: 80.46%\n"
     ]
    },
    {
     "name": "stderr",
     "output_type": "stream",
     "text": [
      "Analyzing Similarity:   4%|▍         | 512/11826 [00:14<03:55, 48.07it/s]"
     ]
    },
    {
     "name": "stdout",
     "output_type": "stream",
     "text": [
      "Moved extracted_face_0 (1468).jpg_0.png to TOO_SIMILAR - Similarity: 83.86%\n",
      "Moved extracted_face_0 (1472).jpg_0.png to TOO_SIMILAR - Similarity: 83.67%\n",
      "Moved extracted_face_0 (1476).jpg_0.png to TOO_SIMILAR - Similarity: 80.99%\n"
     ]
    },
    {
     "name": "stderr",
     "output_type": "stream",
     "text": [
      "Analyzing Similarity:   4%|▍         | 524/11826 [00:14<03:40, 51.31it/s]"
     ]
    },
    {
     "name": "stdout",
     "output_type": "stream",
     "text": [
      "Moved extracted_face_0 (1490).jpg_0.png to TOO_SIMILAR - Similarity: 83.86%\n",
      "Moved extracted_face_0 (1494).jpg_0.png to TOO_SIMILAR - Similarity: 83.40%\n",
      "Moved extracted_face_0 (1498).jpg_0.png to TOO_SIMILAR - Similarity: 82.75%\n",
      "Moved extracted_face_0 (1499).jpg_0.png to TOO_SIMILAR - Similarity: 88.05%\n",
      "Moved extracted_face_0 (15).jpeg_0.png to TOO_SIMILAR - Similarity: 99.86%\n",
      "Moved extracted_face_0 (15).png_0.png to TOO_SIMILAR - Similarity: 83.14%\n",
      "Moved extracted_face_0 (150).jpg_0.png to TOO_SIMILAR - Similarity: 81.03%\n"
     ]
    },
    {
     "name": "stderr",
     "output_type": "stream",
     "text": [
      "Analyzing Similarity:   4%|▍         | 530/11826 [00:14<03:43, 50.53it/s]"
     ]
    },
    {
     "name": "stdout",
     "output_type": "stream",
     "text": [
      "Moved extracted_face_0 (1501).jpg_0.png to TOO_SIMILAR - Similarity: 82.98%\n",
      "Moved extracted_face_0 (1502).jpg_0.png to TOO_SIMILAR - Similarity: 80.29%\n"
     ]
    },
    {
     "name": "stderr",
     "output_type": "stream",
     "text": [
      "Analyzing Similarity:   5%|▍         | 536/11826 [00:15<05:24, 34.79it/s]"
     ]
    },
    {
     "name": "stdout",
     "output_type": "stream",
     "text": [
      "Moved extracted_face_0 (1504).jpg_0.png to TOO_SIMILAR - Similarity: 81.71%\n",
      "Moved extracted_face_0 (1505).jpg_0.png to TOO_SIMILAR - Similarity: 80.10%\n",
      "Moved extracted_face_0 (1511).jpg_0.png to TOO_SIMILAR - Similarity: 83.56%\n",
      "Moved extracted_face_0 (1515).jpg_0.png to TOO_SIMILAR - Similarity: 80.32%\n",
      "Moved extracted_face_0 (1519).jpg_0.png to TOO_SIMILAR - Similarity: 82.67%\n"
     ]
    },
    {
     "name": "stderr",
     "output_type": "stream",
     "text": [
      "Analyzing Similarity:   5%|▍         | 547/11826 [00:15<04:32, 41.38it/s]"
     ]
    },
    {
     "name": "stdout",
     "output_type": "stream",
     "text": [
      "Moved extracted_face_0 (1520).jpg_0.png to TOO_SIMILAR - Similarity: 80.11%\n",
      "Moved extracted_face_0 (1527).jpg_0.png to TOO_SIMILAR - Similarity: 83.24%\n",
      "Moved extracted_face_0 (1535).jpg_0.png to TOO_SIMILAR - Similarity: 81.02%\n",
      "Moved extracted_face_0 (1540).jpg_0.png to TOO_SIMILAR - Similarity: 82.97%\n",
      "Moved extracted_face_0 (1541).jpg_0.png to TOO_SIMILAR - Similarity: 83.70%\n",
      "Moved extracted_face_0 (1545).jpg_0.png to TOO_SIMILAR - Similarity: 86.98%\n",
      "Moved extracted_face_0 (1547).jpg_0.png to TOO_SIMILAR - Similarity: 80.99%\n",
      "Moved extracted_face_0 (1551).jpg_0.png to TOO_SIMILAR - Similarity: 83.91%\n"
     ]
    },
    {
     "name": "stderr",
     "output_type": "stream",
     "text": [
      "Analyzing Similarity:   5%|▍         | 557/11826 [00:15<04:57, 37.82it/s]"
     ]
    },
    {
     "name": "stdout",
     "output_type": "stream",
     "text": [
      "Moved extracted_face_0 (1555).jpg_0.png to TOO_SIMILAR - Similarity: 84.13%\n",
      "Moved extracted_face_0 (1559).jpg_0.png to TOO_SIMILAR - Similarity: 81.78%\n",
      "Moved extracted_face_0 (1563).jpg_0.png to TOO_SIMILAR - Similarity: 86.49%\n",
      "Moved extracted_face_0 (1579).jpg_0.png to TOO_SIMILAR - Similarity: 80.81%\n"
     ]
    },
    {
     "name": "stderr",
     "output_type": "stream",
     "text": [
      "Analyzing Similarity:   5%|▍         | 566/11826 [00:15<05:53, 31.81it/s]"
     ]
    },
    {
     "name": "stdout",
     "output_type": "stream",
     "text": [
      "Moved extracted_face_0 (16).jpg_0.png to TOO_SIMILAR - Similarity: 80.74%\n",
      "Moved extracted_face_0 (16).png_0.png to TOO_SIMILAR - Similarity: 84.69%\n",
      "Moved extracted_face_0 (1600).jpg_0.png to TOO_SIMILAR - Similarity: 80.85%\n",
      "Moved extracted_face_0 (1607).jpg_0.png to TOO_SIMILAR - Similarity: 83.81%\n",
      "Moved extracted_face_0 (1610).jpg_0.png to TOO_SIMILAR - Similarity: 80.37%\n"
     ]
    },
    {
     "name": "stderr",
     "output_type": "stream",
     "text": [
      "Analyzing Similarity:   5%|▍         | 578/11826 [00:16<05:39, 33.10it/s]"
     ]
    },
    {
     "name": "stdout",
     "output_type": "stream",
     "text": [
      "Moved extracted_face_0 (1649).jpg_0.png to TOO_SIMILAR - Similarity: 83.15%\n",
      "Moved extracted_face_0 (1651).jpg_0.png to TOO_SIMILAR - Similarity: 81.35%\n",
      "Moved extracted_face_0 (1657).jpg_0.png to TOO_SIMILAR - Similarity: 82.94%\n",
      "Moved extracted_face_0 (1680).jpg_0.png to TOO_SIMILAR - Similarity: 82.86%\n",
      "Moved extracted_face_0 (1684).jpg_1.png to TOO_SIMILAR - Similarity: 80.12%\n"
     ]
    },
    {
     "name": "stderr",
     "output_type": "stream",
     "text": [
      "Analyzing Similarity:   5%|▍         | 591/11826 [00:16<05:07, 36.56it/s]"
     ]
    },
    {
     "name": "stdout",
     "output_type": "stream",
     "text": [
      "Moved extracted_face_0 (169).jpg_0.png to TOO_SIMILAR - Similarity: 82.65%\n",
      "Moved extracted_face_0 (1693).jpg_0.png to TOO_SIMILAR - Similarity: 81.68%\n",
      "Moved extracted_face_0 (1697).jpg_0.png to TOO_SIMILAR - Similarity: 80.07%\n",
      "Moved extracted_face_0 (1701).jpg_0.png to TOO_SIMILAR - Similarity: 82.36%\n"
     ]
    },
    {
     "name": "stderr",
     "output_type": "stream",
     "text": [
      "Analyzing Similarity:   5%|▌         | 601/11826 [00:16<04:25, 42.22it/s]"
     ]
    },
    {
     "name": "stdout",
     "output_type": "stream",
     "text": [
      "Moved extracted_face_0 (1715).jpg_0.png to TOO_SIMILAR - Similarity: 80.20%\n",
      "Moved extracted_face_0 (1726).jpg_0.png to TOO_SIMILAR - Similarity: 85.00%\n",
      "Moved extracted_face_0 (174).jpg_0.png to TOO_SIMILAR - Similarity: 84.36%\n",
      "Moved extracted_face_0 (1768).jpg_0.png to TOO_SIMILAR - Similarity: 87.02%\n"
     ]
    },
    {
     "name": "stderr",
     "output_type": "stream",
     "text": [
      "Analyzing Similarity:   5%|▌         | 617/11826 [00:17<03:57, 47.11it/s]"
     ]
    },
    {
     "name": "stdout",
     "output_type": "stream",
     "text": [
      "Moved extracted_face_0 (1781).jpg_0.png to TOO_SIMILAR - Similarity: 84.88%\n",
      "Moved extracted_face_0 (1787).jpg_0.png to TOO_SIMILAR - Similarity: 83.99%\n",
      "Moved extracted_face_0 (1787).jpg_1.png to TOO_SIMILAR - Similarity: 81.44%\n",
      "Moved extracted_face_0 (1789).jpg_0.png to TOO_SIMILAR - Similarity: 83.26%\n",
      "Moved extracted_face_0 (179).jpg_0.png to TOO_SIMILAR - Similarity: 81.51%\n",
      "Moved extracted_face_0 (1793).jpg_0.png to TOO_SIMILAR - Similarity: 83.94%\n",
      "Moved extracted_face_0 (18).png_0.png to TOO_SIMILAR - Similarity: 85.17%\n"
     ]
    },
    {
     "name": "stderr",
     "output_type": "stream",
     "text": [
      "Analyzing Similarity:   5%|▌         | 628/11826 [00:17<04:01, 46.30it/s]"
     ]
    },
    {
     "name": "stdout",
     "output_type": "stream",
     "text": [
      "Moved extracted_face_0 (1802).jpg_0.png to TOO_SIMILAR - Similarity: 81.09%\n",
      "Moved extracted_face_0 (1809).jpg_0.png to TOO_SIMILAR - Similarity: 81.40%\n",
      "Moved extracted_face_0 (1815).jpg_0.png to TOO_SIMILAR - Similarity: 86.82%\n",
      "Moved extracted_face_0 (1821).jpg_0.png to TOO_SIMILAR - Similarity: 88.13%\n",
      "Moved extracted_face_0 (1834).jpg_0.png to TOO_SIMILAR - Similarity: 83.86%\n",
      "Moved extracted_face_0 (1841).jpg_0.png to TOO_SIMILAR - Similarity: 81.05%\n"
     ]
    },
    {
     "name": "stderr",
     "output_type": "stream",
     "text": [
      "Analyzing Similarity:   5%|▌         | 637/11826 [00:17<05:07, 36.36it/s]"
     ]
    },
    {
     "name": "stdout",
     "output_type": "stream",
     "text": [
      "Moved extracted_face_0 (1848).jpg_0.png to TOO_SIMILAR - Similarity: 82.02%\n",
      "Moved extracted_face_0 (1849).jpg_0.png to TOO_SIMILAR - Similarity: 80.66%\n",
      "Moved extracted_face_0 (186).jpg_0.png to TOO_SIMILAR - Similarity: 87.66%\n"
     ]
    },
    {
     "name": "stderr",
     "output_type": "stream",
     "text": [
      "Analyzing Similarity:   5%|▌         | 642/11826 [00:17<04:51, 38.39it/s]"
     ]
    },
    {
     "name": "stdout",
     "output_type": "stream",
     "text": [
      "Moved extracted_face_0 (1879).jpg_0.png to TOO_SIMILAR - Similarity: 84.60%\n",
      "Moved extracted_face_0 (1882).jpg_0.png to TOO_SIMILAR - Similarity: 83.20%\n",
      "Moved extracted_face_0 (1887).jpg_0.png to TOO_SIMILAR - Similarity: 82.55%\n",
      "Moved extracted_face_0 (1890).jpg_0.png to TOO_SIMILAR - Similarity: 85.24%\n",
      "Moved extracted_face_0 (1895).jpg_0.png to TOO_SIMILAR - Similarity: 81.49%\n"
     ]
    },
    {
     "name": "stderr",
     "output_type": "stream",
     "text": [
      "Analyzing Similarity:   6%|▌         | 652/11826 [00:18<04:33, 40.79it/s]"
     ]
    },
    {
     "name": "stdout",
     "output_type": "stream",
     "text": [
      "Moved extracted_face_0 (1896).jpg_0.png to TOO_SIMILAR - Similarity: 86.14%\n",
      "Moved extracted_face_0 (1898).jpg_0.png to TOO_SIMILAR - Similarity: 84.07%\n",
      "Moved extracted_face_0 (1901).jpg_0.png to TOO_SIMILAR - Similarity: 88.10%\n",
      "Moved extracted_face_0 (1906).jpg_0.png to TOO_SIMILAR - Similarity: 83.53%\n",
      "Moved extracted_face_0 (1978).jpg_0.png to TOO_SIMILAR - Similarity: 85.39%\n"
     ]
    },
    {
     "name": "stderr",
     "output_type": "stream",
     "text": [
      "Analyzing Similarity:   6%|▌         | 657/11826 [00:18<04:36, 40.38it/s]"
     ]
    },
    {
     "name": "stdout",
     "output_type": "stream",
     "text": [
      "Moved extracted_face_0 (2).jpg_0.png to TOO_SIMILAR - Similarity: 81.34%\n",
      "Moved extracted_face_0 (20).png_0.png to TOO_SIMILAR - Similarity: 82.40%\n"
     ]
    },
    {
     "name": "stderr",
     "output_type": "stream",
     "text": [
      "Analyzing Similarity:   6%|▌         | 662/11826 [00:18<06:33, 28.39it/s]"
     ]
    },
    {
     "name": "stdout",
     "output_type": "stream",
     "text": [
      "Moved extracted_face_0 (2013).jpg_0.png to TOO_SIMILAR - Similarity: 83.90%\n",
      "Moved extracted_face_0 (2030).jpg_0.png to TOO_SIMILAR - Similarity: 85.29%\n"
     ]
    },
    {
     "name": "stderr",
     "output_type": "stream",
     "text": [
      "Analyzing Similarity:   6%|▌         | 674/11826 [00:19<07:15, 25.58it/s]"
     ]
    },
    {
     "name": "stdout",
     "output_type": "stream",
     "text": [
      "Moved extracted_face_0 (211).jpg_0.png to TOO_SIMILAR - Similarity: 80.13%\n",
      "Moved extracted_face_0 (217).jpg_0.png to TOO_SIMILAR - Similarity: 83.31%\n",
      "Moved extracted_face_0 (221).jpg_0.png to TOO_SIMILAR - Similarity: 82.46%\n",
      "Moved extracted_face_0 (2255).jpg_0.png to TOO_SIMILAR - Similarity: 85.79%\n"
     ]
    },
    {
     "name": "stderr",
     "output_type": "stream",
     "text": [
      "Analyzing Similarity:   6%|▌         | 683/11826 [00:19<06:00, 30.91it/s]"
     ]
    },
    {
     "name": "stdout",
     "output_type": "stream",
     "text": [
      "Moved extracted_face_0 (2292).jpg_0.png to TOO_SIMILAR - Similarity: 82.91%\n",
      "Moved extracted_face_0 (23).png_0.png to TOO_SIMILAR - Similarity: 87.92%\n",
      "Moved extracted_face_0 (25).png_0.png to TOO_SIMILAR - Similarity: 81.53%\n"
     ]
    },
    {
     "name": "stderr",
     "output_type": "stream",
     "text": [
      "Analyzing Similarity:   6%|▌         | 697/11826 [00:19<04:46, 38.83it/s]"
     ]
    },
    {
     "name": "stdout",
     "output_type": "stream",
     "text": [
      "Moved extracted_face_0 (27).png_0.png to TOO_SIMILAR - Similarity: 86.25%\n",
      "Moved extracted_face_0 (274).jpg_0.png to TOO_SIMILAR - Similarity: 85.51%\n",
      "Moved extracted_face_0 (28).png_0.png to TOO_SIMILAR - Similarity: 81.37%\n",
      "Moved extracted_face_0 (29).png_0.png to TOO_SIMILAR - Similarity: 82.57%\n",
      "Moved extracted_face_0 (302).jpg_0.png to TOO_SIMILAR - Similarity: 86.39%\n",
      "Moved extracted_face_0 (317).jpg_0.png to TOO_SIMILAR - Similarity: 83.74%\n"
     ]
    },
    {
     "name": "stderr",
     "output_type": "stream",
     "text": [
      "Analyzing Similarity:   6%|▌         | 714/11826 [00:19<03:55, 47.14it/s]"
     ]
    },
    {
     "name": "stdout",
     "output_type": "stream",
     "text": [
      "Moved extracted_face_0 (332).jpg_0.png to TOO_SIMILAR - Similarity: 87.38%\n",
      "Moved extracted_face_0 (336).jpg_0.png to TOO_SIMILAR - Similarity: 85.39%\n",
      "Moved extracted_face_0 (37).jpg_0.png to TOO_SIMILAR - Similarity: 80.36%\n",
      "Moved extracted_face_0 (414).JPG_0.png to TOO_SIMILAR - Similarity: 84.59%\n"
     ]
    },
    {
     "name": "stderr",
     "output_type": "stream",
     "text": [
      "Analyzing Similarity:   6%|▌         | 724/11826 [00:20<04:38, 39.84it/s]"
     ]
    },
    {
     "name": "stdout",
     "output_type": "stream",
     "text": [
      "Moved extracted_face_0 (459).jpg_0.png to TOO_SIMILAR - Similarity: 84.38%\n",
      "Moved extracted_face_0 (513).jpg_0.png to TOO_SIMILAR - Similarity: 83.17%\n"
     ]
    },
    {
     "name": "stderr",
     "output_type": "stream",
     "text": [
      "Analyzing Similarity:   6%|▌         | 734/11826 [00:20<04:24, 41.91it/s]"
     ]
    },
    {
     "name": "stdout",
     "output_type": "stream",
     "text": [
      "Moved extracted_face_0 (518).jpg_0.png to TOO_SIMILAR - Similarity: 81.02%\n",
      "Moved extracted_face_0 (52).jpg_0.png to TOO_SIMILAR - Similarity: 82.06%\n",
      "Moved extracted_face_0 (55).jpeg_0.png to TOO_SIMILAR - Similarity: 98.01%\n",
      "Moved extracted_face_0 (596).jpg_1.png to TOO_SIMILAR - Similarity: 83.60%\n"
     ]
    },
    {
     "name": "stderr",
     "output_type": "stream",
     "text": [
      "Analyzing Similarity:   6%|▌         | 739/11826 [00:20<05:03, 36.57it/s]"
     ]
    },
    {
     "name": "stdout",
     "output_type": "stream",
     "text": [
      "Moved extracted_face_0 (628).jpg_0.png to TOO_SIMILAR - Similarity: 85.01%\n",
      "Moved extracted_face_0 (648).jpg_0.png to TOO_SIMILAR - Similarity: 87.22%\n",
      "Moved extracted_face_0 (66).jpg_0.png to TOO_SIMILAR - Similarity: 83.82%\n",
      "Moved extracted_face_0037B197-83F9-4D37-A3FE-9350817EABC1.png_0.png to TOO_SIMILAR - Similarity: 81.85%\n"
     ]
    },
    {
     "name": "stderr",
     "output_type": "stream",
     "text": [
      "Analyzing Similarity:   6%|▋         | 747/11826 [00:20<05:33, 33.17it/s]"
     ]
    },
    {
     "name": "stdout",
     "output_type": "stream",
     "text": [
      "Moved extracted_face_006e5146-79dd-464a-a2d7-108db3d90e35.jpg_0.png to TOO_SIMILAR - Similarity: 80.99%\n",
      "Moved extracted_face_006e5146-79dd-464a-a2d7-108db3d90e35.jpg_1.png to TOO_SIMILAR - Similarity: 81.27%\n",
      "Moved extracted_face_00DF235A-3A97-4B67-B15A-F9A932EEA214.jpg_1.png to TOO_SIMILAR - Similarity: 80.95%\n",
      "Moved extracted_face_00DF235A-3A97-4B67-B15A-F9A932EEA214.jpg_2.png to TOO_SIMILAR - Similarity: 88.95%\n",
      "Moved extracted_face_00DF235A-3A97-4B67-B15A-F9A932EEA214.jpg_3.png to TOO_SIMILAR - Similarity: 85.59%\n",
      "Moved extracted_face_019a4cd3-cc8f-4cf9-abb0-57ed9bc527b5.jpg_1.png to TOO_SIMILAR - Similarity: 86.01%\n"
     ]
    },
    {
     "name": "stderr",
     "output_type": "stream",
     "text": [
      "Analyzing Similarity:   6%|▋         | 755/11826 [00:21<05:31, 33.36it/s]"
     ]
    },
    {
     "name": "stdout",
     "output_type": "stream",
     "text": [
      "Moved extracted_face_019a4cd3-cc8f-4cf9-abb0-57ed9bc527b5.jpg_2.png to TOO_SIMILAR - Similarity: 87.51%\n",
      "Moved extracted_face_019a4cd3-cc8f-4cf9-abb0-57ed9bc527b5.jpg_3.png to TOO_SIMILAR - Similarity: 82.45%\n",
      "Moved extracted_face_019a4cd3-cc8f-4cf9-abb0-57ed9bc527b5.jpg_4.png to TOO_SIMILAR - Similarity: 80.11%\n",
      "Moved extracted_face_019a4cd3-cc8f-4cf9-abb0-57ed9bc527b5.jpg_5.png to TOO_SIMILAR - Similarity: 81.59%\n",
      "Moved extracted_face_02f4d91b-0295-4248-af8e-a347feb8b26c.jpg_10.png to TOO_SIMILAR - Similarity: 85.00%\n"
     ]
    },
    {
     "name": "stderr",
     "output_type": "stream",
     "text": [
      "Analyzing Similarity:   6%|▋         | 763/11826 [00:21<05:53, 31.27it/s]"
     ]
    },
    {
     "name": "stdout",
     "output_type": "stream",
     "text": [
      "Moved extracted_face_02f4d91b-0295-4248-af8e-a347feb8b26c.jpg_14.png to TOO_SIMILAR - Similarity: 81.47%\n"
     ]
    },
    {
     "name": "stderr",
     "output_type": "stream",
     "text": [
      "Analyzing Similarity:   7%|▋         | 772/11826 [00:21<05:37, 32.77it/s]"
     ]
    },
    {
     "name": "stdout",
     "output_type": "stream",
     "text": [
      "Moved extracted_face_02f4d91b-0295-4248-af8e-a347feb8b26c.jpg_6.png to TOO_SIMILAR - Similarity: 81.06%\n",
      "Moved extracted_face_02f4d91b-0295-4248-af8e-a347feb8b26c.jpg_7.png to TOO_SIMILAR - Similarity: 81.40%\n",
      "Moved extracted_face_02f4d91b-0295-4248-af8e-a347feb8b26c.jpg_8.png to TOO_SIMILAR - Similarity: 86.47%\n",
      "Moved extracted_face_03F50264-8F40-473E-8C39-DF3CC160449A.jpg_0.png to TOO_SIMILAR - Similarity: 83.64%\n",
      "Moved extracted_face_03F50264-8F40-473E-8C39-DF3CC160449A.jpg_1.png to TOO_SIMILAR - Similarity: 82.32%\n",
      "Moved extracted_face_03F50264-8F40-473E-8C39-DF3CC160449A.jpg_10.png to TOO_SIMILAR - Similarity: 81.84%\n"
     ]
    },
    {
     "name": "stderr",
     "output_type": "stream",
     "text": [
      "Analyzing Similarity:   7%|▋         | 780/11826 [00:21<05:34, 33.06it/s]"
     ]
    },
    {
     "name": "stdout",
     "output_type": "stream",
     "text": [
      "Moved extracted_face_03F50264-8F40-473E-8C39-DF3CC160449A.jpg_4.png to TOO_SIMILAR - Similarity: 80.03%\n",
      "Moved extracted_face_03F50264-8F40-473E-8C39-DF3CC160449A.jpg_6.png to TOO_SIMILAR - Similarity: 83.72%\n",
      "Moved extracted_face_03F50264-8F40-473E-8C39-DF3CC160449A.jpg_7.png to TOO_SIMILAR - Similarity: 80.70%\n",
      "Moved extracted_face_06193b44-7ae6-44d0-bc34-523565a73bad.jpg_1.png to TOO_SIMILAR - Similarity: 82.38%\n",
      "Moved extracted_face_0699d465-7a7c-4c68-9846-c5ee7d5ea358.jpg_1.png to TOO_SIMILAR - Similarity: 86.51%\n",
      "Moved extracted_face_0699d465-7a7c-4c68-9846-c5ee7d5ea358.jpg_2.png to TOO_SIMILAR - Similarity: 87.79%\n"
     ]
    },
    {
     "name": "stderr",
     "output_type": "stream",
     "text": [
      "Analyzing Similarity:   7%|▋         | 788/11826 [00:22<05:15, 34.99it/s]"
     ]
    },
    {
     "name": "stdout",
     "output_type": "stream",
     "text": [
      "Moved extracted_face_0699d465-7a7c-4c68-9846-c5ee7d5ea358.jpg_3.png to TOO_SIMILAR - Similarity: 88.62%\n",
      "Moved extracted_face_06b9afa9-020e-459b-bb9b-85469822e4a6.jpg_0.png to TOO_SIMILAR - Similarity: 82.19%\n"
     ]
    },
    {
     "name": "stderr",
     "output_type": "stream",
     "text": [
      "Analyzing Similarity:   7%|▋         | 796/11826 [00:22<05:23, 34.06it/s]"
     ]
    },
    {
     "name": "stdout",
     "output_type": "stream",
     "text": [
      "Moved extracted_face_1 (10).jpg_0.png to TOO_SIMILAR - Similarity: 81.26%\n",
      "Moved extracted_face_1 (1000).jpg_0.png to TOO_SIMILAR - Similarity: 83.25%\n",
      "Moved extracted_face_1 (1004).jpg_0.png to TOO_SIMILAR - Similarity: 82.49%\n"
     ]
    },
    {
     "name": "stderr",
     "output_type": "stream",
     "text": [
      "Analyzing Similarity:   7%|▋         | 804/11826 [00:22<05:09, 35.60it/s]"
     ]
    },
    {
     "name": "stdout",
     "output_type": "stream",
     "text": [
      "Moved extracted_face_1 (1005).jpg_0.png to TOO_SIMILAR - Similarity: 80.63%\n",
      "Moved extracted_face_1 (1006).jpg_0.png to TOO_SIMILAR - Similarity: 80.04%\n",
      "Moved extracted_face_1 (1007).jpg_0.png to TOO_SIMILAR - Similarity: 85.48%\n",
      "Moved extracted_face_1 (1008).jpg_0.png to TOO_SIMILAR - Similarity: 83.66%\n",
      "Moved extracted_face_1 (101).jpg_0.png to TOO_SIMILAR - Similarity: 83.44%\n",
      "Moved extracted_face_1 (1010).jpg_0.png to TOO_SIMILAR - Similarity: 86.80%\n"
     ]
    },
    {
     "name": "stderr",
     "output_type": "stream",
     "text": [
      "Analyzing Similarity:   7%|▋         | 816/11826 [00:22<05:01, 36.48it/s]"
     ]
    },
    {
     "name": "stdout",
     "output_type": "stream",
     "text": [
      "Moved extracted_face_1 (1013).jpg_0.png to TOO_SIMILAR - Similarity: 80.11%\n",
      "Moved extracted_face_1 (1017).jpg_0.png to TOO_SIMILAR - Similarity: 80.14%\n"
     ]
    },
    {
     "name": "stderr",
     "output_type": "stream",
     "text": [
      "Analyzing Similarity:   7%|▋         | 824/11826 [00:23<04:56, 37.09it/s]"
     ]
    },
    {
     "name": "stdout",
     "output_type": "stream",
     "text": [
      "Moved extracted_face_1 (102).jpg_0.png to TOO_SIMILAR - Similarity: 81.39%\n",
      "Moved extracted_face_1 (1020).jpg_0.png to TOO_SIMILAR - Similarity: 84.52%\n",
      "Moved extracted_face_1 (1022).jpg_0.png to TOO_SIMILAR - Similarity: 82.64%\n",
      "Moved extracted_face_1 (1024).jpg_0.png to TOO_SIMILAR - Similarity: 85.25%\n",
      "Moved extracted_face_1 (1025).jpg_0.png to TOO_SIMILAR - Similarity: 84.55%\n"
     ]
    },
    {
     "name": "stderr",
     "output_type": "stream",
     "text": [
      "Analyzing Similarity:   7%|▋         | 834/11826 [00:23<04:24, 41.50it/s]"
     ]
    },
    {
     "name": "stdout",
     "output_type": "stream",
     "text": [
      "Moved extracted_face_1 (1030).jpg_0.png to TOO_SIMILAR - Similarity: 80.91%\n",
      "Moved extracted_face_1 (1031).jpg_0.png to TOO_SIMILAR - Similarity: 83.03%\n",
      "Moved extracted_face_1 (1032).jpg_0.png to TOO_SIMILAR - Similarity: 81.29%\n",
      "Moved extracted_face_1 (1037).jpg_0.png to TOO_SIMILAR - Similarity: 82.72%\n"
     ]
    },
    {
     "name": "stderr",
     "output_type": "stream",
     "text": [
      "Analyzing Similarity:   7%|▋         | 844/11826 [00:23<04:34, 39.97it/s]"
     ]
    },
    {
     "name": "stdout",
     "output_type": "stream",
     "text": [
      "Moved extracted_face_1 (1040).jpg_0.png to TOO_SIMILAR - Similarity: 83.22%\n",
      "Moved extracted_face_1 (1042).jpg_0.png to TOO_SIMILAR - Similarity: 83.79%\n",
      "Moved extracted_face_1 (1046).jpg_0.png to TOO_SIMILAR - Similarity: 83.32%\n"
     ]
    },
    {
     "name": "stderr",
     "output_type": "stream",
     "text": [
      "Analyzing Similarity:   7%|▋         | 853/11826 [00:24<05:51, 31.18it/s]"
     ]
    },
    {
     "name": "stdout",
     "output_type": "stream",
     "text": [
      "Moved extracted_face_1 (1049).jpg_0.png to TOO_SIMILAR - Similarity: 82.90%\n",
      "Moved extracted_face_1 (1053).jpg_0.png to TOO_SIMILAR - Similarity: 81.41%\n",
      "Moved extracted_face_1 (1054).jpg_0.png to TOO_SIMILAR - Similarity: 82.20%\n"
     ]
    },
    {
     "name": "stderr",
     "output_type": "stream",
     "text": [
      "Analyzing Similarity:   7%|▋         | 866/11826 [00:24<04:53, 37.32it/s]"
     ]
    },
    {
     "name": "stdout",
     "output_type": "stream",
     "text": [
      "Moved extracted_face_1 (106).jpg_1.png to TOO_SIMILAR - Similarity: 81.23%\n",
      "Moved extracted_face_1 (1063).jpg_0.png to TOO_SIMILAR - Similarity: 80.78%\n",
      "Moved extracted_face_1 (1067).jpg_0.png to TOO_SIMILAR - Similarity: 84.80%\n",
      "Moved extracted_face_1 (1068).jpg_0.png to TOO_SIMILAR - Similarity: 80.47%\n",
      "Moved extracted_face_1 (1069).jpg_0.png to TOO_SIMILAR - Similarity: 84.12%\n"
     ]
    },
    {
     "name": "stderr",
     "output_type": "stream",
     "text": [
      "Analyzing Similarity:   7%|▋         | 880/11826 [00:24<04:49, 37.86it/s]"
     ]
    },
    {
     "name": "stdout",
     "output_type": "stream",
     "text": [
      "Moved extracted_face_1 (1074).jpg_0.png to TOO_SIMILAR - Similarity: 84.17%\n",
      "Moved extracted_face_1 (1075).jpg_0.png to TOO_SIMILAR - Similarity: 81.90%\n"
     ]
    },
    {
     "name": "stderr",
     "output_type": "stream",
     "text": [
      "Analyzing Similarity:   8%|▊         | 890/11826 [00:24<04:28, 40.78it/s]"
     ]
    },
    {
     "name": "stdout",
     "output_type": "stream",
     "text": [
      "Moved extracted_face_1 (1084).jpg_0.png to TOO_SIMILAR - Similarity: 82.13%\n",
      "Moved extracted_face_1 (1087).jpg_0.png to TOO_SIMILAR - Similarity: 83.28%\n"
     ]
    },
    {
     "name": "stderr",
     "output_type": "stream",
     "text": [
      "Analyzing Similarity:   8%|▊         | 903/11826 [00:25<04:52, 37.40it/s]"
     ]
    },
    {
     "name": "stdout",
     "output_type": "stream",
     "text": [
      "Moved extracted_face_1 (1095).jpg_0.png to TOO_SIMILAR - Similarity: 86.61%\n",
      "Moved extracted_face_1 (1096).jpg_0.png to TOO_SIMILAR - Similarity: 82.19%\n",
      "Moved extracted_face_1 (1098).jpg_0.png to TOO_SIMILAR - Similarity: 82.96%\n",
      "Moved extracted_face_1 (1099).jpg_0.png to TOO_SIMILAR - Similarity: 82.85%\n",
      "Moved extracted_face_1 (11).png_0.png to TOO_SIMILAR - Similarity: 82.54%\n"
     ]
    },
    {
     "name": "stderr",
     "output_type": "stream",
     "text": [
      "Analyzing Similarity:   8%|▊         | 919/11826 [00:25<04:00, 45.33it/s]"
     ]
    },
    {
     "name": "stdout",
     "output_type": "stream",
     "text": [
      "Moved extracted_face_1 (1106).jpg_0.png to TOO_SIMILAR - Similarity: 82.60%\n",
      "Moved extracted_face_1 (1107).jpg_0.png to TOO_SIMILAR - Similarity: 83.93%\n",
      "Moved extracted_face_1 (1108).jpg_0.png to TOO_SIMILAR - Similarity: 83.20%\n",
      "Moved extracted_face_1 (111).jpg_0.png to TOO_SIMILAR - Similarity: 83.22%\n",
      "Moved extracted_face_1 (1111).jpg_0.png to TOO_SIMILAR - Similarity: 85.80%\n",
      "Moved extracted_face_1 (1114).jpg_0.png to TOO_SIMILAR - Similarity: 84.30%\n",
      "Moved extracted_face_1 (1115).jpg_0.png to TOO_SIMILAR - Similarity: 87.02%\n"
     ]
    },
    {
     "name": "stderr",
     "output_type": "stream",
     "text": [
      "Analyzing Similarity:   8%|▊         | 930/11826 [00:25<04:10, 43.50it/s]"
     ]
    },
    {
     "name": "stdout",
     "output_type": "stream",
     "text": [
      "Moved extracted_face_1 (112).jpg_0.png to TOO_SIMILAR - Similarity: 85.46%\n",
      "Moved extracted_face_1 (1120).jpg_0.png to TOO_SIMILAR - Similarity: 85.85%\n",
      "Moved extracted_face_1 (1124).jpg_0.png to TOO_SIMILAR - Similarity: 86.10%\n"
     ]
    },
    {
     "name": "stderr",
     "output_type": "stream",
     "text": [
      "Analyzing Similarity:   8%|▊         | 940/11826 [00:26<04:21, 41.59it/s]"
     ]
    },
    {
     "name": "stdout",
     "output_type": "stream",
     "text": [
      "Moved extracted_face_1 (113).jpg_0.png to TOO_SIMILAR - Similarity: 87.28%\n",
      "Moved extracted_face_1 (1131).jpg_0.png to TOO_SIMILAR - Similarity: 84.22%\n",
      "Moved extracted_face_1 (1135).jpg_0.png to TOO_SIMILAR - Similarity: 81.85%\n"
     ]
    },
    {
     "name": "stderr",
     "output_type": "stream",
     "text": [
      "Analyzing Similarity:   8%|▊         | 960/11826 [00:26<04:32, 39.82it/s]"
     ]
    },
    {
     "name": "stdout",
     "output_type": "stream",
     "text": [
      "Moved extracted_face_1 (114).jpg_0.png to TOO_SIMILAR - Similarity: 81.79%\n",
      "Moved extracted_face_1 (1142).jpg_0.png to TOO_SIMILAR - Similarity: 85.92%\n",
      "Moved extracted_face_1 (1143).jpg_0.png to TOO_SIMILAR - Similarity: 82.91%\n",
      "Moved extracted_face_1 (1145).jpg_0.png to TOO_SIMILAR - Similarity: 88.87%\n",
      "Moved extracted_face_1 (1147).jpg_0.png to TOO_SIMILAR - Similarity: 81.37%\n"
     ]
    },
    {
     "name": "stderr",
     "output_type": "stream",
     "text": [
      "Analyzing Similarity:   8%|▊         | 970/11826 [00:26<04:57, 36.45it/s]"
     ]
    },
    {
     "name": "stdout",
     "output_type": "stream",
     "text": [
      "Moved extracted_face_1 (1148).jpg_0.png to TOO_SIMILAR - Similarity: 85.93%\n",
      "Moved extracted_face_1 (115).jpg_0.png to TOO_SIMILAR - Similarity: 83.49%\n",
      "Moved extracted_face_1 (1150).jpg_0.png to TOO_SIMILAR - Similarity: 81.40%\n",
      "Moved extracted_face_1 (1153).jpg_0.png to TOO_SIMILAR - Similarity: 83.98%\n"
     ]
    },
    {
     "name": "stderr",
     "output_type": "stream",
     "text": [
      "Analyzing Similarity:   8%|▊         | 983/11826 [00:27<04:41, 38.51it/s]"
     ]
    },
    {
     "name": "stdout",
     "output_type": "stream",
     "text": [
      "Moved extracted_face_1 (1164).jpg_0.png to TOO_SIMILAR - Similarity: 84.85%\n",
      "Moved extracted_face_1 (1172).jpg_0.png to TOO_SIMILAR - Similarity: 84.79%\n"
     ]
    },
    {
     "name": "stderr",
     "output_type": "stream",
     "text": [
      "Analyzing Similarity:   8%|▊         | 1000/11826 [00:27<04:42, 38.29it/s]"
     ]
    },
    {
     "name": "stdout",
     "output_type": "stream",
     "text": [
      "Moved extracted_face_1 (1184).jpg_0.png to TOO_SIMILAR - Similarity: 85.89%\n",
      "Moved extracted_face_1 (1187).jpg_0.png to TOO_SIMILAR - Similarity: 81.40%\n",
      "Moved extracted_face_1 (119).jpg_0.png to TOO_SIMILAR - Similarity: 82.62%\n",
      "Moved extracted_face_1 (1190).jpg_1.png to TOO_SIMILAR - Similarity: 80.99%\n"
     ]
    },
    {
     "name": "stderr",
     "output_type": "stream",
     "text": [
      "Analyzing Similarity:   9%|▊         | 1009/11826 [00:27<04:36, 39.11it/s]"
     ]
    },
    {
     "name": "stdout",
     "output_type": "stream",
     "text": [
      "Moved extracted_face_1 (1195).jpg_0.png to TOO_SIMILAR - Similarity: 84.94%\n",
      "Moved extracted_face_1 (1199).jpg_0.png to TOO_SIMILAR - Similarity: 83.25%\n",
      "Moved extracted_face_1 (12).jpeg_0.png to TOO_SIMILAR - Similarity: 81.07%\n",
      "Moved extracted_face_1 (12).png_0.png to TOO_SIMILAR - Similarity: 80.36%\n"
     ]
    },
    {
     "name": "stderr",
     "output_type": "stream",
     "text": [
      "Analyzing Similarity:   9%|▊         | 1018/11826 [00:28<05:12, 34.54it/s]"
     ]
    },
    {
     "name": "stdout",
     "output_type": "stream",
     "text": [
      "Moved extracted_face_1 (1202).jpg_0.png to TOO_SIMILAR - Similarity: 85.27%\n"
     ]
    },
    {
     "name": "stderr",
     "output_type": "stream",
     "text": [
      "Analyzing Similarity:   9%|▊         | 1026/11826 [00:28<05:02, 35.68it/s]"
     ]
    },
    {
     "name": "stdout",
     "output_type": "stream",
     "text": [
      "Moved extracted_face_1 (122).jpg_0.png to TOO_SIMILAR - Similarity: 80.75%\n",
      "Moved extracted_face_1 (1227).jpg_0.png to TOO_SIMILAR - Similarity: 84.31%\n"
     ]
    },
    {
     "name": "stderr",
     "output_type": "stream",
     "text": [
      "Analyzing Similarity:   9%|▉         | 1037/11826 [00:28<04:16, 42.08it/s]"
     ]
    },
    {
     "name": "stdout",
     "output_type": "stream",
     "text": [
      "Moved extracted_face_1 (1232).jpg_0.png to TOO_SIMILAR - Similarity: 84.41%\n",
      "Moved extracted_face_1 (1234).jpg_0.png to TOO_SIMILAR - Similarity: 82.86%\n",
      "Moved extracted_face_1 (1238).jpg_0.png to TOO_SIMILAR - Similarity: 81.15%\n",
      "Moved extracted_face_1 (1246).jpg_0.png to TOO_SIMILAR - Similarity: 80.55%\n"
     ]
    },
    {
     "name": "stderr",
     "output_type": "stream",
     "text": [
      "Analyzing Similarity:   9%|▉         | 1043/11826 [00:28<04:04, 44.09it/s]"
     ]
    },
    {
     "name": "stdout",
     "output_type": "stream",
     "text": [
      "Moved extracted_face_1 (125).jpg_0.png to TOO_SIMILAR - Similarity: 86.34%\n",
      "Moved extracted_face_1 (1250).jpg_0.png to TOO_SIMILAR - Similarity: 82.90%\n",
      "Moved extracted_face_1 (1254).jpg_0.png to TOO_SIMILAR - Similarity: 80.63%\n",
      "Moved extracted_face_1 (1255).jpg_0.png to TOO_SIMILAR - Similarity: 80.68%\n"
     ]
    },
    {
     "name": "stderr",
     "output_type": "stream",
     "text": [
      "Analyzing Similarity:   9%|▉         | 1052/11826 [00:29<05:04, 35.39it/s]"
     ]
    },
    {
     "name": "stdout",
     "output_type": "stream",
     "text": [
      "Moved extracted_face_1 (1258).jpg_0.png to TOO_SIMILAR - Similarity: 85.37%\n",
      "Moved extracted_face_1 (1262).jpg_0.png to TOO_SIMILAR - Similarity: 84.46%\n",
      "Moved extracted_face_1 (1264).jpg_0.png to TOO_SIMILAR - Similarity: 85.09%\n",
      "Moved extracted_face_1 (1265).jpg_0.png to TOO_SIMILAR - Similarity: 85.11%\n"
     ]
    },
    {
     "name": "stderr",
     "output_type": "stream",
     "text": [
      "Analyzing Similarity:   9%|▉         | 1061/11826 [00:29<04:47, 37.42it/s]"
     ]
    },
    {
     "name": "stdout",
     "output_type": "stream",
     "text": [
      "Moved extracted_face_1 (1269).jpg_0.png to TOO_SIMILAR - Similarity: 85.30%\n",
      "Moved extracted_face_1 (127).jpg_0.png to TOO_SIMILAR - Similarity: 81.29%\n",
      "Moved extracted_face_1 (1272).jpg_0.png to TOO_SIMILAR - Similarity: 86.38%\n",
      "Moved extracted_face_1 (1279).jpg_0.png to TOO_SIMILAR - Similarity: 82.05%\n"
     ]
    },
    {
     "name": "stderr",
     "output_type": "stream",
     "text": [
      "Analyzing Similarity:   9%|▉         | 1076/11826 [00:29<04:29, 39.84it/s]"
     ]
    },
    {
     "name": "stdout",
     "output_type": "stream",
     "text": [
      "Moved extracted_face_1 (1283).jpg_0.png to TOO_SIMILAR - Similarity: 80.45%\n",
      "Moved extracted_face_1 (1284).jpg_0.png to TOO_SIMILAR - Similarity: 84.14%\n",
      "Moved extracted_face_1 (129).jpg_0.png to TOO_SIMILAR - Similarity: 83.57%\n"
     ]
    },
    {
     "name": "stderr",
     "output_type": "stream",
     "text": [
      "Analyzing Similarity:   9%|▉         | 1093/11826 [00:30<03:49, 46.80it/s]"
     ]
    },
    {
     "name": "stdout",
     "output_type": "stream",
     "text": [
      "Moved extracted_face_1 (1297).jpg_0.png to TOO_SIMILAR - Similarity: 80.50%\n",
      "Moved extracted_face_1 (1299).jpg_0.png to TOO_SIMILAR - Similarity: 80.36%\n",
      "Moved extracted_face_1 (1305).jpg_0.png to TOO_SIMILAR - Similarity: 81.24%\n"
     ]
    },
    {
     "name": "stderr",
     "output_type": "stream",
     "text": [
      "Analyzing Similarity:   9%|▉         | 1103/11826 [00:30<04:03, 44.08it/s]"
     ]
    },
    {
     "name": "stdout",
     "output_type": "stream",
     "text": [
      "Moved extracted_face_1 (1313).jpg_0.png to TOO_SIMILAR - Similarity: 84.42%\n"
     ]
    },
    {
     "name": "stderr",
     "output_type": "stream",
     "text": [
      "Analyzing Similarity:   9%|▉         | 1113/11826 [00:30<04:09, 42.91it/s]"
     ]
    },
    {
     "name": "stdout",
     "output_type": "stream",
     "text": [
      "Moved extracted_face_1 (1323).jpg_0.png to TOO_SIMILAR - Similarity: 83.36%\n",
      "Moved extracted_face_1 (1327).jpg_0.png to TOO_SIMILAR - Similarity: 84.30%\n",
      "Moved extracted_face_1 (1328).jpg_0.png to TOO_SIMILAR - Similarity: 83.52%\n"
     ]
    },
    {
     "name": "stderr",
     "output_type": "stream",
     "text": [
      "Analyzing Similarity:  10%|▉         | 1125/11826 [00:30<03:36, 49.54it/s]"
     ]
    },
    {
     "name": "stdout",
     "output_type": "stream",
     "text": [
      "Moved extracted_face_1 (1334).jpg_0.png to TOO_SIMILAR - Similarity: 84.80%\n",
      "Moved extracted_face_1 (1336).jpg_0.png to TOO_SIMILAR - Similarity: 80.37%\n",
      "Moved extracted_face_1 (1339).jpg_0.png to TOO_SIMILAR - Similarity: 82.54%\n",
      "Moved extracted_face_1 (1344).jpg_0.png to TOO_SIMILAR - Similarity: 81.68%\n",
      "Moved extracted_face_1 (1345).jpg_0.png to TOO_SIMILAR - Similarity: 81.67%\n"
     ]
    },
    {
     "name": "stderr",
     "output_type": "stream",
     "text": [
      "Analyzing Similarity:  10%|▉         | 1131/11826 [00:30<03:58, 44.83it/s]"
     ]
    },
    {
     "name": "stdout",
     "output_type": "stream",
     "text": [
      "Moved extracted_face_1 (1355).jpg_0.png to TOO_SIMILAR - Similarity: 83.24%\n",
      "Moved extracted_face_1 (1356).jpg_0.png to TOO_SIMILAR - Similarity: 83.31%\n",
      "Moved extracted_face_1 (1358).jpg_0.png to TOO_SIMILAR - Similarity: 82.86%\n",
      "Moved extracted_face_1 (1359).jpg_0.png to TOO_SIMILAR - Similarity: 83.62%\n",
      "Moved extracted_face_1 (1360).jpg_0.png to TOO_SIMILAR - Similarity: 80.61%\n"
     ]
    },
    {
     "name": "stderr",
     "output_type": "stream",
     "text": [
      "Analyzing Similarity:  10%|▉         | 1141/11826 [00:31<04:11, 42.44it/s]"
     ]
    },
    {
     "name": "stdout",
     "output_type": "stream",
     "text": [
      "Moved extracted_face_1 (1365).jpg_0.png to TOO_SIMILAR - Similarity: 81.46%\n",
      "Moved extracted_face_1 (1366).jpg_0.png to TOO_SIMILAR - Similarity: 82.25%\n",
      "Moved extracted_face_1 (1368).jpg_0.png to TOO_SIMILAR - Similarity: 83.80%\n",
      "Moved extracted_face_1 (137).jpg_0.png to TOO_SIMILAR - Similarity: 83.09%\n",
      "Moved extracted_face_1 (1374).jpg_0.png to TOO_SIMILAR - Similarity: 80.13%\n"
     ]
    },
    {
     "name": "stderr",
     "output_type": "stream",
     "text": [
      "Analyzing Similarity:  10%|▉         | 1151/11826 [00:31<04:02, 44.01it/s]"
     ]
    },
    {
     "name": "stdout",
     "output_type": "stream",
     "text": [
      "Moved extracted_face_1 (1375).jpg_0.png to TOO_SIMILAR - Similarity: 83.53%\n",
      "Moved extracted_face_1 (1376).jpg_0.png to TOO_SIMILAR - Similarity: 87.65%\n",
      "Moved extracted_face_1 (1379).jpg_0.png to TOO_SIMILAR - Similarity: 81.23%\n",
      "Moved extracted_face_1 (1382).jpg_0.png to TOO_SIMILAR - Similarity: 80.55%\n",
      "Moved extracted_face_1 (1383).jpg_0.png to TOO_SIMILAR - Similarity: 80.67%\n",
      "Moved extracted_face_1 (1383).jpg_1.png to TOO_SIMILAR - Similarity: 81.06%\n"
     ]
    },
    {
     "name": "stderr",
     "output_type": "stream",
     "text": [
      "Analyzing Similarity:  10%|▉         | 1161/11826 [00:31<04:12, 42.29it/s]"
     ]
    },
    {
     "name": "stdout",
     "output_type": "stream",
     "text": [
      "Moved extracted_face_1 (1383).jpg_3.png to TOO_SIMILAR - Similarity: 84.16%\n",
      "Moved extracted_face_1 (139).jpg_0.png to TOO_SIMILAR - Similarity: 80.27%\n",
      "Moved extracted_face_1 (1390).jpg_0.png to TOO_SIMILAR - Similarity: 82.74%\n"
     ]
    },
    {
     "name": "stderr",
     "output_type": "stream",
     "text": [
      "Analyzing Similarity:  10%|▉         | 1180/11826 [00:31<03:27, 51.40it/s]"
     ]
    },
    {
     "name": "stdout",
     "output_type": "stream",
     "text": [
      "Moved extracted_face_1 (1407).jpg_0.png to TOO_SIMILAR - Similarity: 84.60%\n",
      "Moved extracted_face_1 (1421).jpg_0.png to TOO_SIMILAR - Similarity: 80.17%\n"
     ]
    },
    {
     "name": "stderr",
     "output_type": "stream",
     "text": [
      "Analyzing Similarity:  10%|█         | 1196/11826 [00:32<03:58, 44.52it/s]"
     ]
    },
    {
     "name": "stdout",
     "output_type": "stream",
     "text": [
      "Moved extracted_face_1 (1428).jpg_0.png to TOO_SIMILAR - Similarity: 80.01%\n",
      "Moved extracted_face_1 (143).jpg_0.png to TOO_SIMILAR - Similarity: 81.62%\n",
      "Moved extracted_face_1 (144).jpg_0.png to TOO_SIMILAR - Similarity: 83.15%\n"
     ]
    },
    {
     "name": "stderr",
     "output_type": "stream",
     "text": [
      "Analyzing Similarity:  10%|█         | 1206/11826 [00:32<04:05, 43.17it/s]"
     ]
    },
    {
     "name": "stdout",
     "output_type": "stream",
     "text": [
      "Moved extracted_face_1 (1443).jpg_0.png to TOO_SIMILAR - Similarity: 83.21%\n",
      "Moved extracted_face_1 (1447).jpg_0.png to TOO_SIMILAR - Similarity: 86.32%\n",
      "Moved extracted_face_1 (145).jpg_0.png to TOO_SIMILAR - Similarity: 82.05%\n",
      "Moved extracted_face_1 (1457).jpg_0.png to TOO_SIMILAR - Similarity: 82.67%\n"
     ]
    },
    {
     "name": "stderr",
     "output_type": "stream",
     "text": [
      "Analyzing Similarity:  10%|█         | 1217/11826 [00:32<04:07, 42.89it/s]"
     ]
    },
    {
     "name": "stdout",
     "output_type": "stream",
     "text": [
      "Moved extracted_face_1 (1462).jpg_0.png to TOO_SIMILAR - Similarity: 82.14%\n",
      "Moved extracted_face_1 (1465).jpg_0.png to TOO_SIMILAR - Similarity: 84.41%\n",
      "Moved extracted_face_1 (1472).jpg_0.png to TOO_SIMILAR - Similarity: 80.64%\n"
     ]
    },
    {
     "name": "stderr",
     "output_type": "stream",
     "text": [
      "Analyzing Similarity:  10%|█         | 1228/11826 [00:33<04:14, 41.64it/s]"
     ]
    },
    {
     "name": "stdout",
     "output_type": "stream",
     "text": [
      "Moved extracted_face_1 (1474).jpg_0.png to TOO_SIMILAR - Similarity: 80.89%\n",
      "Moved extracted_face_1 (1476).jpg_0.png to TOO_SIMILAR - Similarity: 80.60%\n",
      "Moved extracted_face_1 (1479).jpg_0.png to TOO_SIMILAR - Similarity: 80.14%\n",
      "Moved extracted_face_1 (148).jpg_0.png to TOO_SIMILAR - Similarity: 85.69%\n",
      "Moved extracted_face_1 (1480).jpg_0.png to TOO_SIMILAR - Similarity: 83.27%\n",
      "Moved extracted_face_1 (1481).jpg_0.png to TOO_SIMILAR - Similarity: 81.42%\n"
     ]
    },
    {
     "name": "stderr",
     "output_type": "stream",
     "text": [
      "Analyzing Similarity:  10%|█         | 1238/11826 [00:33<04:25, 39.92it/s]"
     ]
    },
    {
     "name": "stdout",
     "output_type": "stream",
     "text": [
      "Moved extracted_face_1 (1489).jpg_0.png to TOO_SIMILAR - Similarity: 86.21%\n"
     ]
    },
    {
     "name": "stderr",
     "output_type": "stream",
     "text": [
      "Analyzing Similarity:  11%|█         | 1251/11826 [00:33<05:07, 34.40it/s]"
     ]
    },
    {
     "name": "stdout",
     "output_type": "stream",
     "text": [
      "Moved extracted_face_1 (150).jpg_0.png to TOO_SIMILAR - Similarity: 84.07%\n",
      "Moved extracted_face_1 (151).jpg_0.png to TOO_SIMILAR - Similarity: 86.35%\n"
     ]
    },
    {
     "name": "stderr",
     "output_type": "stream",
     "text": [
      "Analyzing Similarity:  11%|█         | 1264/11826 [00:34<05:06, 34.43it/s]"
     ]
    },
    {
     "name": "stdout",
     "output_type": "stream",
     "text": [
      "Moved extracted_face_1 (1521).jpg_0.png to TOO_SIMILAR - Similarity: 80.98%\n"
     ]
    },
    {
     "name": "stderr",
     "output_type": "stream",
     "text": [
      "Analyzing Similarity:  11%|█         | 1272/11826 [00:34<04:58, 35.30it/s]"
     ]
    },
    {
     "name": "stdout",
     "output_type": "stream",
     "text": [
      "Moved extracted_face_1 (1532).jpg_0.png to TOO_SIMILAR - Similarity: 80.43%\n",
      "Moved extracted_face_1 (1536).jpg_0.png to TOO_SIMILAR - Similarity: 81.13%\n",
      "Moved extracted_face_1 (1537).jpg_0.png to TOO_SIMILAR - Similarity: 83.18%\n",
      "Moved extracted_face_1 (154).jpg_0.png to TOO_SIMILAR - Similarity: 81.40%\n"
     ]
    },
    {
     "name": "stderr",
     "output_type": "stream",
     "text": [
      "Analyzing Similarity:  11%|█         | 1287/11826 [00:34<04:19, 40.60it/s]"
     ]
    },
    {
     "name": "stdout",
     "output_type": "stream",
     "text": [
      "Moved extracted_face_1 (1547).jpg_0.png to TOO_SIMILAR - Similarity: 83.58%\n",
      "Moved extracted_face_1 (1548).jpg_0.png to TOO_SIMILAR - Similarity: 80.61%\n",
      "Moved extracted_face_1 (1551).jpg_0.png to TOO_SIMILAR - Similarity: 83.11%\n",
      "Moved extracted_face_1 (1554).jpg_0.png to TOO_SIMILAR - Similarity: 83.20%\n"
     ]
    },
    {
     "name": "stderr",
     "output_type": "stream",
     "text": [
      "Analyzing Similarity:  11%|█         | 1292/11826 [00:34<04:48, 36.53it/s]"
     ]
    },
    {
     "name": "stdout",
     "output_type": "stream",
     "text": [
      "Moved extracted_face_1 (1556).jpg_0.png to TOO_SIMILAR - Similarity: 80.73%\n"
     ]
    },
    {
     "name": "stderr",
     "output_type": "stream",
     "text": [
      "Analyzing Similarity:  11%|█         | 1296/11826 [00:35<05:26, 32.26it/s]"
     ]
    },
    {
     "name": "stdout",
     "output_type": "stream",
     "text": [
      "Moved extracted_face_1 (1561).jpg_0.png to TOO_SIMILAR - Similarity: 86.15%\n",
      "Moved extracted_face_1 (1563).jpg_0.png to TOO_SIMILAR - Similarity: 80.30%\n"
     ]
    },
    {
     "name": "stderr",
     "output_type": "stream",
     "text": [
      "Analyzing Similarity:  11%|█         | 1308/11826 [00:35<05:11, 33.79it/s]"
     ]
    },
    {
     "name": "stdout",
     "output_type": "stream",
     "text": [
      "Moved extracted_face_1 (1572).jpg_0.png to TOO_SIMILAR - Similarity: 81.00%\n",
      "Moved extracted_face_1 (1574).jpg_0.png to TOO_SIMILAR - Similarity: 81.92%\n",
      "Moved extracted_face_1 (1575).jpg_0.png to TOO_SIMILAR - Similarity: 86.14%\n",
      "Moved extracted_face_1 (1577).jpg_0.png to TOO_SIMILAR - Similarity: 82.62%\n"
     ]
    },
    {
     "name": "stderr",
     "output_type": "stream",
     "text": [
      "Analyzing Similarity:  11%|█         | 1321/11826 [00:35<04:40, 37.42it/s]"
     ]
    },
    {
     "name": "stdout",
     "output_type": "stream",
     "text": [
      "Moved extracted_face_1 (1582).jpg_0.png to TOO_SIMILAR - Similarity: 83.82%\n",
      "Moved extracted_face_1 (1584).jpg_0.png to TOO_SIMILAR - Similarity: 84.51%\n",
      "Moved extracted_face_1 (1589).jpg_0.png to TOO_SIMILAR - Similarity: 86.18%\n"
     ]
    },
    {
     "name": "stderr",
     "output_type": "stream",
     "text": [
      "Analyzing Similarity:  11%|█         | 1329/11826 [00:35<04:41, 37.26it/s]"
     ]
    },
    {
     "name": "stdout",
     "output_type": "stream",
     "text": [
      "Moved extracted_face_1 (1601).jpg_0.png to TOO_SIMILAR - Similarity: 81.48%\n",
      "Moved extracted_face_1 (1608).jpg_0.png to TOO_SIMILAR - Similarity: 82.68%\n"
     ]
    },
    {
     "name": "stderr",
     "output_type": "stream",
     "text": [
      "Analyzing Similarity:  11%|█▏        | 1344/11826 [00:36<04:05, 42.76it/s]"
     ]
    },
    {
     "name": "stdout",
     "output_type": "stream",
     "text": [
      "Moved extracted_face_1 (1638).jpg_0.png to TOO_SIMILAR - Similarity: 84.91%\n",
      "Moved extracted_face_1 (1643).jpg_0.png to TOO_SIMILAR - Similarity: 83.23%\n",
      "Moved extracted_face_1 (1646).jpg_0.png to TOO_SIMILAR - Similarity: 80.68%\n",
      "Moved extracted_face_1 (1652).jpg_0.png to TOO_SIMILAR - Similarity: 80.69%\n",
      "Moved extracted_face_1 (1659).jpg_0.png to TOO_SIMILAR - Similarity: 84.13%\n"
     ]
    },
    {
     "name": "stderr",
     "output_type": "stream",
     "text": [
      "Analyzing Similarity:  11%|█▏        | 1355/11826 [00:36<04:18, 40.57it/s]"
     ]
    },
    {
     "name": "stdout",
     "output_type": "stream",
     "text": [
      "Moved extracted_face_1 (166).jpg_0.png to TOO_SIMILAR - Similarity: 84.79%\n",
      "Moved extracted_face_1 (1662).jpg_0.png to TOO_SIMILAR - Similarity: 82.42%\n",
      "Moved extracted_face_1 (1666).jpg_0.png to TOO_SIMILAR - Similarity: 83.94%\n",
      "Moved extracted_face_1 (1669).jpg_0.png to TOO_SIMILAR - Similarity: 80.72%\n"
     ]
    },
    {
     "name": "stderr",
     "output_type": "stream",
     "text": [
      "Analyzing Similarity:  12%|█▏        | 1372/11826 [00:36<03:41, 47.24it/s]"
     ]
    },
    {
     "name": "stdout",
     "output_type": "stream",
     "text": [
      "Moved extracted_face_1 (1671).jpg_0.png to TOO_SIMILAR - Similarity: 82.51%\n",
      "Moved extracted_face_1 (1676).jpg_0.png to TOO_SIMILAR - Similarity: 83.18%\n",
      "Moved extracted_face_1 (1680).jpg_0.png to TOO_SIMILAR - Similarity: 81.61%\n",
      "Moved extracted_face_1 (1681).jpg_0.png to TOO_SIMILAR - Similarity: 84.42%\n",
      "Moved extracted_face_1 (1689).jpg_0.png to TOO_SIMILAR - Similarity: 81.00%\n"
     ]
    },
    {
     "name": "stderr",
     "output_type": "stream",
     "text": [
      "Analyzing Similarity:  12%|█▏        | 1382/11826 [00:37<04:01, 43.28it/s]"
     ]
    },
    {
     "name": "stdout",
     "output_type": "stream",
     "text": [
      "Moved extracted_face_1 (1691).jpg_0.png to TOO_SIMILAR - Similarity: 81.76%\n",
      "Moved extracted_face_1 (1692).jpg_0.png to TOO_SIMILAR - Similarity: 85.25%\n",
      "Moved extracted_face_1 (1695).jpg_0.png to TOO_SIMILAR - Similarity: 80.94%\n",
      "Moved extracted_face_1 (1700).jpg_0.png to TOO_SIMILAR - Similarity: 83.72%\n"
     ]
    },
    {
     "name": "stderr",
     "output_type": "stream",
     "text": [
      "Analyzing Similarity:  12%|█▏        | 1387/11826 [00:37<04:08, 42.00it/s]"
     ]
    },
    {
     "name": "stdout",
     "output_type": "stream",
     "text": [
      "Moved extracted_face_1 (1703).jpg_0.png to TOO_SIMILAR - Similarity: 81.18%\n",
      "Moved extracted_face_1 (1705).jpg_0.png to TOO_SIMILAR - Similarity: 85.73%\n",
      "Moved extracted_face_1 (1709).jpg_0.png to TOO_SIMILAR - Similarity: 82.70%\n",
      "Moved extracted_face_1 (1714).jpg_0.png to TOO_SIMILAR - Similarity: 80.67%\n",
      "Moved extracted_face_1 (1717).jpg_0.png to TOO_SIMILAR - Similarity: 86.03%\n"
     ]
    },
    {
     "name": "stderr",
     "output_type": "stream",
     "text": [
      "Analyzing Similarity:  12%|█▏        | 1397/11826 [00:37<04:09, 41.78it/s]"
     ]
    },
    {
     "name": "stdout",
     "output_type": "stream",
     "text": [
      "Moved extracted_face_1 (1717).jpg_1.png to TOO_SIMILAR - Similarity: 85.32%\n",
      "Moved extracted_face_1 (1720).jpg_0.png to TOO_SIMILAR - Similarity: 81.41%\n"
     ]
    },
    {
     "name": "stderr",
     "output_type": "stream",
     "text": [
      "Analyzing Similarity:  12%|█▏        | 1402/11826 [00:37<04:09, 41.78it/s]"
     ]
    },
    {
     "name": "stdout",
     "output_type": "stream",
     "text": [
      "Moved extracted_face_1 (1729).jpg_0.png to TOO_SIMILAR - Similarity: 83.17%\n",
      "Moved extracted_face_1 (173).jpg_0.png to TOO_SIMILAR - Similarity: 81.47%\n"
     ]
    },
    {
     "name": "stderr",
     "output_type": "stream",
     "text": [
      "Analyzing Similarity:  12%|█▏        | 1411/11826 [00:38<06:03, 28.65it/s]"
     ]
    },
    {
     "name": "stdout",
     "output_type": "stream",
     "text": [
      "Moved extracted_face_1 (1740).jpg_0.png to TOO_SIMILAR - Similarity: 86.18%\n",
      "Moved extracted_face_1 (1741).jpg_0.png to TOO_SIMILAR - Similarity: 83.30%\n",
      "Moved extracted_face_1 (1747).jpg_0.png to TOO_SIMILAR - Similarity: 82.92%\n"
     ]
    },
    {
     "name": "stderr",
     "output_type": "stream",
     "text": [
      "Analyzing Similarity:  12%|█▏        | 1423/11826 [00:38<05:56, 29.21it/s]"
     ]
    },
    {
     "name": "stdout",
     "output_type": "stream",
     "text": [
      "Moved extracted_face_1 (1750).jpg_0.png to TOO_SIMILAR - Similarity: 82.41%\n",
      "Moved extracted_face_1 (1752).jpg_0.png to TOO_SIMILAR - Similarity: 81.01%\n",
      "Moved extracted_face_1 (1754).jpg_0.png to TOO_SIMILAR - Similarity: 82.66%\n",
      "Moved extracted_face_1 (1759).jpg_0.png to TOO_SIMILAR - Similarity: 81.93%\n"
     ]
    },
    {
     "name": "stderr",
     "output_type": "stream",
     "text": [
      "Analyzing Similarity:  12%|█▏        | 1432/11826 [00:38<06:16, 27.61it/s]"
     ]
    },
    {
     "name": "stdout",
     "output_type": "stream",
     "text": [
      "Moved extracted_face_1 (1766).jpg_0.png to TOO_SIMILAR - Similarity: 80.50%\n",
      "Moved extracted_face_1 (1767).jpg_0.png to TOO_SIMILAR - Similarity: 81.53%\n"
     ]
    },
    {
     "name": "stderr",
     "output_type": "stream",
     "text": [
      "Analyzing Similarity:  12%|█▏        | 1438/11826 [00:39<08:28, 20.45it/s]"
     ]
    },
    {
     "name": "stdout",
     "output_type": "stream",
     "text": [
      "Moved extracted_face_1 (1775).jpg_0.png to TOO_SIMILAR - Similarity: 86.15%\n",
      "Moved extracted_face_1 (1778).jpg_0.png to TOO_SIMILAR - Similarity: 80.28%\n",
      "Moved extracted_face_1 (1779).jpg_0.png to TOO_SIMILAR - Similarity: 87.61%\n"
     ]
    },
    {
     "name": "stderr",
     "output_type": "stream",
     "text": [
      "Analyzing Similarity:  12%|█▏        | 1445/11826 [00:39<07:18, 23.68it/s]"
     ]
    },
    {
     "name": "stdout",
     "output_type": "stream",
     "text": [
      "Moved extracted_face_1 (1780).jpg_0.png to TOO_SIMILAR - Similarity: 84.91%\n",
      "Moved extracted_face_1 (1784).jpg_0.png to TOO_SIMILAR - Similarity: 82.28%\n",
      "Moved extracted_face_1 (1786).jpg_0.png to TOO_SIMILAR - Similarity: 86.23%\n",
      "Moved extracted_face_1 (179).jpg_0.png to TOO_SIMILAR - Similarity: 85.83%\n"
     ]
    },
    {
     "name": "stderr",
     "output_type": "stream",
     "text": [
      "Analyzing Similarity:  12%|█▏        | 1453/11826 [00:39<06:11, 27.94it/s]"
     ]
    },
    {
     "name": "stdout",
     "output_type": "stream",
     "text": [
      "Moved extracted_face_1 (1792).jpg_0.png to TOO_SIMILAR - Similarity: 84.30%\n",
      "Moved extracted_face_1 (1797).jpg_0.png to TOO_SIMILAR - Similarity: 80.82%\n",
      "Moved extracted_face_1 (1803).jpg_0.png to TOO_SIMILAR - Similarity: 80.31%\n"
     ]
    },
    {
     "name": "stderr",
     "output_type": "stream",
     "text": [
      "Analyzing Similarity:  12%|█▏        | 1464/11826 [00:39<04:37, 37.31it/s]"
     ]
    },
    {
     "name": "stdout",
     "output_type": "stream",
     "text": [
      "Moved extracted_face_1 (1808).jpg_0.png to TOO_SIMILAR - Similarity: 84.57%\n",
      "Moved extracted_face_1 (1814).jpg_0.png to TOO_SIMILAR - Similarity: 82.38%\n",
      "Moved extracted_face_1 (1821).jpg_0.png to TOO_SIMILAR - Similarity: 81.60%\n",
      "Moved extracted_face_1 (1829).jpg_0.png to TOO_SIMILAR - Similarity: 85.38%\n",
      "Moved extracted_face_1 (1830).jpg_0.png to TOO_SIMILAR - Similarity: 80.67%\n"
     ]
    },
    {
     "name": "stderr",
     "output_type": "stream",
     "text": [
      "Analyzing Similarity:  12%|█▏        | 1474/11826 [00:40<04:28, 38.50it/s]"
     ]
    },
    {
     "name": "stdout",
     "output_type": "stream",
     "text": [
      "Moved extracted_face_1 (1831).jpg_0.png to TOO_SIMILAR - Similarity: 81.52%\n",
      "Moved extracted_face_1 (1833).jpg_0.png to TOO_SIMILAR - Similarity: 80.42%\n",
      "Moved extracted_face_1 (1836).jpg_0.png to TOO_SIMILAR - Similarity: 81.06%\n",
      "Moved extracted_face_1 (1842).jpg_0.png to TOO_SIMILAR - Similarity: 81.65%\n",
      "Moved extracted_face_1 (1847).jpg_0.png to TOO_SIMILAR - Similarity: 83.21%\n"
     ]
    },
    {
     "name": "stderr",
     "output_type": "stream",
     "text": [
      "Analyzing Similarity:  13%|█▎        | 1484/11826 [00:40<04:18, 39.97it/s]"
     ]
    },
    {
     "name": "stdout",
     "output_type": "stream",
     "text": [
      "Moved extracted_face_1 (1858).jpg_0.png to TOO_SIMILAR - Similarity: 81.15%\n",
      "Moved extracted_face_1 (186).jpg_0.png to TOO_SIMILAR - Similarity: 86.64%\n"
     ]
    },
    {
     "name": "stderr",
     "output_type": "stream",
     "text": [
      "Analyzing Similarity:  13%|█▎        | 1497/11826 [00:40<06:12, 27.76it/s]"
     ]
    },
    {
     "name": "stdout",
     "output_type": "stream",
     "text": [
      "Moved extracted_face_1 (1868).jpg_0.png to TOO_SIMILAR - Similarity: 83.57%\n"
     ]
    },
    {
     "name": "stderr",
     "output_type": "stream",
     "text": [
      "Analyzing Similarity:  13%|█▎        | 1503/11826 [00:41<07:02, 24.43it/s]"
     ]
    },
    {
     "name": "stdout",
     "output_type": "stream",
     "text": [
      "Moved extracted_face_1 (1874).jpg_0.png to TOO_SIMILAR - Similarity: 87.12%\n",
      "Moved extracted_face_1 (1875).jpg_0.png to TOO_SIMILAR - Similarity: 81.23%\n",
      "Moved extracted_face_1 (1876).jpg_0.png to TOO_SIMILAR - Similarity: 80.24%\n",
      "Moved extracted_face_1 (1880).jpg_0.png to TOO_SIMILAR - Similarity: 83.44%\n"
     ]
    },
    {
     "name": "stderr",
     "output_type": "stream",
     "text": [
      "Analyzing Similarity:  13%|█▎        | 1517/11826 [00:41<05:55, 28.98it/s]"
     ]
    },
    {
     "name": "stdout",
     "output_type": "stream",
     "text": [
      "Moved extracted_face_1 (1902).jpg_0.png to TOO_SIMILAR - Similarity: 82.94%\n",
      "Moved extracted_face_1 (1909).jpg_0.png to TOO_SIMILAR - Similarity: 80.60%\n"
     ]
    },
    {
     "name": "stderr",
     "output_type": "stream",
     "text": [
      "Analyzing Similarity:  13%|█▎        | 1526/11826 [00:41<05:33, 30.92it/s]"
     ]
    },
    {
     "name": "stdout",
     "output_type": "stream",
     "text": [
      "Moved extracted_face_1 (1912).jpg_0.png to TOO_SIMILAR - Similarity: 84.88%\n"
     ]
    },
    {
     "name": "stderr",
     "output_type": "stream",
     "text": [
      "Analyzing Similarity:  13%|█▎        | 1548/11826 [00:42<03:55, 43.59it/s]"
     ]
    },
    {
     "name": "stdout",
     "output_type": "stream",
     "text": [
      "Moved extracted_face_1 (1958).jpg_0.png to TOO_SIMILAR - Similarity: 83.82%\n",
      "Moved extracted_face_1 (1971).jpg_0.png to TOO_SIMILAR - Similarity: 80.21%\n"
     ]
    },
    {
     "name": "stderr",
     "output_type": "stream",
     "text": [
      "Analyzing Similarity:  13%|█▎        | 1561/11826 [00:42<05:46, 29.64it/s]"
     ]
    },
    {
     "name": "stdout",
     "output_type": "stream",
     "text": [
      "Moved extracted_face_1 (1994).jpg_0.png to TOO_SIMILAR - Similarity: 81.65%\n"
     ]
    },
    {
     "name": "stderr",
     "output_type": "stream",
     "text": [
      "Analyzing Similarity:  13%|█▎        | 1569/11826 [00:43<05:39, 30.24it/s]"
     ]
    },
    {
     "name": "stdout",
     "output_type": "stream",
     "text": [
      "Moved extracted_face_1 (2005).jpg_0.png to TOO_SIMILAR - Similarity: 86.00%\n",
      "Moved extracted_face_1 (2008).jpg_0.png to TOO_SIMILAR - Similarity: 83.23%\n",
      "Moved extracted_face_1 (2009).jpg_0.png to TOO_SIMILAR - Similarity: 83.16%\n",
      "Moved extracted_face_1 (2011).jpg_0.png to TOO_SIMILAR - Similarity: 84.11%\n"
     ]
    },
    {
     "name": "stderr",
     "output_type": "stream",
     "text": [
      "Analyzing Similarity:  13%|█▎        | 1578/11826 [00:43<05:04, 33.61it/s]"
     ]
    },
    {
     "name": "stdout",
     "output_type": "stream",
     "text": [
      "Moved extracted_face_1 (2019).jpg_0.png to TOO_SIMILAR - Similarity: 80.09%\n",
      "Moved extracted_face_1 (202).jpg_0.png to TOO_SIMILAR - Similarity: 80.79%\n",
      "Moved extracted_face_1 (2021).jpg_0.png to TOO_SIMILAR - Similarity: 82.86%\n",
      "Moved extracted_face_1 (2024).jpg_0.png to TOO_SIMILAR - Similarity: 84.05%\n",
      "Moved extracted_face_1 (2026).jpg_0.png to TOO_SIMILAR - Similarity: 80.68%\n"
     ]
    },
    {
     "name": "stderr",
     "output_type": "stream",
     "text": [
      "Analyzing Similarity:  13%|█▎        | 1582/11826 [00:43<05:10, 32.97it/s]"
     ]
    },
    {
     "name": "stdout",
     "output_type": "stream",
     "text": [
      "Moved extracted_face_1 (2030).jpg_0.png to TOO_SIMILAR - Similarity: 83.42%\n",
      "Moved extracted_face_1 (2038).jpg_0.png to TOO_SIMILAR - Similarity: 83.70%\n",
      "Moved extracted_face_1 (2039).jpg_0.png to TOO_SIMILAR - Similarity: 84.98%\n"
     ]
    },
    {
     "name": "stderr",
     "output_type": "stream",
     "text": [
      "Analyzing Similarity:  13%|█▎        | 1595/11826 [00:43<04:41, 36.32it/s]"
     ]
    },
    {
     "name": "stdout",
     "output_type": "stream",
     "text": [
      "Moved extracted_face_1 (204).jpg_0.png to TOO_SIMILAR - Similarity: 87.57%\n",
      "Moved extracted_face_1 (2040).jpg_0.png to TOO_SIMILAR - Similarity: 83.37%\n",
      "Moved extracted_face_1 (2043).jpg_0.png to TOO_SIMILAR - Similarity: 85.56%\n",
      "Moved extracted_face_1 (2045).jpg_0.png to TOO_SIMILAR - Similarity: 85.42%\n"
     ]
    },
    {
     "name": "stderr",
     "output_type": "stream",
     "text": [
      "Analyzing Similarity:  14%|█▎        | 1606/11826 [00:44<04:08, 41.10it/s]"
     ]
    },
    {
     "name": "stdout",
     "output_type": "stream",
     "text": [
      "Moved extracted_face_1 (2059).jpg_0.png to TOO_SIMILAR - Similarity: 86.98%\n",
      "Moved extracted_face_1 (2062).jpg_0.png to TOO_SIMILAR - Similarity: 84.87%\n",
      "Moved extracted_face_1 (2065).jpg_0.png to TOO_SIMILAR - Similarity: 80.38%\n",
      "Moved extracted_face_1 (2067).jpg_0.png to TOO_SIMILAR - Similarity: 84.57%\n"
     ]
    },
    {
     "name": "stderr",
     "output_type": "stream",
     "text": [
      "Analyzing Similarity:  14%|█▎        | 1622/11826 [00:44<03:31, 48.13it/s]"
     ]
    },
    {
     "name": "stdout",
     "output_type": "stream",
     "text": [
      "Moved extracted_face_1 (2077).jpg_0.png to TOO_SIMILAR - Similarity: 80.86%\n",
      "Moved extracted_face_1 (2100).jpg_0.png to TOO_SIMILAR - Similarity: 87.30%\n"
     ]
    },
    {
     "name": "stderr",
     "output_type": "stream",
     "text": [
      "Analyzing Similarity:  14%|█▍        | 1640/11826 [00:44<03:40, 46.10it/s]"
     ]
    },
    {
     "name": "stdout",
     "output_type": "stream",
     "text": [
      "Moved extracted_face_1 (2128).jpg_0.png to TOO_SIMILAR - Similarity: 84.81%\n",
      "Moved extracted_face_1 (2129).jpg_0.png to TOO_SIMILAR - Similarity: 80.81%\n",
      "Moved extracted_face_1 (2138).jpg_0.png to TOO_SIMILAR - Similarity: 80.46%\n",
      "Moved extracted_face_1 (216).jpg_0.png to TOO_SIMILAR - Similarity: 84.38%\n",
      "Moved extracted_face_1 (2168).jpg_0.png to TOO_SIMILAR - Similarity: 80.39%\n",
      "Moved extracted_face_1 (2198).jpg_0.png to TOO_SIMILAR - Similarity: 83.71%\n"
     ]
    },
    {
     "name": "stderr",
     "output_type": "stream",
     "text": [
      "Analyzing Similarity:  14%|█▍        | 1650/11826 [00:45<03:52, 43.80it/s]"
     ]
    },
    {
     "name": "stdout",
     "output_type": "stream",
     "text": [
      "Moved extracted_face_1 (2215).jpg_0.png to TOO_SIMILAR - Similarity: 81.41%\n",
      "Moved extracted_face_1 (2218).jpg_0.png to TOO_SIMILAR - Similarity: 85.16%\n",
      "Moved extracted_face_1 (2233).jpg_0.png to TOO_SIMILAR - Similarity: 84.18%\n",
      "Moved extracted_face_1 (2239).jpg_0.png to TOO_SIMILAR - Similarity: 81.73%\n",
      "Moved extracted_face_1 (2248).jpg_0.png to TOO_SIMILAR - Similarity: 80.43%\n"
     ]
    },
    {
     "name": "stderr",
     "output_type": "stream",
     "text": [
      "Analyzing Similarity:  14%|█▍        | 1655/11826 [00:45<03:57, 42.79it/s]"
     ]
    },
    {
     "name": "stdout",
     "output_type": "stream",
     "text": [
      "Moved extracted_face_1 (2251).jpg_0.png to TOO_SIMILAR - Similarity: 82.65%\n",
      "Moved extracted_face_1 (2257).jpg_0.png to TOO_SIMILAR - Similarity: 82.84%\n"
     ]
    },
    {
     "name": "stderr",
     "output_type": "stream",
     "text": [
      "Analyzing Similarity:  14%|█▍        | 1660/11826 [00:45<05:37, 30.08it/s]"
     ]
    },
    {
     "name": "stdout",
     "output_type": "stream",
     "text": [
      "Moved extracted_face_1 (2267).jpg_0.png to TOO_SIMILAR - Similarity: 81.68%\n",
      "Moved extracted_face_1 (2270).jpg_0.png to TOO_SIMILAR - Similarity: 81.07%\n"
     ]
    },
    {
     "name": "stderr",
     "output_type": "stream",
     "text": [
      "Analyzing Similarity:  14%|█▍        | 1668/11826 [00:45<06:07, 27.64it/s]"
     ]
    },
    {
     "name": "stdout",
     "output_type": "stream",
     "text": [
      "Moved extracted_face_1 (2299).jpg_0.png to TOO_SIMILAR - Similarity: 81.96%\n",
      "Moved extracted_face_1 (2353).jpg_0.png to TOO_SIMILAR - Similarity: 85.05%\n",
      "Moved extracted_face_1 (2366).jpg_0.png to TOO_SIMILAR - Similarity: 80.56%\n",
      "Moved extracted_face_1 (2369).jpg_0.png to TOO_SIMILAR - Similarity: 83.76%\n"
     ]
    },
    {
     "name": "stderr",
     "output_type": "stream",
     "text": [
      "Analyzing Similarity:  14%|█▍        | 1676/11826 [00:46<05:22, 31.52it/s]"
     ]
    },
    {
     "name": "stdout",
     "output_type": "stream",
     "text": [
      "Moved extracted_face_1 (2375).jpg_0.png to TOO_SIMILAR - Similarity: 80.77%\n",
      "Moved extracted_face_1 (2375).jpg_1.png to TOO_SIMILAR - Similarity: 85.48%\n",
      "Moved extracted_face_1 (2375).jpg_2.png to TOO_SIMILAR - Similarity: 80.04%\n",
      "Moved extracted_face_1 (2393).jpg_0.png to TOO_SIMILAR - Similarity: 81.21%\n"
     ]
    },
    {
     "name": "stderr",
     "output_type": "stream",
     "text": [
      "Analyzing Similarity:  14%|█▍        | 1681/11826 [00:46<04:58, 34.02it/s]"
     ]
    },
    {
     "name": "stdout",
     "output_type": "stream",
     "text": [
      "Moved extracted_face_1 (2422).jpg_0.png to TOO_SIMILAR - Similarity: 80.87%\n",
      "Moved extracted_face_1 (2449).jpg_0.png to TOO_SIMILAR - Similarity: 80.34%\n"
     ]
    },
    {
     "name": "stderr",
     "output_type": "stream",
     "text": [
      "Analyzing Similarity:  14%|█▍        | 1689/11826 [00:46<05:27, 30.93it/s]"
     ]
    },
    {
     "name": "stdout",
     "output_type": "stream",
     "text": [
      "Moved extracted_face_1 (2461).jpg_0.png to TOO_SIMILAR - Similarity: 83.44%\n",
      "Moved extracted_face_1 (2467).jpg_0.png to TOO_SIMILAR - Similarity: 82.85%\n",
      "Moved extracted_face_1 (2476).jpg_0.png to TOO_SIMILAR - Similarity: 80.96%\n",
      "Moved extracted_face_1 (2500).jpg_0.png to TOO_SIMILAR - Similarity: 82.22%\n"
     ]
    },
    {
     "name": "stderr",
     "output_type": "stream",
     "text": [
      "Analyzing Similarity:  14%|█▍        | 1697/11826 [00:46<05:51, 28.83it/s]"
     ]
    },
    {
     "name": "stdout",
     "output_type": "stream",
     "text": [
      "Moved extracted_face_10994979-b2fb-474e-8d8d-f8414c6dff56.jpg_1.png to TOO_SIMILAR - Similarity: 81.21%\n",
      "Moved extracted_face_10b0df0e-8873-46c8-b7fa-36e2dc7f0464.jpg_1.png to TOO_SIMILAR - Similarity: 85.94%\n",
      "Moved extracted_face_10b0df0e-8873-46c8-b7fa-36e2dc7f0464.jpg_10.png to TOO_SIMILAR - Similarity: 82.89%\n"
     ]
    },
    {
     "name": "stderr",
     "output_type": "stream",
     "text": [
      "Analyzing Similarity:  14%|█▍        | 1708/11826 [00:47<05:52, 28.68it/s]"
     ]
    },
    {
     "name": "stdout",
     "output_type": "stream",
     "text": [
      "Moved extracted_face_10b0df0e-8873-46c8-b7fa-36e2dc7f0464.jpg_2.png to TOO_SIMILAR - Similarity: 83.02%\n",
      "Moved extracted_face_10b0df0e-8873-46c8-b7fa-36e2dc7f0464.jpg_4.png to TOO_SIMILAR - Similarity: 81.87%\n",
      "Moved extracted_face_10b0df0e-8873-46c8-b7fa-36e2dc7f0464.jpg_7.png to TOO_SIMILAR - Similarity: 85.48%\n",
      "Moved extracted_face_10b0df0e-8873-46c8-b7fa-36e2dc7f0464.jpg_8.png to TOO_SIMILAR - Similarity: 82.77%\n"
     ]
    },
    {
     "name": "stderr",
     "output_type": "stream",
     "text": [
      "Analyzing Similarity:  15%|█▍        | 1722/11826 [00:47<04:42, 35.78it/s]"
     ]
    },
    {
     "name": "stdout",
     "output_type": "stream",
     "text": [
      "Moved extracted_face_120a134d-81f0-4494-a351-130f85de64a8.jpg_12.png to TOO_SIMILAR - Similarity: 81.96%\n",
      "Moved extracted_face_120a134d-81f0-4494-a351-130f85de64a8.jpg_2.png to TOO_SIMILAR - Similarity: 85.40%\n",
      "Moved extracted_face_120a134d-81f0-4494-a351-130f85de64a8.jpg_4.png to TOO_SIMILAR - Similarity: 82.40%\n",
      "Moved extracted_face_120a134d-81f0-4494-a351-130f85de64a8.jpg_9.png to TOO_SIMILAR - Similarity: 82.20%\n"
     ]
    },
    {
     "name": "stderr",
     "output_type": "stream",
     "text": [
      "Analyzing Similarity:  15%|█▍        | 1732/11826 [00:47<04:08, 40.66it/s]"
     ]
    },
    {
     "name": "stdout",
     "output_type": "stream",
     "text": [
      "Moved extracted_face_125FB85D-354F-452F-95EA-C1F497AD7C13.jpg_2.png to TOO_SIMILAR - Similarity: 80.58%\n",
      "Moved extracted_face_125FB85D-354F-452F-95EA-C1F497AD7C13.jpg_3.png to TOO_SIMILAR - Similarity: 82.06%\n",
      "Moved extracted_face_125FB85D-354F-452F-95EA-C1F497AD7C13.jpg_4.png to TOO_SIMILAR - Similarity: 81.41%\n",
      "Moved extracted_face_125FB85D-354F-452F-95EA-C1F497AD7C13.jpg_7.png to TOO_SIMILAR - Similarity: 80.37%\n",
      "Moved extracted_face_12e259f7-c80f-4306-8165-a4b53894a89e.jpg_0.png to TOO_SIMILAR - Similarity: 83.59%\n",
      "Moved extracted_face_13359a66-2ed7-4f29-b83f-dcae0dc6b0b8.jpg_10.png to TOO_SIMILAR - Similarity: 82.01%\n"
     ]
    },
    {
     "name": "stderr",
     "output_type": "stream",
     "text": [
      "Analyzing Similarity:  15%|█▍        | 1737/11826 [00:47<04:11, 40.16it/s]"
     ]
    },
    {
     "name": "stdout",
     "output_type": "stream",
     "text": [
      "Moved extracted_face_13359a66-2ed7-4f29-b83f-dcae0dc6b0b8.jpg_14.png to TOO_SIMILAR - Similarity: 80.53%\n",
      "Moved extracted_face_13359a66-2ed7-4f29-b83f-dcae0dc6b0b8.jpg_15.png to TOO_SIMILAR - Similarity: 85.75%\n"
     ]
    },
    {
     "name": "stderr",
     "output_type": "stream",
     "text": [
      "Analyzing Similarity:  15%|█▍        | 1742/11826 [00:48<05:46, 29.14it/s]"
     ]
    },
    {
     "name": "stdout",
     "output_type": "stream",
     "text": [
      "Moved extracted_face_13359a66-2ed7-4f29-b83f-dcae0dc6b0b8.jpg_5.png to TOO_SIMILAR - Similarity: 82.79%\n",
      "Moved extracted_face_13359a66-2ed7-4f29-b83f-dcae0dc6b0b8.jpg_9.png to TOO_SIMILAR - Similarity: 85.17%\n"
     ]
    },
    {
     "name": "stderr",
     "output_type": "stream",
     "text": [
      "Analyzing Similarity:  15%|█▍        | 1746/11826 [00:48<06:06, 27.51it/s]"
     ]
    },
    {
     "name": "stdout",
     "output_type": "stream",
     "text": [
      "Moved extracted_face_14583eb6-c4d0-4428-93f3-2c7965f91ec4.jpg_0.png to TOO_SIMILAR - Similarity: 83.77%\n",
      "Moved extracted_face_14583eb6-c4d0-4428-93f3-2c7965f91ec4.jpg_1.png to TOO_SIMILAR - Similarity: 84.96%\n",
      "Moved extracted_face_14583eb6-c4d0-4428-93f3-2c7965f91ec4.jpg_3.png to TOO_SIMILAR - Similarity: 83.58%\n"
     ]
    },
    {
     "name": "stderr",
     "output_type": "stream",
     "text": [
      "Analyzing Similarity:  15%|█▍        | 1753/11826 [00:48<07:28, 22.45it/s]"
     ]
    },
    {
     "name": "stdout",
     "output_type": "stream",
     "text": [
      "Moved extracted_face_14583eb6-c4d0-4428-93f3-2c7965f91ec4.jpg_5.png to TOO_SIMILAR - Similarity: 85.31%\n",
      "Moved extracted_face_1514f14b-df06-4e5f-96b0-6f6e3bea46da.jpg_0.png to TOO_SIMILAR - Similarity: 81.07%\n",
      "Moved extracted_face_1514f14b-df06-4e5f-96b0-6f6e3bea46da.jpg_1.png to TOO_SIMILAR - Similarity: 90.00%\n",
      "Moved extracted_face_17D2B531-6778-4114-BA9C-BE69ABA26440.jpg_0.png to TOO_SIMILAR - Similarity: 81.95%\n"
     ]
    },
    {
     "name": "stderr",
     "output_type": "stream",
     "text": [
      "Analyzing Similarity:  15%|█▍        | 1757/11826 [00:48<06:59, 24.01it/s]"
     ]
    },
    {
     "name": "stdout",
     "output_type": "stream",
     "text": [
      "Moved extracted_face_17D2B531-6778-4114-BA9C-BE69ABA26440.jpg_2.png to TOO_SIMILAR - Similarity: 80.01%\n",
      "Moved extracted_face_186d753d-d446-4ab2-a066-73162d3bb6db.jpg_1.png to TOO_SIMILAR - Similarity: 82.46%\n"
     ]
    },
    {
     "name": "stderr",
     "output_type": "stream",
     "text": [
      "Analyzing Similarity:  15%|█▍        | 1764/11826 [00:49<06:26, 26.01it/s]"
     ]
    },
    {
     "name": "stdout",
     "output_type": "stream",
     "text": [
      "Moved extracted_face_1898f424-0fb9-472a-8b82-57bf42e951f9.jpg_2.png to TOO_SIMILAR - Similarity: 84.60%\n",
      "Moved extracted_face_1898f424-0fb9-472a-8b82-57bf42e951f9.jpg_3.png to TOO_SIMILAR - Similarity: 86.57%\n",
      "Moved extracted_face_1898f424-0fb9-472a-8b82-57bf42e951f9.jpg_4.png to TOO_SIMILAR - Similarity: 86.65%\n",
      "Moved extracted_face_1898f424-0fb9-472a-8b82-57bf42e951f9.jpg_5.png to TOO_SIMILAR - Similarity: 84.55%\n",
      "Moved extracted_face_1898f424-0fb9-472a-8b82-57bf42e951f9.jpg_6.png to TOO_SIMILAR - Similarity: 86.47%\n",
      "Moved extracted_face_1898f424-0fb9-472a-8b82-57bf42e951f9.jpg_7.png to TOO_SIMILAR - Similarity: 88.43%\n",
      "Moved extracted_face_1898f424-0fb9-472a-8b82-57bf42e951f9.jpg_9.png to TOO_SIMILAR - Similarity: 81.84%\n"
     ]
    },
    {
     "name": "stderr",
     "output_type": "stream",
     "text": [
      "Analyzing Similarity:  15%|█▍        | 1773/11826 [00:49<05:48, 28.87it/s]"
     ]
    },
    {
     "name": "stdout",
     "output_type": "stream",
     "text": [
      "Moved extracted_face_1a4f857e-4716-4c17-b7ef-ea3f3e8bd84a.jpg_2.png to TOO_SIMILAR - Similarity: 81.69%\n",
      "Moved extracted_face_1b49cd03-8523-495d-a865-368fac6e88d1.jpg_2.png to TOO_SIMILAR - Similarity: 80.06%\n"
     ]
    },
    {
     "name": "stderr",
     "output_type": "stream",
     "text": [
      "Analyzing Similarity:  15%|█▌        | 1782/11826 [00:49<05:00, 33.38it/s]"
     ]
    },
    {
     "name": "stdout",
     "output_type": "stream",
     "text": [
      "Moved extracted_face_1b49cd03-8523-495d-a865-368fac6e88d1.jpg_5.png to TOO_SIMILAR - Similarity: 83.92%\n",
      "Moved extracted_face_1c61ced3-9de3-44bc-ae10-e1debc680be3.jpg_0.png to TOO_SIMILAR - Similarity: 80.17%\n",
      "Moved extracted_face_1ce5507c-9054-484b-8cd0-025bad057174.jpg_0.png to TOO_SIMILAR - Similarity: 87.32%\n",
      "Moved extracted_face_1ce5507c-9054-484b-8cd0-025bad057174.jpg_1.png to TOO_SIMILAR - Similarity: 87.41%\n"
     ]
    },
    {
     "name": "stderr",
     "output_type": "stream",
     "text": [
      "Analyzing Similarity:  15%|█▌        | 1791/11826 [00:49<04:42, 35.52it/s]"
     ]
    },
    {
     "name": "stdout",
     "output_type": "stream",
     "text": [
      "Moved extracted_face_1ce5507c-9054-484b-8cd0-025bad057174.jpg_12.png to TOO_SIMILAR - Similarity: 84.53%\n",
      "Moved extracted_face_1ce5507c-9054-484b-8cd0-025bad057174.jpg_14.png to TOO_SIMILAR - Similarity: 80.89%\n",
      "Moved extracted_face_1ce5507c-9054-484b-8cd0-025bad057174.jpg_2.png to TOO_SIMILAR - Similarity: 82.06%\n"
     ]
    },
    {
     "name": "stderr",
     "output_type": "stream",
     "text": [
      "Analyzing Similarity:  15%|█▌        | 1800/11826 [00:50<04:34, 36.48it/s]"
     ]
    },
    {
     "name": "stdout",
     "output_type": "stream",
     "text": [
      "Moved extracted_face_1ce5507c-9054-484b-8cd0-025bad057174.jpg_5.png to TOO_SIMILAR - Similarity: 81.95%\n"
     ]
    },
    {
     "name": "stderr",
     "output_type": "stream",
     "text": [
      "Analyzing Similarity:  15%|█▌        | 1817/11826 [00:50<04:39, 35.81it/s]"
     ]
    },
    {
     "name": "stdout",
     "output_type": "stream",
     "text": [
      "Moved extracted_face_1F5CB010-9B9C-4733-AF7D-C0029948EA58.JPG_1.png to TOO_SIMILAR - Similarity: 80.12%\n",
      "Moved extracted_face_20220904_112120.jpg_3.png to TOO_SIMILAR - Similarity: 82.66%\n",
      "Moved extracted_face_20220904_112120.jpg_5.png to TOO_SIMILAR - Similarity: 81.40%\n"
     ]
    },
    {
     "name": "stderr",
     "output_type": "stream",
     "text": [
      "Analyzing Similarity:  15%|█▌        | 1826/11826 [00:50<04:36, 36.15it/s]"
     ]
    },
    {
     "name": "stdout",
     "output_type": "stream",
     "text": [
      "Moved extracted_face_20220904_112120.jpg_7.png to TOO_SIMILAR - Similarity: 81.76%\n",
      "Moved extracted_face_20220904_112125.jpg_0.png to TOO_SIMILAR - Similarity: 80.05%\n",
      "Moved extracted_face_20220904_112342.jpg_2.png to TOO_SIMILAR - Similarity: 82.46%\n",
      "Moved extracted_face_20220904_112342.jpg_3.png to TOO_SIMILAR - Similarity: 80.38%\n",
      "Moved extracted_face_20220904_112345.jpg_0.png to TOO_SIMILAR - Similarity: 80.69%\n"
     ]
    },
    {
     "name": "stderr",
     "output_type": "stream",
     "text": [
      "Analyzing Similarity:  16%|█▌        | 1844/11826 [00:51<04:17, 38.83it/s]"
     ]
    },
    {
     "name": "stdout",
     "output_type": "stream",
     "text": [
      "Moved extracted_face_20220904_112352.jpg_3.png to TOO_SIMILAR - Similarity: 81.80%\n",
      "Moved extracted_face_20220904_112358.jpg_1.png to TOO_SIMILAR - Similarity: 81.72%\n",
      "Moved extracted_face_20220904_112401.jpg_1.png to TOO_SIMILAR - Similarity: 80.35%\n",
      "Moved extracted_face_20220904_112401.jpg_2.png to TOO_SIMILAR - Similarity: 83.04%\n",
      "Moved extracted_face_20220904_112401.jpg_3.png to TOO_SIMILAR - Similarity: 83.36%\n"
     ]
    },
    {
     "name": "stderr",
     "output_type": "stream",
     "text": [
      "Analyzing Similarity:  16%|█▌        | 1852/11826 [00:51<04:34, 36.38it/s]"
     ]
    },
    {
     "name": "stdout",
     "output_type": "stream",
     "text": [
      "Moved extracted_face_20220904_112401.jpg_5.png to TOO_SIMILAR - Similarity: 86.72%\n",
      "Moved extracted_face_20220904_112401.jpg_6.png to TOO_SIMILAR - Similarity: 81.98%\n",
      "Moved extracted_face_20220904_112404.jpg_2.png to TOO_SIMILAR - Similarity: 85.61%\n",
      "Moved extracted_face_20220904_112404.jpg_5.png to TOO_SIMILAR - Similarity: 80.32%\n",
      "Moved extracted_face_20220904_112446.jpg_1.png to TOO_SIMILAR - Similarity: 82.32%\n"
     ]
    },
    {
     "name": "stderr",
     "output_type": "stream",
     "text": [
      "Analyzing Similarity:  16%|█▌        | 1860/11826 [00:51<04:30, 36.90it/s]"
     ]
    },
    {
     "name": "stdout",
     "output_type": "stream",
     "text": [
      "Moved extracted_face_20220904_112446.jpg_2.png to TOO_SIMILAR - Similarity: 81.95%\n",
      "Moved extracted_face_20220904_112446.jpg_3.png to TOO_SIMILAR - Similarity: 80.26%\n"
     ]
    },
    {
     "name": "stderr",
     "output_type": "stream",
     "text": [
      "Analyzing Similarity:  16%|█▌        | 1869/11826 [00:52<05:54, 28.11it/s]"
     ]
    },
    {
     "name": "stdout",
     "output_type": "stream",
     "text": [
      "Moved extracted_face_20220904_112509(0).jpg_1.png to TOO_SIMILAR - Similarity: 86.59%\n",
      "Moved extracted_face_20220904_112509.jpg_0.png to TOO_SIMILAR - Similarity: 80.32%\n"
     ]
    },
    {
     "name": "stderr",
     "output_type": "stream",
     "text": [
      "Analyzing Similarity:  16%|█▌        | 1872/11826 [00:52<06:09, 26.94it/s]"
     ]
    },
    {
     "name": "stdout",
     "output_type": "stream",
     "text": [
      "Moved extracted_face_20220904_112509.jpg_2.png to TOO_SIMILAR - Similarity: 84.01%\n",
      "Moved extracted_face_20220904_112651.jpg_0.png to TOO_SIMILAR - Similarity: 80.56%\n"
     ]
    },
    {
     "name": "stderr",
     "output_type": "stream",
     "text": [
      "Analyzing Similarity:  16%|█▌        | 1878/11826 [00:52<08:43, 19.02it/s]"
     ]
    },
    {
     "name": "stdout",
     "output_type": "stream",
     "text": [
      "Moved extracted_face_20220904_112715.jpg_0.png to TOO_SIMILAR - Similarity: 84.14%\n",
      "Moved extracted_face_20220904_112715.jpg_1.png to TOO_SIMILAR - Similarity: 85.65%\n",
      "Moved extracted_face_20220904_112715.jpg_3.png to TOO_SIMILAR - Similarity: 85.32%\n"
     ]
    },
    {
     "name": "stderr",
     "output_type": "stream",
     "text": [
      "Analyzing Similarity:  16%|█▌        | 1905/11826 [00:53<04:04, 40.65it/s]"
     ]
    },
    {
     "name": "stdout",
     "output_type": "stream",
     "text": [
      "Moved extracted_face_20220904_113321.jpg_3.png to TOO_SIMILAR - Similarity: 81.44%\n",
      "Moved extracted_face_20220904_113710.jpg_1.png to TOO_SIMILAR - Similarity: 80.34%\n",
      "Moved extracted_face_20220904_113713.jpg_3.png to TOO_SIMILAR - Similarity: 81.62%\n",
      "Moved extracted_face_20220904_114036.jpg_1.png to TOO_SIMILAR - Similarity: 80.72%\n"
     ]
    },
    {
     "name": "stderr",
     "output_type": "stream",
     "text": [
      "Analyzing Similarity:  16%|█▋        | 1926/11826 [00:53<03:44, 44.09it/s]"
     ]
    },
    {
     "name": "stdout",
     "output_type": "stream",
     "text": [
      "Moved extracted_face_20220904_114732.jpg_3.png to TOO_SIMILAR - Similarity: 81.26%\n",
      "Moved extracted_face_20220904_114732.jpg_7.png to TOO_SIMILAR - Similarity: 87.49%\n",
      "Moved extracted_face_20220904_114749.jpg_1.png to TOO_SIMILAR - Similarity: 84.61%\n"
     ]
    },
    {
     "name": "stderr",
     "output_type": "stream",
     "text": [
      "Analyzing Similarity:  16%|█▋        | 1942/11826 [00:54<04:24, 37.41it/s]"
     ]
    },
    {
     "name": "stdout",
     "output_type": "stream",
     "text": [
      "Moved extracted_face_20220904_115018.jpg_2.png to TOO_SIMILAR - Similarity: 80.71%\n",
      "Moved extracted_face_20220904_115021.jpg_0.png to TOO_SIMILAR - Similarity: 83.56%\n",
      "Moved extracted_face_20220904_115021.jpg_1.png to TOO_SIMILAR - Similarity: 81.22%\n"
     ]
    },
    {
     "name": "stderr",
     "output_type": "stream",
     "text": [
      "Analyzing Similarity:  16%|█▋        | 1951/11826 [00:54<04:59, 33.02it/s]"
     ]
    },
    {
     "name": "stdout",
     "output_type": "stream",
     "text": [
      "Moved extracted_face_20220904_115021.jpg_6.png to TOO_SIMILAR - Similarity: 84.81%\n",
      "Moved extracted_face_20220904_115021.jpg_7.png to TOO_SIMILAR - Similarity: 80.48%\n"
     ]
    },
    {
     "name": "stderr",
     "output_type": "stream",
     "text": [
      "Analyzing Similarity:  17%|█▋        | 1962/11826 [00:55<06:15, 26.27it/s]"
     ]
    },
    {
     "name": "stdout",
     "output_type": "stream",
     "text": [
      "Moved extracted_face_20220904_120058.jpg_2.png to TOO_SIMILAR - Similarity: 80.72%\n"
     ]
    },
    {
     "name": "stderr",
     "output_type": "stream",
     "text": [
      "Analyzing Similarity:  17%|█▋        | 1970/11826 [00:55<05:33, 29.58it/s]"
     ]
    },
    {
     "name": "stdout",
     "output_type": "stream",
     "text": [
      "Moved extracted_face_20220904_154925.jpg_2.png to TOO_SIMILAR - Similarity: 85.56%\n",
      "Moved extracted_face_20220904_154935.jpg_2.png to TOO_SIMILAR - Similarity: 82.11%\n"
     ]
    },
    {
     "name": "stderr",
     "output_type": "stream",
     "text": [
      "Analyzing Similarity:  17%|█▋        | 1979/11826 [00:55<04:39, 35.23it/s]"
     ]
    },
    {
     "name": "stdout",
     "output_type": "stream",
     "text": [
      "Moved extracted_face_20220904_162029.jpg_1.png to TOO_SIMILAR - Similarity: 84.81%\n",
      "Moved extracted_face_20220904_162221.jpg_0.png to TOO_SIMILAR - Similarity: 82.55%\n",
      "Moved extracted_face_20220916_181727.jpg_0.png to TOO_SIMILAR - Similarity: 81.59%\n",
      "Moved extracted_face_20220916_181727.jpg_2.png to TOO_SIMILAR - Similarity: 87.28%\n"
     ]
    },
    {
     "name": "stderr",
     "output_type": "stream",
     "text": [
      "Analyzing Similarity:  17%|█▋        | 1988/11826 [00:55<04:35, 35.65it/s]"
     ]
    },
    {
     "name": "stdout",
     "output_type": "stream",
     "text": [
      "Moved extracted_face_20220916_181751.jpg_0.png to TOO_SIMILAR - Similarity: 80.40%\n"
     ]
    },
    {
     "name": "stderr",
     "output_type": "stream",
     "text": [
      "Analyzing Similarity:  17%|█▋        | 2022/11826 [00:57<07:16, 22.47it/s]"
     ]
    },
    {
     "name": "stdout",
     "output_type": "stream",
     "text": [
      "Moved extracted_face_20220917_103524.jpg_1.png to TOO_SIMILAR - Similarity: 80.39%\n",
      "Moved extracted_face_20220917_104817.jpg_0.png to TOO_SIMILAR - Similarity: 81.09%\n"
     ]
    },
    {
     "name": "stderr",
     "output_type": "stream",
     "text": [
      "Analyzing Similarity:  17%|█▋        | 2035/11826 [00:57<06:27, 25.29it/s]"
     ]
    },
    {
     "name": "stdout",
     "output_type": "stream",
     "text": [
      "Moved extracted_face_20220917_145148.jpg_1.png to TOO_SIMILAR - Similarity: 81.15%\n",
      "Moved extracted_face_20220917_145148.jpg_13.png to TOO_SIMILAR - Similarity: 80.03%\n",
      "Moved extracted_face_20220917_145148.jpg_2.png to TOO_SIMILAR - Similarity: 82.11%\n"
     ]
    },
    {
     "name": "stderr",
     "output_type": "stream",
     "text": [
      "Analyzing Similarity:  17%|█▋        | 2044/11826 [00:57<05:12, 31.26it/s]"
     ]
    },
    {
     "name": "stdout",
     "output_type": "stream",
     "text": [
      "Moved extracted_face_20220917_145148.jpg_7.png to TOO_SIMILAR - Similarity: 83.90%\n",
      "Moved extracted_face_20220917_145148.jpg_9.png to TOO_SIMILAR - Similarity: 84.65%\n",
      "Moved extracted_face_20220917_162027.jpg_0.png to TOO_SIMILAR - Similarity: 80.19%\n",
      "Moved extracted_face_20220918_170802.jpg_2.png to TOO_SIMILAR - Similarity: 82.63%\n"
     ]
    },
    {
     "name": "stderr",
     "output_type": "stream",
     "text": [
      "Analyzing Similarity:  17%|█▋        | 2053/11826 [00:58<04:55, 33.07it/s]"
     ]
    },
    {
     "name": "stdout",
     "output_type": "stream",
     "text": [
      "Moved extracted_face_20220918_174816(0).jpg_0.png to TOO_SIMILAR - Similarity: 81.12%\n",
      "Moved extracted_face_20220918_174816(0).jpg_4.png to TOO_SIMILAR - Similarity: 81.53%\n"
     ]
    },
    {
     "name": "stderr",
     "output_type": "stream",
     "text": [
      "Analyzing Similarity:  18%|█▊        | 2070/11826 [00:58<04:43, 34.38it/s]"
     ]
    },
    {
     "name": "stdout",
     "output_type": "stream",
     "text": [
      "Moved extracted_face_20220918_185020.jpg_1.png to TOO_SIMILAR - Similarity: 84.51%\n"
     ]
    },
    {
     "name": "stderr",
     "output_type": "stream",
     "text": [
      "Analyzing Similarity:  18%|█▊        | 2077/11826 [00:59<08:52, 18.32it/s]"
     ]
    },
    {
     "name": "stdout",
     "output_type": "stream",
     "text": [
      "Moved extracted_face_20220918_185510.jpg_3.png to TOO_SIMILAR - Similarity: 81.96%\n",
      "Moved extracted_face_20221021_150525.jpg_0.png to TOO_SIMILAR - Similarity: 86.58%\n"
     ]
    },
    {
     "name": "stderr",
     "output_type": "stream",
     "text": [
      "Analyzing Similarity:  18%|█▊        | 2090/11826 [00:59<07:16, 22.32it/s]"
     ]
    },
    {
     "name": "stdout",
     "output_type": "stream",
     "text": [
      "Moved extracted_face_22227819-9274-4695-a33f-203635e33897.jpg_11.png to TOO_SIMILAR - Similarity: 81.42%\n",
      "Moved extracted_face_22227819-9274-4695-a33f-203635e33897.jpg_13.png to TOO_SIMILAR - Similarity: 86.36%\n"
     ]
    },
    {
     "name": "stderr",
     "output_type": "stream",
     "text": [
      "Analyzing Similarity:  18%|█▊        | 2096/11826 [01:00<06:51, 23.63it/s]"
     ]
    },
    {
     "name": "stdout",
     "output_type": "stream",
     "text": [
      "Moved extracted_face_22227819-9274-4695-a33f-203635e33897.jpg_3.png to TOO_SIMILAR - Similarity: 85.31%\n",
      "Moved extracted_face_22227819-9274-4695-a33f-203635e33897.jpg_8.png to TOO_SIMILAR - Similarity: 85.88%\n"
     ]
    },
    {
     "name": "stderr",
     "output_type": "stream",
     "text": [
      "Analyzing Similarity:  18%|█▊        | 2103/11826 [01:00<05:58, 27.10it/s]"
     ]
    },
    {
     "name": "stdout",
     "output_type": "stream",
     "text": [
      "Moved extracted_face_24e39977-59a5-470e-9a24-64c7f8283d7b.jpg_0.png to TOO_SIMILAR - Similarity: 85.26%\n",
      "Moved extracted_face_25b35ac3-5b4b-46af-ada3-06a72fe599eb.jpg_0.png to TOO_SIMILAR - Similarity: 80.75%\n",
      "Moved extracted_face_25b35ac3-5b4b-46af-ada3-06a72fe599eb.jpg_1.png to TOO_SIMILAR - Similarity: 80.28%\n",
      "Moved extracted_face_25b35ac3-5b4b-46af-ada3-06a72fe599eb.jpg_3.png to TOO_SIMILAR - Similarity: 81.64%\n"
     ]
    },
    {
     "name": "stderr",
     "output_type": "stream",
     "text": [
      "Analyzing Similarity:  18%|█▊        | 2112/11826 [01:00<04:50, 33.45it/s]"
     ]
    },
    {
     "name": "stdout",
     "output_type": "stream",
     "text": [
      "Moved extracted_face_25b35ac3-5b4b-46af-ada3-06a72fe599eb.jpg_6.png to TOO_SIMILAR - Similarity: 80.75%\n",
      "Moved extracted_face_25b35ac3-5b4b-46af-ada3-06a72fe599eb.jpg_7.png to TOO_SIMILAR - Similarity: 83.89%\n",
      "Moved extracted_face_25b35ac3-5b4b-46af-ada3-06a72fe599eb.jpg_8.png to TOO_SIMILAR - Similarity: 80.34%\n",
      "Moved extracted_face_262718b0-684c-40ec-a213-1d3118787bae.jpg_1.png to TOO_SIMILAR - Similarity: 80.90%\n",
      "Moved extracted_face_262718b0-684c-40ec-a213-1d3118787bae.jpg_3.png to TOO_SIMILAR - Similarity: 80.26%\n",
      "Moved extracted_face_262718b0-684c-40ec-a213-1d3118787bae.jpg_4.png to TOO_SIMILAR - Similarity: 80.89%\n"
     ]
    },
    {
     "name": "stderr",
     "output_type": "stream",
     "text": [
      "Analyzing Similarity:  18%|█▊        | 2123/11826 [01:00<04:06, 39.38it/s]"
     ]
    },
    {
     "name": "stdout",
     "output_type": "stream",
     "text": [
      "Moved extracted_face_263B1E3E-E809-4688-8E84-238B8F60D136.jpg_2.png to TOO_SIMILAR - Similarity: 83.03%\n",
      "Moved extracted_face_263B1E3E-E809-4688-8E84-238B8F60D136.jpg_5.png to TOO_SIMILAR - Similarity: 80.88%\n"
     ]
    },
    {
     "name": "stderr",
     "output_type": "stream",
     "text": [
      "Analyzing Similarity:  18%|█▊        | 2132/11826 [01:01<04:27, 36.30it/s]"
     ]
    },
    {
     "name": "stdout",
     "output_type": "stream",
     "text": [
      "Moved extracted_face_277e920e-3582-46c2-8799-24e3b8ed2a2f.jpg_2.png to TOO_SIMILAR - Similarity: 81.91%\n",
      "Moved extracted_face_277e920e-3582-46c2-8799-24e3b8ed2a2f.jpg_4.png to TOO_SIMILAR - Similarity: 81.04%\n",
      "Moved extracted_face_277e920e-3582-46c2-8799-24e3b8ed2a2f.jpg_5.png to TOO_SIMILAR - Similarity: 85.71%\n"
     ]
    },
    {
     "name": "stderr",
     "output_type": "stream",
     "text": [
      "Analyzing Similarity:  18%|█▊        | 2142/11826 [01:01<03:58, 40.56it/s]"
     ]
    },
    {
     "name": "stdout",
     "output_type": "stream",
     "text": [
      "Moved extracted_face_2b4d2c37-49bf-4302-bb2b-db355695ffbd.jpg_2.png to TOO_SIMILAR - Similarity: 80.99%\n",
      "Moved extracted_face_2b4d2c37-49bf-4302-bb2b-db355695ffbd.jpg_4.png to TOO_SIMILAR - Similarity: 85.30%\n",
      "Moved extracted_face_2bda699d-1f63-4ae4-877b-f737693e0ea4.jpg_2.png to TOO_SIMILAR - Similarity: 80.92%\n",
      "Moved extracted_face_2cd0b849-8b86-437a-868a-a013d04e3da9.jpg_1.png to TOO_SIMILAR - Similarity: 85.08%\n"
     ]
    },
    {
     "name": "stderr",
     "output_type": "stream",
     "text": [
      "Analyzing Similarity:  18%|█▊        | 2151/11826 [01:01<04:10, 38.68it/s]"
     ]
    },
    {
     "name": "stdout",
     "output_type": "stream",
     "text": [
      "Moved extracted_face_2cd0b849-8b86-437a-868a-a013d04e3da9.jpg_2.png to TOO_SIMILAR - Similarity: 83.14%\n",
      "Moved extracted_face_2d1f4669-be27-44b1-aff9-0afaa9e63e86.jpg_1.png to TOO_SIMILAR - Similarity: 83.56%\n",
      "Moved extracted_face_2e90c66b-5f5c-41e1-9db3-67d19f79adbd.jpg_1.png to TOO_SIMILAR - Similarity: 89.28%\n",
      "Moved extracted_face_2e90c66b-5f5c-41e1-9db3-67d19f79adbd.jpg_2.png to TOO_SIMILAR - Similarity: 85.42%\n",
      "Moved extracted_face_33234194-C994-4E47-9018-AD685178DDFB.jpg_1.png to TOO_SIMILAR - Similarity: 83.43%\n",
      "Moved extracted_face_33234194-C994-4E47-9018-AD685178DDFB.jpg_2.png to TOO_SIMILAR - Similarity: 81.15%\n"
     ]
    },
    {
     "name": "stderr",
     "output_type": "stream",
     "text": [
      "Analyzing Similarity:  18%|█▊        | 2157/11826 [01:01<03:55, 41.08it/s]"
     ]
    },
    {
     "name": "stdout",
     "output_type": "stream",
     "text": [
      "Moved extracted_face_34b3cb41-8b6f-4a57-bc47-7915e6502d30-1.jpg_1.png to TOO_SIMILAR - Similarity: 83.72%\n",
      "Moved extracted_face_364aaffe-b6af-4fa2-8fa9-2b21f39c20cb.jpg_0.png to TOO_SIMILAR - Similarity: 87.85%\n",
      "Moved extracted_face_364aaffe-b6af-4fa2-8fa9-2b21f39c20cb.jpg_1.png to TOO_SIMILAR - Similarity: 83.41%\n",
      "Moved extracted_face_37BF3A5B-B86D-425A-9BCA-048FA47C57F2.jpg_0.png to TOO_SIMILAR - Similarity: 83.97%\n",
      "Moved extracted_face_37BF3A5B-B86D-425A-9BCA-048FA47C57F2.jpg_1.png to TOO_SIMILAR - Similarity: 85.22%\n",
      "Moved extracted_face_37BF3A5B-B86D-425A-9BCA-048FA47C57F2.jpg_3.png to TOO_SIMILAR - Similarity: 81.72%\n"
     ]
    },
    {
     "name": "stderr",
     "output_type": "stream",
     "text": [
      "Analyzing Similarity:  18%|█▊        | 2166/11826 [01:01<04:23, 36.65it/s]"
     ]
    },
    {
     "name": "stdout",
     "output_type": "stream",
     "text": [
      "Moved extracted_face_37d2634b-39ca-4ed0-a3e7-664c1904cb87.jpg_1.png to TOO_SIMILAR - Similarity: 81.28%\n",
      "Moved extracted_face_385810a2-c8a2-4e18-a5ba-fbbe950319d0.jpg_1.png to TOO_SIMILAR - Similarity: 83.97%\n",
      "Moved extracted_face_385810a2-c8a2-4e18-a5ba-fbbe950319d0.jpg_2.png to TOO_SIMILAR - Similarity: 83.82%\n",
      "Moved extracted_face_385810a2-c8a2-4e18-a5ba-fbbe950319d0.jpg_3.png to TOO_SIMILAR - Similarity: 80.74%\n",
      "Moved extracted_face_385810a2-c8a2-4e18-a5ba-fbbe950319d0.jpg_6.png to TOO_SIMILAR - Similarity: 81.39%\n"
     ]
    },
    {
     "name": "stderr",
     "output_type": "stream",
     "text": [
      "Analyzing Similarity:  18%|█▊        | 2171/11826 [01:02<04:11, 38.43it/s]"
     ]
    },
    {
     "name": "stdout",
     "output_type": "stream",
     "text": [
      "Moved extracted_face_385810a2-c8a2-4e18-a5ba-fbbe950319d0.jpg_8.png to TOO_SIMILAR - Similarity: 80.34%\n",
      "Moved extracted_face_385810a2-c8a2-4e18-a5ba-fbbe950319d0.jpg_9.png to TOO_SIMILAR - Similarity: 80.32%\n"
     ]
    },
    {
     "name": "stderr",
     "output_type": "stream",
     "text": [
      "Analyzing Similarity:  18%|█▊        | 2175/11826 [01:02<06:41, 24.02it/s]"
     ]
    },
    {
     "name": "stdout",
     "output_type": "stream",
     "text": [
      "Moved extracted_face_3cb5d96c-163e-45c5-aa6d-4d28c5ddb2d2.jpg_1.png to TOO_SIMILAR - Similarity: 81.22%\n",
      "Moved extracted_face_3cb9def3-a29b-4fad-8767-9275da81a330.jpg_2.png to TOO_SIMILAR - Similarity: 80.41%\n"
     ]
    },
    {
     "name": "stderr",
     "output_type": "stream",
     "text": [
      "Analyzing Similarity:  18%|█▊        | 2185/11826 [01:03<10:13, 15.71it/s]"
     ]
    },
    {
     "name": "stdout",
     "output_type": "stream",
     "text": [
      "Moved extracted_face_3e8f0abf-ca78-4ab8-8d2f-989c39cfb8da.jpg_2.png to TOO_SIMILAR - Similarity: 85.68%\n",
      "Moved extracted_face_3e8f0abf-ca78-4ab8-8d2f-989c39cfb8da.jpg_3.png to TOO_SIMILAR - Similarity: 84.78%\n"
     ]
    },
    {
     "name": "stderr",
     "output_type": "stream",
     "text": [
      "Analyzing Similarity:  19%|█▊        | 2188/11826 [01:03<09:06, 17.62it/s]"
     ]
    },
    {
     "name": "stdout",
     "output_type": "stream",
     "text": [
      "Moved extracted_face_3e8f0abf-ca78-4ab8-8d2f-989c39cfb8da.jpg_8.png to TOO_SIMILAR - Similarity: 80.53%\n",
      "Moved extracted_face_408e8472-07c9-41cb-98aa-eb8c75d0963b.jpg_1.png to TOO_SIMILAR - Similarity: 84.24%\n"
     ]
    },
    {
     "name": "stderr",
     "output_type": "stream",
     "text": [
      "Analyzing Similarity:  19%|█▊        | 2194/11826 [01:03<09:22, 17.13it/s]"
     ]
    },
    {
     "name": "stdout",
     "output_type": "stream",
     "text": [
      "Moved extracted_face_44567661-4701-49ae-b2c8-049503af2118.jpg_10.png to TOO_SIMILAR - Similarity: 80.89%\n",
      "Moved extracted_face_44567661-4701-49ae-b2c8-049503af2118.jpg_13.png to TOO_SIMILAR - Similarity: 82.61%\n",
      "Moved extracted_face_44567661-4701-49ae-b2c8-049503af2118.jpg_15.png to TOO_SIMILAR - Similarity: 80.23%\n"
     ]
    },
    {
     "name": "stderr",
     "output_type": "stream",
     "text": [
      "Analyzing Similarity:  19%|█▊        | 2199/11826 [01:03<07:22, 21.78it/s]"
     ]
    },
    {
     "name": "stdout",
     "output_type": "stream",
     "text": [
      "Moved extracted_face_44567661-4701-49ae-b2c8-049503af2118.jpg_3.png to TOO_SIMILAR - Similarity: 84.57%\n"
     ]
    },
    {
     "name": "stderr",
     "output_type": "stream",
     "text": [
      "Analyzing Similarity:  19%|█▊        | 2202/11826 [01:04<09:37, 16.68it/s]"
     ]
    },
    {
     "name": "stdout",
     "output_type": "stream",
     "text": [
      "Moved extracted_face_44567661-4701-49ae-b2c8-049503af2118.jpg_4.png to TOO_SIMILAR - Similarity: 81.55%\n",
      "Moved extracted_face_44567661-4701-49ae-b2c8-049503af2118.jpg_9.png to TOO_SIMILAR - Similarity: 86.71%\n"
     ]
    },
    {
     "name": "stderr",
     "output_type": "stream",
     "text": [
      "Analyzing Similarity:  19%|█▊        | 2208/11826 [01:04<09:19, 17.19it/s]"
     ]
    },
    {
     "name": "stdout",
     "output_type": "stream",
     "text": [
      "Moved extracted_face_451cb274-1d9e-4583-9222-e4ce6b9b6ffb.jpg_0.png to TOO_SIMILAR - Similarity: 83.87%\n",
      "Moved extracted_face_451cb274-1d9e-4583-9222-e4ce6b9b6ffb.jpg_1.png to TOO_SIMILAR - Similarity: 81.31%\n",
      "Moved extracted_face_451cb274-1d9e-4583-9222-e4ce6b9b6ffb.jpg_4.png to TOO_SIMILAR - Similarity: 85.51%\n"
     ]
    },
    {
     "name": "stderr",
     "output_type": "stream",
     "text": [
      "Analyzing Similarity:  19%|█▊        | 2216/11826 [01:04<06:32, 24.46it/s]"
     ]
    },
    {
     "name": "stdout",
     "output_type": "stream",
     "text": [
      "Moved extracted_face_467172c8-e172-4070-afaf-50e92afa8565.jpg_1.png to TOO_SIMILAR - Similarity: 83.54%\n",
      "Moved extracted_face_467172c8-e172-4070-afaf-50e92afa8565.jpg_3.png to TOO_SIMILAR - Similarity: 83.11%\n",
      "Moved extracted_face_482d79ca-7a5a-497c-9680-5a5b423d88db.jpg_1.png to TOO_SIMILAR - Similarity: 82.60%\n",
      "Moved extracted_face_492ddc4d-3473-4fc6-a397-92fb00adac98.jpg_1.png to TOO_SIMILAR - Similarity: 81.84%\n"
     ]
    },
    {
     "name": "stderr",
     "output_type": "stream",
     "text": [
      "Analyzing Similarity:  19%|█▉        | 2225/11826 [01:04<05:24, 29.57it/s]"
     ]
    },
    {
     "name": "stdout",
     "output_type": "stream",
     "text": [
      "Moved extracted_face_4ee74f51-28c3-4fe1-a0ba-484f27967361.jpg_0.png to TOO_SIMILAR - Similarity: 86.64%\n",
      "Moved extracted_face_4ee74f51-28c3-4fe1-a0ba-484f27967361.jpg_1.png to TOO_SIMILAR - Similarity: 85.44%\n",
      "Moved extracted_face_585BB881-F94C-4A8D-9960-D02C220A74D8.jpg_1.png to TOO_SIMILAR - Similarity: 80.49%\n",
      "Moved extracted_face_593b2998-abb0-4125-bf58-f22acaf6b543.jpg_1.png to TOO_SIMILAR - Similarity: 81.38%\n"
     ]
    },
    {
     "name": "stderr",
     "output_type": "stream",
     "text": [
      "Analyzing Similarity:  19%|█▉        | 2234/11826 [01:05<04:39, 34.34it/s]"
     ]
    },
    {
     "name": "stdout",
     "output_type": "stream",
     "text": [
      "Moved extracted_face_5a41cc86-734c-474d-b5dc-4dea2689f462.jpg_1.png to TOO_SIMILAR - Similarity: 81.19%\n",
      "Moved extracted_face_5a41cc86-734c-474d-b5dc-4dea2689f462.jpg_2.png to TOO_SIMILAR - Similarity: 80.34%\n",
      "Moved extracted_face_5c2d1609-41a8-4512-a948-5c8cbdab7bb7.jpg_0.png to TOO_SIMILAR - Similarity: 81.52%\n",
      "Moved extracted_face_5ce40ff3-9fea-4d21-ad66-0e4308844fac.jpg_2.png to TOO_SIMILAR - Similarity: 85.93%\n",
      "Moved extracted_face_5ce40ff3-9fea-4d21-ad66-0e4308844fac.jpg_3.png to TOO_SIMILAR - Similarity: 80.30%\n"
     ]
    },
    {
     "name": "stderr",
     "output_type": "stream",
     "text": [
      "Analyzing Similarity:  19%|█▉        | 2243/11826 [01:05<06:29, 24.59it/s]"
     ]
    },
    {
     "name": "stdout",
     "output_type": "stream",
     "text": [
      "Moved extracted_face_5ce40ff3-9fea-4d21-ad66-0e4308844fac.jpg_7.png to TOO_SIMILAR - Similarity: 80.55%\n",
      "Moved extracted_face_5fada6fb-1fe1-4bec-8f94-e5f31ac6d218.jpg_1.png to TOO_SIMILAR - Similarity: 80.58%\n"
     ]
    },
    {
     "name": "stderr",
     "output_type": "stream",
     "text": [
      "Analyzing Similarity:  19%|█▉        | 2250/11826 [01:06<08:55, 17.89it/s]"
     ]
    },
    {
     "name": "stdout",
     "output_type": "stream",
     "text": [
      "Moved extracted_face_613746f4-9746-4735-909d-d82e90305886.jpg_1.png to TOO_SIMILAR - Similarity: 83.70%\n",
      "Moved extracted_face_61911c9d-e9b5-487c-8788-3384c7dd1ba5.jpg_2.png to TOO_SIMILAR - Similarity: 85.13%\n"
     ]
    },
    {
     "name": "stderr",
     "output_type": "stream",
     "text": [
      "Analyzing Similarity:  19%|█▉        | 2256/11826 [01:06<08:07, 19.63it/s]"
     ]
    },
    {
     "name": "stdout",
     "output_type": "stream",
     "text": [
      "Moved extracted_face_61911c9d-e9b5-487c-8788-3384c7dd1ba5.jpg_4.png to TOO_SIMILAR - Similarity: 84.52%\n",
      "Moved extracted_face_626cf06c-ddbe-45c2-8d12-3d1c38e299f9.jpg_0.png to TOO_SIMILAR - Similarity: 80.13%\n"
     ]
    },
    {
     "name": "stderr",
     "output_type": "stream",
     "text": [
      "Analyzing Similarity:  19%|█▉        | 2264/11826 [01:06<06:18, 25.27it/s]"
     ]
    },
    {
     "name": "stdout",
     "output_type": "stream",
     "text": [
      "Moved extracted_face_64ebde56-9e3d-44c6-8294-98ddf296128a.jpg_0.png to TOO_SIMILAR - Similarity: 84.65%\n",
      "Moved extracted_face_65426846471__73D2CC4B-9111-43B8-AA81-B7F6CC4328BC.JPG_0.png to TOO_SIMILAR - Similarity: 83.41%\n",
      "Moved extracted_face_66741790435__CA8A0560-8DA6-42DF-9DC8-A1077FD24052.JPEG_1.png to TOO_SIMILAR - Similarity: 83.00%\n",
      "Moved extracted_face_66964689058__FB05813C-6FA8-4F90-937D-D79DF2900DB6.JPEG_1.png to TOO_SIMILAR - Similarity: 81.42%\n"
     ]
    },
    {
     "name": "stderr",
     "output_type": "stream",
     "text": [
      "Analyzing Similarity:  19%|█▉        | 2273/11826 [01:06<05:17, 30.12it/s]"
     ]
    },
    {
     "name": "stdout",
     "output_type": "stream",
     "text": [
      "Moved extracted_face_66965069889__3073B252-7230-41AD-818B-6891F6EBD22A.JPEG_3.png to TOO_SIMILAR - Similarity: 87.15%\n",
      "Moved extracted_face_67204984105__B8DBC0BE-740E-4DB5-9820-59FB81353CC8.JPEG_1.png to TOO_SIMILAR - Similarity: 85.28%\n",
      "Moved extracted_face_67277338945__B1C6BA62-5DD5-48B5-8608-D3799F0175B1.JPEG_1.png to TOO_SIMILAR - Similarity: 86.85%\n",
      "Moved extracted_face_67277338945__B1C6BA62-5DD5-48B5-8608-D3799F0175B1.JPEG_3.png to TOO_SIMILAR - Similarity: 80.76%\n"
     ]
    },
    {
     "name": "stderr",
     "output_type": "stream",
     "text": [
      "Analyzing Similarity:  19%|█▉        | 2286/11826 [01:07<04:32, 35.01it/s]"
     ]
    },
    {
     "name": "stdout",
     "output_type": "stream",
     "text": [
      "Moved extracted_face_6739dfd7-43e3-4fae-b136-05b616e12167.jpg_2.png to TOO_SIMILAR - Similarity: 85.09%\n",
      "Moved extracted_face_6739dfd7-43e3-4fae-b136-05b616e12167.jpg_3.png to TOO_SIMILAR - Similarity: 82.24%\n",
      "Moved extracted_face_67707719209__F7C77550-CE48-4F37-BC82-5B786F765A55.JPEG_0.png to TOO_SIMILAR - Similarity: 83.58%\n",
      "Moved extracted_face_67707719209__F7C77550-CE48-4F37-BC82-5B786F765A55.JPEG_4.png to TOO_SIMILAR - Similarity: 84.43%\n"
     ]
    },
    {
     "name": "stderr",
     "output_type": "stream",
     "text": [
      "Analyzing Similarity:  19%|█▉        | 2296/11826 [01:07<03:57, 40.07it/s]"
     ]
    },
    {
     "name": "stdout",
     "output_type": "stream",
     "text": [
      "Moved extracted_face_67814079322__EF07A4AD-E27E-4B5A-8FAB-3CF1EC10E5E6.JPEG_1.png to TOO_SIMILAR - Similarity: 84.51%\n",
      "Moved extracted_face_67814079322__EF07A4AD-E27E-4B5A-8FAB-3CF1EC10E5E6.JPEG_2.png to TOO_SIMILAR - Similarity: 82.30%\n",
      "Moved extracted_face_67822204088__D0BD5415-DBC9-440E-A63C-F9A0058FBECA.JPEG_1.png to TOO_SIMILAR - Similarity: 80.15%\n",
      "Moved extracted_face_67900161940__5F27AC92-9CA5-4ACD-92C7-3BA27B5BEE2F.JPEG_2.png to TOO_SIMILAR - Similarity: 84.44%\n",
      "Moved extracted_face_67922533740__E728CB91-F6DA-4290-BD48-E07D9E28F60E.JPEG_1.png to TOO_SIMILAR - Similarity: 85.30%\n",
      "Moved extracted_face_68037645857__A44413A1-AD6F-480C-BA27-57490E19268C.JPEG_1.png to TOO_SIMILAR - Similarity: 82.61%\n",
      "Moved extracted_face_68037645857__A44413A1-AD6F-480C-BA27-57490E19268C.JPEG_2.png to TOO_SIMILAR - Similarity: 84.85%\n"
     ]
    },
    {
     "name": "stderr",
     "output_type": "stream",
     "text": [
      "Analyzing Similarity:  19%|█▉        | 2301/11826 [01:07<04:11, 37.89it/s]"
     ]
    },
    {
     "name": "stdout",
     "output_type": "stream",
     "text": [
      "Moved extracted_face_69679f36-0a51-4e3e-b811-b868c77ef8eb.jpg_1.png to TOO_SIMILAR - Similarity: 87.31%\n"
     ]
    },
    {
     "name": "stderr",
     "output_type": "stream",
     "text": [
      "Analyzing Similarity:  20%|█▉        | 2309/11826 [01:07<04:54, 32.30it/s]"
     ]
    },
    {
     "name": "stdout",
     "output_type": "stream",
     "text": [
      "Moved extracted_face_69679f36-0a51-4e3e-b811-b868c77ef8eb.jpg_15.png to TOO_SIMILAR - Similarity: 80.77%\n",
      "Moved extracted_face_69679f36-0a51-4e3e-b811-b868c77ef8eb.jpg_6.png to TOO_SIMILAR - Similarity: 81.28%\n"
     ]
    },
    {
     "name": "stderr",
     "output_type": "stream",
     "text": [
      "Analyzing Similarity:  20%|█▉        | 2313/11826 [01:07<04:59, 31.80it/s]"
     ]
    },
    {
     "name": "stdout",
     "output_type": "stream",
     "text": [
      "Moved extracted_face_69679f36-0a51-4e3e-b811-b868c77ef8eb.jpg_8.png to TOO_SIMILAR - Similarity: 86.08%\n",
      "Moved extracted_face_69679f36-0a51-4e3e-b811-b868c77ef8eb.jpg_9.png to TOO_SIMILAR - Similarity: 86.88%\n"
     ]
    },
    {
     "name": "stderr",
     "output_type": "stream",
     "text": [
      "Analyzing Similarity:  20%|█▉        | 2331/11826 [01:08<05:03, 31.34it/s]"
     ]
    },
    {
     "name": "stdout",
     "output_type": "stream",
     "text": [
      "Moved extracted_face_70B56A2F-DCDC-4F57-83C7-9C6BEFDA18DE.png_0.png to TOO_SIMILAR - Similarity: 81.60%\n",
      "Moved extracted_face_74b294bb-8daf-4939-b369-7b2c6187c3bf.jpg_0.png to TOO_SIMILAR - Similarity: 81.09%\n",
      "Moved extracted_face_77679711-d7bc-4266-81ab-d7cfbd5a16af.jpg_2.png to TOO_SIMILAR - Similarity: 80.34%\n"
     ]
    },
    {
     "name": "stderr",
     "output_type": "stream",
     "text": [
      "Analyzing Similarity:  20%|█▉        | 2341/11826 [01:08<04:15, 37.17it/s]"
     ]
    },
    {
     "name": "stdout",
     "output_type": "stream",
     "text": [
      "Moved extracted_face_77679711-d7bc-4266-81ab-d7cfbd5a16af.jpg_4.png to TOO_SIMILAR - Similarity: 81.73%\n",
      "Moved extracted_face_778ef805-7532-421f-9070-95a16867a1ba.jpg_0.png to TOO_SIMILAR - Similarity: 82.58%\n"
     ]
    },
    {
     "name": "stderr",
     "output_type": "stream",
     "text": [
      "Analyzing Similarity:  20%|█▉        | 2352/11826 [01:09<04:11, 37.65it/s]"
     ]
    },
    {
     "name": "stdout",
     "output_type": "stream",
     "text": [
      "Moved extracted_face_79ea33cd-1c91-43cf-bb8c-e35c164391ec.jpg_3.png to TOO_SIMILAR - Similarity: 82.91%\n",
      "Moved extracted_face_79ea33cd-1c91-43cf-bb8c-e35c164391ec.jpg_5.png to TOO_SIMILAR - Similarity: 80.79%\n",
      "Moved extracted_face_7aa32fc2-2af7-4b01-b60e-e4f4841cbfd2.jpg_1.png to TOO_SIMILAR - Similarity: 80.88%\n"
     ]
    },
    {
     "name": "stderr",
     "output_type": "stream",
     "text": [
      "Analyzing Similarity:  20%|█▉        | 2361/11826 [01:09<04:31, 34.82it/s]"
     ]
    },
    {
     "name": "stdout",
     "output_type": "stream",
     "text": [
      "Moved extracted_face_7aa32fc2-2af7-4b01-b60e-e4f4841cbfd2.jpg_4.png to TOO_SIMILAR - Similarity: 84.30%\n",
      "Moved extracted_face_7aa32fc2-2af7-4b01-b60e-e4f4841cbfd2.jpg_6.png to TOO_SIMILAR - Similarity: 83.70%\n"
     ]
    },
    {
     "name": "stderr",
     "output_type": "stream",
     "text": [
      "Analyzing Similarity:  20%|██        | 2370/11826 [01:09<04:11, 37.54it/s]"
     ]
    },
    {
     "name": "stdout",
     "output_type": "stream",
     "text": [
      "Moved extracted_face_7ad155bc-b944-430c-a604-77ce27996289.jpg_4.png to TOO_SIMILAR - Similarity: 85.40%\n",
      "Moved extracted_face_7ad155bc-b944-430c-a604-77ce27996289.jpg_6.png to TOO_SIMILAR - Similarity: 80.76%\n",
      "Moved extracted_face_7ad155bc-b944-430c-a604-77ce27996289.jpg_8.png to TOO_SIMILAR - Similarity: 80.98%\n"
     ]
    },
    {
     "name": "stderr",
     "output_type": "stream",
     "text": [
      "Analyzing Similarity:  20%|██        | 2379/11826 [01:10<05:08, 30.62it/s]"
     ]
    },
    {
     "name": "stdout",
     "output_type": "stream",
     "text": [
      "Moved extracted_face_8175f8b8-70c6-4181-802a-2729f137add4.jpg_0.png to TOO_SIMILAR - Similarity: 81.31%\n",
      "Moved extracted_face_8175f8b8-70c6-4181-802a-2729f137add4.jpg_6.png to TOO_SIMILAR - Similarity: 84.88%\n"
     ]
    },
    {
     "name": "stderr",
     "output_type": "stream",
     "text": [
      "Analyzing Similarity:  20%|██        | 2387/11826 [01:10<04:44, 33.13it/s]"
     ]
    },
    {
     "name": "stdout",
     "output_type": "stream",
     "text": [
      "Moved extracted_face_824ec41a-d739-439e-9d50-c34c500392d0.jpg_2.png to TOO_SIMILAR - Similarity: 81.57%\n",
      "Moved extracted_face_82bcf1f6-449f-4194-923b-a742807ac925.jpg_6.png to TOO_SIMILAR - Similarity: 80.69%\n"
     ]
    },
    {
     "name": "stderr",
     "output_type": "stream",
     "text": [
      "Analyzing Similarity:  20%|██        | 2395/11826 [01:10<04:51, 32.32it/s]"
     ]
    },
    {
     "name": "stdout",
     "output_type": "stream",
     "text": [
      "Moved extracted_face_835287f6-c0b2-461b-93a4-9466e4f96166.jpg_0.png to TOO_SIMILAR - Similarity: 83.48%\n"
     ]
    },
    {
     "name": "stderr",
     "output_type": "stream",
     "text": [
      "Analyzing Similarity:  20%|██        | 2399/11826 [01:10<04:45, 33.06it/s]"
     ]
    },
    {
     "name": "stdout",
     "output_type": "stream",
     "text": [
      "Moved extracted_face_85B9A9F5-4249-4537-ADA2-C45168335B2C.png_1.png to TOO_SIMILAR - Similarity: 81.04%\n",
      "Moved extracted_face_85B9A9F5-4249-4537-ADA2-C45168335B2C.png_2.png to TOO_SIMILAR - Similarity: 89.10%\n",
      "Moved extracted_face_85B9A9F5-4249-4537-ADA2-C45168335B2C.png_3.png to TOO_SIMILAR - Similarity: 85.68%\n",
      "Moved extracted_face_860969c4-22d3-469e-adce-ee232703e887.jpg_1.png to TOO_SIMILAR - Similarity: 85.99%\n"
     ]
    },
    {
     "name": "stderr",
     "output_type": "stream",
     "text": [
      "Analyzing Similarity:  20%|██        | 2407/11826 [01:10<05:52, 26.71it/s]"
     ]
    },
    {
     "name": "stdout",
     "output_type": "stream",
     "text": [
      "Moved extracted_face_860969c4-22d3-469e-adce-ee232703e887.jpg_4.png to TOO_SIMILAR - Similarity: 81.71%\n",
      "Moved extracted_face_860969c4-22d3-469e-adce-ee232703e887.jpg_7.png to TOO_SIMILAR - Similarity: 83.08%\n"
     ]
    },
    {
     "name": "stderr",
     "output_type": "stream",
     "text": [
      "Analyzing Similarity:  20%|██        | 2410/11826 [01:11<06:16, 24.98it/s]"
     ]
    },
    {
     "name": "stdout",
     "output_type": "stream",
     "text": [
      "Moved extracted_face_860969c4-22d3-469e-adce-ee232703e887.jpg_8.png to TOO_SIMILAR - Similarity: 85.50%\n",
      "Moved extracted_face_860969c4-22d3-469e-adce-ee232703e887.jpg_9.png to TOO_SIMILAR - Similarity: 81.31%\n",
      "Moved extracted_face_87c616bf-7d2b-4e87-83f7-86e393602843.jpg_0.png to TOO_SIMILAR - Similarity: 80.16%\n",
      "Moved extracted_face_87c616bf-7d2b-4e87-83f7-86e393602843.jpg_1.png to TOO_SIMILAR - Similarity: 88.10%\n",
      "Moved extracted_face_87c616bf-7d2b-4e87-83f7-86e393602843.jpg_11.png to TOO_SIMILAR - Similarity: 82.52%\n"
     ]
    },
    {
     "name": "stderr",
     "output_type": "stream",
     "text": [
      "Analyzing Similarity:  20%|██        | 2422/11826 [01:11<04:53, 32.10it/s]"
     ]
    },
    {
     "name": "stdout",
     "output_type": "stream",
     "text": [
      "Moved extracted_face_87c616bf-7d2b-4e87-83f7-86e393602843.jpg_2.png to TOO_SIMILAR - Similarity: 81.66%\n",
      "Moved extracted_face_87c616bf-7d2b-4e87-83f7-86e393602843.jpg_8.png to TOO_SIMILAR - Similarity: 80.98%\n",
      "Moved extracted_face_87c616bf-7d2b-4e87-83f7-86e393602843.jpg_9.png to TOO_SIMILAR - Similarity: 80.62%\n"
     ]
    },
    {
     "name": "stderr",
     "output_type": "stream",
     "text": [
      "Analyzing Similarity:  21%|██        | 2433/11826 [01:12<07:52, 19.90it/s]"
     ]
    },
    {
     "name": "stdout",
     "output_type": "stream",
     "text": [
      "Moved extracted_face_8f9ef444-b0e2-451d-af7b-1f60d67c1c7e.jpg_2.png to TOO_SIMILAR - Similarity: 80.26%\n",
      "Moved extracted_face_8f9ef444-b0e2-451d-af7b-1f60d67c1c7e.jpg_3.png to TOO_SIMILAR - Similarity: 82.79%\n",
      "Moved extracted_face_8f9ef444-b0e2-451d-af7b-1f60d67c1c7e.jpg_4.png to TOO_SIMILAR - Similarity: 87.47%\n",
      "Moved extracted_face_9271C519-06A3-438E-945E-5647E92490D9.JPG_1.png to TOO_SIMILAR - Similarity: 85.89%\n"
     ]
    },
    {
     "name": "stderr",
     "output_type": "stream",
     "text": [
      "Analyzing Similarity:  21%|██        | 2441/11826 [01:12<06:29, 24.10it/s]"
     ]
    },
    {
     "name": "stdout",
     "output_type": "stream",
     "text": [
      "Moved extracted_face_931b3e9f-d6ec-464e-8174-0e440b9d4b40.jpg_3.png to TOO_SIMILAR - Similarity: 86.34%\n",
      "Moved extracted_face_95bf942f-4f04-45f6-88df-51e24ec0a75a.jpg_0.png to TOO_SIMILAR - Similarity: 81.82%\n",
      "Moved extracted_face_972779a7-b327-4508-abbe-ff555880b314.jpg_0.png to TOO_SIMILAR - Similarity: 88.00%\n"
     ]
    },
    {
     "name": "stderr",
     "output_type": "stream",
     "text": [
      "Analyzing Similarity:  21%|██        | 2450/11826 [01:12<05:00, 31.21it/s]"
     ]
    },
    {
     "name": "stdout",
     "output_type": "stream",
     "text": [
      "Moved extracted_face_972779a7-b327-4508-abbe-ff555880b314.jpg_2.png to TOO_SIMILAR - Similarity: 80.32%\n",
      "Moved extracted_face_972779a7-b327-4508-abbe-ff555880b314.jpg_7.png to TOO_SIMILAR - Similarity: 85.01%\n",
      "Moved extracted_face_972779a7-b327-4508-abbe-ff555880b314.jpg_8.png to TOO_SIMILAR - Similarity: 82.40%\n",
      "Moved extracted_face_984c6b4b-15f5-424d-bbcd-4e683d719d08.jpg_0.png to TOO_SIMILAR - Similarity: 84.74%\n",
      "Moved extracted_face_984c6b4b-15f5-424d-bbcd-4e683d719d08.jpg_1.png to TOO_SIMILAR - Similarity: 87.74%\n"
     ]
    },
    {
     "name": "stderr",
     "output_type": "stream",
     "text": [
      "Analyzing Similarity:  21%|██        | 2458/11826 [01:12<04:55, 31.75it/s]"
     ]
    },
    {
     "name": "stdout",
     "output_type": "stream",
     "text": [
      "Moved extracted_face_984c6b4b-15f5-424d-bbcd-4e683d719d08.jpg_2.png to TOO_SIMILAR - Similarity: 82.17%\n",
      "Moved extracted_face_9adec7e2-0031-4902-9e3a-f033f75780a9.jpg_0.png to TOO_SIMILAR - Similarity: 86.54%\n",
      "Moved extracted_face_9adec7e2-0031-4902-9e3a-f033f75780a9.jpg_1.png to TOO_SIMILAR - Similarity: 81.29%\n",
      "Moved extracted_face_9C442400-5062-4F36-98A8-D812C00EA44F.JPG_1.png to TOO_SIMILAR - Similarity: 80.92%\n",
      "Moved extracted_face_9C442400-5062-4F36-98A8-D812C00EA44F.JPG_2.png to TOO_SIMILAR - Similarity: 85.76%\n"
     ]
    },
    {
     "name": "stderr",
     "output_type": "stream",
     "text": [
      "Analyzing Similarity:  21%|██        | 2468/11826 [01:13<04:01, 38.73it/s]"
     ]
    },
    {
     "name": "stdout",
     "output_type": "stream",
     "text": [
      "Moved extracted_face_9EF4992F-1F1F-485E-AA12-F0BB40BA2A6E.JPG_0.png to TOO_SIMILAR - Similarity: 84.77%\n",
      "Moved extracted_face_9EF4992F-1F1F-485E-AA12-F0BB40BA2A6E.JPG_1.png to TOO_SIMILAR - Similarity: 81.16%\n",
      "Moved extracted_face_a0daf2fb-8a5b-44b4-a24f-4fe1ed8fff28.jpg_2.png to TOO_SIMILAR - Similarity: 83.00%\n"
     ]
    },
    {
     "name": "stderr",
     "output_type": "stream",
     "text": [
      "Analyzing Similarity:  21%|██        | 2478/11826 [01:13<03:42, 42.02it/s]"
     ]
    },
    {
     "name": "stdout",
     "output_type": "stream",
     "text": [
      "Moved extracted_face_a2b8ebbb-9ad3-47d6-ace0-540c26bdc8fb.jpg_5.png to TOO_SIMILAR - Similarity: 81.46%\n",
      "Moved extracted_face_a2b8ebbb-9ad3-47d6-ace0-540c26bdc8fb.jpg_7.png to TOO_SIMILAR - Similarity: 82.86%\n",
      "Moved extracted_face_a52b90bf-ddb8-47b5-859e-9d2ff0d8d8c8.jpg_0.png to TOO_SIMILAR - Similarity: 83.86%\n",
      "Moved extracted_face_a5f553b6-f54e-46d8-a170-8c0ab9bc15c9.jpg_0.png to TOO_SIMILAR - Similarity: 83.81%\n",
      "Moved extracted_face_A9661E32-E3E8-4431-9BCC-667855C65D75.png_1.png to TOO_SIMILAR - Similarity: 86.12%\n",
      "Moved extracted_face_aafd9d7c-7f7b-4b22-bdb1-456fcba82f69.jpg_0.png to TOO_SIMILAR - Similarity: 82.64%\n"
     ]
    },
    {
     "name": "stderr",
     "output_type": "stream",
     "text": [
      "Analyzing Similarity:  21%|██        | 2494/11826 [01:13<04:30, 34.46it/s]"
     ]
    },
    {
     "name": "stdout",
     "output_type": "stream",
     "text": [
      "Moved extracted_face_ae05a638-482e-4524-b23b-2de0c12bdc4b.jpg_2.png to TOO_SIMILAR - Similarity: 81.01%\n",
      "Moved extracted_face_African Day 2024 (004).jpg_0.png to TOO_SIMILAR - Similarity: 84.60%\n"
     ]
    },
    {
     "name": "stderr",
     "output_type": "stream",
     "text": [
      "Analyzing Similarity:  21%|██        | 2511/11826 [01:14<03:31, 44.14it/s]"
     ]
    },
    {
     "name": "stdout",
     "output_type": "stream",
     "text": [
      "Moved extracted_face_African Day 2024 (009).jpg_1.png to TOO_SIMILAR - Similarity: 84.52%\n",
      "Moved extracted_face_African Day 2024 (009).jpg_2.png to TOO_SIMILAR - Similarity: 82.39%\n",
      "Moved extracted_face_African Day 2024 (010).jpg_0.png to TOO_SIMILAR - Similarity: 82.63%\n",
      "Moved extracted_face_African Day 2024 (011).jpg_1.png to TOO_SIMILAR - Similarity: 83.71%\n",
      "Moved extracted_face_African Day 2024 (011).jpg_3.png to TOO_SIMILAR - Similarity: 86.76%\n"
     ]
    },
    {
     "name": "stderr",
     "output_type": "stream",
     "text": [
      "Analyzing Similarity:  21%|██▏       | 2516/11826 [01:14<03:35, 43.14it/s]"
     ]
    },
    {
     "name": "stdout",
     "output_type": "stream",
     "text": [
      "Moved extracted_face_African Day 2024 (015).jpg_1.png to TOO_SIMILAR - Similarity: 84.04%\n",
      "Moved extracted_face_African Day 2024 (017).jpg_0.png to TOO_SIMILAR - Similarity: 81.96%\n",
      "Moved extracted_face_African Day 2024 (018).jpg_0.png to TOO_SIMILAR - Similarity: 86.96%\n",
      "Moved extracted_face_African Day 2024 (018).jpg_1.png to TOO_SIMILAR - Similarity: 80.68%\n",
      "Moved extracted_face_African Day 2024 (018).jpg_2.png to TOO_SIMILAR - Similarity: 87.21%\n"
     ]
    },
    {
     "name": "stderr",
     "output_type": "stream",
     "text": [
      "Analyzing Similarity:  21%|██▏       | 2526/11826 [01:14<04:04, 38.04it/s]"
     ]
    },
    {
     "name": "stdout",
     "output_type": "stream",
     "text": [
      "Moved extracted_face_African Day 2024 (020).jpg_0.png to TOO_SIMILAR - Similarity: 80.93%\n",
      "Moved extracted_face_African Day 2024 (021).jpg_2.png to TOO_SIMILAR - Similarity: 85.30%\n"
     ]
    },
    {
     "name": "stderr",
     "output_type": "stream",
     "text": [
      "Analyzing Similarity:  21%|██▏       | 2535/11826 [01:14<03:52, 39.94it/s]"
     ]
    },
    {
     "name": "stdout",
     "output_type": "stream",
     "text": [
      "Moved extracted_face_African Day 2024 (021).jpg_4.png to TOO_SIMILAR - Similarity: 82.47%\n",
      "Moved extracted_face_African Day 2024 (022).jpg_0.png to TOO_SIMILAR - Similarity: 83.61%\n"
     ]
    },
    {
     "name": "stderr",
     "output_type": "stream",
     "text": [
      "Analyzing Similarity:  22%|██▏       | 2553/11826 [01:15<03:03, 50.45it/s]"
     ]
    },
    {
     "name": "stdout",
     "output_type": "stream",
     "text": [
      "Moved extracted_face_African Day 2024 (031).jpg_2.png to TOO_SIMILAR - Similarity: 83.70%\n",
      "Moved extracted_face_African Day 2024 (036).jpg_0.png to TOO_SIMILAR - Similarity: 81.28%\n",
      "Moved extracted_face_African Day 2024 (036).jpg_1.png to TOO_SIMILAR - Similarity: 81.62%\n"
     ]
    },
    {
     "name": "stderr",
     "output_type": "stream",
     "text": [
      "Analyzing Similarity:  22%|██▏       | 2576/11826 [01:15<02:24, 63.93it/s]"
     ]
    },
    {
     "name": "stdout",
     "output_type": "stream",
     "text": [
      "Moved extracted_face_African Day 2024 (038).jpg_1.png to TOO_SIMILAR - Similarity: 81.00%\n",
      "Moved extracted_face_African Day 2024 (039).jpg_4.png to TOO_SIMILAR - Similarity: 82.72%\n"
     ]
    },
    {
     "name": "stderr",
     "output_type": "stream",
     "text": [
      "Analyzing Similarity:  22%|██▏       | 2590/11826 [01:15<02:22, 64.66it/s]"
     ]
    },
    {
     "name": "stdout",
     "output_type": "stream",
     "text": [
      "Moved extracted_face_African Day 2024 (041).jpg_1.png to TOO_SIMILAR - Similarity: 83.43%\n",
      "Moved extracted_face_African Day 2024 (043).jpg_0.png to TOO_SIMILAR - Similarity: 83.72%\n",
      "Moved extracted_face_African Day 2024 (043).jpg_5.png to TOO_SIMILAR - Similarity: 84.15%\n"
     ]
    },
    {
     "name": "stderr",
     "output_type": "stream",
     "text": [
      "Analyzing Similarity:  22%|██▏       | 2604/11826 [01:15<02:34, 59.87it/s]"
     ]
    },
    {
     "name": "stdout",
     "output_type": "stream",
     "text": [
      "Moved extracted_face_African Day 2024 (045).jpg_2.png to TOO_SIMILAR - Similarity: 85.64%\n",
      "Moved extracted_face_African Day 2024 (047).jpg_1.png to TOO_SIMILAR - Similarity: 84.64%\n",
      "Moved extracted_face_African Day 2024 (048).jpg_2.png to TOO_SIMILAR - Similarity: 81.55%\n"
     ]
    },
    {
     "name": "stderr",
     "output_type": "stream",
     "text": [
      "Analyzing Similarity:  22%|██▏       | 2623/11826 [01:16<02:43, 56.44it/s]"
     ]
    },
    {
     "name": "stdout",
     "output_type": "stream",
     "text": [
      "Moved extracted_face_African Day 2024 (049).jpg_2.png to TOO_SIMILAR - Similarity: 81.09%\n",
      "Moved extracted_face_African Day 2024 (050).jpg_0.png to TOO_SIMILAR - Similarity: 83.28%\n",
      "Moved extracted_face_African Day 2024 (050).jpg_4.png to TOO_SIMILAR - Similarity: 82.40%\n",
      "Moved extracted_face_African Day 2024 (051).jpg_0.png to TOO_SIMILAR - Similarity: 84.43%\n"
     ]
    },
    {
     "name": "stderr",
     "output_type": "stream",
     "text": [
      "Analyzing Similarity:  22%|██▏       | 2643/11826 [01:16<02:29, 61.46it/s]"
     ]
    },
    {
     "name": "stdout",
     "output_type": "stream",
     "text": [
      "Moved extracted_face_African Day 2024 (051).jpg_4.png to TOO_SIMILAR - Similarity: 84.51%\n",
      "Moved extracted_face_African Day 2024 (052).jpg_1.png to TOO_SIMILAR - Similarity: 83.36%\n",
      "Moved extracted_face_African Day 2024 (054).jpg_0.png to TOO_SIMILAR - Similarity: 81.50%\n",
      "Moved extracted_face_African Day 2024 (054).jpg_1.png to TOO_SIMILAR - Similarity: 80.95%\n"
     ]
    },
    {
     "name": "stderr",
     "output_type": "stream",
     "text": [
      "Analyzing Similarity:  22%|██▏       | 2657/11826 [01:16<02:23, 63.95it/s]"
     ]
    },
    {
     "name": "stdout",
     "output_type": "stream",
     "text": [
      "Moved extracted_face_African Day 2024 (054).jpg_2.png to TOO_SIMILAR - Similarity: 84.40%\n",
      "Moved extracted_face_African Day 2024 (054).jpg_3.png to TOO_SIMILAR - Similarity: 83.60%\n",
      "Moved extracted_face_African Day 2024 (054).jpg_5.png to TOO_SIMILAR - Similarity: 80.38%\n",
      "Moved extracted_face_African Day 2024 (054).jpg_8.png to TOO_SIMILAR - Similarity: 84.54%\n",
      "Moved extracted_face_African Day 2024 (055).jpg_3.png to TOO_SIMILAR - Similarity: 83.54%\n",
      "Moved extracted_face_African Day 2024 (057).jpg_0.png to TOO_SIMILAR - Similarity: 81.06%\n"
     ]
    },
    {
     "name": "stderr",
     "output_type": "stream",
     "text": [
      "Analyzing Similarity:  23%|██▎       | 2664/11826 [01:16<02:21, 64.59it/s]"
     ]
    },
    {
     "name": "stdout",
     "output_type": "stream",
     "text": [
      "Moved extracted_face_African Day 2024 (057).jpg_1.png to TOO_SIMILAR - Similarity: 81.35%\n",
      "Moved extracted_face_African Day 2024 (061).jpg_0.png to TOO_SIMILAR - Similarity: 81.33%\n"
     ]
    },
    {
     "name": "stderr",
     "output_type": "stream",
     "text": [
      "Analyzing Similarity:  23%|██▎       | 2678/11826 [01:17<02:58, 51.19it/s]"
     ]
    },
    {
     "name": "stdout",
     "output_type": "stream",
     "text": [
      "Moved extracted_face_African Day 2024 (062).jpg_1.png to TOO_SIMILAR - Similarity: 80.43%\n",
      "Moved extracted_face_African Day 2024 (064).jpg_0.png to TOO_SIMILAR - Similarity: 86.72%\n",
      "Moved extracted_face_African Day 2024 (066).jpg_0.png to TOO_SIMILAR - Similarity: 80.35%\n",
      "Moved extracted_face_African Day 2024 (066).jpg_1.png to TOO_SIMILAR - Similarity: 84.00%\n",
      "Moved extracted_face_African Day 2024 (066).jpg_2.png to TOO_SIMILAR - Similarity: 82.10%\n"
     ]
    },
    {
     "name": "stderr",
     "output_type": "stream",
     "text": [
      "Analyzing Similarity:  23%|██▎       | 2700/11826 [01:17<02:25, 62.58it/s]"
     ]
    },
    {
     "name": "stdout",
     "output_type": "stream",
     "text": [
      "Moved extracted_face_African Day 2024 (067).jpg_0.png to TOO_SIMILAR - Similarity: 80.93%\n",
      "Moved extracted_face_African Day 2024 (069).jpg_0.png to TOO_SIMILAR - Similarity: 80.82%\n"
     ]
    },
    {
     "name": "stderr",
     "output_type": "stream",
     "text": [
      "Analyzing Similarity:  23%|██▎       | 2724/11826 [01:17<02:11, 69.31it/s]"
     ]
    },
    {
     "name": "stdout",
     "output_type": "stream",
     "text": [
      "Moved extracted_face_African Day 2024 (084).jpg_1.png to TOO_SIMILAR - Similarity: 82.93%\n",
      "Moved extracted_face_African Day 2024 (104).jpg_1.png to TOO_SIMILAR - Similarity: 83.23%\n",
      "Moved extracted_face_Auguste_le_bg_Melaka%20(1).jpg_1.png to TOO_SIMILAR - Similarity: 80.49%\n",
      "Moved extracted_face_Auguste_le_bg_Melaka%20(20).jpg_1.png to TOO_SIMILAR - Similarity: 85.14%\n"
     ]
    },
    {
     "name": "stderr",
     "output_type": "stream",
     "text": [
      "Analyzing Similarity:  23%|██▎       | 2739/11826 [01:18<02:20, 64.59it/s]"
     ]
    },
    {
     "name": "stdout",
     "output_type": "stream",
     "text": [
      "Moved extracted_face_Auguste_le_bg_Melaka%20(28).jpg_11.png to TOO_SIMILAR - Similarity: 82.14%\n"
     ]
    },
    {
     "name": "stderr",
     "output_type": "stream",
     "text": [
      "Analyzing Similarity:  23%|██▎       | 2752/11826 [01:18<03:11, 47.34it/s]"
     ]
    },
    {
     "name": "stdout",
     "output_type": "stream",
     "text": [
      "Moved extracted_face_Auguste_le_bg_Melaka%20(3).jpg_2.png to TOO_SIMILAR - Similarity: 80.93%\n",
      "Moved extracted_face_Auguste_le_bg_Melaka%20(3).jpg_4.png to TOO_SIMILAR - Similarity: 82.51%\n",
      "Moved extracted_face_Auguste_le_bg_Melaka%20(30).jpg_2.png to TOO_SIMILAR - Similarity: 82.40%\n"
     ]
    },
    {
     "name": "stderr",
     "output_type": "stream",
     "text": [
      "Analyzing Similarity:  24%|██▎       | 2783/11826 [01:18<02:17, 65.54it/s]"
     ]
    },
    {
     "name": "stdout",
     "output_type": "stream",
     "text": [
      "Moved extracted_face_Auguste_le_bg_Melaka%20(4).jpg_2.png to TOO_SIMILAR - Similarity: 80.58%\n",
      "Moved extracted_face_Auguste_le_bg_Melaka%20(4).jpg_6.png to TOO_SIMILAR - Similarity: 80.53%\n",
      "Moved extracted_face_b119a5c2-595b-49d2-afa9-f0a225760a2c-1.jpg_1.png to TOO_SIMILAR - Similarity: 80.86%\n",
      "Moved extracted_face_b119a5c2-595b-49d2-afa9-f0a225760a2c-1.jpg_2.png to TOO_SIMILAR - Similarity: 85.44%\n",
      "Moved extracted_face_b119a5c2-595b-49d2-afa9-f0a225760a2c-1.jpg_3.png to TOO_SIMILAR - Similarity: 82.67%\n",
      "Moved extracted_face_b21a196d-496c-4698-988b-f58869b3fc2a.jpg_3.png to TOO_SIMILAR - Similarity: 86.75%\n",
      "Moved extracted_face_b303a945-31cb-4539-b0ff-6d415cfb5364.jpg_0.png to TOO_SIMILAR - Similarity: 89.08%\n"
     ]
    },
    {
     "name": "stderr",
     "output_type": "stream",
     "text": [
      "Analyzing Similarity:  24%|██▎       | 2799/11826 [01:19<02:20, 64.18it/s]"
     ]
    },
    {
     "name": "stdout",
     "output_type": "stream",
     "text": [
      "Moved extracted_face_b303a945-31cb-4539-b0ff-6d415cfb5364.jpg_12.png to TOO_SIMILAR - Similarity: 80.09%\n",
      "Moved extracted_face_b303a945-31cb-4539-b0ff-6d415cfb5364.jpg_2.png to TOO_SIMILAR - Similarity: 81.97%\n",
      "Moved extracted_face_b303a945-31cb-4539-b0ff-6d415cfb5364.jpg_3.png to TOO_SIMILAR - Similarity: 80.11%\n",
      "Moved extracted_face_b303a945-31cb-4539-b0ff-6d415cfb5364.jpg_4.png to TOO_SIMILAR - Similarity: 83.87%\n",
      "Moved extracted_face_b303a945-31cb-4539-b0ff-6d415cfb5364.jpg_5.png to TOO_SIMILAR - Similarity: 86.72%\n",
      "Moved extracted_face_b303a945-31cb-4539-b0ff-6d415cfb5364.jpg_6.png to TOO_SIMILAR - Similarity: 81.97%\n"
     ]
    },
    {
     "name": "stderr",
     "output_type": "stream",
     "text": [
      "Analyzing Similarity:  24%|██▍       | 2813/11826 [01:19<02:36, 57.58it/s]"
     ]
    },
    {
     "name": "stdout",
     "output_type": "stream",
     "text": [
      "Moved extracted_face_B35FECF7-FF03-4459-91B1-B8A5551EB65F.JPEG_1.png to TOO_SIMILAR - Similarity: 83.48%\n",
      "Moved extracted_face_b38b9247-d099-49e6-b973-4a88d64f1d9c.jpg_1.png to TOO_SIMILAR - Similarity: 82.64%\n",
      "Moved extracted_face_b38b9247-d099-49e6-b973-4a88d64f1d9c.jpg_3.png to TOO_SIMILAR - Similarity: 83.06%\n",
      "Moved extracted_face_b38b9247-d099-49e6-b973-4a88d64f1d9c.jpg_4.png to TOO_SIMILAR - Similarity: 87.78%\n",
      "Moved extracted_face_b38b9247-d099-49e6-b973-4a88d64f1d9c.jpg_5.png to TOO_SIMILAR - Similarity: 85.26%\n",
      "Moved extracted_face_b5011aad-5607-4f9b-99c3-02c109420ecb.jpg_0.png to TOO_SIMILAR - Similarity: 81.14%\n",
      "Moved extracted_face_b5011aad-5607-4f9b-99c3-02c109420ecb.jpg_2.png to TOO_SIMILAR - Similarity: 82.40%\n",
      "Moved extracted_face_b5011aad-5607-4f9b-99c3-02c109420ecb.jpg_3.png to TOO_SIMILAR - Similarity: 80.13%\n",
      "Moved extracted_face_b5011aad-5607-4f9b-99c3-02c109420ecb.jpg_4.png to TOO_SIMILAR - Similarity: 87.94%\n"
     ]
    },
    {
     "name": "stderr",
     "output_type": "stream",
     "text": [
      "Analyzing Similarity:  24%|██▍       | 2825/11826 [01:19<02:41, 55.76it/s]"
     ]
    },
    {
     "name": "stdout",
     "output_type": "stream",
     "text": [
      "Moved extracted_face_b5011aad-5607-4f9b-99c3-02c109420ecb.jpg_5.png to TOO_SIMILAR - Similarity: 85.30%\n",
      "Moved extracted_face_B5FB4DE1-92B8-4372-8EB8-353D9D9A4FB3.png_1.png to TOO_SIMILAR - Similarity: 85.87%\n",
      "Moved extracted_face_B5FB4DE1-92B8-4372-8EB8-353D9D9A4FB3.png_2.png to TOO_SIMILAR - Similarity: 85.99%\n",
      "Moved extracted_face_b5fffc5d-8df3-438d-9402-19069829ceb2.jpg_1.png to TOO_SIMILAR - Similarity: 82.80%\n",
      "Moved extracted_face_b5fffc5d-8df3-438d-9402-19069829ceb2.jpg_10.png to TOO_SIMILAR - Similarity: 80.91%\n",
      "Moved extracted_face_b5fffc5d-8df3-438d-9402-19069829ceb2.jpg_5.png to TOO_SIMILAR - Similarity: 85.09%\n"
     ]
    },
    {
     "name": "stderr",
     "output_type": "stream",
     "text": [
      "Analyzing Similarity:  24%|██▍       | 2839/11826 [01:19<02:27, 60.74it/s]"
     ]
    },
    {
     "name": "stdout",
     "output_type": "stream",
     "text": [
      "Moved extracted_face_b77cd808-9389-4214-9b3f-c27451f30a41.jpg_0.png to TOO_SIMILAR - Similarity: 81.15%\n",
      "Moved extracted_face_b8cbe5a9-d2dc-4076-879b-78880b979077.jpg_13.png to TOO_SIMILAR - Similarity: 82.07%\n",
      "Moved extracted_face_b8cbe5a9-d2dc-4076-879b-78880b979077.jpg_4.png to TOO_SIMILAR - Similarity: 80.53%\n",
      "Moved extracted_face_b8cbe5a9-d2dc-4076-879b-78880b979077.jpg_5.png to TOO_SIMILAR - Similarity: 84.69%\n"
     ]
    },
    {
     "name": "stderr",
     "output_type": "stream",
     "text": [
      "Analyzing Similarity:  24%|██▍       | 2854/11826 [01:20<02:16, 65.86it/s]"
     ]
    },
    {
     "name": "stdout",
     "output_type": "stream",
     "text": [
      "Moved extracted_face_b8cbe5a9-d2dc-4076-879b-78880b979077.jpg_6.png to TOO_SIMILAR - Similarity: 85.61%\n",
      "Moved extracted_face_bc179e89-c34b-4db7-9808-8db62dd5a8ed.jpg_12.png to TOO_SIMILAR - Similarity: 80.34%\n",
      "Moved extracted_face_bc179e89-c34b-4db7-9808-8db62dd5a8ed.jpg_13.png to TOO_SIMILAR - Similarity: 83.31%\n",
      "Moved extracted_face_bc179e89-c34b-4db7-9808-8db62dd5a8ed.jpg_14.png to TOO_SIMILAR - Similarity: 86.06%\n",
      "Moved extracted_face_bc179e89-c34b-4db7-9808-8db62dd5a8ed.jpg_15.png to TOO_SIMILAR - Similarity: 81.98%\n",
      "Moved extracted_face_bc179e89-c34b-4db7-9808-8db62dd5a8ed.jpg_17.png to TOO_SIMILAR - Similarity: 81.11%\n"
     ]
    },
    {
     "name": "stderr",
     "output_type": "stream",
     "text": [
      "Analyzing Similarity:  24%|██▍       | 2875/11826 [01:20<02:17, 65.15it/s]"
     ]
    },
    {
     "name": "stdout",
     "output_type": "stream",
     "text": [
      "Moved extracted_face_bc179e89-c34b-4db7-9808-8db62dd5a8ed.jpg_4.png to TOO_SIMILAR - Similarity: 84.33%\n",
      "Moved extracted_face_bc179e89-c34b-4db7-9808-8db62dd5a8ed.jpg_5.png to TOO_SIMILAR - Similarity: 85.89%\n",
      "Moved extracted_face_bc179e89-c34b-4db7-9808-8db62dd5a8ed.jpg_7.png to TOO_SIMILAR - Similarity: 82.60%\n",
      "Moved extracted_face_bf807dd0-8b5f-4573-be3d-2ebf7b4ec910.jpg_0.png to TOO_SIMILAR - Similarity: 85.61%\n",
      "Moved extracted_face_bf807dd0-8b5f-4573-be3d-2ebf7b4ec910.jpg_2.png to TOO_SIMILAR - Similarity: 85.11%\n",
      "Moved extracted_face_bf807dd0-8b5f-4573-be3d-2ebf7b4ec910.jpg_3.png to TOO_SIMILAR - Similarity: 83.61%\n"
     ]
    },
    {
     "name": "stderr",
     "output_type": "stream",
     "text": [
      "Analyzing Similarity:  24%|██▍       | 2889/11826 [01:20<02:24, 61.90it/s]"
     ]
    },
    {
     "name": "stdout",
     "output_type": "stream",
     "text": [
      "Moved extracted_face_bf807dd0-8b5f-4573-be3d-2ebf7b4ec910.jpg_9.png to TOO_SIMILAR - Similarity: 81.59%\n",
      "Moved extracted_face_c00c9b29-0dc1-40a3-819e-7a80e9a35d5a.jpg_1.png to TOO_SIMILAR - Similarity: 81.14%\n",
      "Moved extracted_face_c00c9b29-0dc1-40a3-819e-7a80e9a35d5a.jpg_6.png to TOO_SIMILAR - Similarity: 82.57%\n",
      "Moved extracted_face_c00c9b29-0dc1-40a3-819e-7a80e9a35d5a.jpg_7.png to TOO_SIMILAR - Similarity: 81.55%\n",
      "Moved extracted_face_c0a3ee13-f599-49da-a332-36820376dd22.jpg_2.png to TOO_SIMILAR - Similarity: 84.66%\n"
     ]
    },
    {
     "name": "stderr",
     "output_type": "stream",
     "text": [
      "Analyzing Similarity:  25%|██▍       | 2904/11826 [01:20<02:17, 65.06it/s]"
     ]
    },
    {
     "name": "stdout",
     "output_type": "stream",
     "text": [
      "Moved extracted_face_c1a0b1df-89af-44d9-95a7-3306350ce234.jpg_1.png to TOO_SIMILAR - Similarity: 81.08%\n",
      "Moved extracted_face_c1cfe7bc-2f5e-4b7a-8acb-92c11b171cec.jpg_0.png to TOO_SIMILAR - Similarity: 80.92%\n",
      "Moved extracted_face_c2dedd80-35a1-443f-aac7-7ead4aa55ade.jpg_0.png to TOO_SIMILAR - Similarity: 88.51%\n",
      "Moved extracted_face_c2dedd80-35a1-443f-aac7-7ead4aa55ade.jpg_2.png to TOO_SIMILAR - Similarity: 86.00%\n",
      "Moved extracted_face_c4a88151-ac5a-4934-9201-c483d18bbf35.jpg_10.png to TOO_SIMILAR - Similarity: 80.04%\n",
      "Moved extracted_face_c4a88151-ac5a-4934-9201-c483d18bbf35.jpg_4.png to TOO_SIMILAR - Similarity: 80.89%\n"
     ]
    },
    {
     "name": "stderr",
     "output_type": "stream",
     "text": [
      "Analyzing Similarity:  25%|██▍       | 2920/11826 [01:21<02:11, 67.69it/s]"
     ]
    },
    {
     "name": "stdout",
     "output_type": "stream",
     "text": [
      "Moved extracted_face_c4a88151-ac5a-4934-9201-c483d18bbf35.jpg_5.png to TOO_SIMILAR - Similarity: 82.10%\n",
      "Moved extracted_face_c4a88151-ac5a-4934-9201-c483d18bbf35.jpg_6.png to TOO_SIMILAR - Similarity: 81.77%\n",
      "Moved extracted_face_c4a88151-ac5a-4934-9201-c483d18bbf35.jpg_7.png to TOO_SIMILAR - Similarity: 82.83%\n",
      "Moved extracted_face_c56f756d-9c04-45eb-bb12-d52f35511521.jpg_0.png to TOO_SIMILAR - Similarity: 83.61%\n",
      "Moved extracted_face_c56f756d-9c04-45eb-bb12-d52f35511521.jpg_10.png to TOO_SIMILAR - Similarity: 80.74%\n",
      "Moved extracted_face_c56f756d-9c04-45eb-bb12-d52f35511521.jpg_11.png to TOO_SIMILAR - Similarity: 84.25%\n",
      "Moved extracted_face_c56f756d-9c04-45eb-bb12-d52f35511521.jpg_5.png to TOO_SIMILAR - Similarity: 86.62%\n"
     ]
    },
    {
     "name": "stderr",
     "output_type": "stream",
     "text": [
      "Analyzing Similarity:  25%|██▍       | 2935/11826 [01:21<02:09, 68.45it/s]"
     ]
    },
    {
     "name": "stdout",
     "output_type": "stream",
     "text": [
      "Moved extracted_face_c56f756d-9c04-45eb-bb12-d52f35511521.jpg_9.png to TOO_SIMILAR - Similarity: 80.09%\n",
      "Moved extracted_face_c5b504e5-a25f-4834-afe4-396fe0986c77.jpg_1.png to TOO_SIMILAR - Similarity: 86.55%\n",
      "Moved extracted_face_c5b504e5-a25f-4834-afe4-396fe0986c77.jpg_10.png to TOO_SIMILAR - Similarity: 81.55%\n",
      "Moved extracted_face_c5b504e5-a25f-4834-afe4-396fe0986c77.jpg_16.png to TOO_SIMILAR - Similarity: 80.20%\n",
      "Moved extracted_face_c5b504e5-a25f-4834-afe4-396fe0986c77.jpg_17.png to TOO_SIMILAR - Similarity: 84.72%\n"
     ]
    },
    {
     "name": "stderr",
     "output_type": "stream",
     "text": [
      "Analyzing Similarity:  25%|██▍       | 2942/11826 [01:21<02:19, 63.75it/s]"
     ]
    },
    {
     "name": "stdout",
     "output_type": "stream",
     "text": [
      "Moved extracted_face_c5b504e5-a25f-4834-afe4-396fe0986c77.jpg_5.png to TOO_SIMILAR - Similarity: 85.33%\n",
      "Moved extracted_face_c5b504e5-a25f-4834-afe4-396fe0986c77.jpg_7.png to TOO_SIMILAR - Similarity: 83.59%\n",
      "Moved extracted_face_c689e60c-b6c5-4449-8bb4-ecf889ab1592.jpg_0.png to TOO_SIMILAR - Similarity: 81.23%\n"
     ]
    },
    {
     "name": "stderr",
     "output_type": "stream",
     "text": [
      "Analyzing Similarity:  25%|██▍       | 2955/11826 [01:21<02:47, 52.86it/s]"
     ]
    },
    {
     "name": "stdout",
     "output_type": "stream",
     "text": [
      "Moved extracted_face_c689e60c-b6c5-4449-8bb4-ecf889ab1592.jpg_2.png to TOO_SIMILAR - Similarity: 80.36%\n",
      "Moved extracted_face_c689e60c-b6c5-4449-8bb4-ecf889ab1592.jpg_3.png to TOO_SIMILAR - Similarity: 81.41%\n",
      "Moved extracted_face_c689e60c-b6c5-4449-8bb4-ecf889ab1592.jpg_6.png to TOO_SIMILAR - Similarity: 80.05%\n",
      "Moved extracted_face_c689e60c-b6c5-4449-8bb4-ecf889ab1592.jpg_9.png to TOO_SIMILAR - Similarity: 84.32%\n",
      "Moved extracted_face_c7376d68-6220-422f-94b2-70ba4ef1b999.jpg_2.png to TOO_SIMILAR - Similarity: 85.02%\n",
      "Moved extracted_face_c820c52f-eea0-4f2b-a1ed-b9acd3dc832a.jpg_0.png to TOO_SIMILAR - Similarity: 82.50%\n",
      "Moved extracted_face_c820c52f-eea0-4f2b-a1ed-b9acd3dc832a.jpg_1.png to TOO_SIMILAR - Similarity: 86.52%\n"
     ]
    },
    {
     "name": "stderr",
     "output_type": "stream",
     "text": [
      "Analyzing Similarity:  25%|██▌       | 2969/11826 [01:21<02:36, 56.42it/s]"
     ]
    },
    {
     "name": "stdout",
     "output_type": "stream",
     "text": [
      "Moved extracted_face_c820c52f-eea0-4f2b-a1ed-b9acd3dc832a.jpg_4.png to TOO_SIMILAR - Similarity: 86.63%\n",
      "Moved extracted_face_c820c52f-eea0-4f2b-a1ed-b9acd3dc832a.jpg_5.png to TOO_SIMILAR - Similarity: 82.26%\n",
      "Moved extracted_face_c820c52f-eea0-4f2b-a1ed-b9acd3dc832a.jpg_6.png to TOO_SIMILAR - Similarity: 86.56%\n",
      "Moved extracted_face_cbf70277-6f8c-44e7-b1b3-174ba60ac365.jpg_1.png to TOO_SIMILAR - Similarity: 88.07%\n",
      "Moved extracted_face_cbf70277-6f8c-44e7-b1b3-174ba60ac365.jpg_2.png to TOO_SIMILAR - Similarity: 84.23%\n",
      "Moved extracted_face_cbf70277-6f8c-44e7-b1b3-174ba60ac365.jpg_3.png to TOO_SIMILAR - Similarity: 87.89%\n",
      "Moved extracted_face_ce0cfbe6-02bc-429c-a4c0-24f8af7b7a2b.jpg_1.png to TOO_SIMILAR - Similarity: 84.15%\n"
     ]
    },
    {
     "name": "stderr",
     "output_type": "stream",
     "text": [
      "Analyzing Similarity:  25%|██▌       | 2988/11826 [01:22<02:33, 57.56it/s]"
     ]
    },
    {
     "name": "stdout",
     "output_type": "stream",
     "text": [
      "Moved extracted_face_ce0cfbe6-02bc-429c-a4c0-24f8af7b7a2b.jpg_3.png to TOO_SIMILAR - Similarity: 85.64%\n",
      "Moved extracted_face_D12C0A8C-3689-4AC4-8647-89E297EAD5B7.JPG_0.png to TOO_SIMILAR - Similarity: 83.18%\n",
      "Moved extracted_face_D1B93722-D1F4-4328-AEC8-6D8FFD68E36E.JPG_2.png to TOO_SIMILAR - Similarity: 81.52%\n",
      "Moved extracted_face_d56c45ae-e534-4167-b1e7-993c7a6450d0.jpg_12.png to TOO_SIMILAR - Similarity: 80.36%\n",
      "Moved extracted_face_d56c45ae-e534-4167-b1e7-993c7a6450d0.jpg_2.png to TOO_SIMILAR - Similarity: 80.32%\n",
      "Moved extracted_face_d56c45ae-e534-4167-b1e7-993c7a6450d0.jpg_4.png to TOO_SIMILAR - Similarity: 85.50%\n"
     ]
    },
    {
     "name": "stderr",
     "output_type": "stream",
     "text": [
      "Analyzing Similarity:  25%|██▌       | 2995/11826 [01:22<02:26, 60.08it/s]"
     ]
    },
    {
     "name": "stdout",
     "output_type": "stream",
     "text": [
      "Moved extracted_face_d56c45ae-e534-4167-b1e7-993c7a6450d0.jpg_5.png to TOO_SIMILAR - Similarity: 80.14%\n",
      "Moved extracted_face_d56c45ae-e534-4167-b1e7-993c7a6450d0.jpg_6.png to TOO_SIMILAR - Similarity: 81.82%\n",
      "Moved extracted_face_d70ac6c5-9033-4b63-8cd9-e0a5605e7d23.jpg_1.png to TOO_SIMILAR - Similarity: 89.26%\n",
      "Moved extracted_face_d921578f-4810-41de-aa35-e1616759a89c.jpg_0.png to TOO_SIMILAR - Similarity: 83.58%\n",
      "Moved extracted_face_d921578f-4810-41de-aa35-e1616759a89c.jpg_2.png to TOO_SIMILAR - Similarity: 81.96%\n",
      "Moved extracted_face_DD4B4826-22D8-4EE3-8C04-E40B5A8054C9.jpg_3.png to TOO_SIMILAR - Similarity: 81.56%\n"
     ]
    },
    {
     "name": "stderr",
     "output_type": "stream",
     "text": [
      "Analyzing Similarity:  25%|██▌       | 3008/11826 [01:22<02:41, 54.63it/s]"
     ]
    },
    {
     "name": "stdout",
     "output_type": "stream",
     "text": [
      "Moved extracted_face_DFD0EFE0-AC41-4931-B588-659101C14FEE.jpg_1.png to TOO_SIMILAR - Similarity: 86.21%\n",
      "Moved extracted_face_DSC02036.JPG_1.png to TOO_SIMILAR - Similarity: 80.44%\n",
      "Moved extracted_face_DSC02036.JPG_2.png to TOO_SIMILAR - Similarity: 82.53%\n",
      "Moved extracted_face_DSC05687.JPG_0.png to TOO_SIMILAR - Similarity: 85.19%\n",
      "Moved extracted_face_DSC05687.JPG_1.png to TOO_SIMILAR - Similarity: 82.40%\n",
      "Moved extracted_face_DSC06274.JPG_1.png to TOO_SIMILAR - Similarity: 81.81%\n",
      "Moved extracted_face_DSC06274.JPG_2.png to TOO_SIMILAR - Similarity: 86.26%\n",
      "Moved extracted_face_DSC06274.JPG_3.png to TOO_SIMILAR - Similarity: 84.44%\n"
     ]
    },
    {
     "name": "stderr",
     "output_type": "stream",
     "text": [
      "Analyzing Similarity:  26%|██▌       | 3020/11826 [01:22<02:47, 52.71it/s]"
     ]
    },
    {
     "name": "stdout",
     "output_type": "stream",
     "text": [
      "Moved extracted_face_E0481C7B-1D14-4579-9E20-AB6EDBC4C336.jpg_1.png to TOO_SIMILAR - Similarity: 82.17%\n",
      "Moved extracted_face_e34ac361-b94e-4bcf-9a53-ae3720c97ff6.jpg_0.png to TOO_SIMILAR - Similarity: 82.53%\n",
      "Moved extracted_face_e445cc41-b26c-4c2a-a01a-debeb9dfa63d.jpg_1.png to TOO_SIMILAR - Similarity: 85.74%\n",
      "Moved extracted_face_e60000b2-7fb8-479c-a2cc-10b1bf17e05f.jpg_1.png to TOO_SIMILAR - Similarity: 86.02%\n",
      "Moved extracted_face_e7b5d3e4-d937-470e-a206-291519b0e57c.jpg_1.png to TOO_SIMILAR - Similarity: 80.16%\n",
      "Moved extracted_face_e864618b-1162-4117-9dd8-6b5b150107eb.jpg_2.png to TOO_SIMILAR - Similarity: 80.66%\n",
      "Moved extracted_face_e88da627-208e-41f5-b700-b1e81b906d15.jpg_0.png to TOO_SIMILAR - Similarity: 86.42%\n"
     ]
    },
    {
     "name": "stderr",
     "output_type": "stream",
     "text": [
      "Analyzing Similarity:  26%|██▌       | 3032/11826 [01:23<02:39, 55.05it/s]"
     ]
    },
    {
     "name": "stdout",
     "output_type": "stream",
     "text": [
      "Moved extracted_face_e88da627-208e-41f5-b700-b1e81b906d15.jpg_2.png to TOO_SIMILAR - Similarity: 85.32%\n",
      "Moved extracted_face_e88da627-208e-41f5-b700-b1e81b906d15.jpg_6.png to TOO_SIMILAR - Similarity: 81.65%\n",
      "Moved extracted_face_e88da627-208e-41f5-b700-b1e81b906d15.jpg_8.png to TOO_SIMILAR - Similarity: 81.13%\n",
      "Moved extracted_face_e8d9878b-e275-4aa4-8c9c-8d0e28003f5d.jpg_0.png to TOO_SIMILAR - Similarity: 80.60%\n",
      "Moved extracted_face_eab83420-df68-4dee-b464-4ea535d218ca-1.jpg_0.png to TOO_SIMILAR - Similarity: 83.26%\n",
      "Moved extracted_face_eab83420-df68-4dee-b464-4ea535d218ca-1.jpg_1.png to TOO_SIMILAR - Similarity: 82.75%\n",
      "Moved extracted_face_eab83420-df68-4dee-b464-4ea535d218ca-1.jpg_3.png to TOO_SIMILAR - Similarity: 80.47%\n",
      "Moved extracted_face_eab83420-df68-4dee-b464-4ea535d218ca-1.jpg_4.png to TOO_SIMILAR - Similarity: 82.71%\n"
     ]
    },
    {
     "name": "stderr",
     "output_type": "stream",
     "text": [
      "Analyzing Similarity:  26%|██▌       | 3044/11826 [01:23<02:53, 50.56it/s]"
     ]
    },
    {
     "name": "stdout",
     "output_type": "stream",
     "text": [
      "Moved extracted_face_ebf615bd-fcc6-4ae9-ab21-215e9b9024e3.jpg_0.png to TOO_SIMILAR - Similarity: 82.97%\n",
      "Moved extracted_face_ED8AD31B-946F-4E13-92FC-6DA3FE0E0D4A.jpg_2.png to TOO_SIMILAR - Similarity: 81.53%\n",
      "Moved extracted_face_edd4befa-4966-4c45-9bb7-0c2461a77836.jpg_0.png to TOO_SIMILAR - Similarity: 81.59%\n"
     ]
    },
    {
     "name": "stderr",
     "output_type": "stream",
     "text": [
      "Analyzing Similarity:  26%|██▌       | 3062/11826 [01:23<02:54, 50.25it/s]"
     ]
    },
    {
     "name": "stdout",
     "output_type": "stream",
     "text": [
      "Moved extracted_face_Events_Reporter_002.jpg_0.png to TOO_SIMILAR - Similarity: 81.54%\n",
      "Moved extracted_face_Events_Reporter_002.jpg_2.png to TOO_SIMILAR - Similarity: 87.77%\n",
      "Moved extracted_face_Events_Reporter_002.jpg_4.png to TOO_SIMILAR - Similarity: 82.69%\n",
      "Moved extracted_face_Events_Reporter_005.jpg_0.png to TOO_SIMILAR - Similarity: 89.16%\n",
      "Moved extracted_face_Events_Reporter_005.jpg_1.png to TOO_SIMILAR - Similarity: 82.03%\n",
      "Moved extracted_face_Events_Reporter_005.jpg_10.png to TOO_SIMILAR - Similarity: 87.86%\n",
      "Moved extracted_face_Events_Reporter_005.jpg_100.png to TOO_SIMILAR - Similarity: 83.53%\n",
      "Moved extracted_face_Events_Reporter_005.jpg_101.png to TOO_SIMILAR - Similarity: 86.28%\n"
     ]
    },
    {
     "name": "stderr",
     "output_type": "stream",
     "text": [
      "Analyzing Similarity:  26%|██▌       | 3068/11826 [01:23<02:56, 49.65it/s]"
     ]
    },
    {
     "name": "stdout",
     "output_type": "stream",
     "text": [
      "Moved extracted_face_Events_Reporter_005.jpg_102.png to TOO_SIMILAR - Similarity: 85.72%\n",
      "Moved extracted_face_Events_Reporter_005.jpg_103.png to TOO_SIMILAR - Similarity: 88.30%\n",
      "Moved extracted_face_Events_Reporter_005.jpg_104.png to TOO_SIMILAR - Similarity: 87.35%\n",
      "Moved extracted_face_Events_Reporter_005.jpg_105.png to TOO_SIMILAR - Similarity: 83.50%\n",
      "Moved extracted_face_Events_Reporter_005.jpg_108.png to TOO_SIMILAR - Similarity: 87.09%\n",
      "Moved extracted_face_Events_Reporter_005.jpg_109.png to TOO_SIMILAR - Similarity: 88.17%\n",
      "Moved extracted_face_Events_Reporter_005.jpg_11.png to TOO_SIMILAR - Similarity: 81.63%\n"
     ]
    },
    {
     "name": "stderr",
     "output_type": "stream",
     "text": [
      "Analyzing Similarity:  26%|██▌       | 3080/11826 [01:24<02:44, 53.15it/s]"
     ]
    },
    {
     "name": "stdout",
     "output_type": "stream",
     "text": [
      "Moved extracted_face_Events_Reporter_005.jpg_111.png to TOO_SIMILAR - Similarity: 81.35%\n",
      "Moved extracted_face_Events_Reporter_005.jpg_113.png to TOO_SIMILAR - Similarity: 83.97%\n",
      "Moved extracted_face_Events_Reporter_005.jpg_114.png to TOO_SIMILAR - Similarity: 88.06%\n",
      "Moved extracted_face_Events_Reporter_005.jpg_116.png to TOO_SIMILAR - Similarity: 80.07%\n",
      "Moved extracted_face_Events_Reporter_005.jpg_119.png to TOO_SIMILAR - Similarity: 87.49%\n",
      "Moved extracted_face_Events_Reporter_005.jpg_12.png to TOO_SIMILAR - Similarity: 87.98%\n",
      "Moved extracted_face_Events_Reporter_005.jpg_120.png to TOO_SIMILAR - Similarity: 83.19%\n",
      "Moved extracted_face_Events_Reporter_005.jpg_121.png to TOO_SIMILAR - Similarity: 85.96%\n"
     ]
    },
    {
     "name": "stderr",
     "output_type": "stream",
     "text": [
      "Analyzing Similarity:  26%|██▌       | 3095/11826 [01:24<02:24, 60.56it/s]"
     ]
    },
    {
     "name": "stdout",
     "output_type": "stream",
     "text": [
      "Moved extracted_face_Events_Reporter_005.jpg_124.png to TOO_SIMILAR - Similarity: 87.56%\n",
      "Moved extracted_face_Events_Reporter_005.jpg_126.png to TOO_SIMILAR - Similarity: 81.77%\n",
      "Moved extracted_face_Events_Reporter_005.jpg_128.png to TOO_SIMILAR - Similarity: 81.44%\n",
      "Moved extracted_face_Events_Reporter_005.jpg_130.png to TOO_SIMILAR - Similarity: 87.13%\n",
      "Moved extracted_face_Events_Reporter_005.jpg_131.png to TOO_SIMILAR - Similarity: 85.43%\n",
      "Moved extracted_face_Events_Reporter_005.jpg_132.png to TOO_SIMILAR - Similarity: 81.90%\n",
      "Moved extracted_face_Events_Reporter_005.jpg_133.png to TOO_SIMILAR - Similarity: 85.33%\n",
      "Moved extracted_face_Events_Reporter_005.jpg_135.png to TOO_SIMILAR - Similarity: 85.46%\n"
     ]
    },
    {
     "name": "stderr",
     "output_type": "stream",
     "text": [
      "Analyzing Similarity:  26%|██▋       | 3111/11826 [01:24<02:13, 65.31it/s]"
     ]
    },
    {
     "name": "stdout",
     "output_type": "stream",
     "text": [
      "Moved extracted_face_Events_Reporter_005.jpg_137.png to TOO_SIMILAR - Similarity: 86.50%\n",
      "Moved extracted_face_Events_Reporter_005.jpg_138.png to TOO_SIMILAR - Similarity: 85.64%\n",
      "Moved extracted_face_Events_Reporter_005.jpg_139.png to TOO_SIMILAR - Similarity: 84.23%\n",
      "Moved extracted_face_Events_Reporter_005.jpg_14.png to TOO_SIMILAR - Similarity: 80.70%\n",
      "Moved extracted_face_Events_Reporter_005.jpg_140.png to TOO_SIMILAR - Similarity: 87.03%\n",
      "Moved extracted_face_Events_Reporter_005.jpg_141.png to TOO_SIMILAR - Similarity: 86.74%\n",
      "Moved extracted_face_Events_Reporter_005.jpg_144.png to TOO_SIMILAR - Similarity: 88.41%\n",
      "Moved extracted_face_Events_Reporter_005.jpg_145.png to TOO_SIMILAR - Similarity: 81.44%\n",
      "Moved extracted_face_Events_Reporter_005.jpg_146.png to TOO_SIMILAR - Similarity: 83.50%\n",
      "Moved extracted_face_Events_Reporter_005.jpg_148.png to TOO_SIMILAR - Similarity: 88.73%\n",
      "Moved extracted_face_Events_Reporter_005.jpg_149.png to TOO_SIMILAR - Similarity: 84.87%\n",
      "Moved extracted_face_Events_Reporter_005.jpg_15.png to TOO_SIMILAR - Similarity: 82.05%\n"
     ]
    },
    {
     "name": "stderr",
     "output_type": "stream",
     "text": [
      "Analyzing Similarity:  26%|██▋       | 3125/11826 [01:24<02:15, 64.42it/s]"
     ]
    },
    {
     "name": "stdout",
     "output_type": "stream",
     "text": [
      "Moved extracted_face_Events_Reporter_005.jpg_151.png to TOO_SIMILAR - Similarity: 81.03%\n",
      "Moved extracted_face_Events_Reporter_005.jpg_152.png to TOO_SIMILAR - Similarity: 82.66%\n",
      "Moved extracted_face_Events_Reporter_005.jpg_153.png to TOO_SIMILAR - Similarity: 82.73%\n",
      "Moved extracted_face_Events_Reporter_005.jpg_154.png to TOO_SIMILAR - Similarity: 81.78%\n",
      "Moved extracted_face_Events_Reporter_005.jpg_155.png to TOO_SIMILAR - Similarity: 89.99%\n",
      "Moved extracted_face_Events_Reporter_005.jpg_157.png to TOO_SIMILAR - Similarity: 84.75%\n",
      "Moved extracted_face_Events_Reporter_005.jpg_159.png to TOO_SIMILAR - Similarity: 83.45%\n",
      "Moved extracted_face_Events_Reporter_005.jpg_16.png to TOO_SIMILAR - Similarity: 87.48%\n",
      "Moved extracted_face_Events_Reporter_005.jpg_160.png to TOO_SIMILAR - Similarity: 84.64%\n",
      "Moved extracted_face_Events_Reporter_005.jpg_161.png to TOO_SIMILAR - Similarity: 83.70%\n",
      "Moved extracted_face_Events_Reporter_005.jpg_162.png to TOO_SIMILAR - Similarity: 83.78%\n"
     ]
    },
    {
     "name": "stderr",
     "output_type": "stream",
     "text": [
      "Analyzing Similarity:  27%|██▋       | 3139/11826 [01:24<02:27, 58.83it/s]"
     ]
    },
    {
     "name": "stdout",
     "output_type": "stream",
     "text": [
      "Moved extracted_face_Events_Reporter_005.jpg_17.png to TOO_SIMILAR - Similarity: 86.37%\n",
      "Moved extracted_face_Events_Reporter_005.jpg_18.png to TOO_SIMILAR - Similarity: 84.41%\n",
      "Moved extracted_face_Events_Reporter_005.jpg_19.png to TOO_SIMILAR - Similarity: 85.72%\n",
      "Moved extracted_face_Events_Reporter_005.jpg_2.png to TOO_SIMILAR - Similarity: 84.28%\n",
      "Moved extracted_face_Events_Reporter_005.jpg_20.png to TOO_SIMILAR - Similarity: 81.82%\n",
      "Moved extracted_face_Events_Reporter_005.jpg_21.png to TOO_SIMILAR - Similarity: 88.55%\n",
      "Moved extracted_face_Events_Reporter_005.jpg_22.png to TOO_SIMILAR - Similarity: 82.13%\n",
      "Moved extracted_face_Events_Reporter_005.jpg_23.png to TOO_SIMILAR - Similarity: 84.59%\n",
      "Moved extracted_face_Events_Reporter_005.jpg_24.png to TOO_SIMILAR - Similarity: 85.95%\n",
      "Moved extracted_face_Events_Reporter_005.jpg_25.png to TOO_SIMILAR - Similarity: 86.73%\n",
      "Moved extracted_face_Events_Reporter_005.jpg_26.png to TOO_SIMILAR - Similarity: 87.03%\n"
     ]
    },
    {
     "name": "stderr",
     "output_type": "stream",
     "text": [
      "Analyzing Similarity:  27%|██▋       | 3151/11826 [01:25<02:32, 56.70it/s]"
     ]
    },
    {
     "name": "stdout",
     "output_type": "stream",
     "text": [
      "Moved extracted_face_Events_Reporter_005.jpg_27.png to TOO_SIMILAR - Similarity: 89.26%\n",
      "Moved extracted_face_Events_Reporter_005.jpg_28.png to TOO_SIMILAR - Similarity: 87.38%\n",
      "Moved extracted_face_Events_Reporter_005.jpg_29.png to TOO_SIMILAR - Similarity: 86.31%\n",
      "Moved extracted_face_Events_Reporter_005.jpg_3.png to TOO_SIMILAR - Similarity: 86.69%\n",
      "Moved extracted_face_Events_Reporter_005.jpg_30.png to TOO_SIMILAR - Similarity: 86.59%\n",
      "Moved extracted_face_Events_Reporter_005.jpg_31.png to TOO_SIMILAR - Similarity: 84.42%\n",
      "Moved extracted_face_Events_Reporter_005.jpg_32.png to TOO_SIMILAR - Similarity: 88.52%\n",
      "Moved extracted_face_Events_Reporter_005.jpg_33.png to TOO_SIMILAR - Similarity: 85.61%\n",
      "Moved extracted_face_Events_Reporter_005.jpg_34.png to TOO_SIMILAR - Similarity: 86.78%\n",
      "Moved extracted_face_Events_Reporter_005.jpg_35.png to TOO_SIMILAR - Similarity: 87.01%\n",
      "Moved extracted_face_Events_Reporter_005.jpg_36.png to TOO_SIMILAR - Similarity: 85.74%\n",
      "Moved extracted_face_Events_Reporter_005.jpg_37.png to TOO_SIMILAR - Similarity: 84.37%\n",
      "Moved extracted_face_Events_Reporter_005.jpg_38.png to TOO_SIMILAR - Similarity: 86.76%\n"
     ]
    },
    {
     "name": "stderr",
     "output_type": "stream",
     "text": [
      "Analyzing Similarity:  27%|██▋       | 3157/11826 [01:25<02:50, 50.89it/s]"
     ]
    },
    {
     "name": "stdout",
     "output_type": "stream",
     "text": [
      "Moved extracted_face_Events_Reporter_005.jpg_39.png to TOO_SIMILAR - Similarity: 86.83%\n",
      "Moved extracted_face_Events_Reporter_005.jpg_4.png to TOO_SIMILAR - Similarity: 80.19%\n",
      "Moved extracted_face_Events_Reporter_005.jpg_40.png to TOO_SIMILAR - Similarity: 88.67%\n",
      "Moved extracted_face_Events_Reporter_005.jpg_41.png to TOO_SIMILAR - Similarity: 85.96%\n",
      "Moved extracted_face_Events_Reporter_005.jpg_42.png to TOO_SIMILAR - Similarity: 87.44%\n",
      "Moved extracted_face_Events_Reporter_005.jpg_43.png to TOO_SIMILAR - Similarity: 84.57%\n",
      "Moved extracted_face_Events_Reporter_005.jpg_44.png to TOO_SIMILAR - Similarity: 87.06%\n"
     ]
    },
    {
     "name": "stderr",
     "output_type": "stream",
     "text": [
      "Analyzing Similarity:  27%|██▋       | 3169/11826 [01:25<02:56, 49.13it/s]"
     ]
    },
    {
     "name": "stdout",
     "output_type": "stream",
     "text": [
      "Moved extracted_face_Events_Reporter_005.jpg_46.png to TOO_SIMILAR - Similarity: 87.95%\n",
      "Moved extracted_face_Events_Reporter_005.jpg_47.png to TOO_SIMILAR - Similarity: 81.16%\n",
      "Moved extracted_face_Events_Reporter_005.jpg_48.png to TOO_SIMILAR - Similarity: 80.21%\n",
      "Moved extracted_face_Events_Reporter_005.jpg_49.png to TOO_SIMILAR - Similarity: 85.43%\n",
      "Moved extracted_face_Events_Reporter_005.jpg_5.png to TOO_SIMILAR - Similarity: 88.32%\n",
      "Moved extracted_face_Events_Reporter_005.jpg_50.png to TOO_SIMILAR - Similarity: 88.00%\n",
      "Moved extracted_face_Events_Reporter_005.jpg_51.png to TOO_SIMILAR - Similarity: 85.44%\n",
      "Moved extracted_face_Events_Reporter_005.jpg_54.png to TOO_SIMILAR - Similarity: 85.99%\n",
      "Moved extracted_face_Events_Reporter_005.jpg_56.png to TOO_SIMILAR - Similarity: 81.45%\n"
     ]
    },
    {
     "name": "stderr",
     "output_type": "stream",
     "text": [
      "Analyzing Similarity:  27%|██▋       | 3183/11826 [01:25<02:37, 54.93it/s]"
     ]
    },
    {
     "name": "stdout",
     "output_type": "stream",
     "text": [
      "Moved extracted_face_Events_Reporter_005.jpg_57.png to TOO_SIMILAR - Similarity: 84.66%\n",
      "Moved extracted_face_Events_Reporter_005.jpg_58.png to TOO_SIMILAR - Similarity: 85.74%\n",
      "Moved extracted_face_Events_Reporter_005.jpg_6.png to TOO_SIMILAR - Similarity: 83.27%\n",
      "Moved extracted_face_Events_Reporter_005.jpg_60.png to TOO_SIMILAR - Similarity: 87.07%\n",
      "Moved extracted_face_Events_Reporter_005.jpg_61.png to TOO_SIMILAR - Similarity: 87.12%\n",
      "Moved extracted_face_Events_Reporter_005.jpg_63.png to TOO_SIMILAR - Similarity: 87.32%\n",
      "Moved extracted_face_Events_Reporter_005.jpg_65.png to TOO_SIMILAR - Similarity: 80.02%\n",
      "Moved extracted_face_Events_Reporter_005.jpg_66.png to TOO_SIMILAR - Similarity: 86.19%\n",
      "Moved extracted_face_Events_Reporter_005.jpg_67.png to TOO_SIMILAR - Similarity: 87.03%\n",
      "Moved extracted_face_Events_Reporter_005.jpg_68.png to TOO_SIMILAR - Similarity: 85.88%\n"
     ]
    },
    {
     "name": "stderr",
     "output_type": "stream",
     "text": [
      "Analyzing Similarity:  27%|██▋       | 3196/11826 [01:26<02:34, 55.87it/s]"
     ]
    },
    {
     "name": "stdout",
     "output_type": "stream",
     "text": [
      "Moved extracted_face_Events_Reporter_005.jpg_69.png to TOO_SIMILAR - Similarity: 82.50%\n",
      "Moved extracted_face_Events_Reporter_005.jpg_7.png to TOO_SIMILAR - Similarity: 87.17%\n",
      "Moved extracted_face_Events_Reporter_005.jpg_70.png to TOO_SIMILAR - Similarity: 86.05%\n",
      "Moved extracted_face_Events_Reporter_005.jpg_71.png to TOO_SIMILAR - Similarity: 85.48%\n",
      "Moved extracted_face_Events_Reporter_005.jpg_72.png to TOO_SIMILAR - Similarity: 85.47%\n",
      "Moved extracted_face_Events_Reporter_005.jpg_73.png to TOO_SIMILAR - Similarity: 85.62%\n",
      "Moved extracted_face_Events_Reporter_005.jpg_74.png to TOO_SIMILAR - Similarity: 80.99%\n",
      "Moved extracted_face_Events_Reporter_005.jpg_75.png to TOO_SIMILAR - Similarity: 88.09%\n",
      "Moved extracted_face_Events_Reporter_005.jpg_76.png to TOO_SIMILAR - Similarity: 84.74%\n",
      "Moved extracted_face_Events_Reporter_005.jpg_77.png to TOO_SIMILAR - Similarity: 82.07%\n",
      "Moved extracted_face_Events_Reporter_005.jpg_78.png to TOO_SIMILAR - Similarity: 86.61%\n"
     ]
    },
    {
     "name": "stderr",
     "output_type": "stream",
     "text": [
      "Analyzing Similarity:  27%|██▋       | 3209/11826 [01:26<02:24, 59.56it/s]"
     ]
    },
    {
     "name": "stdout",
     "output_type": "stream",
     "text": [
      "Moved extracted_face_Events_Reporter_005.jpg_8.png to TOO_SIMILAR - Similarity: 86.59%\n",
      "Moved extracted_face_Events_Reporter_005.jpg_80.png to TOO_SIMILAR - Similarity: 85.28%\n",
      "Moved extracted_face_Events_Reporter_005.jpg_81.png to TOO_SIMILAR - Similarity: 82.79%\n",
      "Moved extracted_face_Events_Reporter_005.jpg_82.png to TOO_SIMILAR - Similarity: 88.35%\n",
      "Moved extracted_face_Events_Reporter_005.jpg_83.png to TOO_SIMILAR - Similarity: 84.74%\n",
      "Moved extracted_face_Events_Reporter_005.jpg_84.png to TOO_SIMILAR - Similarity: 88.97%\n",
      "Moved extracted_face_Events_Reporter_005.jpg_85.png to TOO_SIMILAR - Similarity: 86.64%\n",
      "Moved extracted_face_Events_Reporter_005.jpg_87.png to TOO_SIMILAR - Similarity: 86.81%\n",
      "Moved extracted_face_Events_Reporter_005.jpg_88.png to TOO_SIMILAR - Similarity: 86.03%\n",
      "Moved extracted_face_Events_Reporter_005.jpg_89.png to TOO_SIMILAR - Similarity: 84.84%\n",
      "Moved extracted_face_Events_Reporter_005.jpg_9.png to TOO_SIMILAR - Similarity: 88.26%\n",
      "Moved extracted_face_Events_Reporter_005.jpg_90.png to TOO_SIMILAR - Similarity: 84.30%\n",
      "Moved extracted_face_Events_Reporter_005.jpg_91.png to TOO_SIMILAR - Similarity: 81.63%\n"
     ]
    },
    {
     "name": "stderr",
     "output_type": "stream",
     "text": [
      "Analyzing Similarity:  27%|██▋       | 3224/11826 [01:26<02:12, 65.00it/s]"
     ]
    },
    {
     "name": "stdout",
     "output_type": "stream",
     "text": [
      "Moved extracted_face_Events_Reporter_005.jpg_93.png to TOO_SIMILAR - Similarity: 86.39%\n",
      "Moved extracted_face_Events_Reporter_005.jpg_94.png to TOO_SIMILAR - Similarity: 86.48%\n",
      "Moved extracted_face_Events_Reporter_005.jpg_95.png to TOO_SIMILAR - Similarity: 86.35%\n",
      "Moved extracted_face_Events_Reporter_005.jpg_96.png to TOO_SIMILAR - Similarity: 80.21%\n",
      "Moved extracted_face_Events_Reporter_005.jpg_97.png to TOO_SIMILAR - Similarity: 81.28%\n"
     ]
    },
    {
     "name": "stderr",
     "output_type": "stream",
     "text": [
      "Analyzing Similarity:  27%|██▋       | 3239/11826 [01:26<02:07, 67.51it/s]"
     ]
    },
    {
     "name": "stdout",
     "output_type": "stream",
     "text": [
      "Moved extracted_face_Events_Reporter_011.jpg_5.png to TOO_SIMILAR - Similarity: 84.61%\n",
      "Moved extracted_face_f3e3b922-dd3e-4f25-aa4e-986fa9805566.jpg_0.png to TOO_SIMILAR - Similarity: 82.42%\n",
      "Moved extracted_face_f40dc62d-6e33-48c5-a348-0954cf2f0c52.jpg_2.png to TOO_SIMILAR - Similarity: 80.56%\n",
      "Moved extracted_face_f688869a-da50-4357-9c55-afcb5b5f247e.jpg_0.png to TOO_SIMILAR - Similarity: 83.42%\n",
      "Moved extracted_face_f7086a86-9ae6-491c-a6dc-04cfc786dbe6.jpg_0.png to TOO_SIMILAR - Similarity: 80.16%\n"
     ]
    },
    {
     "name": "stderr",
     "output_type": "stream",
     "text": [
      "Analyzing Similarity:  28%|██▊       | 3261/11826 [01:26<02:03, 69.52it/s]"
     ]
    },
    {
     "name": "stdout",
     "output_type": "stream",
     "text": [
      "Moved extracted_face_FDEF0B58-A2AC-434F-8A70-CEA406ED887E.jpg_0.png to TOO_SIMILAR - Similarity: 80.26%\n",
      "Moved extracted_face_FDEF0B58-A2AC-434F-8A70-CEA406ED887E.jpg_3.png to TOO_SIMILAR - Similarity: 85.94%\n",
      "Moved extracted_face_FDEF0B58-A2AC-434F-8A70-CEA406ED887E.jpg_5.png to TOO_SIMILAR - Similarity: 88.51%\n",
      "Moved extracted_face_FDEF0B58-A2AC-434F-8A70-CEA406ED887E.jpg_6.png to TOO_SIMILAR - Similarity: 83.25%\n",
      "Moved extracted_face_FDEF0B58-A2AC-434F-8A70-CEA406ED887E.jpg_7.png to TOO_SIMILAR - Similarity: 83.43%\n",
      "Moved extracted_face_feeead6f-e94f-4eee-b83a-fbe895f887dd.jpg_0.png to TOO_SIMILAR - Similarity: 82.36%\n"
     ]
    },
    {
     "name": "stderr",
     "output_type": "stream",
     "text": [
      "Analyzing Similarity:  28%|██▊       | 3276/11826 [01:27<02:02, 69.62it/s]"
     ]
    },
    {
     "name": "stdout",
     "output_type": "stream",
     "text": [
      "Moved extracted_face_FullSizeRender-5.JPEG_1.png to TOO_SIMILAR - Similarity: 83.54%\n",
      "Moved extracted_face_FullSizeRender-5.JPEG_6.png to TOO_SIMILAR - Similarity: 80.65%\n",
      "Moved extracted_face_IMG_0002.JPEG_1.png to TOO_SIMILAR - Similarity: 86.75%\n",
      "Moved extracted_face_IMG_0003.JPEG_1.png to TOO_SIMILAR - Similarity: 84.73%\n"
     ]
    },
    {
     "name": "stderr",
     "output_type": "stream",
     "text": [
      "Analyzing Similarity:  28%|██▊       | 3291/11826 [01:27<02:02, 69.52it/s]"
     ]
    },
    {
     "name": "stdout",
     "output_type": "stream",
     "text": [
      "Moved extracted_face_IMG_0004.JPEG_1.png to TOO_SIMILAR - Similarity: 81.23%\n",
      "Moved extracted_face_IMG_0005.JPEG_1.png to TOO_SIMILAR - Similarity: 84.10%\n",
      "Moved extracted_face_IMG_0005.JPEG_2.png to TOO_SIMILAR - Similarity: 83.06%\n",
      "Moved extracted_face_IMG_0006.JPEG_2.png to TOO_SIMILAR - Similarity: 85.42%\n",
      "Moved extracted_face_IMG_0006.JPEG_3.png to TOO_SIMILAR - Similarity: 85.25%\n",
      "Moved extracted_face_IMG_0009.JPG_0.png to TOO_SIMILAR - Similarity: 80.95%\n",
      "Moved extracted_face_IMG_0009.JPG_1.png to TOO_SIMILAR - Similarity: 81.73%\n"
     ]
    },
    {
     "name": "stderr",
     "output_type": "stream",
     "text": [
      "Analyzing Similarity:  28%|██▊       | 3305/11826 [01:27<02:04, 68.62it/s]"
     ]
    },
    {
     "name": "stdout",
     "output_type": "stream",
     "text": [
      "Moved extracted_face_IMG_0021.JPG_0.png to TOO_SIMILAR - Similarity: 81.59%\n",
      "Moved extracted_face_IMG_0028.JPEG_0.png to TOO_SIMILAR - Similarity: 83.54%\n",
      "Moved extracted_face_IMG_0028.JPEG_1.png to TOO_SIMILAR - Similarity: 81.77%\n",
      "Moved extracted_face_IMG_0028.JPEG_12.png to TOO_SIMILAR - Similarity: 83.57%\n",
      "Moved extracted_face_IMG_0028.JPEG_3.png to TOO_SIMILAR - Similarity: 86.45%\n",
      "Moved extracted_face_IMG_0028.JPEG_7.png to TOO_SIMILAR - Similarity: 80.06%\n"
     ]
    },
    {
     "name": "stderr",
     "output_type": "stream",
     "text": [
      "Analyzing Similarity:  28%|██▊       | 3320/11826 [01:27<02:07, 66.93it/s]"
     ]
    },
    {
     "name": "stdout",
     "output_type": "stream",
     "text": [
      "Moved extracted_face_IMG_0028.JPEG_9.png to TOO_SIMILAR - Similarity: 82.03%\n",
      "Moved extracted_face_IMG_0029.JPEG_0.png to TOO_SIMILAR - Similarity: 84.34%\n",
      "Moved extracted_face_IMG_0029.JPEG_10.png to TOO_SIMILAR - Similarity: 81.92%\n",
      "Moved extracted_face_IMG_0029.JPEG_11.png to TOO_SIMILAR - Similarity: 80.76%\n",
      "Moved extracted_face_IMG_0029.JPEG_12.png to TOO_SIMILAR - Similarity: 81.32%\n",
      "Moved extracted_face_IMG_0029.JPEG_15.png to TOO_SIMILAR - Similarity: 84.88%\n",
      "Moved extracted_face_IMG_0029.JPEG_2.png to TOO_SIMILAR - Similarity: 80.63%\n"
     ]
    },
    {
     "name": "stderr",
     "output_type": "stream",
     "text": [
      "Analyzing Similarity:  28%|██▊       | 3344/11826 [01:28<02:02, 69.37it/s]"
     ]
    },
    {
     "name": "stdout",
     "output_type": "stream",
     "text": [
      "Moved extracted_face_IMG_0029.JPEG_3.png to TOO_SIMILAR - Similarity: 84.82%\n",
      "Moved extracted_face_IMG_0029.JPEG_4.png to TOO_SIMILAR - Similarity: 83.94%\n",
      "Moved extracted_face_IMG_0029.JPEG_5.png to TOO_SIMILAR - Similarity: 83.42%\n",
      "Moved extracted_face_IMG_0029.JPEG_6.png to TOO_SIMILAR - Similarity: 85.59%\n",
      "Moved extracted_face_IMG_0029.JPEG_8.png to TOO_SIMILAR - Similarity: 81.21%\n",
      "Moved extracted_face_IMG_0029.JPEG_9.png to TOO_SIMILAR - Similarity: 81.11%\n",
      "Moved extracted_face_IMG_0030.JPEG_0.png to TOO_SIMILAR - Similarity: 84.45%\n",
      "Moved extracted_face_IMG_0030.JPEG_10.png to TOO_SIMILAR - Similarity: 84.31%\n",
      "Moved extracted_face_IMG_0030.JPEG_12.png to TOO_SIMILAR - Similarity: 82.21%\n"
     ]
    },
    {
     "name": "stderr",
     "output_type": "stream",
     "text": [
      "Analyzing Similarity:  28%|██▊       | 3360/11826 [01:28<02:03, 68.55it/s]"
     ]
    },
    {
     "name": "stdout",
     "output_type": "stream",
     "text": [
      "Moved extracted_face_IMG_0030.JPEG_2.png to TOO_SIMILAR - Similarity: 80.46%\n",
      "Moved extracted_face_IMG_0030.JPEG_23.png to TOO_SIMILAR - Similarity: 86.12%\n",
      "Moved extracted_face_IMG_0030.JPEG_3.png to TOO_SIMILAR - Similarity: 81.64%\n",
      "Moved extracted_face_IMG_0030.JPEG_4.png to TOO_SIMILAR - Similarity: 82.90%\n",
      "Moved extracted_face_IMG_0030.JPEG_5.png to TOO_SIMILAR - Similarity: 81.03%\n",
      "Moved extracted_face_IMG_0030.JPEG_6.png to TOO_SIMILAR - Similarity: 83.56%\n",
      "Moved extracted_face_IMG_0030.JPEG_7.png to TOO_SIMILAR - Similarity: 85.92%\n"
     ]
    },
    {
     "name": "stderr",
     "output_type": "stream",
     "text": [
      "Analyzing Similarity:  29%|██▊       | 3382/11826 [01:28<02:01, 69.56it/s]"
     ]
    },
    {
     "name": "stdout",
     "output_type": "stream",
     "text": [
      "Moved extracted_face_IMG_0031.JPEG_1.png to TOO_SIMILAR - Similarity: 85.94%\n",
      "Moved extracted_face_IMG_0031.JPEG_10.png to TOO_SIMILAR - Similarity: 82.63%\n",
      "Moved extracted_face_IMG_0031.JPEG_12.png to TOO_SIMILAR - Similarity: 80.11%\n",
      "Moved extracted_face_IMG_0031.JPEG_14.png to TOO_SIMILAR - Similarity: 82.70%\n",
      "Moved extracted_face_IMG_0031.JPEG_15.png to TOO_SIMILAR - Similarity: 80.37%\n",
      "Moved extracted_face_IMG_0031.JPEG_16.png to TOO_SIMILAR - Similarity: 81.73%\n",
      "Moved extracted_face_IMG_0031.JPEG_17.png to TOO_SIMILAR - Similarity: 80.52%\n",
      "Moved extracted_face_IMG_0031.JPEG_18.png to TOO_SIMILAR - Similarity: 85.65%\n",
      "Moved extracted_face_IMG_0031.JPEG_2.png to TOO_SIMILAR - Similarity: 84.18%\n"
     ]
    },
    {
     "name": "stderr",
     "output_type": "stream",
     "text": [
      "Analyzing Similarity:  29%|██▉       | 3404/11826 [01:29<01:58, 70.94it/s]"
     ]
    },
    {
     "name": "stdout",
     "output_type": "stream",
     "text": [
      "Moved extracted_face_IMG_0031.JPEG_3.png to TOO_SIMILAR - Similarity: 83.25%\n",
      "Moved extracted_face_IMG_0031.JPEG_5.png to TOO_SIMILAR - Similarity: 83.99%\n",
      "Moved extracted_face_IMG_0031.JPEG_6.png to TOO_SIMILAR - Similarity: 83.08%\n",
      "Moved extracted_face_IMG_0031.JPEG_8.png to TOO_SIMILAR - Similarity: 83.14%\n",
      "Moved extracted_face_IMG_0031.JPEG_9.png to TOO_SIMILAR - Similarity: 81.99%\n",
      "Moved extracted_face_IMG_0035.JPEG_0.png to TOO_SIMILAR - Similarity: 86.29%\n",
      "Moved extracted_face_IMG_0036.JPEG_0.png to TOO_SIMILAR - Similarity: 82.72%\n",
      "Moved extracted_face_IMG_0036.JPEG_1.png to TOO_SIMILAR - Similarity: 85.85%\n",
      "Moved extracted_face_IMG_0037.JPEG_1.png to TOO_SIMILAR - Similarity: 83.51%\n"
     ]
    },
    {
     "name": "stderr",
     "output_type": "stream",
     "text": [
      "Analyzing Similarity:  29%|██▉       | 3412/11826 [01:29<02:13, 63.24it/s]"
     ]
    },
    {
     "name": "stdout",
     "output_type": "stream",
     "text": [
      "Moved extracted_face_IMG_0040.JPEG_0.png to TOO_SIMILAR - Similarity: 82.14%\n",
      "Moved extracted_face_IMG_0041.JPEG_0.png to TOO_SIMILAR - Similarity: 80.58%\n",
      "Moved extracted_face_IMG_0050.JPEG_0.png to TOO_SIMILAR - Similarity: 83.26%\n",
      "Moved extracted_face_IMG_0051.JPEG_0.png to TOO_SIMILAR - Similarity: 82.81%\n",
      "Moved extracted_face_IMG_0051.JPEG_3.png to TOO_SIMILAR - Similarity: 82.78%\n"
     ]
    },
    {
     "name": "stderr",
     "output_type": "stream",
     "text": [
      "Analyzing Similarity:  29%|██▉       | 3419/11826 [01:29<02:40, 52.24it/s]"
     ]
    },
    {
     "name": "stdout",
     "output_type": "stream",
     "text": [
      "Moved extracted_face_IMG_0052.JPEG_0.png to TOO_SIMILAR - Similarity: 83.03%\n",
      "Moved extracted_face_IMG_0053.JPEG_0.png to TOO_SIMILAR - Similarity: 82.11%\n",
      "Moved extracted_face_IMG_0062.JPEG_0.png to TOO_SIMILAR - Similarity: 85.94%\n",
      "Moved extracted_face_IMG_0067.JPEG_3.png to TOO_SIMILAR - Similarity: 88.29%\n",
      "Moved extracted_face_IMG_0067.JPEG_4.png to TOO_SIMILAR - Similarity: 81.23%\n"
     ]
    },
    {
     "name": "stderr",
     "output_type": "stream",
     "text": [
      "Analyzing Similarity:  29%|██▉       | 3431/11826 [01:29<02:42, 51.66it/s]"
     ]
    },
    {
     "name": "stdout",
     "output_type": "stream",
     "text": [
      "Moved extracted_face_IMG_0067.JPEG_5.png to TOO_SIMILAR - Similarity: 84.79%\n",
      "Moved extracted_face_IMG_0068.JPEG_2.png to TOO_SIMILAR - Similarity: 82.73%\n",
      "Moved extracted_face_IMG_0068.JPEG_3.png to TOO_SIMILAR - Similarity: 81.27%\n",
      "Moved extracted_face_IMG_0068.JPEG_4.png to TOO_SIMILAR - Similarity: 88.86%\n"
     ]
    },
    {
     "name": "stderr",
     "output_type": "stream",
     "text": [
      "Analyzing Similarity:  29%|██▉       | 3452/11826 [01:29<02:18, 60.63it/s]"
     ]
    },
    {
     "name": "stdout",
     "output_type": "stream",
     "text": [
      "Moved extracted_face_IMG_0087.JPEG_0.png to TOO_SIMILAR - Similarity: 87.20%\n",
      "Moved extracted_face_IMG_0089.JPEG_0.png to TOO_SIMILAR - Similarity: 84.08%\n",
      "Moved extracted_face_IMG_0089.JPEG_1.png to TOO_SIMILAR - Similarity: 82.72%\n",
      "Moved extracted_face_IMG_0090.JPEG_0.png to TOO_SIMILAR - Similarity: 85.68%\n",
      "Moved extracted_face_IMG_0090.JPEG_1.png to TOO_SIMILAR - Similarity: 86.02%\n",
      "Moved extracted_face_IMG_0091.JPEG_0.png to TOO_SIMILAR - Similarity: 86.58%\n",
      "Moved extracted_face_IMG_0131.JPEG_2.png to TOO_SIMILAR - Similarity: 84.82%\n",
      "Moved extracted_face_IMG_0133.JPEG_1.png to TOO_SIMILAR - Similarity: 84.64%\n"
     ]
    },
    {
     "name": "stderr",
     "output_type": "stream",
     "text": [
      "Analyzing Similarity:  29%|██▉       | 3467/11826 [01:30<02:08, 65.26it/s]"
     ]
    },
    {
     "name": "stdout",
     "output_type": "stream",
     "text": [
      "Moved extracted_face_IMG_0135.JPEG_1.png to TOO_SIMILAR - Similarity: 80.03%\n",
      "Moved extracted_face_IMG_0135.JPEG_2.png to TOO_SIMILAR - Similarity: 86.20%\n",
      "Moved extracted_face_IMG_0136.JPEG_1.png to TOO_SIMILAR - Similarity: 83.96%\n",
      "Moved extracted_face_IMG_0136.JPEG_2.png to TOO_SIMILAR - Similarity: 89.05%\n",
      "Moved extracted_face_IMG_0137.JPEG_3.png to TOO_SIMILAR - Similarity: 86.61%\n",
      "Moved extracted_face_IMG_0138.JPEG_1.png to TOO_SIMILAR - Similarity: 82.57%\n",
      "Moved extracted_face_IMG_0138.JPEG_3.png to TOO_SIMILAR - Similarity: 89.22%\n"
     ]
    },
    {
     "name": "stderr",
     "output_type": "stream",
     "text": [
      "Analyzing Similarity:  30%|██▉       | 3490/11826 [01:30<02:00, 69.00it/s]"
     ]
    },
    {
     "name": "stdout",
     "output_type": "stream",
     "text": [
      "Moved extracted_face_IMG_0222.JPEG_4.png to TOO_SIMILAR - Similarity: 84.94%\n",
      "Moved extracted_face_IMG_0223.JPEG_4.png to TOO_SIMILAR - Similarity: 82.64%\n",
      "Moved extracted_face_IMG_0224.JPG_4.png to TOO_SIMILAR - Similarity: 82.13%\n"
     ]
    },
    {
     "name": "stderr",
     "output_type": "stream",
     "text": [
      "Analyzing Similarity:  30%|██▉       | 3514/11826 [01:30<01:58, 70.42it/s]"
     ]
    },
    {
     "name": "stdout",
     "output_type": "stream",
     "text": [
      "Moved extracted_face_IMG_0229.JPEG_1.png to TOO_SIMILAR - Similarity: 80.76%\n",
      "Moved extracted_face_IMG_0232.JPEG_2.png to TOO_SIMILAR - Similarity: 82.02%\n"
     ]
    },
    {
     "name": "stderr",
     "output_type": "stream",
     "text": [
      "Analyzing Similarity:  30%|██▉       | 3530/11826 [01:31<01:52, 73.71it/s]"
     ]
    },
    {
     "name": "stdout",
     "output_type": "stream",
     "text": [
      "Moved extracted_face_IMG_0242.JPEG_0.png to TOO_SIMILAR - Similarity: 82.04%\n",
      "Moved extracted_face_IMG_0242.JPEG_4.png to TOO_SIMILAR - Similarity: 83.91%\n",
      "Moved extracted_face_IMG_0242.JPEG_6.png to TOO_SIMILAR - Similarity: 80.04%\n",
      "Moved extracted_face_IMG_0255.JPEG_1.png to TOO_SIMILAR - Similarity: 80.22%\n",
      "Moved extracted_face_IMG_0290.JPG_1.png to TOO_SIMILAR - Similarity: 83.05%\n",
      "Moved extracted_face_IMG_0290.JPG_2.png to TOO_SIMILAR - Similarity: 84.13%\n"
     ]
    },
    {
     "name": "stderr",
     "output_type": "stream",
     "text": [
      "Analyzing Similarity:  30%|██▉       | 3547/11826 [01:31<01:49, 75.32it/s]"
     ]
    },
    {
     "name": "stdout",
     "output_type": "stream",
     "text": [
      "Moved extracted_face_IMG_0323.JPG_3.png to TOO_SIMILAR - Similarity: 84.20%\n",
      "Moved extracted_face_IMG_0328.JPG_3.png to TOO_SIMILAR - Similarity: 81.69%\n",
      "Moved extracted_face_IMG_0333.JPG_0.png to TOO_SIMILAR - Similarity: 80.96%\n",
      "Moved extracted_face_IMG_0333.JPG_2.png to TOO_SIMILAR - Similarity: 82.42%\n",
      "Moved extracted_face_IMG_0337.PNG_0.png to TOO_SIMILAR - Similarity: 80.44%\n",
      "Moved extracted_face_IMG_0337.PNG_3.png to TOO_SIMILAR - Similarity: 81.48%\n"
     ]
    },
    {
     "name": "stderr",
     "output_type": "stream",
     "text": [
      "Analyzing Similarity:  30%|███       | 3563/11826 [01:31<01:50, 74.73it/s]"
     ]
    },
    {
     "name": "stdout",
     "output_type": "stream",
     "text": [
      "Moved extracted_face_IMG_0338.JPG_1.png to TOO_SIMILAR - Similarity: 83.98%\n",
      "Moved extracted_face_IMG_0338.PNG_1.png to TOO_SIMILAR - Similarity: 81.41%\n",
      "Moved extracted_face_IMG_0340.JPG_0.png to TOO_SIMILAR - Similarity: 80.99%\n",
      "Moved extracted_face_IMG_0340.JPG_1.png to TOO_SIMILAR - Similarity: 80.52%\n",
      "Moved extracted_face_IMG_0344.JPG_1.png to TOO_SIMILAR - Similarity: 81.58%\n",
      "Moved extracted_face_IMG_0348.JPEG_0.png to TOO_SIMILAR - Similarity: 82.38%\n",
      "Moved extracted_face_IMG_0348.JPEG_10.png to TOO_SIMILAR - Similarity: 85.47%\n",
      "Moved extracted_face_IMG_0348.JPEG_2.png to TOO_SIMILAR - Similarity: 82.84%\n",
      "Moved extracted_face_IMG_0348.JPEG_3.png to TOO_SIMILAR - Similarity: 85.01%\n",
      "Moved extracted_face_IMG_0348.JPEG_4.png to TOO_SIMILAR - Similarity: 86.15%\n"
     ]
    },
    {
     "name": "stderr",
     "output_type": "stream",
     "text": [
      "Analyzing Similarity:  30%|███       | 3579/11826 [01:31<01:51, 73.69it/s]"
     ]
    },
    {
     "name": "stdout",
     "output_type": "stream",
     "text": [
      "Moved extracted_face_IMG_0348.JPEG_5.png to TOO_SIMILAR - Similarity: 84.14%\n",
      "Moved extracted_face_IMG_0348.JPEG_8.png to TOO_SIMILAR - Similarity: 83.91%\n",
      "Moved extracted_face_IMG_0349.JPEG_0.png to TOO_SIMILAR - Similarity: 82.57%\n",
      "Moved extracted_face_IMG_0349.JPEG_12.png to TOO_SIMILAR - Similarity: 82.42%\n",
      "Moved extracted_face_IMG_0349.JPEG_13.png to TOO_SIMILAR - Similarity: 81.35%\n",
      "Moved extracted_face_IMG_0349.JPEG_4.png to TOO_SIMILAR - Similarity: 82.37%\n"
     ]
    },
    {
     "name": "stderr",
     "output_type": "stream",
     "text": [
      "Analyzing Similarity:  30%|███       | 3595/11826 [01:31<01:56, 70.78it/s]"
     ]
    },
    {
     "name": "stdout",
     "output_type": "stream",
     "text": [
      "Moved extracted_face_IMG_0349.JPEG_5.png to TOO_SIMILAR - Similarity: 84.88%\n",
      "Moved extracted_face_IMG_0349.JPEG_6.png to TOO_SIMILAR - Similarity: 83.03%\n",
      "Moved extracted_face_IMG_0349.JPEG_7.png to TOO_SIMILAR - Similarity: 85.90%\n",
      "Moved extracted_face_IMG_0349.JPEG_8.png to TOO_SIMILAR - Similarity: 83.50%\n",
      "Moved extracted_face_IMG_0350.JPEG_0.png to TOO_SIMILAR - Similarity: 83.68%\n",
      "Moved extracted_face_IMG_0350.JPEG_1.png to TOO_SIMILAR - Similarity: 86.46%\n",
      "Moved extracted_face_IMG_0350.JPEG_11.png to TOO_SIMILAR - Similarity: 85.15%\n",
      "Moved extracted_face_IMG_0350.JPEG_12.png to TOO_SIMILAR - Similarity: 83.16%\n",
      "Moved extracted_face_IMG_0350.JPEG_14.png to TOO_SIMILAR - Similarity: 81.20%\n",
      "Moved extracted_face_IMG_0350.JPEG_4.png to TOO_SIMILAR - Similarity: 84.58%\n"
     ]
    },
    {
     "name": "stderr",
     "output_type": "stream",
     "text": [
      "Analyzing Similarity:  31%|███       | 3611/11826 [01:32<01:52, 72.91it/s]"
     ]
    },
    {
     "name": "stdout",
     "output_type": "stream",
     "text": [
      "Moved extracted_face_IMG_0350.JPEG_6.png to TOO_SIMILAR - Similarity: 83.63%\n",
      "Moved extracted_face_IMG_0350.JPEG_7.png to TOO_SIMILAR - Similarity: 86.37%\n",
      "Moved extracted_face_IMG_0350.JPEG_8.png to TOO_SIMILAR - Similarity: 83.63%\n",
      "Moved extracted_face_IMG_0352.JPG_2.png to TOO_SIMILAR - Similarity: 84.78%\n",
      "Moved extracted_face_IMG_0355.JPEG_0.png to TOO_SIMILAR - Similarity: 83.12%\n",
      "Moved extracted_face_IMG_0355.JPEG_2.png to TOO_SIMILAR - Similarity: 85.18%\n"
     ]
    },
    {
     "name": "stderr",
     "output_type": "stream",
     "text": [
      "Analyzing Similarity:  31%|███       | 3627/11826 [01:32<01:56, 70.53it/s]"
     ]
    },
    {
     "name": "stdout",
     "output_type": "stream",
     "text": [
      "Moved extracted_face_IMG_0364.JPG_1.png to TOO_SIMILAR - Similarity: 80.66%\n",
      "Moved extracted_face_IMG_0378.JPG_1.png to TOO_SIMILAR - Similarity: 80.56%\n",
      "Moved extracted_face_IMG_0378.JPG_4.png to TOO_SIMILAR - Similarity: 81.06%\n",
      "Moved extracted_face_IMG_0378.JPG_7.png to TOO_SIMILAR - Similarity: 80.08%\n",
      "Moved extracted_face_IMG_0379.JPEG_1.png to TOO_SIMILAR - Similarity: 85.53%\n",
      "Moved extracted_face_IMG_0379.JPEG_2.png to TOO_SIMILAR - Similarity: 83.64%\n",
      "Moved extracted_face_IMG_0379.JPEG_3.png to TOO_SIMILAR - Similarity: 83.27%\n"
     ]
    },
    {
     "name": "stderr",
     "output_type": "stream",
     "text": [
      "Analyzing Similarity:  31%|███       | 3642/11826 [01:32<02:00, 67.99it/s]"
     ]
    },
    {
     "name": "stdout",
     "output_type": "stream",
     "text": [
      "Moved extracted_face_IMG_0379.JPEG_4.png to TOO_SIMILAR - Similarity: 80.16%\n",
      "Moved extracted_face_IMG_0379.JPEG_6.png to TOO_SIMILAR - Similarity: 85.14%\n",
      "Moved extracted_face_IMG_0380.JPEG_0.png to TOO_SIMILAR - Similarity: 86.54%\n",
      "Moved extracted_face_IMG_0380.JPEG_2.png to TOO_SIMILAR - Similarity: 82.05%\n",
      "Moved extracted_face_IMG_0380.JPEG_3.png to TOO_SIMILAR - Similarity: 83.71%\n",
      "Moved extracted_face_IMG_0380.JPEG_4.png to TOO_SIMILAR - Similarity: 87.18%\n",
      "Moved extracted_face_IMG_0380.JPEG_6.png to TOO_SIMILAR - Similarity: 86.65%\n",
      "Moved extracted_face_IMG_0381.JPEG_1.png to TOO_SIMILAR - Similarity: 86.72%\n",
      "Moved extracted_face_IMG_0381.JPEG_2.png to TOO_SIMILAR - Similarity: 83.65%\n",
      "Moved extracted_face_IMG_0381.JPEG_3.png to TOO_SIMILAR - Similarity: 89.21%\n"
     ]
    },
    {
     "name": "stderr",
     "output_type": "stream",
     "text": [
      "Analyzing Similarity:  31%|███       | 3656/11826 [01:32<02:06, 64.69it/s]"
     ]
    },
    {
     "name": "stdout",
     "output_type": "stream",
     "text": [
      "Moved extracted_face_IMG_0381.JPEG_4.png to TOO_SIMILAR - Similarity: 80.17%\n",
      "Moved extracted_face_IMG_0382.PNG_1.png to TOO_SIMILAR - Similarity: 84.99%\n",
      "Moved extracted_face_IMG_0382.PNG_3.png to TOO_SIMILAR - Similarity: 80.59%\n",
      "Moved extracted_face_IMG_0382.PNG_4.png to TOO_SIMILAR - Similarity: 83.91%\n",
      "Moved extracted_face_IMG_0382.PNG_5.png to TOO_SIMILAR - Similarity: 82.59%\n",
      "Moved extracted_face_IMG_0383.JPG_1.png to TOO_SIMILAR - Similarity: 81.82%\n"
     ]
    },
    {
     "name": "stderr",
     "output_type": "stream",
     "text": [
      "Analyzing Similarity:  31%|███       | 3670/11826 [01:33<02:30, 54.04it/s]"
     ]
    },
    {
     "name": "stdout",
     "output_type": "stream",
     "text": [
      "Moved extracted_face_IMG_0388.JPG_0.png to TOO_SIMILAR - Similarity: 83.08%\n",
      "Moved extracted_face_IMG_0388.JPG_1.png to TOO_SIMILAR - Similarity: 80.11%\n",
      "Moved extracted_face_IMG_0399.JPEG_0.png to TOO_SIMILAR - Similarity: 89.35%\n",
      "Moved extracted_face_IMG_0400.JPEG_0.png to TOO_SIMILAR - Similarity: 83.72%\n"
     ]
    },
    {
     "name": "stderr",
     "output_type": "stream",
     "text": [
      "Analyzing Similarity:  31%|███       | 3683/11826 [01:33<02:24, 56.29it/s]"
     ]
    },
    {
     "name": "stdout",
     "output_type": "stream",
     "text": [
      "Moved extracted_face_IMG_0400.JPEG_1.png to TOO_SIMILAR - Similarity: 86.99%\n",
      "Moved extracted_face_IMG_0400.JPEG_12.png to TOO_SIMILAR - Similarity: 87.66%\n",
      "Moved extracted_face_IMG_0400.JPEG_2.png to TOO_SIMILAR - Similarity: 85.23%\n",
      "Moved extracted_face_IMG_0400.JPEG_3.png to TOO_SIMILAR - Similarity: 86.31%\n",
      "Moved extracted_face_IMG_0400.JPEG_4.png to TOO_SIMILAR - Similarity: 81.91%\n",
      "Moved extracted_face_IMG_0400.JPEG_5.png to TOO_SIMILAR - Similarity: 84.06%\n",
      "Moved extracted_face_IMG_0400.JPEG_7.png to TOO_SIMILAR - Similarity: 87.15%\n",
      "Moved extracted_face_IMG_0400.JPEG_8.png to TOO_SIMILAR - Similarity: 87.04%\n",
      "Moved extracted_face_IMG_0400.JPEG_9.png to TOO_SIMILAR - Similarity: 81.48%\n",
      "Moved extracted_face_IMG_0400.JPG_0.png to TOO_SIMILAR - Similarity: 86.45%\n"
     ]
    },
    {
     "name": "stderr",
     "output_type": "stream",
     "text": [
      "Analyzing Similarity:  31%|███▏      | 3703/11826 [01:33<02:14, 60.34it/s]"
     ]
    },
    {
     "name": "stdout",
     "output_type": "stream",
     "text": [
      "Moved extracted_face_IMG_0411.JPG_3.png to TOO_SIMILAR - Similarity: 80.73%\n",
      "Moved extracted_face_IMG_0427.JPG_0.png to TOO_SIMILAR - Similarity: 83.31%\n",
      "Moved extracted_face_IMG_0427.JPG_3.png to TOO_SIMILAR - Similarity: 86.04%\n",
      "Moved extracted_face_IMG_0428.JPG_0.png to TOO_SIMILAR - Similarity: 82.51%\n",
      "Moved extracted_face_IMG_0428.JPG_1.png to TOO_SIMILAR - Similarity: 85.91%\n",
      "Moved extracted_face_IMG_0433.JPG_1.png to TOO_SIMILAR - Similarity: 86.09%\n"
     ]
    },
    {
     "name": "stderr",
     "output_type": "stream",
     "text": [
      "Analyzing Similarity:  31%|███▏      | 3717/11826 [01:33<02:14, 60.50it/s]"
     ]
    },
    {
     "name": "stdout",
     "output_type": "stream",
     "text": [
      "Moved extracted_face_IMG_0433.JPG_3.png to TOO_SIMILAR - Similarity: 83.02%\n",
      "Moved extracted_face_IMG_0434.JPG_3.png to TOO_SIMILAR - Similarity: 86.33%\n",
      "Moved extracted_face_IMG_0434.JPG_4.png to TOO_SIMILAR - Similarity: 85.58%\n",
      "Moved extracted_face_IMG_0435.JPG_1.png to TOO_SIMILAR - Similarity: 86.15%\n",
      "Moved extracted_face_IMG_0435.JPG_4.png to TOO_SIMILAR - Similarity: 84.45%\n",
      "Moved extracted_face_IMG_0436.JPG_2.png to TOO_SIMILAR - Similarity: 80.80%\n",
      "Moved extracted_face_IMG_0436.JPG_3.png to TOO_SIMILAR - Similarity: 83.88%\n"
     ]
    },
    {
     "name": "stderr",
     "output_type": "stream",
     "text": [
      "Analyzing Similarity:  32%|███▏      | 3732/11826 [01:34<02:04, 65.24it/s]"
     ]
    },
    {
     "name": "stdout",
     "output_type": "stream",
     "text": [
      "Moved extracted_face_IMG_0444.JPG_2.png to TOO_SIMILAR - Similarity: 80.30%\n",
      "Moved extracted_face_IMG_0447.JPG_1.png to TOO_SIMILAR - Similarity: 81.70%\n",
      "Moved extracted_face_IMG_0453.JPG_0.png to TOO_SIMILAR - Similarity: 85.97%\n",
      "Moved extracted_face_IMG_0459.JPG_0.png to TOO_SIMILAR - Similarity: 83.98%\n",
      "Moved extracted_face_IMG_0459.JPG_1.png to TOO_SIMILAR - Similarity: 81.30%\n",
      "Moved extracted_face_IMG_0459.JPG_3.png to TOO_SIMILAR - Similarity: 80.40%\n",
      "Moved extracted_face_IMG_0460.JPG_0.png to TOO_SIMILAR - Similarity: 82.62%\n"
     ]
    },
    {
     "name": "stderr",
     "output_type": "stream",
     "text": [
      "Analyzing Similarity:  32%|███▏      | 3747/11826 [01:34<01:58, 68.23it/s]"
     ]
    },
    {
     "name": "stdout",
     "output_type": "stream",
     "text": [
      "Moved extracted_face_IMG_0460.JPG_1.png to TOO_SIMILAR - Similarity: 83.16%\n",
      "Moved extracted_face_IMG_0462.JPG_0.png to TOO_SIMILAR - Similarity: 83.85%\n"
     ]
    },
    {
     "name": "stderr",
     "output_type": "stream",
     "text": [
      "Analyzing Similarity:  32%|███▏      | 3769/11826 [01:34<01:57, 68.42it/s]"
     ]
    },
    {
     "name": "stdout",
     "output_type": "stream",
     "text": [
      "Moved extracted_face_IMG_0624.JPEG_1.png to TOO_SIMILAR - Similarity: 81.88%\n",
      "Moved extracted_face_IMG_0625.JPEG_0.png to TOO_SIMILAR - Similarity: 81.55%\n",
      "Moved extracted_face_IMG_0625.JPEG_2.png to TOO_SIMILAR - Similarity: 81.28%\n",
      "Moved extracted_face_IMG_0625.JPEG_3.png to TOO_SIMILAR - Similarity: 82.81%\n",
      "Moved extracted_face_IMG_0626.JPEG_0.png to TOO_SIMILAR - Similarity: 81.00%\n",
      "Moved extracted_face_IMG_0626.JPEG_2.png to TOO_SIMILAR - Similarity: 81.57%\n",
      "Moved extracted_face_IMG_0626.JPEG_3.png to TOO_SIMILAR - Similarity: 80.58%\n",
      "Moved extracted_face_IMG_0627.JPEG_0.png to TOO_SIMILAR - Similarity: 81.00%\n",
      "Moved extracted_face_IMG_0627.JPEG_1.png to TOO_SIMILAR - Similarity: 82.52%\n"
     ]
    },
    {
     "name": "stderr",
     "output_type": "stream",
     "text": [
      "Analyzing Similarity:  32%|███▏      | 3785/11826 [01:34<01:53, 70.76it/s]"
     ]
    },
    {
     "name": "stdout",
     "output_type": "stream",
     "text": [
      "Moved extracted_face_IMG_0637.JPEG_2.png to TOO_SIMILAR - Similarity: 80.54%\n",
      "Moved extracted_face_IMG_0642.JPEG_0.png to TOO_SIMILAR - Similarity: 83.49%\n",
      "Moved extracted_face_IMG_0643.JPEG_1.png to TOO_SIMILAR - Similarity: 83.75%\n"
     ]
    },
    {
     "name": "stderr",
     "output_type": "stream",
     "text": [
      "Analyzing Similarity:  32%|███▏      | 3801/11826 [01:35<01:53, 70.82it/s]"
     ]
    },
    {
     "name": "stdout",
     "output_type": "stream",
     "text": [
      "Moved extracted_face_IMG_0645.JPEG_2.png to TOO_SIMILAR - Similarity: 83.10%\n",
      "Moved extracted_face_IMG_0647.JPEG_3.png to TOO_SIMILAR - Similarity: 83.27%\n",
      "Moved extracted_face_IMG_0653.JPEG_0.png to TOO_SIMILAR - Similarity: 82.62%\n",
      "Moved extracted_face_IMG_0654.JPEG_1.png to TOO_SIMILAR - Similarity: 83.31%\n",
      "Moved extracted_face_IMG_0655.JPEG_0.png to TOO_SIMILAR - Similarity: 80.06%\n"
     ]
    },
    {
     "name": "stderr",
     "output_type": "stream",
     "text": [
      "Analyzing Similarity:  32%|███▏      | 3817/11826 [01:35<01:51, 72.09it/s]"
     ]
    },
    {
     "name": "stdout",
     "output_type": "stream",
     "text": [
      "Moved extracted_face_IMG_0657.JPG_0.png to TOO_SIMILAR - Similarity: 81.66%\n",
      "Moved extracted_face_IMG_0659.JPEG_1.png to TOO_SIMILAR - Similarity: 81.95%\n",
      "Moved extracted_face_IMG_0660.JPEG_2.png to TOO_SIMILAR - Similarity: 85.28%\n",
      "Moved extracted_face_IMG_0661.JPEG_2.png to TOO_SIMILAR - Similarity: 83.29%\n",
      "Moved extracted_face_IMG_0662.JPEG_2.png to TOO_SIMILAR - Similarity: 81.61%\n"
     ]
    },
    {
     "name": "stderr",
     "output_type": "stream",
     "text": [
      "Analyzing Similarity:  32%|███▏      | 3833/11826 [01:35<01:52, 70.78it/s]"
     ]
    },
    {
     "name": "stdout",
     "output_type": "stream",
     "text": [
      "Moved extracted_face_IMG_0663.JPEG_2.png to TOO_SIMILAR - Similarity: 82.74%\n",
      "Moved extracted_face_IMG_0663.JPEG_4.png to TOO_SIMILAR - Similarity: 83.07%\n",
      "Moved extracted_face_IMG_0665.JPEG_1.png to TOO_SIMILAR - Similarity: 82.64%\n",
      "Moved extracted_face_IMG_0666.JPEG_1.png to TOO_SIMILAR - Similarity: 85.27%\n",
      "Moved extracted_face_IMG_0667.JPEG_1.png to TOO_SIMILAR - Similarity: 85.91%\n",
      "Moved extracted_face_IMG_0667.JPEG_2.png to TOO_SIMILAR - Similarity: 82.85%\n",
      "Moved extracted_face_IMG_0667.JPEG_3.png to TOO_SIMILAR - Similarity: 80.50%\n"
     ]
    },
    {
     "name": "stderr",
     "output_type": "stream",
     "text": [
      "Analyzing Similarity:  33%|███▎      | 3849/11826 [01:35<01:54, 69.62it/s]"
     ]
    },
    {
     "name": "stdout",
     "output_type": "stream",
     "text": [
      "Moved extracted_face_IMG_0668.JPEG_3.png to TOO_SIMILAR - Similarity: 86.00%\n",
      "Moved extracted_face_IMG_0670.JPEG_0.png to TOO_SIMILAR - Similarity: 84.13%\n",
      "Moved extracted_face_IMG_0674.JPEG_0.png to TOO_SIMILAR - Similarity: 83.94%\n"
     ]
    },
    {
     "name": "stderr",
     "output_type": "stream",
     "text": [
      "Analyzing Similarity:  33%|███▎      | 3870/11826 [01:36<02:00, 66.08it/s]"
     ]
    },
    {
     "name": "stdout",
     "output_type": "stream",
     "text": [
      "Moved extracted_face_IMG_0677.JPEG_3.png to TOO_SIMILAR - Similarity: 80.10%\n",
      "Moved extracted_face_IMG_0679.JPEG_2.png to TOO_SIMILAR - Similarity: 89.54%\n",
      "Moved extracted_face_IMG_0680.JPEG_1.png to TOO_SIMILAR - Similarity: 88.41%\n",
      "Moved extracted_face_IMG_0681.JPEG_0.png to TOO_SIMILAR - Similarity: 86.63%\n"
     ]
    },
    {
     "name": "stderr",
     "output_type": "stream",
     "text": [
      "Analyzing Similarity:  33%|███▎      | 3884/11826 [01:36<01:59, 66.59it/s]"
     ]
    },
    {
     "name": "stdout",
     "output_type": "stream",
     "text": [
      "Moved extracted_face_IMG_0681.JPEG_4.png to TOO_SIMILAR - Similarity: 80.57%\n",
      "Moved extracted_face_IMG_0682.JPEG_3.png to TOO_SIMILAR - Similarity: 86.37%\n",
      "Moved extracted_face_IMG_0682.JPEG_5.png to TOO_SIMILAR - Similarity: 85.84%\n",
      "Moved extracted_face_IMG_0682.JPEG_6.png to TOO_SIMILAR - Similarity: 82.43%\n",
      "Moved extracted_face_IMG_0683.JPEG_1.png to TOO_SIMILAR - Similarity: 84.66%\n",
      "Moved extracted_face_IMG_0683.JPEG_5.png to TOO_SIMILAR - Similarity: 85.42%\n"
     ]
    },
    {
     "name": "stderr",
     "output_type": "stream",
     "text": [
      "Analyzing Similarity:  33%|███▎      | 3898/11826 [01:36<01:58, 67.10it/s]"
     ]
    },
    {
     "name": "stdout",
     "output_type": "stream",
     "text": [
      "Moved extracted_face_IMG_0683.JPEG_6.png to TOO_SIMILAR - Similarity: 81.22%\n",
      "Moved extracted_face_IMG_0684.JPEG_1.png to TOO_SIMILAR - Similarity: 84.22%\n",
      "Moved extracted_face_IMG_0684.JPEG_3.png to TOO_SIMILAR - Similarity: 82.93%\n",
      "Moved extracted_face_IMG_0684.JPEG_5.png to TOO_SIMILAR - Similarity: 85.32%\n",
      "Moved extracted_face_IMG_0686.JPEG_0.png to TOO_SIMILAR - Similarity: 81.03%\n",
      "Moved extracted_face_IMG_0686.JPEG_2.png to TOO_SIMILAR - Similarity: 82.91%\n",
      "Moved extracted_face_IMG_0688.JPEG_0.png to TOO_SIMILAR - Similarity: 80.09%\n",
      "Moved extracted_face_IMG_0688.JPEG_1.png to TOO_SIMILAR - Similarity: 84.31%\n",
      "Moved extracted_face_IMG_0689.JPEG_1.png to TOO_SIMILAR - Similarity: 82.69%\n"
     ]
    },
    {
     "name": "stderr",
     "output_type": "stream",
     "text": [
      "Analyzing Similarity:  33%|███▎      | 3914/11826 [01:36<01:50, 71.32it/s]"
     ]
    },
    {
     "name": "stdout",
     "output_type": "stream",
     "text": [
      "Moved extracted_face_IMG_0689.JPEG_2.png to TOO_SIMILAR - Similarity: 82.10%\n",
      "Moved extracted_face_IMG_0690.JPEG_1.png to TOO_SIMILAR - Similarity: 83.09%\n",
      "Moved extracted_face_IMG_0690.JPEG_3.png to TOO_SIMILAR - Similarity: 80.72%\n",
      "Moved extracted_face_IMG_0691.JPEG_1.png to TOO_SIMILAR - Similarity: 85.33%\n",
      "Moved extracted_face_IMG_0691.JPEG_2.png to TOO_SIMILAR - Similarity: 82.39%\n",
      "Moved extracted_face_IMG_0692.JPEG_2.png to TOO_SIMILAR - Similarity: 83.52%\n",
      "Moved extracted_face_IMG_0695.JPEG_1.png to TOO_SIMILAR - Similarity: 81.33%\n"
     ]
    },
    {
     "name": "stderr",
     "output_type": "stream",
     "text": [
      "Analyzing Similarity:  33%|███▎      | 3922/11826 [01:36<02:00, 65.58it/s]"
     ]
    },
    {
     "name": "stdout",
     "output_type": "stream",
     "text": [
      "Moved extracted_face_IMG_0706.JPEG_0.png to TOO_SIMILAR - Similarity: 83.16%\n",
      "Moved extracted_face_IMG_0707.JPEG_0.png to TOO_SIMILAR - Similarity: 84.04%\n",
      "Moved extracted_face_IMG_0713.JPEG_0.png to TOO_SIMILAR - Similarity: 86.81%\n",
      "Moved extracted_face_IMG_0718.JPG_0.png to TOO_SIMILAR - Similarity: 84.56%\n"
     ]
    },
    {
     "name": "stderr",
     "output_type": "stream",
     "text": [
      "Analyzing Similarity:  33%|███▎      | 3943/11826 [01:37<02:06, 62.07it/s]"
     ]
    },
    {
     "name": "stdout",
     "output_type": "stream",
     "text": [
      "Moved extracted_face_IMG_0719.JPG_1.png to TOO_SIMILAR - Similarity: 81.98%\n",
      "Moved extracted_face_IMG_0719.JPG_2.png to TOO_SIMILAR - Similarity: 82.09%\n",
      "Moved extracted_face_IMG_0722.JPG_0.png to TOO_SIMILAR - Similarity: 87.37%\n",
      "Moved extracted_face_IMG_0722.PNG_1.png to TOO_SIMILAR - Similarity: 82.77%\n",
      "Moved extracted_face_IMG_0722.PNG_2.png to TOO_SIMILAR - Similarity: 82.36%\n",
      "Moved extracted_face_IMG_0722.PNG_3.png to TOO_SIMILAR - Similarity: 81.13%\n",
      "Moved extracted_face_IMG_0722.PNG_4.png to TOO_SIMILAR - Similarity: 83.49%\n",
      "Moved extracted_face_IMG_0726.JPEG_0.png to TOO_SIMILAR - Similarity: 84.80%\n",
      "Moved extracted_face_IMG_0728.JPEG_0.png to TOO_SIMILAR - Similarity: 80.81%\n",
      "Moved extracted_face_IMG_0728.JPEG_2.png to TOO_SIMILAR - Similarity: 80.08%\n",
      "Moved extracted_face_IMG_0728.JPEG_3.png to TOO_SIMILAR - Similarity: 81.10%\n"
     ]
    },
    {
     "name": "stderr",
     "output_type": "stream",
     "text": [
      "Analyzing Similarity:  33%|███▎      | 3950/11826 [01:37<02:10, 60.36it/s]"
     ]
    },
    {
     "name": "stdout",
     "output_type": "stream",
     "text": [
      "Moved extracted_face_IMG_0729.JPG_0.png to TOO_SIMILAR - Similarity: 83.25%\n",
      "Moved extracted_face_IMG_0733.JPEG_0.png to TOO_SIMILAR - Similarity: 84.23%\n",
      "Moved extracted_face_IMG_0733.JPEG_2.png to TOO_SIMILAR - Similarity: 80.73%\n",
      "Moved extracted_face_IMG_0734.JPEG_0.png to TOO_SIMILAR - Similarity: 80.08%\n",
      "Moved extracted_face_IMG_0734.JPEG_2.png to TOO_SIMILAR - Similarity: 80.52%\n",
      "Moved extracted_face_IMG_0735.JPEG_1.png to TOO_SIMILAR - Similarity: 87.03%\n",
      "Moved extracted_face_IMG_0735.JPEG_2.png to TOO_SIMILAR - Similarity: 82.16%\n",
      "Moved extracted_face_IMG_0736.JPEG_1.png to TOO_SIMILAR - Similarity: 85.52%\n",
      "Moved extracted_face_IMG_0736.JPEG_2.png to TOO_SIMILAR - Similarity: 82.45%\n"
     ]
    },
    {
     "name": "stderr",
     "output_type": "stream",
     "text": [
      "Analyzing Similarity:  34%|███▎      | 3964/11826 [01:37<02:11, 59.79it/s]"
     ]
    },
    {
     "name": "stdout",
     "output_type": "stream",
     "text": [
      "Moved extracted_face_IMG_0736.JPG_0.png to TOO_SIMILAR - Similarity: 86.82%\n",
      "Moved extracted_face_IMG_0736.JPG_1.png to TOO_SIMILAR - Similarity: 88.28%\n",
      "Moved extracted_face_IMG_0736.JPG_11.png to TOO_SIMILAR - Similarity: 81.32%\n",
      "Moved extracted_face_IMG_0736.JPG_12.png to TOO_SIMILAR - Similarity: 81.75%\n",
      "Moved extracted_face_IMG_0736.JPG_2.png to TOO_SIMILAR - Similarity: 87.57%\n",
      "Moved extracted_face_IMG_0736.JPG_3.png to TOO_SIMILAR - Similarity: 86.33%\n",
      "Moved extracted_face_IMG_0736.JPG_4.png to TOO_SIMILAR - Similarity: 86.32%\n",
      "Moved extracted_face_IMG_0736.JPG_5.png to TOO_SIMILAR - Similarity: 82.34%\n",
      "Moved extracted_face_IMG_0736.JPG_7.png to TOO_SIMILAR - Similarity: 83.16%\n",
      "Moved extracted_face_IMG_0736.JPG_8.png to TOO_SIMILAR - Similarity: 82.39%\n",
      "Moved extracted_face_IMG_0736.JPG_9.png to TOO_SIMILAR - Similarity: 84.78%\n",
      "Moved extracted_face_IMG_0737.JPEG_1.png to TOO_SIMILAR - Similarity: 85.65%\n"
     ]
    },
    {
     "name": "stderr",
     "output_type": "stream",
     "text": [
      "Analyzing Similarity:  34%|███▎      | 3978/11826 [01:37<02:05, 62.78it/s]"
     ]
    },
    {
     "name": "stdout",
     "output_type": "stream",
     "text": [
      "Moved extracted_face_IMG_0737.JPEG_2.png to TOO_SIMILAR - Similarity: 82.84%\n",
      "Moved extracted_face_IMG_0737.JPG_1.png to TOO_SIMILAR - Similarity: 86.46%\n",
      "Moved extracted_face_IMG_0737.JPG_2.png to TOO_SIMILAR - Similarity: 82.61%\n",
      "Moved extracted_face_IMG_0737.JPG_3.png to TOO_SIMILAR - Similarity: 83.99%\n",
      "Moved extracted_face_IMG_0737.JPG_6.png to TOO_SIMILAR - Similarity: 84.60%\n",
      "Moved extracted_face_IMG_0737.JPG_7.png to TOO_SIMILAR - Similarity: 81.54%\n"
     ]
    },
    {
     "name": "stderr",
     "output_type": "stream",
     "text": [
      "Analyzing Similarity:  34%|███▍      | 3992/11826 [01:38<01:59, 65.45it/s]"
     ]
    },
    {
     "name": "stdout",
     "output_type": "stream",
     "text": [
      "Moved extracted_face_IMG_0740.JPG_0.png to TOO_SIMILAR - Similarity: 84.48%\n",
      "Moved extracted_face_IMG_0740.JPG_1.png to TOO_SIMILAR - Similarity: 85.38%\n",
      "Moved extracted_face_IMG_0740.JPG_3.png to TOO_SIMILAR - Similarity: 86.52%\n",
      "Moved extracted_face_IMG_0740.JPG_4.png to TOO_SIMILAR - Similarity: 80.72%\n",
      "Moved extracted_face_IMG_0743.JPEG_1.png to TOO_SIMILAR - Similarity: 81.98%\n",
      "Moved extracted_face_IMG_0744.JPEG_1.png to TOO_SIMILAR - Similarity: 82.99%\n",
      "Moved extracted_face_IMG_0744.JPEG_2.png to TOO_SIMILAR - Similarity: 85.15%\n",
      "Moved extracted_face_IMG_0745.JPEG_0.png to TOO_SIMILAR - Similarity: 81.26%\n",
      "Moved extracted_face_IMG_0746.JPEG_0.png to TOO_SIMILAR - Similarity: 81.98%\n"
     ]
    },
    {
     "name": "stderr",
     "output_type": "stream",
     "text": [
      "Analyzing Similarity:  34%|███▍      | 4008/11826 [01:38<01:51, 70.36it/s]"
     ]
    },
    {
     "name": "stdout",
     "output_type": "stream",
     "text": [
      "Moved extracted_face_IMG_0747.JPEG_0.png to TOO_SIMILAR - Similarity: 81.27%\n",
      "Moved extracted_face_IMG_0753.JPEG_1.png to TOO_SIMILAR - Similarity: 80.24%\n",
      "Moved extracted_face_IMG_0753.JPEG_3.png to TOO_SIMILAR - Similarity: 84.19%\n",
      "Moved extracted_face_IMG_0753.JPEG_4.png to TOO_SIMILAR - Similarity: 82.03%\n",
      "Moved extracted_face_IMG_0753.JPEG_5.png to TOO_SIMILAR - Similarity: 87.91%\n",
      "Moved extracted_face_IMG_0753.JPEG_6.png to TOO_SIMILAR - Similarity: 85.83%\n"
     ]
    },
    {
     "name": "stderr",
     "output_type": "stream",
     "text": [
      "Analyzing Similarity:  34%|███▍      | 4023/11826 [01:38<01:59, 65.10it/s]"
     ]
    },
    {
     "name": "stdout",
     "output_type": "stream",
     "text": [
      "Moved extracted_face_IMG_0753.JPEG_7.png to TOO_SIMILAR - Similarity: 83.75%\n",
      "Moved extracted_face_IMG_0753.JPEG_8.png to TOO_SIMILAR - Similarity: 82.31%\n",
      "Moved extracted_face_IMG_0753.JPEG_9.png to TOO_SIMILAR - Similarity: 84.59%\n",
      "Moved extracted_face_IMG_0754.JPG_1.png to TOO_SIMILAR - Similarity: 80.23%\n",
      "Moved extracted_face_IMG_0754.JPG_2.png to TOO_SIMILAR - Similarity: 82.29%\n",
      "Moved extracted_face_IMG_0754.JPG_4.png to TOO_SIMILAR - Similarity: 81.19%\n"
     ]
    },
    {
     "name": "stderr",
     "output_type": "stream",
     "text": [
      "Analyzing Similarity:  34%|███▍      | 4037/11826 [01:38<02:01, 64.19it/s]"
     ]
    },
    {
     "name": "stdout",
     "output_type": "stream",
     "text": [
      "Moved extracted_face_IMG_0764.JPEG_0.png to TOO_SIMILAR - Similarity: 83.86%\n",
      "Moved extracted_face_IMG_0764.jpg_1.png to TOO_SIMILAR - Similarity: 84.88%\n",
      "Moved extracted_face_IMG_0765.JPEG_0.png to TOO_SIMILAR - Similarity: 81.17%\n",
      "Moved extracted_face_IMG_0766.JPEG_0.png to TOO_SIMILAR - Similarity: 84.53%\n",
      "Moved extracted_face_IMG_0768.JPG_0.png to TOO_SIMILAR - Similarity: 82.97%\n",
      "Moved extracted_face_IMG_0768.JPG_1.png to TOO_SIMILAR - Similarity: 80.19%\n",
      "Moved extracted_face_IMG_0770.JPG_0.png to TOO_SIMILAR - Similarity: 81.26%\n",
      "Moved extracted_face_IMG_0773.JPG_0.png to TOO_SIMILAR - Similarity: 80.59%\n"
     ]
    },
    {
     "name": "stderr",
     "output_type": "stream",
     "text": [
      "Analyzing Similarity:  34%|███▍      | 4051/11826 [01:38<01:59, 65.28it/s]"
     ]
    },
    {
     "name": "stdout",
     "output_type": "stream",
     "text": [
      "Moved extracted_face_IMG_0773.JPG_1.png to TOO_SIMILAR - Similarity: 82.99%\n",
      "Moved extracted_face_IMG_0775.JPEG_2.png to TOO_SIMILAR - Similarity: 87.00%\n",
      "Moved extracted_face_IMG_0775.JPEG_3.png to TOO_SIMILAR - Similarity: 85.90%\n",
      "Moved extracted_face_IMG_0775.JPEG_4.png to TOO_SIMILAR - Similarity: 81.09%\n",
      "Moved extracted_face_IMG_0775.JPEG_5.png to TOO_SIMILAR - Similarity: 88.17%\n",
      "Moved extracted_face_IMG_0776.JPEG_0.png to TOO_SIMILAR - Similarity: 81.07%\n",
      "Moved extracted_face_IMG_0777.JPG_1.png to TOO_SIMILAR - Similarity: 86.61%\n",
      "Moved extracted_face_IMG_0778.JPG_3.png to TOO_SIMILAR - Similarity: 83.71%\n",
      "Moved extracted_face_IMG_0778.JPG_4.png to TOO_SIMILAR - Similarity: 80.70%\n"
     ]
    },
    {
     "name": "stderr",
     "output_type": "stream",
     "text": [
      "Analyzing Similarity:  34%|███▍      | 4067/11826 [01:39<01:52, 68.93it/s]"
     ]
    },
    {
     "name": "stdout",
     "output_type": "stream",
     "text": [
      "Moved extracted_face_IMG_0780.JPG_0.png to TOO_SIMILAR - Similarity: 83.33%\n",
      "Moved extracted_face_IMG_0780.JPG_4.png to TOO_SIMILAR - Similarity: 80.26%\n",
      "Moved extracted_face_IMG_0791.JPEG_0.png to TOO_SIMILAR - Similarity: 80.27%\n",
      "Moved extracted_face_IMG_0791.JPEG_2.png to TOO_SIMILAR - Similarity: 84.57%\n",
      "Moved extracted_face_IMG_0791.JPG_0.png to TOO_SIMILAR - Similarity: 82.07%\n",
      "Moved extracted_face_IMG_0792.JPEG_0.png to TOO_SIMILAR - Similarity: 84.40%\n",
      "Moved extracted_face_IMG_0793.JPEG_0.png to TOO_SIMILAR - Similarity: 85.13%\n",
      "Moved extracted_face_IMG_0793.JPEG_2.png to TOO_SIMILAR - Similarity: 86.16%\n",
      "Moved extracted_face_IMG_0793.JPG_0.png to TOO_SIMILAR - Similarity: 81.99%\n"
     ]
    },
    {
     "name": "stderr",
     "output_type": "stream",
     "text": [
      "Analyzing Similarity:  35%|███▍      | 4081/11826 [01:39<01:54, 67.40it/s]"
     ]
    },
    {
     "name": "stdout",
     "output_type": "stream",
     "text": [
      "Moved extracted_face_IMG_0794.JPEG_0.png to TOO_SIMILAR - Similarity: 83.80%\n",
      "Moved extracted_face_IMG_0794.JPEG_2.png to TOO_SIMILAR - Similarity: 87.03%\n",
      "Moved extracted_face_IMG_0795.JPEG_0.png to TOO_SIMILAR - Similarity: 81.13%\n",
      "Moved extracted_face_IMG_0797.JPEG_0.png to TOO_SIMILAR - Similarity: 89.25%\n",
      "Moved extracted_face_IMG_0797.JPEG_2.png to TOO_SIMILAR - Similarity: 82.59%\n",
      "Moved extracted_face_IMG_0797.JPEG_3.png to TOO_SIMILAR - Similarity: 85.62%\n",
      "Moved extracted_face_IMG_0797.JPEG_4.png to TOO_SIMILAR - Similarity: 85.42%\n"
     ]
    },
    {
     "name": "stderr",
     "output_type": "stream",
     "text": [
      "Analyzing Similarity:  35%|███▍      | 4095/11826 [01:39<01:58, 64.97it/s]"
     ]
    },
    {
     "name": "stdout",
     "output_type": "stream",
     "text": [
      "Moved extracted_face_IMG_0798.JPEG_0.png to TOO_SIMILAR - Similarity: 82.70%\n",
      "Moved extracted_face_IMG_0798.JPEG_1.png to TOO_SIMILAR - Similarity: 89.23%\n",
      "Moved extracted_face_IMG_0798.JPEG_3.png to TOO_SIMILAR - Similarity: 80.00%\n",
      "Moved extracted_face_IMG_0798.JPEG_5.png to TOO_SIMILAR - Similarity: 82.18%\n",
      "Moved extracted_face_IMG_0798.JPEG_6.png to TOO_SIMILAR - Similarity: 84.69%\n",
      "Moved extracted_face_IMG_0799.JPEG_0.png to TOO_SIMILAR - Similarity: 87.10%\n",
      "Moved extracted_face_IMG_0799.JPEG_1.png to TOO_SIMILAR - Similarity: 84.38%\n",
      "Moved extracted_face_IMG_0799.JPEG_3.png to TOO_SIMILAR - Similarity: 88.40%\n",
      "Moved extracted_face_IMG_0799.JPEG_5.png to TOO_SIMILAR - Similarity: 83.26%\n"
     ]
    },
    {
     "name": "stderr",
     "output_type": "stream",
     "text": [
      "Analyzing Similarity:  35%|███▍      | 4110/11826 [01:39<01:54, 67.15it/s]"
     ]
    },
    {
     "name": "stdout",
     "output_type": "stream",
     "text": [
      "Moved extracted_face_IMG_0800.JPEG_0.png to TOO_SIMILAR - Similarity: 83.72%\n",
      "Moved extracted_face_IMG_0800.JPEG_1.png to TOO_SIMILAR - Similarity: 87.44%\n",
      "Moved extracted_face_IMG_0800.JPEG_2.png to TOO_SIMILAR - Similarity: 86.50%\n",
      "Moved extracted_face_IMG_0800.JPEG_3.png to TOO_SIMILAR - Similarity: 81.77%\n",
      "Moved extracted_face_IMG_0800.JPEG_7.png to TOO_SIMILAR - Similarity: 84.79%\n",
      "Moved extracted_face_IMG_0800.JPG_0.png to TOO_SIMILAR - Similarity: 81.24%\n"
     ]
    },
    {
     "name": "stderr",
     "output_type": "stream",
     "text": [
      "Analyzing Similarity:  35%|███▍      | 4124/11826 [01:40<01:56, 65.89it/s]"
     ]
    },
    {
     "name": "stdout",
     "output_type": "stream",
     "text": [
      "Moved extracted_face_IMG_0805.JPG_0.png to TOO_SIMILAR - Similarity: 82.58%\n",
      "Moved extracted_face_IMG_0806.JPEG_0.png to TOO_SIMILAR - Similarity: 88.20%\n",
      "Moved extracted_face_IMG_0806.JPEG_1.png to TOO_SIMILAR - Similarity: 85.00%\n",
      "Moved extracted_face_IMG_0806.JPEG_2.png to TOO_SIMILAR - Similarity: 85.44%\n",
      "Moved extracted_face_IMG_0806.JPEG_3.png to TOO_SIMILAR - Similarity: 88.96%\n",
      "Moved extracted_face_IMG_0806.JPEG_6.png to TOO_SIMILAR - Similarity: 81.80%\n",
      "Moved extracted_face_IMG_0807.JPEG_0.png to TOO_SIMILAR - Similarity: 85.67%\n",
      "Moved extracted_face_IMG_0807.JPEG_3.png to TOO_SIMILAR - Similarity: 86.63%\n",
      "Moved extracted_face_IMG_0807.JPEG_5.png to TOO_SIMILAR - Similarity: 87.35%\n"
     ]
    },
    {
     "name": "stderr",
     "output_type": "stream",
     "text": [
      "Analyzing Similarity:  35%|███▌      | 4149/11826 [01:40<01:43, 74.27it/s]"
     ]
    },
    {
     "name": "stdout",
     "output_type": "stream",
     "text": [
      "Moved extracted_face_IMG_0807.JPEG_9.png to TOO_SIMILAR - Similarity: 85.23%\n",
      "Moved extracted_face_IMG_0808.JPEG_2.png to TOO_SIMILAR - Similarity: 89.07%\n",
      "Moved extracted_face_IMG_0808.JPEG_3.png to TOO_SIMILAR - Similarity: 80.61%\n",
      "Moved extracted_face_IMG_0808.JPEG_5.png to TOO_SIMILAR - Similarity: 83.17%\n"
     ]
    },
    {
     "name": "stderr",
     "output_type": "stream",
     "text": [
      "Analyzing Similarity:  35%|███▌      | 4157/11826 [01:40<01:53, 67.27it/s]"
     ]
    },
    {
     "name": "stdout",
     "output_type": "stream",
     "text": [
      "Moved extracted_face_IMG_0809.JPEG_3.png to TOO_SIMILAR - Similarity: 88.25%\n",
      "Moved extracted_face_IMG_0809.JPEG_4.png to TOO_SIMILAR - Similarity: 87.99%\n",
      "Moved extracted_face_IMG_0809.JPEG_5.png to TOO_SIMILAR - Similarity: 80.13%\n",
      "Moved extracted_face_IMG_0809.JPEG_7.png to TOO_SIMILAR - Similarity: 80.70%\n",
      "Moved extracted_face_IMG_0810.JPEG_0.png to TOO_SIMILAR - Similarity: 83.34%\n",
      "Moved extracted_face_IMG_0810.JPEG_1.png to TOO_SIMILAR - Similarity: 88.43%\n",
      "Moved extracted_face_IMG_0810.JPEG_2.png to TOO_SIMILAR - Similarity: 89.67%\n",
      "Moved extracted_face_IMG_0810.JPEG_4.png to TOO_SIMILAR - Similarity: 87.75%\n"
     ]
    },
    {
     "name": "stderr",
     "output_type": "stream",
     "text": [
      "Analyzing Similarity:  35%|███▌      | 4171/11826 [01:40<02:24, 52.88it/s]"
     ]
    },
    {
     "name": "stdout",
     "output_type": "stream",
     "text": [
      "Moved extracted_face_IMG_0810.JPEG_5.png to TOO_SIMILAR - Similarity: 84.49%\n",
      "Moved extracted_face_IMG_0810.JPEG_6.png to TOO_SIMILAR - Similarity: 81.26%\n",
      "Moved extracted_face_IMG_0828.JPG_0.png to TOO_SIMILAR - Similarity: 85.02%\n",
      "Moved extracted_face_IMG_0828.JPG_1.png to TOO_SIMILAR - Similarity: 80.05%\n"
     ]
    },
    {
     "name": "stderr",
     "output_type": "stream",
     "text": [
      "Analyzing Similarity:  35%|███▌      | 4184/11826 [01:41<02:17, 55.46it/s]"
     ]
    },
    {
     "name": "stdout",
     "output_type": "stream",
     "text": [
      "Moved extracted_face_IMG_0831.JPG_1.png to TOO_SIMILAR - Similarity: 83.80%\n",
      "Moved extracted_face_IMG_0844.JPEG_1.png to TOO_SIMILAR - Similarity: 86.18%\n",
      "Moved extracted_face_IMG_0846.JPEG_1.png to TOO_SIMILAR - Similarity: 85.99%\n",
      "Moved extracted_face_IMG_0846.JPEG_2.png to TOO_SIMILAR - Similarity: 80.64%\n",
      "Moved extracted_face_IMG_0846.JPEG_3.png to TOO_SIMILAR - Similarity: 85.34%\n",
      "Moved extracted_face_IMG_0847.JPEG_0.png to TOO_SIMILAR - Similarity: 83.05%\n",
      "Moved extracted_face_IMG_0847.JPEG_2.png to TOO_SIMILAR - Similarity: 86.28%\n"
     ]
    },
    {
     "name": "stderr",
     "output_type": "stream",
     "text": [
      "Analyzing Similarity:  35%|███▌      | 4198/11826 [01:41<02:06, 60.25it/s]"
     ]
    },
    {
     "name": "stdout",
     "output_type": "stream",
     "text": [
      "Moved extracted_face_IMG_0847.JPEG_4.png to TOO_SIMILAR - Similarity: 88.61%\n",
      "Moved extracted_face_IMG_0848.JPEG_0.png to TOO_SIMILAR - Similarity: 83.92%\n",
      "Moved extracted_face_IMG_0848.JPEG_1.png to TOO_SIMILAR - Similarity: 86.00%\n",
      "Moved extracted_face_IMG_0848.JPEG_3.png to TOO_SIMILAR - Similarity: 88.53%\n",
      "Moved extracted_face_IMG_0849.JPEG_0.png to TOO_SIMILAR - Similarity: 86.10%\n",
      "Moved extracted_face_IMG_0849.JPEG_2.png to TOO_SIMILAR - Similarity: 84.36%\n",
      "Moved extracted_face_IMG_0849.JPEG_3.png to TOO_SIMILAR - Similarity: 82.92%\n",
      "Moved extracted_face_IMG_0850.JPEG_2.png to TOO_SIMILAR - Similarity: 89.92%\n"
     ]
    },
    {
     "name": "stderr",
     "output_type": "stream",
     "text": [
      "Analyzing Similarity:  36%|███▌      | 4213/11826 [01:41<02:00, 62.97it/s]"
     ]
    },
    {
     "name": "stdout",
     "output_type": "stream",
     "text": [
      "Moved extracted_face_IMG_0851.JPEG_2.png to TOO_SIMILAR - Similarity: 90.39%\n",
      "Moved extracted_face_IMG_0851.JPEG_5.png to TOO_SIMILAR - Similarity: 87.57%\n",
      "Moved extracted_face_IMG_0852.JPEG_0.png to TOO_SIMILAR - Similarity: 88.72%\n",
      "Moved extracted_face_IMG_0852.JPEG_4.png to TOO_SIMILAR - Similarity: 86.05%\n"
     ]
    },
    {
     "name": "stderr",
     "output_type": "stream",
     "text": [
      "Analyzing Similarity:  36%|███▌      | 4227/11826 [01:41<02:00, 62.84it/s]"
     ]
    },
    {
     "name": "stdout",
     "output_type": "stream",
     "text": [
      "Moved extracted_face_IMG_0853.JPEG_1.png to TOO_SIMILAR - Similarity: 86.85%\n",
      "Moved extracted_face_IMG_0854.JPEG_0.png to TOO_SIMILAR - Similarity: 80.22%\n",
      "Moved extracted_face_IMG_0854.JPEG_1.png to TOO_SIMILAR - Similarity: 87.25%\n",
      "Moved extracted_face_IMG_0854.JPEG_5.png to TOO_SIMILAR - Similarity: 80.90%\n"
     ]
    },
    {
     "name": "stderr",
     "output_type": "stream",
     "text": [
      "Analyzing Similarity:  36%|███▌      | 4249/11826 [01:41<01:54, 65.95it/s]"
     ]
    },
    {
     "name": "stdout",
     "output_type": "stream",
     "text": [
      "Moved extracted_face_IMG_0855.JPEG_4.png to TOO_SIMILAR - Similarity: 91.16%\n",
      "Moved extracted_face_IMG_0855.JPEG_5.png to TOO_SIMILAR - Similarity: 80.68%\n",
      "Moved extracted_face_IMG_0855.JPEG_6.png to TOO_SIMILAR - Similarity: 84.91%\n",
      "Moved extracted_face_IMG_0856.JPEG_2.png to TOO_SIMILAR - Similarity: 80.55%\n",
      "Moved extracted_face_IMG_0856.JPEG_4.png to TOO_SIMILAR - Similarity: 86.62%\n",
      "Moved extracted_face_IMG_0856.JPEG_5.png to TOO_SIMILAR - Similarity: 80.73%\n",
      "Moved extracted_face_IMG_0857.JPEG_2.png to TOO_SIMILAR - Similarity: 81.19%\n"
     ]
    },
    {
     "name": "stderr",
     "output_type": "stream",
     "text": [
      "Analyzing Similarity:  36%|███▌      | 4265/11826 [01:42<01:48, 69.75it/s]"
     ]
    },
    {
     "name": "stdout",
     "output_type": "stream",
     "text": [
      "Moved extracted_face_IMG_0858.JPEG_0.png to TOO_SIMILAR - Similarity: 83.16%\n",
      "Moved extracted_face_IMG_0858.JPEG_2.png to TOO_SIMILAR - Similarity: 89.64%\n",
      "Moved extracted_face_IMG_0858.JPEG_3.png to TOO_SIMILAR - Similarity: 85.99%\n",
      "Moved extracted_face_IMG_0858.JPEG_6.png to TOO_SIMILAR - Similarity: 80.34%\n",
      "Moved extracted_face_IMG_0859.JPEG_3.png to TOO_SIMILAR - Similarity: 92.10%\n"
     ]
    },
    {
     "name": "stderr",
     "output_type": "stream",
     "text": [
      "Analyzing Similarity:  36%|███▌      | 4281/11826 [01:42<01:48, 69.80it/s]"
     ]
    },
    {
     "name": "stdout",
     "output_type": "stream",
     "text": [
      "Moved extracted_face_IMG_0860.JPEG_0.png to TOO_SIMILAR - Similarity: 83.08%\n",
      "Moved extracted_face_IMG_0860.JPEG_1.png to TOO_SIMILAR - Similarity: 80.89%\n",
      "Moved extracted_face_IMG_0860.JPEG_2.png to TOO_SIMILAR - Similarity: 90.15%\n",
      "Moved extracted_face_IMG_0861.JPEG_0.png to TOO_SIMILAR - Similarity: 82.58%\n",
      "Moved extracted_face_IMG_0861.JPEG_1.png to TOO_SIMILAR - Similarity: 85.69%\n",
      "Moved extracted_face_IMG_0861.JPEG_3.png to TOO_SIMILAR - Similarity: 83.73%\n",
      "Moved extracted_face_IMG_0861.JPEG_6.png to TOO_SIMILAR - Similarity: 83.47%\n"
     ]
    },
    {
     "name": "stderr",
     "output_type": "stream",
     "text": [
      "Analyzing Similarity:  36%|███▋      | 4297/11826 [01:42<01:47, 70.35it/s]"
     ]
    },
    {
     "name": "stdout",
     "output_type": "stream",
     "text": [
      "Moved extracted_face_IMG_0862.JPEG_1.png to TOO_SIMILAR - Similarity: 83.91%\n",
      "Moved extracted_face_IMG_0862.JPEG_5.png to TOO_SIMILAR - Similarity: 80.99%\n",
      "Moved extracted_face_IMG_0863.JPEG_2.png to TOO_SIMILAR - Similarity: 83.89%\n",
      "Moved extracted_face_IMG_0863.JPEG_4.png to TOO_SIMILAR - Similarity: 89.40%\n",
      "Moved extracted_face_IMG_0863.JPEG_6.png to TOO_SIMILAR - Similarity: 82.70%\n",
      "Moved extracted_face_IMG_0864.JPEG_0.png to TOO_SIMILAR - Similarity: 86.40%\n"
     ]
    },
    {
     "name": "stderr",
     "output_type": "stream",
     "text": [
      "Analyzing Similarity:  36%|███▋      | 4312/11826 [01:42<01:49, 68.85it/s]"
     ]
    },
    {
     "name": "stdout",
     "output_type": "stream",
     "text": [
      "Moved extracted_face_IMG_0864.JPEG_3.png to TOO_SIMILAR - Similarity: 85.37%\n",
      "Moved extracted_face_IMG_0864.JPEG_5.png to TOO_SIMILAR - Similarity: 89.34%\n",
      "Moved extracted_face_IMG_0865.JPEG_0.png to TOO_SIMILAR - Similarity: 82.71%\n",
      "Moved extracted_face_IMG_0865.JPEG_3.png to TOO_SIMILAR - Similarity: 85.79%\n",
      "Moved extracted_face_IMG_0865.JPEG_5.png to TOO_SIMILAR - Similarity: 91.73%\n",
      "Moved extracted_face_IMG_0865.JPEG_6.png to TOO_SIMILAR - Similarity: 83.26%\n",
      "Moved extracted_face_IMG_0866.JPEG_1.png to TOO_SIMILAR - Similarity: 83.35%\n"
     ]
    },
    {
     "name": "stderr",
     "output_type": "stream",
     "text": [
      "Analyzing Similarity:  37%|███▋      | 4326/11826 [01:43<01:50, 67.98it/s]"
     ]
    },
    {
     "name": "stdout",
     "output_type": "stream",
     "text": [
      "Moved extracted_face_IMG_0866.JPEG_2.png to TOO_SIMILAR - Similarity: 82.08%\n",
      "Moved extracted_face_IMG_0866.JPEG_3.png to TOO_SIMILAR - Similarity: 89.27%\n",
      "Moved extracted_face_IMG_0866.JPEG_6.png to TOO_SIMILAR - Similarity: 84.75%\n",
      "Moved extracted_face_IMG_0867.JPEG_0.png to TOO_SIMILAR - Similarity: 83.35%\n",
      "Moved extracted_face_IMG_0867.JPEG_1.png to TOO_SIMILAR - Similarity: 89.79%\n",
      "Moved extracted_face_IMG_0867.JPEG_2.png to TOO_SIMILAR - Similarity: 89.76%\n",
      "Moved extracted_face_IMG_0867.JPEG_5.png to TOO_SIMILAR - Similarity: 83.01%\n"
     ]
    },
    {
     "name": "stderr",
     "output_type": "stream",
     "text": [
      "Analyzing Similarity:  37%|███▋      | 4342/11826 [01:43<01:45, 70.81it/s]"
     ]
    },
    {
     "name": "stdout",
     "output_type": "stream",
     "text": [
      "Moved extracted_face_IMG_0868.JPEG_1.png to TOO_SIMILAR - Similarity: 82.25%\n",
      "Moved extracted_face_IMG_0868.JPEG_2.png to TOO_SIMILAR - Similarity: 86.35%\n",
      "Moved extracted_face_IMG_0868.JPEG_3.png to TOO_SIMILAR - Similarity: 83.10%\n",
      "Moved extracted_face_IMG_0868.JPEG_4.png to TOO_SIMILAR - Similarity: 82.84%\n",
      "Moved extracted_face_IMG_0869.JPG_0.png to TOO_SIMILAR - Similarity: 83.59%\n",
      "Moved extracted_face_IMG_0870.JPEG_0.png to TOO_SIMILAR - Similarity: 86.06%\n",
      "Moved extracted_face_IMG_0871.JPEG_0.png to TOO_SIMILAR - Similarity: 83.99%\n",
      "Moved extracted_face_IMG_0872.JPEG_0.png to TOO_SIMILAR - Similarity: 82.80%\n"
     ]
    },
    {
     "name": "stderr",
     "output_type": "stream",
     "text": [
      "Analyzing Similarity:  37%|███▋      | 4366/11826 [01:43<01:42, 72.54it/s]"
     ]
    },
    {
     "name": "stdout",
     "output_type": "stream",
     "text": [
      "Moved extracted_face_IMG_0879.JPEG_0.png to TOO_SIMILAR - Similarity: 81.95%\n",
      "Moved extracted_face_IMG_0879.JPEG_1.png to TOO_SIMILAR - Similarity: 83.45%\n",
      "Moved extracted_face_IMG_0879.JPEG_2.png to TOO_SIMILAR - Similarity: 81.64%\n",
      "Moved extracted_face_IMG_0879.JPEG_3.png to TOO_SIMILAR - Similarity: 80.06%\n",
      "Moved extracted_face_IMG_0880.JPEG_0.png to TOO_SIMILAR - Similarity: 81.79%\n",
      "Moved extracted_face_IMG_0880.JPEG_1.png to TOO_SIMILAR - Similarity: 82.50%\n"
     ]
    },
    {
     "name": "stderr",
     "output_type": "stream",
     "text": [
      "Analyzing Similarity:  37%|███▋      | 4382/11826 [01:43<01:43, 71.74it/s]"
     ]
    },
    {
     "name": "stdout",
     "output_type": "stream",
     "text": [
      "Moved extracted_face_IMG_0884.JPEG_1.png to TOO_SIMILAR - Similarity: 80.34%\n",
      "Moved extracted_face_IMG_0903.JPEG_0.png to TOO_SIMILAR - Similarity: 84.30%\n"
     ]
    },
    {
     "name": "stderr",
     "output_type": "stream",
     "text": [
      "Analyzing Similarity:  37%|███▋      | 4398/11826 [01:44<01:41, 73.24it/s]"
     ]
    },
    {
     "name": "stdout",
     "output_type": "stream",
     "text": [
      "Moved extracted_face_IMG_0908.JPEG_0.png to TOO_SIMILAR - Similarity: 81.03%\n",
      "Moved extracted_face_IMG_0908.JPEG_4.png to TOO_SIMILAR - Similarity: 80.23%\n",
      "Moved extracted_face_IMG_0909.JPEG_0.png to TOO_SIMILAR - Similarity: 85.87%\n",
      "Moved extracted_face_IMG_0909.JPEG_3.png to TOO_SIMILAR - Similarity: 86.66%\n",
      "Moved extracted_face_IMG_0909.JPEG_4.png to TOO_SIMILAR - Similarity: 86.52%\n",
      "Moved extracted_face_IMG_0909.JPEG_6.png to TOO_SIMILAR - Similarity: 84.35%\n"
     ]
    },
    {
     "name": "stderr",
     "output_type": "stream",
     "text": [
      "Analyzing Similarity:  37%|███▋      | 4414/11826 [01:44<01:47, 69.05it/s]"
     ]
    },
    {
     "name": "stdout",
     "output_type": "stream",
     "text": [
      "Moved extracted_face_IMG_0910.JPEG_2.png to TOO_SIMILAR - Similarity: 83.80%\n",
      "Moved extracted_face_IMG_0910.JPEG_3.png to TOO_SIMILAR - Similarity: 86.12%\n",
      "Moved extracted_face_IMG_0910.JPEG_4.png to TOO_SIMILAR - Similarity: 81.63%\n",
      "Moved extracted_face_IMG_0910.JPEG_5.png to TOO_SIMILAR - Similarity: 84.11%\n",
      "Moved extracted_face_IMG_0910.JPEG_6.png to TOO_SIMILAR - Similarity: 86.21%\n"
     ]
    },
    {
     "name": "stderr",
     "output_type": "stream",
     "text": [
      "Analyzing Similarity:  37%|███▋      | 4428/11826 [01:44<02:01, 60.83it/s]"
     ]
    },
    {
     "name": "stdout",
     "output_type": "stream",
     "text": [
      "Moved extracted_face_IMG_0911.JPEG_2.png to TOO_SIMILAR - Similarity: 85.74%\n",
      "Moved extracted_face_IMG_0911.JPEG_3.png to TOO_SIMILAR - Similarity: 81.94%\n",
      "Moved extracted_face_IMG_0911.JPEG_5.png to TOO_SIMILAR - Similarity: 86.34%\n",
      "Moved extracted_face_IMG_0912.JPEG_2.png to TOO_SIMILAR - Similarity: 85.84%\n"
     ]
    },
    {
     "name": "stderr",
     "output_type": "stream",
     "text": [
      "Analyzing Similarity:  38%|███▊      | 4442/11826 [01:44<01:57, 63.05it/s]"
     ]
    },
    {
     "name": "stdout",
     "output_type": "stream",
     "text": [
      "Moved extracted_face_IMG_0912.JPEG_5.png to TOO_SIMILAR - Similarity: 84.80%\n",
      "Moved extracted_face_IMG_0912.JPEG_6.png to TOO_SIMILAR - Similarity: 87.11%\n",
      "Moved extracted_face_IMG_0912.JPEG_7.png to TOO_SIMILAR - Similarity: 84.41%\n",
      "Moved extracted_face_IMG_0913.JPEG_1.png to TOO_SIMILAR - Similarity: 85.67%\n",
      "Moved extracted_face_IMG_0913.JPEG_3.png to TOO_SIMILAR - Similarity: 85.55%\n",
      "Moved extracted_face_IMG_0913.JPEG_4.png to TOO_SIMILAR - Similarity: 86.02%\n",
      "Moved extracted_face_IMG_0913.JPEG_6.png to TOO_SIMILAR - Similarity: 85.89%\n"
     ]
    },
    {
     "name": "stderr",
     "output_type": "stream",
     "text": [
      "Analyzing Similarity:  38%|███▊      | 4449/11826 [01:44<02:02, 60.40it/s]"
     ]
    },
    {
     "name": "stdout",
     "output_type": "stream",
     "text": [
      "Moved extracted_face_IMG_0914.JPEG_0.png to TOO_SIMILAR - Similarity: 85.27%\n",
      "Moved extracted_face_IMG_0914.JPEG_10.png to TOO_SIMILAR - Similarity: 81.42%\n",
      "Moved extracted_face_IMG_0914.JPEG_2.png to TOO_SIMILAR - Similarity: 80.83%\n",
      "Moved extracted_face_IMG_0914.JPEG_3.png to TOO_SIMILAR - Similarity: 85.03%\n",
      "Moved extracted_face_IMG_0914.JPEG_4.png to TOO_SIMILAR - Similarity: 83.73%\n",
      "Moved extracted_face_IMG_0914.JPEG_5.png to TOO_SIMILAR - Similarity: 81.04%\n",
      "Moved extracted_face_IMG_0914.JPEG_6.png to TOO_SIMILAR - Similarity: 84.37%\n"
     ]
    },
    {
     "name": "stderr",
     "output_type": "stream",
     "text": [
      "Analyzing Similarity:  38%|███▊      | 4469/11826 [01:45<02:03, 59.37it/s]"
     ]
    },
    {
     "name": "stdout",
     "output_type": "stream",
     "text": [
      "Moved extracted_face_IMG_0916.JPEG_1.png to TOO_SIMILAR - Similarity: 83.16%\n",
      "Moved extracted_face_IMG_0916.JPEG_3.png to TOO_SIMILAR - Similarity: 85.74%\n",
      "Moved extracted_face_IMG_0916.JPEG_5.png to TOO_SIMILAR - Similarity: 85.15%\n",
      "Moved extracted_face_IMG_0916.JPEG_7.png to TOO_SIMILAR - Similarity: 86.00%\n",
      "Moved extracted_face_IMG_0917.JPEG_0.png to TOO_SIMILAR - Similarity: 82.79%\n",
      "Moved extracted_face_IMG_0917.JPEG_1.png to TOO_SIMILAR - Similarity: 81.71%\n",
      "Moved extracted_face_IMG_0917.JPEG_2.png to TOO_SIMILAR - Similarity: 81.81%\n",
      "Moved extracted_face_IMG_0917.JPEG_3.png to TOO_SIMILAR - Similarity: 85.49%\n"
     ]
    },
    {
     "name": "stderr",
     "output_type": "stream",
     "text": [
      "Analyzing Similarity:  38%|███▊      | 4484/11826 [01:45<01:54, 64.07it/s]"
     ]
    },
    {
     "name": "stdout",
     "output_type": "stream",
     "text": [
      "Moved extracted_face_IMG_0917.JPEG_9.png to TOO_SIMILAR - Similarity: 88.06%\n",
      "Moved extracted_face_IMG_0918.JPEG_0.png to TOO_SIMILAR - Similarity: 82.34%\n",
      "Moved extracted_face_IMG_0918.JPEG_4.png to TOO_SIMILAR - Similarity: 82.48%\n",
      "Moved extracted_face_IMG_0918.JPEG_5.png to TOO_SIMILAR - Similarity: 83.01%\n",
      "Moved extracted_face_IMG_0918.JPEG_7.png to TOO_SIMILAR - Similarity: 85.17%\n",
      "Moved extracted_face_IMG_0918.JPEG_8.png to TOO_SIMILAR - Similarity: 82.36%\n",
      "Moved extracted_face_IMG_0919.JPEG_0.png to TOO_SIMILAR - Similarity: 85.01%\n",
      "Moved extracted_face_IMG_0919.JPEG_1.png to TOO_SIMILAR - Similarity: 80.37%\n",
      "Moved extracted_face_IMG_0919.JPEG_10.png to TOO_SIMILAR - Similarity: 86.19%\n"
     ]
    },
    {
     "name": "stderr",
     "output_type": "stream",
     "text": [
      "Analyzing Similarity:  38%|███▊      | 4500/11826 [01:45<01:49, 66.91it/s]"
     ]
    },
    {
     "name": "stdout",
     "output_type": "stream",
     "text": [
      "Moved extracted_face_IMG_0919.JPEG_3.png to TOO_SIMILAR - Similarity: 80.95%\n",
      "Moved extracted_face_IMG_0919.JPEG_5.png to TOO_SIMILAR - Similarity: 82.99%\n",
      "Moved extracted_face_IMG_0919.JPEG_6.png to TOO_SIMILAR - Similarity: 85.05%\n",
      "Moved extracted_face_IMG_0919.JPEG_9.png to TOO_SIMILAR - Similarity: 86.97%\n",
      "Moved extracted_face_IMG_0920.JPEG_0.png to TOO_SIMILAR - Similarity: 85.59%\n",
      "Moved extracted_face_IMG_0920.JPEG_1.png to TOO_SIMILAR - Similarity: 81.54%\n",
      "Moved extracted_face_IMG_0920.JPEG_2.png to TOO_SIMILAR - Similarity: 82.31%\n",
      "Moved extracted_face_IMG_0920.JPEG_4.png to TOO_SIMILAR - Similarity: 84.06%\n",
      "Moved extracted_face_IMG_0920.JPEG_5.png to TOO_SIMILAR - Similarity: 86.67%\n"
     ]
    },
    {
     "name": "stderr",
     "output_type": "stream",
     "text": [
      "Analyzing Similarity:  38%|███▊      | 4514/11826 [01:45<01:54, 63.64it/s]"
     ]
    },
    {
     "name": "stdout",
     "output_type": "stream",
     "text": [
      "Moved extracted_face_IMG_0920.JPEG_8.png to TOO_SIMILAR - Similarity: 85.61%\n",
      "Moved extracted_face_IMG_0920.JPEG_9.png to TOO_SIMILAR - Similarity: 81.25%\n",
      "Moved extracted_face_IMG_0930.JPEG_1.png to TOO_SIMILAR - Similarity: 85.17%\n",
      "Moved extracted_face_IMG_0930.JPEG_2.png to TOO_SIMILAR - Similarity: 80.71%\n",
      "Moved extracted_face_IMG_0930.JPEG_3.png to TOO_SIMILAR - Similarity: 84.22%\n"
     ]
    },
    {
     "name": "stderr",
     "output_type": "stream",
     "text": [
      "Analyzing Similarity:  38%|███▊      | 4530/11826 [01:46<01:47, 67.82it/s]"
     ]
    },
    {
     "name": "stdout",
     "output_type": "stream",
     "text": [
      "Moved extracted_face_IMG_0935.JPEG_4.png to TOO_SIMILAR - Similarity: 83.30%\n",
      "Moved extracted_face_IMG_0939.JPEG_0.png to TOO_SIMILAR - Similarity: 83.66%\n",
      "Moved extracted_face_IMG_0940.JPEG_0.png to TOO_SIMILAR - Similarity: 81.33%\n",
      "Moved extracted_face_IMG_0940.JPEG_1.png to TOO_SIMILAR - Similarity: 88.48%\n",
      "Moved extracted_face_IMG_0941.JPEG_1.png to TOO_SIMILAR - Similarity: 85.57%\n"
     ]
    },
    {
     "name": "stderr",
     "output_type": "stream",
     "text": [
      "Analyzing Similarity:  38%|███▊      | 4546/11826 [01:46<01:43, 70.14it/s]"
     ]
    },
    {
     "name": "stdout",
     "output_type": "stream",
     "text": [
      "Moved extracted_face_IMG_0941.JPEG_2.png to TOO_SIMILAR - Similarity: 87.42%\n",
      "Moved extracted_face_IMG_0943.JPEG_0.png to TOO_SIMILAR - Similarity: 84.62%\n",
      "Moved extracted_face_IMG_0944.JPEG_0.png to TOO_SIMILAR - Similarity: 82.21%\n",
      "Moved extracted_face_IMG_0947.JPEG_0.png to TOO_SIMILAR - Similarity: 80.50%\n",
      "Moved extracted_face_IMG_0949.JPEG_4.png to TOO_SIMILAR - Similarity: 82.10%\n"
     ]
    },
    {
     "name": "stderr",
     "output_type": "stream",
     "text": [
      "Analyzing Similarity:  39%|███▊      | 4562/11826 [01:46<01:43, 70.12it/s]"
     ]
    },
    {
     "name": "stdout",
     "output_type": "stream",
     "text": [
      "Moved extracted_face_IMG_0958.JPEG_0.png to TOO_SIMILAR - Similarity: 82.49%\n",
      "Moved extracted_face_IMG_0962.JPEG_0.png to TOO_SIMILAR - Similarity: 80.82%\n",
      "Moved extracted_face_IMG_0963.JPEG_2.png to TOO_SIMILAR - Similarity: 85.32%\n"
     ]
    },
    {
     "name": "stderr",
     "output_type": "stream",
     "text": [
      "Analyzing Similarity:  39%|███▊      | 4578/11826 [01:46<01:45, 68.95it/s]"
     ]
    },
    {
     "name": "stdout",
     "output_type": "stream",
     "text": [
      "Moved extracted_face_IMG_0964-1.JPEG_0.png to TOO_SIMILAR - Similarity: 84.06%\n",
      "Moved extracted_face_IMG_0964-1.JPEG_2.png to TOO_SIMILAR - Similarity: 84.39%\n",
      "Moved extracted_face_IMG_0964-1.JPEG_3.png to TOO_SIMILAR - Similarity: 83.34%\n",
      "Moved extracted_face_IMG_0964-1.JPEG_4.png to TOO_SIMILAR - Similarity: 89.11%\n",
      "Moved extracted_face_IMG_0964.JPEG_1.png to TOO_SIMILAR - Similarity: 84.22%\n",
      "Moved extracted_face_IMG_0965-1.JPEG_2.png to TOO_SIMILAR - Similarity: 82.59%\n",
      "Moved extracted_face_IMG_0965.JPEG_0.png to TOO_SIMILAR - Similarity: 85.23%\n"
     ]
    },
    {
     "name": "stderr",
     "output_type": "stream",
     "text": [
      "Analyzing Similarity:  39%|███▉      | 4585/11826 [01:46<01:44, 69.10it/s]"
     ]
    },
    {
     "name": "stdout",
     "output_type": "stream",
     "text": [
      "Moved extracted_face_IMG_0965.JPEG_1.png to TOO_SIMILAR - Similarity: 83.68%\n",
      "Moved extracted_face_IMG_0965.JPEG_3.png to TOO_SIMILAR - Similarity: 87.42%\n",
      "Moved extracted_face_IMG_0965.JPEG_5.png to TOO_SIMILAR - Similarity: 86.94%\n",
      "Moved extracted_face_IMG_0965.JPEG_6.png to TOO_SIMILAR - Similarity: 83.73%\n",
      "Moved extracted_face_IMG_0965.JPEG_8.png to TOO_SIMILAR - Similarity: 85.46%\n"
     ]
    },
    {
     "name": "stderr",
     "output_type": "stream",
     "text": [
      "Analyzing Similarity:  39%|███▉      | 4598/11826 [01:47<02:17, 52.58it/s]"
     ]
    },
    {
     "name": "stdout",
     "output_type": "stream",
     "text": [
      "Moved extracted_face_IMG_0965.JPEG_9.png to TOO_SIMILAR - Similarity: 81.94%\n",
      "Moved extracted_face_IMG_0966-1.JPEG_3.png to TOO_SIMILAR - Similarity: 83.97%\n",
      "Moved extracted_face_IMG_0966.JPEG_1.png to TOO_SIMILAR - Similarity: 83.18%\n",
      "Moved extracted_face_IMG_0966.JPEG_2.png to TOO_SIMILAR - Similarity: 81.96%\n",
      "Moved extracted_face_IMG_0966.JPEG_3.png to TOO_SIMILAR - Similarity: 83.90%\n"
     ]
    },
    {
     "name": "stderr",
     "output_type": "stream",
     "text": [
      "Analyzing Similarity:  39%|███▉      | 4611/11826 [01:47<02:11, 55.04it/s]"
     ]
    },
    {
     "name": "stdout",
     "output_type": "stream",
     "text": [
      "Moved extracted_face_IMG_0966.JPEG_6.png to TOO_SIMILAR - Similarity: 85.20%\n",
      "Moved extracted_face_IMG_0966.JPEG_8.png to TOO_SIMILAR - Similarity: 85.00%\n",
      "Moved extracted_face_IMG_0966.JPEG_9.png to TOO_SIMILAR - Similarity: 81.76%\n",
      "Moved extracted_face_IMG_0967-1.JPEG_2.png to TOO_SIMILAR - Similarity: 83.80%\n",
      "Moved extracted_face_IMG_0967.JPEG_0.png to TOO_SIMILAR - Similarity: 83.74%\n",
      "Moved extracted_face_IMG_0967.JPEG_1.png to TOO_SIMILAR - Similarity: 82.57%\n",
      "Moved extracted_face_IMG_0967.JPEG_4.png to TOO_SIMILAR - Similarity: 80.51%\n",
      "Moved extracted_face_IMG_0967.JPEG_5.png to TOO_SIMILAR - Similarity: 85.69%\n"
     ]
    },
    {
     "name": "stderr",
     "output_type": "stream",
     "text": [
      "Analyzing Similarity:  39%|███▉      | 4626/11826 [01:47<01:53, 63.22it/s]"
     ]
    },
    {
     "name": "stdout",
     "output_type": "stream",
     "text": [
      "Moved extracted_face_IMG_0967.JPEG_6.png to TOO_SIMILAR - Similarity: 84.06%\n",
      "Moved extracted_face_IMG_0967.JPEG_8.png to TOO_SIMILAR - Similarity: 85.78%\n",
      "Moved extracted_face_IMG_0968-1.JPEG_4.png to TOO_SIMILAR - Similarity: 80.99%\n",
      "Moved extracted_face_IMG_0968.JPEG_0.png to TOO_SIMILAR - Similarity: 83.75%\n",
      "Moved extracted_face_IMG_0968.JPEG_2.png to TOO_SIMILAR - Similarity: 85.91%\n",
      "Moved extracted_face_IMG_0968.JPEG_5.png to TOO_SIMILAR - Similarity: 81.78%\n"
     ]
    },
    {
     "name": "stderr",
     "output_type": "stream",
     "text": [
      "Analyzing Similarity:  39%|███▉      | 4642/11826 [01:47<01:45, 67.97it/s]"
     ]
    },
    {
     "name": "stdout",
     "output_type": "stream",
     "text": [
      "Moved extracted_face_IMG_0968.JPEG_8.png to TOO_SIMILAR - Similarity: 84.69%\n",
      "Moved extracted_face_IMG_0969.JPEG_3.png to TOO_SIMILAR - Similarity: 82.48%\n",
      "Moved extracted_face_IMG_0970.JPEG_3.png to TOO_SIMILAR - Similarity: 84.59%\n",
      "Moved extracted_face_IMG_0970.JPEG_4.png to TOO_SIMILAR - Similarity: 80.96%\n",
      "Moved extracted_face_IMG_0970.JPEG_5.png to TOO_SIMILAR - Similarity: 83.63%\n"
     ]
    },
    {
     "name": "stderr",
     "output_type": "stream",
     "text": [
      "Analyzing Similarity:  39%|███▉      | 4658/11826 [01:48<01:44, 68.75it/s]"
     ]
    },
    {
     "name": "stdout",
     "output_type": "stream",
     "text": [
      "Moved extracted_face_IMG_0972.JPEG_3.png to TOO_SIMILAR - Similarity: 83.87%\n",
      "Moved extracted_face_IMG_0987.JPEG_0.png to TOO_SIMILAR - Similarity: 82.87%\n",
      "Moved extracted_face_IMG_0988.JPEG_1.png to TOO_SIMILAR - Similarity: 87.41%\n",
      "Moved extracted_face_IMG_1005.JPG_1.png to TOO_SIMILAR - Similarity: 87.67%\n",
      "Moved extracted_face_IMG_1006.JPG_2.png to TOO_SIMILAR - Similarity: 81.79%\n",
      "Moved extracted_face_IMG_1013.JPEG_0.png to TOO_SIMILAR - Similarity: 83.46%\n"
     ]
    },
    {
     "name": "stderr",
     "output_type": "stream",
     "text": [
      "Analyzing Similarity:  40%|███▉      | 4673/11826 [01:48<01:47, 66.79it/s]"
     ]
    },
    {
     "name": "stdout",
     "output_type": "stream",
     "text": [
      "Moved extracted_face_IMG_1014.JPEG_0.png to TOO_SIMILAR - Similarity: 81.02%\n",
      "Moved extracted_face_IMG_1014.JPEG_1.png to TOO_SIMILAR - Similarity: 86.93%\n",
      "Moved extracted_face_IMG_1015.JPEG_0.png to TOO_SIMILAR - Similarity: 83.19%\n",
      "Moved extracted_face_IMG_1015.JPEG_1.png to TOO_SIMILAR - Similarity: 85.72%\n",
      "Moved extracted_face_IMG_1015.JPEG_2.png to TOO_SIMILAR - Similarity: 80.34%\n",
      "Moved extracted_face_IMG_1016.JPEG_0.png to TOO_SIMILAR - Similarity: 84.62%\n",
      "Moved extracted_face_IMG_1016.JPEG_1.png to TOO_SIMILAR - Similarity: 85.01%\n",
      "Moved extracted_face_IMG_1016.JPEG_2.png to TOO_SIMILAR - Similarity: 81.28%\n",
      "Moved extracted_face_IMG_1016.JPEG_3.png to TOO_SIMILAR - Similarity: 84.87%\n",
      "Moved extracted_face_IMG_1016.JPEG_4.png to TOO_SIMILAR - Similarity: 86.21%\n",
      "Moved extracted_face_IMG_1016.JPEG_6.png to TOO_SIMILAR - Similarity: 81.65%\n",
      "Moved extracted_face_IMG_1017.JPEG_0.png to TOO_SIMILAR - Similarity: 82.43%\n",
      "Moved extracted_face_IMG_1017.JPEG_1.png to TOO_SIMILAR - Similarity: 84.82%\n"
     ]
    },
    {
     "name": "stderr",
     "output_type": "stream",
     "text": [
      "Analyzing Similarity:  40%|███▉      | 4687/11826 [01:48<01:52, 63.23it/s]"
     ]
    },
    {
     "name": "stdout",
     "output_type": "stream",
     "text": [
      "Moved extracted_face_IMG_1017.JPEG_3.png to TOO_SIMILAR - Similarity: 85.27%\n",
      "Moved extracted_face_IMG_1017.JPEG_4.png to TOO_SIMILAR - Similarity: 88.00%\n",
      "Moved extracted_face_IMG_1018.JPEG_0.png to TOO_SIMILAR - Similarity: 82.64%\n",
      "Moved extracted_face_IMG_1018.JPEG_1.png to TOO_SIMILAR - Similarity: 88.17%\n",
      "Moved extracted_face_IMG_1018.JPEG_2.png to TOO_SIMILAR - Similarity: 84.72%\n",
      "Moved extracted_face_IMG_1018.JPEG_3.png to TOO_SIMILAR - Similarity: 85.50%\n",
      "Moved extracted_face_IMG_1018.JPEG_4.png to TOO_SIMILAR - Similarity: 84.70%\n",
      "Moved extracted_face_IMG_1019.JPEG_0.png to TOO_SIMILAR - Similarity: 84.15%\n",
      "Moved extracted_face_IMG_1019.JPEG_1.png to TOO_SIMILAR - Similarity: 81.84%\n",
      "Moved extracted_face_IMG_1019.JPEG_2.png to TOO_SIMILAR - Similarity: 87.33%\n",
      "Moved extracted_face_IMG_1019.JPEG_3.png to TOO_SIMILAR - Similarity: 84.34%\n"
     ]
    },
    {
     "name": "stderr",
     "output_type": "stream",
     "text": [
      "Analyzing Similarity:  40%|███▉      | 4708/11826 [01:48<01:47, 66.51it/s]"
     ]
    },
    {
     "name": "stdout",
     "output_type": "stream",
     "text": [
      "Moved extracted_face_IMG_1021.JPEG_1.png to TOO_SIMILAR - Similarity: 85.39%\n",
      "Moved extracted_face_IMG_1021.JPEG_4.png to TOO_SIMILAR - Similarity: 85.80%\n",
      "Moved extracted_face_IMG_1021.JPEG_6.png to TOO_SIMILAR - Similarity: 85.79%\n",
      "Moved extracted_face_IMG_1021.JPEG_7.png to TOO_SIMILAR - Similarity: 80.71%\n",
      "Moved extracted_face_IMG_1036.JPEG_0.png to TOO_SIMILAR - Similarity: 81.22%\n"
     ]
    },
    {
     "name": "stderr",
     "output_type": "stream",
     "text": [
      "Analyzing Similarity:  40%|███▉      | 4715/11826 [01:49<01:51, 63.62it/s]"
     ]
    },
    {
     "name": "stdout",
     "output_type": "stream",
     "text": [
      "Moved extracted_face_IMG_1036.JPEG_1.png to TOO_SIMILAR - Similarity: 81.08%\n",
      "Moved extracted_face_IMG_1036.JPEG_2.png to TOO_SIMILAR - Similarity: 89.09%\n",
      "Moved extracted_face_IMG_1037.JPEG_0.png to TOO_SIMILAR - Similarity: 80.81%\n",
      "Moved extracted_face_IMG_1037.JPEG_1.png to TOO_SIMILAR - Similarity: 87.90%\n",
      "Moved extracted_face_IMG_1037.JPEG_2.png to TOO_SIMILAR - Similarity: 84.36%\n",
      "Moved extracted_face_IMG_1037.JPEG_3.png to TOO_SIMILAR - Similarity: 80.11%\n",
      "Moved extracted_face_IMG_1038.JPEG_0.png to TOO_SIMILAR - Similarity: 87.28%\n",
      "Moved extracted_face_IMG_1038.JPEG_1.png to TOO_SIMILAR - Similarity: 82.08%\n",
      "Moved extracted_face_IMG_1038.JPEG_2.png to TOO_SIMILAR - Similarity: 82.06%\n",
      "Moved extracted_face_IMG_1038.JPEG_3.png to TOO_SIMILAR - Similarity: 85.56%\n",
      "Moved extracted_face_IMG_1039.JPEG_0.png to TOO_SIMILAR - Similarity: 86.43%\n",
      "Moved extracted_face_IMG_1039.JPEG_1.png to TOO_SIMILAR - Similarity: 80.91%\n"
     ]
    },
    {
     "name": "stderr",
     "output_type": "stream",
     "text": [
      "Analyzing Similarity:  40%|███▉      | 4722/11826 [01:49<01:50, 64.37it/s]"
     ]
    },
    {
     "name": "stdout",
     "output_type": "stream",
     "text": [
      "Moved extracted_face_IMG_1039.JPEG_2.png to TOO_SIMILAR - Similarity: 83.62%\n",
      "Moved extracted_face_IMG_1039.JPEG_3.png to TOO_SIMILAR - Similarity: 84.92%\n",
      "Moved extracted_face_IMG_1040.JPEG_0.png to TOO_SIMILAR - Similarity: 83.90%\n",
      "Moved extracted_face_IMG_1040.JPEG_1.png to TOO_SIMILAR - Similarity: 84.24%\n",
      "Moved extracted_face_IMG_1040.JPEG_3.png to TOO_SIMILAR - Similarity: 86.63%\n"
     ]
    },
    {
     "name": "stderr",
     "output_type": "stream",
     "text": [
      "Analyzing Similarity:  40%|████      | 4742/11826 [01:49<02:06, 55.92it/s]"
     ]
    },
    {
     "name": "stdout",
     "output_type": "stream",
     "text": [
      "Moved extracted_face_IMG_1047.JPG_0.png to TOO_SIMILAR - Similarity: 82.66%\n",
      "Moved extracted_face_IMG_1047.JPG_1.png to TOO_SIMILAR - Similarity: 83.42%\n",
      "Moved extracted_face_IMG_1047.JPG_11.png to TOO_SIMILAR - Similarity: 81.93%\n",
      "Moved extracted_face_IMG_1047.JPG_2.png to TOO_SIMILAR - Similarity: 86.15%\n",
      "Moved extracted_face_IMG_1047.JPG_3.png to TOO_SIMILAR - Similarity: 85.47%\n",
      "Moved extracted_face_IMG_1047.JPG_4.png to TOO_SIMILAR - Similarity: 85.42%\n",
      "Moved extracted_face_IMG_1047.JPG_5.png to TOO_SIMILAR - Similarity: 82.57%\n",
      "Moved extracted_face_IMG_1047.JPG_7.png to TOO_SIMILAR - Similarity: 82.22%\n",
      "Moved extracted_face_IMG_1047.JPG_9.png to TOO_SIMILAR - Similarity: 85.21%\n"
     ]
    },
    {
     "name": "stderr",
     "output_type": "stream",
     "text": [
      "Analyzing Similarity:  40%|████      | 4765/11826 [01:49<01:46, 66.19it/s]"
     ]
    },
    {
     "name": "stdout",
     "output_type": "stream",
     "text": [
      "Moved extracted_face_IMG_1056.JPEG_4.png to TOO_SIMILAR - Similarity: 81.99%\n",
      "Moved extracted_face_IMG_1056.JPEG_5.png to TOO_SIMILAR - Similarity: 81.65%\n",
      "Moved extracted_face_IMG_1056.JPEG_7.png to TOO_SIMILAR - Similarity: 81.05%\n",
      "Moved extracted_face_IMG_1057.JPEG_3.png to TOO_SIMILAR - Similarity: 82.47%\n",
      "Moved extracted_face_IMG_1057.JPEG_4.png to TOO_SIMILAR - Similarity: 82.07%\n"
     ]
    },
    {
     "name": "stderr",
     "output_type": "stream",
     "text": [
      "Analyzing Similarity:  40%|████      | 4772/11826 [01:50<01:48, 65.05it/s]"
     ]
    },
    {
     "name": "stdout",
     "output_type": "stream",
     "text": [
      "Moved extracted_face_IMG_1057.JPEG_9.png to TOO_SIMILAR - Similarity: 82.88%\n",
      "Moved extracted_face_IMG_1058.JPEG_0.png to TOO_SIMILAR - Similarity: 81.41%\n",
      "Moved extracted_face_IMG_1058.JPEG_1.png to TOO_SIMILAR - Similarity: 85.62%\n",
      "Moved extracted_face_IMG_1058.JPEG_2.png to TOO_SIMILAR - Similarity: 81.69%\n",
      "Moved extracted_face_IMG_1058.JPEG_3.png to TOO_SIMILAR - Similarity: 80.28%\n",
      "Moved extracted_face_IMG_1059.JPEG_0.png to TOO_SIMILAR - Similarity: 86.50%\n"
     ]
    },
    {
     "name": "stderr",
     "output_type": "stream",
     "text": [
      "Analyzing Similarity:  40%|████      | 4787/11826 [01:50<01:43, 67.69it/s]"
     ]
    },
    {
     "name": "stdout",
     "output_type": "stream",
     "text": [
      "Moved extracted_face_IMG_1059.JPEG_1.png to TOO_SIMILAR - Similarity: 80.81%\n",
      "Moved extracted_face_IMG_1059.JPEG_2.png to TOO_SIMILAR - Similarity: 82.50%\n",
      "Moved extracted_face_IMG_1060.JPEG_10.png to TOO_SIMILAR - Similarity: 81.71%\n"
     ]
    },
    {
     "name": "stderr",
     "output_type": "stream",
     "text": [
      "Analyzing Similarity:  41%|████      | 4811/11826 [01:50<01:37, 72.32it/s]"
     ]
    },
    {
     "name": "stdout",
     "output_type": "stream",
     "text": [
      "Moved extracted_face_IMG_1060.JPEG_2.png to TOO_SIMILAR - Similarity: 81.04%\n",
      "Moved extracted_face_IMG_1060.JPEG_4.png to TOO_SIMILAR - Similarity: 84.46%\n",
      "Moved extracted_face_IMG_1060.JPEG_5.png to TOO_SIMILAR - Similarity: 80.88%\n",
      "Moved extracted_face_IMG_1060.JPEG_9.png to TOO_SIMILAR - Similarity: 88.36%\n",
      "Moved extracted_face_IMG_1061.JPEG_1.png to TOO_SIMILAR - Similarity: 80.12%\n",
      "Moved extracted_face_IMG_1061.JPEG_10.png to TOO_SIMILAR - Similarity: 81.15%\n",
      "Moved extracted_face_IMG_1061.JPEG_2.png to TOO_SIMILAR - Similarity: 83.27%\n",
      "Moved extracted_face_IMG_1061.JPEG_4.png to TOO_SIMILAR - Similarity: 81.27%\n"
     ]
    },
    {
     "name": "stderr",
     "output_type": "stream",
     "text": [
      "Analyzing Similarity:  41%|████      | 4819/11826 [01:50<01:36, 72.51it/s]"
     ]
    },
    {
     "name": "stdout",
     "output_type": "stream",
     "text": [
      "Moved extracted_face_IMG_1061.JPEG_9.png to TOO_SIMILAR - Similarity: 84.77%\n",
      "Moved extracted_face_IMG_1062.JPEG_0.png to TOO_SIMILAR - Similarity: 80.03%\n",
      "Moved extracted_face_IMG_1062.JPEG_11.png to TOO_SIMILAR - Similarity: 80.17%\n",
      "Moved extracted_face_IMG_1062.JPEG_13.png to TOO_SIMILAR - Similarity: 87.90%\n",
      "Moved extracted_face_IMG_1062.JPEG_3.png to TOO_SIMILAR - Similarity: 82.96%\n",
      "Moved extracted_face_IMG_1062.JPEG_4.png to TOO_SIMILAR - Similarity: 81.21%\n"
     ]
    },
    {
     "name": "stderr",
     "output_type": "stream",
     "text": [
      "Analyzing Similarity:  41%|████      | 4843/11826 [01:51<01:39, 70.49it/s]"
     ]
    },
    {
     "name": "stdout",
     "output_type": "stream",
     "text": [
      "Moved extracted_face_IMG_1063.JPEG_14.png to TOO_SIMILAR - Similarity: 82.28%\n",
      "Moved extracted_face_IMG_1063.JPEG_2.png to TOO_SIMILAR - Similarity: 84.87%\n",
      "Moved extracted_face_IMG_1063.JPEG_3.png to TOO_SIMILAR - Similarity: 82.03%\n",
      "Moved extracted_face_IMG_1063.JPEG_6.png to TOO_SIMILAR - Similarity: 83.43%\n",
      "Moved extracted_face_IMG_1063.JPEG_7.png to TOO_SIMILAR - Similarity: 83.22%\n",
      "Moved extracted_face_IMG_1064.JPEG_11.png to TOO_SIMILAR - Similarity: 85.67%\n",
      "Moved extracted_face_IMG_1064.JPEG_12.png to TOO_SIMILAR - Similarity: 82.42%\n"
     ]
    },
    {
     "name": "stderr",
     "output_type": "stream",
     "text": [
      "Analyzing Similarity:  41%|████      | 4859/11826 [01:51<01:35, 72.88it/s]"
     ]
    },
    {
     "name": "stdout",
     "output_type": "stream",
     "text": [
      "Moved extracted_face_IMG_1064.JPEG_3.png to TOO_SIMILAR - Similarity: 83.10%\n",
      "Moved extracted_face_IMG_1064.JPEG_4.png to TOO_SIMILAR - Similarity: 82.07%\n",
      "Moved extracted_face_IMG_1064.JPEG_5.png to TOO_SIMILAR - Similarity: 84.09%\n",
      "Moved extracted_face_IMG_1064.JPEG_8.png to TOO_SIMILAR - Similarity: 80.80%\n",
      "Moved extracted_face_IMG_1064.JPEG_9.png to TOO_SIMILAR - Similarity: 81.24%\n",
      "Moved extracted_face_IMG_1067.JPEG_2.png to TOO_SIMILAR - Similarity: 83.32%\n",
      "Moved extracted_face_IMG_1067.JPEG_3.png to TOO_SIMILAR - Similarity: 82.69%\n",
      "Moved extracted_face_IMG_1067.JPEG_6.png to TOO_SIMILAR - Similarity: 83.60%\n"
     ]
    },
    {
     "name": "stderr",
     "output_type": "stream",
     "text": [
      "Analyzing Similarity:  41%|████      | 4875/11826 [01:51<01:38, 70.35it/s]"
     ]
    },
    {
     "name": "stdout",
     "output_type": "stream",
     "text": [
      "Moved extracted_face_IMG_1068.JPEG_1.png to TOO_SIMILAR - Similarity: 86.91%\n",
      "Moved extracted_face_IMG_1068.JPEG_2.png to TOO_SIMILAR - Similarity: 83.40%\n",
      "Moved extracted_face_IMG_1068.JPEG_3.png to TOO_SIMILAR - Similarity: 83.08%\n",
      "Moved extracted_face_IMG_1068.JPEG_8.png to TOO_SIMILAR - Similarity: 81.77%\n",
      "Moved extracted_face_IMG_1068.JPEG_9.png to TOO_SIMILAR - Similarity: 85.97%\n",
      "Moved extracted_face_IMG_1069.JPEG_1.png to TOO_SIMILAR - Similarity: 84.16%\n"
     ]
    },
    {
     "name": "stderr",
     "output_type": "stream",
     "text": [
      "Analyzing Similarity:  41%|████▏     | 4891/11826 [01:51<01:38, 70.41it/s]"
     ]
    },
    {
     "name": "stdout",
     "output_type": "stream",
     "text": [
      "Moved extracted_face_IMG_1069.JPEG_2.png to TOO_SIMILAR - Similarity: 80.40%\n",
      "Moved extracted_face_IMG_1069.JPEG_4.png to TOO_SIMILAR - Similarity: 86.01%\n",
      "Moved extracted_face_IMG_1069.JPEG_6.png to TOO_SIMILAR - Similarity: 80.22%\n",
      "Moved extracted_face_IMG_1070.JPEG_0.png to TOO_SIMILAR - Similarity: 85.24%\n",
      "Moved extracted_face_IMG_1070.JPEG_1.png to TOO_SIMILAR - Similarity: 85.65%\n",
      "Moved extracted_face_IMG_1070.JPEG_2.png to TOO_SIMILAR - Similarity: 84.21%\n",
      "Moved extracted_face_IMG_1070.JPEG_5.png to TOO_SIMILAR - Similarity: 82.61%\n"
     ]
    },
    {
     "name": "stderr",
     "output_type": "stream",
     "text": [
      "Analyzing Similarity:  41%|████▏     | 4899/11826 [01:51<01:37, 71.34it/s]"
     ]
    },
    {
     "name": "stdout",
     "output_type": "stream",
     "text": [
      "Moved extracted_face_IMG_1070.JPEG_7.png to TOO_SIMILAR - Similarity: 84.67%\n",
      "Moved extracted_face_IMG_1072.JPEG_0.png to TOO_SIMILAR - Similarity: 83.37%\n",
      "Moved extracted_face_IMG_1072.JPEG_1.png to TOO_SIMILAR - Similarity: 86.16%\n",
      "Moved extracted_face_IMG_1072.JPEG_2.png to TOO_SIMILAR - Similarity: 84.94%\n"
     ]
    },
    {
     "name": "stderr",
     "output_type": "stream",
     "text": [
      "Analyzing Similarity:  42%|████▏     | 4915/11826 [01:52<01:57, 58.79it/s]"
     ]
    },
    {
     "name": "stdout",
     "output_type": "stream",
     "text": [
      "Moved extracted_face_IMG_1072.JPEG_4.png to TOO_SIMILAR - Similarity: 81.04%\n",
      "Moved extracted_face_IMG_1072.JPEG_5.png to TOO_SIMILAR - Similarity: 83.53%\n",
      "Moved extracted_face_IMG_1073.JPEG_0.png to TOO_SIMILAR - Similarity: 84.34%\n",
      "Moved extracted_face_IMG_1073.JPEG_4.png to TOO_SIMILAR - Similarity: 80.24%\n",
      "Moved extracted_face_IMG_1073.JPEG_7.png to TOO_SIMILAR - Similarity: 81.80%\n"
     ]
    },
    {
     "name": "stderr",
     "output_type": "stream",
     "text": [
      "Analyzing Similarity:  42%|████▏     | 4930/11826 [01:52<01:47, 63.95it/s]"
     ]
    },
    {
     "name": "stdout",
     "output_type": "stream",
     "text": [
      "Moved extracted_face_IMG_1074.JPEG_1.png to TOO_SIMILAR - Similarity: 87.02%\n",
      "Moved extracted_face_IMG_1074.JPEG_3.png to TOO_SIMILAR - Similarity: 80.92%\n",
      "Moved extracted_face_IMG_1074.JPEG_4.png to TOO_SIMILAR - Similarity: 82.48%\n",
      "Moved extracted_face_IMG_1074.JPEG_7.png to TOO_SIMILAR - Similarity: 81.94%\n",
      "Moved extracted_face_IMG_1078.JPEG_0.png to TOO_SIMILAR - Similarity: 84.01%\n",
      "Moved extracted_face_IMG_1080.JPEG_4.png to TOO_SIMILAR - Similarity: 81.93%\n",
      "Moved extracted_face_IMG_1080.JPEG_5.png to TOO_SIMILAR - Similarity: 87.13%\n"
     ]
    },
    {
     "name": "stderr",
     "output_type": "stream",
     "text": [
      "Analyzing Similarity:  42%|████▏     | 4945/11826 [01:52<01:46, 64.69it/s]"
     ]
    },
    {
     "name": "stdout",
     "output_type": "stream",
     "text": [
      "Moved extracted_face_IMG_1081.JPEG_0.png to TOO_SIMILAR - Similarity: 83.80%\n",
      "Moved extracted_face_IMG_1081.JPEG_3.png to TOO_SIMILAR - Similarity: 80.40%\n",
      "Moved extracted_face_IMG_1081.JPEG_4.png to TOO_SIMILAR - Similarity: 82.63%\n",
      "Moved extracted_face_IMG_1082.JPEG_3.png to TOO_SIMILAR - Similarity: 80.35%\n",
      "Moved extracted_face_IMG_1082.JPEG_5.png to TOO_SIMILAR - Similarity: 83.59%\n",
      "Moved extracted_face_IMG_1082.JPEG_6.png to TOO_SIMILAR - Similarity: 84.02%\n"
     ]
    },
    {
     "name": "stderr",
     "output_type": "stream",
     "text": [
      "Analyzing Similarity:  42%|████▏     | 4961/11826 [01:52<01:38, 69.78it/s]"
     ]
    },
    {
     "name": "stdout",
     "output_type": "stream",
     "text": [
      "Moved extracted_face_IMG_1082.JPEG_7.png to TOO_SIMILAR - Similarity: 87.44%\n",
      "Moved extracted_face_IMG_1082.JPEG_8.png to TOO_SIMILAR - Similarity: 80.26%\n",
      "Moved extracted_face_IMG_1083.JPEG_3.png to TOO_SIMILAR - Similarity: 82.32%\n",
      "Moved extracted_face_IMG_1083.JPEG_5.png to TOO_SIMILAR - Similarity: 81.81%\n",
      "Moved extracted_face_IMG_1083.JPEG_6.png to TOO_SIMILAR - Similarity: 81.73%\n",
      "Moved extracted_face_IMG_1083.JPEG_7.png to TOO_SIMILAR - Similarity: 86.46%\n",
      "Moved extracted_face_IMG_1084.JPEG_2.png to TOO_SIMILAR - Similarity: 82.36%\n",
      "Moved extracted_face_IMG_1084.JPEG_3.png to TOO_SIMILAR - Similarity: 81.45%\n",
      "Moved extracted_face_IMG_1084.JPEG_4.png to TOO_SIMILAR - Similarity: 83.71%\n",
      "Moved extracted_face_IMG_1084.JPEG_5.png to TOO_SIMILAR - Similarity: 88.19%\n",
      "Moved extracted_face_IMG_1084.JPEG_6.png to TOO_SIMILAR - Similarity: 82.85%\n"
     ]
    },
    {
     "name": "stderr",
     "output_type": "stream",
     "text": [
      "Analyzing Similarity:  42%|████▏     | 4969/11826 [01:52<01:35, 71.48it/s]"
     ]
    },
    {
     "name": "stdout",
     "output_type": "stream",
     "text": [
      "Moved extracted_face_IMG_1084.JPEG_7.png to TOO_SIMILAR - Similarity: 82.48%\n",
      "Moved extracted_face_IMG_1085.JPEG_1.png to TOO_SIMILAR - Similarity: 90.64%\n",
      "Moved extracted_face_IMG_1085.JPEG_4.png to TOO_SIMILAR - Similarity: 84.28%\n",
      "Moved extracted_face_IMG_1085.JPEG_7.png to TOO_SIMILAR - Similarity: 82.06%\n",
      "Moved extracted_face_IMG_1085.JPEG_8.png to TOO_SIMILAR - Similarity: 81.69%\n",
      "Moved extracted_face_IMG_1086.JPEG_0.png to TOO_SIMILAR - Similarity: 84.59%\n",
      "Moved extracted_face_IMG_1086.JPEG_2.png to TOO_SIMILAR - Similarity: 81.36%\n",
      "Moved extracted_face_IMG_1086.JPEG_3.png to TOO_SIMILAR - Similarity: 84.42%\n",
      "Moved extracted_face_IMG_1086.JPEG_4.png to TOO_SIMILAR - Similarity: 83.75%\n"
     ]
    },
    {
     "name": "stderr",
     "output_type": "stream",
     "text": [
      "Analyzing Similarity:  42%|████▏     | 4984/11826 [01:53<01:42, 66.51it/s]"
     ]
    },
    {
     "name": "stdout",
     "output_type": "stream",
     "text": [
      "Moved extracted_face_IMG_1086.JPEG_5.png to TOO_SIMILAR - Similarity: 83.01%\n",
      "Moved extracted_face_IMG_1087.JPEG_0.png to TOO_SIMILAR - Similarity: 84.80%\n",
      "Moved extracted_face_IMG_1087.JPEG_2.png to TOO_SIMILAR - Similarity: 82.26%\n",
      "Moved extracted_face_IMG_1087.JPEG_3.png to TOO_SIMILAR - Similarity: 83.93%\n",
      "Moved extracted_face_IMG_1087.JPEG_4.png to TOO_SIMILAR - Similarity: 81.10%\n",
      "Moved extracted_face_IMG_1087.JPEG_5.png to TOO_SIMILAR - Similarity: 84.01%\n",
      "Moved extracted_face_IMG_1088.JPEG_0.png to TOO_SIMILAR - Similarity: 84.70%\n",
      "Moved extracted_face_IMG_1088.JPEG_1.png to TOO_SIMILAR - Similarity: 85.78%\n",
      "Moved extracted_face_IMG_1088.JPEG_2.png to TOO_SIMILAR - Similarity: 82.23%\n",
      "Moved extracted_face_IMG_1088.JPEG_3.png to TOO_SIMILAR - Similarity: 83.78%\n",
      "Moved extracted_face_IMG_1088.JPEG_4.png to TOO_SIMILAR - Similarity: 81.77%\n",
      "Moved extracted_face_IMG_1088.JPEG_6.png to TOO_SIMILAR - Similarity: 83.53%\n",
      "Moved extracted_face_IMG_1093.JPEG_0.png to TOO_SIMILAR - Similarity: 84.09%\n"
     ]
    },
    {
     "name": "stderr",
     "output_type": "stream",
     "text": [
      "Analyzing Similarity:  42%|████▏     | 5005/11826 [01:53<01:40, 67.63it/s]"
     ]
    },
    {
     "name": "stdout",
     "output_type": "stream",
     "text": [
      "Moved extracted_face_IMG_1107.JPG_0.png to TOO_SIMILAR - Similarity: 80.04%\n",
      "Moved extracted_face_IMG_1109.JPEG_0.png to TOO_SIMILAR - Similarity: 80.38%\n",
      "Moved extracted_face_IMG_1121.JPEG_1.png to TOO_SIMILAR - Similarity: 81.65%\n"
     ]
    },
    {
     "name": "stderr",
     "output_type": "stream",
     "text": [
      "Analyzing Similarity:  42%|████▏     | 5019/11826 [01:53<01:41, 67.10it/s]"
     ]
    },
    {
     "name": "stdout",
     "output_type": "stream",
     "text": [
      "Moved extracted_face_IMG_1122.JPEG_4.png to TOO_SIMILAR - Similarity: 80.59%\n",
      "Moved extracted_face_IMG_1122.JPEG_5.png to TOO_SIMILAR - Similarity: 81.46%\n",
      "Moved extracted_face_IMG_1123.JPEG_1.png to TOO_SIMILAR - Similarity: 80.89%\n",
      "Moved extracted_face_IMG_1123.JPEG_2.png to TOO_SIMILAR - Similarity: 80.34%\n",
      "Moved extracted_face_IMG_1123.JPEG_4.png to TOO_SIMILAR - Similarity: 81.14%\n",
      "Moved extracted_face_IMG_1124.JPEG_0.png to TOO_SIMILAR - Similarity: 80.41%\n",
      "Moved extracted_face_IMG_1124.JPEG_1.png to TOO_SIMILAR - Similarity: 82.68%\n"
     ]
    },
    {
     "name": "stderr",
     "output_type": "stream",
     "text": [
      "Analyzing Similarity:  43%|████▎     | 5033/11826 [01:53<01:47, 62.93it/s]"
     ]
    },
    {
     "name": "stdout",
     "output_type": "stream",
     "text": [
      "Moved extracted_face_IMG_1124.JPEG_6.png to TOO_SIMILAR - Similarity: 80.09%\n",
      "Moved extracted_face_IMG_1125.JPEG_2.png to TOO_SIMILAR - Similarity: 83.47%\n",
      "Moved extracted_face_IMG_1125.JPEG_5.png to TOO_SIMILAR - Similarity: 80.81%\n",
      "Moved extracted_face_IMG_1126.JPEG_1.png to TOO_SIMILAR - Similarity: 81.94%\n"
     ]
    },
    {
     "name": "stderr",
     "output_type": "stream",
     "text": [
      "Analyzing Similarity:  43%|████▎     | 5040/11826 [01:54<01:53, 59.89it/s]"
     ]
    },
    {
     "name": "stdout",
     "output_type": "stream",
     "text": [
      "Moved extracted_face_IMG_1127.JPEG_0.png to TOO_SIMILAR - Similarity: 81.01%\n",
      "Moved extracted_face_IMG_1127.JPEG_2.png to TOO_SIMILAR - Similarity: 81.72%\n",
      "Moved extracted_face_IMG_1127.JPEG_3.png to TOO_SIMILAR - Similarity: 82.91%\n",
      "Moved extracted_face_IMG_1127.JPEG_4.png to TOO_SIMILAR - Similarity: 84.48%\n",
      "Moved extracted_face_IMG_1127.JPEG_6.png to TOO_SIMILAR - Similarity: 86.59%\n",
      "Moved extracted_face_IMG_1128.JPEG_0.png to TOO_SIMILAR - Similarity: 80.72%\n",
      "Moved extracted_face_IMG_1128.JPEG_1.png to TOO_SIMILAR - Similarity: 81.27%\n"
     ]
    },
    {
     "name": "stderr",
     "output_type": "stream",
     "text": [
      "Analyzing Similarity:  43%|████▎     | 5053/11826 [01:54<02:20, 48.06it/s]"
     ]
    },
    {
     "name": "stdout",
     "output_type": "stream",
     "text": [
      "Moved extracted_face_IMG_1128.JPEG_3.png to TOO_SIMILAR - Similarity: 82.77%\n",
      "Moved extracted_face_IMG_1128.JPEG_4.png to TOO_SIMILAR - Similarity: 82.97%\n",
      "Moved extracted_face_IMG_1128.JPEG_6.png to TOO_SIMILAR - Similarity: 86.05%\n",
      "Moved extracted_face_IMG_1131.JPEG_1.png to TOO_SIMILAR - Similarity: 85.74%\n",
      "Moved extracted_face_IMG_1131.JPEG_2.png to TOO_SIMILAR - Similarity: 89.33%\n",
      "Moved extracted_face_IMG_1131.JPEG_3.png to TOO_SIMILAR - Similarity: 86.16%\n",
      "Moved extracted_face_IMG_1132.JPEG_0.png to TOO_SIMILAR - Similarity: 84.84%\n",
      "Moved extracted_face_IMG_1132.JPEG_2.png to TOO_SIMILAR - Similarity: 89.29%\n"
     ]
    },
    {
     "name": "stderr",
     "output_type": "stream",
     "text": [
      "Analyzing Similarity:  43%|████▎     | 5065/11826 [01:54<02:11, 51.41it/s]"
     ]
    },
    {
     "name": "stdout",
     "output_type": "stream",
     "text": [
      "Moved extracted_face_IMG_1132.JPEG_4.png to TOO_SIMILAR - Similarity: 87.05%\n",
      "Moved extracted_face_IMG_1132.JPEG_5.png to TOO_SIMILAR - Similarity: 85.62%\n",
      "Moved extracted_face_IMG_1133.JPEG_0.png to TOO_SIMILAR - Similarity: 85.07%\n",
      "Moved extracted_face_IMG_1133.JPEG_2.png to TOO_SIMILAR - Similarity: 88.65%\n",
      "Moved extracted_face_IMG_1133.JPEG_5.png to TOO_SIMILAR - Similarity: 84.91%\n",
      "Moved extracted_face_IMG_1133.JPEG_6.png to TOO_SIMILAR - Similarity: 85.32%\n",
      "Moved extracted_face_IMG_1134.JPEG_0.png to TOO_SIMILAR - Similarity: 82.58%\n",
      "Moved extracted_face_IMG_1134.JPEG_1.png to TOO_SIMILAR - Similarity: 86.14%\n",
      "Moved extracted_face_IMG_1134.JPEG_2.png to TOO_SIMILAR - Similarity: 85.37%\n"
     ]
    },
    {
     "name": "stderr",
     "output_type": "stream",
     "text": [
      "Analyzing Similarity:  43%|████▎     | 5095/11826 [01:55<01:46, 62.91it/s]"
     ]
    },
    {
     "name": "stdout",
     "output_type": "stream",
     "text": [
      "Moved extracted_face_IMG_1160.JPG_0.png to TOO_SIMILAR - Similarity: 82.73%\n",
      "Moved extracted_face_IMG_1174.JPEG_1.png to TOO_SIMILAR - Similarity: 84.80%\n",
      "Moved extracted_face_IMG_1177.JPEG_1.png to TOO_SIMILAR - Similarity: 80.76%\n",
      "Moved extracted_face_IMG_1177.JPEG_2.png to TOO_SIMILAR - Similarity: 85.45%\n"
     ]
    },
    {
     "name": "stderr",
     "output_type": "stream",
     "text": [
      "Analyzing Similarity:  43%|████▎     | 5116/11826 [01:55<01:49, 61.20it/s]"
     ]
    },
    {
     "name": "stdout",
     "output_type": "stream",
     "text": [
      "Moved extracted_face_IMG_1197.JPEG_0.png to TOO_SIMILAR - Similarity: 81.29%\n",
      "Moved extracted_face_IMG_1197.JPEG_2.png to TOO_SIMILAR - Similarity: 80.70%\n",
      "Moved extracted_face_IMG_1198.JPEG_0.png to TOO_SIMILAR - Similarity: 80.10%\n",
      "Moved extracted_face_IMG_1200.JPEG_1.png to TOO_SIMILAR - Similarity: 80.84%\n",
      "Moved extracted_face_IMG_1200.JPEG_2.png to TOO_SIMILAR - Similarity: 82.87%\n"
     ]
    },
    {
     "name": "stderr",
     "output_type": "stream",
     "text": [
      "Analyzing Similarity:  43%|████▎     | 5131/11826 [01:55<01:40, 66.63it/s]"
     ]
    },
    {
     "name": "stdout",
     "output_type": "stream",
     "text": [
      "Moved extracted_face_IMG_1208.JPG_0.png to TOO_SIMILAR - Similarity: 84.71%\n",
      "Moved extracted_face_IMG_1208.JPG_1.png to TOO_SIMILAR - Similarity: 80.73%\n",
      "Moved extracted_face_IMG_1212.JPEG_1.png to TOO_SIMILAR - Similarity: 83.63%\n",
      "Moved extracted_face_IMG_1212.JPEG_3.png to TOO_SIMILAR - Similarity: 84.75%\n",
      "Moved extracted_face_IMG_1212.JPEG_4.png to TOO_SIMILAR - Similarity: 87.69%\n",
      "Moved extracted_face_IMG_1213.JPEG_3.png to TOO_SIMILAR - Similarity: 83.22%\n",
      "Moved extracted_face_IMG_1213.JPEG_4.png to TOO_SIMILAR - Similarity: 88.97%\n"
     ]
    },
    {
     "name": "stderr",
     "output_type": "stream",
     "text": [
      "Analyzing Similarity:  44%|████▎     | 5147/11826 [01:55<01:33, 71.58it/s]"
     ]
    },
    {
     "name": "stdout",
     "output_type": "stream",
     "text": [
      "Moved extracted_face_IMG_1214.JPEG_1.png to TOO_SIMILAR - Similarity: 84.28%\n",
      "Moved extracted_face_IMG_1214.JPEG_4.png to TOO_SIMILAR - Similarity: 88.95%\n",
      "Moved extracted_face_IMG_1215.JPEG_3.png to TOO_SIMILAR - Similarity: 84.14%\n",
      "Moved extracted_face_IMG_1215.JPEG_4.png to TOO_SIMILAR - Similarity: 88.13%\n",
      "Moved extracted_face_IMG_1216.JPEG_3.png to TOO_SIMILAR - Similarity: 80.15%\n",
      "Moved extracted_face_IMG_1216.JPEG_4.png to TOO_SIMILAR - Similarity: 84.90%\n",
      "Moved extracted_face_IMG_1222.JPG_1.png to TOO_SIMILAR - Similarity: 81.96%\n",
      "Moved extracted_face_IMG_1227.JPEG_2.png to TOO_SIMILAR - Similarity: 83.17%\n"
     ]
    },
    {
     "name": "stderr",
     "output_type": "stream",
     "text": [
      "Analyzing Similarity:  44%|████▍     | 5180/11826 [01:56<01:24, 79.08it/s]"
     ]
    },
    {
     "name": "stdout",
     "output_type": "stream",
     "text": [
      "Moved extracted_face_IMG_1234.JPEG_3.png to TOO_SIMILAR - Similarity: 80.14%\n",
      "Moved extracted_face_IMG_1236.JPEG_0.png to TOO_SIMILAR - Similarity: 86.96%\n",
      "Moved extracted_face_IMG_1238.JPEG_0.png to TOO_SIMILAR - Similarity: 84.12%\n",
      "Moved extracted_face_IMG_1238.JPEG_1.png to TOO_SIMILAR - Similarity: 82.57%\n",
      "Moved extracted_face_IMG_1239.JPEG_0.png to TOO_SIMILAR - Similarity: 82.14%\n",
      "Moved extracted_face_IMG_1246.JPEG_0.png to TOO_SIMILAR - Similarity: 80.77%\n",
      "Moved extracted_face_IMG_1247.JPEG_0.png to TOO_SIMILAR - Similarity: 81.65%\n",
      "Moved extracted_face_IMG_1247.JPEG_2.png to TOO_SIMILAR - Similarity: 82.01%\n",
      "Moved extracted_face_IMG_1249.JPEG_1.png to TOO_SIMILAR - Similarity: 80.90%\n",
      "Moved extracted_face_IMG_1249.JPEG_2.png to TOO_SIMILAR - Similarity: 83.59%\n"
     ]
    },
    {
     "name": "stderr",
     "output_type": "stream",
     "text": [
      "Analyzing Similarity:  44%|████▍     | 5198/11826 [01:56<01:20, 82.06it/s]"
     ]
    },
    {
     "name": "stdout",
     "output_type": "stream",
     "text": [
      "Moved extracted_face_IMG_1251.JPEG_2.png to TOO_SIMILAR - Similarity: 80.14%\n",
      "Moved extracted_face_IMG_1251.JPEG_3.png to TOO_SIMILAR - Similarity: 85.54%\n",
      "Moved extracted_face_IMG_1252.JPEG_2.png to TOO_SIMILAR - Similarity: 80.36%\n",
      "Moved extracted_face_IMG_1253.JPEG_1.png to TOO_SIMILAR - Similarity: 80.72%\n",
      "Moved extracted_face_IMG_1254.JPEG_1.png to TOO_SIMILAR - Similarity: 80.57%\n"
     ]
    },
    {
     "name": "stderr",
     "output_type": "stream",
     "text": [
      "Analyzing Similarity:  44%|████▍     | 5225/11826 [01:56<01:20, 82.38it/s]"
     ]
    },
    {
     "name": "stdout",
     "output_type": "stream",
     "text": [
      "Moved extracted_face_IMG_1273.JPG_2.png to TOO_SIMILAR - Similarity: 83.11%\n",
      "Moved extracted_face_IMG_1279.JPG_0.png to TOO_SIMILAR - Similarity: 82.11%\n",
      "Moved extracted_face_IMG_1284.JPEG_1.png to TOO_SIMILAR - Similarity: 81.65%\n",
      "Moved extracted_face_IMG_1285.JPEG_1.png to TOO_SIMILAR - Similarity: 80.96%\n",
      "Moved extracted_face_IMG_1285.JPEG_2.png to TOO_SIMILAR - Similarity: 81.15%\n",
      "Moved extracted_face_IMG_1289.JPEG_2.png to TOO_SIMILAR - Similarity: 81.11%\n",
      "Moved extracted_face_IMG_1290.JPEG_2.png to TOO_SIMILAR - Similarity: 81.56%\n"
     ]
    },
    {
     "name": "stderr",
     "output_type": "stream",
     "text": [
      "Analyzing Similarity:  44%|████▍     | 5261/11826 [01:57<01:32, 71.35it/s]"
     ]
    },
    {
     "name": "stdout",
     "output_type": "stream",
     "text": [
      "Moved extracted_face_IMG_1306.JPEG_0.png to TOO_SIMILAR - Similarity: 88.97%\n",
      "Moved extracted_face_IMG_1322.JPEG_1.png to TOO_SIMILAR - Similarity: 80.99%\n",
      "Moved extracted_face_IMG_1323.JPEG_1.png to TOO_SIMILAR - Similarity: 80.65%\n",
      "Moved extracted_face_IMG_1324.JPEG_0.png to TOO_SIMILAR - Similarity: 83.49%\n"
     ]
    },
    {
     "name": "stderr",
     "output_type": "stream",
     "text": [
      "Analyzing Similarity:  45%|████▍     | 5278/11826 [01:57<01:29, 72.78it/s]"
     ]
    },
    {
     "name": "stdout",
     "output_type": "stream",
     "text": [
      "Moved extracted_face_IMG_1325.JPEG_1.png to TOO_SIMILAR - Similarity: 84.20%\n",
      "Moved extracted_face_IMG_1326.JPEG_1.png to TOO_SIMILAR - Similarity: 83.80%\n",
      "Moved extracted_face_IMG_1327.JPEG_2.png to TOO_SIMILAR - Similarity: 80.84%\n",
      "Moved extracted_face_IMG_1328.JPEG_2.png to TOO_SIMILAR - Similarity: 81.87%\n",
      "Moved extracted_face_IMG_1329.JPEG_2.png to TOO_SIMILAR - Similarity: 82.25%\n",
      "Moved extracted_face_IMG_1329.JPG_1.png to TOO_SIMILAR - Similarity: 84.76%\n",
      "Moved extracted_face_IMG_1330.JPEG_0.png to TOO_SIMILAR - Similarity: 81.88%\n",
      "Moved extracted_face_IMG_1330.JPEG_2.png to TOO_SIMILAR - Similarity: 81.29%\n"
     ]
    },
    {
     "name": "stderr",
     "output_type": "stream",
     "text": [
      "Analyzing Similarity:  45%|████▍     | 5295/11826 [01:57<01:25, 76.53it/s]"
     ]
    },
    {
     "name": "stdout",
     "output_type": "stream",
     "text": [
      "Moved extracted_face_IMG_1331.JPEG_2.png to TOO_SIMILAR - Similarity: 82.81%\n",
      "Moved extracted_face_IMG_1332.JPEG_1.png to TOO_SIMILAR - Similarity: 82.11%\n",
      "Moved extracted_face_IMG_1332.JPEG_3.png to TOO_SIMILAR - Similarity: 83.50%\n",
      "Moved extracted_face_IMG_1333.JPG_0.png to TOO_SIMILAR - Similarity: 86.55%\n",
      "Moved extracted_face_IMG_1333.JPG_1.png to TOO_SIMILAR - Similarity: 81.49%\n",
      "Moved extracted_face_IMG_1336.JPEG_0.png to TOO_SIMILAR - Similarity: 80.09%\n",
      "Moved extracted_face_IMG_1336.JPEG_1.png to TOO_SIMILAR - Similarity: 82.82%\n"
     ]
    },
    {
     "name": "stderr",
     "output_type": "stream",
     "text": [
      "Analyzing Similarity:  45%|████▍     | 5313/11826 [01:57<01:20, 80.94it/s]"
     ]
    },
    {
     "name": "stdout",
     "output_type": "stream",
     "text": [
      "Moved extracted_face_IMG_1340.JPG_1.png to TOO_SIMILAR - Similarity: 83.03%\n",
      "Moved extracted_face_IMG_1340.JPG_4.png to TOO_SIMILAR - Similarity: 80.27%\n",
      "Moved extracted_face_IMG_1341.JPEG_0.png to TOO_SIMILAR - Similarity: 84.27%\n",
      "Moved extracted_face_IMG_1342.JPEG_0.png to TOO_SIMILAR - Similarity: 84.21%\n",
      "Moved extracted_face_IMG_1343.JPEG_2.png to TOO_SIMILAR - Similarity: 80.68%\n",
      "Moved extracted_face_IMG_1343.JPEG_3.png to TOO_SIMILAR - Similarity: 84.62%\n",
      "Moved extracted_face_IMG_1344.JPEG_0.png to TOO_SIMILAR - Similarity: 85.96%\n",
      "Moved extracted_face_IMG_1344.JPEG_1.png to TOO_SIMILAR - Similarity: 84.30%\n",
      "Moved extracted_face_IMG_1345.JPEG_0.png to TOO_SIMILAR - Similarity: 84.27%\n"
     ]
    },
    {
     "name": "stderr",
     "output_type": "stream",
     "text": [
      "Analyzing Similarity:  45%|████▌     | 5331/11826 [01:58<01:18, 83.04it/s]"
     ]
    },
    {
     "name": "stdout",
     "output_type": "stream",
     "text": [
      "Moved extracted_face_IMG_1345.JPEG_1.png to TOO_SIMILAR - Similarity: 84.43%\n",
      "Moved extracted_face_IMG_1347.JPEG_1.png to TOO_SIMILAR - Similarity: 81.48%\n",
      "Moved extracted_face_IMG_1359.JPEG_0.png to TOO_SIMILAR - Similarity: 81.38%\n",
      "Moved extracted_face_IMG_1389.JPG_0.png to TOO_SIMILAR - Similarity: 81.58%\n",
      "Moved extracted_face_IMG_1389.JPG_1.png to TOO_SIMILAR - Similarity: 85.60%\n",
      "Moved extracted_face_IMG_1389.JPG_2.png to TOO_SIMILAR - Similarity: 85.13%\n"
     ]
    },
    {
     "name": "stderr",
     "output_type": "stream",
     "text": [
      "Analyzing Similarity:  45%|████▌     | 5349/11826 [01:58<01:17, 83.10it/s]"
     ]
    },
    {
     "name": "stdout",
     "output_type": "stream",
     "text": [
      "Moved extracted_face_IMG_1389.JPG_3.png to TOO_SIMILAR - Similarity: 80.38%\n",
      "Moved extracted_face_IMG_1392.JPG_0.png to TOO_SIMILAR - Similarity: 80.87%\n",
      "Moved extracted_face_IMG_1392.JPG_1.png to TOO_SIMILAR - Similarity: 86.90%\n",
      "Moved extracted_face_IMG_1397.JPEG_0.png to TOO_SIMILAR - Similarity: 81.05%\n"
     ]
    },
    {
     "name": "stderr",
     "output_type": "stream",
     "text": [
      "Analyzing Similarity:  45%|████▌     | 5367/11826 [01:58<01:17, 83.27it/s]"
     ]
    },
    {
     "name": "stdout",
     "output_type": "stream",
     "text": [
      "Moved extracted_face_IMG_1397.JPEG_4.png to TOO_SIMILAR - Similarity: 81.66%\n",
      "Moved extracted_face_IMG_1399.JPEG_1.png to TOO_SIMILAR - Similarity: 80.90%\n",
      "Moved extracted_face_IMG_1400.JPEG_0.png to TOO_SIMILAR - Similarity: 85.87%\n"
     ]
    },
    {
     "name": "stderr",
     "output_type": "stream",
     "text": [
      "Analyzing Similarity:  46%|████▌     | 5395/11826 [01:58<01:15, 85.06it/s]"
     ]
    },
    {
     "name": "stdout",
     "output_type": "stream",
     "text": [
      "Moved extracted_face_IMG_1412.JPEG_1.png to TOO_SIMILAR - Similarity: 81.09%\n",
      "Moved extracted_face_IMG_1416.JPEG_0.png to TOO_SIMILAR - Similarity: 82.95%\n",
      "Moved extracted_face_IMG_1416.JPEG_1.png to TOO_SIMILAR - Similarity: 84.79%\n",
      "Moved extracted_face_IMG_1419.JPEG_0.png to TOO_SIMILAR - Similarity: 83.74%\n",
      "Moved extracted_face_IMG_1421.PNG_2.png to TOO_SIMILAR - Similarity: 81.13%\n",
      "Moved extracted_face_IMG_1421.PNG_6.png to TOO_SIMILAR - Similarity: 82.44%\n",
      "Moved extracted_face_IMG_1421.PNG_9.png to TOO_SIMILAR - Similarity: 80.91%\n",
      "Moved extracted_face_IMG_1422.JPEG_0.png to TOO_SIMILAR - Similarity: 81.38%\n"
     ]
    },
    {
     "name": "stderr",
     "output_type": "stream",
     "text": [
      "Analyzing Similarity:  46%|████▌     | 5412/11826 [01:59<01:24, 75.63it/s]"
     ]
    },
    {
     "name": "stdout",
     "output_type": "stream",
     "text": [
      "Moved extracted_face_IMG_1423.JPEG_1.png to TOO_SIMILAR - Similarity: 82.23%\n",
      "Moved extracted_face_IMG_1423.JPEG_2.png to TOO_SIMILAR - Similarity: 80.94%\n",
      "Moved extracted_face_IMG_1423.JPEG_3.png to TOO_SIMILAR - Similarity: 88.20%\n",
      "Moved extracted_face_IMG_1423.JPEG_4.png to TOO_SIMILAR - Similarity: 83.49%\n",
      "Moved extracted_face_IMG_1423.JPEG_5.png to TOO_SIMILAR - Similarity: 84.45%\n",
      "Moved extracted_face_IMG_1423.JPEG_8.png to TOO_SIMILAR - Similarity: 81.43%\n",
      "Moved extracted_face_IMG_1424.JPEG_0.png to TOO_SIMILAR - Similarity: 89.28%\n",
      "Moved extracted_face_IMG_1424.JPEG_2.png to TOO_SIMILAR - Similarity: 84.14%\n",
      "Moved extracted_face_IMG_1424.JPEG_4.png to TOO_SIMILAR - Similarity: 85.02%\n"
     ]
    },
    {
     "name": "stderr",
     "output_type": "stream",
     "text": [
      "Analyzing Similarity:  46%|████▌     | 5429/11826 [01:59<01:21, 78.31it/s]"
     ]
    },
    {
     "name": "stdout",
     "output_type": "stream",
     "text": [
      "Moved extracted_face_IMG_1424.JPEG_5.png to TOO_SIMILAR - Similarity: 85.09%\n",
      "Moved extracted_face_IMG_1425.JPEG_0.png to TOO_SIMILAR - Similarity: 81.51%\n",
      "Moved extracted_face_IMG_1425.JPEG_1.png to TOO_SIMILAR - Similarity: 85.87%\n",
      "Moved extracted_face_IMG_1425.JPEG_5.png to TOO_SIMILAR - Similarity: 85.85%\n",
      "Moved extracted_face_IMG_1425.JPEG_7.png to TOO_SIMILAR - Similarity: 80.36%\n",
      "Moved extracted_face_IMG_1426.JPEG_0.png to TOO_SIMILAR - Similarity: 81.78%\n",
      "Moved extracted_face_IMG_1426.JPEG_1.png to TOO_SIMILAR - Similarity: 82.88%\n",
      "Moved extracted_face_IMG_1426.JPEG_4.png to TOO_SIMILAR - Similarity: 80.24%\n"
     ]
    },
    {
     "name": "stderr",
     "output_type": "stream",
     "text": [
      "Analyzing Similarity:  46%|████▌     | 5437/11826 [01:59<01:24, 75.69it/s]"
     ]
    },
    {
     "name": "stdout",
     "output_type": "stream",
     "text": [
      "Moved extracted_face_IMG_1426.JPEG_5.png to TOO_SIMILAR - Similarity: 86.38%\n",
      "Moved extracted_face_IMG_1426.JPEG_6.png to TOO_SIMILAR - Similarity: 82.32%\n",
      "Moved extracted_face_IMG_1426.JPEG_7.png to TOO_SIMILAR - Similarity: 81.59%\n",
      "Moved extracted_face_IMG_1430.JPEG_0.png to TOO_SIMILAR - Similarity: 80.08%\n",
      "Moved extracted_face_IMG_1431.JPEG_2.png to TOO_SIMILAR - Similarity: 85.07%\n"
     ]
    },
    {
     "name": "stderr",
     "output_type": "stream",
     "text": [
      "Analyzing Similarity:  46%|████▌     | 5453/11826 [01:59<01:32, 69.17it/s]"
     ]
    },
    {
     "name": "stdout",
     "output_type": "stream",
     "text": [
      "Moved extracted_face_IMG_1432.JPEG_0.png to TOO_SIMILAR - Similarity: 86.40%\n",
      "Moved extracted_face_IMG_1432.JPEG_2.png to TOO_SIMILAR - Similarity: 85.86%\n",
      "Moved extracted_face_IMG_1432.JPEG_5.png to TOO_SIMILAR - Similarity: 84.66%\n",
      "Moved extracted_face_IMG_1433.JPEG_0.png to TOO_SIMILAR - Similarity: 85.90%\n",
      "Moved extracted_face_IMG_1433.JPEG_3.png to TOO_SIMILAR - Similarity: 82.70%\n",
      "Moved extracted_face_IMG_1433.JPEG_5.png to TOO_SIMILAR - Similarity: 88.26%\n",
      "Moved extracted_face_IMG_1433.JPEG_6.png to TOO_SIMILAR - Similarity: 86.41%\n",
      "Moved extracted_face_IMG_1434.JPEG_2.png to TOO_SIMILAR - Similarity: 85.85%\n",
      "Moved extracted_face_IMG_1434.JPEG_3.png to TOO_SIMILAR - Similarity: 86.24%\n",
      "Moved extracted_face_IMG_1434.JPEG_4.png to TOO_SIMILAR - Similarity: 80.52%\n"
     ]
    },
    {
     "name": "stderr",
     "output_type": "stream",
     "text": [
      "Analyzing Similarity:  46%|████▌     | 5469/11826 [01:59<01:32, 69.01it/s]"
     ]
    },
    {
     "name": "stdout",
     "output_type": "stream",
     "text": [
      "Moved extracted_face_IMG_1434.JPEG_5.png to TOO_SIMILAR - Similarity: 84.79%\n",
      "Moved extracted_face_IMG_1434.JPEG_6.png to TOO_SIMILAR - Similarity: 85.07%\n",
      "Moved extracted_face_IMG_1435.JPEG_0.png to TOO_SIMILAR - Similarity: 82.18%\n",
      "Moved extracted_face_IMG_1435.JPEG_1.png to TOO_SIMILAR - Similarity: 80.92%\n",
      "Moved extracted_face_IMG_1435.JPEG_2.png to TOO_SIMILAR - Similarity: 80.28%\n",
      "Moved extracted_face_IMG_1435.JPEG_3.png to TOO_SIMILAR - Similarity: 86.89%\n",
      "Moved extracted_face_IMG_1435.JPEG_5.png to TOO_SIMILAR - Similarity: 80.79%\n",
      "Moved extracted_face_IMG_1436.JPEG_0.png to TOO_SIMILAR - Similarity: 81.98%\n",
      "Moved extracted_face_IMG_1436.JPEG_3.png to TOO_SIMILAR - Similarity: 82.17%\n",
      "Moved extracted_face_IMG_1436.JPEG_4.png to TOO_SIMILAR - Similarity: 83.64%\n",
      "Moved extracted_face_IMG_1436.JPEG_5.png to TOO_SIMILAR - Similarity: 81.95%\n"
     ]
    },
    {
     "name": "stderr",
     "output_type": "stream",
     "text": [
      "Analyzing Similarity:  46%|████▋     | 5485/11826 [02:00<01:29, 70.66it/s]"
     ]
    },
    {
     "name": "stdout",
     "output_type": "stream",
     "text": [
      "Moved extracted_face_IMG_1437.JPEG_1.png to TOO_SIMILAR - Similarity: 82.54%\n",
      "Moved extracted_face_IMG_1437.JPEG_4.png to TOO_SIMILAR - Similarity: 81.01%\n",
      "Moved extracted_face_IMG_1438.JPEG_2.png to TOO_SIMILAR - Similarity: 84.01%\n",
      "Moved extracted_face_IMG_1438.JPEG_3.png to TOO_SIMILAR - Similarity: 81.54%\n",
      "Moved extracted_face_IMG_1440.JPEG_1.png to TOO_SIMILAR - Similarity: 80.30%\n",
      "Moved extracted_face_IMG_1440.JPEG_2.png to TOO_SIMILAR - Similarity: 88.14%\n",
      "Moved extracted_face_IMG_1440.JPEG_4.png to TOO_SIMILAR - Similarity: 81.53%\n"
     ]
    },
    {
     "name": "stderr",
     "output_type": "stream",
     "text": [
      "Analyzing Similarity:  47%|████▋     | 5502/11826 [02:00<01:25, 73.64it/s]"
     ]
    },
    {
     "name": "stdout",
     "output_type": "stream",
     "text": [
      "Moved extracted_face_IMG_1440.JPEG_8.png to TOO_SIMILAR - Similarity: 83.99%\n",
      "Moved extracted_face_IMG_1440.JPEG_9.png to TOO_SIMILAR - Similarity: 83.80%\n",
      "Moved extracted_face_IMG_1441.JPEG_0.png to TOO_SIMILAR - Similarity: 83.37%\n",
      "Moved extracted_face_IMG_1447.JPEG_1.png to TOO_SIMILAR - Similarity: 82.60%\n",
      "Moved extracted_face_IMG_1448.JPEG_1.png to TOO_SIMILAR - Similarity: 81.10%\n",
      "Moved extracted_face_IMG_1449.JPEG_0.png to TOO_SIMILAR - Similarity: 80.91%\n",
      "Moved extracted_face_IMG_1450.PNG_0.png to TOO_SIMILAR - Similarity: 81.19%\n",
      "Moved extracted_face_IMG_1452.JPEG_0.png to TOO_SIMILAR - Similarity: 81.48%\n"
     ]
    },
    {
     "name": "stderr",
     "output_type": "stream",
     "text": [
      "Analyzing Similarity:  47%|████▋     | 5526/11826 [02:00<01:24, 74.43it/s]"
     ]
    },
    {
     "name": "stdout",
     "output_type": "stream",
     "text": [
      "Moved extracted_face_IMG_1457.JPEG_0.png to TOO_SIMILAR - Similarity: 81.41%\n",
      "Moved extracted_face_IMG_1458.JPEG_0.png to TOO_SIMILAR - Similarity: 82.99%\n",
      "Moved extracted_face_IMG_1459.JPEG_0.png to TOO_SIMILAR - Similarity: 82.65%\n"
     ]
    },
    {
     "name": "stderr",
     "output_type": "stream",
     "text": [
      "Analyzing Similarity:  47%|████▋     | 5543/11826 [02:00<01:21, 77.16it/s]"
     ]
    },
    {
     "name": "stdout",
     "output_type": "stream",
     "text": [
      "Moved extracted_face_IMG_1462.JPEG_7.png to TOO_SIMILAR - Similarity: 84.85%\n",
      "Moved extracted_face_IMG_1463.JPEG_3.png to TOO_SIMILAR - Similarity: 81.52%\n"
     ]
    },
    {
     "name": "stderr",
     "output_type": "stream",
     "text": [
      "Analyzing Similarity:  47%|████▋     | 5561/11826 [02:01<01:18, 80.24it/s]"
     ]
    },
    {
     "name": "stdout",
     "output_type": "stream",
     "text": [
      "Moved extracted_face_IMG_1464.JPEG_7.png to TOO_SIMILAR - Similarity: 84.63%\n",
      "Moved extracted_face_IMG_1465.JPEG_3.png to TOO_SIMILAR - Similarity: 81.54%\n",
      "Moved extracted_face_IMG_1465.JPEG_6.png to TOO_SIMILAR - Similarity: 81.49%\n",
      "Moved extracted_face_IMG_1465.JPG_0.png to TOO_SIMILAR - Similarity: 80.10%\n"
     ]
    },
    {
     "name": "stderr",
     "output_type": "stream",
     "text": [
      "Analyzing Similarity:  47%|████▋     | 5588/11826 [02:01<01:13, 85.35it/s]"
     ]
    },
    {
     "name": "stdout",
     "output_type": "stream",
     "text": [
      "Moved extracted_face_IMG_1466.JPEG_5.png to TOO_SIMILAR - Similarity: 83.55%\n",
      "Moved extracted_face_IMG_1466.JPEG_6.png to TOO_SIMILAR - Similarity: 81.09%\n",
      "Moved extracted_face_IMG_1467.JPEG_3.png to TOO_SIMILAR - Similarity: 82.19%\n",
      "Moved extracted_face_IMG_1467.JPEG_6.png to TOO_SIMILAR - Similarity: 82.06%\n",
      "Moved extracted_face_IMG_1468.JPEG_0.png to TOO_SIMILAR - Similarity: 80.52%\n"
     ]
    },
    {
     "name": "stderr",
     "output_type": "stream",
     "text": [
      "Analyzing Similarity:  47%|████▋     | 5606/11826 [02:01<01:14, 83.47it/s]"
     ]
    },
    {
     "name": "stdout",
     "output_type": "stream",
     "text": [
      "Moved extracted_face_IMG_1468.JPEG_6.png to TOO_SIMILAR - Similarity: 81.50%\n",
      "Moved extracted_face_IMG_1474.JPEG_0.png to TOO_SIMILAR - Similarity: 80.40%\n",
      "Moved extracted_face_IMG_1477.JPEG_0.png to TOO_SIMILAR - Similarity: 82.72%\n",
      "Moved extracted_face_IMG_1477.JPEG_1.png to TOO_SIMILAR - Similarity: 82.68%\n",
      "Moved extracted_face_IMG_1477.JPEG_2.png to TOO_SIMILAR - Similarity: 82.96%\n",
      "Moved extracted_face_IMG_1478.JPEG_1.png to TOO_SIMILAR - Similarity: 82.02%\n",
      "Moved extracted_face_IMG_1478.JPEG_3.png to TOO_SIMILAR - Similarity: 82.97%\n",
      "Moved extracted_face_IMG_1479.JPEG_0.png to TOO_SIMILAR - Similarity: 85.09%\n",
      "Moved extracted_face_IMG_1479.JPEG_1.png to TOO_SIMILAR - Similarity: 82.27%\n",
      "Moved extracted_face_IMG_1479.JPEG_2.png to TOO_SIMILAR - Similarity: 82.61%\n"
     ]
    },
    {
     "name": "stderr",
     "output_type": "stream",
     "text": [
      "Analyzing Similarity:  48%|████▊     | 5624/11826 [02:01<01:18, 79.44it/s]"
     ]
    },
    {
     "name": "stdout",
     "output_type": "stream",
     "text": [
      "Moved extracted_face_IMG_1480.JPEG_0.png to TOO_SIMILAR - Similarity: 85.96%\n",
      "Moved extracted_face_IMG_1480.JPEG_2.png to TOO_SIMILAR - Similarity: 80.34%\n",
      "Moved extracted_face_IMG_1480.JPEG_3.png to TOO_SIMILAR - Similarity: 82.95%\n",
      "Moved extracted_face_IMG_1496.JPEG_1.png to TOO_SIMILAR - Similarity: 83.78%\n",
      "Moved extracted_face_IMG_1496.JPEG_2.png to TOO_SIMILAR - Similarity: 81.45%\n",
      "Moved extracted_face_IMG_1501.JPEG_1.png to TOO_SIMILAR - Similarity: 83.33%\n",
      "Moved extracted_face_IMG_1502.JPEG_0.png to TOO_SIMILAR - Similarity: 84.85%\n",
      "Moved extracted_face_IMG_1502.JPEG_1.png to TOO_SIMILAR - Similarity: 85.00%\n"
     ]
    },
    {
     "name": "stderr",
     "output_type": "stream",
     "text": [
      "Analyzing Similarity:  48%|████▊     | 5640/11826 [02:02<01:20, 76.85it/s]"
     ]
    },
    {
     "name": "stdout",
     "output_type": "stream",
     "text": [
      "Moved extracted_face_IMG_1503.JPEG_0.png to TOO_SIMILAR - Similarity: 86.23%\n",
      "Moved extracted_face_IMG_1503.JPEG_10.png to TOO_SIMILAR - Similarity: 84.76%\n",
      "Moved extracted_face_IMG_1503.JPEG_2.png to TOO_SIMILAR - Similarity: 80.40%\n",
      "Moved extracted_face_IMG_1503.JPEG_5.png to TOO_SIMILAR - Similarity: 88.35%\n",
      "Moved extracted_face_IMG_1503.JPEG_6.png to TOO_SIMILAR - Similarity: 82.64%\n",
      "Moved extracted_face_IMG_1503.JPEG_8.png to TOO_SIMILAR - Similarity: 81.55%\n",
      "Moved extracted_face_IMG_1503.JPEG_9.png to TOO_SIMILAR - Similarity: 80.54%\n"
     ]
    },
    {
     "name": "stderr",
     "output_type": "stream",
     "text": [
      "Analyzing Similarity:  48%|████▊     | 5648/11826 [02:02<01:43, 59.76it/s]"
     ]
    },
    {
     "name": "stdout",
     "output_type": "stream",
     "text": [
      "Moved extracted_face_IMG_1533.JPEG_0.png to TOO_SIMILAR - Similarity: 84.75%\n",
      "Moved extracted_face_IMG_1533.JPEG_1.png to TOO_SIMILAR - Similarity: 86.03%\n",
      "Moved extracted_face_IMG_1533.JPEG_3.png to TOO_SIMILAR - Similarity: 87.37%\n",
      "Moved extracted_face_IMG_1534.JPEG_1.png to TOO_SIMILAR - Similarity: 83.73%\n",
      "Moved extracted_face_IMG_1534.JPEG_3.png to TOO_SIMILAR - Similarity: 85.70%\n",
      "Moved extracted_face_IMG_1534.JPEG_6.png to TOO_SIMILAR - Similarity: 80.10%\n"
     ]
    },
    {
     "name": "stderr",
     "output_type": "stream",
     "text": [
      "Analyzing Similarity:  48%|████▊     | 5662/11826 [02:02<01:39, 62.00it/s]"
     ]
    },
    {
     "name": "stdout",
     "output_type": "stream",
     "text": [
      "Moved extracted_face_IMG_1534.JPEG_8.png to TOO_SIMILAR - Similarity: 88.02%\n",
      "Moved extracted_face_IMG_1535.JPEG_0.png to TOO_SIMILAR - Similarity: 81.85%\n",
      "Moved extracted_face_IMG_1535.JPEG_1.png to TOO_SIMILAR - Similarity: 84.59%\n",
      "Moved extracted_face_IMG_1535.JPEG_4.png to TOO_SIMILAR - Similarity: 83.19%\n",
      "Moved extracted_face_IMG_1536.JPEG_1.png to TOO_SIMILAR - Similarity: 81.80%\n",
      "Moved extracted_face_IMG_1536.JPEG_2.png to TOO_SIMILAR - Similarity: 83.55%\n",
      "Moved extracted_face_IMG_1544.JPG_0.png to TOO_SIMILAR - Similarity: 81.01%\n",
      "Moved extracted_face_IMG_1545.JPG_0.png to TOO_SIMILAR - Similarity: 82.29%\n"
     ]
    },
    {
     "name": "stderr",
     "output_type": "stream",
     "text": [
      "Analyzing Similarity:  48%|████▊     | 5678/11826 [02:02<01:28, 69.08it/s]"
     ]
    },
    {
     "name": "stdout",
     "output_type": "stream",
     "text": [
      "Moved extracted_face_IMG_1586.JPEG_0.png to TOO_SIMILAR - Similarity: 81.42%\n",
      "Moved extracted_face_IMG_1598.JPEG_1.png to TOO_SIMILAR - Similarity: 85.08%\n",
      "Moved extracted_face_IMG_1609.JPEG_3.png to TOO_SIMILAR - Similarity: 86.25%\n",
      "Moved extracted_face_IMG_1610.JPEG_2.png to TOO_SIMILAR - Similarity: 80.03%\n",
      "Moved extracted_face_IMG_1612.JPEG_1.png to TOO_SIMILAR - Similarity: 81.13%\n",
      "Moved extracted_face_IMG_1612.JPEG_2.png to TOO_SIMILAR - Similarity: 80.86%\n",
      "Moved extracted_face_IMG_1613.JPEG_1.png to TOO_SIMILAR - Similarity: 86.20%\n"
     ]
    },
    {
     "name": "stderr",
     "output_type": "stream",
     "text": [
      "Analyzing Similarity:  48%|████▊     | 5703/11826 [02:03<01:21, 74.80it/s]"
     ]
    },
    {
     "name": "stdout",
     "output_type": "stream",
     "text": [
      "Moved extracted_face_IMG_1616.JPEG_0.png to TOO_SIMILAR - Similarity: 85.22%\n",
      "Moved extracted_face_IMG_1617.JPEG_0.png to TOO_SIMILAR - Similarity: 82.77%\n",
      "Moved extracted_face_IMG_1617.JPEG_1.png to TOO_SIMILAR - Similarity: 81.63%\n",
      "Moved extracted_face_IMG_1618.JPEG_1.png to TOO_SIMILAR - Similarity: 82.86%\n",
      "Moved extracted_face_IMG_1619.JPEG_0.png to TOO_SIMILAR - Similarity: 80.27%\n",
      "Moved extracted_face_IMG_1620.JPEG_0.png to TOO_SIMILAR - Similarity: 81.33%\n",
      "Moved extracted_face_IMG_1620.JPEG_2.png to TOO_SIMILAR - Similarity: 81.04%\n"
     ]
    },
    {
     "name": "stderr",
     "output_type": "stream",
     "text": [
      "Analyzing Similarity:  48%|████▊     | 5727/11826 [02:03<01:24, 72.13it/s]"
     ]
    },
    {
     "name": "stdout",
     "output_type": "stream",
     "text": [
      "Moved extracted_face_IMG_1636.JPEG_1.png to TOO_SIMILAR - Similarity: 81.43%\n",
      "Moved extracted_face_IMG_1636.JPEG_2.png to TOO_SIMILAR - Similarity: 85.90%\n",
      "Moved extracted_face_IMG_1637.JPEG_2.png to TOO_SIMILAR - Similarity: 82.79%\n",
      "Moved extracted_face_IMG_1637.JPEG_3.png to TOO_SIMILAR - Similarity: 80.85%\n",
      "Moved extracted_face_IMG_1638.JPEG_0.png to TOO_SIMILAR - Similarity: 83.30%\n",
      "Moved extracted_face_IMG_1638.JPEG_1.png to TOO_SIMILAR - Similarity: 81.91%\n",
      "Moved extracted_face_IMG_1638.JPEG_4.png to TOO_SIMILAR - Similarity: 84.97%\n",
      "Moved extracted_face_IMG_1638.JPEG_5.png to TOO_SIMILAR - Similarity: 80.02%\n",
      "Moved extracted_face_IMG_1639.JPEG_0.png to TOO_SIMILAR - Similarity: 81.40%\n"
     ]
    },
    {
     "name": "stderr",
     "output_type": "stream",
     "text": [
      "Analyzing Similarity:  48%|████▊     | 5735/11826 [02:03<01:27, 69.82it/s]"
     ]
    },
    {
     "name": "stdout",
     "output_type": "stream",
     "text": [
      "Moved extracted_face_IMG_1639.JPEG_2.png to TOO_SIMILAR - Similarity: 82.55%\n",
      "Moved extracted_face_IMG_1639.JPEG_4.png to TOO_SIMILAR - Similarity: 83.52%\n",
      "Moved extracted_face_IMG_1642.PNG_1.png to TOO_SIMILAR - Similarity: 86.92%\n",
      "Moved extracted_face_IMG_1642.PNG_2.png to TOO_SIMILAR - Similarity: 83.09%\n",
      "Moved extracted_face_IMG_1642.PNG_3.png to TOO_SIMILAR - Similarity: 87.95%\n",
      "Moved extracted_face_IMG_1642.PNG_4.png to TOO_SIMILAR - Similarity: 85.65%\n",
      "Moved extracted_face_IMG_1642.PNG_7.png to TOO_SIMILAR - Similarity: 80.55%\n",
      "Moved extracted_face_IMG_1649.JPEG_0.png to TOO_SIMILAR - Similarity: 81.90%\n",
      "Moved extracted_face_IMG_1649.JPEG_1.png to TOO_SIMILAR - Similarity: 83.00%\n",
      "Moved extracted_face_IMG_1662.JPEG_1.png to TOO_SIMILAR - Similarity: 81.36%\n"
     ]
    },
    {
     "name": "stderr",
     "output_type": "stream",
     "text": [
      "Analyzing Similarity:  49%|████▊     | 5751/11826 [02:03<01:25, 71.14it/s]"
     ]
    },
    {
     "name": "stdout",
     "output_type": "stream",
     "text": [
      "Moved extracted_face_IMG_1662.JPEG_4.png to TOO_SIMILAR - Similarity: 81.76%\n",
      "Moved extracted_face_IMG_1662.JPEG_5.png to TOO_SIMILAR - Similarity: 82.16%\n",
      "Moved extracted_face_IMG_1667.JPEG_0.png to TOO_SIMILAR - Similarity: 84.14%\n",
      "Moved extracted_face_IMG_1679.JPEG_0.png to TOO_SIMILAR - Similarity: 83.56%\n",
      "Moved extracted_face_IMG_1691.JPEG_0.png to TOO_SIMILAR - Similarity: 81.13%\n",
      "Moved extracted_face_IMG_1692.JPEG_0.png to TOO_SIMILAR - Similarity: 86.08%\n"
     ]
    },
    {
     "name": "stderr",
     "output_type": "stream",
     "text": [
      "Analyzing Similarity:  49%|████▉     | 5801/11826 [02:04<01:16, 79.02it/s]"
     ]
    },
    {
     "name": "stdout",
     "output_type": "stream",
     "text": [
      "Moved extracted_face_IMG_1712-1.JPEG_1.png to TOO_SIMILAR - Similarity: 84.94%\n",
      "Moved extracted_face_IMG_1712-1.JPEG_2.png to TOO_SIMILAR - Similarity: 85.83%\n",
      "Moved extracted_face_IMG_1713.JPEG_0.png to TOO_SIMILAR - Similarity: 84.45%\n",
      "Moved extracted_face_IMG_1713.JPEG_1.png to TOO_SIMILAR - Similarity: 81.35%\n",
      "Moved extracted_face_IMG_1713.JPEG_2.png to TOO_SIMILAR - Similarity: 86.46%\n",
      "Moved extracted_face_IMG_1714.JPEG_0.png to TOO_SIMILAR - Similarity: 85.59%\n",
      "Moved extracted_face_IMG_1714.JPEG_1.png to TOO_SIMILAR - Similarity: 85.86%\n",
      "Moved extracted_face_IMG_1715.JPEG_0.png to TOO_SIMILAR - Similarity: 86.37%\n",
      "Moved extracted_face_IMG_1715.JPEG_1.png to TOO_SIMILAR - Similarity: 84.74%\n",
      "Moved extracted_face_IMG_1716.JPEG_0.png to TOO_SIMILAR - Similarity: 85.32%\n",
      "Moved extracted_face_IMG_1716.JPEG_1.png to TOO_SIMILAR - Similarity: 80.76%\n"
     ]
    },
    {
     "name": "stderr",
     "output_type": "stream",
     "text": [
      "Analyzing Similarity:  49%|████▉     | 5817/11826 [02:04<01:16, 78.18it/s]"
     ]
    },
    {
     "name": "stdout",
     "output_type": "stream",
     "text": [
      "Moved extracted_face_IMG_1717.JPEG_1.png to TOO_SIMILAR - Similarity: 80.60%\n",
      "Moved extracted_face_IMG_1718.JPEG_0.png to TOO_SIMILAR - Similarity: 84.85%\n",
      "Moved extracted_face_IMG_1719.JPEG_0.png to TOO_SIMILAR - Similarity: 82.38%\n",
      "Moved extracted_face_IMG_1719.JPEG_1.png to TOO_SIMILAR - Similarity: 80.81%\n",
      "Moved extracted_face_IMG_1721.JPEG_0.png to TOO_SIMILAR - Similarity: 82.87%\n",
      "Moved extracted_face_IMG_1722.JPEG_0.png to TOO_SIMILAR - Similarity: 81.48%\n",
      "Moved extracted_face_IMG_1724.JPG_0.png to TOO_SIMILAR - Similarity: 80.87%\n",
      "Moved extracted_face_IMG_1725.JPEG_0.png to TOO_SIMILAR - Similarity: 82.15%\n"
     ]
    },
    {
     "name": "stderr",
     "output_type": "stream",
     "text": [
      "Analyzing Similarity:  49%|████▉     | 5843/11826 [02:04<01:14, 80.54it/s]"
     ]
    },
    {
     "name": "stdout",
     "output_type": "stream",
     "text": [
      "Moved extracted_face_IMG_1730.JPEG_5.png to TOO_SIMILAR - Similarity: 80.17%\n",
      "Moved extracted_face_IMG_1746.JPEG_0.png to TOO_SIMILAR - Similarity: 81.45%\n",
      "Moved extracted_face_IMG_1746.JPEG_2.png to TOO_SIMILAR - Similarity: 83.81%\n",
      "Moved extracted_face_IMG_1746.JPEG_3.png to TOO_SIMILAR - Similarity: 82.95%\n",
      "Moved extracted_face_IMG_1747.JPEG_2.png to TOO_SIMILAR - Similarity: 86.58%\n",
      "Moved extracted_face_IMG_1748.JPEG_0.png to TOO_SIMILAR - Similarity: 81.15%\n",
      "Moved extracted_face_IMG_1748.JPEG_1.png to TOO_SIMILAR - Similarity: 81.52%\n"
     ]
    },
    {
     "name": "stderr",
     "output_type": "stream",
     "text": [
      "Analyzing Similarity:  49%|████▉     | 5852/11826 [02:05<01:15, 79.44it/s]"
     ]
    },
    {
     "name": "stdout",
     "output_type": "stream",
     "text": [
      "Moved extracted_face_IMG_1749.JPEG_0.png to TOO_SIMILAR - Similarity: 82.02%\n",
      "Moved extracted_face_IMG_1750.JPEG_0.png to TOO_SIMILAR - Similarity: 84.35%\n",
      "Moved extracted_face_IMG_1751.JPEG_0.png to TOO_SIMILAR - Similarity: 81.84%\n",
      "Moved extracted_face_IMG_1771.JPEG_1.png to TOO_SIMILAR - Similarity: 80.85%\n"
     ]
    },
    {
     "name": "stderr",
     "output_type": "stream",
     "text": [
      "Analyzing Similarity:  50%|████▉     | 5860/11826 [02:05<01:38, 60.29it/s]"
     ]
    },
    {
     "name": "stdout",
     "output_type": "stream",
     "text": [
      "Moved extracted_face_IMG_1777.JPEG_0.png to TOO_SIMILAR - Similarity: 85.69%\n",
      "Moved extracted_face_IMG_1777.JPEG_1.png to TOO_SIMILAR - Similarity: 80.37%\n",
      "Moved extracted_face_IMG_1778.JPEG_0.png to TOO_SIMILAR - Similarity: 83.14%\n",
      "Moved extracted_face_IMG_1778.JPEG_1.png to TOO_SIMILAR - Similarity: 82.78%\n",
      "Moved extracted_face_IMG_1779.JPEG_0.png to TOO_SIMILAR - Similarity: 82.36%\n",
      "Moved extracted_face_IMG_1779.JPEG_1.png to TOO_SIMILAR - Similarity: 83.79%\n"
     ]
    },
    {
     "name": "stderr",
     "output_type": "stream",
     "text": [
      "Analyzing Similarity:  50%|████▉     | 5876/11826 [02:05<01:30, 65.74it/s]"
     ]
    },
    {
     "name": "stdout",
     "output_type": "stream",
     "text": [
      "Moved extracted_face_IMG_1784.JPEG_5.png to TOO_SIMILAR - Similarity: 83.46%\n",
      "Moved extracted_face_IMG_1785.JPEG_2.png to TOO_SIMILAR - Similarity: 82.48%\n",
      "Moved extracted_face_IMG_1789.JPEG_0.png to TOO_SIMILAR - Similarity: 81.62%\n",
      "Moved extracted_face_IMG_1795.JPEG_0.png to TOO_SIMILAR - Similarity: 83.35%\n"
     ]
    },
    {
     "name": "stderr",
     "output_type": "stream",
     "text": [
      "Analyzing Similarity:  50%|████▉     | 5892/11826 [02:05<01:23, 71.03it/s]"
     ]
    },
    {
     "name": "stdout",
     "output_type": "stream",
     "text": [
      "Moved extracted_face_IMG_1796.JPEG_0.png to TOO_SIMILAR - Similarity: 84.10%\n",
      "Moved extracted_face_IMG_1811.JPEG_0.png to TOO_SIMILAR - Similarity: 80.37%\n",
      "Moved extracted_face_IMG_1821.JPEG_0.png to TOO_SIMILAR - Similarity: 85.08%\n",
      "Moved extracted_face_IMG_1822.JPEG_1.png to TOO_SIMILAR - Similarity: 85.11%\n"
     ]
    },
    {
     "name": "stderr",
     "output_type": "stream",
     "text": [
      "Analyzing Similarity:  50%|█████     | 5918/11826 [02:05<01:15, 78.18it/s]"
     ]
    },
    {
     "name": "stdout",
     "output_type": "stream",
     "text": [
      "Moved extracted_face_IMG_1823.JPEG_0.png to TOO_SIMILAR - Similarity: 82.48%\n",
      "Moved extracted_face_IMG_1824.JPEG_0.png to TOO_SIMILAR - Similarity: 83.22%\n",
      "Moved extracted_face_IMG_1825.JPEG_0.png to TOO_SIMILAR - Similarity: 83.06%\n",
      "Moved extracted_face_IMG_1826.JPEG_0.png to TOO_SIMILAR - Similarity: 83.82%\n",
      "Moved extracted_face_IMG_1827.JPEG_0.png to TOO_SIMILAR - Similarity: 82.99%\n",
      "Moved extracted_face_IMG_1828.JPEG_1.png to TOO_SIMILAR - Similarity: 82.97%\n",
      "Moved extracted_face_IMG_1829.JPEG_1.png to TOO_SIMILAR - Similarity: 83.55%\n",
      "Moved extracted_face_IMG_1830-1.JPEG_2.png to TOO_SIMILAR - Similarity: 83.17%\n",
      "Moved extracted_face_IMG_1830-1.JPEG_3.png to TOO_SIMILAR - Similarity: 85.44%\n"
     ]
    },
    {
     "name": "stderr",
     "output_type": "stream",
     "text": [
      "Analyzing Similarity:  50%|█████     | 5936/11826 [02:06<01:13, 80.59it/s]"
     ]
    },
    {
     "name": "stdout",
     "output_type": "stream",
     "text": [
      "Moved extracted_face_IMG_1830.JPEG_0.png to TOO_SIMILAR - Similarity: 81.85%\n",
      "Moved extracted_face_IMG_1831.JPEG_0.png to TOO_SIMILAR - Similarity: 80.52%\n",
      "Moved extracted_face_IMG_1832.JPEG_2.png to TOO_SIMILAR - Similarity: 83.37%\n",
      "Moved extracted_face_IMG_1833.JPEG_2.png to TOO_SIMILAR - Similarity: 82.77%\n",
      "Moved extracted_face_IMG_1834.JPEG_2.png to TOO_SIMILAR - Similarity: 83.63%\n",
      "Moved extracted_face_IMG_1835.JPEG_2.png to TOO_SIMILAR - Similarity: 83.26%\n",
      "Moved extracted_face_IMG_1836.JPEG_2.png to TOO_SIMILAR - Similarity: 83.40%\n"
     ]
    },
    {
     "name": "stderr",
     "output_type": "stream",
     "text": [
      "Analyzing Similarity:  50%|█████     | 5954/11826 [02:06<01:14, 78.92it/s]"
     ]
    },
    {
     "name": "stdout",
     "output_type": "stream",
     "text": [
      "Moved extracted_face_IMG_1845.JPEG_1.png to TOO_SIMILAR - Similarity: 81.39%\n",
      "Moved extracted_face_IMG_1849.JPEG_1.png to TOO_SIMILAR - Similarity: 80.48%\n",
      "Moved extracted_face_IMG_1853.JPEG_0.png to TOO_SIMILAR - Similarity: 80.95%\n",
      "Moved extracted_face_IMG_1853.JPEG_1.png to TOO_SIMILAR - Similarity: 83.66%\n",
      "Moved extracted_face_IMG_1856.JPEG_0.png to TOO_SIMILAR - Similarity: 82.77%\n",
      "Moved extracted_face_IMG_1856.JPEG_1.png to TOO_SIMILAR - Similarity: 83.27%\n",
      "Moved extracted_face_IMG_1856.JPEG_3.png to TOO_SIMILAR - Similarity: 81.11%\n"
     ]
    },
    {
     "name": "stderr",
     "output_type": "stream",
     "text": [
      "Analyzing Similarity:  50%|█████     | 5971/11826 [02:06<01:14, 78.71it/s]"
     ]
    },
    {
     "name": "stdout",
     "output_type": "stream",
     "text": [
      "Moved extracted_face_IMG_1869.JPEG_1.png to TOO_SIMILAR - Similarity: 83.49%\n",
      "Moved extracted_face_IMG_1870.JPEG_1.png to TOO_SIMILAR - Similarity: 82.74%\n",
      "Moved extracted_face_IMG_1872.JPEG_0.png to TOO_SIMILAR - Similarity: 82.87%\n",
      "Moved extracted_face_IMG_1874.JPEG_0.png to TOO_SIMILAR - Similarity: 80.27%\n",
      "Moved extracted_face_IMG_1876.JPEG_0.png to TOO_SIMILAR - Similarity: 83.25%\n",
      "Moved extracted_face_IMG_1877.JPEG_1.png to TOO_SIMILAR - Similarity: 81.95%\n",
      "Moved extracted_face_IMG_1878.JPEG_1.png to TOO_SIMILAR - Similarity: 81.00%\n"
     ]
    },
    {
     "name": "stderr",
     "output_type": "stream",
     "text": [
      "Analyzing Similarity:  51%|█████     | 5998/11826 [02:06<01:10, 82.27it/s]"
     ]
    },
    {
     "name": "stdout",
     "output_type": "stream",
     "text": [
      "Moved extracted_face_IMG_1892.JPEG_0.png to TOO_SIMILAR - Similarity: 85.11%\n",
      "Moved extracted_face_IMG_1892.JPEG_3.png to TOO_SIMILAR - Similarity: 80.86%\n",
      "Moved extracted_face_IMG_1892.JPEG_4.png to TOO_SIMILAR - Similarity: 81.85%\n",
      "Moved extracted_face_IMG_1895.JPEG_0.png to TOO_SIMILAR - Similarity: 86.44%\n"
     ]
    },
    {
     "name": "stderr",
     "output_type": "stream",
     "text": [
      "Analyzing Similarity:  51%|█████     | 6016/11826 [02:07<01:10, 82.48it/s]"
     ]
    },
    {
     "name": "stdout",
     "output_type": "stream",
     "text": [
      "Moved extracted_face_IMG_1905.JPEG_1.png to TOO_SIMILAR - Similarity: 83.35%\n",
      "Moved extracted_face_IMG_1907.JPEG_1.png to TOO_SIMILAR - Similarity: 84.18%\n",
      "Moved extracted_face_IMG_1907.JPEG_2.png to TOO_SIMILAR - Similarity: 84.29%\n",
      "Moved extracted_face_IMG_1908.JPEG_2.png to TOO_SIMILAR - Similarity: 82.15%\n",
      "Moved extracted_face_IMG_1908.JPEG_4.png to TOO_SIMILAR - Similarity: 84.41%\n",
      "Moved extracted_face_IMG_1910.JPEG_0.png to TOO_SIMILAR - Similarity: 82.71%\n",
      "Moved extracted_face_IMG_1910.JPEG_1.png to TOO_SIMILAR - Similarity: 81.96%\n",
      "Moved extracted_face_IMG_1910.JPEG_2.png to TOO_SIMILAR - Similarity: 83.72%\n",
      "Moved extracted_face_IMG_1910.JPEG_3.png to TOO_SIMILAR - Similarity: 82.68%\n"
     ]
    },
    {
     "name": "stderr",
     "output_type": "stream",
     "text": [
      "Analyzing Similarity:  51%|█████     | 6035/11826 [02:07<01:07, 85.33it/s]"
     ]
    },
    {
     "name": "stdout",
     "output_type": "stream",
     "text": [
      "Moved extracted_face_IMG_1910.JPG_1.png to TOO_SIMILAR - Similarity: 83.63%\n",
      "Moved extracted_face_IMG_1911.JPEG_5.png to TOO_SIMILAR - Similarity: 83.09%\n",
      "Moved extracted_face_IMG_1913.JPEG_1.png to TOO_SIMILAR - Similarity: 81.15%\n",
      "Moved extracted_face_IMG_1913.JPEG_4.png to TOO_SIMILAR - Similarity: 80.98%\n",
      "Moved extracted_face_IMG_1913.JPEG_5.png to TOO_SIMILAR - Similarity: 82.68%\n",
      "Moved extracted_face_IMG_1914.JPEG_0.png to TOO_SIMILAR - Similarity: 84.31%\n",
      "Moved extracted_face_IMG_1914.JPEG_1.png to TOO_SIMILAR - Similarity: 85.92%\n",
      "Moved extracted_face_IMG_1915.JPEG_0.png to TOO_SIMILAR - Similarity: 84.11%\n",
      "Moved extracted_face_IMG_1915.JPEG_1.png to TOO_SIMILAR - Similarity: 86.46%\n",
      "Moved extracted_face_IMG_1916.JPEG_0.png to TOO_SIMILAR - Similarity: 84.76%\n",
      "Moved extracted_face_IMG_1916.JPEG_1.png to TOO_SIMILAR - Similarity: 83.96%\n"
     ]
    },
    {
     "name": "stderr",
     "output_type": "stream",
     "text": [
      "Analyzing Similarity:  51%|█████     | 6053/11826 [02:07<01:10, 82.47it/s]"
     ]
    },
    {
     "name": "stdout",
     "output_type": "stream",
     "text": [
      "Moved extracted_face_IMG_1916.JPEG_2.png to TOO_SIMILAR - Similarity: 80.20%\n",
      "Moved extracted_face_IMG_1917.JPEG_0.png to TOO_SIMILAR - Similarity: 83.06%\n",
      "Moved extracted_face_IMG_1917.JPEG_1.png to TOO_SIMILAR - Similarity: 85.53%\n",
      "Moved extracted_face_IMG_1922.JPEG_0.png to TOO_SIMILAR - Similarity: 82.24%\n",
      "Moved extracted_face_IMG_1928.JPEG_2.png to TOO_SIMILAR - Similarity: 82.68%\n",
      "Moved extracted_face_IMG_1929.JPEG_0.png to TOO_SIMILAR - Similarity: 82.39%\n"
     ]
    },
    {
     "name": "stderr",
     "output_type": "stream",
     "text": [
      "Analyzing Similarity:  51%|█████▏    | 6062/11826 [02:07<01:09, 83.24it/s]"
     ]
    },
    {
     "name": "stdout",
     "output_type": "stream",
     "text": [
      "Moved extracted_face_IMG_1930.JPEG_0.png to TOO_SIMILAR - Similarity: 80.01%\n"
     ]
    },
    {
     "name": "stderr",
     "output_type": "stream",
     "text": [
      "Analyzing Similarity:  51%|█████▏    | 6079/11826 [02:08<01:30, 63.67it/s]"
     ]
    },
    {
     "name": "stdout",
     "output_type": "stream",
     "text": [
      "Moved extracted_face_IMG_1953.JPEG_0.png to TOO_SIMILAR - Similarity: 80.75%\n",
      "Moved extracted_face_IMG_1955.JPEG_0.png to TOO_SIMILAR - Similarity: 80.85%\n",
      "Moved extracted_face_IMG_1958.JPEG_0.png to TOO_SIMILAR - Similarity: 80.61%\n",
      "Moved extracted_face_IMG_1959.JPEG_1.png to TOO_SIMILAR - Similarity: 82.84%\n",
      "Moved extracted_face_IMG_1959.JPEG_3.png to TOO_SIMILAR - Similarity: 83.39%\n",
      "Moved extracted_face_IMG_1960.JPEG_0.png to TOO_SIMILAR - Similarity: 85.30%\n",
      "Moved extracted_face_IMG_1960.JPEG_3.png to TOO_SIMILAR - Similarity: 83.43%\n"
     ]
    },
    {
     "name": "stderr",
     "output_type": "stream",
     "text": [
      "Analyzing Similarity:  52%|█████▏    | 6095/11826 [02:08<01:22, 69.24it/s]"
     ]
    },
    {
     "name": "stdout",
     "output_type": "stream",
     "text": [
      "Moved extracted_face_IMG_1964.JPEG_1.png to TOO_SIMILAR - Similarity: 88.18%\n",
      "Moved extracted_face_IMG_1967.JPEG_0.png to TOO_SIMILAR - Similarity: 82.50%\n",
      "Moved extracted_face_IMG_1971.JPEG_0.png to TOO_SIMILAR - Similarity: 83.48%\n"
     ]
    },
    {
     "name": "stderr",
     "output_type": "stream",
     "text": [
      "Analyzing Similarity:  52%|█████▏    | 6121/11826 [02:08<01:15, 76.05it/s]"
     ]
    },
    {
     "name": "stdout",
     "output_type": "stream",
     "text": [
      "Moved extracted_face_IMG_1972.JPEG_0.png to TOO_SIMILAR - Similarity: 83.37%\n",
      "Moved extracted_face_IMG_1974.JPEG_3.png to TOO_SIMILAR - Similarity: 82.81%\n",
      "Moved extracted_face_IMG_1975.JPEG_0.png to TOO_SIMILAR - Similarity: 83.53%\n"
     ]
    },
    {
     "name": "stderr",
     "output_type": "stream",
     "text": [
      "Analyzing Similarity:  52%|█████▏    | 6139/11826 [02:08<01:11, 79.63it/s]"
     ]
    },
    {
     "name": "stdout",
     "output_type": "stream",
     "text": [
      "Moved extracted_face_IMG_1976.JPEG_1.png to TOO_SIMILAR - Similarity: 82.33%\n",
      "Moved extracted_face_IMG_1976.JPEG_2.png to TOO_SIMILAR - Similarity: 81.06%\n",
      "Moved extracted_face_IMG_1976.JPEG_4.png to TOO_SIMILAR - Similarity: 81.07%\n",
      "Moved extracted_face_IMG_1977.JPEG_1.png to TOO_SIMILAR - Similarity: 82.08%\n"
     ]
    },
    {
     "name": "stderr",
     "output_type": "stream",
     "text": [
      "Analyzing Similarity:  52%|█████▏    | 6166/11826 [02:09<01:06, 85.48it/s]"
     ]
    },
    {
     "name": "stdout",
     "output_type": "stream",
     "text": [
      "Moved extracted_face_IMG_1981.JPEG_3.png to TOO_SIMILAR - Similarity: 80.37%\n",
      "Moved extracted_face_IMG_1982.JPEG_0.png to TOO_SIMILAR - Similarity: 82.47%\n",
      "Moved extracted_face_IMG_1983.JPEG_2.png to TOO_SIMILAR - Similarity: 84.22%\n",
      "Moved extracted_face_IMG_1984.JPEG_1.png to TOO_SIMILAR - Similarity: 84.69%\n",
      "Moved extracted_face_IMG_1984.JPEG_2.png to TOO_SIMILAR - Similarity: 81.09%\n",
      "Moved extracted_face_IMG_1985.JPEG_0.png to TOO_SIMILAR - Similarity: 83.58%\n",
      "Moved extracted_face_IMG_1985.JPEG_2.png to TOO_SIMILAR - Similarity: 81.80%\n",
      "Moved extracted_face_IMG_1986.JPEG_1.png to TOO_SIMILAR - Similarity: 80.12%\n",
      "Moved extracted_face_IMG_1986.JPEG_2.png to TOO_SIMILAR - Similarity: 83.39%\n"
     ]
    },
    {
     "name": "stderr",
     "output_type": "stream",
     "text": [
      "Analyzing Similarity:  52%|█████▏    | 6184/11826 [02:09<01:08, 82.61it/s]"
     ]
    },
    {
     "name": "stdout",
     "output_type": "stream",
     "text": [
      "Moved extracted_face_IMG_1987.JPEG_0.png to TOO_SIMILAR - Similarity: 84.03%\n"
     ]
    },
    {
     "name": "stderr",
     "output_type": "stream",
     "text": [
      "Analyzing Similarity:  53%|█████▎    | 6223/11826 [02:09<01:03, 88.58it/s]"
     ]
    },
    {
     "name": "stdout",
     "output_type": "stream",
     "text": [
      "Moved extracted_face_IMG_1995.JPEG_1.png to TOO_SIMILAR - Similarity: 85.15%\n",
      "Moved extracted_face_IMG_1996.JPEG_1.png to TOO_SIMILAR - Similarity: 83.84%\n",
      "Moved extracted_face_IMG_1999.JPEG_0.png to TOO_SIMILAR - Similarity: 85.64%\n"
     ]
    },
    {
     "name": "stderr",
     "output_type": "stream",
     "text": [
      "Analyzing Similarity:  53%|█████▎    | 6252/11826 [02:10<01:01, 90.45it/s]"
     ]
    },
    {
     "name": "stdout",
     "output_type": "stream",
     "text": [
      "Moved extracted_face_IMG_2003.JPEG_3.png to TOO_SIMILAR - Similarity: 80.03%\n",
      "Moved extracted_face_IMG_2029.JPEG_2.png to TOO_SIMILAR - Similarity: 80.60%\n",
      "Moved extracted_face_IMG_2029.JPEG_5.png to TOO_SIMILAR - Similarity: 81.42%\n"
     ]
    },
    {
     "name": "stderr",
     "output_type": "stream",
     "text": [
      "Analyzing Similarity:  53%|█████▎    | 6271/11826 [02:10<01:12, 76.69it/s]"
     ]
    },
    {
     "name": "stdout",
     "output_type": "stream",
     "text": [
      "Moved extracted_face_IMG_2030.JPEG_4.png to TOO_SIMILAR - Similarity: 80.07%\n",
      "Moved extracted_face_IMG_2030.JPEG_5.png to TOO_SIMILAR - Similarity: 84.34%\n",
      "Moved extracted_face_IMG_2031.JPEG_5.png to TOO_SIMILAR - Similarity: 81.18%\n",
      "Moved extracted_face_IMG_2032.JPEG_0.png to TOO_SIMILAR - Similarity: 80.96%\n"
     ]
    },
    {
     "name": "stderr",
     "output_type": "stream",
     "text": [
      "Analyzing Similarity:  53%|█████▎    | 6288/11826 [02:10<01:10, 79.01it/s]"
     ]
    },
    {
     "name": "stdout",
     "output_type": "stream",
     "text": [
      "Moved extracted_face_IMG_2041.JPEG_0.png to TOO_SIMILAR - Similarity: 80.23%\n",
      "Moved extracted_face_IMG_2065.JPEG_0.png to TOO_SIMILAR - Similarity: 80.34%\n",
      "Moved extracted_face_IMG_2079.JPEG_0.png to TOO_SIMILAR - Similarity: 80.26%\n",
      "Moved extracted_face_IMG_2079.JPEG_3.png to TOO_SIMILAR - Similarity: 83.11%\n"
     ]
    },
    {
     "name": "stderr",
     "output_type": "stream",
     "text": [
      "Analyzing Similarity:  53%|█████▎    | 6306/11826 [02:10<01:07, 81.56it/s]"
     ]
    },
    {
     "name": "stdout",
     "output_type": "stream",
     "text": [
      "Moved extracted_face_IMG_2085.JPEG_0.png to TOO_SIMILAR - Similarity: 80.10%\n",
      "Moved extracted_face_IMG_2091.JPEG_2.png to TOO_SIMILAR - Similarity: 82.11%\n"
     ]
    },
    {
     "name": "stderr",
     "output_type": "stream",
     "text": [
      "Analyzing Similarity:  53%|█████▎    | 6324/11826 [02:11<01:09, 79.65it/s]"
     ]
    },
    {
     "name": "stdout",
     "output_type": "stream",
     "text": [
      "Moved extracted_face_IMG_2100.JPEG_0.png to TOO_SIMILAR - Similarity: 81.75%\n",
      "Moved extracted_face_IMG_2101.JPEG_0.png to TOO_SIMILAR - Similarity: 80.69%\n",
      "Moved extracted_face_IMG_2102.JPEG_0.png to TOO_SIMILAR - Similarity: 80.15%\n",
      "Moved extracted_face_IMG_2103.JPEG_1.png to TOO_SIMILAR - Similarity: 80.85%\n",
      "Moved extracted_face_IMG_2104.JPEG_0.png to TOO_SIMILAR - Similarity: 80.78%\n",
      "Moved extracted_face_IMG_2111.JPEG_1.png to TOO_SIMILAR - Similarity: 80.58%\n",
      "Moved extracted_face_IMG_2114.JPEG_2.png to TOO_SIMILAR - Similarity: 83.14%\n"
     ]
    },
    {
     "name": "stderr",
     "output_type": "stream",
     "text": [
      "Analyzing Similarity:  54%|█████▍    | 6360/11826 [02:11<01:03, 85.48it/s]"
     ]
    },
    {
     "name": "stdout",
     "output_type": "stream",
     "text": [
      "Moved extracted_face_IMG_2122.JPEG_0.png to TOO_SIMILAR - Similarity: 81.59%\n",
      "Moved extracted_face_IMG_2124.JPEG_0.png to TOO_SIMILAR - Similarity: 81.65%\n",
      "Moved extracted_face_IMG_2125.JPEG_0.png to TOO_SIMILAR - Similarity: 82.35%\n",
      "Moved extracted_face_IMG_2126.JPEG_0.png to TOO_SIMILAR - Similarity: 81.33%\n",
      "Moved extracted_face_IMG_2156.JPEG_0.png to TOO_SIMILAR - Similarity: 83.78%\n",
      "Moved extracted_face_IMG_2159.JPEG_0.png to TOO_SIMILAR - Similarity: 81.80%\n",
      "Moved extracted_face_IMG_2160.JPEG_0.png to TOO_SIMILAR - Similarity: 82.05%\n",
      "Moved extracted_face_IMG_2199.JPEG_0.png to TOO_SIMILAR - Similarity: 85.87%\n"
     ]
    },
    {
     "name": "stderr",
     "output_type": "stream",
     "text": [
      "Analyzing Similarity:  54%|█████▍    | 6379/11826 [02:11<01:02, 87.43it/s]"
     ]
    },
    {
     "name": "stdout",
     "output_type": "stream",
     "text": [
      "Moved extracted_face_IMG_2199.JPEG_6.png to TOO_SIMILAR - Similarity: 80.74%\n",
      "Moved extracted_face_IMG_2228.JPEG_2.png to TOO_SIMILAR - Similarity: 84.18%\n",
      "Moved extracted_face_IMG_2235.JPEG_2.png to TOO_SIMILAR - Similarity: 81.23%\n",
      "Moved extracted_face_IMG_2261.JPG_0.png to TOO_SIMILAR - Similarity: 84.10%\n"
     ]
    },
    {
     "name": "stderr",
     "output_type": "stream",
     "text": [
      "Analyzing Similarity:  54%|█████▍    | 6409/11826 [02:11<00:59, 91.69it/s]"
     ]
    },
    {
     "name": "stdout",
     "output_type": "stream",
     "text": [
      "Moved extracted_face_IMG_2262.JPG_14.png to TOO_SIMILAR - Similarity: 81.09%\n"
     ]
    },
    {
     "name": "stderr",
     "output_type": "stream",
     "text": [
      "Analyzing Similarity:  54%|█████▍    | 6429/11826 [02:12<00:57, 93.41it/s]"
     ]
    },
    {
     "name": "stdout",
     "output_type": "stream",
     "text": [
      "Moved extracted_face_IMG_2262.JPG_31.png to TOO_SIMILAR - Similarity: 82.02%\n",
      "Moved extracted_face_IMG_2262.JPG_36.png to TOO_SIMILAR - Similarity: 83.25%\n",
      "Moved extracted_face_IMG_2262.JPG_6.png to TOO_SIMILAR - Similarity: 81.40%\n",
      "Moved extracted_face_IMG_2264.JPG_1.png to TOO_SIMILAR - Similarity: 80.89%\n"
     ]
    },
    {
     "name": "stderr",
     "output_type": "stream",
     "text": [
      "Analyzing Similarity:  54%|█████▍    | 6439/11826 [02:12<00:59, 89.85it/s]"
     ]
    },
    {
     "name": "stdout",
     "output_type": "stream",
     "text": [
      "Moved extracted_face_IMG_2270.JPG_10.png to TOO_SIMILAR - Similarity: 85.75%\n",
      "Moved extracted_face_IMG_2270.JPG_11.png to TOO_SIMILAR - Similarity: 84.79%\n",
      "Moved extracted_face_IMG_2270.JPG_13.png to TOO_SIMILAR - Similarity: 84.44%\n",
      "Moved extracted_face_IMG_2270.JPG_14.png to TOO_SIMILAR - Similarity: 82.66%\n",
      "Moved extracted_face_IMG_2270.JPG_18.png to TOO_SIMILAR - Similarity: 84.76%\n",
      "Moved extracted_face_IMG_2270.JPG_21.png to TOO_SIMILAR - Similarity: 81.82%\n",
      "Moved extracted_face_IMG_2270.JPG_22.png to TOO_SIMILAR - Similarity: 82.65%\n",
      "Moved extracted_face_IMG_2270.JPG_23.png to TOO_SIMILAR - Similarity: 85.24%\n",
      "Moved extracted_face_IMG_2270.JPG_24.png to TOO_SIMILAR - Similarity: 83.60%\n",
      "Moved extracted_face_IMG_2270.JPG_25.png to TOO_SIMILAR - Similarity: 82.46%\n"
     ]
    },
    {
     "name": "stderr",
     "output_type": "stream",
     "text": [
      "Analyzing Similarity:  55%|█████▍    | 6458/11826 [02:12<01:16, 70.08it/s]"
     ]
    },
    {
     "name": "stdout",
     "output_type": "stream",
     "text": [
      "Moved extracted_face_IMG_2270.JPG_3.png to TOO_SIMILAR - Similarity: 81.37%\n",
      "Moved extracted_face_IMG_2270.JPG_31.png to TOO_SIMILAR - Similarity: 81.45%\n",
      "Moved extracted_face_IMG_2270.JPG_35.png to TOO_SIMILAR - Similarity: 83.16%\n",
      "Moved extracted_face_IMG_2270.JPG_37.png to TOO_SIMILAR - Similarity: 81.60%\n"
     ]
    },
    {
     "name": "stderr",
     "output_type": "stream",
     "text": [
      "Analyzing Similarity:  55%|█████▍    | 6474/11826 [02:12<01:15, 71.04it/s]"
     ]
    },
    {
     "name": "stdout",
     "output_type": "stream",
     "text": [
      "Moved extracted_face_IMG_2270.JPG_4.png to TOO_SIMILAR - Similarity: 81.02%\n",
      "Moved extracted_face_IMG_2270.JPG_40.png to TOO_SIMILAR - Similarity: 82.07%\n",
      "Moved extracted_face_IMG_2270.JPG_41.png to TOO_SIMILAR - Similarity: 85.10%\n",
      "Moved extracted_face_IMG_2270.JPG_42.png to TOO_SIMILAR - Similarity: 81.88%\n",
      "Moved extracted_face_IMG_2270.JPG_49.png to TOO_SIMILAR - Similarity: 80.30%\n",
      "Moved extracted_face_IMG_2270.JPG_50.png to TOO_SIMILAR - Similarity: 81.04%\n",
      "Moved extracted_face_IMG_2270.JPG_51.png to TOO_SIMILAR - Similarity: 84.60%\n",
      "Moved extracted_face_IMG_2270.JPG_52.png to TOO_SIMILAR - Similarity: 82.76%\n",
      "Moved extracted_face_IMG_2270.JPG_53.png to TOO_SIMILAR - Similarity: 80.50%\n"
     ]
    },
    {
     "name": "stderr",
     "output_type": "stream",
     "text": [
      "Analyzing Similarity:  55%|█████▍    | 6491/11826 [02:13<01:10, 75.97it/s]"
     ]
    },
    {
     "name": "stdout",
     "output_type": "stream",
     "text": [
      "Moved extracted_face_IMG_2270.JPG_54.png to TOO_SIMILAR - Similarity: 85.54%\n",
      "Moved extracted_face_IMG_2270.JPG_55.png to TOO_SIMILAR - Similarity: 83.27%\n",
      "Moved extracted_face_IMG_2270.JPG_56.png to TOO_SIMILAR - Similarity: 83.15%\n",
      "Moved extracted_face_IMG_2270.JPG_57.png to TOO_SIMILAR - Similarity: 81.60%\n",
      "Moved extracted_face_IMG_2270.JPG_59.png to TOO_SIMILAR - Similarity: 88.55%\n",
      "Moved extracted_face_IMG_2270.JPG_60.png to TOO_SIMILAR - Similarity: 80.06%\n",
      "Moved extracted_face_IMG_2270.JPG_62.png to TOO_SIMILAR - Similarity: 83.04%\n",
      "Moved extracted_face_IMG_2270.JPG_63.png to TOO_SIMILAR - Similarity: 84.85%\n",
      "Moved extracted_face_IMG_2270.JPG_65.png to TOO_SIMILAR - Similarity: 83.38%\n"
     ]
    },
    {
     "name": "stderr",
     "output_type": "stream",
     "text": [
      "Analyzing Similarity:  55%|█████▌    | 6509/11826 [02:13<01:05, 80.75it/s]"
     ]
    },
    {
     "name": "stdout",
     "output_type": "stream",
     "text": [
      "Moved extracted_face_IMG_2270.JPG_71.png to TOO_SIMILAR - Similarity: 81.59%\n",
      "Moved extracted_face_IMG_2270.JPG_74.png to TOO_SIMILAR - Similarity: 82.75%\n",
      "Moved extracted_face_IMG_2270.JPG_79.png to TOO_SIMILAR - Similarity: 81.55%\n",
      "Moved extracted_face_IMG_2270.JPG_8.png to TOO_SIMILAR - Similarity: 88.27%\n",
      "Moved extracted_face_IMG_2270.JPG_9.png to TOO_SIMILAR - Similarity: 82.87%\n"
     ]
    },
    {
     "name": "stderr",
     "output_type": "stream",
     "text": [
      "Analyzing Similarity:  55%|█████▌    | 6527/11826 [02:13<01:07, 78.18it/s]"
     ]
    },
    {
     "name": "stdout",
     "output_type": "stream",
     "text": [
      "Moved extracted_face_IMG_2280.JPEG_0.png to TOO_SIMILAR - Similarity: 84.25%\n",
      "Moved extracted_face_IMG_2280.JPEG_1.png to TOO_SIMILAR - Similarity: 80.88%\n",
      "Moved extracted_face_IMG_2280.JPEG_2.png to TOO_SIMILAR - Similarity: 80.83%\n",
      "Moved extracted_face_IMG_2280.JPEG_3.png to TOO_SIMILAR - Similarity: 88.54%\n",
      "Moved extracted_face_IMG_2285.JPG_0.png to TOO_SIMILAR - Similarity: 83.94%\n"
     ]
    },
    {
     "name": "stderr",
     "output_type": "stream",
     "text": [
      "Analyzing Similarity:  55%|█████▌    | 6544/11826 [02:13<01:08, 77.20it/s]"
     ]
    },
    {
     "name": "stdout",
     "output_type": "stream",
     "text": [
      "Moved extracted_face_IMG_2288.JPG_6.png to TOO_SIMILAR - Similarity: 80.32%\n",
      "Moved extracted_face_IMG_2291.JPG_0.png to TOO_SIMILAR - Similarity: 83.40%\n",
      "Moved extracted_face_IMG_2294.JPG_0.png to TOO_SIMILAR - Similarity: 83.87%\n",
      "Moved extracted_face_IMG_2294.JPG_4.png to TOO_SIMILAR - Similarity: 82.42%\n",
      "Moved extracted_face_IMG_2301.JPG_1.png to TOO_SIMILAR - Similarity: 83.60%\n"
     ]
    },
    {
     "name": "stderr",
     "output_type": "stream",
     "text": [
      "Analyzing Similarity:  56%|█████▌    | 6578/11826 [02:14<01:05, 80.46it/s]"
     ]
    },
    {
     "name": "stdout",
     "output_type": "stream",
     "text": [
      "Moved extracted_face_IMG_2308.JPG_0.png to TOO_SIMILAR - Similarity: 83.90%\n",
      "Moved extracted_face_IMG_2308.JPG_1.png to TOO_SIMILAR - Similarity: 86.12%\n",
      "Moved extracted_face_IMG_2308.JPG_2.png to TOO_SIMILAR - Similarity: 81.17%\n",
      "Moved extracted_face_IMG_2308.JPG_3.png to TOO_SIMILAR - Similarity: 84.58%\n",
      "Moved extracted_face_IMG_2308.JPG_4.png to TOO_SIMILAR - Similarity: 80.60%\n",
      "Moved extracted_face_IMG_2316.JPEG_3.png to TOO_SIMILAR - Similarity: 81.22%\n"
     ]
    },
    {
     "name": "stderr",
     "output_type": "stream",
     "text": [
      "Analyzing Similarity:  56%|█████▌    | 6606/11826 [02:14<01:01, 85.32it/s]"
     ]
    },
    {
     "name": "stdout",
     "output_type": "stream",
     "text": [
      "Moved extracted_face_IMG_2355.JPEG_0.png to TOO_SIMILAR - Similarity: 81.17%\n",
      "Moved extracted_face_IMG_2355.JPEG_1.png to TOO_SIMILAR - Similarity: 80.85%\n",
      "Moved extracted_face_IMG_2356.JPEG_1.png to TOO_SIMILAR - Similarity: 80.81%\n",
      "Moved extracted_face_IMG_2388.JPEG_0.png to TOO_SIMILAR - Similarity: 85.05%\n",
      "Moved extracted_face_IMG_2388.JPEG_1.png to TOO_SIMILAR - Similarity: 84.85%\n",
      "Moved extracted_face_IMG_2388.JPEG_2.png to TOO_SIMILAR - Similarity: 83.58%\n",
      "Moved extracted_face_IMG_2413.JPG_0.png to TOO_SIMILAR - Similarity: 83.05%\n"
     ]
    },
    {
     "name": "stderr",
     "output_type": "stream",
     "text": [
      "Analyzing Similarity:  56%|█████▌    | 6625/11826 [02:14<00:59, 88.01it/s]"
     ]
    },
    {
     "name": "stdout",
     "output_type": "stream",
     "text": [
      "Moved extracted_face_IMG_2462.JPEG_1.png to TOO_SIMILAR - Similarity: 81.34%\n",
      "Moved extracted_face_IMG_2466.JPEG_1.png to TOO_SIMILAR - Similarity: 84.82%\n",
      "Moved extracted_face_IMG_2466.JPEG_2.png to TOO_SIMILAR - Similarity: 83.54%\n",
      "Moved extracted_face_IMG_2467.JPEG_0.png to TOO_SIMILAR - Similarity: 82.63%\n",
      "Moved extracted_face_IMG_2467.JPEG_1.png to TOO_SIMILAR - Similarity: 86.30%\n",
      "Moved extracted_face_IMG_2467.JPEG_4.png to TOO_SIMILAR - Similarity: 83.27%\n",
      "Moved extracted_face_IMG_2486.JPEG_0.png to TOO_SIMILAR - Similarity: 81.41%\n"
     ]
    },
    {
     "name": "stderr",
     "output_type": "stream",
     "text": [
      "Analyzing Similarity:  56%|█████▌    | 6644/11826 [02:14<01:13, 70.76it/s]"
     ]
    },
    {
     "name": "stdout",
     "output_type": "stream",
     "text": [
      "Moved extracted_face_IMG_2487.JPEG_0.png to TOO_SIMILAR - Similarity: 89.44%\n",
      "Moved extracted_face_IMG_2550.JPEG_0.png to TOO_SIMILAR - Similarity: 85.07%\n",
      "Moved extracted_face_IMG_2552.JPG_0.png to TOO_SIMILAR - Similarity: 82.00%\n"
     ]
    },
    {
     "name": "stderr",
     "output_type": "stream",
     "text": [
      "Analyzing Similarity:  56%|█████▋    | 6677/11826 [02:15<01:07, 75.92it/s]"
     ]
    },
    {
     "name": "stdout",
     "output_type": "stream",
     "text": [
      "Moved extracted_face_IMG_2631.JPG_0.png to TOO_SIMILAR - Similarity: 80.01%\n",
      "Moved extracted_face_IMG_2637.JPEG_5.png to TOO_SIMILAR - Similarity: 81.71%\n",
      "Moved extracted_face_IMG_2638.JPEG_2.png to TOO_SIMILAR - Similarity: 83.58%\n",
      "Moved extracted_face_IMG_2638.JPEG_7.png to TOO_SIMILAR - Similarity: 82.11%\n",
      "Moved extracted_face_IMG_2639.JPEG_0.png to TOO_SIMILAR - Similarity: 80.14%\n"
     ]
    },
    {
     "name": "stderr",
     "output_type": "stream",
     "text": [
      "Analyzing Similarity:  57%|█████▋    | 6704/11826 [02:15<01:02, 82.57it/s]"
     ]
    },
    {
     "name": "stdout",
     "output_type": "stream",
     "text": [
      "Moved extracted_face_IMG_2640.JPEG_4.png to TOO_SIMILAR - Similarity: 83.74%\n",
      "Moved extracted_face_IMG_2640.JPEG_5.png to TOO_SIMILAR - Similarity: 81.16%\n",
      "Moved extracted_face_IMG_2640.JPG_4.png to TOO_SIMILAR - Similarity: 82.96%\n"
     ]
    },
    {
     "name": "stderr",
     "output_type": "stream",
     "text": [
      "Analyzing Similarity:  57%|█████▋    | 6722/11826 [02:15<01:00, 84.77it/s]"
     ]
    },
    {
     "name": "stdout",
     "output_type": "stream",
     "text": [
      "Moved extracted_face_IMG_2660.JPEG_0.png to TOO_SIMILAR - Similarity: 80.46%\n"
     ]
    },
    {
     "name": "stderr",
     "output_type": "stream",
     "text": [
      "Analyzing Similarity:  57%|█████▋    | 6740/11826 [02:16<00:58, 86.63it/s]"
     ]
    },
    {
     "name": "stdout",
     "output_type": "stream",
     "text": [
      "Moved extracted_face_IMG_2674.JPEG_0.png to TOO_SIMILAR - Similarity: 88.08%\n",
      "Moved extracted_face_IMG_2675.JPEG_0.png to TOO_SIMILAR - Similarity: 85.43%\n",
      "Moved extracted_face_IMG_2676.JPEG_0.png to TOO_SIMILAR - Similarity: 83.44%\n",
      "Moved extracted_face_IMG_2681.JPEG_0.png to TOO_SIMILAR - Similarity: 82.03%\n",
      "Moved extracted_face_IMG_2682.JPEG_0.png to TOO_SIMILAR - Similarity: 80.70%\n",
      "Moved extracted_face_IMG_2682.JPG_1.png to TOO_SIMILAR - Similarity: 82.97%\n",
      "Moved extracted_face_IMG_2682.JPG_12.png to TOO_SIMILAR - Similarity: 86.06%\n",
      "Moved extracted_face_IMG_2682.JPG_13.png to TOO_SIMILAR - Similarity: 80.48%\n",
      "Moved extracted_face_IMG_2682.JPG_14.png to TOO_SIMILAR - Similarity: 81.66%\n"
     ]
    },
    {
     "name": "stderr",
     "output_type": "stream",
     "text": [
      "Analyzing Similarity:  57%|█████▋    | 6758/11826 [02:16<00:59, 85.23it/s]"
     ]
    },
    {
     "name": "stdout",
     "output_type": "stream",
     "text": [
      "Moved extracted_face_IMG_2682.JPG_15.png to TOO_SIMILAR - Similarity: 83.17%\n",
      "Moved extracted_face_IMG_2682.JPG_2.png to TOO_SIMILAR - Similarity: 84.82%\n",
      "Moved extracted_face_IMG_2682.JPG_3.png to TOO_SIMILAR - Similarity: 84.80%\n",
      "Moved extracted_face_IMG_2682.JPG_4.png to TOO_SIMILAR - Similarity: 83.80%\n",
      "Moved extracted_face_IMG_2682.JPG_5.png to TOO_SIMILAR - Similarity: 82.24%\n",
      "Moved extracted_face_IMG_2682.JPG_6.png to TOO_SIMILAR - Similarity: 84.07%\n",
      "Moved extracted_face_IMG_2682.JPG_7.png to TOO_SIMILAR - Similarity: 83.66%\n",
      "Moved extracted_face_IMG_2682.JPG_8.png to TOO_SIMILAR - Similarity: 82.50%\n",
      "Moved extracted_face_IMG_2682.JPG_9.png to TOO_SIMILAR - Similarity: 81.51%\n",
      "Moved extracted_face_IMG_2683.JPEG_0.png to TOO_SIMILAR - Similarity: 85.07%\n",
      "Moved extracted_face_IMG_2684.JPEG_0.png to TOO_SIMILAR - Similarity: 83.38%\n",
      "Moved extracted_face_IMG_2684.JPEG_2.png to TOO_SIMILAR - Similarity: 84.61%\n",
      "Moved extracted_face_IMG_2685.JPEG_0.png to TOO_SIMILAR - Similarity: 81.96%\n"
     ]
    },
    {
     "name": "stderr",
     "output_type": "stream",
     "text": [
      "Analyzing Similarity:  57%|█████▋    | 6777/11826 [02:16<01:00, 83.80it/s]"
     ]
    },
    {
     "name": "stdout",
     "output_type": "stream",
     "text": [
      "Moved extracted_face_IMG_2685.JPEG_2.png to TOO_SIMILAR - Similarity: 84.77%\n",
      "Moved extracted_face_IMG_2686.JPEG_0.png to TOO_SIMILAR - Similarity: 84.57%\n",
      "Moved extracted_face_IMG_2688.JPEG_2.png to TOO_SIMILAR - Similarity: 83.90%\n",
      "Moved extracted_face_IMG_2689.JPEG_2.png to TOO_SIMILAR - Similarity: 84.03%\n",
      "Moved extracted_face_IMG_2695.JPEG_1.png to TOO_SIMILAR - Similarity: 80.54%\n",
      "Moved extracted_face_IMG_2695.JPEG_5.png to TOO_SIMILAR - Similarity: 82.78%\n"
     ]
    },
    {
     "name": "stderr",
     "output_type": "stream",
     "text": [
      "Analyzing Similarity:  58%|█████▊    | 6813/11826 [02:17<00:59, 84.02it/s]"
     ]
    },
    {
     "name": "stdout",
     "output_type": "stream",
     "text": [
      "Moved extracted_face_IMG_2703.JPEG_1.png to TOO_SIMILAR - Similarity: 87.55%\n",
      "Moved extracted_face_IMG_2705.JPEG_1.png to TOO_SIMILAR - Similarity: 80.72%\n",
      "Moved extracted_face_IMG_2707.JPEG_1.png to TOO_SIMILAR - Similarity: 83.52%\n",
      "Moved extracted_face_IMG_2710.JPEG_0.png to TOO_SIMILAR - Similarity: 83.29%\n",
      "Moved extracted_face_IMG_2710.JPEG_1.png to TOO_SIMILAR - Similarity: 82.70%\n"
     ]
    },
    {
     "name": "stderr",
     "output_type": "stream",
     "text": [
      "Analyzing Similarity:  58%|█████▊    | 6832/11826 [02:17<00:58, 85.47it/s]"
     ]
    },
    {
     "name": "stdout",
     "output_type": "stream",
     "text": [
      "Moved extracted_face_IMG_2713.JPEG_4.png to TOO_SIMILAR - Similarity: 80.67%\n",
      "Moved extracted_face_IMG_2714.JPEG_2.png to TOO_SIMILAR - Similarity: 86.17%\n"
     ]
    },
    {
     "name": "stderr",
     "output_type": "stream",
     "text": [
      "Analyzing Similarity:  58%|█████▊    | 6851/11826 [02:17<00:56, 87.86it/s]"
     ]
    },
    {
     "name": "stdout",
     "output_type": "stream",
     "text": [
      "Moved extracted_face_IMG_2725.JPEG_1.png to TOO_SIMILAR - Similarity: 80.26%\n",
      "Moved extracted_face_IMG_2726.JPEG_1.png to TOO_SIMILAR - Similarity: 81.62%\n",
      "Moved extracted_face_IMG_2726.JPEG_4.png to TOO_SIMILAR - Similarity: 81.13%\n",
      "Moved extracted_face_IMG_2727.JPEG_2.png to TOO_SIMILAR - Similarity: 85.41%\n",
      "Moved extracted_face_IMG_2727.JPEG_6.png to TOO_SIMILAR - Similarity: 84.43%\n",
      "Moved extracted_face_IMG_2728.JPEG_0.png to TOO_SIMILAR - Similarity: 84.95%\n",
      "Moved extracted_face_IMG_2730.JPEG_0.png to TOO_SIMILAR - Similarity: 80.15%\n",
      "Moved extracted_face_IMG_2730.JPEG_1.png to TOO_SIMILAR - Similarity: 80.25%\n"
     ]
    },
    {
     "name": "stderr",
     "output_type": "stream",
     "text": [
      "Analyzing Similarity:  58%|█████▊    | 6879/11826 [02:17<00:57, 85.58it/s]"
     ]
    },
    {
     "name": "stdout",
     "output_type": "stream",
     "text": [
      "Moved extracted_face_IMG_2733.JPEG_5.png to TOO_SIMILAR - Similarity: 83.18%\n",
      "Moved extracted_face_IMG_2737.JPEG_1.png to TOO_SIMILAR - Similarity: 80.02%\n",
      "Moved extracted_face_IMG_2739.JPEG_2.png to TOO_SIMILAR - Similarity: 84.01%\n",
      "Moved extracted_face_IMG_2742.JPEG_2.png to TOO_SIMILAR - Similarity: 81.20%\n",
      "Moved extracted_face_IMG_2743.JPG_0.png to TOO_SIMILAR - Similarity: 82.66%\n",
      "Moved extracted_face_IMG_2744.JPG_0.png to TOO_SIMILAR - Similarity: 82.18%\n",
      "Moved extracted_face_IMG_2745.JPG_0.png to TOO_SIMILAR - Similarity: 81.25%\n"
     ]
    },
    {
     "name": "stderr",
     "output_type": "stream",
     "text": [
      "Analyzing Similarity:  58%|█████▊    | 6888/11826 [02:17<01:12, 67.87it/s]"
     ]
    },
    {
     "name": "stdout",
     "output_type": "stream",
     "text": [
      "Moved extracted_face_IMG_2752.JPEG_0.png to TOO_SIMILAR - Similarity: 81.22%\n",
      "Moved extracted_face_IMG_2754.JPEG_0.png to TOO_SIMILAR - Similarity: 82.70%\n",
      "Moved extracted_face_IMG_2755.JPEG_0.png to TOO_SIMILAR - Similarity: 80.34%\n",
      "Moved extracted_face_IMG_2756.JPEG_3.png to TOO_SIMILAR - Similarity: 83.08%\n"
     ]
    },
    {
     "name": "stderr",
     "output_type": "stream",
     "text": [
      "Analyzing Similarity:  58%|█████▊    | 6912/11826 [02:18<01:09, 70.57it/s]"
     ]
    },
    {
     "name": "stdout",
     "output_type": "stream",
     "text": [
      "Moved extracted_face_IMG_2762.JPEG_0.png to TOO_SIMILAR - Similarity: 84.83%\n",
      "Moved extracted_face_IMG_2763.JPEG_1.png to TOO_SIMILAR - Similarity: 87.32%\n",
      "Moved extracted_face_IMG_2763.JPEG_3.png to TOO_SIMILAR - Similarity: 80.68%\n",
      "Moved extracted_face_IMG_2764.JPEG_2.png to TOO_SIMILAR - Similarity: 82.32%\n",
      "Moved extracted_face_IMG_2764.JPEG_4.png to TOO_SIMILAR - Similarity: 88.89%\n",
      "Moved extracted_face_IMG_2764.JPEG_6.png to TOO_SIMILAR - Similarity: 81.43%\n",
      "Moved extracted_face_IMG_2765.JPEG_0.png to TOO_SIMILAR - Similarity: 83.64%\n",
      "Moved extracted_face_IMG_2765.JPEG_1.png to TOO_SIMILAR - Similarity: 82.14%\n",
      "Moved extracted_face_IMG_2765.JPEG_2.png to TOO_SIMILAR - Similarity: 87.88%\n"
     ]
    },
    {
     "name": "stderr",
     "output_type": "stream",
     "text": [
      "Analyzing Similarity:  59%|█████▊    | 6929/11826 [02:18<01:06, 73.63it/s]"
     ]
    },
    {
     "name": "stdout",
     "output_type": "stream",
     "text": [
      "Moved extracted_face_IMG_2767.JPEG_0.png to TOO_SIMILAR - Similarity: 86.48%\n",
      "Moved extracted_face_IMG_2768.JPEG_0.png to TOO_SIMILAR - Similarity: 83.87%\n",
      "Moved extracted_face_IMG_2771.JPEG_0.png to TOO_SIMILAR - Similarity: 86.44%\n",
      "Moved extracted_face_IMG_2771.JPEG_1.png to TOO_SIMILAR - Similarity: 83.47%\n",
      "Moved extracted_face_IMG_2772.PNG_2.png to TOO_SIMILAR - Similarity: 81.73%\n",
      "Moved extracted_face_IMG_2773.JPEG_0.png to TOO_SIMILAR - Similarity: 84.83%\n",
      "Moved extracted_face_IMG_2773.JPEG_1.png to TOO_SIMILAR - Similarity: 80.12%\n",
      "Moved extracted_face_IMG_2774.JPEG_0.png to TOO_SIMILAR - Similarity: 84.41%\n",
      "Moved extracted_face_IMG_2774.JPEG_1.png to TOO_SIMILAR - Similarity: 81.79%\n"
     ]
    },
    {
     "name": "stderr",
     "output_type": "stream",
     "text": [
      "Analyzing Similarity:  59%|█████▊    | 6947/11826 [02:18<01:02, 77.83it/s]"
     ]
    },
    {
     "name": "stdout",
     "output_type": "stream",
     "text": [
      "Moved extracted_face_IMG_2775.PNG_0.png to TOO_SIMILAR - Similarity: 84.49%\n",
      "Moved extracted_face_IMG_2775.PNG_1.png to TOO_SIMILAR - Similarity: 87.49%\n",
      "Moved extracted_face_IMG_2782.PNG_0.png to TOO_SIMILAR - Similarity: 82.44%\n",
      "Moved extracted_face_IMG_2782.PNG_2.png to TOO_SIMILAR - Similarity: 82.40%\n",
      "Moved extracted_face_IMG_2785.JPEG_0.png to TOO_SIMILAR - Similarity: 82.16%\n",
      "Moved extracted_face_IMG_2896.JPEG_1.png to TOO_SIMILAR - Similarity: 82.04%\n",
      "Moved extracted_face_IMG_2913.JPEG_3.png to TOO_SIMILAR - Similarity: 81.71%\n",
      "Moved extracted_face_IMG_2913.JPEG_5.png to TOO_SIMILAR - Similarity: 82.44%\n"
     ]
    },
    {
     "name": "stderr",
     "output_type": "stream",
     "text": [
      "Analyzing Similarity:  59%|█████▉    | 6964/11826 [02:18<01:02, 77.25it/s]"
     ]
    },
    {
     "name": "stdout",
     "output_type": "stream",
     "text": [
      "Moved extracted_face_IMG_2914.JPEG_3.png to TOO_SIMILAR - Similarity: 83.81%\n",
      "Moved extracted_face_IMG_2914.JPEG_5.png to TOO_SIMILAR - Similarity: 80.98%\n",
      "Moved extracted_face_IMG_2915.JPEG_3.png to TOO_SIMILAR - Similarity: 81.39%\n",
      "Moved extracted_face_IMG_2915.JPEG_5.png to TOO_SIMILAR - Similarity: 81.39%\n",
      "Moved extracted_face_IMG_2934.JPEG_0.png to TOO_SIMILAR - Similarity: 85.66%\n"
     ]
    },
    {
     "name": "stderr",
     "output_type": "stream",
     "text": [
      "Analyzing Similarity:  59%|█████▉    | 6982/11826 [02:19<01:00, 80.41it/s]"
     ]
    },
    {
     "name": "stdout",
     "output_type": "stream",
     "text": [
      "Moved extracted_face_IMG_2943.JPEG_2.png to TOO_SIMILAR - Similarity: 80.32%\n",
      "Moved extracted_face_IMG_2945.JPEG_0.png to TOO_SIMILAR - Similarity: 80.17%\n",
      "Moved extracted_face_IMG_2950.JPEG_0.png to TOO_SIMILAR - Similarity: 80.32%\n",
      "Moved extracted_face_IMG_2950.JPEG_1.png to TOO_SIMILAR - Similarity: 82.16%\n",
      "Moved extracted_face_IMG_2952.JPEG_1.png to TOO_SIMILAR - Similarity: 80.15%\n",
      "Moved extracted_face_IMG_2953.JPEG_0.png to TOO_SIMILAR - Similarity: 81.84%\n"
     ]
    },
    {
     "name": "stderr",
     "output_type": "stream",
     "text": [
      "Analyzing Similarity:  59%|█████▉    | 7000/11826 [02:19<00:59, 80.71it/s]"
     ]
    },
    {
     "name": "stdout",
     "output_type": "stream",
     "text": [
      "Moved extracted_face_IMG_2954.JPEG_0.png to TOO_SIMILAR - Similarity: 80.05%\n",
      "Moved extracted_face_IMG_2955.JPEG_0.png to TOO_SIMILAR - Similarity: 84.59%\n",
      "Moved extracted_face_IMG_2956.JPEG_0.png to TOO_SIMILAR - Similarity: 81.48%\n",
      "Moved extracted_face_IMG_2970.JPEG_1.png to TOO_SIMILAR - Similarity: 84.75%\n"
     ]
    },
    {
     "name": "stderr",
     "output_type": "stream",
     "text": [
      "Analyzing Similarity:  59%|█████▉    | 7018/11826 [02:19<01:01, 78.43it/s]"
     ]
    },
    {
     "name": "stdout",
     "output_type": "stream",
     "text": [
      "Moved extracted_face_IMG_2973.JPEG_1.png to TOO_SIMILAR - Similarity: 82.18%\n",
      "Moved extracted_face_IMG_2974.JPEG_1.png to TOO_SIMILAR - Similarity: 80.59%\n",
      "Moved extracted_face_IMG_2976.JPEG_2.png to TOO_SIMILAR - Similarity: 82.35%\n",
      "Moved extracted_face_IMG_2977.JPEG_1.png to TOO_SIMILAR - Similarity: 80.52%\n",
      "Moved extracted_face_IMG_2978.JPEG_0.png to TOO_SIMILAR - Similarity: 80.07%\n"
     ]
    },
    {
     "name": "stderr",
     "output_type": "stream",
     "text": [
      "Analyzing Similarity:  59%|█████▉    | 7034/11826 [02:19<01:01, 78.54it/s]"
     ]
    },
    {
     "name": "stdout",
     "output_type": "stream",
     "text": [
      "Moved extracted_face_IMG_2979.JPEG_1.png to TOO_SIMILAR - Similarity: 80.00%\n",
      "Moved extracted_face_IMG_2988.JPEG_2.png to TOO_SIMILAR - Similarity: 85.10%\n"
     ]
    },
    {
     "name": "stderr",
     "output_type": "stream",
     "text": [
      "Analyzing Similarity:  60%|█████▉    | 7062/11826 [02:20<00:55, 85.66it/s]"
     ]
    },
    {
     "name": "stdout",
     "output_type": "stream",
     "text": [
      "Moved extracted_face_IMG_2993.JPG_0.png to TOO_SIMILAR - Similarity: 80.74%\n",
      "Moved extracted_face_IMG_3003.JPEG_3.png to TOO_SIMILAR - Similarity: 83.88%\n"
     ]
    },
    {
     "name": "stderr",
     "output_type": "stream",
     "text": [
      "Analyzing Similarity:  60%|█████▉    | 7071/11826 [02:20<01:06, 71.07it/s]"
     ]
    },
    {
     "name": "stdout",
     "output_type": "stream",
     "text": [
      "Moved extracted_face_IMG_3022.JPEG_0.png to TOO_SIMILAR - Similarity: 83.21%\n",
      "Moved extracted_face_IMG_3023.JPEG_0.png to TOO_SIMILAR - Similarity: 82.99%\n",
      "Moved extracted_face_IMG_3025.JPEG_2.png to TOO_SIMILAR - Similarity: 84.21%\n"
     ]
    },
    {
     "name": "stderr",
     "output_type": "stream",
     "text": [
      "Analyzing Similarity:  60%|█████▉    | 7087/11826 [02:20<01:04, 73.92it/s]"
     ]
    },
    {
     "name": "stdout",
     "output_type": "stream",
     "text": [
      "Moved extracted_face_IMG_3029.JPEG_1.png to TOO_SIMILAR - Similarity: 87.20%\n",
      "Moved extracted_face_IMG_3030.JPEG_2.png to TOO_SIMILAR - Similarity: 87.52%\n",
      "Moved extracted_face_IMG_3031.JPEG_1.png to TOO_SIMILAR - Similarity: 87.89%\n",
      "Moved extracted_face_IMG_3032.PNG_0.png to TOO_SIMILAR - Similarity: 88.00%\n"
     ]
    },
    {
     "name": "stderr",
     "output_type": "stream",
     "text": [
      "Analyzing Similarity:  60%|██████    | 7105/11826 [02:20<01:00, 77.54it/s]"
     ]
    },
    {
     "name": "stdout",
     "output_type": "stream",
     "text": [
      "Moved extracted_face_IMG_3033.JPEG_1.png to TOO_SIMILAR - Similarity: 81.21%\n",
      "Moved extracted_face_IMG_3034.JPEG_1.png to TOO_SIMILAR - Similarity: 81.82%\n",
      "Moved extracted_face_IMG_3035.JPEG_1.png to TOO_SIMILAR - Similarity: 82.24%\n",
      "Moved extracted_face_IMG_3036.JPEG_1.png to TOO_SIMILAR - Similarity: 82.31%\n",
      "Moved extracted_face_IMG_3037.JPEG_0.png to TOO_SIMILAR - Similarity: 80.53%\n",
      "Moved extracted_face_IMG_3037.JPEG_1.png to TOO_SIMILAR - Similarity: 82.09%\n",
      "Moved extracted_face_IMG_3037.JPEG_5.png to TOO_SIMILAR - Similarity: 81.88%\n",
      "Moved extracted_face_IMG_3038.JPEG_0.png to TOO_SIMILAR - Similarity: 82.44%\n",
      "Moved extracted_face_IMG_3038.JPEG_1.png to TOO_SIMILAR - Similarity: 80.78%\n",
      "Moved extracted_face_IMG_3038.JPEG_4.png to TOO_SIMILAR - Similarity: 83.19%\n",
      "Moved extracted_face_IMG_3039.JPEG_0.png to TOO_SIMILAR - Similarity: 82.91%\n"
     ]
    },
    {
     "name": "stderr",
     "output_type": "stream",
     "text": [
      "Analyzing Similarity:  60%|██████    | 7129/11826 [02:21<01:00, 77.02it/s]"
     ]
    },
    {
     "name": "stdout",
     "output_type": "stream",
     "text": [
      "Moved extracted_face_IMG_3039.JPEG_6.png to TOO_SIMILAR - Similarity: 80.51%\n",
      "Moved extracted_face_IMG_3040.JPEG_0.png to TOO_SIMILAR - Similarity: 83.66%\n",
      "Moved extracted_face_IMG_3040.JPEG_1.png to TOO_SIMILAR - Similarity: 85.13%\n",
      "Moved extracted_face_IMG_3040.JPEG_2.png to TOO_SIMILAR - Similarity: 82.55%\n",
      "Moved extracted_face_IMG_3040.JPEG_4.png to TOO_SIMILAR - Similarity: 82.27%\n",
      "Moved extracted_face_IMG_3041.JPEG_0.png to TOO_SIMILAR - Similarity: 82.01%\n",
      "Moved extracted_face_IMG_3041.JPEG_1.png to TOO_SIMILAR - Similarity: 83.10%\n",
      "Moved extracted_face_IMG_3041.JPEG_5.png to TOO_SIMILAR - Similarity: 82.61%\n"
     ]
    },
    {
     "name": "stderr",
     "output_type": "stream",
     "text": [
      "Analyzing Similarity:  60%|██████    | 7145/11826 [02:21<01:03, 73.44it/s]"
     ]
    },
    {
     "name": "stdout",
     "output_type": "stream",
     "text": [
      "Moved extracted_face_IMG_3042.JPEG_1.png to TOO_SIMILAR - Similarity: 85.27%\n",
      "Moved extracted_face_IMG_3042.JPEG_3.png to TOO_SIMILAR - Similarity: 81.18%\n",
      "Moved extracted_face_IMG_3042.JPEG_4.png to TOO_SIMILAR - Similarity: 84.25%\n",
      "Moved extracted_face_IMG_3042.JPEG_5.png to TOO_SIMILAR - Similarity: 82.28%\n",
      "Moved extracted_face_IMG_3042.JPEG_6.png to TOO_SIMILAR - Similarity: 82.75%\n",
      "Moved extracted_face_IMG_3043.JPEG_0.png to TOO_SIMILAR - Similarity: 85.12%\n",
      "Moved extracted_face_IMG_3043.JPEG_1.png to TOO_SIMILAR - Similarity: 81.26%\n",
      "Moved extracted_face_IMG_3043.JPEG_2.png to TOO_SIMILAR - Similarity: 82.88%\n",
      "Moved extracted_face_IMG_3043.JPEG_4.png to TOO_SIMILAR - Similarity: 80.94%\n",
      "Moved extracted_face_IMG_3043.JPEG_5.png to TOO_SIMILAR - Similarity: 83.50%\n"
     ]
    },
    {
     "name": "stderr",
     "output_type": "stream",
     "text": [
      "Analyzing Similarity:  61%|██████    | 7161/11826 [02:21<01:02, 74.45it/s]"
     ]
    },
    {
     "name": "stdout",
     "output_type": "stream",
     "text": [
      "Moved extracted_face_IMG_3043.JPEG_7.png to TOO_SIMILAR - Similarity: 84.58%\n",
      "Moved extracted_face_IMG_3044.JPEG_0.png to TOO_SIMILAR - Similarity: 84.84%\n",
      "Moved extracted_face_IMG_3044.JPEG_1.png to TOO_SIMILAR - Similarity: 83.94%\n",
      "Moved extracted_face_IMG_3044.JPEG_2.png to TOO_SIMILAR - Similarity: 83.89%\n",
      "Moved extracted_face_IMG_3044.JPEG_4.png to TOO_SIMILAR - Similarity: 83.65%\n",
      "Moved extracted_face_IMG_3044.JPEG_5.png to TOO_SIMILAR - Similarity: 84.37%\n",
      "Moved extracted_face_IMG_3045.JPEG_1.png to TOO_SIMILAR - Similarity: 80.77%\n",
      "Moved extracted_face_IMG_3045.JPEG_10.png to TOO_SIMILAR - Similarity: 80.08%\n",
      "Moved extracted_face_IMG_3045.JPEG_2.png to TOO_SIMILAR - Similarity: 82.02%\n",
      "Moved extracted_face_IMG_3045.JPEG_4.png to TOO_SIMILAR - Similarity: 83.16%\n",
      "Moved extracted_face_IMG_3045.JPEG_6.png to TOO_SIMILAR - Similarity: 81.42%\n",
      "Moved extracted_face_IMG_3045.JPEG_7.png to TOO_SIMILAR - Similarity: 85.16%\n",
      "Moved extracted_face_IMG_3045.JPEG_8.png to TOO_SIMILAR - Similarity: 81.84%\n"
     ]
    },
    {
     "name": "stderr",
     "output_type": "stream",
     "text": [
      "Analyzing Similarity:  61%|██████    | 7186/11826 [02:21<01:00, 76.43it/s]"
     ]
    },
    {
     "name": "stdout",
     "output_type": "stream",
     "text": [
      "Moved extracted_face_IMG_3047.JPEG_0.png to TOO_SIMILAR - Similarity: 81.87%\n",
      "Moved extracted_face_IMG_3050.JPEG_2.png to TOO_SIMILAR - Similarity: 82.57%\n",
      "Moved extracted_face_IMG_3051.JPEG_1.png to TOO_SIMILAR - Similarity: 83.16%\n",
      "Moved extracted_face_IMG_3052.JPEG_1.png to TOO_SIMILAR - Similarity: 83.60%\n",
      "Moved extracted_face_IMG_3052.JPEG_2.png to TOO_SIMILAR - Similarity: 81.28%\n",
      "Moved extracted_face_IMG_3052.JPEG_3.png to TOO_SIMILAR - Similarity: 81.34%\n",
      "Moved extracted_face_IMG_3052.JPEG_5.png to TOO_SIMILAR - Similarity: 81.55%\n"
     ]
    },
    {
     "name": "stderr",
     "output_type": "stream",
     "text": [
      "Analyzing Similarity:  61%|██████    | 7202/11826 [02:22<01:00, 76.53it/s]"
     ]
    },
    {
     "name": "stdout",
     "output_type": "stream",
     "text": [
      "Moved extracted_face_IMG_3053.JPEG_1.png to TOO_SIMILAR - Similarity: 81.30%\n",
      "Moved extracted_face_IMG_3053.JPEG_3.png to TOO_SIMILAR - Similarity: 81.09%\n",
      "Moved extracted_face_IMG_3053.JPEG_4.png to TOO_SIMILAR - Similarity: 83.86%\n",
      "Moved extracted_face_IMG_3053.JPEG_5.png to TOO_SIMILAR - Similarity: 81.37%\n",
      "Moved extracted_face_IMG_3054.JPEG_1.png to TOO_SIMILAR - Similarity: 80.23%\n",
      "Moved extracted_face_IMG_3054.JPEG_5.png to TOO_SIMILAR - Similarity: 80.03%\n",
      "Moved extracted_face_IMG_3054.JPEG_6.png to TOO_SIMILAR - Similarity: 81.01%\n",
      "Moved extracted_face_IMG_3055.JPEG_1.png to TOO_SIMILAR - Similarity: 80.26%\n"
     ]
    },
    {
     "name": "stderr",
     "output_type": "stream",
     "text": [
      "Analyzing Similarity:  61%|██████    | 7210/11826 [02:22<01:01, 74.78it/s]"
     ]
    },
    {
     "name": "stdout",
     "output_type": "stream",
     "text": [
      "Moved extracted_face_IMG_3056.JPEG_0.png to TOO_SIMILAR - Similarity: 80.56%\n",
      "Moved extracted_face_IMG_3057.JPEG_0.png to TOO_SIMILAR - Similarity: 84.13%\n",
      "Moved extracted_face_IMG_3057.JPEG_2.png to TOO_SIMILAR - Similarity: 80.85%\n"
     ]
    },
    {
     "name": "stderr",
     "output_type": "stream",
     "text": [
      "Analyzing Similarity:  61%|██████    | 7225/11826 [02:22<01:13, 63.01it/s]"
     ]
    },
    {
     "name": "stdout",
     "output_type": "stream",
     "text": [
      "Moved extracted_face_IMG_3058.JPEG_0.png to TOO_SIMILAR - Similarity: 84.76%\n",
      "Moved extracted_face_IMG_3058.JPEG_5.png to TOO_SIMILAR - Similarity: 82.01%\n",
      "Moved extracted_face_IMG_3062.JPEG_0.png to TOO_SIMILAR - Similarity: 82.57%\n",
      "Moved extracted_face_IMG_3063.JPEG_0.png to TOO_SIMILAR - Similarity: 85.16%\n"
     ]
    },
    {
     "name": "stderr",
     "output_type": "stream",
     "text": [
      "Analyzing Similarity:  61%|██████    | 7239/11826 [02:22<01:10, 64.68it/s]"
     ]
    },
    {
     "name": "stdout",
     "output_type": "stream",
     "text": [
      "Moved extracted_face_IMG_3074.JPEG_0.png to TOO_SIMILAR - Similarity: 80.87%\n",
      "Moved extracted_face_IMG_3075.JPEG_0.png to TOO_SIMILAR - Similarity: 80.94%\n",
      "Moved extracted_face_IMG_3076.JPEG_0.png to TOO_SIMILAR - Similarity: 80.64%\n",
      "Moved extracted_face_IMG_3078.JPEG_0.png to TOO_SIMILAR - Similarity: 80.91%\n",
      "Moved extracted_face_IMG_3093.JPEG_1.png to TOO_SIMILAR - Similarity: 92.24%\n",
      "Moved extracted_face_IMG_3094.PNG_2.png to TOO_SIMILAR - Similarity: 88.73%\n",
      "Moved extracted_face_IMG_3094.PNG_3.png to TOO_SIMILAR - Similarity: 83.97%\n",
      "Moved extracted_face_IMG_3094.PNG_6.png to TOO_SIMILAR - Similarity: 80.11%\n",
      "Moved extracted_face_IMG_3100.JPEG_1.png to TOO_SIMILAR - Similarity: 81.71%\n",
      "Moved extracted_face_IMG_3104.JPEG_0.png to TOO_SIMILAR - Similarity: 84.71%\n",
      "Moved extracted_face_IMG_3104.JPEG_2.png to TOO_SIMILAR - Similarity: 83.13%\n",
      "Moved extracted_face_IMG_3104.JPEG_3.png to TOO_SIMILAR - Similarity: 82.09%\n"
     ]
    },
    {
     "name": "stderr",
     "output_type": "stream",
     "text": [
      "Analyzing Similarity:  61%|██████▏   | 7265/11826 [02:22<00:59, 77.20it/s]"
     ]
    },
    {
     "name": "stdout",
     "output_type": "stream",
     "text": [
      "Moved extracted_face_IMG_3125.JPEG_1.png to TOO_SIMILAR - Similarity: 86.01%\n",
      "Moved extracted_face_IMG_3136.JPEG_0.png to TOO_SIMILAR - Similarity: 80.16%\n",
      "Moved extracted_face_IMG_3137.JPEG_0.png to TOO_SIMILAR - Similarity: 81.61%\n",
      "Moved extracted_face_IMG_3137.PNG_4.png to TOO_SIMILAR - Similarity: 82.90%\n",
      "Moved extracted_face_IMG_3137.PNG_8.png to TOO_SIMILAR - Similarity: 80.71%\n"
     ]
    },
    {
     "name": "stderr",
     "output_type": "stream",
     "text": [
      "Analyzing Similarity:  62%|██████▏   | 7283/11826 [02:23<00:55, 81.41it/s]"
     ]
    },
    {
     "name": "stdout",
     "output_type": "stream",
     "text": [
      "Moved extracted_face_IMG_3138.JPEG_1.png to TOO_SIMILAR - Similarity: 81.37%\n",
      "Moved extracted_face_IMG_3162.JPEG_1.png to TOO_SIMILAR - Similarity: 83.54%\n",
      "Moved extracted_face_IMG_3164.JPEG_0.png to TOO_SIMILAR - Similarity: 81.89%\n",
      "Moved extracted_face_IMG_3169.JPEG_1.png to TOO_SIMILAR - Similarity: 87.40%\n",
      "Moved extracted_face_IMG_3169.JPEG_2.png to TOO_SIMILAR - Similarity: 87.50%\n",
      "Moved extracted_face_IMG_3169.JPEG_4.png to TOO_SIMILAR - Similarity: 86.20%\n",
      "Moved extracted_face_IMG_3177.JPEG_1.png to TOO_SIMILAR - Similarity: 80.34%\n",
      "Moved extracted_face_IMG_3180.PNG_1.png to TOO_SIMILAR - Similarity: 80.57%\n",
      "Moved extracted_face_IMG_3192.JPG_0.png to TOO_SIMILAR - Similarity: 80.29%\n",
      "Moved extracted_face_IMG_3195.JPEG_0.png to TOO_SIMILAR - Similarity: 82.12%\n"
     ]
    },
    {
     "name": "stderr",
     "output_type": "stream",
     "text": [
      "Analyzing Similarity:  62%|██████▏   | 7301/11826 [02:23<00:57, 78.36it/s]"
     ]
    },
    {
     "name": "stdout",
     "output_type": "stream",
     "text": [
      "Moved extracted_face_IMG_3195.JPEG_1.png to TOO_SIMILAR - Similarity: 80.46%\n",
      "Moved extracted_face_IMG_3195.JPEG_2.png to TOO_SIMILAR - Similarity: 86.14%\n",
      "Moved extracted_face_IMG_3195.JPEG_4.png to TOO_SIMILAR - Similarity: 82.11%\n",
      "Moved extracted_face_IMG_3195.JPEG_5.png to TOO_SIMILAR - Similarity: 81.03%\n",
      "Moved extracted_face_IMG_3196.JPEG_1.png to TOO_SIMILAR - Similarity: 86.63%\n",
      "Moved extracted_face_IMG_3196.JPEG_3.png to TOO_SIMILAR - Similarity: 82.56%\n",
      "Moved extracted_face_IMG_3196.JPEG_4.png to TOO_SIMILAR - Similarity: 81.77%\n",
      "Moved extracted_face_IMG_3196.JPEG_6.png to TOO_SIMILAR - Similarity: 83.46%\n",
      "Moved extracted_face_IMG_3198.JPEG_1.png to TOO_SIMILAR - Similarity: 85.71%\n",
      "Moved extracted_face_IMG_3198.JPEG_4.png to TOO_SIMILAR - Similarity: 82.34%\n"
     ]
    },
    {
     "name": "stderr",
     "output_type": "stream",
     "text": [
      "Analyzing Similarity:  62%|██████▏   | 7319/11826 [02:23<00:56, 79.45it/s]"
     ]
    },
    {
     "name": "stdout",
     "output_type": "stream",
     "text": [
      "Moved extracted_face_IMG_3199.JPEG_0.png to TOO_SIMILAR - Similarity: 86.70%\n",
      "Moved extracted_face_IMG_3199.JPEG_2.png to TOO_SIMILAR - Similarity: 82.69%\n",
      "Moved extracted_face_IMG_3215.PNG_0.png to TOO_SIMILAR - Similarity: 87.33%\n",
      "Moved extracted_face_IMG_3216.PNG_0.png to TOO_SIMILAR - Similarity: 85.90%\n",
      "Moved extracted_face_IMG_3225.JPEG_2.png to TOO_SIMILAR - Similarity: 80.50%\n",
      "Moved extracted_face_IMG_3226.JPEG_2.png to TOO_SIMILAR - Similarity: 80.71%\n",
      "Moved extracted_face_IMG_3227.JPEG_2.png to TOO_SIMILAR - Similarity: 81.05%\n",
      "Moved extracted_face_IMG_3233.JPEG_1.png to TOO_SIMILAR - Similarity: 82.54%\n",
      "Moved extracted_face_IMG_3233.JPEG_10.png to TOO_SIMILAR - Similarity: 82.22%\n",
      "Moved extracted_face_IMG_3233.JPEG_4.png to TOO_SIMILAR - Similarity: 83.72%\n"
     ]
    },
    {
     "name": "stderr",
     "output_type": "stream",
     "text": [
      "Analyzing Similarity:  62%|██████▏   | 7337/11826 [02:23<00:57, 77.87it/s]"
     ]
    },
    {
     "name": "stdout",
     "output_type": "stream",
     "text": [
      "Moved extracted_face_IMG_3233.JPEG_8.png to TOO_SIMILAR - Similarity: 84.52%\n",
      "Moved extracted_face_IMG_3238.JPEG_1.png to TOO_SIMILAR - Similarity: 81.61%\n",
      "Moved extracted_face_IMG_3246.JPEG_2.png to TOO_SIMILAR - Similarity: 80.62%\n",
      "Moved extracted_face_IMG_3247.JPG_0.png to TOO_SIMILAR - Similarity: 81.30%\n",
      "Moved extracted_face_IMG_3248.JPEG_0.png to TOO_SIMILAR - Similarity: 81.92%\n",
      "Moved extracted_face_IMG_3260.JPG_0.png to TOO_SIMILAR - Similarity: 83.89%\n",
      "Moved extracted_face_IMG_3262.JPEG_0.png to TOO_SIMILAR - Similarity: 84.62%\n"
     ]
    },
    {
     "name": "stderr",
     "output_type": "stream",
     "text": [
      "Analyzing Similarity:  62%|██████▏   | 7353/11826 [02:24<01:00, 73.40it/s]"
     ]
    },
    {
     "name": "stdout",
     "output_type": "stream",
     "text": [
      "Moved extracted_face_IMG_3263.JPG_1.png to TOO_SIMILAR - Similarity: 80.37%\n",
      "Moved extracted_face_IMG_3267.JPG_0.png to TOO_SIMILAR - Similarity: 80.76%\n",
      "Moved extracted_face_IMG_3271.JPG_0.png to TOO_SIMILAR - Similarity: 81.86%\n",
      "Moved extracted_face_IMG_3276.JPG_1.png to TOO_SIMILAR - Similarity: 87.00%\n"
     ]
    },
    {
     "name": "stderr",
     "output_type": "stream",
     "text": [
      "Analyzing Similarity:  62%|██████▏   | 7369/11826 [02:24<00:59, 74.29it/s]"
     ]
    },
    {
     "name": "stdout",
     "output_type": "stream",
     "text": [
      "Moved extracted_face_IMG_3284.JPG_0.png to TOO_SIMILAR - Similarity: 85.05%\n",
      "Moved extracted_face_IMG_3285.JPG_0.png to TOO_SIMILAR - Similarity: 83.88%\n",
      "Moved extracted_face_IMG_3285.JPG_5.png to TOO_SIMILAR - Similarity: 81.33%\n",
      "Moved extracted_face_IMG_3287.JPG_0.png to TOO_SIMILAR - Similarity: 80.16%\n"
     ]
    },
    {
     "name": "stderr",
     "output_type": "stream",
     "text": [
      "Analyzing Similarity:  62%|██████▏   | 7386/11826 [02:24<01:04, 69.13it/s]"
     ]
    },
    {
     "name": "stdout",
     "output_type": "stream",
     "text": [
      "Moved extracted_face_IMG_3339.JPEG_2.png to TOO_SIMILAR - Similarity: 87.28%\n",
      "Moved extracted_face_IMG_3351.JPEG_5.png to TOO_SIMILAR - Similarity: 82.76%\n"
     ]
    },
    {
     "name": "stderr",
     "output_type": "stream",
     "text": [
      "Analyzing Similarity:  63%|██████▎   | 7402/11826 [02:24<01:05, 67.68it/s]"
     ]
    },
    {
     "name": "stdout",
     "output_type": "stream",
     "text": [
      "Moved extracted_face_IMG_3351.JPEG_6.png to TOO_SIMILAR - Similarity: 87.06%\n",
      "Moved extracted_face_IMG_3351.JPEG_9.png to TOO_SIMILAR - Similarity: 84.88%\n",
      "Moved extracted_face_IMG_3352.JPEG_0.png to TOO_SIMILAR - Similarity: 83.21%\n",
      "Moved extracted_face_IMG_3352.JPEG_2.png to TOO_SIMILAR - Similarity: 81.73%\n",
      "Moved extracted_face_IMG_3352.JPEG_7.png to TOO_SIMILAR - Similarity: 81.51%\n"
     ]
    },
    {
     "name": "stderr",
     "output_type": "stream",
     "text": [
      "Analyzing Similarity:  63%|██████▎   | 7418/11826 [02:25<01:01, 72.18it/s]"
     ]
    },
    {
     "name": "stdout",
     "output_type": "stream",
     "text": [
      "Moved extracted_face_IMG_3353.JPEG_12.png to TOO_SIMILAR - Similarity: 84.19%\n",
      "Moved extracted_face_IMG_3353.JPEG_17.png to TOO_SIMILAR - Similarity: 82.74%\n",
      "Moved extracted_face_IMG_3353.JPEG_24.png to TOO_SIMILAR - Similarity: 80.13%\n"
     ]
    },
    {
     "name": "stderr",
     "output_type": "stream",
     "text": [
      "Analyzing Similarity:  63%|██████▎   | 7435/11826 [02:25<00:58, 75.52it/s]"
     ]
    },
    {
     "name": "stdout",
     "output_type": "stream",
     "text": [
      "Moved extracted_face_IMG_3353.JPEG_9.png to TOO_SIMILAR - Similarity: 81.10%\n",
      "Moved extracted_face_IMG_3354.JPEG_1.png to TOO_SIMILAR - Similarity: 85.45%\n",
      "Moved extracted_face_IMG_3354.JPG_0.png to TOO_SIMILAR - Similarity: 84.04%\n",
      "Moved extracted_face_IMG_3359.JPEG_2.png to TOO_SIMILAR - Similarity: 80.81%\n",
      "Moved extracted_face_IMG_3359.JPEG_4.png to TOO_SIMILAR - Similarity: 83.57%\n",
      "Moved extracted_face_IMG_3359.JPEG_5.png to TOO_SIMILAR - Similarity: 81.41%\n"
     ]
    },
    {
     "name": "stderr",
     "output_type": "stream",
     "text": [
      "Analyzing Similarity:  63%|██████▎   | 7452/11826 [02:25<00:58, 75.23it/s]"
     ]
    },
    {
     "name": "stdout",
     "output_type": "stream",
     "text": [
      "Moved extracted_face_IMG_3359.JPG_0.png to TOO_SIMILAR - Similarity: 81.99%\n",
      "Moved extracted_face_IMG_3360.JPEG_2.png to TOO_SIMILAR - Similarity: 82.95%\n",
      "Moved extracted_face_IMG_3360.JPEG_4.png to TOO_SIMILAR - Similarity: 80.12%\n",
      "Moved extracted_face_IMG_3360.JPEG_5.png to TOO_SIMILAR - Similarity: 82.80%\n",
      "Moved extracted_face_IMG_3362.JPEG_0.png to TOO_SIMILAR - Similarity: 81.32%\n",
      "Moved extracted_face_IMG_3362.JPEG_1.png to TOO_SIMILAR - Similarity: 81.47%\n",
      "Moved extracted_face_IMG_3362.JPEG_3.png to TOO_SIMILAR - Similarity: 80.65%\n",
      "Moved extracted_face_IMG_3362.JPEG_4.png to TOO_SIMILAR - Similarity: 83.30%\n",
      "Moved extracted_face_IMG_3362.JPEG_5.png to TOO_SIMILAR - Similarity: 82.11%\n",
      "Moved extracted_face_IMG_3363.JPEG_0.png to TOO_SIMILAR - Similarity: 82.30%\n",
      "Moved extracted_face_IMG_3364.JPEG_1.png to TOO_SIMILAR - Similarity: 82.36%\n"
     ]
    },
    {
     "name": "stderr",
     "output_type": "stream",
     "text": [
      "Analyzing Similarity:  63%|██████▎   | 7469/11826 [02:25<00:57, 76.14it/s]"
     ]
    },
    {
     "name": "stdout",
     "output_type": "stream",
     "text": [
      "Moved extracted_face_IMG_3364.JPEG_2.png to TOO_SIMILAR - Similarity: 82.94%\n",
      "Moved extracted_face_IMG_3364.JPEG_3.png to TOO_SIMILAR - Similarity: 84.69%\n",
      "Moved extracted_face_IMG_3365.JPEG_1.png to TOO_SIMILAR - Similarity: 82.65%\n",
      "Moved extracted_face_IMG_3365.JPEG_3.png to TOO_SIMILAR - Similarity: 84.30%\n",
      "Moved extracted_face_IMG_3366.JPEG_0.png to TOO_SIMILAR - Similarity: 80.24%\n"
     ]
    },
    {
     "name": "stderr",
     "output_type": "stream",
     "text": [
      "Analyzing Similarity:  63%|██████▎   | 7487/11826 [02:25<00:54, 79.64it/s]"
     ]
    },
    {
     "name": "stdout",
     "output_type": "stream",
     "text": [
      "Moved extracted_face_IMG_3366.JPEG_3.png to TOO_SIMILAR - Similarity: 80.12%\n",
      "Moved extracted_face_IMG_3366.JPEG_4.png to TOO_SIMILAR - Similarity: 82.07%\n",
      "Moved extracted_face_IMG_3366.JPEG_8.png to TOO_SIMILAR - Similarity: 83.32%\n",
      "Moved extracted_face_IMG_3366.JPEG_9.png to TOO_SIMILAR - Similarity: 83.27%\n",
      "Moved extracted_face_IMG_3367.JPEG_3.png to TOO_SIMILAR - Similarity: 80.98%\n",
      "Moved extracted_face_IMG_3367.JPEG_5.png to TOO_SIMILAR - Similarity: 81.50%\n",
      "Moved extracted_face_IMG_3371.JPEG_0.png to TOO_SIMILAR - Similarity: 81.16%\n"
     ]
    },
    {
     "name": "stderr",
     "output_type": "stream",
     "text": [
      "Analyzing Similarity:  63%|██████▎   | 7506/11826 [02:26<00:51, 83.12it/s]"
     ]
    },
    {
     "name": "stdout",
     "output_type": "stream",
     "text": [
      "Moved extracted_face_IMG_3373.JPEG_0.png to TOO_SIMILAR - Similarity: 81.17%\n",
      "Moved extracted_face_IMG_3374.JPEG_11.png to TOO_SIMILAR - Similarity: 85.44%\n",
      "Moved extracted_face_IMG_3374.JPEG_12.png to TOO_SIMILAR - Similarity: 81.36%\n",
      "Moved extracted_face_IMG_3374.JPEG_3.png to TOO_SIMILAR - Similarity: 85.27%\n",
      "Moved extracted_face_IMG_3374.JPEG_7.png to TOO_SIMILAR - Similarity: 83.34%\n",
      "Moved extracted_face_IMG_3374.JPEG_8.png to TOO_SIMILAR - Similarity: 83.73%\n"
     ]
    },
    {
     "name": "stderr",
     "output_type": "stream",
     "text": [
      "Analyzing Similarity:  64%|██████▎   | 7524/11826 [02:26<00:54, 79.40it/s]"
     ]
    },
    {
     "name": "stdout",
     "output_type": "stream",
     "text": [
      "Moved extracted_face_IMG_3375.JPEG_10.png to TOO_SIMILAR - Similarity: 83.24%\n",
      "Moved extracted_face_IMG_3375.JPEG_15.png to TOO_SIMILAR - Similarity: 87.72%\n",
      "Moved extracted_face_IMG_3375.JPEG_16.png to TOO_SIMILAR - Similarity: 82.33%\n",
      "Moved extracted_face_IMG_3375.JPEG_5.png to TOO_SIMILAR - Similarity: 87.03%\n",
      "Moved extracted_face_IMG_3375.JPEG_9.png to TOO_SIMILAR - Similarity: 82.02%\n"
     ]
    },
    {
     "name": "stderr",
     "output_type": "stream",
     "text": [
      "Analyzing Similarity:  64%|██████▍   | 7540/11826 [02:26<01:05, 65.42it/s]"
     ]
    },
    {
     "name": "stdout",
     "output_type": "stream",
     "text": [
      "Moved extracted_face_IMG_3388.JPEG_0.png to TOO_SIMILAR - Similarity: 81.67%\n",
      "Moved extracted_face_IMG_3399.JPG_0.png to TOO_SIMILAR - Similarity: 80.36%\n",
      "Moved extracted_face_IMG_3404.JPEG_0.png to TOO_SIMILAR - Similarity: 82.56%\n",
      "Moved extracted_face_IMG_3404.JPEG_1.png to TOO_SIMILAR - Similarity: 82.86%\n",
      "Moved extracted_face_IMG_3404.JPEG_3.png to TOO_SIMILAR - Similarity: 85.73%\n",
      "Moved extracted_face_IMG_3405.JPEG_0.png to TOO_SIMILAR - Similarity: 81.52%\n",
      "Moved extracted_face_IMG_3406.JPEG_1.png to TOO_SIMILAR - Similarity: 80.63%\n"
     ]
    },
    {
     "name": "stderr",
     "output_type": "stream",
     "text": [
      "Analyzing Similarity:  64%|██████▍   | 7555/11826 [02:26<01:02, 67.86it/s]"
     ]
    },
    {
     "name": "stdout",
     "output_type": "stream",
     "text": [
      "Moved extracted_face_IMG_3407.JPEG_1.png to TOO_SIMILAR - Similarity: 84.35%\n",
      "Moved extracted_face_IMG_3411.JPEG_0.png to TOO_SIMILAR - Similarity: 86.56%\n",
      "Moved extracted_face_IMG_3415.JPEG_0.png to TOO_SIMILAR - Similarity: 85.10%\n",
      "Moved extracted_face_IMG_3431.JPEG_0.png to TOO_SIMILAR - Similarity: 81.00%\n"
     ]
    },
    {
     "name": "stderr",
     "output_type": "stream",
     "text": [
      "Analyzing Similarity:  64%|██████▍   | 7582/11826 [02:27<00:54, 78.24it/s]"
     ]
    },
    {
     "name": "stdout",
     "output_type": "stream",
     "text": [
      "Moved extracted_face_IMG_3438.JPEG_0.png to TOO_SIMILAR - Similarity: 80.66%\n",
      "Moved extracted_face_IMG_3439.JPEG_0.png to TOO_SIMILAR - Similarity: 80.39%\n",
      "Moved extracted_face_IMG_3484.JPEG_0.png to TOO_SIMILAR - Similarity: 82.64%\n",
      "Moved extracted_face_IMG_3490.JPEG_0.png to TOO_SIMILAR - Similarity: 81.67%\n",
      "Moved extracted_face_IMG_3491.JPEG_0.png to TOO_SIMILAR - Similarity: 82.36%\n",
      "Moved extracted_face_IMG_3497.JPEG_0.png to TOO_SIMILAR - Similarity: 80.14%\n",
      "Moved extracted_face_IMG_3507.JPEG_1.png to TOO_SIMILAR - Similarity: 88.03%\n",
      "Moved extracted_face_IMG_3508.JPEG_0.png to TOO_SIMILAR - Similarity: 80.60%\n",
      "Moved extracted_face_IMG_3508.JPEG_1.png to TOO_SIMILAR - Similarity: 88.33%\n"
     ]
    },
    {
     "name": "stderr",
     "output_type": "stream",
     "text": [
      "Analyzing Similarity:  64%|██████▍   | 7607/11826 [02:27<00:54, 77.85it/s]"
     ]
    },
    {
     "name": "stdout",
     "output_type": "stream",
     "text": [
      "Moved extracted_face_IMG_3519.JPEG_1.png to TOO_SIMILAR - Similarity: 84.58%\n",
      "Moved extracted_face_IMG_3540.JPEG_1.png to TOO_SIMILAR - Similarity: 82.99%\n",
      "Moved extracted_face_IMG_3575.JPEG_0.png to TOO_SIMILAR - Similarity: 82.84%\n",
      "Moved extracted_face_IMG_3575.JPEG_2.png to TOO_SIMILAR - Similarity: 80.09%\n"
     ]
    },
    {
     "name": "stderr",
     "output_type": "stream",
     "text": [
      "Analyzing Similarity:  64%|██████▍   | 7623/11826 [02:27<00:53, 78.60it/s]"
     ]
    },
    {
     "name": "stdout",
     "output_type": "stream",
     "text": [
      "Moved extracted_face_IMG_3575.JPEG_3.png to TOO_SIMILAR - Similarity: 84.52%\n",
      "Moved extracted_face_IMG_3590.JPEG_1.png to TOO_SIMILAR - Similarity: 80.05%\n",
      "Moved extracted_face_IMG_3591.JPEG_3.png to TOO_SIMILAR - Similarity: 82.13%\n"
     ]
    },
    {
     "name": "stderr",
     "output_type": "stream",
     "text": [
      "Analyzing Similarity:  65%|██████▍   | 7640/11826 [02:27<00:52, 80.13it/s]"
     ]
    },
    {
     "name": "stdout",
     "output_type": "stream",
     "text": [
      "Moved extracted_face_IMG_3626.JPEG_1.png to TOO_SIMILAR - Similarity: 84.51%\n",
      "Moved extracted_face_IMG_3659.JPG_0.png to TOO_SIMILAR - Similarity: 84.22%\n",
      "Moved extracted_face_IMG_3662.JPG_0.png to TOO_SIMILAR - Similarity: 80.45%\n"
     ]
    },
    {
     "name": "stderr",
     "output_type": "stream",
     "text": [
      "Analyzing Similarity:  65%|██████▍   | 7667/11826 [02:28<00:48, 85.49it/s]"
     ]
    },
    {
     "name": "stdout",
     "output_type": "stream",
     "text": [
      "Moved extracted_face_IMG_3674.JPG_1.png to TOO_SIMILAR - Similarity: 81.77%\n",
      "Moved extracted_face_IMG_3675.JPG_0.png to TOO_SIMILAR - Similarity: 80.52%\n",
      "Moved extracted_face_IMG_3679.JPG_0.png to TOO_SIMILAR - Similarity: 80.47%\n",
      "Moved extracted_face_IMG_3685.JPG_3.png to TOO_SIMILAR - Similarity: 81.90%\n",
      "Moved extracted_face_IMG_3690.JPEG_0.png to TOO_SIMILAR - Similarity: 80.88%\n",
      "Moved extracted_face_IMG_3694.JPEG_1.png to TOO_SIMILAR - Similarity: 86.20%\n",
      "Moved extracted_face_IMG_3694.JPEG_2.png to TOO_SIMILAR - Similarity: 82.04%\n",
      "Moved extracted_face_IMG_3695.JPEG_0.png to TOO_SIMILAR - Similarity: 81.62%\n"
     ]
    },
    {
     "name": "stderr",
     "output_type": "stream",
     "text": [
      "Analyzing Similarity:  65%|██████▍   | 7685/11826 [02:28<00:49, 84.03it/s]"
     ]
    },
    {
     "name": "stdout",
     "output_type": "stream",
     "text": [
      "Moved extracted_face_IMG_3695.JPEG_2.png to TOO_SIMILAR - Similarity: 82.53%\n",
      "Moved extracted_face_IMG_3696.JPEG_0.png to TOO_SIMILAR - Similarity: 80.13%\n",
      "Moved extracted_face_IMG_3704.JPEG_1.png to TOO_SIMILAR - Similarity: 83.09%\n",
      "Moved extracted_face_IMG_3736.JPG_0.png to TOO_SIMILAR - Similarity: 88.35%\n",
      "Moved extracted_face_IMG_3736.JPG_3.png to TOO_SIMILAR - Similarity: 80.19%\n",
      "Moved extracted_face_IMG_3738.JPG_0.png to TOO_SIMILAR - Similarity: 84.13%\n",
      "Moved extracted_face_IMG_3738.JPG_1.png to TOO_SIMILAR - Similarity: 80.47%\n",
      "Moved extracted_face_IMG_3740.JPG_0.png to TOO_SIMILAR - Similarity: 82.39%\n"
     ]
    },
    {
     "name": "stderr",
     "output_type": "stream",
     "text": [
      "Analyzing Similarity:  65%|██████▌   | 7703/11826 [02:28<00:49, 83.25it/s]"
     ]
    },
    {
     "name": "stdout",
     "output_type": "stream",
     "text": [
      "Moved extracted_face_IMG_3742.JPG_0.png to TOO_SIMILAR - Similarity: 81.82%\n",
      "Moved extracted_face_IMG_3742.JPG_4.png to TOO_SIMILAR - Similarity: 80.49%\n",
      "Moved extracted_face_IMG_3755.JPG_1.png to TOO_SIMILAR - Similarity: 84.11%\n",
      "Moved extracted_face_IMG_3755.JPG_2.png to TOO_SIMILAR - Similarity: 81.77%\n",
      "Moved extracted_face_IMG_3756.JPG_2.png to TOO_SIMILAR - Similarity: 81.41%\n"
     ]
    },
    {
     "name": "stderr",
     "output_type": "stream",
     "text": [
      "Analyzing Similarity:  65%|██████▌   | 7730/11826 [02:28<00:49, 83.23it/s]"
     ]
    },
    {
     "name": "stdout",
     "output_type": "stream",
     "text": [
      "Moved extracted_face_IMG_3759.JPG_0.png to TOO_SIMILAR - Similarity: 83.51%\n",
      "Moved extracted_face_IMG_3770.JPG_0.png to TOO_SIMILAR - Similarity: 85.02%\n",
      "Moved extracted_face_IMG_3771.JPG_2.png to TOO_SIMILAR - Similarity: 80.93%\n",
      "Moved extracted_face_IMG_3773.JPEG_0.png to TOO_SIMILAR - Similarity: 84.59%\n",
      "Moved extracted_face_IMG_3773.JPEG_1.png to TOO_SIMILAR - Similarity: 85.33%\n",
      "Moved extracted_face_IMG_3773.JPEG_10.png to TOO_SIMILAR - Similarity: 83.92%\n",
      "Moved extracted_face_IMG_3773.JPEG_11.png to TOO_SIMILAR - Similarity: 85.03%\n",
      "Moved extracted_face_IMG_3773.JPEG_12.png to TOO_SIMILAR - Similarity: 82.43%\n",
      "Moved extracted_face_IMG_3773.JPEG_15.png to TOO_SIMILAR - Similarity: 82.34%\n"
     ]
    },
    {
     "name": "stderr",
     "output_type": "stream",
     "text": [
      "Analyzing Similarity:  66%|██████▌   | 7749/11826 [02:29<00:46, 87.50it/s]"
     ]
    },
    {
     "name": "stdout",
     "output_type": "stream",
     "text": [
      "Moved extracted_face_IMG_3773.JPEG_21.png to TOO_SIMILAR - Similarity: 81.63%\n",
      "Moved extracted_face_IMG_3773.JPEG_24.png to TOO_SIMILAR - Similarity: 85.15%\n",
      "Moved extracted_face_IMG_3773.JPEG_25.png to TOO_SIMILAR - Similarity: 85.78%\n",
      "Moved extracted_face_IMG_3773.JPEG_28.png to TOO_SIMILAR - Similarity: 82.81%\n",
      "Moved extracted_face_IMG_3773.JPEG_29.png to TOO_SIMILAR - Similarity: 84.68%\n",
      "Moved extracted_face_IMG_3773.JPEG_3.png to TOO_SIMILAR - Similarity: 80.90%\n",
      "Moved extracted_face_IMG_3773.JPEG_31.png to TOO_SIMILAR - Similarity: 80.05%\n",
      "Moved extracted_face_IMG_3773.JPEG_32.png to TOO_SIMILAR - Similarity: 82.09%\n",
      "Moved extracted_face_IMG_3773.JPEG_33.png to TOO_SIMILAR - Similarity: 84.03%\n"
     ]
    },
    {
     "name": "stderr",
     "output_type": "stream",
     "text": [
      "Analyzing Similarity:  66%|██████▌   | 7767/11826 [02:29<00:48, 83.16it/s]"
     ]
    },
    {
     "name": "stdout",
     "output_type": "stream",
     "text": [
      "Moved extracted_face_IMG_3773.JPEG_37.png to TOO_SIMILAR - Similarity: 80.63%\n",
      "Moved extracted_face_IMG_3773.JPEG_39.png to TOO_SIMILAR - Similarity: 82.31%\n",
      "Moved extracted_face_IMG_3773.JPEG_4.png to TOO_SIMILAR - Similarity: 82.28%\n",
      "Moved extracted_face_IMG_3773.JPEG_5.png to TOO_SIMILAR - Similarity: 85.02%\n",
      "Moved extracted_face_IMG_3773.JPEG_8.png to TOO_SIMILAR - Similarity: 83.57%\n",
      "Moved extracted_face_IMG_3773.JPG_1.png to TOO_SIMILAR - Similarity: 80.80%\n",
      "Moved extracted_face_IMG_3774.JPG_0.png to TOO_SIMILAR - Similarity: 83.76%\n"
     ]
    },
    {
     "name": "stderr",
     "output_type": "stream",
     "text": [
      "Analyzing Similarity:  66%|██████▌   | 7785/11826 [02:29<00:49, 81.53it/s]"
     ]
    },
    {
     "name": "stdout",
     "output_type": "stream",
     "text": [
      "Moved extracted_face_IMG_3783.JPG_0.png to TOO_SIMILAR - Similarity: 80.64%\n",
      "Moved extracted_face_IMG_3784.JPG_1.png to TOO_SIMILAR - Similarity: 81.96%\n",
      "Moved extracted_face_IMG_3828.JPEG_0.png to TOO_SIMILAR - Similarity: 86.02%\n"
     ]
    },
    {
     "name": "stderr",
     "output_type": "stream",
     "text": [
      "Analyzing Similarity:  66%|██████▌   | 7803/11826 [02:29<00:48, 83.46it/s]"
     ]
    },
    {
     "name": "stdout",
     "output_type": "stream",
     "text": [
      "Moved extracted_face_IMG_3879.JPEG_0.png to TOO_SIMILAR - Similarity: 81.10%\n",
      "Moved extracted_face_IMG_3884.JPEG_3.png to TOO_SIMILAR - Similarity: 84.41%\n",
      "Moved extracted_face_IMG_3885.JPEG_3.png to TOO_SIMILAR - Similarity: 81.89%\n",
      "Moved extracted_face_IMG_3886.JPEG_2.png to TOO_SIMILAR - Similarity: 83.14%\n",
      "Moved extracted_face_IMG_3886.JPEG_5.png to TOO_SIMILAR - Similarity: 80.70%\n"
     ]
    },
    {
     "name": "stderr",
     "output_type": "stream",
     "text": [
      "Analyzing Similarity:  66%|██████▌   | 7830/11826 [02:30<00:46, 85.96it/s]"
     ]
    },
    {
     "name": "stdout",
     "output_type": "stream",
     "text": [
      "Moved extracted_face_IMG_3887.JPEG_4.png to TOO_SIMILAR - Similarity: 80.32%\n",
      "Moved extracted_face_IMG_3889.JPEG_0.png to TOO_SIMILAR - Similarity: 84.31%\n",
      "Moved extracted_face_IMG_3889.JPEG_3.png to TOO_SIMILAR - Similarity: 80.84%\n",
      "Moved extracted_face_IMG_3889.JPEG_4.png to TOO_SIMILAR - Similarity: 80.08%\n",
      "Moved extracted_face_IMG_3891.JPEG_10.png to TOO_SIMILAR - Similarity: 84.97%\n",
      "Moved extracted_face_IMG_3891.JPEG_11.png to TOO_SIMILAR - Similarity: 83.53%\n"
     ]
    },
    {
     "name": "stderr",
     "output_type": "stream",
     "text": [
      "Analyzing Similarity:  66%|██████▋   | 7839/11826 [02:30<00:46, 85.80it/s]"
     ]
    },
    {
     "name": "stdout",
     "output_type": "stream",
     "text": [
      "Moved extracted_face_IMG_3891.JPEG_13.png to TOO_SIMILAR - Similarity: 82.62%\n",
      "Moved extracted_face_IMG_3891.JPEG_14.png to TOO_SIMILAR - Similarity: 88.68%\n",
      "Moved extracted_face_IMG_3891.JPEG_15.png to TOO_SIMILAR - Similarity: 84.17%\n",
      "Moved extracted_face_IMG_3891.JPEG_17.png to TOO_SIMILAR - Similarity: 80.90%\n",
      "Moved extracted_face_IMG_3891.JPEG_19.png to TOO_SIMILAR - Similarity: 86.01%\n",
      "Moved extracted_face_IMG_3891.JPEG_2.png to TOO_SIMILAR - Similarity: 80.26%\n",
      "Moved extracted_face_IMG_3891.JPEG_3.png to TOO_SIMILAR - Similarity: 81.40%\n"
     ]
    },
    {
     "name": "stderr",
     "output_type": "stream",
     "text": [
      "Analyzing Similarity:  66%|██████▋   | 7856/11826 [02:30<01:00, 65.27it/s]"
     ]
    },
    {
     "name": "stdout",
     "output_type": "stream",
     "text": [
      "Moved extracted_face_IMG_3891.JPEG_5.png to TOO_SIMILAR - Similarity: 83.03%\n",
      "Moved extracted_face_IMG_3891.JPEG_6.png to TOO_SIMILAR - Similarity: 83.39%\n",
      "Moved extracted_face_IMG_3891.JPEG_9.png to TOO_SIMILAR - Similarity: 87.62%\n",
      "Moved extracted_face_IMG_3892.JPEG_0.png to TOO_SIMILAR - Similarity: 81.86%\n",
      "Moved extracted_face_IMG_3892.JPEG_10.png to TOO_SIMILAR - Similarity: 80.18%\n",
      "Moved extracted_face_IMG_3892.JPEG_12.png to TOO_SIMILAR - Similarity: 84.35%\n",
      "Moved extracted_face_IMG_3892.JPEG_13.png to TOO_SIMILAR - Similarity: 82.51%\n",
      "Moved extracted_face_IMG_3892.JPEG_14.png to TOO_SIMILAR - Similarity: 85.67%\n"
     ]
    },
    {
     "name": "stderr",
     "output_type": "stream",
     "text": [
      "Analyzing Similarity:  66%|██████▋   | 7864/11826 [02:30<01:00, 65.70it/s]"
     ]
    },
    {
     "name": "stdout",
     "output_type": "stream",
     "text": [
      "Moved extracted_face_IMG_3892.JPEG_15.png to TOO_SIMILAR - Similarity: 86.51%\n",
      "Moved extracted_face_IMG_3892.JPEG_19.png to TOO_SIMILAR - Similarity: 87.06%\n",
      "Moved extracted_face_IMG_3892.JPEG_22.png to TOO_SIMILAR - Similarity: 81.23%\n",
      "Moved extracted_face_IMG_3892.JPEG_4.png to TOO_SIMILAR - Similarity: 84.94%\n",
      "Moved extracted_face_IMG_3892.JPEG_5.png to TOO_SIMILAR - Similarity: 83.52%\n",
      "Moved extracted_face_IMG_3892.JPEG_7.png to TOO_SIMILAR - Similarity: 83.48%\n",
      "Moved extracted_face_IMG_3892.JPEG_8.png to TOO_SIMILAR - Similarity: 85.37%\n"
     ]
    },
    {
     "name": "stderr",
     "output_type": "stream",
     "text": [
      "Analyzing Similarity:  67%|██████▋   | 7886/11826 [02:31<00:55, 70.41it/s]"
     ]
    },
    {
     "name": "stdout",
     "output_type": "stream",
     "text": [
      "Moved extracted_face_IMG_3892.JPEG_9.png to TOO_SIMILAR - Similarity: 81.78%\n",
      "Moved extracted_face_IMG_3893.JPEG_0.png to TOO_SIMILAR - Similarity: 81.80%\n",
      "Moved extracted_face_IMG_3893.JPEG_10.png to TOO_SIMILAR - Similarity: 85.96%\n",
      "Moved extracted_face_IMG_3893.JPEG_12.png to TOO_SIMILAR - Similarity: 83.40%\n",
      "Moved extracted_face_IMG_3893.JPEG_13.png to TOO_SIMILAR - Similarity: 82.12%\n",
      "Moved extracted_face_IMG_3893.JPEG_14.png to TOO_SIMILAR - Similarity: 83.82%\n",
      "Moved extracted_face_IMG_3893.JPEG_15.png to TOO_SIMILAR - Similarity: 84.97%\n",
      "Moved extracted_face_IMG_3893.JPEG_16.png to TOO_SIMILAR - Similarity: 85.17%\n",
      "Moved extracted_face_IMG_3893.JPEG_17.png to TOO_SIMILAR - Similarity: 87.76%\n",
      "Moved extracted_face_IMG_3893.JPEG_18.png to TOO_SIMILAR - Similarity: 82.20%\n",
      "Moved extracted_face_IMG_3893.JPEG_19.png to TOO_SIMILAR - Similarity: 83.16%\n",
      "Moved extracted_face_IMG_3893.JPEG_21.png to TOO_SIMILAR - Similarity: 83.92%\n"
     ]
    },
    {
     "name": "stderr",
     "output_type": "stream",
     "text": [
      "Analyzing Similarity:  67%|██████▋   | 7902/11826 [02:31<00:52, 74.07it/s]"
     ]
    },
    {
     "name": "stdout",
     "output_type": "stream",
     "text": [
      "Moved extracted_face_IMG_3893.JPEG_5.png to TOO_SIMILAR - Similarity: 83.21%\n",
      "Moved extracted_face_IMG_3893.JPEG_6.png to TOO_SIMILAR - Similarity: 86.63%\n",
      "Moved extracted_face_IMG_3893.JPEG_7.png to TOO_SIMILAR - Similarity: 83.16%\n",
      "Moved extracted_face_IMG_3894.JPEG_0.png to TOO_SIMILAR - Similarity: 81.63%\n",
      "Moved extracted_face_IMG_3894.JPEG_10.png to TOO_SIMILAR - Similarity: 81.08%\n",
      "Moved extracted_face_IMG_3894.JPEG_11.png to TOO_SIMILAR - Similarity: 84.50%\n",
      "Moved extracted_face_IMG_3894.JPEG_12.png to TOO_SIMILAR - Similarity: 83.22%\n",
      "Moved extracted_face_IMG_3894.JPEG_13.png to TOO_SIMILAR - Similarity: 80.20%\n",
      "Moved extracted_face_IMG_3894.JPEG_14.png to TOO_SIMILAR - Similarity: 80.41%\n",
      "Moved extracted_face_IMG_3894.JPEG_15.png to TOO_SIMILAR - Similarity: 85.55%\n",
      "Moved extracted_face_IMG_3894.JPEG_17.png to TOO_SIMILAR - Similarity: 86.28%\n",
      "Moved extracted_face_IMG_3894.JPEG_18.png to TOO_SIMILAR - Similarity: 82.42%\n",
      "Moved extracted_face_IMG_3894.JPEG_2.png to TOO_SIMILAR - Similarity: 81.82%\n"
     ]
    },
    {
     "name": "stderr",
     "output_type": "stream",
     "text": [
      "Analyzing Similarity:  67%|██████▋   | 7919/11826 [02:31<00:51, 75.91it/s]"
     ]
    },
    {
     "name": "stdout",
     "output_type": "stream",
     "text": [
      "Moved extracted_face_IMG_3894.JPEG_20.png to TOO_SIMILAR - Similarity: 82.47%\n",
      "Moved extracted_face_IMG_3894.JPEG_3.png to TOO_SIMILAR - Similarity: 84.31%\n",
      "Moved extracted_face_IMG_3894.JPEG_4.png to TOO_SIMILAR - Similarity: 88.56%\n",
      "Moved extracted_face_IMG_3894.JPEG_6.png to TOO_SIMILAR - Similarity: 87.24%\n",
      "Moved extracted_face_IMG_3894.JPEG_7.png to TOO_SIMILAR - Similarity: 84.90%\n",
      "Moved extracted_face_IMG_3895.JPEG_1.png to TOO_SIMILAR - Similarity: 81.47%\n",
      "Moved extracted_face_IMG_3895.JPEG_10.png to TOO_SIMILAR - Similarity: 86.67%\n",
      "Moved extracted_face_IMG_3895.JPEG_11.png to TOO_SIMILAR - Similarity: 82.31%\n",
      "Moved extracted_face_IMG_3895.JPEG_14.png to TOO_SIMILAR - Similarity: 84.72%\n",
      "Moved extracted_face_IMG_3895.JPEG_15.png to TOO_SIMILAR - Similarity: 85.36%\n"
     ]
    },
    {
     "name": "stderr",
     "output_type": "stream",
     "text": [
      "Analyzing Similarity:  67%|██████▋   | 7935/11826 [02:31<00:52, 73.55it/s]"
     ]
    },
    {
     "name": "stdout",
     "output_type": "stream",
     "text": [
      "Moved extracted_face_IMG_3895.JPEG_4.png to TOO_SIMILAR - Similarity: 82.95%\n",
      "Moved extracted_face_IMG_3895.JPEG_5.png to TOO_SIMILAR - Similarity: 83.56%\n",
      "Moved extracted_face_IMG_3895.JPEG_6.png to TOO_SIMILAR - Similarity: 87.55%\n",
      "Moved extracted_face_IMG_3895.JPEG_8.png to TOO_SIMILAR - Similarity: 89.48%\n",
      "Moved extracted_face_IMG_3895.JPEG_9.png to TOO_SIMILAR - Similarity: 84.05%\n",
      "Moved extracted_face_IMG_3905.JPEG_0.png to TOO_SIMILAR - Similarity: 80.65%\n"
     ]
    },
    {
     "name": "stderr",
     "output_type": "stream",
     "text": [
      "Analyzing Similarity:  67%|██████▋   | 7951/11826 [02:31<00:52, 73.82it/s]"
     ]
    },
    {
     "name": "stdout",
     "output_type": "stream",
     "text": [
      "Moved extracted_face_IMG_3908.JPEG_0.png to TOO_SIMILAR - Similarity: 80.32%\n",
      "Moved extracted_face_IMG_3914.JPEG_2.png to TOO_SIMILAR - Similarity: 82.52%\n",
      "Moved extracted_face_IMG_3914.JPEG_6.png to TOO_SIMILAR - Similarity: 80.79%\n",
      "Moved extracted_face_IMG_3915.JPEG_2.png to TOO_SIMILAR - Similarity: 80.54%\n"
     ]
    },
    {
     "name": "stderr",
     "output_type": "stream",
     "text": [
      "Analyzing Similarity:  67%|██████▋   | 7969/11826 [02:32<00:48, 79.24it/s]"
     ]
    },
    {
     "name": "stdout",
     "output_type": "stream",
     "text": [
      "Moved extracted_face_IMG_3915.JPEG_3.png to TOO_SIMILAR - Similarity: 83.21%\n",
      "Moved extracted_face_IMG_3915.JPEG_5.png to TOO_SIMILAR - Similarity: 83.03%\n"
     ]
    },
    {
     "name": "stderr",
     "output_type": "stream",
     "text": [
      "Analyzing Similarity:  67%|██████▋   | 7978/11826 [02:32<00:47, 80.98it/s]"
     ]
    },
    {
     "name": "stdout",
     "output_type": "stream",
     "text": [
      "Moved extracted_face_IMG_3919.JPEG_0.png to TOO_SIMILAR - Similarity: 82.35%\n",
      "Moved extracted_face_IMG_3921-1.JPEG_0.png to TOO_SIMILAR - Similarity: 84.14%\n",
      "Moved extracted_face_IMG_3924.JPEG_0.png to TOO_SIMILAR - Similarity: 86.83%\n",
      "Moved extracted_face_IMG_3924.JPEG_3.png to TOO_SIMILAR - Similarity: 81.33%\n"
     ]
    },
    {
     "name": "stderr",
     "output_type": "stream",
     "text": [
      "Analyzing Similarity:  68%|██████▊   | 7995/11826 [02:32<00:59, 64.68it/s]"
     ]
    },
    {
     "name": "stdout",
     "output_type": "stream",
     "text": [
      "Moved extracted_face_IMG_3924.JPEG_4.png to TOO_SIMILAR - Similarity: 81.13%\n",
      "Moved extracted_face_IMG_3924.JPEG_5.png to TOO_SIMILAR - Similarity: 84.79%\n",
      "Moved extracted_face_IMG_3925.JPEG_0.png to TOO_SIMILAR - Similarity: 84.34%\n",
      "Moved extracted_face_IMG_3925.JPEG_1.png to TOO_SIMILAR - Similarity: 85.05%\n",
      "Moved extracted_face_IMG_3926.JPEG_2.png to TOO_SIMILAR - Similarity: 82.06%\n",
      "Moved extracted_face_IMG_3926.JPEG_3.png to TOO_SIMILAR - Similarity: 82.51%\n",
      "Moved extracted_face_IMG_3926.JPEG_4.png to TOO_SIMILAR - Similarity: 80.78%\n"
     ]
    },
    {
     "name": "stderr",
     "output_type": "stream",
     "text": [
      "Analyzing Similarity:  68%|██████▊   | 8012/11826 [02:32<00:55, 68.90it/s]"
     ]
    },
    {
     "name": "stdout",
     "output_type": "stream",
     "text": [
      "Moved extracted_face_IMG_3930.JPEG_0.png to TOO_SIMILAR - Similarity: 80.56%\n",
      "Moved extracted_face_IMG_3930.JPEG_1.png to TOO_SIMILAR - Similarity: 80.57%\n",
      "Moved extracted_face_IMG_3930.JPEG_12.png to TOO_SIMILAR - Similarity: 80.28%\n",
      "Moved extracted_face_IMG_3930.JPEG_14.png to TOO_SIMILAR - Similarity: 81.24%\n",
      "Moved extracted_face_IMG_3930.JPEG_16.png to TOO_SIMILAR - Similarity: 82.27%\n",
      "Moved extracted_face_IMG_3930.JPEG_18.png to TOO_SIMILAR - Similarity: 83.09%\n",
      "Moved extracted_face_IMG_3930.JPEG_19.png to TOO_SIMILAR - Similarity: 84.02%\n",
      "Moved extracted_face_IMG_3930.JPEG_2.png to TOO_SIMILAR - Similarity: 80.50%\n",
      "Moved extracted_face_IMG_3930.JPEG_21.png to TOO_SIMILAR - Similarity: 83.37%\n"
     ]
    },
    {
     "name": "stderr",
     "output_type": "stream",
     "text": [
      "Analyzing Similarity:  68%|██████▊   | 8028/11826 [02:32<00:55, 67.95it/s]"
     ]
    },
    {
     "name": "stdout",
     "output_type": "stream",
     "text": [
      "Moved extracted_face_IMG_3930.JPEG_23.png to TOO_SIMILAR - Similarity: 80.73%\n",
      "Moved extracted_face_IMG_3930.JPEG_24.png to TOO_SIMILAR - Similarity: 86.46%\n",
      "Moved extracted_face_IMG_3930.JPEG_29.png to TOO_SIMILAR - Similarity: 81.63%\n",
      "Moved extracted_face_IMG_3930.JPEG_3.png to TOO_SIMILAR - Similarity: 81.82%\n",
      "Moved extracted_face_IMG_3930.JPEG_4.png to TOO_SIMILAR - Similarity: 81.44%\n",
      "Moved extracted_face_IMG_3930.JPEG_5.png to TOO_SIMILAR - Similarity: 81.55%\n",
      "Moved extracted_face_IMG_3930.JPEG_6.png to TOO_SIMILAR - Similarity: 83.08%\n",
      "Moved extracted_face_IMG_3930.JPEG_7.png to TOO_SIMILAR - Similarity: 82.79%\n"
     ]
    },
    {
     "name": "stderr",
     "output_type": "stream",
     "text": [
      "Analyzing Similarity:  68%|██████▊   | 8042/11826 [02:33<00:58, 64.41it/s]"
     ]
    },
    {
     "name": "stdout",
     "output_type": "stream",
     "text": [
      "Moved extracted_face_IMG_3930.JPEG_9.png to TOO_SIMILAR - Similarity: 80.03%\n",
      "Moved extracted_face_IMG_3931.JPEG_0.png to TOO_SIMILAR - Similarity: 83.82%\n",
      "Moved extracted_face_IMG_3931.JPEG_1.png to TOO_SIMILAR - Similarity: 85.69%\n",
      "Moved extracted_face_IMG_3931.JPEG_11.png to TOO_SIMILAR - Similarity: 84.65%\n",
      "Moved extracted_face_IMG_3931.JPEG_13.png to TOO_SIMILAR - Similarity: 82.64%\n",
      "Moved extracted_face_IMG_3931.JPEG_15.png to TOO_SIMILAR - Similarity: 80.79%\n",
      "Moved extracted_face_IMG_3931.JPEG_16.png to TOO_SIMILAR - Similarity: 82.30%\n",
      "Moved extracted_face_IMG_3931.JPEG_18.png to TOO_SIMILAR - Similarity: 81.04%\n"
     ]
    },
    {
     "name": "stderr",
     "output_type": "stream",
     "text": [
      "Analyzing Similarity:  68%|██████▊   | 8058/11826 [02:33<00:54, 69.29it/s]"
     ]
    },
    {
     "name": "stdout",
     "output_type": "stream",
     "text": [
      "Moved extracted_face_IMG_3931.JPEG_21.png to TOO_SIMILAR - Similarity: 80.43%\n",
      "Moved extracted_face_IMG_3931.JPEG_25.png to TOO_SIMILAR - Similarity: 82.79%\n",
      "Moved extracted_face_IMG_3931.JPEG_27.png to TOO_SIMILAR - Similarity: 82.34%\n",
      "Moved extracted_face_IMG_3931.JPEG_29.png to TOO_SIMILAR - Similarity: 80.31%\n",
      "Moved extracted_face_IMG_3931.JPEG_3.png to TOO_SIMILAR - Similarity: 80.48%\n",
      "Moved extracted_face_IMG_3931.JPEG_30.png to TOO_SIMILAR - Similarity: 83.59%\n"
     ]
    },
    {
     "name": "stderr",
     "output_type": "stream",
     "text": [
      "Analyzing Similarity:  68%|██████▊   | 8074/11826 [02:33<00:52, 70.98it/s]"
     ]
    },
    {
     "name": "stdout",
     "output_type": "stream",
     "text": [
      "Moved extracted_face_IMG_3931.JPEG_6.png to TOO_SIMILAR - Similarity: 81.51%\n",
      "Moved extracted_face_IMG_3931.JPEG_9.png to TOO_SIMILAR - Similarity: 81.50%\n",
      "Moved extracted_face_IMG_3933.JPEG_1.png to TOO_SIMILAR - Similarity: 82.75%\n",
      "Moved extracted_face_IMG_3935-1.JPEG_2.png to TOO_SIMILAR - Similarity: 81.88%\n",
      "Moved extracted_face_IMG_3936.JPEG_1.png to TOO_SIMILAR - Similarity: 81.55%\n"
     ]
    },
    {
     "name": "stderr",
     "output_type": "stream",
     "text": [
      "Analyzing Similarity:  68%|██████▊   | 8090/11826 [02:33<00:53, 70.02it/s]"
     ]
    },
    {
     "name": "stdout",
     "output_type": "stream",
     "text": [
      "Moved extracted_face_IMG_3958.JPEG_0.png to TOO_SIMILAR - Similarity: 81.49%\n",
      "Moved extracted_face_IMG_3958.JPEG_2.png to TOO_SIMILAR - Similarity: 80.35%\n",
      "Moved extracted_face_IMG_3958.JPG_1.png to TOO_SIMILAR - Similarity: 81.45%\n",
      "Moved extracted_face_IMG_3958.JPG_3.png to TOO_SIMILAR - Similarity: 80.66%\n",
      "Moved extracted_face_IMG_3959.JPEG_0.png to TOO_SIMILAR - Similarity: 84.90%\n",
      "Moved extracted_face_IMG_3960.JPEG_0.png to TOO_SIMILAR - Similarity: 84.94%\n",
      "Moved extracted_face_IMG_3961.JPEG_0.png to TOO_SIMILAR - Similarity: 85.95%\n",
      "Moved extracted_face_IMG_3962.JPEG_1.png to TOO_SIMILAR - Similarity: 81.29%\n",
      "Moved extracted_face_IMG_3964.JPEG_2.png to TOO_SIMILAR - Similarity: 80.72%\n"
     ]
    },
    {
     "name": "stderr",
     "output_type": "stream",
     "text": [
      "Analyzing Similarity:  68%|██████▊   | 8098/11826 [02:34<00:53, 70.02it/s]"
     ]
    },
    {
     "name": "stdout",
     "output_type": "stream",
     "text": [
      "Moved extracted_face_IMG_3968.JPEG_0.png to TOO_SIMILAR - Similarity: 80.22%\n",
      "Moved extracted_face_IMG_3972.JPEG_1.png to TOO_SIMILAR - Similarity: 80.52%\n",
      "Moved extracted_face_IMG_3991.JPEG_0.png to TOO_SIMILAR - Similarity: 80.29%\n",
      "Moved extracted_face_IMG_3991.JPEG_1.png to TOO_SIMILAR - Similarity: 81.55%\n"
     ]
    },
    {
     "name": "stderr",
     "output_type": "stream",
     "text": [
      "Analyzing Similarity:  69%|██████▊   | 8122/11826 [02:34<00:57, 64.65it/s]"
     ]
    },
    {
     "name": "stdout",
     "output_type": "stream",
     "text": [
      "Moved extracted_face_IMG_3995.JPEG_1.png to TOO_SIMILAR - Similarity: 82.05%\n",
      "Moved extracted_face_IMG_3996.JPEG_1.png to TOO_SIMILAR - Similarity: 84.77%\n",
      "Moved extracted_face_IMG_3996.JPEG_2.png to TOO_SIMILAR - Similarity: 81.32%\n",
      "Moved extracted_face_IMG_3996.JPEG_3.png to TOO_SIMILAR - Similarity: 81.19%\n",
      "Moved extracted_face_IMG_3997.JPEG_0.png to TOO_SIMILAR - Similarity: 81.11%\n",
      "Moved extracted_face_IMG_4011.JPG_0.png to TOO_SIMILAR - Similarity: 83.04%\n"
     ]
    },
    {
     "name": "stderr",
     "output_type": "stream",
     "text": [
      "Analyzing Similarity:  69%|██████▉   | 8140/11826 [02:34<00:49, 73.93it/s]"
     ]
    },
    {
     "name": "stdout",
     "output_type": "stream",
     "text": [
      "Moved extracted_face_IMG_4042.JPEG_0.png to TOO_SIMILAR - Similarity: 83.63%\n",
      "Moved extracted_face_IMG_4042.JPEG_1.png to TOO_SIMILAR - Similarity: 82.68%\n",
      "Moved extracted_face_IMG_4042.JPEG_4.png to TOO_SIMILAR - Similarity: 80.26%\n",
      "Moved extracted_face_IMG_4043-1.JPEG_2.png to TOO_SIMILAR - Similarity: 80.37%\n",
      "Moved extracted_face_IMG_4044.JPEG_1.png to TOO_SIMILAR - Similarity: 80.31%\n",
      "Moved extracted_face_IMG_4050.JPEG_0.png to TOO_SIMILAR - Similarity: 81.79%\n",
      "Moved extracted_face_IMG_4051.JPEG_0.png to TOO_SIMILAR - Similarity: 83.91%\n",
      "Moved extracted_face_IMG_4055-1.JPEG_0.png to TOO_SIMILAR - Similarity: 80.04%\n"
     ]
    },
    {
     "name": "stderr",
     "output_type": "stream",
     "text": [
      "Analyzing Similarity:  69%|██████▉   | 8167/11826 [02:34<00:46, 79.50it/s]"
     ]
    },
    {
     "name": "stdout",
     "output_type": "stream",
     "text": [
      "Moved extracted_face_IMG_4068.JPEG_2.png to TOO_SIMILAR - Similarity: 83.68%\n",
      "Moved extracted_face_IMG_4074.JPEG_0.png to TOO_SIMILAR - Similarity: 82.91%\n",
      "Moved extracted_face_IMG_4076.JPEG_1.png to TOO_SIMILAR - Similarity: 85.59%\n",
      "Moved extracted_face_IMG_4083.JPEG_0.png to TOO_SIMILAR - Similarity: 80.09%\n",
      "Moved extracted_face_IMG_4083.JPEG_1.png to TOO_SIMILAR - Similarity: 86.45%\n",
      "Moved extracted_face_IMG_4084.JPEG_0.png to TOO_SIMILAR - Similarity: 82.02%\n",
      "Moved extracted_face_IMG_4131.JPEG_1.png to TOO_SIMILAR - Similarity: 80.31%\n",
      "Moved extracted_face_IMG_4131.JPG_0.png to TOO_SIMILAR - Similarity: 85.59%\n"
     ]
    },
    {
     "name": "stderr",
     "output_type": "stream",
     "text": [
      "Analyzing Similarity:  69%|██████▉   | 8194/11826 [02:35<00:43, 83.81it/s]"
     ]
    },
    {
     "name": "stdout",
     "output_type": "stream",
     "text": [
      "Moved extracted_face_IMG_4151.JPEG_4.png to TOO_SIMILAR - Similarity: 80.19%\n",
      "Moved extracted_face_IMG_4153.JPEG_0.png to TOO_SIMILAR - Similarity: 81.63%\n",
      "Moved extracted_face_IMG_4154.JPEG_1.png to TOO_SIMILAR - Similarity: 80.65%\n",
      "Moved extracted_face_IMG_4175.JPEG_0.png to TOO_SIMILAR - Similarity: 86.50%\n",
      "Moved extracted_face_IMG_4175.JPEG_1.png to TOO_SIMILAR - Similarity: 85.00%\n",
      "Moved extracted_face_IMG_4175.JPEG_3.png to TOO_SIMILAR - Similarity: 80.24%\n",
      "Moved extracted_face_IMG_4176.JPEG_0.png to TOO_SIMILAR - Similarity: 85.88%\n",
      "Moved extracted_face_IMG_4176.JPEG_1.png to TOO_SIMILAR - Similarity: 84.60%\n"
     ]
    },
    {
     "name": "stderr",
     "output_type": "stream",
     "text": [
      "Analyzing Similarity:  69%|██████▉   | 8212/11826 [02:35<00:44, 82.09it/s]"
     ]
    },
    {
     "name": "stdout",
     "output_type": "stream",
     "text": [
      "Moved extracted_face_IMG_4176.JPEG_3.png to TOO_SIMILAR - Similarity: 81.68%\n",
      "Moved extracted_face_IMG_4177-1.JPEG_0.png to TOO_SIMILAR - Similarity: 86.77%\n",
      "Moved extracted_face_IMG_4177-1.JPEG_2.png to TOO_SIMILAR - Similarity: 84.57%\n",
      "Moved extracted_face_IMG_4180.JPEG_1.png to TOO_SIMILAR - Similarity: 82.94%\n",
      "Moved extracted_face_IMG_4184-1.JPEG_1.png to TOO_SIMILAR - Similarity: 84.99%\n",
      "Moved extracted_face_IMG_4184.JPEG_1.png to TOO_SIMILAR - Similarity: 85.90%\n",
      "Moved extracted_face_IMG_4185.JPEG_0.png to TOO_SIMILAR - Similarity: 81.59%\n",
      "Moved extracted_face_IMG_4187.JPEG_0.png to TOO_SIMILAR - Similarity: 82.20%\n",
      "Moved extracted_face_IMG_4187.JPEG_1.png to TOO_SIMILAR - Similarity: 84.74%\n"
     ]
    },
    {
     "name": "stderr",
     "output_type": "stream",
     "text": [
      "Analyzing Similarity:  70%|██████▉   | 8239/11826 [02:35<00:42, 85.40it/s]"
     ]
    },
    {
     "name": "stdout",
     "output_type": "stream",
     "text": [
      "Moved extracted_face_IMG_4250.JPEG_2.png to TOO_SIMILAR - Similarity: 80.91%\n",
      "Moved extracted_face_IMG_4264.JPG_0.png to TOO_SIMILAR - Similarity: 82.68%\n",
      "Moved extracted_face_IMG_4265.JPG_0.png to TOO_SIMILAR - Similarity: 83.25%\n",
      "Moved extracted_face_IMG_4268.JPG_3.png to TOO_SIMILAR - Similarity: 85.58%\n",
      "Moved extracted_face_IMG_4340-1.JPEG_1.png to TOO_SIMILAR - Similarity: 82.88%\n",
      "Moved extracted_face_IMG_4341-1.JPEG_0.png to TOO_SIMILAR - Similarity: 83.87%\n",
      "Moved extracted_face_IMG_4341-1.JPEG_2.png to TOO_SIMILAR - Similarity: 86.77%\n"
     ]
    },
    {
     "name": "stderr",
     "output_type": "stream",
     "text": [
      "Analyzing Similarity:  70%|██████▉   | 8257/11826 [02:36<00:42, 84.56it/s]"
     ]
    },
    {
     "name": "stdout",
     "output_type": "stream",
     "text": [
      "Moved extracted_face_IMG_4342-1.JPEG_1.png to TOO_SIMILAR - Similarity: 82.22%\n",
      "Moved extracted_face_IMG_4342-1.JPEG_2.png to TOO_SIMILAR - Similarity: 84.72%\n",
      "Moved extracted_face_IMG_4350-1.JPEG_1.png to TOO_SIMILAR - Similarity: 81.77%\n",
      "Moved extracted_face_IMG_4351.JPEG_2.png to TOO_SIMILAR - Similarity: 82.56%\n",
      "Moved extracted_face_IMG_4352.JPEG_1.png to TOO_SIMILAR - Similarity: 81.72%\n"
     ]
    },
    {
     "name": "stderr",
     "output_type": "stream",
     "text": [
      "Analyzing Similarity:  70%|██████▉   | 8275/11826 [02:36<00:43, 82.14it/s]"
     ]
    },
    {
     "name": "stdout",
     "output_type": "stream",
     "text": [
      "Moved extracted_face_IMG_4359.JPEG_1.png to TOO_SIMILAR - Similarity: 80.45%\n",
      "Moved extracted_face_IMG_4362.JPEG_0.png to TOO_SIMILAR - Similarity: 83.19%\n",
      "Moved extracted_face_IMG_4362.JPEG_2.png to TOO_SIMILAR - Similarity: 85.19%\n",
      "Moved extracted_face_IMG_4369.JPEG_0.png to TOO_SIMILAR - Similarity: 84.99%\n",
      "Moved extracted_face_IMG_4369.JPEG_1.png to TOO_SIMILAR - Similarity: 86.01%\n",
      "Moved extracted_face_IMG_4369.JPEG_3.png to TOO_SIMILAR - Similarity: 81.23%\n",
      "Moved extracted_face_IMG_4370.JPEG_0.png to TOO_SIMILAR - Similarity: 85.26%\n",
      "Moved extracted_face_IMG_4386.JPEG_2.png to TOO_SIMILAR - Similarity: 85.61%\n"
     ]
    },
    {
     "name": "stderr",
     "output_type": "stream",
     "text": [
      "Analyzing Similarity:  70%|███████   | 8284/11826 [02:36<00:43, 81.55it/s]"
     ]
    },
    {
     "name": "stdout",
     "output_type": "stream",
     "text": [
      "Moved extracted_face_IMG_4387.JPEG_3.png to TOO_SIMILAR - Similarity: 85.98%\n",
      "Moved extracted_face_IMG_4388.JPEG_2.png to TOO_SIMILAR - Similarity: 86.16%\n"
     ]
    },
    {
     "name": "stderr",
     "output_type": "stream",
     "text": [
      "Analyzing Similarity:  70%|███████   | 8300/11826 [02:36<00:54, 65.02it/s]"
     ]
    },
    {
     "name": "stdout",
     "output_type": "stream",
     "text": [
      "Moved extracted_face_IMG_4389.JPEG_2.png to TOO_SIMILAR - Similarity: 83.37%\n",
      "Moved extracted_face_IMG_4389.JPEG_3.png to TOO_SIMILAR - Similarity: 81.07%\n",
      "Moved extracted_face_IMG_4389.JPEG_4.png to TOO_SIMILAR - Similarity: 83.83%\n",
      "Moved extracted_face_IMG_4391.JPEG_0.png to TOO_SIMILAR - Similarity: 81.70%\n",
      "Moved extracted_face_IMG_4391.JPEG_10.png to TOO_SIMILAR - Similarity: 80.81%\n",
      "Moved extracted_face_IMG_4391.JPEG_2.png to TOO_SIMILAR - Similarity: 80.17%\n",
      "Moved extracted_face_IMG_4391.JPEG_3.png to TOO_SIMILAR - Similarity: 86.76%\n",
      "Moved extracted_face_IMG_4391.JPEG_5.png to TOO_SIMILAR - Similarity: 87.88%\n",
      "Moved extracted_face_IMG_4391.JPEG_6.png to TOO_SIMILAR - Similarity: 81.11%\n",
      "Moved extracted_face_IMG_4391.JPEG_7.png to TOO_SIMILAR - Similarity: 89.66%\n",
      "Moved extracted_face_IMG_4391.JPEG_8.png to TOO_SIMILAR - Similarity: 81.44%\n",
      "Moved extracted_face_IMG_4391.JPEG_9.png to TOO_SIMILAR - Similarity: 83.18%\n"
     ]
    },
    {
     "name": "stderr",
     "output_type": "stream",
     "text": [
      "Analyzing Similarity:  70%|███████   | 8314/11826 [02:36<00:53, 65.48it/s]"
     ]
    },
    {
     "name": "stdout",
     "output_type": "stream",
     "text": [
      "Moved extracted_face_IMG_4392.JPEG_1.png to TOO_SIMILAR - Similarity: 80.49%\n",
      "Moved extracted_face_IMG_4392.JPEG_2.png to TOO_SIMILAR - Similarity: 87.52%\n",
      "Moved extracted_face_IMG_4392.JPEG_3.png to TOO_SIMILAR - Similarity: 85.54%\n",
      "Moved extracted_face_IMG_4392.JPEG_5.png to TOO_SIMILAR - Similarity: 80.80%\n",
      "Moved extracted_face_IMG_4392.JPEG_6.png to TOO_SIMILAR - Similarity: 80.43%\n",
      "Moved extracted_face_IMG_4392.JPEG_8.png to TOO_SIMILAR - Similarity: 82.15%\n",
      "Moved extracted_face_IMG_4392.JPEG_9.png to TOO_SIMILAR - Similarity: 80.81%\n",
      "Moved extracted_face_IMG_4396.JPEG_0.png to TOO_SIMILAR - Similarity: 82.06%\n",
      "Moved extracted_face_IMG_4396.JPEG_1.png to TOO_SIMILAR - Similarity: 83.61%\n",
      "Moved extracted_face_IMG_4396.JPEG_2.png to TOO_SIMILAR - Similarity: 80.48%\n"
     ]
    },
    {
     "name": "stderr",
     "output_type": "stream",
     "text": [
      "Analyzing Similarity:  71%|███████   | 8338/11826 [02:37<00:48, 71.63it/s]"
     ]
    },
    {
     "name": "stdout",
     "output_type": "stream",
     "text": [
      "Moved extracted_face_IMG_4404.JPEG_0.png to TOO_SIMILAR - Similarity: 82.57%\n",
      "Moved extracted_face_IMG_4405.JPEG_0.png to TOO_SIMILAR - Similarity: 83.66%\n",
      "Moved extracted_face_IMG_4406.JPEG_0.png to TOO_SIMILAR - Similarity: 85.13%\n",
      "Moved extracted_face_IMG_4408.JPEG_0.png to TOO_SIMILAR - Similarity: 82.55%\n",
      "Moved extracted_face_IMG_4416.JPEG_2.png to TOO_SIMILAR - Similarity: 83.98%\n",
      "Moved extracted_face_IMG_4416.JPEG_3.png to TOO_SIMILAR - Similarity: 86.68%\n",
      "Moved extracted_face_IMG_4416.JPEG_4.png to TOO_SIMILAR - Similarity: 81.15%\n",
      "Moved extracted_face_IMG_4416.JPEG_5.png to TOO_SIMILAR - Similarity: 81.55%\n",
      "Moved extracted_face_IMG_4416.JPEG_7.png to TOO_SIMILAR - Similarity: 80.45%\n",
      "Moved extracted_face_IMG_4417.JPEG_1.png to TOO_SIMILAR - Similarity: 85.67%\n"
     ]
    },
    {
     "name": "stderr",
     "output_type": "stream",
     "text": [
      "Analyzing Similarity:  71%|███████   | 8354/11826 [02:37<00:47, 73.06it/s]"
     ]
    },
    {
     "name": "stdout",
     "output_type": "stream",
     "text": [
      "Moved extracted_face_IMG_4417.JPEG_3.png to TOO_SIMILAR - Similarity: 83.73%\n",
      "Moved extracted_face_IMG_4417.JPEG_5.png to TOO_SIMILAR - Similarity: 83.10%\n",
      "Moved extracted_face_IMG_4418.JPEG_2.png to TOO_SIMILAR - Similarity: 84.75%\n",
      "Moved extracted_face_IMG_4418.JPEG_3.png to TOO_SIMILAR - Similarity: 83.88%\n",
      "Moved extracted_face_IMG_4418.JPEG_5.png to TOO_SIMILAR - Similarity: 86.29%\n",
      "Moved extracted_face_IMG_4418.JPEG_6.png to TOO_SIMILAR - Similarity: 81.15%\n",
      "Moved extracted_face_IMG_4418.JPEG_7.png to TOO_SIMILAR - Similarity: 80.28%\n"
     ]
    },
    {
     "name": "stderr",
     "output_type": "stream",
     "text": [
      "Analyzing Similarity:  71%|███████   | 8370/11826 [02:37<00:49, 69.51it/s]"
     ]
    },
    {
     "name": "stdout",
     "output_type": "stream",
     "text": [
      "Moved extracted_face_IMG_4419.JPEG_1.png to TOO_SIMILAR - Similarity: 84.72%\n",
      "Moved extracted_face_IMG_4419.JPEG_2.png to TOO_SIMILAR - Similarity: 86.16%\n",
      "Moved extracted_face_IMG_4419.JPEG_4.png to TOO_SIMILAR - Similarity: 80.46%\n",
      "Moved extracted_face_IMG_4419.JPEG_6.png to TOO_SIMILAR - Similarity: 85.72%\n",
      "Moved extracted_face_IMG_4424.JPEG_0.png to TOO_SIMILAR - Similarity: 83.08%\n",
      "Moved extracted_face_IMG_4424.JPEG_1.png to TOO_SIMILAR - Similarity: 81.57%\n",
      "Moved extracted_face_IMG_4424.JPEG_2.png to TOO_SIMILAR - Similarity: 83.18%\n",
      "Moved extracted_face_IMG_4424.JPEG_5.png to TOO_SIMILAR - Similarity: 84.92%\n"
     ]
    },
    {
     "name": "stderr",
     "output_type": "stream",
     "text": [
      "Analyzing Similarity:  71%|███████   | 8394/11826 [02:37<00:47, 71.80it/s]"
     ]
    },
    {
     "name": "stdout",
     "output_type": "stream",
     "text": [
      "Moved extracted_face_IMG_4425.JPEG_2.png to TOO_SIMILAR - Similarity: 83.07%\n",
      "Moved extracted_face_IMG_4425.JPEG_3.png to TOO_SIMILAR - Similarity: 82.37%\n",
      "Moved extracted_face_IMG_4425.JPEG_6.png to TOO_SIMILAR - Similarity: 84.68%\n",
      "Moved extracted_face_IMG_4427.JPEG_2.png to TOO_SIMILAR - Similarity: 83.12%\n",
      "Moved extracted_face_IMG_4428.JPEG_1.png to TOO_SIMILAR - Similarity: 82.68%\n",
      "Moved extracted_face_IMG_4428.JPEG_2.png to TOO_SIMILAR - Similarity: 81.79%\n",
      "Moved extracted_face_IMG_4428.JPEG_4.png to TOO_SIMILAR - Similarity: 81.51%\n"
     ]
    },
    {
     "name": "stderr",
     "output_type": "stream",
     "text": [
      "Analyzing Similarity:  71%|███████   | 8410/11826 [02:38<00:46, 73.00it/s]"
     ]
    },
    {
     "name": "stdout",
     "output_type": "stream",
     "text": [
      "Moved extracted_face_IMG_4428.JPEG_7.png to TOO_SIMILAR - Similarity: 85.35%\n",
      "Moved extracted_face_IMG_4428.JPEG_9.png to TOO_SIMILAR - Similarity: 86.00%\n",
      "Moved extracted_face_IMG_4429.JPEG_3.png to TOO_SIMILAR - Similarity: 83.44%\n",
      "Moved extracted_face_IMG_4429.JPEG_4.png to TOO_SIMILAR - Similarity: 82.24%\n",
      "Moved extracted_face_IMG_4429.JPEG_5.png to TOO_SIMILAR - Similarity: 83.92%\n",
      "Moved extracted_face_IMG_4429.JPEG_8.png to TOO_SIMILAR - Similarity: 88.15%\n",
      "Moved extracted_face_IMG_4430.JPEG_1.png to TOO_SIMILAR - Similarity: 81.76%\n",
      "Moved extracted_face_IMG_4440.JPEG_0.png to TOO_SIMILAR - Similarity: 84.75%\n"
     ]
    },
    {
     "name": "stderr",
     "output_type": "stream",
     "text": [
      "Analyzing Similarity:  71%|███████   | 8425/11826 [02:38<00:54, 62.63it/s]"
     ]
    },
    {
     "name": "stdout",
     "output_type": "stream",
     "text": [
      "Moved extracted_face_IMG_4441.JPEG_0.png to TOO_SIMILAR - Similarity: 80.73%\n",
      "Moved extracted_face_IMG_4441.JPEG_4.png to TOO_SIMILAR - Similarity: 82.19%\n",
      "Moved extracted_face_IMG_4441.JPEG_5.png to TOO_SIMILAR - Similarity: 82.98%\n",
      "Moved extracted_face_IMG_4442.JPEG_3.png to TOO_SIMILAR - Similarity: 81.97%\n"
     ]
    },
    {
     "name": "stderr",
     "output_type": "stream",
     "text": [
      "Analyzing Similarity:  71%|███████▏  | 8442/11826 [02:38<00:47, 71.31it/s]"
     ]
    },
    {
     "name": "stdout",
     "output_type": "stream",
     "text": [
      "Moved extracted_face_IMG_4442.JPEG_6.png to TOO_SIMILAR - Similarity: 80.64%\n",
      "Moved extracted_face_IMG_4443.JPEG_0.png to TOO_SIMILAR - Similarity: 82.84%\n",
      "Moved extracted_face_IMG_4443.JPEG_7.png to TOO_SIMILAR - Similarity: 80.01%\n",
      "Moved extracted_face_IMG_4452.JPEG_0.png to TOO_SIMILAR - Similarity: 83.87%\n"
     ]
    },
    {
     "name": "stderr",
     "output_type": "stream",
     "text": [
      "Analyzing Similarity:  71%|███████▏  | 8450/11826 [02:38<00:46, 72.16it/s]"
     ]
    },
    {
     "name": "stdout",
     "output_type": "stream",
     "text": [
      "Moved extracted_face_IMG_4452.JPEG_1.png to TOO_SIMILAR - Similarity: 81.80%\n",
      "Moved extracted_face_IMG_4452.JPEG_4.png to TOO_SIMILAR - Similarity: 82.20%\n",
      "Moved extracted_face_IMG_4453.JPEG_0.png to TOO_SIMILAR - Similarity: 83.11%\n",
      "Moved extracted_face_IMG_4453.JPEG_3.png to TOO_SIMILAR - Similarity: 83.76%\n",
      "Moved extracted_face_IMG_4453.JPEG_4.png to TOO_SIMILAR - Similarity: 81.30%\n",
      "Moved extracted_face_IMG_4455.JPG_1.png to TOO_SIMILAR - Similarity: 81.24%\n",
      "Moved extracted_face_IMG_4457.JPEG_1.png to TOO_SIMILAR - Similarity: 83.74%\n",
      "Moved extracted_face_IMG_4457.JPEG_2.png to TOO_SIMILAR - Similarity: 82.16%\n"
     ]
    },
    {
     "name": "stderr",
     "output_type": "stream",
     "text": [
      "Analyzing Similarity:  72%|███████▏  | 8466/11826 [02:39<00:46, 72.27it/s]"
     ]
    },
    {
     "name": "stdout",
     "output_type": "stream",
     "text": [
      "Moved extracted_face_IMG_4458.JPEG_0.png to TOO_SIMILAR - Similarity: 82.42%\n",
      "Moved extracted_face_IMG_4460.JPEG_0.png to TOO_SIMILAR - Similarity: 81.01%\n",
      "Moved extracted_face_IMG_4462.JPEG_1.png to TOO_SIMILAR - Similarity: 84.12%\n",
      "Moved extracted_face_IMG_4463.JPEG_1.png to TOO_SIMILAR - Similarity: 80.95%\n",
      "Moved extracted_face_IMG_4464.JPEG_5.png to TOO_SIMILAR - Similarity: 83.82%\n"
     ]
    },
    {
     "name": "stderr",
     "output_type": "stream",
     "text": [
      "Analyzing Similarity:  72%|███████▏  | 8490/11826 [02:39<00:45, 73.84it/s]"
     ]
    },
    {
     "name": "stdout",
     "output_type": "stream",
     "text": [
      "Moved extracted_face_IMG_4466.JPEG_0.png to TOO_SIMILAR - Similarity: 83.09%\n",
      "Moved extracted_face_IMG_4467.JPEG_2.png to TOO_SIMILAR - Similarity: 84.20%\n",
      "Moved extracted_face_IMG_4472.JPEG_1.png to TOO_SIMILAR - Similarity: 81.10%\n",
      "Moved extracted_face_IMG_4480.JPEG_0.png to TOO_SIMILAR - Similarity: 86.51%\n",
      "Moved extracted_face_IMG_4481.JPEG_0.png to TOO_SIMILAR - Similarity: 85.24%\n",
      "Moved extracted_face_IMG_4481.JPEG_3.png to TOO_SIMILAR - Similarity: 83.70%\n"
     ]
    },
    {
     "name": "stderr",
     "output_type": "stream",
     "text": [
      "Analyzing Similarity:  72%|███████▏  | 8518/11826 [02:39<00:40, 81.84it/s]"
     ]
    },
    {
     "name": "stdout",
     "output_type": "stream",
     "text": [
      "Moved extracted_face_IMG_4482.JPEG_5.png to TOO_SIMILAR - Similarity: 81.30%\n",
      "Moved extracted_face_IMG_4484.JPEG_4.png to TOO_SIMILAR - Similarity: 81.64%\n"
     ]
    },
    {
     "name": "stderr",
     "output_type": "stream",
     "text": [
      "Analyzing Similarity:  72%|███████▏  | 8536/11826 [02:39<00:39, 83.06it/s]"
     ]
    },
    {
     "name": "stdout",
     "output_type": "stream",
     "text": [
      "Moved extracted_face_IMG_4502.JPEG_2.png to TOO_SIMILAR - Similarity: 86.41%\n",
      "Moved extracted_face_IMG_4503.JPEG_1.png to TOO_SIMILAR - Similarity: 86.71%\n",
      "Moved extracted_face_IMG_4503.JPEG_5.png to TOO_SIMILAR - Similarity: 81.02%\n",
      "Moved extracted_face_IMG_4504.JPEG_1.png to TOO_SIMILAR - Similarity: 84.32%\n",
      "Moved extracted_face_IMG_4504.JPEG_3.png to TOO_SIMILAR - Similarity: 80.29%\n"
     ]
    },
    {
     "name": "stderr",
     "output_type": "stream",
     "text": [
      "Analyzing Similarity:  73%|███████▎  | 8589/11826 [02:40<00:40, 79.01it/s]"
     ]
    },
    {
     "name": "stdout",
     "output_type": "stream",
     "text": [
      "Moved extracted_face_IMG_4519.JPEG_2.png to TOO_SIMILAR - Similarity: 80.60%\n",
      "Moved extracted_face_IMG_4519.JPEG_7.png to TOO_SIMILAR - Similarity: 83.38%\n",
      "Moved extracted_face_IMG_4533.JPEG_1.png to TOO_SIMILAR - Similarity: 81.64%\n"
     ]
    },
    {
     "name": "stderr",
     "output_type": "stream",
     "text": [
      "Analyzing Similarity:  73%|███████▎  | 8607/11826 [02:40<00:39, 81.15it/s]"
     ]
    },
    {
     "name": "stdout",
     "output_type": "stream",
     "text": [
      "Moved extracted_face_IMG_4555.JPG_1.png to TOO_SIMILAR - Similarity: 84.16%\n",
      "Moved extracted_face_IMG_4560.JPEG_2.png to TOO_SIMILAR - Similarity: 81.50%\n",
      "Moved extracted_face_IMG_4560.JPG_0.png to TOO_SIMILAR - Similarity: 81.42%\n",
      "Moved extracted_face_IMG_4562.JPEG_2.png to TOO_SIMILAR - Similarity: 84.38%\n",
      "Moved extracted_face_IMG_4562.JPEG_3.png to TOO_SIMILAR - Similarity: 80.95%\n",
      "Moved extracted_face_IMG_4584.JPG_5.png to TOO_SIMILAR - Similarity: 81.25%\n"
     ]
    },
    {
     "name": "stderr",
     "output_type": "stream",
     "text": [
      "Analyzing Similarity:  73%|███████▎  | 8636/11826 [02:41<00:36, 87.92it/s]"
     ]
    },
    {
     "name": "stdout",
     "output_type": "stream",
     "text": [
      "Moved extracted_face_IMG_4601.JPEG_1.png to TOO_SIMILAR - Similarity: 81.58%\n",
      "Moved extracted_face_IMG_4608.JPEG_1.png to TOO_SIMILAR - Similarity: 82.75%\n",
      "Moved extracted_face_IMG_4620.JPEG_1.png to TOO_SIMILAR - Similarity: 85.32%\n",
      "Moved extracted_face_IMG_4620.JPEG_4.png to TOO_SIMILAR - Similarity: 81.59%\n"
     ]
    },
    {
     "name": "stderr",
     "output_type": "stream",
     "text": [
      "Analyzing Similarity:  73%|███████▎  | 8654/11826 [02:41<00:37, 85.39it/s]"
     ]
    },
    {
     "name": "stdout",
     "output_type": "stream",
     "text": [
      "Moved extracted_face_IMG_4674.JPG_1.png to TOO_SIMILAR - Similarity: 80.28%\n",
      "Moved extracted_face_IMG_4675.JPEG_0.png to TOO_SIMILAR - Similarity: 83.37%\n",
      "Moved extracted_face_IMG_4676.JPEG_0.png to TOO_SIMILAR - Similarity: 81.00%\n",
      "Moved extracted_face_IMG_4680.JPEG_1.png to TOO_SIMILAR - Similarity: 80.11%\n",
      "Moved extracted_face_IMG_4696.JPEG_1.png to TOO_SIMILAR - Similarity: 87.37%\n",
      "Moved extracted_face_IMG_4697.JPEG_1.png to TOO_SIMILAR - Similarity: 87.11%\n",
      "Moved extracted_face_IMG_4701.JPG_0.png to TOO_SIMILAR - Similarity: 81.83%\n",
      "Moved extracted_face_IMG_4701.JPG_1.png to TOO_SIMILAR - Similarity: 80.23%\n",
      "Moved extracted_face_IMG_4706.JPEG_0.png to TOO_SIMILAR - Similarity: 84.74%\n"
     ]
    },
    {
     "name": "stderr",
     "output_type": "stream",
     "text": [
      "Analyzing Similarity:  73%|███████▎  | 8672/11826 [02:41<00:37, 83.95it/s]"
     ]
    },
    {
     "name": "stdout",
     "output_type": "stream",
     "text": [
      "Moved extracted_face_IMG_4711.JPEG_1.png to TOO_SIMILAR - Similarity: 85.84%\n",
      "Moved extracted_face_IMG_4711.JPEG_2.png to TOO_SIMILAR - Similarity: 82.71%\n",
      "Moved extracted_face_IMG_4731.JPG_0.png to TOO_SIMILAR - Similarity: 82.98%\n",
      "Moved extracted_face_IMG_4740.JPG_0.png to TOO_SIMILAR - Similarity: 83.83%\n",
      "Moved extracted_face_IMG_4743.JPG_0.png to TOO_SIMILAR - Similarity: 80.92%\n"
     ]
    },
    {
     "name": "stderr",
     "output_type": "stream",
     "text": [
      "Analyzing Similarity:  73%|███████▎  | 8681/11826 [02:41<00:38, 82.69it/s]"
     ]
    },
    {
     "name": "stdout",
     "output_type": "stream",
     "text": [
      "Moved extracted_face_IMG_4743.PNG_1.png to TOO_SIMILAR - Similarity: 83.04%\n",
      "Moved extracted_face_IMG_4744.JPEG_2.png to TOO_SIMILAR - Similarity: 86.70%\n",
      "Moved extracted_face_IMG_4745.JPEG_2.png to TOO_SIMILAR - Similarity: 82.73%\n",
      "Moved extracted_face_IMG_4745.JPEG_3.png to TOO_SIMILAR - Similarity: 83.49%\n",
      "Moved extracted_face_IMG_4751.JPEG_2.png to TOO_SIMILAR - Similarity: 80.15%\n",
      "Moved extracted_face_IMG_4751.JPEG_3.png to TOO_SIMILAR - Similarity: 84.10%\n",
      "Moved extracted_face_IMG_4756.JPEG_0.png to TOO_SIMILAR - Similarity: 88.59%\n"
     ]
    },
    {
     "name": "stderr",
     "output_type": "stream",
     "text": [
      "Analyzing Similarity:  74%|███████▎  | 8699/11826 [02:41<00:39, 79.18it/s]"
     ]
    },
    {
     "name": "stdout",
     "output_type": "stream",
     "text": [
      "Moved extracted_face_IMG_4756.JPEG_1.png to TOO_SIMILAR - Similarity: 84.03%\n",
      "Moved extracted_face_IMG_4757.JPEG_0.png to TOO_SIMILAR - Similarity: 84.96%\n",
      "Moved extracted_face_IMG_4757.JPEG_1.png to TOO_SIMILAR - Similarity: 83.69%\n",
      "Moved extracted_face_IMG_4757.JPEG_2.png to TOO_SIMILAR - Similarity: 84.93%\n",
      "Moved extracted_face_IMG_4763.JPEG_0.png to TOO_SIMILAR - Similarity: 87.36%\n",
      "Moved extracted_face_IMG_4775.JPG_1.png to TOO_SIMILAR - Similarity: 83.80%\n",
      "Moved extracted_face_IMG_4775.JPG_2.png to TOO_SIMILAR - Similarity: 80.88%\n",
      "Moved extracted_face_IMG_4778.JPG_0.png to TOO_SIMILAR - Similarity: 88.08%\n",
      "Moved extracted_face_IMG_4779.JPG_0.png to TOO_SIMILAR - Similarity: 82.33%\n",
      "Moved extracted_face_IMG_4779.JPG_1.png to TOO_SIMILAR - Similarity: 80.13%\n"
     ]
    },
    {
     "name": "stderr",
     "output_type": "stream",
     "text": [
      "Analyzing Similarity:  74%|███████▎  | 8715/11826 [02:42<00:40, 77.69it/s]"
     ]
    },
    {
     "name": "stdout",
     "output_type": "stream",
     "text": [
      "Moved extracted_face_IMG_4781.JPG_0.png to TOO_SIMILAR - Similarity: 80.61%\n",
      "Moved extracted_face_IMG_4781.JPG_1.png to TOO_SIMILAR - Similarity: 81.81%\n",
      "Moved extracted_face_IMG_4784.JPEG_0.png to TOO_SIMILAR - Similarity: 84.13%\n",
      "Moved extracted_face_IMG_4784.JPEG_2.png to TOO_SIMILAR - Similarity: 82.62%\n",
      "Moved extracted_face_IMG_4785.JPEG_0.png to TOO_SIMILAR - Similarity: 83.89%\n",
      "Moved extracted_face_IMG_4785.JPEG_1.png to TOO_SIMILAR - Similarity: 81.02%\n",
      "Moved extracted_face_IMG_4786.JPEG_0.png to TOO_SIMILAR - Similarity: 83.32%\n",
      "Moved extracted_face_IMG_4786.JPEG_1.png to TOO_SIMILAR - Similarity: 84.03%\n",
      "Moved extracted_face_IMG_4786.JPEG_2.png to TOO_SIMILAR - Similarity: 81.80%\n",
      "Moved extracted_face_IMG_4800.JPG_0.png to TOO_SIMILAR - Similarity: 80.30%\n",
      "Moved extracted_face_IMG_4802.JPG_2.png to TOO_SIMILAR - Similarity: 80.22%\n"
     ]
    },
    {
     "name": "stderr",
     "output_type": "stream",
     "text": [
      "Analyzing Similarity:  74%|███████▍  | 8732/11826 [02:42<00:39, 78.61it/s]"
     ]
    },
    {
     "name": "stdout",
     "output_type": "stream",
     "text": [
      "Moved extracted_face_IMG_4806.JPG_0.png to TOO_SIMILAR - Similarity: 81.84%\n",
      "Moved extracted_face_IMG_4813.JPEG_0.png to TOO_SIMILAR - Similarity: 80.04%\n",
      "Moved extracted_face_IMG_4833.JPG_0.png to TOO_SIMILAR - Similarity: 82.59%\n",
      "Moved extracted_face_IMG_4834.JPG_4.png to TOO_SIMILAR - Similarity: 80.84%\n"
     ]
    },
    {
     "name": "stderr",
     "output_type": "stream",
     "text": [
      "Analyzing Similarity:  74%|███████▍  | 8749/11826 [02:42<00:47, 64.58it/s]"
     ]
    },
    {
     "name": "stdout",
     "output_type": "stream",
     "text": [
      "Moved extracted_face_IMG_4835.JPEG_0.png to TOO_SIMILAR - Similarity: 80.76%\n",
      "Moved extracted_face_IMG_4846.JPEG_0.png to TOO_SIMILAR - Similarity: 87.52%\n"
     ]
    },
    {
     "name": "stderr",
     "output_type": "stream",
     "text": [
      "Analyzing Similarity:  74%|███████▍  | 8765/11826 [02:42<00:43, 70.37it/s]"
     ]
    },
    {
     "name": "stdout",
     "output_type": "stream",
     "text": [
      "Moved extracted_face_IMG_4846.JPEG_1.png to TOO_SIMILAR - Similarity: 81.81%\n",
      "Moved extracted_face_IMG_4847.JPEG_0.png to TOO_SIMILAR - Similarity: 80.23%\n",
      "Moved extracted_face_IMG_4847.JPEG_1.png to TOO_SIMILAR - Similarity: 87.35%\n",
      "Moved extracted_face_IMG_4849.JPG_0.png to TOO_SIMILAR - Similarity: 81.61%\n"
     ]
    },
    {
     "name": "stderr",
     "output_type": "stream",
     "text": [
      "Analyzing Similarity:  74%|███████▍  | 8781/11826 [02:43<00:41, 73.33it/s]"
     ]
    },
    {
     "name": "stdout",
     "output_type": "stream",
     "text": [
      "Moved extracted_face_IMG_4878.JPEG_2.png to TOO_SIMILAR - Similarity: 82.22%\n",
      "Moved extracted_face_IMG_4878.JPEG_3.png to TOO_SIMILAR - Similarity: 83.06%\n",
      "Moved extracted_face_IMG_4878.JPEG_4.png to TOO_SIMILAR - Similarity: 86.30%\n",
      "Moved extracted_face_IMG_4878.JPEG_5.png to TOO_SIMILAR - Similarity: 83.28%\n",
      "Moved extracted_face_IMG_4878.JPEG_6.png to TOO_SIMILAR - Similarity: 86.64%\n",
      "Moved extracted_face_IMG_4878.JPEG_7.png to TOO_SIMILAR - Similarity: 85.71%\n",
      "Moved extracted_face_IMG_4879.JPEG_1.png to TOO_SIMILAR - Similarity: 81.54%\n",
      "Moved extracted_face_IMG_4879.JPEG_2.png to TOO_SIMILAR - Similarity: 80.54%\n",
      "Moved extracted_face_IMG_4879.JPEG_5.png to TOO_SIMILAR - Similarity: 82.81%\n",
      "Moved extracted_face_IMG_4879.JPEG_7.png to TOO_SIMILAR - Similarity: 84.89%\n"
     ]
    },
    {
     "name": "stderr",
     "output_type": "stream",
     "text": [
      "Analyzing Similarity:  74%|███████▍  | 8798/11826 [02:43<00:40, 74.45it/s]"
     ]
    },
    {
     "name": "stdout",
     "output_type": "stream",
     "text": [
      "Moved extracted_face_IMG_4880.JPEG_0.png to TOO_SIMILAR - Similarity: 80.58%\n",
      "Moved extracted_face_IMG_4880.JPEG_4.png to TOO_SIMILAR - Similarity: 85.88%\n",
      "Moved extracted_face_IMG_4880.JPEG_5.png to TOO_SIMILAR - Similarity: 86.77%\n",
      "Moved extracted_face_IMG_4880.JPEG_6.png to TOO_SIMILAR - Similarity: 82.98%\n",
      "Moved extracted_face_IMG_4880.JPEG_7.png to TOO_SIMILAR - Similarity: 84.89%\n",
      "Moved extracted_face_IMG_4881.JPEG_0.png to TOO_SIMILAR - Similarity: 81.90%\n",
      "Moved extracted_face_IMG_4881.JPEG_3.png to TOO_SIMILAR - Similarity: 85.44%\n",
      "Moved extracted_face_IMG_4881.JPEG_5.png to TOO_SIMILAR - Similarity: 86.32%\n",
      "Moved extracted_face_IMG_4881.JPEG_7.png to TOO_SIMILAR - Similarity: 85.28%\n",
      "Moved extracted_face_IMG_4881.JPEG_8.png to TOO_SIMILAR - Similarity: 80.00%\n",
      "Moved extracted_face_IMG_4881.JPEG_9.png to TOO_SIMILAR - Similarity: 85.68%\n"
     ]
    },
    {
     "name": "stderr",
     "output_type": "stream",
     "text": [
      "Analyzing Similarity:  75%|███████▍  | 8814/11826 [02:43<00:40, 75.06it/s]"
     ]
    },
    {
     "name": "stdout",
     "output_type": "stream",
     "text": [
      "Moved extracted_face_IMG_4893.JPEG_0.png to TOO_SIMILAR - Similarity: 82.33%\n",
      "Moved extracted_face_IMG_4894.JPEG_1.png to TOO_SIMILAR - Similarity: 83.63%\n",
      "Moved extracted_face_IMG_4895.JPEG_2.png to TOO_SIMILAR - Similarity: 84.98%\n",
      "Moved extracted_face_IMG_4903.JPEG_1.png to TOO_SIMILAR - Similarity: 82.31%\n",
      "Moved extracted_face_IMG_4903.JPEG_2.png to TOO_SIMILAR - Similarity: 82.22%\n",
      "Moved extracted_face_IMG_4903.JPEG_3.png to TOO_SIMILAR - Similarity: 81.88%\n"
     ]
    },
    {
     "name": "stderr",
     "output_type": "stream",
     "text": [
      "Analyzing Similarity:  75%|███████▍  | 8832/11826 [02:43<00:38, 78.51it/s]"
     ]
    },
    {
     "name": "stdout",
     "output_type": "stream",
     "text": [
      "Moved extracted_face_IMG_4903.JPEG_5.png to TOO_SIMILAR - Similarity: 81.49%\n",
      "Moved extracted_face_IMG_4904.JPEG_0.png to TOO_SIMILAR - Similarity: 80.86%\n",
      "Moved extracted_face_IMG_4904.JPEG_1.png to TOO_SIMILAR - Similarity: 87.47%\n",
      "Moved extracted_face_IMG_4904.JPEG_3.png to TOO_SIMILAR - Similarity: 80.53%\n",
      "Moved extracted_face_IMG_4904.JPEG_4.png to TOO_SIMILAR - Similarity: 82.13%\n",
      "Moved extracted_face_IMG_4905.JPEG_2.png to TOO_SIMILAR - Similarity: 80.58%\n",
      "Moved extracted_face_IMG_4905.JPEG_3.png to TOO_SIMILAR - Similarity: 86.78%\n",
      "Moved extracted_face_IMG_4905.JPEG_5.png to TOO_SIMILAR - Similarity: 82.48%\n"
     ]
    },
    {
     "name": "stderr",
     "output_type": "stream",
     "text": [
      "Analyzing Similarity:  75%|███████▍  | 8848/11826 [02:43<00:40, 72.87it/s]"
     ]
    },
    {
     "name": "stdout",
     "output_type": "stream",
     "text": [
      "Moved extracted_face_IMG_4915.JPEG_0.png to TOO_SIMILAR - Similarity: 83.02%\n",
      "Moved extracted_face_IMG_4916.JPEG_0.png to TOO_SIMILAR - Similarity: 83.06%\n",
      "Moved extracted_face_IMG_4918.JPEG_2.png to TOO_SIMILAR - Similarity: 82.96%\n",
      "Moved extracted_face_IMG_4918.JPEG_3.png to TOO_SIMILAR - Similarity: 80.51%\n",
      "Moved extracted_face_IMG_4918.JPEG_4.png to TOO_SIMILAR - Similarity: 83.11%\n"
     ]
    },
    {
     "name": "stderr",
     "output_type": "stream",
     "text": [
      "Analyzing Similarity:  75%|███████▍  | 8864/11826 [02:44<00:42, 69.46it/s]"
     ]
    },
    {
     "name": "stdout",
     "output_type": "stream",
     "text": [
      "Moved extracted_face_IMG_4919.JPEG_3.png to TOO_SIMILAR - Similarity: 84.99%\n",
      "Moved extracted_face_IMG_4919.JPEG_4.png to TOO_SIMILAR - Similarity: 82.31%\n",
      "Moved extracted_face_IMG_4919.JPEG_6.png to TOO_SIMILAR - Similarity: 80.02%\n",
      "Moved extracted_face_IMG_4919.JPEG_7.png to TOO_SIMILAR - Similarity: 82.51%\n",
      "Moved extracted_face_IMG_4919.JPEG_8.png to TOO_SIMILAR - Similarity: 83.20%\n",
      "Moved extracted_face_IMG_4920.JPEG_2.png to TOO_SIMILAR - Similarity: 83.07%\n",
      "Moved extracted_face_IMG_4920.JPEG_3.png to TOO_SIMILAR - Similarity: 84.56%\n",
      "Moved extracted_face_IMG_4920.JPEG_8.png to TOO_SIMILAR - Similarity: 80.42%\n"
     ]
    },
    {
     "name": "stderr",
     "output_type": "stream",
     "text": [
      "Analyzing Similarity:  75%|███████▌  | 8888/11826 [02:44<00:47, 62.47it/s]"
     ]
    },
    {
     "name": "stdout",
     "output_type": "stream",
     "text": [
      "Moved extracted_face_IMG_4923.JPG_12.png to TOO_SIMILAR - Similarity: 85.09%\n",
      "Moved extracted_face_IMG_4923.JPG_14.png to TOO_SIMILAR - Similarity: 82.33%\n",
      "Moved extracted_face_IMG_4923.JPG_2.png to TOO_SIMILAR - Similarity: 81.24%\n",
      "Moved extracted_face_IMG_4923.JPG_3.png to TOO_SIMILAR - Similarity: 83.51%\n",
      "Moved extracted_face_IMG_4923.JPG_5.png to TOO_SIMILAR - Similarity: 80.64%\n",
      "Moved extracted_face_IMG_4923.JPG_6.png to TOO_SIMILAR - Similarity: 83.80%\n",
      "Moved extracted_face_IMG_4923.JPG_7.png to TOO_SIMILAR - Similarity: 83.78%\n",
      "Moved extracted_face_IMG_4923.JPG_9.png to TOO_SIMILAR - Similarity: 85.56%\n",
      "Moved extracted_face_IMG_4924.JPEG_0.png to TOO_SIMILAR - Similarity: 82.24%\n",
      "Moved extracted_face_IMG_4924.JPEG_1.png to TOO_SIMILAR - Similarity: 83.75%\n"
     ]
    },
    {
     "name": "stderr",
     "output_type": "stream",
     "text": [
      "Analyzing Similarity:  75%|███████▌  | 8904/11826 [02:44<00:43, 67.30it/s]"
     ]
    },
    {
     "name": "stdout",
     "output_type": "stream",
     "text": [
      "Moved extracted_face_IMG_4926.JPEG_0.png to TOO_SIMILAR - Similarity: 81.35%\n",
      "Moved extracted_face_IMG_4931.JPEG_1.png to TOO_SIMILAR - Similarity: 84.31%\n",
      "Moved extracted_face_IMG_4931.JPEG_4.png to TOO_SIMILAR - Similarity: 86.64%\n",
      "Moved extracted_face_IMG_4932.JPEG_0.png to TOO_SIMILAR - Similarity: 84.34%\n",
      "Moved extracted_face_IMG_4932.JPEG_3.png to TOO_SIMILAR - Similarity: 81.94%\n",
      "Moved extracted_face_IMG_4932.JPEG_4.png to TOO_SIMILAR - Similarity: 81.36%\n",
      "Moved extracted_face_IMG_4932.PNG_2.png to TOO_SIMILAR - Similarity: 80.48%\n"
     ]
    },
    {
     "name": "stderr",
     "output_type": "stream",
     "text": [
      "Analyzing Similarity:  75%|███████▌  | 8919/11826 [02:45<00:42, 67.98it/s]"
     ]
    },
    {
     "name": "stdout",
     "output_type": "stream",
     "text": [
      "Moved extracted_face_IMG_4932.PNG_3.png to TOO_SIMILAR - Similarity: 82.66%\n",
      "Moved extracted_face_IMG_4932.PNG_4.png to TOO_SIMILAR - Similarity: 80.87%\n",
      "Moved extracted_face_IMG_4939.JPG_1.png to TOO_SIMILAR - Similarity: 87.38%\n",
      "Moved extracted_face_IMG_4939.JPG_2.png to TOO_SIMILAR - Similarity: 88.30%\n",
      "Moved extracted_face_IMG_4939.JPG_3.png to TOO_SIMILAR - Similarity: 84.75%\n",
      "Moved extracted_face_IMG_4939.JPG_4.png to TOO_SIMILAR - Similarity: 86.14%\n",
      "Moved extracted_face_IMG_4941.JPG_1.png to TOO_SIMILAR - Similarity: 87.13%\n",
      "Moved extracted_face_IMG_4941.JPG_2.png to TOO_SIMILAR - Similarity: 87.20%\n"
     ]
    },
    {
     "name": "stderr",
     "output_type": "stream",
     "text": [
      "Analyzing Similarity:  76%|███████▌  | 8935/11826 [02:45<00:41, 69.41it/s]"
     ]
    },
    {
     "name": "stdout",
     "output_type": "stream",
     "text": [
      "Moved extracted_face_IMG_4941.JPG_3.png to TOO_SIMILAR - Similarity: 84.11%\n",
      "Moved extracted_face_IMG_4941.JPG_4.png to TOO_SIMILAR - Similarity: 89.07%\n",
      "Moved extracted_face_IMG_4941.JPG_5.png to TOO_SIMILAR - Similarity: 81.23%\n",
      "Moved extracted_face_IMG_4942.JPEG_1.png to TOO_SIMILAR - Similarity: 82.35%\n",
      "Moved extracted_face_IMG_4943.JPG_0.png to TOO_SIMILAR - Similarity: 87.29%\n",
      "Moved extracted_face_IMG_4943.JPG_2.png to TOO_SIMILAR - Similarity: 86.21%\n",
      "Moved extracted_face_IMG_4943.JPG_3.png to TOO_SIMILAR - Similarity: 81.79%\n",
      "Moved extracted_face_IMG_4943.JPG_4.png to TOO_SIMILAR - Similarity: 88.41%\n",
      "Moved extracted_face_IMG_4943.JPG_5.png to TOO_SIMILAR - Similarity: 80.05%\n",
      "Moved extracted_face_IMG_4955.JPEG_0.png to TOO_SIMILAR - Similarity: 80.93%\n"
     ]
    },
    {
     "name": "stderr",
     "output_type": "stream",
     "text": [
      "Analyzing Similarity:  76%|███████▌  | 8951/11826 [02:45<00:40, 70.70it/s]"
     ]
    },
    {
     "name": "stdout",
     "output_type": "stream",
     "text": [
      "Moved extracted_face_IMG_4971.JPEG_1.png to TOO_SIMILAR - Similarity: 82.94%\n",
      "Moved extracted_face_IMG_4972.JPEG_1.png to TOO_SIMILAR - Similarity: 84.74%\n",
      "Moved extracted_face_IMG_4973.JPEG_1.png to TOO_SIMILAR - Similarity: 84.98%\n",
      "Moved extracted_face_IMG_4983.JPEG_1.png to TOO_SIMILAR - Similarity: 82.90%\n",
      "Moved extracted_face_IMG_4983.JPEG_2.png to TOO_SIMILAR - Similarity: 80.58%\n",
      "Moved extracted_face_IMG_4986.JPEG_2.png to TOO_SIMILAR - Similarity: 86.89%\n",
      "Moved extracted_face_IMG_4986.JPEG_3.png to TOO_SIMILAR - Similarity: 82.94%\n"
     ]
    },
    {
     "name": "stderr",
     "output_type": "stream",
     "text": [
      "Analyzing Similarity:  76%|███████▌  | 8975/11826 [02:45<00:37, 75.33it/s]"
     ]
    },
    {
     "name": "stdout",
     "output_type": "stream",
     "text": [
      "Moved extracted_face_IMG_4988.JPEG_1.png to TOO_SIMILAR - Similarity: 81.50%\n",
      "Moved extracted_face_IMG_4998.JPEG_0.png to TOO_SIMILAR - Similarity: 82.22%\n",
      "Moved extracted_face_IMG_5021.JPEG_1.png to TOO_SIMILAR - Similarity: 81.12%\n",
      "Moved extracted_face_IMG_5037.JPG_0.png to TOO_SIMILAR - Similarity: 84.50%\n",
      "Moved extracted_face_IMG_5037.JPG_1.png to TOO_SIMILAR - Similarity: 81.02%\n",
      "Moved extracted_face_IMG_5038.JPG_0.png to TOO_SIMILAR - Similarity: 83.39%\n",
      "Moved extracted_face_IMG_5044.JPG_0.png to TOO_SIMILAR - Similarity: 84.08%\n"
     ]
    },
    {
     "name": "stderr",
     "output_type": "stream",
     "text": [
      "Analyzing Similarity:  76%|███████▌  | 9000/11826 [02:46<00:37, 76.07it/s]"
     ]
    },
    {
     "name": "stdout",
     "output_type": "stream",
     "text": [
      "Moved extracted_face_IMG_5115.JPEG_0.png to TOO_SIMILAR - Similarity: 80.06%\n",
      "Moved extracted_face_IMG_5120.JPG_0.png to TOO_SIMILAR - Similarity: 80.72%\n",
      "Moved extracted_face_IMG_5122.JPG_1.png to TOO_SIMILAR - Similarity: 81.47%\n",
      "Moved extracted_face_IMG_5125.JPG_0.png to TOO_SIMILAR - Similarity: 82.62%\n"
     ]
    },
    {
     "name": "stderr",
     "output_type": "stream",
     "text": [
      "Analyzing Similarity:  76%|███████▌  | 9017/11826 [02:46<00:35, 79.01it/s]"
     ]
    },
    {
     "name": "stdout",
     "output_type": "stream",
     "text": [
      "Moved extracted_face_IMG_5134.JPG_0.png to TOO_SIMILAR - Similarity: 81.91%\n",
      "Moved extracted_face_IMG_5137.JPEG_1.png to TOO_SIMILAR - Similarity: 82.44%\n"
     ]
    },
    {
     "name": "stderr",
     "output_type": "stream",
     "text": [
      "Analyzing Similarity:  76%|███████▋  | 9040/11826 [02:46<00:41, 67.03it/s]"
     ]
    },
    {
     "name": "stdout",
     "output_type": "stream",
     "text": [
      "Moved extracted_face_IMG_5148.JPG_0.png to TOO_SIMILAR - Similarity: 83.54%\n",
      "Moved extracted_face_IMG_5154.JPEG_1.png to TOO_SIMILAR - Similarity: 82.81%\n",
      "Moved extracted_face_IMG_5154.JPEG_2.png to TOO_SIMILAR - Similarity: 82.29%\n"
     ]
    },
    {
     "name": "stderr",
     "output_type": "stream",
     "text": [
      "Analyzing Similarity:  77%|███████▋  | 9056/11826 [02:46<00:38, 71.05it/s]"
     ]
    },
    {
     "name": "stdout",
     "output_type": "stream",
     "text": [
      "Moved extracted_face_IMG_5172.JPEG_2.png to TOO_SIMILAR - Similarity: 80.87%\n",
      "Moved extracted_face_IMG_5172.JPEG_3.png to TOO_SIMILAR - Similarity: 83.09%\n",
      "Moved extracted_face_IMG_5176.JPG_0.png to TOO_SIMILAR - Similarity: 84.89%\n",
      "Moved extracted_face_IMG_5178.JPG_1.png to TOO_SIMILAR - Similarity: 80.54%\n",
      "Moved extracted_face_IMG_5178.JPG_2.png to TOO_SIMILAR - Similarity: 84.20%\n",
      "Moved extracted_face_IMG_5179.JPEG_0.png to TOO_SIMILAR - Similarity: 87.15%\n",
      "Moved extracted_face_IMG_5179.JPEG_2.png to TOO_SIMILAR - Similarity: 84.15%\n"
     ]
    },
    {
     "name": "stderr",
     "output_type": "stream",
     "text": [
      "Analyzing Similarity:  77%|███████▋  | 9082/11826 [02:47<00:35, 78.02it/s]"
     ]
    },
    {
     "name": "stdout",
     "output_type": "stream",
     "text": [
      "Moved extracted_face_IMG_5207.JPEG_2.png to TOO_SIMILAR - Similarity: 81.22%\n",
      "Moved extracted_face_IMG_5208.JPG_2.png to TOO_SIMILAR - Similarity: 80.12%\n",
      "Moved extracted_face_IMG_5223.JPG_1.png to TOO_SIMILAR - Similarity: 80.81%\n",
      "Moved extracted_face_IMG_5265.JPEG_0.png to TOO_SIMILAR - Similarity: 80.06%\n",
      "Moved extracted_face_IMG_5265.JPEG_1.png to TOO_SIMILAR - Similarity: 83.57%\n",
      "Moved extracted_face_IMG_5273.JPEG_0.png to TOO_SIMILAR - Similarity: 83.99%\n"
     ]
    },
    {
     "name": "stderr",
     "output_type": "stream",
     "text": [
      "Analyzing Similarity:  77%|███████▋  | 9098/11826 [02:47<00:35, 76.27it/s]"
     ]
    },
    {
     "name": "stdout",
     "output_type": "stream",
     "text": [
      "Moved extracted_face_IMG_5345.JPG_1.png to TOO_SIMILAR - Similarity: 81.02%\n",
      "Moved extracted_face_IMG_5345.JPG_2.png to TOO_SIMILAR - Similarity: 85.36%\n",
      "Moved extracted_face_IMG_5345.JPG_3.png to TOO_SIMILAR - Similarity: 80.51%\n",
      "Moved extracted_face_IMG_5348.JPG_0.png to TOO_SIMILAR - Similarity: 82.99%\n",
      "Moved extracted_face_IMG_5348.JPG_2.png to TOO_SIMILAR - Similarity: 81.98%\n",
      "Moved extracted_face_IMG_5349.JPEG_1.png to TOO_SIMILAR - Similarity: 85.81%\n",
      "Moved extracted_face_IMG_5352.JPG_0.png to TOO_SIMILAR - Similarity: 80.96%\n",
      "Moved extracted_face_IMG_5352.JPG_1.png to TOO_SIMILAR - Similarity: 86.94%\n",
      "Moved extracted_face_IMG_5363.JPG_1.png to TOO_SIMILAR - Similarity: 84.71%\n",
      "Moved extracted_face_IMG_5363.JPG_2.png to TOO_SIMILAR - Similarity: 81.64%\n"
     ]
    },
    {
     "name": "stderr",
     "output_type": "stream",
     "text": [
      "Analyzing Similarity:  77%|███████▋  | 9106/11826 [02:47<00:35, 76.31it/s]"
     ]
    },
    {
     "name": "stdout",
     "output_type": "stream",
     "text": [
      "Moved extracted_face_IMG_5363.JPG_5.png to TOO_SIMILAR - Similarity: 85.93%\n",
      "Moved extracted_face_IMG_5366.JPG_6.png to TOO_SIMILAR - Similarity: 86.73%\n",
      "Moved extracted_face_IMG_5380.PNG_0.png to TOO_SIMILAR - Similarity: 83.47%\n",
      "Moved extracted_face_IMG_5381.PNG_0.png to TOO_SIMILAR - Similarity: 83.71%\n",
      "Moved extracted_face_IMG_5391.PNG_0.png to TOO_SIMILAR - Similarity: 84.45%\n"
     ]
    },
    {
     "name": "stderr",
     "output_type": "stream",
     "text": [
      "Analyzing Similarity:  77%|███████▋  | 9131/11826 [02:47<00:35, 76.66it/s]"
     ]
    },
    {
     "name": "stdout",
     "output_type": "stream",
     "text": [
      "Moved extracted_face_IMG_5415.JPEG_0.png to TOO_SIMILAR - Similarity: 83.37%\n",
      "Moved extracted_face_IMG_5419.PNG_0.png to TOO_SIMILAR - Similarity: 81.88%\n",
      "Moved extracted_face_IMG_5421.JPG_0.png to TOO_SIMILAR - Similarity: 82.95%\n",
      "Moved extracted_face_IMG_5421.JPG_1.png to TOO_SIMILAR - Similarity: 84.12%\n",
      "Moved extracted_face_IMG_5422.JPG_3.png to TOO_SIMILAR - Similarity: 80.33%\n",
      "Moved extracted_face_IMG_5427.JPG_0.png to TOO_SIMILAR - Similarity: 80.37%\n"
     ]
    },
    {
     "name": "stderr",
     "output_type": "stream",
     "text": [
      "Analyzing Similarity:  77%|███████▋  | 9148/11826 [02:48<00:34, 78.50it/s]"
     ]
    },
    {
     "name": "stdout",
     "output_type": "stream",
     "text": [
      "Moved extracted_face_IMG_5436.JPEG_0.png to TOO_SIMILAR - Similarity: 81.03%\n",
      "Moved extracted_face_IMG_5436.JPEG_2.png to TOO_SIMILAR - Similarity: 81.87%\n",
      "Moved extracted_face_IMG_5436.JPEG_3.png to TOO_SIMILAR - Similarity: 84.24%\n",
      "Moved extracted_face_IMG_5440.JPEG_0.png to TOO_SIMILAR - Similarity: 80.83%\n",
      "Moved extracted_face_IMG_5440.JPEG_1.png to TOO_SIMILAR - Similarity: 81.78%\n"
     ]
    },
    {
     "name": "stderr",
     "output_type": "stream",
     "text": [
      "Analyzing Similarity:  77%|███████▋  | 9157/11826 [02:48<00:33, 80.45it/s]"
     ]
    },
    {
     "name": "stdout",
     "output_type": "stream",
     "text": [
      "Moved extracted_face_IMG_5450.JPEG_2.png to TOO_SIMILAR - Similarity: 81.95%\n",
      "Moved extracted_face_IMG_5458.JPEG_0.png to TOO_SIMILAR - Similarity: 80.47%\n",
      "Moved extracted_face_IMG_5478.JPEG_1.png to TOO_SIMILAR - Similarity: 82.72%\n",
      "Moved extracted_face_IMG_5478.JPEG_2.png to TOO_SIMILAR - Similarity: 82.93%\n"
     ]
    },
    {
     "name": "stderr",
     "output_type": "stream",
     "text": [
      "Analyzing Similarity:  78%|███████▊  | 9180/11826 [02:48<00:41, 64.37it/s]"
     ]
    },
    {
     "name": "stdout",
     "output_type": "stream",
     "text": [
      "Moved extracted_face_IMG_5485.JPEG_1.png to TOO_SIMILAR - Similarity: 82.87%\n",
      "Moved extracted_face_IMG_5485.JPEG_2.png to TOO_SIMILAR - Similarity: 80.55%\n",
      "Moved extracted_face_IMG_5486.JPEG_3.png to TOO_SIMILAR - Similarity: 80.11%\n",
      "Moved extracted_face_IMG_5495.JPEG_0.png to TOO_SIMILAR - Similarity: 81.32%\n",
      "Moved extracted_face_IMG_5495.JPEG_1.png to TOO_SIMILAR - Similarity: 80.14%\n"
     ]
    },
    {
     "name": "stderr",
     "output_type": "stream",
     "text": [
      "Analyzing Similarity:  78%|███████▊  | 9203/11826 [02:48<00:36, 71.04it/s]"
     ]
    },
    {
     "name": "stdout",
     "output_type": "stream",
     "text": [
      "Moved extracted_face_IMG_5504.JPG_0.png to TOO_SIMILAR - Similarity: 82.12%\n",
      "Moved extracted_face_IMG_5504.JPG_2.png to TOO_SIMILAR - Similarity: 83.73%\n",
      "Moved extracted_face_IMG_5506.JPG_0.png to TOO_SIMILAR - Similarity: 83.43%\n",
      "Moved extracted_face_IMG_5507.JPEG_1.png to TOO_SIMILAR - Similarity: 82.16%\n",
      "Moved extracted_face_IMG_5510.JPEG_0.png to TOO_SIMILAR - Similarity: 83.09%\n",
      "Moved extracted_face_IMG_5525.JPG_0.png to TOO_SIMILAR - Similarity: 87.02%\n",
      "Moved extracted_face_IMG_5525.JPG_1.png to TOO_SIMILAR - Similarity: 80.72%\n",
      "Moved extracted_face_IMG_5525.JPG_2.png to TOO_SIMILAR - Similarity: 80.68%\n",
      "Moved extracted_face_IMG_5525.JPG_3.png to TOO_SIMILAR - Similarity: 81.11%\n"
     ]
    },
    {
     "name": "stderr",
     "output_type": "stream",
     "text": [
      "Analyzing Similarity:  78%|███████▊  | 9220/11826 [02:49<00:34, 75.25it/s]"
     ]
    },
    {
     "name": "stdout",
     "output_type": "stream",
     "text": [
      "Moved extracted_face_IMG_5529.JPG_1.png to TOO_SIMILAR - Similarity: 81.74%\n",
      "Moved extracted_face_IMG_5530.JPG_1.png to TOO_SIMILAR - Similarity: 84.85%\n",
      "Moved extracted_face_IMG_5530.JPG_2.png to TOO_SIMILAR - Similarity: 81.82%\n",
      "Moved extracted_face_IMG_5531.JPEG_0.png to TOO_SIMILAR - Similarity: 81.06%\n",
      "Moved extracted_face_IMG_5540.JPG_1.png to TOO_SIMILAR - Similarity: 83.72%\n"
     ]
    },
    {
     "name": "stderr",
     "output_type": "stream",
     "text": [
      "Analyzing Similarity:  78%|███████▊  | 9237/11826 [02:49<00:33, 78.19it/s]"
     ]
    },
    {
     "name": "stdout",
     "output_type": "stream",
     "text": [
      "Moved extracted_face_IMG_5543.JPEG_2.png to TOO_SIMILAR - Similarity: 85.82%\n",
      "Moved extracted_face_IMG_5543.JPG_5.png to TOO_SIMILAR - Similarity: 84.27%\n",
      "Moved extracted_face_IMG_5544.JPEG_0.png to TOO_SIMILAR - Similarity: 82.46%\n",
      "Moved extracted_face_IMG_5544.JPEG_1.png to TOO_SIMILAR - Similarity: 87.91%\n"
     ]
    },
    {
     "name": "stderr",
     "output_type": "stream",
     "text": [
      "Analyzing Similarity:  78%|███████▊  | 9256/11826 [02:49<00:31, 80.71it/s]"
     ]
    },
    {
     "name": "stdout",
     "output_type": "stream",
     "text": [
      "Moved extracted_face_IMG_5545.JPG_0.png to TOO_SIMILAR - Similarity: 82.25%\n",
      "Moved extracted_face_IMG_5548.JPEG_0.png to TOO_SIMILAR - Similarity: 80.14%\n",
      "Moved extracted_face_IMG_5548.JPG_1.png to TOO_SIMILAR - Similarity: 81.82%\n",
      "Moved extracted_face_IMG_5549.JPG_1.png to TOO_SIMILAR - Similarity: 80.05%\n",
      "Moved extracted_face_IMG_5550.JPG_1.png to TOO_SIMILAR - Similarity: 80.26%\n",
      "Moved extracted_face_IMG_5552.JPG_1.png to TOO_SIMILAR - Similarity: 81.32%\n",
      "Moved extracted_face_IMG_5553.JPG_0.png to TOO_SIMILAR - Similarity: 83.93%\n",
      "Moved extracted_face_IMG_5556.JPEG_2.png to TOO_SIMILAR - Similarity: 85.08%\n"
     ]
    },
    {
     "name": "stderr",
     "output_type": "stream",
     "text": [
      "Analyzing Similarity:  79%|███████▊  | 9284/11826 [02:49<00:30, 84.19it/s]"
     ]
    },
    {
     "name": "stdout",
     "output_type": "stream",
     "text": [
      "Moved extracted_face_IMG_5556.JPG_2.png to TOO_SIMILAR - Similarity: 80.79%\n",
      "Moved extracted_face_IMG_5558.JPG_4.png to TOO_SIMILAR - Similarity: 82.28%\n",
      "Moved extracted_face_IMG_5559.JPG_1.png to TOO_SIMILAR - Similarity: 83.17%\n"
     ]
    },
    {
     "name": "stderr",
     "output_type": "stream",
     "text": [
      "Analyzing Similarity:  79%|███████▊  | 9311/11826 [02:50<00:30, 82.04it/s]"
     ]
    },
    {
     "name": "stdout",
     "output_type": "stream",
     "text": [
      "Moved extracted_face_IMG_5563.JPG_0.png to TOO_SIMILAR - Similarity: 81.72%\n",
      "Moved extracted_face_IMG_5564.JPEG_0.png to TOO_SIMILAR - Similarity: 83.77%\n",
      "Moved extracted_face_IMG_5565.JPG_0.png to TOO_SIMILAR - Similarity: 84.19%\n",
      "Moved extracted_face_IMG_5566.JPEG_0.png to TOO_SIMILAR - Similarity: 83.61%\n",
      "Moved extracted_face_IMG_5566.JPEG_1.png to TOO_SIMILAR - Similarity: 86.74%\n",
      "Moved extracted_face_IMG_5567.JPEG_1.png to TOO_SIMILAR - Similarity: 84.40%\n",
      "Moved extracted_face_IMG_5568.JPEG_0.png to TOO_SIMILAR - Similarity: 81.29%\n"
     ]
    },
    {
     "name": "stderr",
     "output_type": "stream",
     "text": [
      "Analyzing Similarity:  79%|███████▉  | 9329/11826 [02:50<00:30, 82.21it/s]"
     ]
    },
    {
     "name": "stdout",
     "output_type": "stream",
     "text": [
      "Moved extracted_face_IMG_5568.JPG_1.png to TOO_SIMILAR - Similarity: 86.78%\n",
      "Moved extracted_face_IMG_5571.JPEG_1.png to TOO_SIMILAR - Similarity: 81.62%\n",
      "Moved extracted_face_IMG_5571.JPG_0.png to TOO_SIMILAR - Similarity: 83.27%\n",
      "Moved extracted_face_IMG_5571.JPG_1.png to TOO_SIMILAR - Similarity: 81.64%\n",
      "Moved extracted_face_IMG_5573.JPEG_0.png to TOO_SIMILAR - Similarity: 84.32%\n",
      "Moved extracted_face_IMG_5573.JPEG_1.png to TOO_SIMILAR - Similarity: 82.18%\n",
      "Moved extracted_face_IMG_5574.JPG_0.png to TOO_SIMILAR - Similarity: 85.80%\n"
     ]
    },
    {
     "name": "stderr",
     "output_type": "stream",
     "text": [
      "Analyzing Similarity:  79%|███████▉  | 9346/11826 [02:50<00:36, 67.85it/s]"
     ]
    },
    {
     "name": "stdout",
     "output_type": "stream",
     "text": [
      "Moved extracted_face_IMG_5575.JPG_2.png to TOO_SIMILAR - Similarity: 82.46%\n",
      "Moved extracted_face_IMG_5576.JPG_1.png to TOO_SIMILAR - Similarity: 85.47%\n",
      "Moved extracted_face_IMG_5583.JPG_2.png to TOO_SIMILAR - Similarity: 82.23%\n",
      "Moved extracted_face_IMG_5584.JPG_2.png to TOO_SIMILAR - Similarity: 84.26%\n",
      "Moved extracted_face_IMG_5585.JPG_1.png to TOO_SIMILAR - Similarity: 82.22%\n",
      "Moved extracted_face_IMG_5586.JPG_1.png to TOO_SIMILAR - Similarity: 81.07%\n"
     ]
    },
    {
     "name": "stderr",
     "output_type": "stream",
     "text": [
      "Analyzing Similarity:  79%|███████▉  | 9362/11826 [02:51<00:37, 66.57it/s]"
     ]
    },
    {
     "name": "stdout",
     "output_type": "stream",
     "text": [
      "Moved extracted_face_IMG_5586.JPG_2.png to TOO_SIMILAR - Similarity: 84.23%\n",
      "Moved extracted_face_IMG_5586.JPG_3.png to TOO_SIMILAR - Similarity: 82.36%\n",
      "Moved extracted_face_IMG_5587.JPG_0.png to TOO_SIMILAR - Similarity: 85.71%\n",
      "Moved extracted_face_IMG_5587.JPG_1.png to TOO_SIMILAR - Similarity: 82.26%\n",
      "Moved extracted_face_IMG_5587.JPG_2.png to TOO_SIMILAR - Similarity: 83.99%\n",
      "Moved extracted_face_IMG_5587.JPG_3.png to TOO_SIMILAR - Similarity: 82.20%\n",
      "Moved extracted_face_IMG_5588.JPG_0.png to TOO_SIMILAR - Similarity: 81.46%\n",
      "Moved extracted_face_IMG_5588.JPG_1.png to TOO_SIMILAR - Similarity: 85.09%\n",
      "Moved extracted_face_IMG_5588.JPG_2.png to TOO_SIMILAR - Similarity: 82.83%\n",
      "Moved extracted_face_IMG_5589.JPG_0.png to TOO_SIMILAR - Similarity: 82.27%\n"
     ]
    },
    {
     "name": "stderr",
     "output_type": "stream",
     "text": [
      "Analyzing Similarity:  79%|███████▉  | 9379/11826 [02:51<00:33, 72.07it/s]"
     ]
    },
    {
     "name": "stdout",
     "output_type": "stream",
     "text": [
      "Moved extracted_face_IMG_5590.JPG_3.png to TOO_SIMILAR - Similarity: 80.08%\n",
      "Moved extracted_face_IMG_5591.JPG_0.png to TOO_SIMILAR - Similarity: 80.47%\n",
      "Moved extracted_face_IMG_5591.JPG_2.png to TOO_SIMILAR - Similarity: 80.53%\n",
      "Moved extracted_face_IMG_5592.JPG_2.png to TOO_SIMILAR - Similarity: 80.59%\n",
      "Moved extracted_face_IMG_5593.JPG_3.png to TOO_SIMILAR - Similarity: 83.74%\n",
      "Moved extracted_face_IMG_5593.JPG_4.png to TOO_SIMILAR - Similarity: 83.80%\n",
      "Moved extracted_face_IMG_5594.JPG_1.png to TOO_SIMILAR - Similarity: 82.33%\n"
     ]
    },
    {
     "name": "stderr",
     "output_type": "stream",
     "text": [
      "Analyzing Similarity:  79%|███████▉  | 9395/11826 [02:51<00:34, 71.48it/s]"
     ]
    },
    {
     "name": "stdout",
     "output_type": "stream",
     "text": [
      "Moved extracted_face_IMG_5594.JPG_6.png to TOO_SIMILAR - Similarity: 85.14%\n",
      "Moved extracted_face_IMG_5595.JPG_1.png to TOO_SIMILAR - Similarity: 85.67%\n",
      "Moved extracted_face_IMG_5595.JPG_2.png to TOO_SIMILAR - Similarity: 82.58%\n",
      "Moved extracted_face_IMG_5595.JPG_3.png to TOO_SIMILAR - Similarity: 83.36%\n",
      "Moved extracted_face_IMG_5596.JPG_1.png to TOO_SIMILAR - Similarity: 86.27%\n",
      "Moved extracted_face_IMG_5613.JPG_1.png to TOO_SIMILAR - Similarity: 86.59%\n",
      "Moved extracted_face_IMG_5614.JPG_0.png to TOO_SIMILAR - Similarity: 86.73%\n",
      "Moved extracted_face_IMG_5622.JPEG_1.png to TOO_SIMILAR - Similarity: 83.42%\n",
      "Moved extracted_face_IMG_5634.JPEG_4.png to TOO_SIMILAR - Similarity: 82.96%\n"
     ]
    },
    {
     "name": "stderr",
     "output_type": "stream",
     "text": [
      "Analyzing Similarity:  80%|███████▉  | 9421/11826 [02:51<00:31, 77.57it/s]"
     ]
    },
    {
     "name": "stdout",
     "output_type": "stream",
     "text": [
      "Moved extracted_face_IMG_5640.JPG_3.png to TOO_SIMILAR - Similarity: 83.54%\n",
      "Moved extracted_face_IMG_5641.JPG_3.png to TOO_SIMILAR - Similarity: 81.43%\n",
      "Moved extracted_face_IMG_5642.JPG_1.png to TOO_SIMILAR - Similarity: 80.18%\n",
      "Moved extracted_face_IMG_5643.JPG_0.png to TOO_SIMILAR - Similarity: 82.54%\n",
      "Moved extracted_face_IMG_5657.JPEG_0.png to TOO_SIMILAR - Similarity: 88.49%\n"
     ]
    },
    {
     "name": "stderr",
     "output_type": "stream",
     "text": [
      "Analyzing Similarity:  80%|███████▉  | 9437/11826 [02:52<00:30, 77.30it/s]"
     ]
    },
    {
     "name": "stdout",
     "output_type": "stream",
     "text": [
      "Moved extracted_face_IMG_5658.JPG_0.png to TOO_SIMILAR - Similarity: 86.57%\n",
      "Moved extracted_face_IMG_5659.JPG_0.png to TOO_SIMILAR - Similarity: 82.01%\n",
      "Moved extracted_face_IMG_5660.JPG_0.png to TOO_SIMILAR - Similarity: 83.04%\n",
      "Moved extracted_face_IMG_5679.JPEG_0.png to TOO_SIMILAR - Similarity: 87.58%\n",
      "Moved extracted_face_IMG_5681.JPG_0.png to TOO_SIMILAR - Similarity: 80.06%\n",
      "Moved extracted_face_IMG_5691.JPEG_1.png to TOO_SIMILAR - Similarity: 81.56%\n",
      "Moved extracted_face_IMG_5691.JPEG_2.png to TOO_SIMILAR - Similarity: 80.91%\n"
     ]
    },
    {
     "name": "stderr",
     "output_type": "stream",
     "text": [
      "Analyzing Similarity:  80%|████████  | 9465/11826 [02:52<00:28, 83.80it/s]"
     ]
    },
    {
     "name": "stdout",
     "output_type": "stream",
     "text": [
      "Moved extracted_face_IMG_5828.JPG_1.png to TOO_SIMILAR - Similarity: 81.16%\n",
      "Moved extracted_face_IMG_5829.JPG_0.png to TOO_SIMILAR - Similarity: 80.15%\n",
      "Moved extracted_face_IMG_5829.JPG_1.png to TOO_SIMILAR - Similarity: 80.76%\n",
      "Moved extracted_face_IMG_5832.JPG_3.png to TOO_SIMILAR - Similarity: 83.67%\n",
      "Moved extracted_face_IMG_5832.JPG_4.png to TOO_SIMILAR - Similarity: 82.58%\n",
      "Moved extracted_face_IMG_5841.JPG_0.png to TOO_SIMILAR - Similarity: 86.44%\n",
      "Moved extracted_face_IMG_5855.JPEG_1.png to TOO_SIMILAR - Similarity: 83.85%\n",
      "Moved extracted_face_IMG_5856.JPG_0.png to TOO_SIMILAR - Similarity: 85.57%\n"
     ]
    },
    {
     "name": "stderr",
     "output_type": "stream",
     "text": [
      "Analyzing Similarity:  80%|████████  | 9474/11826 [02:52<00:29, 79.91it/s]"
     ]
    },
    {
     "name": "stdout",
     "output_type": "stream",
     "text": [
      "Moved extracted_face_IMG_5857.JPEG_0.png to TOO_SIMILAR - Similarity: 86.14%\n",
      "Moved extracted_face_IMG_5858.JPEG_0.png to TOO_SIMILAR - Similarity: 83.13%\n",
      "Moved extracted_face_IMG_5859.JPEG_1.png to TOO_SIMILAR - Similarity: 81.08%\n",
      "Moved extracted_face_IMG_5868.JPG_0.png to TOO_SIMILAR - Similarity: 84.34%\n",
      "Moved extracted_face_IMG_5869.JPG_0.png to TOO_SIMILAR - Similarity: 83.30%\n",
      "Moved extracted_face_IMG_5888.JPEG_1.png to TOO_SIMILAR - Similarity: 81.46%\n",
      "Moved extracted_face_IMG_5912.JPG_0.png to TOO_SIMILAR - Similarity: 81.15%\n"
     ]
    },
    {
     "name": "stderr",
     "output_type": "stream",
     "text": [
      "Analyzing Similarity:  80%|████████  | 9490/11826 [02:52<00:38, 60.97it/s]"
     ]
    },
    {
     "name": "stdout",
     "output_type": "stream",
     "text": [
      "Moved extracted_face_IMG_5914.JPG_1.png to TOO_SIMILAR - Similarity: 80.60%\n",
      "Moved extracted_face_IMG_5916.JPG_0.png to TOO_SIMILAR - Similarity: 81.98%\n",
      "Moved extracted_face_IMG_5919.JPG_0.png to TOO_SIMILAR - Similarity: 80.67%\n",
      "Moved extracted_face_IMG_5919.JPG_1.png to TOO_SIMILAR - Similarity: 81.90%\n",
      "Moved extracted_face_IMG_5922.JPG_1.png to TOO_SIMILAR - Similarity: 81.18%\n"
     ]
    },
    {
     "name": "stderr",
     "output_type": "stream",
     "text": [
      "Analyzing Similarity:  80%|████████  | 9515/11826 [02:53<00:32, 70.76it/s]"
     ]
    },
    {
     "name": "stdout",
     "output_type": "stream",
     "text": [
      "Moved extracted_face_IMG_6052.JPEG_1.png to TOO_SIMILAR - Similarity: 80.85%\n",
      "Moved extracted_face_IMG_6052.JPEG_2.png to TOO_SIMILAR - Similarity: 88.17%\n",
      "Moved extracted_face_IMG_6052.JPG_2.png to TOO_SIMILAR - Similarity: 85.60%\n",
      "Moved extracted_face_IMG_6060.JPG_0.png to TOO_SIMILAR - Similarity: 82.79%\n",
      "Moved extracted_face_IMG_6063.JPG_1.png to TOO_SIMILAR - Similarity: 82.52%\n",
      "Moved extracted_face_IMG_6063.JPG_4.png to TOO_SIMILAR - Similarity: 82.44%\n",
      "Moved extracted_face_IMG_6064.JPG_0.png to TOO_SIMILAR - Similarity: 80.03%\n"
     ]
    },
    {
     "name": "stderr",
     "output_type": "stream",
     "text": [
      "Analyzing Similarity:  81%|████████  | 9533/11826 [02:53<00:29, 77.93it/s]"
     ]
    },
    {
     "name": "stdout",
     "output_type": "stream",
     "text": [
      "Moved extracted_face_IMG_6107.JPG_0.png to TOO_SIMILAR - Similarity: 86.18%\n",
      "Moved extracted_face_IMG_6108.JPG_0.png to TOO_SIMILAR - Similarity: 82.61%\n",
      "Moved extracted_face_IMG_6112.JPG_0.png to TOO_SIMILAR - Similarity: 82.86%\n",
      "Moved extracted_face_IMG_6123.JPG_0.png to TOO_SIMILAR - Similarity: 81.02%\n",
      "Moved extracted_face_IMG_6130.JPG_1.png to TOO_SIMILAR - Similarity: 80.60%\n"
     ]
    },
    {
     "name": "stderr",
     "output_type": "stream",
     "text": [
      "Analyzing Similarity:  81%|████████  | 9549/11826 [02:53<00:29, 76.17it/s]"
     ]
    },
    {
     "name": "stdout",
     "output_type": "stream",
     "text": [
      "Moved extracted_face_IMG_6131.JPG_0.png to TOO_SIMILAR - Similarity: 86.43%\n",
      "Moved extracted_face_IMG_6131.JPG_2.png to TOO_SIMILAR - Similarity: 81.26%\n",
      "Moved extracted_face_IMG_6131.JPG_3.png to TOO_SIMILAR - Similarity: 83.94%\n",
      "Moved extracted_face_IMG_6134.JPG_1.png to TOO_SIMILAR - Similarity: 82.91%\n",
      "Moved extracted_face_IMG_6134.JPG_2.png to TOO_SIMILAR - Similarity: 83.15%\n"
     ]
    },
    {
     "name": "stderr",
     "output_type": "stream",
     "text": [
      "Analyzing Similarity:  81%|████████  | 9566/11826 [02:53<00:29, 77.76it/s]"
     ]
    },
    {
     "name": "stdout",
     "output_type": "stream",
     "text": [
      "Moved extracted_face_IMG_6136.JPG_0.png to TOO_SIMILAR - Similarity: 81.49%\n",
      "Moved extracted_face_IMG_6151.JPG_1.png to TOO_SIMILAR - Similarity: 80.01%\n",
      "Moved extracted_face_IMG_6152.JPG_1.png to TOO_SIMILAR - Similarity: 80.81%\n",
      "Moved extracted_face_IMG_6154.JPG_0.png to TOO_SIMILAR - Similarity: 80.17%\n",
      "Moved extracted_face_IMG_6158.JPG_0.png to TOO_SIMILAR - Similarity: 83.25%\n"
     ]
    },
    {
     "name": "stderr",
     "output_type": "stream",
     "text": [
      "Analyzing Similarity:  81%|████████  | 9583/11826 [02:53<00:28, 77.85it/s]"
     ]
    },
    {
     "name": "stdout",
     "output_type": "stream",
     "text": [
      "Moved extracted_face_IMG_6170.JPEG_2.png to TOO_SIMILAR - Similarity: 80.06%\n",
      "Moved extracted_face_IMG_6185.JPG_0.png to TOO_SIMILAR - Similarity: 81.92%\n",
      "Moved extracted_face_IMG_6190.JPG_0.png to TOO_SIMILAR - Similarity: 81.99%\n",
      "Moved extracted_face_IMG_6190.JPG_1.png to TOO_SIMILAR - Similarity: 81.31%\n",
      "Moved extracted_face_IMG_6194.JPG_0.png to TOO_SIMILAR - Similarity: 80.58%\n",
      "Moved extracted_face_IMG_6194.JPG_2.png to TOO_SIMILAR - Similarity: 81.59%\n",
      "Moved extracted_face_IMG_6258.JPEG_1.png to TOO_SIMILAR - Similarity: 81.34%\n",
      "Moved extracted_face_IMG_6264.JPG_0.png to TOO_SIMILAR - Similarity: 83.01%\n"
     ]
    },
    {
     "name": "stderr",
     "output_type": "stream",
     "text": [
      "Analyzing Similarity:  81%|████████  | 9599/11826 [02:54<00:30, 72.69it/s]"
     ]
    },
    {
     "name": "stdout",
     "output_type": "stream",
     "text": [
      "Moved extracted_face_IMG_6273.JPEG_1.png to TOO_SIMILAR - Similarity: 88.15%\n",
      "Moved extracted_face_IMG_6273.JPEG_3.png to TOO_SIMILAR - Similarity: 81.22%\n",
      "Moved extracted_face_IMG_6273.JPEG_5.png to TOO_SIMILAR - Similarity: 89.37%\n",
      "Moved extracted_face_IMG_6273.JPEG_6.png to TOO_SIMILAR - Similarity: 81.02%\n",
      "Moved extracted_face_IMG_6274.JPEG_1.png to TOO_SIMILAR - Similarity: 88.89%\n",
      "Moved extracted_face_IMG_6274.JPEG_2.png to TOO_SIMILAR - Similarity: 80.64%\n",
      "Moved extracted_face_IMG_6274.JPEG_4.png to TOO_SIMILAR - Similarity: 85.87%\n",
      "Moved extracted_face_IMG_6274.JPEG_5.png to TOO_SIMILAR - Similarity: 82.36%\n"
     ]
    },
    {
     "name": "stderr",
     "output_type": "stream",
     "text": [
      "Analyzing Similarity:  81%|████████▏ | 9615/11826 [02:54<00:37, 59.22it/s]"
     ]
    },
    {
     "name": "stdout",
     "output_type": "stream",
     "text": [
      "Moved extracted_face_IMG_6275.JPEG_1.png to TOO_SIMILAR - Similarity: 81.52%\n",
      "Moved extracted_face_IMG_6275.JPEG_2.png to TOO_SIMILAR - Similarity: 84.28%\n",
      "Moved extracted_face_IMG_6275.JPEG_4.png to TOO_SIMILAR - Similarity: 87.74%\n"
     ]
    },
    {
     "name": "stderr",
     "output_type": "stream",
     "text": [
      "Analyzing Similarity:  81%|████████▏ | 9630/11826 [02:54<00:34, 63.32it/s]"
     ]
    },
    {
     "name": "stdout",
     "output_type": "stream",
     "text": [
      "Moved extracted_face_IMG_6287.JPEG_0.png to TOO_SIMILAR - Similarity: 85.64%\n",
      "Moved extracted_face_IMG_6287.JPEG_2.png to TOO_SIMILAR - Similarity: 83.68%\n",
      "Moved extracted_face_IMG_6287.JPEG_3.png to TOO_SIMILAR - Similarity: 80.12%\n",
      "Moved extracted_face_IMG_6287.JPEG_4.png to TOO_SIMILAR - Similarity: 86.58%\n",
      "Moved extracted_face_IMG_6288.JPEG_1.png to TOO_SIMILAR - Similarity: 86.52%\n",
      "Moved extracted_face_IMG_6288.JPEG_2.png to TOO_SIMILAR - Similarity: 85.08%\n",
      "Moved extracted_face_IMG_6288.JPEG_3.png to TOO_SIMILAR - Similarity: 83.73%\n",
      "Moved extracted_face_IMG_6288.JPEG_4.png to TOO_SIMILAR - Similarity: 82.02%\n",
      "Moved extracted_face_IMG_6289.JPEG_0.png to TOO_SIMILAR - Similarity: 83.68%\n",
      "Moved extracted_face_IMG_6289.JPEG_1.png to TOO_SIMILAR - Similarity: 87.14%\n",
      "Moved extracted_face_IMG_6289.JPEG_2.png to TOO_SIMILAR - Similarity: 83.68%\n"
     ]
    },
    {
     "name": "stderr",
     "output_type": "stream",
     "text": [
      "Analyzing Similarity:  82%|████████▏ | 9644/11826 [02:54<00:33, 65.09it/s]"
     ]
    },
    {
     "name": "stdout",
     "output_type": "stream",
     "text": [
      "Moved extracted_face_IMG_6289.JPEG_4.png to TOO_SIMILAR - Similarity: 85.91%\n",
      "Moved extracted_face_IMG_6289.JPEG_5.png to TOO_SIMILAR - Similarity: 86.73%\n",
      "Moved extracted_face_IMG_6312.JPEG_0.png to TOO_SIMILAR - Similarity: 80.53%\n",
      "Moved extracted_face_IMG_6335.JPEG_1.png to TOO_SIMILAR - Similarity: 81.38%\n",
      "Moved extracted_face_IMG_6342.JPEG_0.png to TOO_SIMILAR - Similarity: 83.51%\n"
     ]
    },
    {
     "name": "stderr",
     "output_type": "stream",
     "text": [
      "Analyzing Similarity:  82%|████████▏ | 9659/11826 [02:55<00:32, 66.81it/s]"
     ]
    },
    {
     "name": "stdout",
     "output_type": "stream",
     "text": [
      "Moved extracted_face_IMG_6368.JPG_0.png to TOO_SIMILAR - Similarity: 81.08%\n",
      "Moved extracted_face_IMG_6371.JPG_1.png to TOO_SIMILAR - Similarity: 83.34%\n",
      "Moved extracted_face_IMG_6375.JPG_0.png to TOO_SIMILAR - Similarity: 84.32%\n",
      "Moved extracted_face_IMG_6380.JPEG_2.png to TOO_SIMILAR - Similarity: 82.36%\n",
      "Moved extracted_face_IMG_6380.JPEG_3.png to TOO_SIMILAR - Similarity: 82.40%\n",
      "Moved extracted_face_IMG_6415.JPEG_1.png to TOO_SIMILAR - Similarity: 82.44%\n",
      "Moved extracted_face_IMG_6480.JPG_0.png to TOO_SIMILAR - Similarity: 81.08%\n"
     ]
    },
    {
     "name": "stderr",
     "output_type": "stream",
     "text": [
      "Analyzing Similarity:  82%|████████▏ | 9691/11826 [02:55<00:28, 74.94it/s]"
     ]
    },
    {
     "name": "stdout",
     "output_type": "stream",
     "text": [
      "Moved extracted_face_IMG_6644.JPEG_2.png to TOO_SIMILAR - Similarity: 81.03%\n",
      "Moved extracted_face_IMG_6645.JPEG_4.png to TOO_SIMILAR - Similarity: 83.53%\n",
      "Moved extracted_face_IMG_6645.JPEG_5.png to TOO_SIMILAR - Similarity: 81.37%\n",
      "Moved extracted_face_IMG_6646.JPEG_1.png to TOO_SIMILAR - Similarity: 84.14%\n",
      "Moved extracted_face_IMG_6646.JPEG_2.png to TOO_SIMILAR - Similarity: 80.02%\n",
      "Moved extracted_face_IMG_6647.JPEG_1.png to TOO_SIMILAR - Similarity: 83.04%\n",
      "Moved extracted_face_IMG_6647.JPEG_3.png to TOO_SIMILAR - Similarity: 80.22%\n",
      "Moved extracted_face_IMG_6695.JPEG_1.png to TOO_SIMILAR - Similarity: 85.19%\n"
     ]
    },
    {
     "name": "stderr",
     "output_type": "stream",
     "text": [
      "Analyzing Similarity:  82%|████████▏ | 9707/11826 [02:55<00:29, 72.01it/s]"
     ]
    },
    {
     "name": "stdout",
     "output_type": "stream",
     "text": [
      "Moved extracted_face_IMG_6696.JPEG_1.png to TOO_SIMILAR - Similarity: 85.43%\n",
      "Moved extracted_face_IMG_6697.JPEG_0.png to TOO_SIMILAR - Similarity: 83.89%\n",
      "Moved extracted_face_IMG_6697.JPEG_1.png to TOO_SIMILAR - Similarity: 81.75%\n",
      "Moved extracted_face_IMG_6737.JPEG_0.png to TOO_SIMILAR - Similarity: 83.35%\n",
      "Moved extracted_face_IMG_6737.JPEG_1.png to TOO_SIMILAR - Similarity: 81.07%\n",
      "Moved extracted_face_IMG_6740.JPEG_1.png to TOO_SIMILAR - Similarity: 83.09%\n"
     ]
    },
    {
     "name": "stderr",
     "output_type": "stream",
     "text": [
      "Analyzing Similarity:  82%|████████▏ | 9733/11826 [02:56<00:26, 78.50it/s]"
     ]
    },
    {
     "name": "stdout",
     "output_type": "stream",
     "text": [
      "Moved extracted_face_IMG_6761.JPEG_1.png to TOO_SIMILAR - Similarity: 81.34%\n",
      "Moved extracted_face_IMG_6763.JPEG_1.png to TOO_SIMILAR - Similarity: 84.25%\n",
      "Moved extracted_face_IMG_6770.JPEG_1.png to TOO_SIMILAR - Similarity: 83.09%\n",
      "Moved extracted_face_IMG_6770.JPEG_2.png to TOO_SIMILAR - Similarity: 82.86%\n",
      "Moved extracted_face_IMG_6772.JPEG_2.png to TOO_SIMILAR - Similarity: 80.30%\n",
      "Moved extracted_face_IMG_6772.JPEG_3.png to TOO_SIMILAR - Similarity: 81.35%\n",
      "Moved extracted_face_IMG_6774.JPEG_0.png to TOO_SIMILAR - Similarity: 82.52%\n"
     ]
    },
    {
     "name": "stderr",
     "output_type": "stream",
     "text": [
      "Analyzing Similarity:  82%|████████▏ | 9750/11826 [02:56<00:25, 81.55it/s]"
     ]
    },
    {
     "name": "stdout",
     "output_type": "stream",
     "text": [
      "Moved extracted_face_IMG_6775.JPEG_1.png to TOO_SIMILAR - Similarity: 88.62%\n",
      "Moved extracted_face_IMG_6775.JPEG_3.png to TOO_SIMILAR - Similarity: 82.96%\n",
      "Moved extracted_face_IMG_6788.JPEG_1.png to TOO_SIMILAR - Similarity: 85.86%\n",
      "Moved extracted_face_IMG_6788.JPEG_2.png to TOO_SIMILAR - Similarity: 80.96%\n",
      "Moved extracted_face_IMG_6788.JPEG_4.png to TOO_SIMILAR - Similarity: 81.54%\n",
      "Moved extracted_face_IMG_6797.JPEG_2.png to TOO_SIMILAR - Similarity: 82.88%\n"
     ]
    },
    {
     "name": "stderr",
     "output_type": "stream",
     "text": [
      "Analyzing Similarity:  83%|████████▎ | 9768/11826 [02:56<00:32, 62.44it/s]"
     ]
    },
    {
     "name": "stdout",
     "output_type": "stream",
     "text": [
      "Moved extracted_face_IMG_6801.JPEG_3.png to TOO_SIMILAR - Similarity: 86.12%\n",
      "Moved extracted_face_IMG_6803.JPEG_2.png to TOO_SIMILAR - Similarity: 80.60%\n",
      "Moved extracted_face_IMG_6807.JPEG_0.png to TOO_SIMILAR - Similarity: 83.92%\n",
      "Moved extracted_face_IMG_6808.JPEG_0.png to TOO_SIMILAR - Similarity: 85.27%\n",
      "Moved extracted_face_IMG_6808.JPEG_2.png to TOO_SIMILAR - Similarity: 85.33%\n",
      "Moved extracted_face_IMG_6808.JPEG_3.png to TOO_SIMILAR - Similarity: 82.47%\n",
      "Moved extracted_face_IMG_6808.JPEG_4.png to TOO_SIMILAR - Similarity: 82.12%\n",
      "Moved extracted_face_IMG_6808.JPEG_5.png to TOO_SIMILAR - Similarity: 80.26%\n",
      "Moved extracted_face_IMG_6809.JPEG_1.png to TOO_SIMILAR - Similarity: 83.17%\n"
     ]
    },
    {
     "name": "stderr",
     "output_type": "stream",
     "text": [
      "Analyzing Similarity:  83%|████████▎ | 9784/11826 [02:56<00:31, 65.81it/s]"
     ]
    },
    {
     "name": "stdout",
     "output_type": "stream",
     "text": [
      "Moved extracted_face_IMG_6809.JPEG_2.png to TOO_SIMILAR - Similarity: 81.86%\n",
      "Moved extracted_face_IMG_6809.JPEG_3.png to TOO_SIMILAR - Similarity: 84.31%\n",
      "Moved extracted_face_IMG_6810.JPEG_2.png to TOO_SIMILAR - Similarity: 84.89%\n",
      "Moved extracted_face_IMG_6810.JPEG_3.png to TOO_SIMILAR - Similarity: 83.81%\n",
      "Moved extracted_face_IMG_6811.JPEG_0.png to TOO_SIMILAR - Similarity: 81.61%\n",
      "Moved extracted_face_IMG_6811.JPEG_1.png to TOO_SIMILAR - Similarity: 80.34%\n",
      "Moved extracted_face_IMG_6811.JPEG_3.png to TOO_SIMILAR - Similarity: 83.68%\n",
      "Moved extracted_face_IMG_6812.JPEG_2.png to TOO_SIMILAR - Similarity: 85.83%\n",
      "Moved extracted_face_IMG_6815.JPEG_0.png to TOO_SIMILAR - Similarity: 82.79%\n",
      "Moved extracted_face_IMG_6815.JPEG_1.png to TOO_SIMILAR - Similarity: 83.26%\n"
     ]
    },
    {
     "name": "stderr",
     "output_type": "stream",
     "text": [
      "Analyzing Similarity:  83%|████████▎ | 9800/11826 [02:57<00:29, 68.24it/s]"
     ]
    },
    {
     "name": "stdout",
     "output_type": "stream",
     "text": [
      "Moved extracted_face_IMG_6817.JPEG_0.png to TOO_SIMILAR - Similarity: 85.75%\n",
      "Moved extracted_face_IMG_6819.JPEG_1.png to TOO_SIMILAR - Similarity: 82.28%\n",
      "Moved extracted_face_IMG_6823.JPEG_0.png to TOO_SIMILAR - Similarity: 80.67%\n",
      "Moved extracted_face_IMG_6828.JPEG_0.png to TOO_SIMILAR - Similarity: 80.44%\n"
     ]
    },
    {
     "name": "stderr",
     "output_type": "stream",
     "text": [
      "Analyzing Similarity:  83%|████████▎ | 9816/11826 [02:57<00:29, 67.54it/s]"
     ]
    },
    {
     "name": "stdout",
     "output_type": "stream",
     "text": [
      "Moved extracted_face_IMG_6830.JPEG_2.png to TOO_SIMILAR - Similarity: 82.35%\n",
      "Moved extracted_face_IMG_6830.JPEG_3.png to TOO_SIMILAR - Similarity: 81.36%\n",
      "Moved extracted_face_IMG_6836.JPEG_1.png to TOO_SIMILAR - Similarity: 86.83%\n",
      "Moved extracted_face_IMG_6836.JPEG_2.png to TOO_SIMILAR - Similarity: 84.61%\n",
      "Moved extracted_face_IMG_6838.JPEG_0.png to TOO_SIMILAR - Similarity: 82.96%\n",
      "Moved extracted_face_IMG_6841.JPEG_0.png to TOO_SIMILAR - Similarity: 83.10%\n"
     ]
    },
    {
     "name": "stderr",
     "output_type": "stream",
     "text": [
      "Analyzing Similarity:  83%|████████▎ | 9831/11826 [02:57<00:29, 67.73it/s]"
     ]
    },
    {
     "name": "stdout",
     "output_type": "stream",
     "text": [
      "Moved extracted_face_IMG_6861.JPEG_1.png to TOO_SIMILAR - Similarity: 80.53%\n",
      "Moved extracted_face_IMG_6861.JPEG_2.png to TOO_SIMILAR - Similarity: 84.08%\n",
      "Moved extracted_face_IMG_6880.JPG_0.png to TOO_SIMILAR - Similarity: 80.26%\n",
      "Moved extracted_face_IMG_6880.JPG_1.png to TOO_SIMILAR - Similarity: 84.37%\n",
      "Moved extracted_face_IMG_6881.JPEG_1.png to TOO_SIMILAR - Similarity: 80.21%\n",
      "Moved extracted_face_IMG_6889.JPEG_1.png to TOO_SIMILAR - Similarity: 82.14%\n"
     ]
    },
    {
     "name": "stderr",
     "output_type": "stream",
     "text": [
      "Analyzing Similarity:  83%|████████▎ | 9857/11826 [02:57<00:25, 76.17it/s]"
     ]
    },
    {
     "name": "stdout",
     "output_type": "stream",
     "text": [
      "Moved extracted_face_IMG_6900.JPEG_2.png to TOO_SIMILAR - Similarity: 82.28%\n",
      "Moved extracted_face_IMG_6903.JPEG_2.png to TOO_SIMILAR - Similarity: 80.44%\n",
      "Moved extracted_face_IMG_6906.JPEG_4.png to TOO_SIMILAR - Similarity: 82.69%\n",
      "Moved extracted_face_IMG_6907.JPEG_2.png to TOO_SIMILAR - Similarity: 81.36%\n"
     ]
    },
    {
     "name": "stderr",
     "output_type": "stream",
     "text": [
      "Analyzing Similarity:  84%|████████▎ | 9883/11826 [02:58<00:24, 78.15it/s]"
     ]
    },
    {
     "name": "stdout",
     "output_type": "stream",
     "text": [
      "Moved extracted_face_IMG_6910.JPEG_0.png to TOO_SIMILAR - Similarity: 80.72%\n",
      "Moved extracted_face_IMG_6910.JPEG_3.png to TOO_SIMILAR - Similarity: 84.47%\n",
      "Moved extracted_face_IMG_6918.JPEG_0.png to TOO_SIMILAR - Similarity: 82.36%\n",
      "Moved extracted_face_IMG_6919.JPEG_0.png to TOO_SIMILAR - Similarity: 80.40%\n",
      "Moved extracted_face_IMG_6926.JPEG_2.png to TOO_SIMILAR - Similarity: 83.08%\n"
     ]
    },
    {
     "name": "stderr",
     "output_type": "stream",
     "text": [
      "Analyzing Similarity:  84%|████████▎ | 9901/11826 [02:58<00:24, 79.27it/s]"
     ]
    },
    {
     "name": "stdout",
     "output_type": "stream",
     "text": [
      "Moved extracted_face_IMG_6927.JPEG_1.png to TOO_SIMILAR - Similarity: 82.96%\n",
      "Moved extracted_face_IMG_6927.JPEG_3.png to TOO_SIMILAR - Similarity: 80.61%\n",
      "Moved extracted_face_IMG_6928.JPEG_0.png to TOO_SIMILAR - Similarity: 81.86%\n",
      "Moved extracted_face_IMG_6930.JPEG_2.png to TOO_SIMILAR - Similarity: 85.18%\n",
      "Moved extracted_face_IMG_6938.JPEG_0.png to TOO_SIMILAR - Similarity: 88.62%\n"
     ]
    },
    {
     "name": "stderr",
     "output_type": "stream",
     "text": [
      "Analyzing Similarity:  84%|████████▍ | 9928/11826 [02:58<00:22, 82.77it/s]"
     ]
    },
    {
     "name": "stdout",
     "output_type": "stream",
     "text": [
      "Moved extracted_face_IMG_6939.JPEG_4.png to TOO_SIMILAR - Similarity: 82.16%\n",
      "Moved extracted_face_IMG_6941.JPEG_0.png to TOO_SIMILAR - Similarity: 83.46%\n",
      "Moved extracted_face_IMG_6941.JPEG_1.png to TOO_SIMILAR - Similarity: 85.72%\n",
      "Moved extracted_face_IMG_6942.JPEG_0.png to TOO_SIMILAR - Similarity: 81.26%\n",
      "Moved extracted_face_IMG_6942.JPEG_1.png to TOO_SIMILAR - Similarity: 82.37%\n",
      "Moved extracted_face_IMG_6943.JPEG_3.png to TOO_SIMILAR - Similarity: 80.49%\n"
     ]
    },
    {
     "name": "stderr",
     "output_type": "stream",
     "text": [
      "Analyzing Similarity:  84%|████████▍ | 9946/11826 [02:58<00:22, 83.14it/s]"
     ]
    },
    {
     "name": "stdout",
     "output_type": "stream",
     "text": [
      "Moved extracted_face_IMG_6949.JPEG_0.png to TOO_SIMILAR - Similarity: 81.34%\n",
      "Moved extracted_face_IMG_6950.JPEG_0.png to TOO_SIMILAR - Similarity: 83.98%\n",
      "Moved extracted_face_IMG_6951.JPEG_0.png to TOO_SIMILAR - Similarity: 82.21%\n"
     ]
    },
    {
     "name": "stderr",
     "output_type": "stream",
     "text": [
      "Analyzing Similarity:  84%|████████▍ | 9964/11826 [02:59<00:22, 84.08it/s]"
     ]
    },
    {
     "name": "stdout",
     "output_type": "stream",
     "text": [
      "Moved extracted_face_IMG_6961.JPG_0.png to TOO_SIMILAR - Similarity: 82.03%\n",
      "Moved extracted_face_IMG_6966.JPEG_1.png to TOO_SIMILAR - Similarity: 82.30%\n",
      "Moved extracted_face_IMG_6970.JPEG_2.png to TOO_SIMILAR - Similarity: 84.46%\n",
      "Moved extracted_face_IMG_6971.JPEG_1.png to TOO_SIMILAR - Similarity: 83.41%\n",
      "Moved extracted_face_IMG_6973.JPEG_0.png to TOO_SIMILAR - Similarity: 81.12%\n"
     ]
    },
    {
     "name": "stderr",
     "output_type": "stream",
     "text": [
      "Analyzing Similarity:  84%|████████▍ | 9983/11826 [02:59<00:21, 86.20it/s]"
     ]
    },
    {
     "name": "stdout",
     "output_type": "stream",
     "text": [
      "Moved extracted_face_IMG_6973.JPEG_3.png to TOO_SIMILAR - Similarity: 81.54%\n"
     ]
    },
    {
     "name": "stderr",
     "output_type": "stream",
     "text": [
      "Analyzing Similarity:  85%|████████▍ | 10001/11826 [02:59<00:22, 81.66it/s]"
     ]
    },
    {
     "name": "stdout",
     "output_type": "stream",
     "text": [
      "Moved extracted_face_IMG_6981.JPEG_0.png to TOO_SIMILAR - Similarity: 84.00%\n",
      "Moved extracted_face_IMG_6981.JPEG_10.png to TOO_SIMILAR - Similarity: 84.85%\n",
      "Moved extracted_face_IMG_6981.JPEG_2.png to TOO_SIMILAR - Similarity: 80.58%\n",
      "Moved extracted_face_IMG_6981.JPEG_5.png to TOO_SIMILAR - Similarity: 81.45%\n",
      "Moved extracted_face_IMG_6981.JPEG_6.png to TOO_SIMILAR - Similarity: 80.74%\n",
      "Moved extracted_face_IMG_6982.JPEG_0.png to TOO_SIMILAR - Similarity: 81.18%\n",
      "Moved extracted_face_IMG_6982.JPEG_10.png to TOO_SIMILAR - Similarity: 85.33%\n",
      "Moved extracted_face_IMG_6982.JPEG_11.png to TOO_SIMILAR - Similarity: 84.72%\n",
      "Moved extracted_face_IMG_6982.JPEG_2.png to TOO_SIMILAR - Similarity: 81.38%\n"
     ]
    },
    {
     "name": "stderr",
     "output_type": "stream",
     "text": [
      "Analyzing Similarity:  85%|████████▍ | 10010/11826 [02:59<00:22, 81.44it/s]"
     ]
    },
    {
     "name": "stdout",
     "output_type": "stream",
     "text": [
      "Moved extracted_face_IMG_6982.JPEG_4.png to TOO_SIMILAR - Similarity: 82.46%\n",
      "Moved extracted_face_IMG_6982.JPEG_6.png to TOO_SIMILAR - Similarity: 81.03%\n",
      "Moved extracted_face_IMG_6983.JPEG_0.png to TOO_SIMILAR - Similarity: 81.49%\n",
      "Moved extracted_face_IMG_6983.JPEG_3.png to TOO_SIMILAR - Similarity: 84.30%\n"
     ]
    },
    {
     "name": "stderr",
     "output_type": "stream",
     "text": [
      "Analyzing Similarity:  85%|████████▍ | 10027/11826 [03:00<00:26, 67.51it/s]"
     ]
    },
    {
     "name": "stdout",
     "output_type": "stream",
     "text": [
      "Moved extracted_face_IMG_6983.JPEG_6.png to TOO_SIMILAR - Similarity: 81.51%\n",
      "Moved extracted_face_IMG_6983.JPEG_8.png to TOO_SIMILAR - Similarity: 86.14%\n"
     ]
    },
    {
     "name": "stderr",
     "output_type": "stream",
     "text": [
      "Analyzing Similarity:  85%|████████▌ | 10053/11826 [03:00<00:23, 75.59it/s]"
     ]
    },
    {
     "name": "stdout",
     "output_type": "stream",
     "text": [
      "Moved extracted_face_IMG_6990.JPEG_8.png to TOO_SIMILAR - Similarity: 80.48%\n",
      "Moved extracted_face_IMG_6992.JPEG_0.png to TOO_SIMILAR - Similarity: 84.37%\n",
      "Moved extracted_face_IMG_6994.JPEG_1.png to TOO_SIMILAR - Similarity: 83.33%\n",
      "Moved extracted_face_IMG_6997.JPEG_3.png to TOO_SIMILAR - Similarity: 82.51%\n",
      "Moved extracted_face_IMG_6998.JPEG_1.png to TOO_SIMILAR - Similarity: 81.01%\n"
     ]
    },
    {
     "name": "stderr",
     "output_type": "stream",
     "text": [
      "Analyzing Similarity:  85%|████████▌ | 10070/11826 [03:00<00:22, 77.52it/s]"
     ]
    },
    {
     "name": "stdout",
     "output_type": "stream",
     "text": [
      "Moved extracted_face_IMG_6999.JPEG_3.png to TOO_SIMILAR - Similarity: 81.13%\n",
      "Moved extracted_face_IMG_7001.JPEG_1.png to TOO_SIMILAR - Similarity: 80.74%\n",
      "Moved extracted_face_IMG_7001.JPEG_4.png to TOO_SIMILAR - Similarity: 84.39%\n",
      "Moved extracted_face_IMG_7002.JPEG_0.png to TOO_SIMILAR - Similarity: 82.44%\n"
     ]
    },
    {
     "name": "stderr",
     "output_type": "stream",
     "text": [
      "Analyzing Similarity:  85%|████████▌ | 10088/11826 [03:00<00:21, 79.96it/s]"
     ]
    },
    {
     "name": "stdout",
     "output_type": "stream",
     "text": [
      "Moved extracted_face_IMG_7002.JPEG_4.png to TOO_SIMILAR - Similarity: 81.38%\n",
      "Moved extracted_face_IMG_7003.JPEG_0.png to TOO_SIMILAR - Similarity: 81.60%\n",
      "Moved extracted_face_IMG_7003.JPEG_1.png to TOO_SIMILAR - Similarity: 81.18%\n",
      "Moved extracted_face_IMG_7003.JPEG_2.png to TOO_SIMILAR - Similarity: 84.81%\n",
      "Moved extracted_face_IMG_7004.JPEG_0.png to TOO_SIMILAR - Similarity: 80.98%\n",
      "Moved extracted_face_IMG_7004.JPEG_1.png to TOO_SIMILAR - Similarity: 80.67%\n",
      "Moved extracted_face_IMG_7004.JPEG_5.png to TOO_SIMILAR - Similarity: 80.95%\n"
     ]
    },
    {
     "name": "stderr",
     "output_type": "stream",
     "text": [
      "Analyzing Similarity:  85%|████████▌ | 10106/11826 [03:01<00:21, 80.94it/s]"
     ]
    },
    {
     "name": "stdout",
     "output_type": "stream",
     "text": [
      "Moved extracted_face_IMG_7004.JPEG_6.png to TOO_SIMILAR - Similarity: 82.19%\n",
      "Moved extracted_face_IMG_7004.JPEG_7.png to TOO_SIMILAR - Similarity: 81.10%\n",
      "Moved extracted_face_IMG_7005.JPEG_0.png to TOO_SIMILAR - Similarity: 83.64%\n",
      "Moved extracted_face_IMG_7005.JPEG_1.png to TOO_SIMILAR - Similarity: 81.21%\n",
      "Moved extracted_face_IMG_7104.JPEG_1.png to TOO_SIMILAR - Similarity: 80.84%\n"
     ]
    },
    {
     "name": "stderr",
     "output_type": "stream",
     "text": [
      "Analyzing Similarity:  86%|████████▌ | 10123/11826 [03:01<00:21, 77.63it/s]"
     ]
    },
    {
     "name": "stdout",
     "output_type": "stream",
     "text": [
      "Moved extracted_face_IMG_7185.JPG_1.png to TOO_SIMILAR - Similarity: 80.07%\n",
      "Moved extracted_face_IMG_7186.JPG_0.png to TOO_SIMILAR - Similarity: 81.38%\n",
      "Moved extracted_face_IMG_7187.JPG_0.png to TOO_SIMILAR - Similarity: 84.56%\n",
      "Moved extracted_face_IMG_7188.JPG_0.png to TOO_SIMILAR - Similarity: 82.82%\n",
      "Moved extracted_face_IMG_7189.JPG_1.png to TOO_SIMILAR - Similarity: 84.84%\n",
      "Moved extracted_face_IMG_7191.PNG_0.png to TOO_SIMILAR - Similarity: 83.42%\n",
      "Moved extracted_face_IMG_7200.JPG_0.png to TOO_SIMILAR - Similarity: 80.11%\n",
      "Moved extracted_face_IMG_7204.JPG_0.png to TOO_SIMILAR - Similarity: 81.25%\n",
      "Moved extracted_face_IMG_7211.JPG_0.png to TOO_SIMILAR - Similarity: 86.22%\n",
      "Moved extracted_face_IMG_7214.JPG_0.png to TOO_SIMILAR - Similarity: 83.36%\n"
     ]
    },
    {
     "name": "stderr",
     "output_type": "stream",
     "text": [
      "Analyzing Similarity:  86%|████████▌ | 10131/11826 [03:01<00:21, 77.48it/s]"
     ]
    },
    {
     "name": "stdout",
     "output_type": "stream",
     "text": [
      "Moved extracted_face_IMG_7217.JPG_0.png to TOO_SIMILAR - Similarity: 86.81%\n",
      "Moved extracted_face_IMG_7246.JPG_0.png to TOO_SIMILAR - Similarity: 82.44%\n",
      "Moved extracted_face_IMG_7246.JPG_1.png to TOO_SIMILAR - Similarity: 82.08%\n",
      "Moved extracted_face_IMG_7251.JPEG_1.png to TOO_SIMILAR - Similarity: 90.71%\n",
      "Moved extracted_face_IMG_7251.JPEG_2.png to TOO_SIMILAR - Similarity: 82.66%\n"
     ]
    },
    {
     "name": "stderr",
     "output_type": "stream",
     "text": [
      "Analyzing Similarity:  86%|████████▌ | 10146/11826 [03:01<00:27, 60.18it/s]"
     ]
    },
    {
     "name": "stdout",
     "output_type": "stream",
     "text": [
      "Moved extracted_face_IMG_7251.JPEG_3.png to TOO_SIMILAR - Similarity: 80.46%\n",
      "Moved extracted_face_IMG_7252.JPEG_1.png to TOO_SIMILAR - Similarity: 81.29%\n",
      "Moved extracted_face_IMG_7252.JPEG_2.png to TOO_SIMILAR - Similarity: 89.35%\n",
      "Moved extracted_face_IMG_7252.JPEG_3.png to TOO_SIMILAR - Similarity: 80.98%\n",
      "Moved extracted_face_IMG_7253.JPEG_0.png to TOO_SIMILAR - Similarity: 81.29%\n",
      "Moved extracted_face_IMG_7253.JPEG_1.png to TOO_SIMILAR - Similarity: 81.93%\n",
      "Moved extracted_face_IMG_7253.JPEG_2.png to TOO_SIMILAR - Similarity: 85.57%\n",
      "Moved extracted_face_IMG_7254.JPEG_0.png to TOO_SIMILAR - Similarity: 82.41%\n"
     ]
    },
    {
     "name": "stderr",
     "output_type": "stream",
     "text": [
      "Analyzing Similarity:  86%|████████▌ | 10161/11826 [03:01<00:25, 65.65it/s]"
     ]
    },
    {
     "name": "stdout",
     "output_type": "stream",
     "text": [
      "Moved extracted_face_IMG_7290.JPG_1.png to TOO_SIMILAR - Similarity: 85.29%\n",
      "Moved extracted_face_IMG_7292.JPG_0.png to TOO_SIMILAR - Similarity: 82.64%\n",
      "Moved extracted_face_IMG_7316.JPEG_1.png to TOO_SIMILAR - Similarity: 83.58%\n",
      "Moved extracted_face_IMG_7345.JPG_1.png to TOO_SIMILAR - Similarity: 81.00%\n",
      "Moved extracted_face_IMG_7345.JPG_2.png to TOO_SIMILAR - Similarity: 82.37%\n",
      "Moved extracted_face_IMG_7345.JPG_3.png to TOO_SIMILAR - Similarity: 82.08%\n",
      "Moved extracted_face_IMG_7347.JPG_1.png to TOO_SIMILAR - Similarity: 84.66%\n"
     ]
    },
    {
     "name": "stderr",
     "output_type": "stream",
     "text": [
      "Analyzing Similarity:  86%|████████▌ | 10195/11826 [03:02<00:21, 77.49it/s]"
     ]
    },
    {
     "name": "stdout",
     "output_type": "stream",
     "text": [
      "Moved extracted_face_IMG_7354.JPG_0.png to TOO_SIMILAR - Similarity: 83.53%\n",
      "Moved extracted_face_IMG_7355.JPG_0.png to TOO_SIMILAR - Similarity: 80.20%\n",
      "Moved extracted_face_IMG_7355.JPG_4.png to TOO_SIMILAR - Similarity: 83.65%\n",
      "Moved extracted_face_IMG_7356.JPG_0.png to TOO_SIMILAR - Similarity: 80.48%\n",
      "Moved extracted_face_IMG_7356.JPG_4.png to TOO_SIMILAR - Similarity: 85.30%\n"
     ]
    },
    {
     "name": "stderr",
     "output_type": "stream",
     "text": [
      "Analyzing Similarity:  86%|████████▋ | 10213/11826 [03:02<00:19, 81.07it/s]"
     ]
    },
    {
     "name": "stdout",
     "output_type": "stream",
     "text": [
      "Moved extracted_face_IMG_7357.JPG_3.png to TOO_SIMILAR - Similarity: 83.30%\n",
      "Moved extracted_face_IMG_7358.JPG_0.png to TOO_SIMILAR - Similarity: 85.12%\n",
      "Moved extracted_face_IMG_7358.JPG_3.png to TOO_SIMILAR - Similarity: 84.03%\n",
      "Moved extracted_face_IMG_7359.JPG_0.png to TOO_SIMILAR - Similarity: 81.16%\n",
      "Moved extracted_face_IMG_7360.JPEG_1.png to TOO_SIMILAR - Similarity: 81.79%\n",
      "Moved extracted_face_IMG_7360.JPG_1.png to TOO_SIMILAR - Similarity: 80.95%\n"
     ]
    },
    {
     "name": "stderr",
     "output_type": "stream",
     "text": [
      "Analyzing Similarity:  87%|████████▋ | 10230/11826 [03:02<00:20, 78.95it/s]"
     ]
    },
    {
     "name": "stdout",
     "output_type": "stream",
     "text": [
      "Moved extracted_face_IMG_7360.JPG_2.png to TOO_SIMILAR - Similarity: 86.59%\n",
      "Moved extracted_face_IMG_7360.JPG_4.png to TOO_SIMILAR - Similarity: 88.33%\n",
      "Moved extracted_face_IMG_7361.JPG_1.png to TOO_SIMILAR - Similarity: 82.88%\n",
      "Moved extracted_face_IMG_7376.JPEG_0.png to TOO_SIMILAR - Similarity: 84.10%\n",
      "Moved extracted_face_IMG_7378.JPEG_0.png to TOO_SIMILAR - Similarity: 83.15%\n"
     ]
    },
    {
     "name": "stderr",
     "output_type": "stream",
     "text": [
      "Analyzing Similarity:  87%|████████▋ | 10246/11826 [03:02<00:21, 74.86it/s]"
     ]
    },
    {
     "name": "stdout",
     "output_type": "stream",
     "text": [
      "Moved extracted_face_IMG_7381.JPEG_0.png to TOO_SIMILAR - Similarity: 82.73%\n",
      "Moved extracted_face_IMG_7381.JPEG_2.png to TOO_SIMILAR - Similarity: 83.31%\n",
      "Moved extracted_face_IMG_7382.JPEG_0.png to TOO_SIMILAR - Similarity: 84.19%\n",
      "Moved extracted_face_IMG_7382.JPEG_1.png to TOO_SIMILAR - Similarity: 80.38%\n",
      "Moved extracted_face_IMG_7441.JPEG_1.png to TOO_SIMILAR - Similarity: 87.65%\n",
      "Moved extracted_face_IMG_7442.JPEG_0.png to TOO_SIMILAR - Similarity: 84.53%\n",
      "Moved extracted_face_IMG_7467.JPG_0.png to TOO_SIMILAR - Similarity: 82.19%\n"
     ]
    },
    {
     "name": "stderr",
     "output_type": "stream",
     "text": [
      "Analyzing Similarity:  87%|████████▋ | 10262/11826 [03:03<00:24, 63.19it/s]"
     ]
    },
    {
     "name": "stdout",
     "output_type": "stream",
     "text": [
      "Moved extracted_face_IMG_7467.JPG_3.png to TOO_SIMILAR - Similarity: 85.98%\n",
      "Moved extracted_face_IMG_7482.JPEG_0.png to TOO_SIMILAR - Similarity: 86.37%\n",
      "Moved extracted_face_IMG_7487.JPG_0.png to TOO_SIMILAR - Similarity: 82.82%\n",
      "Moved extracted_face_IMG_7489.JPG_1.png to TOO_SIMILAR - Similarity: 84.21%\n",
      "Moved extracted_face_IMG_7491.JPG_0.png to TOO_SIMILAR - Similarity: 83.37%\n"
     ]
    },
    {
     "name": "stderr",
     "output_type": "stream",
     "text": [
      "Analyzing Similarity:  87%|████████▋ | 10269/11826 [03:03<00:24, 62.77it/s]"
     ]
    },
    {
     "name": "stdout",
     "output_type": "stream",
     "text": [
      "Moved extracted_face_IMG_7492.JPG_0.png to TOO_SIMILAR - Similarity: 82.37%\n",
      "Moved extracted_face_IMG_7492.JPG_2.png to TOO_SIMILAR - Similarity: 80.59%\n",
      "Moved extracted_face_IMG_7495.JPG_0.png to TOO_SIMILAR - Similarity: 80.27%\n",
      "Moved extracted_face_IMG_7496.JPG_1.png to TOO_SIMILAR - Similarity: 80.57%\n",
      "Moved extracted_face_IMG_7582.JPEG_0.png to TOO_SIMILAR - Similarity: 88.48%\n",
      "Moved extracted_face_IMG_7583.JPEG_0.png to TOO_SIMILAR - Similarity: 87.45%\n"
     ]
    },
    {
     "name": "stderr",
     "output_type": "stream",
     "text": [
      "Analyzing Similarity:  87%|████████▋ | 10291/11826 [03:03<00:23, 65.55it/s]"
     ]
    },
    {
     "name": "stdout",
     "output_type": "stream",
     "text": [
      "Moved extracted_face_IMG_7685.JPG_0.png to TOO_SIMILAR - Similarity: 85.11%\n",
      "Moved extracted_face_IMG_7717.JPG_1.png to TOO_SIMILAR - Similarity: 83.55%\n",
      "Moved extracted_face_IMG_7764.JPG_0.png to TOO_SIMILAR - Similarity: 84.64%\n",
      "Moved extracted_face_IMG_7764.JPG_2.png to TOO_SIMILAR - Similarity: 84.70%\n",
      "Moved extracted_face_IMG_7772.JPG_0.png to TOO_SIMILAR - Similarity: 80.05%\n",
      "Moved extracted_face_IMG_7777.JPG_1.png to TOO_SIMILAR - Similarity: 81.39%\n"
     ]
    },
    {
     "name": "stderr",
     "output_type": "stream",
     "text": [
      "Analyzing Similarity:  87%|████████▋ | 10306/11826 [03:03<00:22, 67.96it/s]"
     ]
    },
    {
     "name": "stdout",
     "output_type": "stream",
     "text": [
      "Moved extracted_face_IMG_7777.JPG_2.png to TOO_SIMILAR - Similarity: 83.10%\n",
      "Moved extracted_face_IMG_7777.JPG_3.png to TOO_SIMILAR - Similarity: 80.56%\n",
      "Moved extracted_face_IMG_7786.JPG_2.png to TOO_SIMILAR - Similarity: 81.76%\n",
      "Moved extracted_face_IMG_7809.JPG_1.png to TOO_SIMILAR - Similarity: 81.71%\n",
      "Moved extracted_face_IMG_7809.JPG_2.png to TOO_SIMILAR - Similarity: 83.18%\n"
     ]
    },
    {
     "name": "stderr",
     "output_type": "stream",
     "text": [
      "Analyzing Similarity:  87%|████████▋ | 10322/11826 [03:04<00:21, 71.59it/s]"
     ]
    },
    {
     "name": "stdout",
     "output_type": "stream",
     "text": [
      "Moved extracted_face_IMG_7816.JPG_2.png to TOO_SIMILAR - Similarity: 81.07%\n",
      "Moved extracted_face_IMG_7839.JPEG_1.png to TOO_SIMILAR - Similarity: 81.85%\n"
     ]
    },
    {
     "name": "stderr",
     "output_type": "stream",
     "text": [
      "Analyzing Similarity:  87%|████████▋ | 10339/11826 [03:04<00:20, 73.88it/s]"
     ]
    },
    {
     "name": "stdout",
     "output_type": "stream",
     "text": [
      "Moved extracted_face_IMG_7856.JPEG_1.png to TOO_SIMILAR - Similarity: 80.66%\n",
      "Moved extracted_face_IMG_7857.JPEG_1.png to TOO_SIMILAR - Similarity: 80.51%\n",
      "Moved extracted_face_IMG_7857.JPEG_3.png to TOO_SIMILAR - Similarity: 81.99%\n",
      "Moved extracted_face_IMG_7858.JPEG_1.png to TOO_SIMILAR - Similarity: 81.48%\n",
      "Moved extracted_face_IMG_7858.JPEG_3.png to TOO_SIMILAR - Similarity: 82.07%\n",
      "Moved extracted_face_IMG_7859.JPEG_1.png to TOO_SIMILAR - Similarity: 80.05%\n",
      "Moved extracted_face_IMG_7859.JPEG_3.png to TOO_SIMILAR - Similarity: 81.84%\n",
      "Moved extracted_face_IMG_7860.JPEG_1.png to TOO_SIMILAR - Similarity: 81.14%\n"
     ]
    },
    {
     "name": "stderr",
     "output_type": "stream",
     "text": [
      "Analyzing Similarity:  88%|████████▊ | 10365/11826 [03:04<00:19, 75.47it/s]"
     ]
    },
    {
     "name": "stdout",
     "output_type": "stream",
     "text": [
      "Moved extracted_face_IMG_7865.JPEG_1.png to TOO_SIMILAR - Similarity: 81.01%\n",
      "Moved extracted_face_IMG_7945.JPG_0.png to TOO_SIMILAR - Similarity: 81.91%\n",
      "Moved extracted_face_IMG_7945.JPG_3.png to TOO_SIMILAR - Similarity: 80.12%\n",
      "Moved extracted_face_IMG_7945.JPG_5.png to TOO_SIMILAR - Similarity: 81.01%\n",
      "Moved extracted_face_IMG_7967.JPG_0.png to TOO_SIMILAR - Similarity: 81.49%\n",
      "Moved extracted_face_IMG_7967.JPG_2.png to TOO_SIMILAR - Similarity: 87.01%\n",
      "Moved extracted_face_IMG_7967.JPG_3.png to TOO_SIMILAR - Similarity: 85.69%\n"
     ]
    },
    {
     "name": "stderr",
     "output_type": "stream",
     "text": [
      "Analyzing Similarity:  88%|████████▊ | 10374/11826 [03:04<00:18, 77.81it/s]"
     ]
    },
    {
     "name": "stdout",
     "output_type": "stream",
     "text": [
      "Moved extracted_face_IMG_7967.JPG_5.png to TOO_SIMILAR - Similarity: 84.12%\n",
      "Moved extracted_face_IMG_8022-1.JPG_1.png to TOO_SIMILAR - Similarity: 80.84%\n"
     ]
    },
    {
     "name": "stderr",
     "output_type": "stream",
     "text": [
      "Analyzing Similarity:  88%|████████▊ | 10389/11826 [03:05<00:22, 64.33it/s]"
     ]
    },
    {
     "name": "stdout",
     "output_type": "stream",
     "text": [
      "Moved extracted_face_IMG_8046.JPG_1.png to TOO_SIMILAR - Similarity: 87.71%\n",
      "Moved extracted_face_IMG_8046.JPG_2.png to TOO_SIMILAR - Similarity: 82.02%\n",
      "Moved extracted_face_IMG_8046.JPG_3.png to TOO_SIMILAR - Similarity: 85.77%\n",
      "Moved extracted_face_IMG_8048.JPG_4.png to TOO_SIMILAR - Similarity: 81.03%\n",
      "Moved extracted_face_IMG_8049.JPG_3.png to TOO_SIMILAR - Similarity: 80.66%\n",
      "Moved extracted_face_IMG_8050.JPG_1.png to TOO_SIMILAR - Similarity: 80.86%\n"
     ]
    },
    {
     "name": "stderr",
     "output_type": "stream",
     "text": [
      "Analyzing Similarity:  88%|████████▊ | 10404/11826 [03:05<00:21, 67.44it/s]"
     ]
    },
    {
     "name": "stdout",
     "output_type": "stream",
     "text": [
      "Moved extracted_face_IMG_8050.JPG_4.png to TOO_SIMILAR - Similarity: 80.60%\n",
      "Moved extracted_face_IMG_8051.JPG_1.png to TOO_SIMILAR - Similarity: 81.53%\n",
      "Moved extracted_face_IMG_8051.JPG_5.png to TOO_SIMILAR - Similarity: 80.92%\n",
      "Moved extracted_face_IMG_8051.JPG_6.png to TOO_SIMILAR - Similarity: 80.03%\n",
      "Moved extracted_face_IMG_8055.JPG_0.png to TOO_SIMILAR - Similarity: 85.88%\n",
      "Moved extracted_face_IMG_8055.JPG_1.png to TOO_SIMILAR - Similarity: 87.07%\n",
      "Moved extracted_face_IMG_8055.JPG_3.png to TOO_SIMILAR - Similarity: 81.76%\n",
      "Moved extracted_face_IMG_8056.JPG_1.png to TOO_SIMILAR - Similarity: 83.89%\n"
     ]
    },
    {
     "name": "stderr",
     "output_type": "stream",
     "text": [
      "Analyzing Similarity:  88%|████████▊ | 10421/11826 [03:05<00:19, 71.66it/s]"
     ]
    },
    {
     "name": "stdout",
     "output_type": "stream",
     "text": [
      "Moved extracted_face_IMG_8057.JPG_2.png to TOO_SIMILAR - Similarity: 85.12%\n",
      "Moved extracted_face_IMG_8057.JPG_3.png to TOO_SIMILAR - Similarity: 84.49%\n",
      "Moved extracted_face_IMG_8057.JPG_4.png to TOO_SIMILAR - Similarity: 81.64%\n",
      "Moved extracted_face_IMG_8057.JPG_5.png to TOO_SIMILAR - Similarity: 83.49%\n",
      "Moved extracted_face_IMG_8057.JPG_7.png to TOO_SIMILAR - Similarity: 80.84%\n",
      "Moved extracted_face_IMG_8058.JPG_4.png to TOO_SIMILAR - Similarity: 82.03%\n",
      "Moved extracted_face_IMG_8059.JPG_2.png to TOO_SIMILAR - Similarity: 80.01%\n",
      "Moved extracted_face_IMG_8059.JPG_3.png to TOO_SIMILAR - Similarity: 81.52%\n",
      "Moved extracted_face_IMG_8059.JPG_5.png to TOO_SIMILAR - Similarity: 81.07%\n"
     ]
    },
    {
     "name": "stderr",
     "output_type": "stream",
     "text": [
      "Analyzing Similarity:  88%|████████▊ | 10446/11826 [03:05<00:18, 74.19it/s]"
     ]
    },
    {
     "name": "stdout",
     "output_type": "stream",
     "text": [
      "Moved extracted_face_IMG_8060.JPG_1.png to TOO_SIMILAR - Similarity: 80.76%\n",
      "Moved extracted_face_IMG_8060.JPG_3.png to TOO_SIMILAR - Similarity: 80.18%\n",
      "Moved extracted_face_IMG_8061.JPG_1.png to TOO_SIMILAR - Similarity: 81.25%\n",
      "Moved extracted_face_IMG_8063.JPG_1.png to TOO_SIMILAR - Similarity: 85.20%\n",
      "Moved extracted_face_IMG_8063.JPG_3.png to TOO_SIMILAR - Similarity: 82.05%\n",
      "Moved extracted_face_IMG_8068.JPEG_1.png to TOO_SIMILAR - Similarity: 82.27%\n",
      "Moved extracted_face_IMG_8069.JPEG_1.png to TOO_SIMILAR - Similarity: 82.75%\n",
      "Moved extracted_face_IMG_8084.JPG_0.png to TOO_SIMILAR - Similarity: 83.67%\n",
      "Moved extracted_face_IMG_8084.JPG_2.png to TOO_SIMILAR - Similarity: 80.77%\n"
     ]
    },
    {
     "name": "stderr",
     "output_type": "stream",
     "text": [
      "Analyzing Similarity:  88%|████████▊ | 10463/11826 [03:06<00:17, 76.57it/s]"
     ]
    },
    {
     "name": "stdout",
     "output_type": "stream",
     "text": [
      "Moved extracted_face_IMG_8084.JPG_3.png to TOO_SIMILAR - Similarity: 82.75%\n",
      "Moved extracted_face_IMG_8084.JPG_5.png to TOO_SIMILAR - Similarity: 82.17%\n",
      "Moved extracted_face_IMG_8152.JPG_0.png to TOO_SIMILAR - Similarity: 86.03%\n",
      "Moved extracted_face_IMG_8152.JPG_1.png to TOO_SIMILAR - Similarity: 83.00%\n",
      "Moved extracted_face_IMG_8152.JPG_10.png to TOO_SIMILAR - Similarity: 86.53%\n",
      "Moved extracted_face_IMG_8152.JPG_2.png to TOO_SIMILAR - Similarity: 83.14%\n"
     ]
    },
    {
     "name": "stderr",
     "output_type": "stream",
     "text": [
      "Analyzing Similarity:  89%|████████▊ | 10481/11826 [03:06<00:16, 80.57it/s]"
     ]
    },
    {
     "name": "stdout",
     "output_type": "stream",
     "text": [
      "Moved extracted_face_IMG_8152.JPG_7.png to TOO_SIMILAR - Similarity: 85.64%\n",
      "Moved extracted_face_IMG_8152.JPG_8.png to TOO_SIMILAR - Similarity: 85.78%\n",
      "Moved extracted_face_IMG_8156.JPG_0.png to TOO_SIMILAR - Similarity: 80.15%\n",
      "Moved extracted_face_IMG_8159.JPG_4.png to TOO_SIMILAR - Similarity: 80.97%\n",
      "Moved extracted_face_IMG_8160.JPG_2.png to TOO_SIMILAR - Similarity: 83.93%\n",
      "Moved extracted_face_IMG_8160.JPG_4.png to TOO_SIMILAR - Similarity: 85.42%\n"
     ]
    },
    {
     "name": "stderr",
     "output_type": "stream",
     "text": [
      "Analyzing Similarity:  89%|████████▉ | 10499/11826 [03:06<00:16, 81.01it/s]"
     ]
    },
    {
     "name": "stdout",
     "output_type": "stream",
     "text": [
      "Moved extracted_face_IMG_8163.JPG_5.png to TOO_SIMILAR - Similarity: 82.86%\n",
      "Moved extracted_face_IMG_8165.JPG_0.png to TOO_SIMILAR - Similarity: 83.82%\n"
     ]
    },
    {
     "name": "stderr",
     "output_type": "stream",
     "text": [
      "Analyzing Similarity:  89%|████████▉ | 10516/11826 [03:06<00:18, 69.13it/s]"
     ]
    },
    {
     "name": "stdout",
     "output_type": "stream",
     "text": [
      "Moved extracted_face_IMG_8168.JPEG_2.png to TOO_SIMILAR - Similarity: 81.10%\n",
      "Moved extracted_face_IMG_8175.JPEG_1.png to TOO_SIMILAR - Similarity: 81.35%\n"
     ]
    },
    {
     "name": "stderr",
     "output_type": "stream",
     "text": [
      "Analyzing Similarity:  89%|████████▉ | 10552/11826 [03:07<00:15, 80.26it/s]"
     ]
    },
    {
     "name": "stdout",
     "output_type": "stream",
     "text": [
      "Moved extracted_face_IMG_8194.JPEG_7.png to TOO_SIMILAR - Similarity: 80.68%\n",
      "Moved extracted_face_IMG_8198.JPG_1.png to TOO_SIMILAR - Similarity: 81.50%\n"
     ]
    },
    {
     "name": "stderr",
     "output_type": "stream",
     "text": [
      "Analyzing Similarity:  89%|████████▉ | 10582/11826 [03:07<00:14, 88.75it/s]"
     ]
    },
    {
     "name": "stdout",
     "output_type": "stream",
     "text": [
      "Moved extracted_face_IMG_8199.JPG_1.png to TOO_SIMILAR - Similarity: 80.96%\n"
     ]
    },
    {
     "name": "stderr",
     "output_type": "stream",
     "text": [
      "Analyzing Similarity:  90%|████████▉ | 10600/11826 [03:07<00:14, 86.80it/s]"
     ]
    },
    {
     "name": "stdout",
     "output_type": "stream",
     "text": [
      "Moved extracted_face_IMG_8275.JPG_1.png to TOO_SIMILAR - Similarity: 81.87%\n",
      "Moved extracted_face_IMG_8277.JPG_2.png to TOO_SIMILAR - Similarity: 80.14%\n",
      "Moved extracted_face_IMG_8278.JPG_1.png to TOO_SIMILAR - Similarity: 87.32%\n",
      "Moved extracted_face_IMG_8298.JPG_0.png to TOO_SIMILAR - Similarity: 82.11%\n",
      "Moved extracted_face_IMG_8303.JPG_2.png to TOO_SIMILAR - Similarity: 80.82%\n",
      "Moved extracted_face_IMG_8308.JPEG_1.png to TOO_SIMILAR - Similarity: 80.30%\n"
     ]
    },
    {
     "name": "stderr",
     "output_type": "stream",
     "text": [
      "Analyzing Similarity:  90%|████████▉ | 10628/11826 [03:08<00:14, 85.29it/s]"
     ]
    },
    {
     "name": "stdout",
     "output_type": "stream",
     "text": [
      "Moved extracted_face_IMG_8308.JPEG_3.png to TOO_SIMILAR - Similarity: 80.24%\n",
      "Moved extracted_face_IMG_8342.JPEG_1.png to TOO_SIMILAR - Similarity: 81.64%\n",
      "Moved extracted_face_IMG_8342.JPEG_2.png to TOO_SIMILAR - Similarity: 80.73%\n",
      "Moved extracted_face_IMG_8343.JPEG_1.png to TOO_SIMILAR - Similarity: 80.89%\n",
      "Moved extracted_face_IMG_8343.JPEG_3.png to TOO_SIMILAR - Similarity: 82.83%\n"
     ]
    },
    {
     "name": "stderr",
     "output_type": "stream",
     "text": [
      "Analyzing Similarity:  90%|█████████ | 10646/11826 [03:08<00:13, 86.11it/s]"
     ]
    },
    {
     "name": "stdout",
     "output_type": "stream",
     "text": [
      "Moved extracted_face_IMG_8349.JPG_0.png to TOO_SIMILAR - Similarity: 80.22%\n",
      "Moved extracted_face_IMG_8350.JPG_1.png to TOO_SIMILAR - Similarity: 83.08%\n",
      "Moved extracted_face_IMG_8355.JPG_0.png to TOO_SIMILAR - Similarity: 80.76%\n",
      "Moved extracted_face_IMG_8371.JPG_0.png to TOO_SIMILAR - Similarity: 81.61%\n",
      "Moved extracted_face_IMG_8378.JPEG_1.png to TOO_SIMILAR - Similarity: 85.51%\n"
     ]
    },
    {
     "name": "stderr",
     "output_type": "stream",
     "text": [
      "Analyzing Similarity:  90%|█████████ | 10655/11826 [03:08<00:13, 86.37it/s]"
     ]
    },
    {
     "name": "stdout",
     "output_type": "stream",
     "text": [
      "Moved extracted_face_IMG_8378.JPEG_2.png to TOO_SIMILAR - Similarity: 86.54%\n",
      "Moved extracted_face_IMG_8390.JPG_0.png to TOO_SIMILAR - Similarity: 82.49%\n",
      "Moved extracted_face_IMG_8411.JPEG_1.png to TOO_SIMILAR - Similarity: 80.94%\n",
      "Moved extracted_face_IMG_8411.JPEG_2.png to TOO_SIMILAR - Similarity: 84.25%\n"
     ]
    },
    {
     "name": "stderr",
     "output_type": "stream",
     "text": [
      "Analyzing Similarity:  90%|█████████ | 10683/11826 [03:08<00:13, 85.89it/s]"
     ]
    },
    {
     "name": "stdout",
     "output_type": "stream",
     "text": [
      "Moved extracted_face_IMG_8412.JPEG_2.png to TOO_SIMILAR - Similarity: 80.68%\n",
      "Moved extracted_face_IMG_8412.JPEG_3.png to TOO_SIMILAR - Similarity: 80.25%\n",
      "Moved extracted_face_IMG_8413.JPEG_3.png to TOO_SIMILAR - Similarity: 83.70%\n",
      "Moved extracted_face_IMG_8414.JPEG_2.png to TOO_SIMILAR - Similarity: 81.76%\n",
      "Moved extracted_face_IMG_8424.JPG_1.png to TOO_SIMILAR - Similarity: 80.46%\n",
      "Moved extracted_face_IMG_8424.JPG_2.png to TOO_SIMILAR - Similarity: 83.32%\n"
     ]
    },
    {
     "name": "stderr",
     "output_type": "stream",
     "text": [
      "Analyzing Similarity:  91%|█████████ | 10710/11826 [03:09<00:13, 84.17it/s]"
     ]
    },
    {
     "name": "stdout",
     "output_type": "stream",
     "text": [
      "Moved extracted_face_IMG_8437.JPG_0.png to TOO_SIMILAR - Similarity: 87.35%\n",
      "Moved extracted_face_IMG_8437.JPG_1.png to TOO_SIMILAR - Similarity: 81.15%\n",
      "Moved extracted_face_IMG_8437.JPG_2.png to TOO_SIMILAR - Similarity: 81.93%\n",
      "Moved extracted_face_IMG_8439.JPG_1.png to TOO_SIMILAR - Similarity: 80.13%\n",
      "Moved extracted_face_IMG_8449.JPEG_2.png to TOO_SIMILAR - Similarity: 80.53%\n"
     ]
    },
    {
     "name": "stderr",
     "output_type": "stream",
     "text": [
      "Analyzing Similarity:  91%|█████████ | 10728/11826 [03:09<00:13, 82.87it/s]"
     ]
    },
    {
     "name": "stdout",
     "output_type": "stream",
     "text": [
      "Moved extracted_face_IMG_8450.JPEG_3.png to TOO_SIMILAR - Similarity: 80.02%\n",
      "Moved extracted_face_IMG_8464.JPEG_3.png to TOO_SIMILAR - Similarity: 86.06%\n",
      "Moved extracted_face_IMG_8465.JPEG_1.png to TOO_SIMILAR - Similarity: 80.13%\n",
      "Moved extracted_face_IMG_8465.JPEG_2.png to TOO_SIMILAR - Similarity: 85.65%\n"
     ]
    },
    {
     "name": "stderr",
     "output_type": "stream",
     "text": [
      "Analyzing Similarity:  91%|█████████ | 10755/11826 [03:09<00:12, 85.23it/s]"
     ]
    },
    {
     "name": "stdout",
     "output_type": "stream",
     "text": [
      "Moved extracted_face_IMG_8468.JPEG_1.png to TOO_SIMILAR - Similarity: 81.22%\n",
      "Moved extracted_face_IMG_8469.JPEG_1.png to TOO_SIMILAR - Similarity: 80.33%\n",
      "Moved extracted_face_IMG_8472.JPEG_0.png to TOO_SIMILAR - Similarity: 80.49%\n",
      "Moved extracted_face_IMG_8476.JPEG_2.png to TOO_SIMILAR - Similarity: 82.12%\n"
     ]
    },
    {
     "name": "stderr",
     "output_type": "stream",
     "text": [
      "Analyzing Similarity:  91%|█████████ | 10773/11826 [03:09<00:12, 82.51it/s]"
     ]
    },
    {
     "name": "stdout",
     "output_type": "stream",
     "text": [
      "Moved extracted_face_IMG_8477.JPEG_3.png to TOO_SIMILAR - Similarity: 81.53%\n",
      "Moved extracted_face_IMG_8478.JPEG_0.png to TOO_SIMILAR - Similarity: 82.48%\n",
      "Moved extracted_face_IMG_8478.JPEG_1.png to TOO_SIMILAR - Similarity: 81.49%\n",
      "Moved extracted_face_IMG_8479.JPEG_2.png to TOO_SIMILAR - Similarity: 87.32%\n",
      "Moved extracted_face_IMG_8480.JPEG_1.png to TOO_SIMILAR - Similarity: 83.38%\n",
      "Moved extracted_face_IMG_8481.JPEG_0.png to TOO_SIMILAR - Similarity: 80.60%\n",
      "Moved extracted_face_IMG_8485.JPEG_1.png to TOO_SIMILAR - Similarity: 82.80%\n"
     ]
    },
    {
     "name": "stderr",
     "output_type": "stream",
     "text": [
      "Analyzing Similarity:  91%|█████████ | 10791/11826 [03:10<00:12, 79.84it/s]"
     ]
    },
    {
     "name": "stdout",
     "output_type": "stream",
     "text": [
      "Moved extracted_face_IMG_8486.JPEG_1.png to TOO_SIMILAR - Similarity: 81.87%\n",
      "Moved extracted_face_IMG_8487.JPEG_0.png to TOO_SIMILAR - Similarity: 80.30%\n",
      "Moved extracted_face_IMG_8487.JPEG_1.png to TOO_SIMILAR - Similarity: 81.53%\n",
      "Moved extracted_face_IMG_8488.JPEG_0.png to TOO_SIMILAR - Similarity: 81.49%\n",
      "Moved extracted_face_IMG_8489.JPEG_0.png to TOO_SIMILAR - Similarity: 80.19%\n",
      "Moved extracted_face_IMG_8490.JPEG_0.png to TOO_SIMILAR - Similarity: 80.74%\n",
      "Moved extracted_face_IMG_8491.JPEG_0.png to TOO_SIMILAR - Similarity: 82.89%\n",
      "Moved extracted_face_IMG_8499.JPEG_0.png to TOO_SIMILAR - Similarity: 83.46%\n",
      "Moved extracted_face_IMG_8499.JPEG_1.png to TOO_SIMILAR - Similarity: 82.98%\n",
      "Moved extracted_face_IMG_8500.JPEG_1.png to TOO_SIMILAR - Similarity: 81.59%\n",
      "Moved extracted_face_IMG_8501.JPEG_0.png to TOO_SIMILAR - Similarity: 80.61%\n",
      "Moved extracted_face_IMG_8501.JPEG_2.png to TOO_SIMILAR - Similarity: 81.74%\n"
     ]
    },
    {
     "name": "stderr",
     "output_type": "stream",
     "text": [
      "Analyzing Similarity:  91%|█████████▏| 10809/11826 [03:10<00:12, 78.27it/s]"
     ]
    },
    {
     "name": "stdout",
     "output_type": "stream",
     "text": [
      "Moved extracted_face_IMG_8502.JPEG_0.png to TOO_SIMILAR - Similarity: 81.10%\n",
      "Moved extracted_face_IMG_8503.JPEG_0.png to TOO_SIMILAR - Similarity: 82.61%\n",
      "Moved extracted_face_IMG_8515.JPEG_0.png to TOO_SIMILAR - Similarity: 87.37%\n",
      "Moved extracted_face_IMG_8515.JPEG_2.png to TOO_SIMILAR - Similarity: 84.63%\n",
      "Moved extracted_face_IMG_8539.PNG_2.png to TOO_SIMILAR - Similarity: 80.18%\n",
      "Moved extracted_face_IMG_8551.JPEG_2.png to TOO_SIMILAR - Similarity: 84.30%\n"
     ]
    },
    {
     "name": "stderr",
     "output_type": "stream",
     "text": [
      "Analyzing Similarity:  92%|█████████▏| 10837/11826 [03:10<00:11, 83.74it/s]"
     ]
    },
    {
     "name": "stdout",
     "output_type": "stream",
     "text": [
      "Moved extracted_face_IMG_8566.JPEG_7.png to TOO_SIMILAR - Similarity: 80.07%\n",
      "Moved extracted_face_IMG_8595.JPEG_1.png to TOO_SIMILAR - Similarity: 84.66%\n"
     ]
    },
    {
     "name": "stderr",
     "output_type": "stream",
     "text": [
      "Analyzing Similarity:  92%|█████████▏| 10873/11826 [03:11<00:11, 82.40it/s]"
     ]
    },
    {
     "name": "stdout",
     "output_type": "stream",
     "text": [
      "Moved extracted_face_IMG_8649.JPEG_1.png to TOO_SIMILAR - Similarity: 80.97%\n",
      "Moved extracted_face_IMG_8654.JPEG_1.png to TOO_SIMILAR - Similarity: 80.11%\n",
      "Moved extracted_face_IMG_8654.JPEG_2.png to TOO_SIMILAR - Similarity: 84.46%\n",
      "Moved extracted_face_IMG_8655.JPEG_2.png to TOO_SIMILAR - Similarity: 87.26%\n"
     ]
    },
    {
     "name": "stderr",
     "output_type": "stream",
     "text": [
      "Analyzing Similarity:  92%|█████████▏| 10891/11826 [03:11<00:11, 80.70it/s]"
     ]
    },
    {
     "name": "stdout",
     "output_type": "stream",
     "text": [
      "Moved extracted_face_IMG_8656.JPEG_0.png to TOO_SIMILAR - Similarity: 85.98%\n",
      "Moved extracted_face_IMG_8656.JPEG_6.png to TOO_SIMILAR - Similarity: 81.15%\n",
      "Moved extracted_face_IMG_8659.JPEG_1.png to TOO_SIMILAR - Similarity: 80.10%\n",
      "Moved extracted_face_IMG_8659.JPEG_2.png to TOO_SIMILAR - Similarity: 80.82%\n",
      "Moved extracted_face_IMG_8660.JPEG_1.png to TOO_SIMILAR - Similarity: 81.32%\n",
      "Moved extracted_face_IMG_8660.JPEG_2.png to TOO_SIMILAR - Similarity: 82.55%\n",
      "Moved extracted_face_IMG_8671.JPEG_0.png to TOO_SIMILAR - Similarity: 83.38%\n"
     ]
    },
    {
     "name": "stderr",
     "output_type": "stream",
     "text": [
      "Analyzing Similarity:  92%|█████████▏| 10900/11826 [03:11<00:11, 82.07it/s]"
     ]
    },
    {
     "name": "stdout",
     "output_type": "stream",
     "text": [
      "Moved extracted_face_IMG_8675.JPEG_1.png to TOO_SIMILAR - Similarity: 81.24%\n",
      "Moved extracted_face_IMG_8676.JPEG_1.png to TOO_SIMILAR - Similarity: 84.88%\n",
      "Moved extracted_face_IMG_8676.JPEG_2.png to TOO_SIMILAR - Similarity: 84.99%\n",
      "Moved extracted_face_IMG_8676.JPEG_3.png to TOO_SIMILAR - Similarity: 80.21%\n",
      "Moved extracted_face_IMG_8676.JPEG_4.png to TOO_SIMILAR - Similarity: 80.73%\n",
      "Moved extracted_face_IMG_8678.JPEG_0.png to TOO_SIMILAR - Similarity: 84.08%\n",
      "Moved extracted_face_IMG_8678.JPEG_1.png to TOO_SIMILAR - Similarity: 81.01%\n",
      "Moved extracted_face_IMG_8678.JPEG_2.png to TOO_SIMILAR - Similarity: 82.79%\n",
      "Moved extracted_face_IMG_8678.JPEG_3.png to TOO_SIMILAR - Similarity: 81.32%\n",
      "Moved extracted_face_IMG_8678.JPEG_4.png to TOO_SIMILAR - Similarity: 80.41%\n"
     ]
    },
    {
     "name": "stderr",
     "output_type": "stream",
     "text": [
      "Analyzing Similarity:  92%|█████████▏| 10918/11826 [03:11<00:13, 65.16it/s]"
     ]
    },
    {
     "name": "stdout",
     "output_type": "stream",
     "text": [
      "Moved extracted_face_IMG_8679.JPEG_0.png to TOO_SIMILAR - Similarity: 84.01%\n",
      "Moved extracted_face_IMG_8679.JPEG_1.png to TOO_SIMILAR - Similarity: 82.33%\n",
      "Moved extracted_face_IMG_8679.JPEG_2.png to TOO_SIMILAR - Similarity: 81.32%\n",
      "Moved extracted_face_IMG_8679.JPEG_3.png to TOO_SIMILAR - Similarity: 83.01%\n",
      "Moved extracted_face_IMG_8680.JPEG_0.png to TOO_SIMILAR - Similarity: 88.10%\n",
      "Moved extracted_face_IMG_8680.JPEG_1.png to TOO_SIMILAR - Similarity: 82.59%\n",
      "Moved extracted_face_IMG_8680.JPEG_3.png to TOO_SIMILAR - Similarity: 83.50%\n"
     ]
    },
    {
     "name": "stderr",
     "output_type": "stream",
     "text": [
      "Analyzing Similarity:  92%|█████████▏| 10926/11826 [03:11<00:13, 65.84it/s]"
     ]
    },
    {
     "name": "stdout",
     "output_type": "stream",
     "text": [
      "Moved extracted_face_IMG_8681.JPEG_1.png to TOO_SIMILAR - Similarity: 88.09%\n",
      "Moved extracted_face_IMG_8681.JPEG_2.png to TOO_SIMILAR - Similarity: 83.73%\n",
      "Moved extracted_face_IMG_8681.JPEG_3.png to TOO_SIMILAR - Similarity: 87.09%\n",
      "Moved extracted_face_IMG_8681.JPEG_4.png to TOO_SIMILAR - Similarity: 80.93%\n",
      "Moved extracted_face_IMG_8682.JPEG_0.png to TOO_SIMILAR - Similarity: 81.23%\n",
      "Moved extracted_face_IMG_8682.JPEG_2.png to TOO_SIMILAR - Similarity: 82.55%\n",
      "Moved extracted_face_IMG_8682.JPEG_3.png to TOO_SIMILAR - Similarity: 84.05%\n",
      "Moved extracted_face_IMG_8682.JPEG_4.png to TOO_SIMILAR - Similarity: 85.27%\n",
      "Moved extracted_face_IMG_8683.JPEG_1.png to TOO_SIMILAR - Similarity: 81.20%\n",
      "Moved extracted_face_IMG_8683.JPEG_2.png to TOO_SIMILAR - Similarity: 80.90%\n",
      "Moved extracted_face_IMG_8683.JPEG_3.png to TOO_SIMILAR - Similarity: 83.66%\n"
     ]
    },
    {
     "name": "stderr",
     "output_type": "stream",
     "text": [
      "Analyzing Similarity:  93%|█████████▎| 10941/11826 [03:12<00:12, 68.61it/s]"
     ]
    },
    {
     "name": "stdout",
     "output_type": "stream",
     "text": [
      "Moved extracted_face_IMG_8683.JPEG_4.png to TOO_SIMILAR - Similarity: 83.92%\n",
      "Moved extracted_face_IMG_8683.JPEG_5.png to TOO_SIMILAR - Similarity: 83.02%\n",
      "Moved extracted_face_IMG_8684.JPEG_0.png to TOO_SIMILAR - Similarity: 83.66%\n",
      "Moved extracted_face_IMG_8684.JPEG_2.png to TOO_SIMILAR - Similarity: 81.46%\n",
      "Moved extracted_face_IMG_8684.JPEG_4.png to TOO_SIMILAR - Similarity: 83.57%\n",
      "Moved extracted_face_IMG_8684.JPEG_5.png to TOO_SIMILAR - Similarity: 84.64%\n",
      "Moved extracted_face_IMG_8684.JPEG_8.png to TOO_SIMILAR - Similarity: 82.56%\n",
      "Moved extracted_face_IMG_8685.JPEG_1.png to TOO_SIMILAR - Similarity: 81.64%\n",
      "Moved extracted_face_IMG_8685.JPEG_2.png to TOO_SIMILAR - Similarity: 85.74%\n",
      "Moved extracted_face_IMG_8685.JPEG_4.png to TOO_SIMILAR - Similarity: 80.77%\n",
      "Moved extracted_face_IMG_8685.JPEG_5.png to TOO_SIMILAR - Similarity: 80.79%\n"
     ]
    },
    {
     "name": "stderr",
     "output_type": "stream",
     "text": [
      "Analyzing Similarity:  93%|█████████▎| 10956/11826 [03:12<00:13, 63.79it/s]"
     ]
    },
    {
     "name": "stdout",
     "output_type": "stream",
     "text": [
      "Moved extracted_face_IMG_8695.JPEG_0.png to TOO_SIMILAR - Similarity: 86.37%\n",
      "Moved extracted_face_IMG_8696.JPEG_2.png to TOO_SIMILAR - Similarity: 81.74%\n"
     ]
    },
    {
     "name": "stderr",
     "output_type": "stream",
     "text": [
      "Analyzing Similarity:  93%|█████████▎| 10971/11826 [03:12<00:12, 67.37it/s]"
     ]
    },
    {
     "name": "stdout",
     "output_type": "stream",
     "text": [
      "Moved extracted_face_IMG_8711.JPEG_2.png to TOO_SIMILAR - Similarity: 83.44%\n",
      "Moved extracted_face_IMG_8725.JPEG_0.png to TOO_SIMILAR - Similarity: 81.01%\n",
      "Moved extracted_face_IMG_8725.JPEG_1.png to TOO_SIMILAR - Similarity: 88.54%\n",
      "Moved extracted_face_IMG_8727.JPEG_1.png to TOO_SIMILAR - Similarity: 82.53%\n",
      "Moved extracted_face_IMG_8727.JPEG_2.png to TOO_SIMILAR - Similarity: 82.11%\n",
      "Moved extracted_face_IMG_8727.JPEG_3.png to TOO_SIMILAR - Similarity: 86.32%\n",
      "Moved extracted_face_IMG_8728.JPEG_0.png to TOO_SIMILAR - Similarity: 87.17%\n",
      "Moved extracted_face_IMG_8728.JPEG_2.png to TOO_SIMILAR - Similarity: 81.81%\n",
      "Moved extracted_face_IMG_8728.JPEG_4.png to TOO_SIMILAR - Similarity: 81.44%\n"
     ]
    },
    {
     "name": "stderr",
     "output_type": "stream",
     "text": [
      "Analyzing Similarity:  93%|█████████▎| 10987/11826 [03:12<00:12, 68.70it/s]"
     ]
    },
    {
     "name": "stdout",
     "output_type": "stream",
     "text": [
      "Moved extracted_face_IMG_8729.JPEG_0.png to TOO_SIMILAR - Similarity: 83.03%\n",
      "Moved extracted_face_IMG_8729.JPEG_2.png to TOO_SIMILAR - Similarity: 83.21%\n",
      "Moved extracted_face_IMG_8729.JPEG_3.png to TOO_SIMILAR - Similarity: 87.38%\n",
      "Moved extracted_face_IMG_8758.JPEG_0.png to TOO_SIMILAR - Similarity: 85.34%\n",
      "Moved extracted_face_IMG_8758.JPEG_2.png to TOO_SIMILAR - Similarity: 82.37%\n",
      "Moved extracted_face_IMG_8768.JPEG_0.png to TOO_SIMILAR - Similarity: 84.72%\n",
      "Moved extracted_face_IMG_8768.JPEG_2.png to TOO_SIMILAR - Similarity: 83.43%\n",
      "Moved extracted_face_IMG_8768.JPEG_3.png to TOO_SIMILAR - Similarity: 81.46%\n"
     ]
    },
    {
     "name": "stderr",
     "output_type": "stream",
     "text": [
      "Analyzing Similarity:  93%|█████████▎| 11003/11826 [03:12<00:11, 69.97it/s]"
     ]
    },
    {
     "name": "stdout",
     "output_type": "stream",
     "text": [
      "Moved extracted_face_IMG_8768.JPEG_6.png to TOO_SIMILAR - Similarity: 82.67%\n",
      "Moved extracted_face_IMG_8781.JPEG_0.png to TOO_SIMILAR - Similarity: 82.88%\n",
      "Moved extracted_face_IMG_8786.JPEG_0.png to TOO_SIMILAR - Similarity: 82.21%\n",
      "Moved extracted_face_IMG_8787.JPEG_0.png to TOO_SIMILAR - Similarity: 85.26%\n",
      "Moved extracted_face_IMG_8800.JPEG_0.png to TOO_SIMILAR - Similarity: 83.77%\n",
      "Moved extracted_face_IMG_8800.JPEG_1.png to TOO_SIMILAR - Similarity: 83.61%\n",
      "Moved extracted_face_IMG_8800.JPEG_11.png to TOO_SIMILAR - Similarity: 86.29%\n",
      "Moved extracted_face_IMG_8800.JPEG_2.png to TOO_SIMILAR - Similarity: 82.70%\n",
      "Moved extracted_face_IMG_8800.JPEG_3.png to TOO_SIMILAR - Similarity: 81.91%\n",
      "Moved extracted_face_IMG_8800.JPEG_4.png to TOO_SIMILAR - Similarity: 84.76%\n"
     ]
    },
    {
     "name": "stderr",
     "output_type": "stream",
     "text": [
      "Analyzing Similarity:  93%|█████████▎| 11019/11826 [03:13<00:11, 68.35it/s]"
     ]
    },
    {
     "name": "stdout",
     "output_type": "stream",
     "text": [
      "Moved extracted_face_IMG_8800.JPEG_5.png to TOO_SIMILAR - Similarity: 81.94%\n",
      "Moved extracted_face_IMG_8800.JPEG_6.png to TOO_SIMILAR - Similarity: 89.56%\n",
      "Moved extracted_face_IMG_8800.JPEG_7.png to TOO_SIMILAR - Similarity: 88.57%\n",
      "Moved extracted_face_IMG_8800.JPEG_8.png to TOO_SIMILAR - Similarity: 86.79%\n",
      "Moved extracted_face_IMG_8800.JPEG_9.png to TOO_SIMILAR - Similarity: 80.42%\n",
      "Moved extracted_face_IMG_8801.JPEG_0.png to TOO_SIMILAR - Similarity: 84.42%\n",
      "Moved extracted_face_IMG_8801.JPEG_1.png to TOO_SIMILAR - Similarity: 83.76%\n",
      "Moved extracted_face_IMG_8801.JPEG_10.png to TOO_SIMILAR - Similarity: 88.46%\n",
      "Moved extracted_face_IMG_8801.JPEG_11.png to TOO_SIMILAR - Similarity: 81.78%\n",
      "Moved extracted_face_IMG_8801.JPEG_12.png to TOO_SIMILAR - Similarity: 80.34%\n",
      "Moved extracted_face_IMG_8801.JPEG_3.png to TOO_SIMILAR - Similarity: 82.87%\n",
      "Moved extracted_face_IMG_8801.JPEG_4.png to TOO_SIMILAR - Similarity: 87.92%\n",
      "Moved extracted_face_IMG_8801.JPEG_5.png to TOO_SIMILAR - Similarity: 81.94%\n"
     ]
    },
    {
     "name": "stderr",
     "output_type": "stream",
     "text": [
      "Analyzing Similarity:  93%|█████████▎| 11026/11826 [03:13<00:11, 68.12it/s]"
     ]
    },
    {
     "name": "stdout",
     "output_type": "stream",
     "text": [
      "Moved extracted_face_IMG_8801.JPEG_6.png to TOO_SIMILAR - Similarity: 88.58%\n",
      "Moved extracted_face_IMG_8801.JPEG_7.png to TOO_SIMILAR - Similarity: 85.48%\n",
      "Moved extracted_face_IMG_8801.JPEG_9.png to TOO_SIMILAR - Similarity: 85.13%\n",
      "Moved extracted_face_IMG_8802.JPEG_0.png to TOO_SIMILAR - Similarity: 82.80%\n",
      "Moved extracted_face_IMG_8802.JPEG_1.png to TOO_SIMILAR - Similarity: 82.73%\n",
      "Moved extracted_face_IMG_8802.JPEG_10.png to TOO_SIMILAR - Similarity: 82.65%\n",
      "Moved extracted_face_IMG_8802.JPEG_11.png to TOO_SIMILAR - Similarity: 88.33%\n",
      "Moved extracted_face_IMG_8802.JPEG_2.png to TOO_SIMILAR - Similarity: 87.54%\n",
      "Moved extracted_face_IMG_8802.JPEG_3.png to TOO_SIMILAR - Similarity: 87.00%\n"
     ]
    },
    {
     "name": "stderr",
     "output_type": "stream",
     "text": [
      "Analyzing Similarity:  93%|█████████▎| 11040/11826 [03:13<00:13, 57.53it/s]"
     ]
    },
    {
     "name": "stdout",
     "output_type": "stream",
     "text": [
      "Moved extracted_face_IMG_8802.JPEG_4.png to TOO_SIMILAR - Similarity: 83.68%\n",
      "Moved extracted_face_IMG_8802.JPEG_6.png to TOO_SIMILAR - Similarity: 88.31%\n",
      "Moved extracted_face_IMG_8802.JPEG_7.png to TOO_SIMILAR - Similarity: 80.93%\n",
      "Moved extracted_face_IMG_8802.JPEG_8.png to TOO_SIMILAR - Similarity: 81.85%\n",
      "Moved extracted_face_IMG_8802.JPEG_9.png to TOO_SIMILAR - Similarity: 85.73%\n",
      "Moved extracted_face_IMG_8835.JPEG_1.png to TOO_SIMILAR - Similarity: 81.33%\n",
      "Moved extracted_face_IMG_8835.JPEG_3.png to TOO_SIMILAR - Similarity: 82.45%\n",
      "Moved extracted_face_IMG_8886.JPG_0.png to TOO_SIMILAR - Similarity: 81.30%\n",
      "Moved extracted_face_IMG_8904.JPG_1.png to TOO_SIMILAR - Similarity: 82.52%\n"
     ]
    },
    {
     "name": "stderr",
     "output_type": "stream",
     "text": [
      "Analyzing Similarity:  93%|█████████▎| 11055/11826 [03:13<00:12, 61.48it/s]"
     ]
    },
    {
     "name": "stdout",
     "output_type": "stream",
     "text": [
      "Moved extracted_face_IMG_8924.JPG_1.png to TOO_SIMILAR - Similarity: 85.21%\n",
      "Moved extracted_face_IMG_8944.JPG_1.png to TOO_SIMILAR - Similarity: 84.26%\n",
      "Moved extracted_face_IMG_8964.JPG_0.png to TOO_SIMILAR - Similarity: 85.10%\n",
      "Moved extracted_face_IMG_9054.JPG_1.png to TOO_SIMILAR - Similarity: 83.78%\n",
      "Moved extracted_face_IMG_9054.JPG_3.png to TOO_SIMILAR - Similarity: 84.38%\n",
      "Moved extracted_face_IMG_9094.JPEG_0.png to TOO_SIMILAR - Similarity: 83.33%\n"
     ]
    },
    {
     "name": "stderr",
     "output_type": "stream",
     "text": [
      "Analyzing Similarity:  94%|█████████▎| 11078/11826 [03:14<00:11, 67.51it/s]"
     ]
    },
    {
     "name": "stdout",
     "output_type": "stream",
     "text": [
      "Moved extracted_face_IMG_9138.JPEG_1.png to TOO_SIMILAR - Similarity: 83.49%\n",
      "Moved extracted_face_IMG_9138.JPEG_2.png to TOO_SIMILAR - Similarity: 87.10%\n",
      "Moved extracted_face_IMG_9139.JPEG_0.png to TOO_SIMILAR - Similarity: 83.52%\n",
      "Moved extracted_face_IMG_9139.JPEG_2.png to TOO_SIMILAR - Similarity: 88.11%\n",
      "Moved extracted_face_IMG_9139.JPEG_3.png to TOO_SIMILAR - Similarity: 89.85%\n",
      "Moved extracted_face_IMG_9140.JPEG_1.png to TOO_SIMILAR - Similarity: 84.02%\n",
      "Moved extracted_face_IMG_9159.JPEG_0.png to TOO_SIMILAR - Similarity: 80.84%\n",
      "Moved extracted_face_IMG_9160.JPEG_0.png to TOO_SIMILAR - Similarity: 82.49%\n"
     ]
    },
    {
     "name": "stderr",
     "output_type": "stream",
     "text": [
      "Analyzing Similarity:  94%|█████████▍| 11101/11826 [03:14<00:10, 70.44it/s]"
     ]
    },
    {
     "name": "stdout",
     "output_type": "stream",
     "text": [
      "Moved extracted_face_IMG_9177.PNG_0.png to TOO_SIMILAR - Similarity: 81.99%\n",
      "Moved extracted_face_IMG_9177.PNG_11.png to TOO_SIMILAR - Similarity: 82.41%\n",
      "Moved extracted_face_IMG_9177.PNG_13.png to TOO_SIMILAR - Similarity: 81.02%\n",
      "Moved extracted_face_IMG_9177.PNG_14.png to TOO_SIMILAR - Similarity: 80.47%\n",
      "Moved extracted_face_IMG_9177.PNG_17.png to TOO_SIMILAR - Similarity: 83.67%\n",
      "Moved extracted_face_IMG_9177.PNG_19.png to TOO_SIMILAR - Similarity: 86.65%\n",
      "Moved extracted_face_IMG_9177.PNG_20.png to TOO_SIMILAR - Similarity: 82.93%\n",
      "Moved extracted_face_IMG_9177.PNG_22.png to TOO_SIMILAR - Similarity: 88.93%\n",
      "Moved extracted_face_IMG_9177.PNG_24.png to TOO_SIMILAR - Similarity: 88.22%\n"
     ]
    },
    {
     "name": "stderr",
     "output_type": "stream",
     "text": [
      "Analyzing Similarity:  94%|█████████▍| 11117/11826 [03:14<00:09, 73.88it/s]"
     ]
    },
    {
     "name": "stdout",
     "output_type": "stream",
     "text": [
      "Moved extracted_face_IMG_9177.PNG_29.png to TOO_SIMILAR - Similarity: 84.04%\n",
      "Moved extracted_face_IMG_9177.PNG_30.png to TOO_SIMILAR - Similarity: 80.00%\n",
      "Moved extracted_face_IMG_9177.PNG_33.png to TOO_SIMILAR - Similarity: 84.16%\n",
      "Moved extracted_face_IMG_9177.PNG_34.png to TOO_SIMILAR - Similarity: 80.44%\n",
      "Moved extracted_face_IMG_9177.PNG_5.png to TOO_SIMILAR - Similarity: 80.13%\n",
      "Moved extracted_face_IMG_9177.PNG_8.png to TOO_SIMILAR - Similarity: 82.26%\n",
      "Moved extracted_face_IMG_9224.JPEG_0.png to TOO_SIMILAR - Similarity: 84.72%\n",
      "Moved extracted_face_IMG_9224.JPEG_2.png to TOO_SIMILAR - Similarity: 88.37%\n"
     ]
    },
    {
     "name": "stderr",
     "output_type": "stream",
     "text": [
      "Analyzing Similarity:  94%|█████████▍| 11134/11826 [03:14<00:09, 73.49it/s]"
     ]
    },
    {
     "name": "stdout",
     "output_type": "stream",
     "text": [
      "Moved extracted_face_IMG_9225.JPEG_2.png to TOO_SIMILAR - Similarity: 84.01%\n",
      "Moved extracted_face_IMG_9226.JPEG_1.png to TOO_SIMILAR - Similarity: 88.10%\n",
      "Moved extracted_face_IMG_9226.JPEG_2.png to TOO_SIMILAR - Similarity: 82.19%\n",
      "Moved extracted_face_IMG_9227.JPEG_1.png to TOO_SIMILAR - Similarity: 82.62%\n",
      "Moved extracted_face_IMG_9227.JPEG_2.png to TOO_SIMILAR - Similarity: 86.32%\n",
      "Moved extracted_face_IMG_9227.JPEG_3.png to TOO_SIMILAR - Similarity: 82.19%\n",
      "Moved extracted_face_IMG_9228.JPEG_0.png to TOO_SIMILAR - Similarity: 83.83%\n",
      "Moved extracted_face_IMG_9228.JPEG_2.png to TOO_SIMILAR - Similarity: 84.68%\n",
      "Moved extracted_face_IMG_9228.JPEG_3.png to TOO_SIMILAR - Similarity: 82.89%\n",
      "Moved extracted_face_IMG_9229.JPEG_0.png to TOO_SIMILAR - Similarity: 86.38%\n",
      "Moved extracted_face_IMG_9229.JPEG_2.png to TOO_SIMILAR - Similarity: 81.44%\n",
      "Moved extracted_face_IMG_9229.JPEG_3.png to TOO_SIMILAR - Similarity: 87.21%\n"
     ]
    },
    {
     "name": "stderr",
     "output_type": "stream",
     "text": [
      "Analyzing Similarity:  94%|█████████▍| 11142/11826 [03:15<00:09, 72.73it/s]"
     ]
    },
    {
     "name": "stdout",
     "output_type": "stream",
     "text": [
      "Moved extracted_face_IMG_9230.JPEG_0.png to TOO_SIMILAR - Similarity: 82.66%\n",
      "Moved extracted_face_IMG_9230.JPEG_1.png to TOO_SIMILAR - Similarity: 86.90%\n",
      "Moved extracted_face_IMG_9230.JPEG_3.png to TOO_SIMILAR - Similarity: 82.23%\n"
     ]
    },
    {
     "name": "stderr",
     "output_type": "stream",
     "text": [
      "Analyzing Similarity:  94%|█████████▍| 11157/11826 [03:15<00:12, 53.14it/s]"
     ]
    },
    {
     "name": "stdout",
     "output_type": "stream",
     "text": [
      "Moved extracted_face_IMG_9299.JPEG_0.png to TOO_SIMILAR - Similarity: 87.39%\n",
      "Moved extracted_face_IMG_9299.JPEG_2.png to TOO_SIMILAR - Similarity: 88.13%\n",
      "Moved extracted_face_IMG_9300.JPEG_0.png to TOO_SIMILAR - Similarity: 81.47%\n",
      "Moved extracted_face_IMG_9300.JPEG_1.png to TOO_SIMILAR - Similarity: 84.80%\n",
      "Moved extracted_face_IMG_9300.JPEG_3.png to TOO_SIMILAR - Similarity: 87.46%\n"
     ]
    },
    {
     "name": "stderr",
     "output_type": "stream",
     "text": [
      "Analyzing Similarity:  94%|█████████▍| 11164/11826 [03:15<00:11, 55.99it/s]"
     ]
    },
    {
     "name": "stdout",
     "output_type": "stream",
     "text": [
      "Moved extracted_face_IMG_9300.JPEG_5.png to TOO_SIMILAR - Similarity: 83.84%\n",
      "Moved extracted_face_IMG_9301.JPEG_0.png to TOO_SIMILAR - Similarity: 84.62%\n",
      "Moved extracted_face_IMG_9301.JPEG_1.png to TOO_SIMILAR - Similarity: 83.86%\n",
      "Moved extracted_face_IMG_9301.JPEG_4.png to TOO_SIMILAR - Similarity: 86.23%\n",
      "Moved extracted_face_IMG_9301.JPEG_5.png to TOO_SIMILAR - Similarity: 80.40%\n",
      "Moved extracted_face_IMG_9302.JPEG_0.png to TOO_SIMILAR - Similarity: 83.03%\n",
      "Moved extracted_face_IMG_9302.JPEG_1.png to TOO_SIMILAR - Similarity: 85.27%\n",
      "Moved extracted_face_IMG_9302.JPEG_3.png to TOO_SIMILAR - Similarity: 85.61%\n",
      "Moved extracted_face_IMG_9302.JPEG_4.png to TOO_SIMILAR - Similarity: 80.99%\n",
      "Moved extracted_face_IMG_9303.JPEG_0.png to TOO_SIMILAR - Similarity: 81.12%\n"
     ]
    },
    {
     "name": "stderr",
     "output_type": "stream",
     "text": [
      "Analyzing Similarity:  95%|█████████▍| 11179/11826 [03:15<00:11, 58.57it/s]"
     ]
    },
    {
     "name": "stdout",
     "output_type": "stream",
     "text": [
      "Moved extracted_face_IMG_9303.JPEG_1.png to TOO_SIMILAR - Similarity: 83.81%\n",
      "Moved extracted_face_IMG_9303.JPEG_2.png to TOO_SIMILAR - Similarity: 86.71%\n",
      "Moved extracted_face_IMG_9303.JPEG_3.png to TOO_SIMILAR - Similarity: 81.18%\n",
      "Moved extracted_face_IMG_9303.JPEG_4.png to TOO_SIMILAR - Similarity: 81.18%\n",
      "Moved extracted_face_IMG_9304.JPEG_0.png to TOO_SIMILAR - Similarity: 80.64%\n",
      "Moved extracted_face_IMG_9304.JPEG_1.png to TOO_SIMILAR - Similarity: 84.84%\n",
      "Moved extracted_face_IMG_9304.JPEG_2.png to TOO_SIMILAR - Similarity: 86.93%\n",
      "Moved extracted_face_IMG_9304.JPEG_3.png to TOO_SIMILAR - Similarity: 81.50%\n",
      "Moved extracted_face_IMG_9305.JPEG_0.png to TOO_SIMILAR - Similarity: 82.19%\n",
      "Moved extracted_face_IMG_9305.JPEG_1.png to TOO_SIMILAR - Similarity: 85.60%\n",
      "Moved extracted_face_IMG_9305.JPEG_2.png to TOO_SIMILAR - Similarity: 81.99%\n"
     ]
    },
    {
     "name": "stderr",
     "output_type": "stream",
     "text": [
      "Analyzing Similarity:  95%|█████████▍| 11193/11826 [03:15<00:10, 57.91it/s]"
     ]
    },
    {
     "name": "stdout",
     "output_type": "stream",
     "text": [
      "Moved extracted_face_IMG_9305.JPEG_4.png to TOO_SIMILAR - Similarity: 87.84%\n",
      "Moved extracted_face_IMG_9306.JPEG_0.png to TOO_SIMILAR - Similarity: 82.19%\n",
      "Moved extracted_face_IMG_9306.JPEG_1.png to TOO_SIMILAR - Similarity: 86.78%\n",
      "Moved extracted_face_IMG_9306.JPEG_2.png to TOO_SIMILAR - Similarity: 80.90%\n",
      "Moved extracted_face_IMG_9306.JPEG_3.png to TOO_SIMILAR - Similarity: 80.72%\n",
      "Moved extracted_face_IMG_9306.JPEG_5.png to TOO_SIMILAR - Similarity: 87.74%\n",
      "Moved extracted_face_IMG_9307.JPEG_0.png to TOO_SIMILAR - Similarity: 84.98%\n",
      "Moved extracted_face_IMG_9307.JPEG_1.png to TOO_SIMILAR - Similarity: 86.40%\n",
      "Moved extracted_face_IMG_9307.JPEG_2.png to TOO_SIMILAR - Similarity: 87.32%\n",
      "Moved extracted_face_IMG_9307.JPEG_3.png to TOO_SIMILAR - Similarity: 82.17%\n",
      "Moved extracted_face_IMG_9307.JPEG_4.png to TOO_SIMILAR - Similarity: 81.28%\n"
     ]
    },
    {
     "name": "stderr",
     "output_type": "stream",
     "text": [
      "Analyzing Similarity:  95%|█████████▍| 11207/11826 [03:16<00:10, 57.88it/s]"
     ]
    },
    {
     "name": "stdout",
     "output_type": "stream",
     "text": [
      "Moved extracted_face_IMG_9308.JPEG_0.png to TOO_SIMILAR - Similarity: 85.64%\n",
      "Moved extracted_face_IMG_9308.JPEG_1.png to TOO_SIMILAR - Similarity: 82.41%\n",
      "Moved extracted_face_IMG_9308.JPEG_2.png to TOO_SIMILAR - Similarity: 85.40%\n",
      "Moved extracted_face_IMG_9308.JPEG_3.png to TOO_SIMILAR - Similarity: 85.39%\n",
      "Moved extracted_face_IMG_9308.JPEG_4.png to TOO_SIMILAR - Similarity: 83.89%\n",
      "Moved extracted_face_IMG_9323.JPEG_1.png to TOO_SIMILAR - Similarity: 86.11%\n",
      "Moved extracted_face_IMG_9323.JPEG_5.png to TOO_SIMILAR - Similarity: 81.70%\n"
     ]
    },
    {
     "name": "stderr",
     "output_type": "stream",
     "text": [
      "Analyzing Similarity:  95%|█████████▍| 11222/11826 [03:16<00:09, 62.59it/s]"
     ]
    },
    {
     "name": "stdout",
     "output_type": "stream",
     "text": [
      "Moved extracted_face_IMG_9324.JPEG_0.png to TOO_SIMILAR - Similarity: 86.05%\n",
      "Moved extracted_face_IMG_9324.JPEG_5.png to TOO_SIMILAR - Similarity: 81.70%\n",
      "Moved extracted_face_IMG_9324.JPEG_6.png to TOO_SIMILAR - Similarity: 82.02%\n",
      "Moved extracted_face_IMG_9325.JPEG_0.png to TOO_SIMILAR - Similarity: 86.18%\n",
      "Moved extracted_face_IMG_9325.JPEG_3.png to TOO_SIMILAR - Similarity: 83.61%\n",
      "Moved extracted_face_IMG_9326.JPEG_0.png to TOO_SIMILAR - Similarity: 85.49%\n"
     ]
    },
    {
     "name": "stderr",
     "output_type": "stream",
     "text": [
      "Analyzing Similarity:  95%|█████████▍| 11229/11826 [03:16<00:09, 61.81it/s]"
     ]
    },
    {
     "name": "stdout",
     "output_type": "stream",
     "text": [
      "Moved extracted_face_IMG_9326.JPEG_3.png to TOO_SIMILAR - Similarity: 80.08%\n",
      "Moved extracted_face_IMG_9326.JPEG_5.png to TOO_SIMILAR - Similarity: 83.36%\n",
      "Moved extracted_face_IMG_9327.JPEG_1.png to TOO_SIMILAR - Similarity: 84.89%\n",
      "Moved extracted_face_IMG_9327.JPEG_2.png to TOO_SIMILAR - Similarity: 80.76%\n",
      "Moved extracted_face_IMG_9327.JPEG_4.png to TOO_SIMILAR - Similarity: 80.06%\n"
     ]
    },
    {
     "name": "stderr",
     "output_type": "stream",
     "text": [
      "Analyzing Similarity:  95%|█████████▌| 11242/11826 [03:16<00:12, 48.15it/s]"
     ]
    },
    {
     "name": "stdout",
     "output_type": "stream",
     "text": [
      "Moved extracted_face_IMG_9327.JPEG_5.png to TOO_SIMILAR - Similarity: 80.89%\n",
      "Moved extracted_face_IMG_9329.PNG_4.png to TOO_SIMILAR - Similarity: 88.11%\n",
      "Moved extracted_face_IMG_9329.PNG_5.png to TOO_SIMILAR - Similarity: 81.34%\n",
      "Moved extracted_face_IMG_9329.PNG_8.png to TOO_SIMILAR - Similarity: 81.65%\n"
     ]
    },
    {
     "name": "stderr",
     "output_type": "stream",
     "text": [
      "Analyzing Similarity:  95%|█████████▌| 11263/11826 [03:17<00:09, 59.66it/s]"
     ]
    },
    {
     "name": "stdout",
     "output_type": "stream",
     "text": [
      "Moved extracted_face_IMG_9344.JPEG_9.png to TOO_SIMILAR - Similarity: 82.02%\n",
      "Moved extracted_face_IMG_9414.JPEG_0.png to TOO_SIMILAR - Similarity: 80.19%\n",
      "Moved extracted_face_IMG_9415.JPEG_0.png to TOO_SIMILAR - Similarity: 81.58%\n",
      "Moved extracted_face_IMG_9416.JPEG_0.png to TOO_SIMILAR - Similarity: 83.45%\n",
      "Moved extracted_face_IMG_9431.JPEG_0.png to TOO_SIMILAR - Similarity: 80.84%\n",
      "Moved extracted_face_IMG_9435.JPEG_1.png to TOO_SIMILAR - Similarity: 87.45%\n",
      "Moved extracted_face_IMG_9446.JPEG_2.png to TOO_SIMILAR - Similarity: 84.22%\n",
      "Moved extracted_face_IMG_9446.JPEG_3.png to TOO_SIMILAR - Similarity: 86.96%\n",
      "Moved extracted_face_IMG_9482.JPEG_0.png to TOO_SIMILAR - Similarity: 84.68%\n"
     ]
    },
    {
     "name": "stderr",
     "output_type": "stream",
     "text": [
      "Analyzing Similarity:  95%|█████████▌| 11277/11826 [03:17<00:08, 62.34it/s]"
     ]
    },
    {
     "name": "stdout",
     "output_type": "stream",
     "text": [
      "Moved extracted_face_IMG_9488.JPEG_0.png to TOO_SIMILAR - Similarity: 86.11%\n",
      "Moved extracted_face_IMG_9488.JPEG_3.png to TOO_SIMILAR - Similarity: 80.32%\n",
      "Moved extracted_face_IMG_9489.JPEG_0.png to TOO_SIMILAR - Similarity: 86.29%\n",
      "Moved extracted_face_IMG_9490.JPEG_1.png to TOO_SIMILAR - Similarity: 85.27%\n",
      "Moved extracted_face_IMG_9515.JPEG_1.png to TOO_SIMILAR - Similarity: 83.58%\n",
      "Moved extracted_face_IMG_9515.JPEG_10.png to TOO_SIMILAR - Similarity: 82.64%\n"
     ]
    },
    {
     "name": "stderr",
     "output_type": "stream",
     "text": [
      "Analyzing Similarity:  95%|█████████▌| 11293/11826 [03:17<00:07, 68.10it/s]"
     ]
    },
    {
     "name": "stdout",
     "output_type": "stream",
     "text": [
      "Moved extracted_face_IMG_9515.JPEG_13.png to TOO_SIMILAR - Similarity: 83.37%\n",
      "Moved extracted_face_IMG_9515.JPEG_14.png to TOO_SIMILAR - Similarity: 86.76%\n",
      "Moved extracted_face_IMG_9515.JPEG_17.png to TOO_SIMILAR - Similarity: 83.78%\n",
      "Moved extracted_face_IMG_9515.JPEG_3.png to TOO_SIMILAR - Similarity: 81.41%\n",
      "Moved extracted_face_IMG_9515.JPEG_5.png to TOO_SIMILAR - Similarity: 85.86%\n",
      "Moved extracted_face_IMG_9515.JPEG_6.png to TOO_SIMILAR - Similarity: 83.34%\n",
      "Moved extracted_face_IMG_9515.JPEG_7.png to TOO_SIMILAR - Similarity: 80.25%\n",
      "Moved extracted_face_IMG_9515.JPEG_8.png to TOO_SIMILAR - Similarity: 80.68%\n",
      "Moved extracted_face_IMG_9515.JPEG_9.png to TOO_SIMILAR - Similarity: 81.83%\n",
      "Moved extracted_face_IMG_9516.JPEG_2.png to TOO_SIMILAR - Similarity: 85.13%\n"
     ]
    },
    {
     "name": "stderr",
     "output_type": "stream",
     "text": [
      "Analyzing Similarity:  96%|█████████▌| 11318/11826 [03:17<00:07, 72.02it/s]"
     ]
    },
    {
     "name": "stdout",
     "output_type": "stream",
     "text": [
      "Moved extracted_face_IMG_9516.JPEG_6.png to TOO_SIMILAR - Similarity: 80.74%\n",
      "Moved extracted_face_IMG_9516.JPEG_7.png to TOO_SIMILAR - Similarity: 83.83%\n",
      "Moved extracted_face_IMG_9517.JPEG_5.png to TOO_SIMILAR - Similarity: 85.11%\n",
      "Moved extracted_face_IMG_9517.JPEG_6.png to TOO_SIMILAR - Similarity: 81.19%\n",
      "Moved extracted_face_IMG_9517.JPEG_7.png to TOO_SIMILAR - Similarity: 81.03%\n",
      "Moved extracted_face_IMG_9579.JPEG_0.png to TOO_SIMILAR - Similarity: 84.49%\n",
      "Moved extracted_face_IMG_9580.JPEG_0.png to TOO_SIMILAR - Similarity: 85.54%\n"
     ]
    },
    {
     "name": "stderr",
     "output_type": "stream",
     "text": [
      "Analyzing Similarity:  96%|█████████▌| 11334/11826 [03:18<00:07, 69.53it/s]"
     ]
    },
    {
     "name": "stdout",
     "output_type": "stream",
     "text": [
      "Moved extracted_face_IMG_9583.JPEG_0.png to TOO_SIMILAR - Similarity: 80.52%\n",
      "Moved extracted_face_IMG_9583.JPEG_3.png to TOO_SIMILAR - Similarity: 81.25%\n",
      "Moved extracted_face_IMG_9584.JPEG_0.png to TOO_SIMILAR - Similarity: 80.22%\n",
      "Moved extracted_face_IMG_9584.JPEG_2.png to TOO_SIMILAR - Similarity: 80.34%\n"
     ]
    },
    {
     "name": "stderr",
     "output_type": "stream",
     "text": [
      "Analyzing Similarity:  96%|█████████▌| 11342/11826 [03:18<00:07, 68.81it/s]"
     ]
    },
    {
     "name": "stdout",
     "output_type": "stream",
     "text": [
      "Moved extracted_face_IMG_9592.JPEG_0.png to TOO_SIMILAR - Similarity: 81.71%\n",
      "Moved extracted_face_IMG_9592.JPEG_2.png to TOO_SIMILAR - Similarity: 81.66%\n",
      "Moved extracted_face_IMG_9592.JPEG_4.png to TOO_SIMILAR - Similarity: 80.14%\n",
      "Moved extracted_face_IMG_9592.JPEG_6.png to TOO_SIMILAR - Similarity: 86.66%\n",
      "Moved extracted_face_IMG_9593.JPEG_2.png to TOO_SIMILAR - Similarity: 82.23%\n",
      "Moved extracted_face_IMG_9593.JPEG_4.png to TOO_SIMILAR - Similarity: 86.98%\n",
      "Moved extracted_face_IMG_9593.JPEG_5.png to TOO_SIMILAR - Similarity: 80.47%\n",
      "Moved extracted_face_IMG_9594.JPEG_0.png to TOO_SIMILAR - Similarity: 81.47%\n"
     ]
    },
    {
     "name": "stderr",
     "output_type": "stream",
     "text": [
      "Analyzing Similarity:  96%|█████████▌| 11356/11826 [03:18<00:06, 68.07it/s]"
     ]
    },
    {
     "name": "stdout",
     "output_type": "stream",
     "text": [
      "Moved extracted_face_IMG_9594.JPEG_2.png to TOO_SIMILAR - Similarity: 86.97%\n",
      "Moved extracted_face_IMG_9594.JPEG_4.png to TOO_SIMILAR - Similarity: 80.80%\n",
      "Moved extracted_face_IMG_9594.JPEG_6.png to TOO_SIMILAR - Similarity: 86.79%\n",
      "Moved extracted_face_IMG_9594.JPEG_7.png to TOO_SIMILAR - Similarity: 82.40%\n",
      "Moved extracted_face_IMG_9594.JPEG_8.png to TOO_SIMILAR - Similarity: 84.05%\n",
      "Moved extracted_face_IMG_9595.JPEG_3.png to TOO_SIMILAR - Similarity: 86.72%\n",
      "Moved extracted_face_IMG_9595.JPEG_4.png to TOO_SIMILAR - Similarity: 81.75%\n",
      "Moved extracted_face_IMG_9595.JPEG_5.png to TOO_SIMILAR - Similarity: 86.04%\n",
      "Moved extracted_face_IMG_9595.JPEG_6.png to TOO_SIMILAR - Similarity: 84.65%\n",
      "Moved extracted_face_IMG_9596.JPEG_0.png to TOO_SIMILAR - Similarity: 81.25%\n"
     ]
    },
    {
     "name": "stderr",
     "output_type": "stream",
     "text": [
      "Analyzing Similarity:  96%|█████████▌| 11373/11826 [03:18<00:06, 70.58it/s]"
     ]
    },
    {
     "name": "stdout",
     "output_type": "stream",
     "text": [
      "Moved extracted_face_IMG_9596.JPEG_2.png to TOO_SIMILAR - Similarity: 86.78%\n",
      "Moved extracted_face_IMG_9596.JPEG_4.png to TOO_SIMILAR - Similarity: 80.22%\n",
      "Moved extracted_face_IMG_9596.JPEG_5.png to TOO_SIMILAR - Similarity: 84.96%\n",
      "Moved extracted_face_IMG_9597.JPEG_2.png to TOO_SIMILAR - Similarity: 80.99%\n",
      "Moved extracted_face_IMG_9597.JPEG_3.png to TOO_SIMILAR - Similarity: 86.38%\n",
      "Moved extracted_face_IMG_9598.JPEG_0.png to TOO_SIMILAR - Similarity: 84.29%\n",
      "Moved extracted_face_IMG_9598.JPEG_3.png to TOO_SIMILAR - Similarity: 80.82%\n"
     ]
    },
    {
     "name": "stderr",
     "output_type": "stream",
     "text": [
      "Analyzing Similarity:  96%|█████████▋| 11397/11826 [03:19<00:05, 72.96it/s]"
     ]
    },
    {
     "name": "stdout",
     "output_type": "stream",
     "text": [
      "Moved extracted_face_IMG_9600.JPEG_3.png to TOO_SIMILAR - Similarity: 80.73%\n",
      "Moved extracted_face_IMG_9604.JPEG_0.png to TOO_SIMILAR - Similarity: 82.67%\n",
      "Moved extracted_face_IMG_9605.JPEG_1.png to TOO_SIMILAR - Similarity: 80.21%\n",
      "Moved extracted_face_IMG_9605.JPEG_2.png to TOO_SIMILAR - Similarity: 86.32%\n"
     ]
    },
    {
     "name": "stderr",
     "output_type": "stream",
     "text": [
      "Analyzing Similarity:  96%|█████████▋| 11405/11826 [03:19<00:05, 72.95it/s]"
     ]
    },
    {
     "name": "stdout",
     "output_type": "stream",
     "text": [
      "Moved extracted_face_IMG_9615.JPEG_0.png to TOO_SIMILAR - Similarity: 81.65%\n",
      "Moved extracted_face_IMG_9616.JPEG_0.png to TOO_SIMILAR - Similarity: 81.99%\n",
      "Moved extracted_face_IMG_9617.JPEG_1.png to TOO_SIMILAR - Similarity: 82.24%\n",
      "Moved extracted_face_IMG_9619.JPEG_1.png to TOO_SIMILAR - Similarity: 82.04%\n",
      "Moved extracted_face_IMG_9620.JPEG_1.png to TOO_SIMILAR - Similarity: 81.48%\n",
      "Moved extracted_face_IMG_9621.JPEG_0.png to TOO_SIMILAR - Similarity: 82.38%\n",
      "Moved extracted_face_IMG_9628.JPEG_0.png to TOO_SIMILAR - Similarity: 80.87%\n"
     ]
    },
    {
     "name": "stderr",
     "output_type": "stream",
     "text": [
      "Analyzing Similarity:  97%|█████████▋| 11422/11826 [03:19<00:05, 70.99it/s]"
     ]
    },
    {
     "name": "stdout",
     "output_type": "stream",
     "text": [
      "Moved extracted_face_IMG_9628.JPEG_1.png to TOO_SIMILAR - Similarity: 85.41%\n",
      "Moved extracted_face_IMG_9629.JPEG_1.png to TOO_SIMILAR - Similarity: 84.17%\n",
      "Moved extracted_face_IMG_9630.JPEG_3.png to TOO_SIMILAR - Similarity: 83.40%\n",
      "Moved extracted_face_IMG_9631.JPEG_0.png to TOO_SIMILAR - Similarity: 83.39%\n"
     ]
    },
    {
     "name": "stderr",
     "output_type": "stream",
     "text": [
      "Analyzing Similarity:  97%|█████████▋| 11438/11826 [03:19<00:05, 65.55it/s]"
     ]
    },
    {
     "name": "stdout",
     "output_type": "stream",
     "text": [
      "Moved extracted_face_IMG_9631.JPEG_2.png to TOO_SIMILAR - Similarity: 82.05%\n",
      "Moved extracted_face_IMG_9632.JPEG_0.png to TOO_SIMILAR - Similarity: 82.82%\n",
      "Moved extracted_face_IMG_9633.JPEG_0.png to TOO_SIMILAR - Similarity: 80.94%\n",
      "Moved extracted_face_IMG_9633.JPEG_2.png to TOO_SIMILAR - Similarity: 82.33%\n",
      "Moved extracted_face_IMG_9634.JPEG_0.png to TOO_SIMILAR - Similarity: 83.35%\n",
      "Moved extracted_face_IMG_9634.JPEG_4.png to TOO_SIMILAR - Similarity: 85.28%\n"
     ]
    },
    {
     "name": "stderr",
     "output_type": "stream",
     "text": [
      "Analyzing Similarity:  97%|█████████▋| 11452/11826 [03:19<00:05, 66.67it/s]"
     ]
    },
    {
     "name": "stdout",
     "output_type": "stream",
     "text": [
      "Moved extracted_face_IMG_9634.JPEG_5.png to TOO_SIMILAR - Similarity: 83.13%\n",
      "Moved extracted_face_IMG_9635.JPEG_0.png to TOO_SIMILAR - Similarity: 82.06%\n",
      "Moved extracted_face_IMG_9635.JPEG_5.png to TOO_SIMILAR - Similarity: 83.52%\n",
      "Moved extracted_face_IMG_9636.JPEG_1.png to TOO_SIMILAR - Similarity: 82.02%\n",
      "Moved extracted_face_IMG_9636.JPEG_3.png to TOO_SIMILAR - Similarity: 83.91%\n",
      "Moved extracted_face_IMG_9637.JPEG_1.png to TOO_SIMILAR - Similarity: 82.64%\n",
      "Moved extracted_face_IMG_9637.JPEG_2.png to TOO_SIMILAR - Similarity: 83.90%\n"
     ]
    },
    {
     "name": "stderr",
     "output_type": "stream",
     "text": [
      "Analyzing Similarity:  97%|█████████▋| 11469/11826 [03:20<00:04, 72.34it/s]"
     ]
    },
    {
     "name": "stdout",
     "output_type": "stream",
     "text": [
      "Moved extracted_face_IMG_9638.JPEG_1.png to TOO_SIMILAR - Similarity: 82.55%\n",
      "Moved extracted_face_IMG_9638.JPEG_2.png to TOO_SIMILAR - Similarity: 82.79%\n",
      "Moved extracted_face_IMG_9649.JPEG_3.png to TOO_SIMILAR - Similarity: 83.43%\n",
      "Moved extracted_face_IMG_9649.JPEG_4.png to TOO_SIMILAR - Similarity: 80.41%\n",
      "Moved extracted_face_IMG_9649.JPEG_5.png to TOO_SIMILAR - Similarity: 80.88%\n",
      "Moved extracted_face_IMG_9651.JPEG_2.png to TOO_SIMILAR - Similarity: 82.62%\n",
      "Moved extracted_face_IMG_9651.JPEG_3.png to TOO_SIMILAR - Similarity: 87.89%\n"
     ]
    },
    {
     "name": "stderr",
     "output_type": "stream",
     "text": [
      "Analyzing Similarity:  97%|█████████▋| 11485/11826 [03:20<00:04, 71.08it/s]"
     ]
    },
    {
     "name": "stdout",
     "output_type": "stream",
     "text": [
      "Moved extracted_face_IMG_9652.JPEG_2.png to TOO_SIMILAR - Similarity: 87.62%\n",
      "Moved extracted_face_IMG_9652.JPEG_3.png to TOO_SIMILAR - Similarity: 83.88%\n",
      "Moved extracted_face_IMG_9653.JPEG_2.png to TOO_SIMILAR - Similarity: 81.94%\n",
      "Moved extracted_face_IMG_9653.JPEG_3.png to TOO_SIMILAR - Similarity: 88.17%\n",
      "Moved extracted_face_IMG_9654.JPEG_2.png to TOO_SIMILAR - Similarity: 83.16%\n",
      "Moved extracted_face_IMG_9654.JPEG_3.png to TOO_SIMILAR - Similarity: 87.55%\n",
      "Moved extracted_face_IMG_9655.JPEG_0.png to TOO_SIMILAR - Similarity: 81.98%\n",
      "Moved extracted_face_IMG_9655.JPEG_2.png to TOO_SIMILAR - Similarity: 85.29%\n",
      "Moved extracted_face_IMG_9656.JPEG_1.png to TOO_SIMILAR - Similarity: 82.49%\n",
      "Moved extracted_face_IMG_9656.JPEG_2.png to TOO_SIMILAR - Similarity: 86.60%\n"
     ]
    },
    {
     "name": "stderr",
     "output_type": "stream",
     "text": [
      "Analyzing Similarity:  97%|█████████▋| 11501/11826 [03:20<00:04, 72.11it/s]"
     ]
    },
    {
     "name": "stdout",
     "output_type": "stream",
     "text": [
      "Moved extracted_face_IMG_9663.JPEG_0.png to TOO_SIMILAR - Similarity: 82.33%\n",
      "Moved extracted_face_IMG_9665.JPEG_2.png to TOO_SIMILAR - Similarity: 81.07%\n",
      "Moved extracted_face_IMG_9665.JPEG_4.png to TOO_SIMILAR - Similarity: 84.60%\n",
      "Moved extracted_face_IMG_9666.JPEG_1.png to TOO_SIMILAR - Similarity: 81.04%\n",
      "Moved extracted_face_IMG_9666.JPEG_2.png to TOO_SIMILAR - Similarity: 83.17%\n",
      "Moved extracted_face_IMG_9667.JPEG_0.png to TOO_SIMILAR - Similarity: 80.32%\n",
      "Moved extracted_face_IMG_9667.JPEG_2.png to TOO_SIMILAR - Similarity: 85.96%\n",
      "Moved extracted_face_IMG_9667.JPEG_3.png to TOO_SIMILAR - Similarity: 83.01%\n"
     ]
    },
    {
     "name": "stderr",
     "output_type": "stream",
     "text": [
      "Analyzing Similarity:  97%|█████████▋| 11518/11826 [03:20<00:04, 76.05it/s]"
     ]
    },
    {
     "name": "stdout",
     "output_type": "stream",
     "text": [
      "Moved extracted_face_IMG_9668.JPEG_2.png to TOO_SIMILAR - Similarity: 84.51%\n",
      "Moved extracted_face_IMG_9700.JPEG_0.png to TOO_SIMILAR - Similarity: 81.20%\n",
      "Moved extracted_face_IMG_9700.JPEG_1.png to TOO_SIMILAR - Similarity: 86.87%\n",
      "Moved extracted_face_IMG_9700.JPEG_3.png to TOO_SIMILAR - Similarity: 82.50%\n"
     ]
    },
    {
     "name": "stderr",
     "output_type": "stream",
     "text": [
      "Analyzing Similarity:  98%|█████████▊| 11533/11826 [03:21<00:04, 58.64it/s]"
     ]
    },
    {
     "name": "stdout",
     "output_type": "stream",
     "text": [
      "Moved extracted_face_IMG_9705.JPEG_1.png to TOO_SIMILAR - Similarity: 88.24%\n",
      "Moved extracted_face_IMG_9705.JPEG_2.png to TOO_SIMILAR - Similarity: 80.02%\n",
      "Moved extracted_face_IMG_9706.JPEG_0.png to TOO_SIMILAR - Similarity: 82.02%\n",
      "Moved extracted_face_IMG_9706.JPEG_2.png to TOO_SIMILAR - Similarity: 88.33%\n",
      "Moved extracted_face_IMG_9720.JPEG_0.png to TOO_SIMILAR - Similarity: 81.25%\n",
      "Moved extracted_face_IMG_9722.JPEG_0.png to TOO_SIMILAR - Similarity: 80.13%\n",
      "Moved extracted_face_IMG_9723.JPEG_0.png to TOO_SIMILAR - Similarity: 83.33%\n"
     ]
    },
    {
     "name": "stderr",
     "output_type": "stream",
     "text": [
      "Analyzing Similarity:  98%|█████████▊| 11547/11826 [03:21<00:04, 62.55it/s]"
     ]
    },
    {
     "name": "stdout",
     "output_type": "stream",
     "text": [
      "Moved extracted_face_IMG_9739.JPEG_1.png to TOO_SIMILAR - Similarity: 80.99%\n",
      "Moved extracted_face_IMG_9739.JPEG_3.png to TOO_SIMILAR - Similarity: 85.57%\n",
      "Moved extracted_face_IMG_9739.JPEG_5.png to TOO_SIMILAR - Similarity: 85.47%\n",
      "Moved extracted_face_IMG_9739.JPEG_8.png to TOO_SIMILAR - Similarity: 81.07%\n",
      "Moved extracted_face_IMG_9746.JPG_1.png to TOO_SIMILAR - Similarity: 84.09%\n",
      "Moved extracted_face_IMG_9746.JPG_2.png to TOO_SIMILAR - Similarity: 84.54%\n"
     ]
    },
    {
     "name": "stderr",
     "output_type": "stream",
     "text": [
      "Analyzing Similarity:  98%|█████████▊| 11561/11826 [03:21<00:04, 60.47it/s]"
     ]
    },
    {
     "name": "stdout",
     "output_type": "stream",
     "text": [
      "Moved extracted_face_IMG_9746.JPG_3.png to TOO_SIMILAR - Similarity: 80.45%\n",
      "Moved extracted_face_IMG_9746.JPG_4.png to TOO_SIMILAR - Similarity: 80.45%\n",
      "Moved extracted_face_IMG_9807.JPEG_0.png to TOO_SIMILAR - Similarity: 81.47%\n",
      "Moved extracted_face_IMG_9807.JPEG_1.png to TOO_SIMILAR - Similarity: 81.97%\n",
      "Moved extracted_face_IMG_9810.JPEG_0.png to TOO_SIMILAR - Similarity: 83.23%\n",
      "Moved extracted_face_IMG_9814.JPEG_1.png to TOO_SIMILAR - Similarity: 82.04%\n"
     ]
    },
    {
     "name": "stderr",
     "output_type": "stream",
     "text": [
      "Analyzing Similarity:  98%|█████████▊| 11568/11826 [03:21<00:04, 60.71it/s]"
     ]
    },
    {
     "name": "stdout",
     "output_type": "stream",
     "text": [
      "Moved extracted_face_IMG_9814.JPEG_2.png to TOO_SIMILAR - Similarity: 82.91%\n",
      "Moved extracted_face_IMG_9814.JPEG_3.png to TOO_SIMILAR - Similarity: 80.91%\n",
      "Moved extracted_face_IMG_9814.JPEG_6.png to TOO_SIMILAR - Similarity: 84.58%\n",
      "Moved extracted_face_IMG_9816.JPEG_1.png to TOO_SIMILAR - Similarity: 80.90%\n"
     ]
    },
    {
     "name": "stderr",
     "output_type": "stream",
     "text": [
      "Analyzing Similarity:  98%|█████████▊| 11581/11826 [03:21<00:04, 55.34it/s]"
     ]
    },
    {
     "name": "stdout",
     "output_type": "stream",
     "text": [
      "Moved extracted_face_IMG_9816.JPEG_2.png to TOO_SIMILAR - Similarity: 86.13%\n",
      "Moved extracted_face_IMG_9816.JPEG_3.png to TOO_SIMILAR - Similarity: 85.34%\n",
      "Moved extracted_face_IMG_9817.JPEG_0.png to TOO_SIMILAR - Similarity: 80.42%\n",
      "Moved extracted_face_IMG_9817.JPEG_2.png to TOO_SIMILAR - Similarity: 80.75%\n",
      "Moved extracted_face_IMG_9817.JPEG_3.png to TOO_SIMILAR - Similarity: 81.38%\n",
      "Moved extracted_face_IMG_9818.JPEG_2.png to TOO_SIMILAR - Similarity: 80.82%\n",
      "Moved extracted_face_IMG_9819.JPEG_0.png to TOO_SIMILAR - Similarity: 84.18%\n",
      "Moved extracted_face_IMG_9819.JPEG_1.png to TOO_SIMILAR - Similarity: 83.98%\n"
     ]
    },
    {
     "name": "stderr",
     "output_type": "stream",
     "text": [
      "Analyzing Similarity:  98%|█████████▊| 11587/11826 [03:22<00:04, 56.44it/s]"
     ]
    },
    {
     "name": "stdout",
     "output_type": "stream",
     "text": [
      "Moved extracted_face_IMG_9819.JPEG_3.png to TOO_SIMILAR - Similarity: 81.48%\n",
      "Moved extracted_face_IMG_9819.JPEG_4.png to TOO_SIMILAR - Similarity: 84.00%\n"
     ]
    },
    {
     "name": "stderr",
     "output_type": "stream",
     "text": [
      "Analyzing Similarity:  98%|█████████▊| 11605/11826 [03:22<00:04, 49.91it/s]"
     ]
    },
    {
     "name": "stdout",
     "output_type": "stream",
     "text": [
      "Moved extracted_face_IMG_9831.JPEG_0.png to TOO_SIMILAR - Similarity: 80.83%\n",
      "Moved extracted_face_IMG_9831.JPEG_3.png to TOO_SIMILAR - Similarity: 86.50%\n",
      "Moved extracted_face_IMG_9831.JPEG_4.png to TOO_SIMILAR - Similarity: 80.68%\n",
      "Moved extracted_face_IMG_9831.JPEG_7.png to TOO_SIMILAR - Similarity: 82.88%\n",
      "Moved extracted_face_IMG_9832.JPEG_0.png to TOO_SIMILAR - Similarity: 80.41%\n",
      "Moved extracted_face_IMG_9832.JPEG_2.png to TOO_SIMILAR - Similarity: 81.89%\n"
     ]
    },
    {
     "name": "stderr",
     "output_type": "stream",
     "text": [
      "Analyzing Similarity:  98%|█████████▊| 11618/11826 [03:22<00:03, 54.27it/s]"
     ]
    },
    {
     "name": "stdout",
     "output_type": "stream",
     "text": [
      "Moved extracted_face_IMG_9832.JPEG_4.png to TOO_SIMILAR - Similarity: 87.48%\n",
      "Moved extracted_face_IMG_9832.JPEG_8.png to TOO_SIMILAR - Similarity: 80.18%\n",
      "Moved extracted_face_IMG_9832.JPEG_9.png to TOO_SIMILAR - Similarity: 81.41%\n",
      "Moved extracted_face_IMG_9868.JPEG_0.png to TOO_SIMILAR - Similarity: 84.45%\n",
      "Moved extracted_face_IMG_9868.JPEG_1.png to TOO_SIMILAR - Similarity: 82.30%\n",
      "Moved extracted_face_IMG_9868.JPEG_10.png to TOO_SIMILAR - Similarity: 80.99%\n",
      "Moved extracted_face_IMG_9868.JPEG_11.png to TOO_SIMILAR - Similarity: 81.25%\n",
      "Moved extracted_face_IMG_9868.JPEG_2.png to TOO_SIMILAR - Similarity: 81.99%\n",
      "Moved extracted_face_IMG_9868.JPEG_3.png to TOO_SIMILAR - Similarity: 81.66%\n",
      "Moved extracted_face_IMG_9868.JPEG_4.png to TOO_SIMILAR - Similarity: 87.16%\n"
     ]
    },
    {
     "name": "stderr",
     "output_type": "stream",
     "text": [
      "Analyzing Similarity:  98%|█████████▊| 11631/11826 [03:22<00:03, 56.19it/s]"
     ]
    },
    {
     "name": "stdout",
     "output_type": "stream",
     "text": [
      "Moved extracted_face_IMG_9868.JPEG_5.png to TOO_SIMILAR - Similarity: 87.08%\n",
      "Moved extracted_face_IMG_9868.JPEG_7.png to TOO_SIMILAR - Similarity: 80.35%\n",
      "Moved extracted_face_IMG_9868.JPEG_8.png to TOO_SIMILAR - Similarity: 84.23%\n",
      "Moved extracted_face_IMG_9868.JPEG_9.png to TOO_SIMILAR - Similarity: 84.43%\n",
      "Moved extracted_face_IMG_9876.JPEG_1.png to TOO_SIMILAR - Similarity: 85.53%\n",
      "Moved extracted_face_IMG_9876.JPEG_2.png to TOO_SIMILAR - Similarity: 84.69%\n",
      "Moved extracted_face_IMG_9877.JPEG_1.png to TOO_SIMILAR - Similarity: 86.37%\n",
      "Moved extracted_face_IMG_9877.JPEG_2.png to TOO_SIMILAR - Similarity: 83.35%\n",
      "Moved extracted_face_IMG_9877.JPEG_3.png to TOO_SIMILAR - Similarity: 80.84%\n"
     ]
    },
    {
     "name": "stderr",
     "output_type": "stream",
     "text": [
      "Analyzing Similarity:  99%|█████████▊| 11649/11826 [03:23<00:03, 55.80it/s]"
     ]
    },
    {
     "name": "stdout",
     "output_type": "stream",
     "text": [
      "Moved extracted_face_IMG_9947.JPEG_2.png to TOO_SIMILAR - Similarity: 80.38%\n",
      "Moved extracted_face_IMG_9948.JPEG_0.png to TOO_SIMILAR - Similarity: 80.07%\n",
      "Moved extracted_face_IMG_9948.JPEG_2.png to TOO_SIMILAR - Similarity: 80.41%\n",
      "Moved extracted_face_IMG_9949.JPEG_0.png to TOO_SIMILAR - Similarity: 82.86%\n",
      "Moved extracted_face_IMG_9950.JPEG_0.png to TOO_SIMILAR - Similarity: 83.22%\n",
      "Moved extracted_face_IMG_9951.JPEG_0.png to TOO_SIMILAR - Similarity: 83.15%\n",
      "Moved extracted_face_IMG_9996.JPEG_0.png to TOO_SIMILAR - Similarity: 82.99%\n"
     ]
    },
    {
     "name": "stderr",
     "output_type": "stream",
     "text": [
      "Analyzing Similarity:  99%|█████████▊| 11661/11826 [03:23<00:02, 55.62it/s]"
     ]
    },
    {
     "name": "stdout",
     "output_type": "stream",
     "text": [
      "Moved extracted_face_Maroc Hèlene François 293.JPEG_0.png to TOO_SIMILAR - Similarity: 85.70%\n",
      "Moved extracted_face_Photo 035.JPG_0.png to TOO_SIMILAR - Similarity: 81.06%\n",
      "Moved extracted_face_Photo_Classe_L2INT4%20(61).jpg_0.png to TOO_SIMILAR - Similarity: 80.83%\n",
      "Moved extracted_face_Photo_Classe_L2INT4%20(61).jpg_1.png to TOO_SIMILAR - Similarity: 84.29%\n",
      "Moved extracted_face_Photo_Classe_L2INT4%20(61).jpg_3.png to TOO_SIMILAR - Similarity: 87.85%\n",
      "Moved extracted_face_Photo_Classe_L2INT4_48.jpg_0.png to TOO_SIMILAR - Similarity: 82.04%\n",
      "Moved extracted_face_Photo_Classe_L2INT4_50.jpg_0.png to TOO_SIMILAR - Similarity: 81.69%\n",
      "Moved extracted_face_Photo_Classe_L2INT4_75.jpg_1.png to TOO_SIMILAR - Similarity: 80.75%\n",
      "Moved extracted_face_Photo_Groupe_Melaka%20(18).jpg_0.png to TOO_SIMILAR - Similarity: 83.07%\n"
     ]
    },
    {
     "name": "stderr",
     "output_type": "stream",
     "text": [
      "Analyzing Similarity:  99%|█████████▊| 11674/11826 [03:23<00:02, 56.75it/s]"
     ]
    },
    {
     "name": "stdout",
     "output_type": "stream",
     "text": [
      "Moved extracted_face_Photo_Groupe_Melaka%20(18).jpg_11.png to TOO_SIMILAR - Similarity: 80.27%\n",
      "Moved extracted_face_Photo_Groupe_Melaka%20(18).jpg_3.png to TOO_SIMILAR - Similarity: 82.91%\n",
      "Moved extracted_face_Photo_Groupe_Melaka%20(18).jpg_4.png to TOO_SIMILAR - Similarity: 85.19%\n",
      "Moved extracted_face_Photo_Groupe_Melaka%20(18).jpg_5.png to TOO_SIMILAR - Similarity: 83.14%\n",
      "Moved extracted_face_PXL_20220904_034858636.jpg_10.png to TOO_SIMILAR - Similarity: 84.51%\n"
     ]
    },
    {
     "name": "stderr",
     "output_type": "stream",
     "text": [
      "Analyzing Similarity:  99%|█████████▉| 11715/11826 [03:24<00:01, 61.22it/s]"
     ]
    },
    {
     "name": "stdout",
     "output_type": "stream",
     "text": [
      "Moved extracted_face_PXL_20220904_034903148.MP.jpg_1.png to TOO_SIMILAR - Similarity: 83.22%\n",
      "Moved extracted_face_PXL_20220904_034903148.MP.jpg_13.png to TOO_SIMILAR - Similarity: 80.56%\n",
      "Moved extracted_face_PXL_20220904_034903148.MP.jpg_15.png to TOO_SIMILAR - Similarity: 82.03%\n",
      "Moved extracted_face_PXL_20220904_034903148.MP.jpg_16.png to TOO_SIMILAR - Similarity: 83.91%\n",
      "Moved extracted_face_PXL_20220904_034903148.MP.jpg_4.png to TOO_SIMILAR - Similarity: 86.47%\n",
      "Moved extracted_face_PXL_20220904_034903148.MP.jpg_5.png to TOO_SIMILAR - Similarity: 82.72%\n"
     ]
    },
    {
     "name": "stderr",
     "output_type": "stream",
     "text": [
      "Analyzing Similarity:  99%|█████████▉| 11729/11826 [03:24<00:01, 62.68it/s]"
     ]
    },
    {
     "name": "stdout",
     "output_type": "stream",
     "text": [
      "Moved extracted_face_PXL_20220904_034903865.MP.jpg_0.png to TOO_SIMILAR - Similarity: 80.89%\n",
      "Moved extracted_face_PXL_20220904_034903865.MP.jpg_13.png to TOO_SIMILAR - Similarity: 84.37%\n",
      "Moved extracted_face_PXL_20220904_034903865.MP.jpg_15.png to TOO_SIMILAR - Similarity: 83.91%\n"
     ]
    },
    {
     "name": "stderr",
     "output_type": "stream",
     "text": [
      "Analyzing Similarity:  99%|█████████▉| 11743/11826 [03:24<00:01, 65.20it/s]"
     ]
    },
    {
     "name": "stdout",
     "output_type": "stream",
     "text": [
      "Moved extracted_face_PXL_20220904_034903865.MP.jpg_21.png to TOO_SIMILAR - Similarity: 82.92%\n",
      "Moved extracted_face_PXL_20220904_034903865.MP.jpg_22.png to TOO_SIMILAR - Similarity: 84.83%\n",
      "Moved extracted_face_PXL_20220904_034903865.MP.jpg_23.png to TOO_SIMILAR - Similarity: 83.29%\n",
      "Moved extracted_face_PXL_20220904_034903865.MP.jpg_6.png to TOO_SIMILAR - Similarity: 83.43%\n",
      "Moved extracted_face_PXL_20220904_034903865.MP.jpg_7.png to TOO_SIMILAR - Similarity: 83.82%\n",
      "Moved extracted_face_PXL_20220904_034903865.MP.jpg_9.png to TOO_SIMILAR - Similarity: 80.29%\n"
     ]
    },
    {
     "name": "stderr",
     "output_type": "stream",
     "text": [
      "Analyzing Similarity: 100%|█████████▉| 11768/11826 [03:25<00:00, 75.61it/s]"
     ]
    },
    {
     "name": "stdout",
     "output_type": "stream",
     "text": [
      "Moved extracted_face_PXL_20220909_070236817.jpg_1.png to TOO_SIMILAR - Similarity: 80.60%\n",
      "Moved extracted_face_PXL_20220910_073234085.jpg_0.png to TOO_SIMILAR - Similarity: 86.84%\n",
      "Moved extracted_face_PXL_20220910_104558992.jpg_1.png to TOO_SIMILAR - Similarity: 83.95%\n"
     ]
    },
    {
     "name": "stderr",
     "output_type": "stream",
     "text": [
      "Analyzing Similarity: 100%|█████████▉| 11785/11826 [03:25<00:00, 78.87it/s]"
     ]
    },
    {
     "name": "stdout",
     "output_type": "stream",
     "text": [
      "Moved extracted_face_PXL_20220930_060930716.MP.jpg_1.png to TOO_SIMILAR - Similarity: 83.32%\n",
      "Moved extracted_face_sans_titre-DSC09158-6.jpg_0.png to TOO_SIMILAR - Similarity: 85.77%\n",
      "Moved extracted_face_sans_titre-DSC09158-6.jpg_2.png to TOO_SIMILAR - Similarity: 85.83%\n",
      "Moved extracted_face_Studio Photo Bordeaux (01).jpg_0.png to TOO_SIMILAR - Similarity: 80.68%\n",
      "Moved extracted_face_Studio Photo Bordeaux (09).jpg_0.png to TOO_SIMILAR - Similarity: 80.43%\n",
      "Moved extracted_face_Studio Photo Bordeaux (10).jpg_0.png to TOO_SIMILAR - Similarity: 81.17%\n",
      "Moved extracted_face_Studio Photo Bordeaux (12).jpg_0.png to TOO_SIMILAR - Similarity: 85.89%\n"
     ]
    },
    {
     "name": "stderr",
     "output_type": "stream",
     "text": [
      "Analyzing Similarity: 100%|█████████▉| 11801/11826 [03:25<00:00, 73.97it/s]"
     ]
    },
    {
     "name": "stdout",
     "output_type": "stream",
     "text": [
      "Moved extracted_face_Studio Photo Bordeaux (16).jpg_0.png to TOO_SIMILAR - Similarity: 81.60%\n",
      "Moved extracted_face_Studio Photo Bordeaux (24).jpg_0.png to TOO_SIMILAR - Similarity: 81.75%\n",
      "Moved extracted_face_Studio Photo Bordeaux (24).jpg_1.png to TOO_SIMILAR - Similarity: 84.00%\n",
      "Moved extracted_face_Studio Photo Bordeaux (25).jpg_0.png to TOO_SIMILAR - Similarity: 82.97%\n",
      "Moved extracted_face_Studio Photo Bordeaux (26).jpg_0.png to TOO_SIMILAR - Similarity: 85.50%\n"
     ]
    },
    {
     "name": "stderr",
     "output_type": "stream",
     "text": [
      "Analyzing Similarity: 100%|█████████▉| 11809/11826 [03:25<00:00, 73.85it/s]"
     ]
    },
    {
     "name": "stdout",
     "output_type": "stream",
     "text": [
      "Moved extracted_face_Studio Photo Bordeaux (33).jpg_0.png to TOO_SIMILAR - Similarity: 80.21%\n",
      "Moved extracted_face_Studio Photo Bordeaux (34).jpg_0.png to TOO_SIMILAR - Similarity: 82.20%\n",
      "Moved extracted_face_Studio Photo Bordeaux (35).jpg_0.png to TOO_SIMILAR - Similarity: 84.04%\n",
      "Moved extracted_face_Studio Photo Bordeaux (37).jpg_0.png to TOO_SIMILAR - Similarity: 80.60%\n",
      "Moved extracted_face_Studio Photo Bordeaux (38).jpg_0.png to TOO_SIMILAR - Similarity: 82.53%\n"
     ]
    },
    {
     "name": "stderr",
     "output_type": "stream",
     "text": [
      "Analyzing Similarity: 100%|██████████| 11826/11826 [03:26<00:00, 57.39it/s]"
     ]
    },
    {
     "name": "stdout",
     "output_type": "stream",
     "text": [
      "Moved extracted_face_Studio Photo Bordeaux (41).jpg_0.png to TOO_SIMILAR - Similarity: 84.29%\n",
      "Moved extracted_face_Studio Photo Bordeaux (43).jpg_0.png to TOO_SIMILAR - Similarity: 81.28%\n",
      "Moved extracted_face_Studio Photo Bordeaux (44).jpg_0.png to TOO_SIMILAR - Similarity: 82.27%\n",
      "Moved extracted_face_The_greatest_picture.jpg_0.png to TOO_SIMILAR - Similarity: 84.02%\n",
      "Moved extracted_face_The_greatest_picture.jpg_2.png to TOO_SIMILAR - Similarity: 83.43%\n",
      "Moved extracted_face_The_greatest_picture.jpg_3.png to TOO_SIMILAR - Similarity: 89.49%\n",
      "Moved extracted_face_The_greatest_picture.jpg_4.png to TOO_SIMILAR - Similarity: 88.45%\n",
      "Moved extracted_face_The_greatest_picture.jpg_5.png to TOO_SIMILAR - Similarity: 86.37%\n",
      "Moved extracted_face_The_greatest_picture.jpg_7.png to TOO_SIMILAR - Similarity: 83.25%\n"
     ]
    },
    {
     "name": "stderr",
     "output_type": "stream",
     "text": [
      "\n"
     ]
    }
   ],
   "source": [
    "import os\n",
    "import shutil\n",
    "from PIL import Image\n",
    "from tqdm import tqdm\n",
    "\n",
    "def crop_image(image_path):\n",
    "    try:\n",
    "        with Image.open(image_path) as img:\n",
    "            width, height = img.size\n",
    "            # Crop 25% from the top-left corner\n",
    "            return img.crop((0, 0, width // 2, height // 2))\n",
    "    except IOError:\n",
    "        print(f\"Unable to open {image_path}. It may not be an image or is corrupted.\")\n",
    "        return None\n",
    "\n",
    "def compare_images(img1, img2):\n",
    "    # This function assumes both images are the same size and mode\n",
    "    if img1.size != img2.size or img1.mode != img2.mode:\n",
    "        return 0\n",
    "    # Calculate similarity using pixel-wise comparison\n",
    "    pairs = zip(img1.getdata(), img2.getdata())\n",
    "    if len(img1.getbands()) == 1:  # For grayscale images\n",
    "        dif = sum(abs(p1 - p2) for p1, p2 in pairs)\n",
    "    else:\n",
    "        dif = sum(abs(c1 - c2) for p1, p2 in pairs for c1, c2 in zip(p1, p2))\n",
    "    ncomponents = img1.size[0] * img1.size[1] * 3\n",
    "    similarity = (1 - dif / 255.0 / ncomponents) * 100\n",
    "    return similarity\n",
    "\n",
    "def find_similar_images(dir_path):\n",
    "    if not os.path.exists(dir_path):\n",
    "        print(\"Directory does not exist.\")\n",
    "        return\n",
    "\n",
    "    similar_dir = os.path.join(dir_path, 'TOO_SIMILAR')\n",
    "    if not os.path.exists(similar_dir):\n",
    "        os.makedirs(similar_dir)\n",
    "\n",
    "    files = [f for f in os.listdir(dir_path) if f.lower().endswith(('.png', '.jpg', '.jpeg'))]\n",
    "    reference_image_path = os.path.join(dir_path, files[0])\n",
    "    reference_image = crop_image(reference_image_path)\n",
    "\n",
    "    if reference_image is None:\n",
    "        print(f\"Skipping file {files[0]} due to load error.\")\n",
    "        return\n",
    "\n",
    "    for file in tqdm(files[1:], desc=\"Analyzing Similarity\"):\n",
    "        current_image_path = os.path.join(dir_path, file)\n",
    "        current_image = crop_image(current_image_path)\n",
    "        if current_image is not None:\n",
    "            similarity = compare_images(reference_image, current_image)\n",
    "            if similarity > 80:\n",
    "                # Move similar image to 'TOO_SIMILAR'\n",
    "                shutil.move(current_image_path, os.path.join(similar_dir, file))\n",
    "                print(f\"Moved {file} to TOO_SIMILAR - Similarity: {similarity:.2f}%\")\n",
    "\n",
    "directory_path = r'Transformed_Datasets\\NOT_Auguste_Cropped_224'\n",
    "find_similar_images(directory_path)\n"
   ]
  }
 ],
 "metadata": {
  "kernelspec": {
   "display_name": "Python 3",
   "language": "python",
   "name": "python3"
  },
  "language_info": {
   "codemirror_mode": {
    "name": "ipython",
    "version": 3
   },
   "file_extension": ".py",
   "mimetype": "text/x-python",
   "name": "python",
   "nbconvert_exporter": "python",
   "pygments_lexer": "ipython3",
   "version": "3.10.9"
  }
 },
 "nbformat": 4,
 "nbformat_minor": 2
}
