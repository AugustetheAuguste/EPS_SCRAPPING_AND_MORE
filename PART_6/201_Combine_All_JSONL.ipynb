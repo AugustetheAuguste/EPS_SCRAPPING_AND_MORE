{
 "cells": [
  {
   "cell_type": "code",
   "execution_count": 1,
   "metadata": {},
   "outputs": [
    {
     "name": "stdout",
     "output_type": "stream",
     "text": [
      "Combined 466 JSONL files into ALL_EMBEDINGS.jsonl\n"
     ]
    }
   ],
   "source": [
    "import os\n",
    "import json\n",
    "\n",
    "def find_jsonl_files(directory_path):\n",
    "    \"\"\"\n",
    "    Find all JSONL files in the given directory.\n",
    "    \n",
    "    Args:\n",
    "    directory_path (str): Path to the directory where JSONL files are located.\n",
    "    \n",
    "    Returns:\n",
    "    list: List of paths to JSONL files.\n",
    "    \"\"\"\n",
    "    jsonl_files = [os.path.join(directory_path, f) for f in os.listdir(directory_path) if f.endswith('.jsonl')]\n",
    "    return jsonl_files\n",
    "\n",
    "def combine_jsonl_files(jsonl_files, output_file):\n",
    "    \"\"\"\n",
    "    Combine all JSONL files into one JSONL file.\n",
    "    \n",
    "    Args:\n",
    "    jsonl_files (list): List of paths to JSONL files.\n",
    "    output_file (str): Path to the output JSONL file.\n",
    "    \"\"\"\n",
    "    with open(output_file, 'w') as outfile:\n",
    "        for file in jsonl_files:\n",
    "            with open(file, 'r') as infile:\n",
    "                for line in infile:\n",
    "                    outfile.write(line)\n",
    "\n",
    "if __name__ == \"__main__\":\n",
    "    directory_path = \"ALL_JSONL_FILES\"\n",
    "    output_file = \"ALL_EMBEDINGS.jsonl\"\n",
    "\n",
    "    # Find all JSONL files in the specified directory\n",
    "    jsonl_files = find_jsonl_files(directory_path)\n",
    "    \n",
    "    # Combine the JSONL files into one\n",
    "    combine_jsonl_files(jsonl_files, output_file)\n",
    "    \n",
    "    print(f\"Combined {len(jsonl_files)} JSONL files into {output_file}\")\n"
   ]
  }
 ],
 "metadata": {
  "kernelspec": {
   "display_name": "Python 3",
   "language": "python",
   "name": "python3"
  },
  "language_info": {
   "codemirror_mode": {
    "name": "ipython",
    "version": 3
   },
   "file_extension": ".py",
   "mimetype": "text/x-python",
   "name": "python",
   "nbconvert_exporter": "python",
   "pygments_lexer": "ipython3",
   "version": "3.10.9"
  }
 },
 "nbformat": 4,
 "nbformat_minor": 2
}
